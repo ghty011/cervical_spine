{
 "cells": [
  {
   "cell_type": "code",
   "execution_count": 20,
   "metadata": {
    "collapsed": true
   },
   "outputs": [],
   "source": [
    "import pandas as pd\n",
    "import json\n",
    "import time\n",
    "from datetime import datetime"
   ]
  },
  {
   "cell_type": "code",
   "execution_count": 25,
   "outputs": [
    {
     "data": {
      "text/plain": "       id  from   to  Unnamed: 3  Unnamed: 4  Unnamed: 5  Unnamed: 6  \\\n0   17524   170  173         0.0         0.0         0.0         0.0   \n1   17706    59    0         0.0         0.0         0.0         0.0   \n2   17782    59    0         0.0         0.0         0.0         0.0   \n3   17858    93   95         0.0         0.0         0.0         0.0   \n4   18060    70    0         0.0         0.0         0.0         0.0   \n5   18060   107  109         0.0         0.0         0.0         0.0   \n6   18861   291  292         0.0         0.0         0.0         0.0   \n7   18945    85   88         0.0         0.0         0.0         0.0   \n8   19304   249  252         0.0         0.0         0.0         0.0   \n9   20004   194  198         0.0         0.0         0.0         0.0   \n10  20163   108  112         0.0         0.0         0.0         0.0   \n11  20180   229  231         0.0         0.0         0.0         0.0   \n12  21171   169  176         0.0         0.0         0.0         0.0   \n13  21370   110  113         0.0         0.0         0.0         0.0   \n14  21810   218  224         0.0         0.0         0.0         0.0   \n15  22081   168  171         0.0         0.0         0.0         0.0   \n16  23431   211    0         0.0         0.0         0.0         0.0   \n17  23597    90   91         0.0         0.0         0.0         0.0   \n18  23658   200  203         0.0         0.0         0.0         0.0   \n19  23758    83   94         0.0         0.0         0.0         0.0   \n20  24317   226  233         0.0         0.0         0.0         0.0   \n\n                          UID  \n0   1.2.826.0.1.3680043.17524  \n1   1.2.826.0.1.3680043.17706  \n2   1.2.826.0.1.3680043.17782  \n3   1.2.826.0.1.3680043.17858  \n4   1.2.826.0.1.3680043.18060  \n5   1.2.826.0.1.3680043.18060  \n6   1.2.826.0.1.3680043.18861  \n7   1.2.826.0.1.3680043.18945  \n8   1.2.826.0.1.3680043.19304  \n9   1.2.826.0.1.3680043.20004  \n10  1.2.826.0.1.3680043.20163  \n11  1.2.826.0.1.3680043.20180  \n12  1.2.826.0.1.3680043.21171  \n13  1.2.826.0.1.3680043.21370  \n14  1.2.826.0.1.3680043.21810  \n15  1.2.826.0.1.3680043.22081  \n16  1.2.826.0.1.3680043.23431  \n17  1.2.826.0.1.3680043.23597  \n18  1.2.826.0.1.3680043.23658  \n19  1.2.826.0.1.3680043.23758  \n20  1.2.826.0.1.3680043.24317  ",
      "text/html": "<div>\n<style scoped>\n    .dataframe tbody tr th:only-of-type {\n        vertical-align: middle;\n    }\n\n    .dataframe tbody tr th {\n        vertical-align: top;\n    }\n\n    .dataframe thead th {\n        text-align: right;\n    }\n</style>\n<table border=\"1\" class=\"dataframe\">\n  <thead>\n    <tr style=\"text-align: right;\">\n      <th></th>\n      <th>id</th>\n      <th>from</th>\n      <th>to</th>\n      <th>Unnamed: 3</th>\n      <th>Unnamed: 4</th>\n      <th>Unnamed: 5</th>\n      <th>Unnamed: 6</th>\n      <th>UID</th>\n    </tr>\n  </thead>\n  <tbody>\n    <tr>\n      <th>0</th>\n      <td>17524</td>\n      <td>170</td>\n      <td>173</td>\n      <td>0.0</td>\n      <td>0.0</td>\n      <td>0.0</td>\n      <td>0.0</td>\n      <td>1.2.826.0.1.3680043.17524</td>\n    </tr>\n    <tr>\n      <th>1</th>\n      <td>17706</td>\n      <td>59</td>\n      <td>0</td>\n      <td>0.0</td>\n      <td>0.0</td>\n      <td>0.0</td>\n      <td>0.0</td>\n      <td>1.2.826.0.1.3680043.17706</td>\n    </tr>\n    <tr>\n      <th>2</th>\n      <td>17782</td>\n      <td>59</td>\n      <td>0</td>\n      <td>0.0</td>\n      <td>0.0</td>\n      <td>0.0</td>\n      <td>0.0</td>\n      <td>1.2.826.0.1.3680043.17782</td>\n    </tr>\n    <tr>\n      <th>3</th>\n      <td>17858</td>\n      <td>93</td>\n      <td>95</td>\n      <td>0.0</td>\n      <td>0.0</td>\n      <td>0.0</td>\n      <td>0.0</td>\n      <td>1.2.826.0.1.3680043.17858</td>\n    </tr>\n    <tr>\n      <th>4</th>\n      <td>18060</td>\n      <td>70</td>\n      <td>0</td>\n      <td>0.0</td>\n      <td>0.0</td>\n      <td>0.0</td>\n      <td>0.0</td>\n      <td>1.2.826.0.1.3680043.18060</td>\n    </tr>\n    <tr>\n      <th>5</th>\n      <td>18060</td>\n      <td>107</td>\n      <td>109</td>\n      <td>0.0</td>\n      <td>0.0</td>\n      <td>0.0</td>\n      <td>0.0</td>\n      <td>1.2.826.0.1.3680043.18060</td>\n    </tr>\n    <tr>\n      <th>6</th>\n      <td>18861</td>\n      <td>291</td>\n      <td>292</td>\n      <td>0.0</td>\n      <td>0.0</td>\n      <td>0.0</td>\n      <td>0.0</td>\n      <td>1.2.826.0.1.3680043.18861</td>\n    </tr>\n    <tr>\n      <th>7</th>\n      <td>18945</td>\n      <td>85</td>\n      <td>88</td>\n      <td>0.0</td>\n      <td>0.0</td>\n      <td>0.0</td>\n      <td>0.0</td>\n      <td>1.2.826.0.1.3680043.18945</td>\n    </tr>\n    <tr>\n      <th>8</th>\n      <td>19304</td>\n      <td>249</td>\n      <td>252</td>\n      <td>0.0</td>\n      <td>0.0</td>\n      <td>0.0</td>\n      <td>0.0</td>\n      <td>1.2.826.0.1.3680043.19304</td>\n    </tr>\n    <tr>\n      <th>9</th>\n      <td>20004</td>\n      <td>194</td>\n      <td>198</td>\n      <td>0.0</td>\n      <td>0.0</td>\n      <td>0.0</td>\n      <td>0.0</td>\n      <td>1.2.826.0.1.3680043.20004</td>\n    </tr>\n    <tr>\n      <th>10</th>\n      <td>20163</td>\n      <td>108</td>\n      <td>112</td>\n      <td>0.0</td>\n      <td>0.0</td>\n      <td>0.0</td>\n      <td>0.0</td>\n      <td>1.2.826.0.1.3680043.20163</td>\n    </tr>\n    <tr>\n      <th>11</th>\n      <td>20180</td>\n      <td>229</td>\n      <td>231</td>\n      <td>0.0</td>\n      <td>0.0</td>\n      <td>0.0</td>\n      <td>0.0</td>\n      <td>1.2.826.0.1.3680043.20180</td>\n    </tr>\n    <tr>\n      <th>12</th>\n      <td>21171</td>\n      <td>169</td>\n      <td>176</td>\n      <td>0.0</td>\n      <td>0.0</td>\n      <td>0.0</td>\n      <td>0.0</td>\n      <td>1.2.826.0.1.3680043.21171</td>\n    </tr>\n    <tr>\n      <th>13</th>\n      <td>21370</td>\n      <td>110</td>\n      <td>113</td>\n      <td>0.0</td>\n      <td>0.0</td>\n      <td>0.0</td>\n      <td>0.0</td>\n      <td>1.2.826.0.1.3680043.21370</td>\n    </tr>\n    <tr>\n      <th>14</th>\n      <td>21810</td>\n      <td>218</td>\n      <td>224</td>\n      <td>0.0</td>\n      <td>0.0</td>\n      <td>0.0</td>\n      <td>0.0</td>\n      <td>1.2.826.0.1.3680043.21810</td>\n    </tr>\n    <tr>\n      <th>15</th>\n      <td>22081</td>\n      <td>168</td>\n      <td>171</td>\n      <td>0.0</td>\n      <td>0.0</td>\n      <td>0.0</td>\n      <td>0.0</td>\n      <td>1.2.826.0.1.3680043.22081</td>\n    </tr>\n    <tr>\n      <th>16</th>\n      <td>23431</td>\n      <td>211</td>\n      <td>0</td>\n      <td>0.0</td>\n      <td>0.0</td>\n      <td>0.0</td>\n      <td>0.0</td>\n      <td>1.2.826.0.1.3680043.23431</td>\n    </tr>\n    <tr>\n      <th>17</th>\n      <td>23597</td>\n      <td>90</td>\n      <td>91</td>\n      <td>0.0</td>\n      <td>0.0</td>\n      <td>0.0</td>\n      <td>0.0</td>\n      <td>1.2.826.0.1.3680043.23597</td>\n    </tr>\n    <tr>\n      <th>18</th>\n      <td>23658</td>\n      <td>200</td>\n      <td>203</td>\n      <td>0.0</td>\n      <td>0.0</td>\n      <td>0.0</td>\n      <td>0.0</td>\n      <td>1.2.826.0.1.3680043.23658</td>\n    </tr>\n    <tr>\n      <th>19</th>\n      <td>23758</td>\n      <td>83</td>\n      <td>94</td>\n      <td>0.0</td>\n      <td>0.0</td>\n      <td>0.0</td>\n      <td>0.0</td>\n      <td>1.2.826.0.1.3680043.23758</td>\n    </tr>\n    <tr>\n      <th>20</th>\n      <td>24317</td>\n      <td>226</td>\n      <td>233</td>\n      <td>0.0</td>\n      <td>0.0</td>\n      <td>0.0</td>\n      <td>0.0</td>\n      <td>1.2.826.0.1.3680043.24317</td>\n    </tr>\n  </tbody>\n</table>\n</div>"
     },
     "execution_count": 25,
     "metadata": {},
     "output_type": "execute_result"
    }
   ],
   "source": [
    "df = pd.read_csv('~/Desktop/new_annotation_list_10251634.csv')\n",
    "df = df.fillna(0).astype({'from':int, 'to':int})\n",
    "df['UID'] = '1.2.826.0.1.3680043.' + df['id'].astype('string')\n",
    "df"
   ],
   "metadata": {
    "collapsed": false
   }
  },
  {
   "cell_type": "code",
   "execution_count": 26,
   "outputs": [],
   "source": [
    "data = []\n",
    "for i in range(len(df)):\n",
    "    s = df.iloc[i]\n",
    "\n",
    "    for axial_index in range(s['from'], (s['to']+1) if s['to'] != 0 else (s['from'] + 1)):\n",
    "        ele = {\n",
    "            \"data\": {\n",
    "                \"image\": f\"/data/local-files?d=train_axial_images_jpeg95/{s.UID}/{axial_index}.jpeg\"\n",
    "            }\n",
    "        }\n",
    "        data.append(ele)\n",
    "\n",
    "task_code = datetime.now().strftime(\"%H%M%S\")\n",
    "with open(f\"/Users/longyikim/Desktop/label_image_tasks_{task_code}.json\", \"w\") as outfile:\n",
    "    json.dump(data, outfile)"
   ],
   "metadata": {
    "collapsed": false
   }
  },
  {
   "cell_type": "code",
   "execution_count": null,
   "outputs": [],
   "source": [],
   "metadata": {
    "collapsed": false
   }
  }
 ],
 "metadata": {
  "kernelspec": {
   "display_name": "Python 3",
   "language": "python",
   "name": "python3"
  },
  "language_info": {
   "codemirror_mode": {
    "name": "ipython",
    "version": 2
   },
   "file_extension": ".py",
   "mimetype": "text/x-python",
   "name": "python",
   "nbconvert_exporter": "python",
   "pygments_lexer": "ipython2",
   "version": "2.7.6"
  }
 },
 "nbformat": 4,
 "nbformat_minor": 0
}
