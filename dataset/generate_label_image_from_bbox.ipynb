{
 "cells": [
  {
   "cell_type": "code",
   "execution_count": 1,
   "metadata": {
    "collapsed": true
   },
   "outputs": [],
   "source": [
    "import pandas as pd"
   ]
  },
  {
   "cell_type": "code",
   "execution_count": 3,
   "outputs": [
    {
     "data": {
      "text/plain": "                         UID  start_slice_number  axial_index  coronal_index  \\\n0  1.2.826.0.1.3680043.10051                   1          132            226   \n1  1.2.826.0.1.3680043.10051                   1          133            229   \n2  1.2.826.0.1.3680043.10051                   1          134            234   \n3  1.2.826.0.1.3680043.10051                   1          135            234   \n4  1.2.826.0.1.3680043.10051                   1          136            237   \n\n   sagittal_index    aspect  pixel_spacing  z_spacing  is_flip  num_slices  \\\n0             227  2.461541       0.253906      0.625      0.0         272   \n1             230  2.461541       0.253906      0.625      0.0         272   \n2             230  2.461541       0.253906      0.625      0.0         272   \n3             228  2.461541       0.253906      0.625      0.0         272   \n4             227  2.461541       0.253906      0.625      0.0         272   \n\n           x          y     width    height  slice_number  \n0  219.27715  216.71419  17.30440  20.38517           133  \n1  221.56460  216.71419  17.87844  25.24362           134  \n2  216.82151  221.62546  27.00959  26.37454           135  \n3  214.49455  215.48637  27.92726  37.51363           136  \n4  214.00000  215.48637  27.00000  43.51363           137  ",
      "text/html": "<div>\n<style scoped>\n    .dataframe tbody tr th:only-of-type {\n        vertical-align: middle;\n    }\n\n    .dataframe tbody tr th {\n        vertical-align: top;\n    }\n\n    .dataframe thead th {\n        text-align: right;\n    }\n</style>\n<table border=\"1\" class=\"dataframe\">\n  <thead>\n    <tr style=\"text-align: right;\">\n      <th></th>\n      <th>UID</th>\n      <th>start_slice_number</th>\n      <th>axial_index</th>\n      <th>coronal_index</th>\n      <th>sagittal_index</th>\n      <th>aspect</th>\n      <th>pixel_spacing</th>\n      <th>z_spacing</th>\n      <th>is_flip</th>\n      <th>num_slices</th>\n      <th>x</th>\n      <th>y</th>\n      <th>width</th>\n      <th>height</th>\n      <th>slice_number</th>\n    </tr>\n  </thead>\n  <tbody>\n    <tr>\n      <th>0</th>\n      <td>1.2.826.0.1.3680043.10051</td>\n      <td>1</td>\n      <td>132</td>\n      <td>226</td>\n      <td>227</td>\n      <td>2.461541</td>\n      <td>0.253906</td>\n      <td>0.625</td>\n      <td>0.0</td>\n      <td>272</td>\n      <td>219.27715</td>\n      <td>216.71419</td>\n      <td>17.30440</td>\n      <td>20.38517</td>\n      <td>133</td>\n    </tr>\n    <tr>\n      <th>1</th>\n      <td>1.2.826.0.1.3680043.10051</td>\n      <td>1</td>\n      <td>133</td>\n      <td>229</td>\n      <td>230</td>\n      <td>2.461541</td>\n      <td>0.253906</td>\n      <td>0.625</td>\n      <td>0.0</td>\n      <td>272</td>\n      <td>221.56460</td>\n      <td>216.71419</td>\n      <td>17.87844</td>\n      <td>25.24362</td>\n      <td>134</td>\n    </tr>\n    <tr>\n      <th>2</th>\n      <td>1.2.826.0.1.3680043.10051</td>\n      <td>1</td>\n      <td>134</td>\n      <td>234</td>\n      <td>230</td>\n      <td>2.461541</td>\n      <td>0.253906</td>\n      <td>0.625</td>\n      <td>0.0</td>\n      <td>272</td>\n      <td>216.82151</td>\n      <td>221.62546</td>\n      <td>27.00959</td>\n      <td>26.37454</td>\n      <td>135</td>\n    </tr>\n    <tr>\n      <th>3</th>\n      <td>1.2.826.0.1.3680043.10051</td>\n      <td>1</td>\n      <td>135</td>\n      <td>234</td>\n      <td>228</td>\n      <td>2.461541</td>\n      <td>0.253906</td>\n      <td>0.625</td>\n      <td>0.0</td>\n      <td>272</td>\n      <td>214.49455</td>\n      <td>215.48637</td>\n      <td>27.92726</td>\n      <td>37.51363</td>\n      <td>136</td>\n    </tr>\n    <tr>\n      <th>4</th>\n      <td>1.2.826.0.1.3680043.10051</td>\n      <td>1</td>\n      <td>136</td>\n      <td>237</td>\n      <td>227</td>\n      <td>2.461541</td>\n      <td>0.253906</td>\n      <td>0.625</td>\n      <td>0.0</td>\n      <td>272</td>\n      <td>214.00000</td>\n      <td>215.48637</td>\n      <td>27.00000</td>\n      <td>43.51363</td>\n      <td>137</td>\n    </tr>\n  </tbody>\n</table>\n</div>"
     },
     "execution_count": 3,
     "metadata": {},
     "output_type": "execute_result"
    }
   ],
   "source": [
    "df = pd.read_csv('/Volumes/SSD970/bbox_clean.csv')\n",
    "df.head()"
   ],
   "metadata": {
    "collapsed": false
   }
  },
  {
   "cell_type": "code",
   "execution_count": 7,
   "outputs": [],
   "source": [
    "df[\"image_path\"] = \"/Volumes/SSD9701/train_axial_images_jpeg95/\" + df[\"UID\"] + \"/\" + df[\"axial_index\"].astype('str') + \".jpeg\""
   ],
   "metadata": {
    "collapsed": false
   }
  },
  {
   "cell_type": "code",
   "execution_count": 6,
   "outputs": [
    {
     "data": {
      "text/plain": "                         UID  start_slice_number  axial_index  coronal_index  \\\n0  1.2.826.0.1.3680043.10051                   1          132            226   \n1  1.2.826.0.1.3680043.10051                   1          133            229   \n2  1.2.826.0.1.3680043.10051                   1          134            234   \n3  1.2.826.0.1.3680043.10051                   1          135            234   \n4  1.2.826.0.1.3680043.10051                   1          136            237   \n\n   sagittal_index    aspect  pixel_spacing  z_spacing  is_flip  num_slices  \\\n0             227  2.461541       0.253906      0.625      0.0         272   \n1             230  2.461541       0.253906      0.625      0.0         272   \n2             230  2.461541       0.253906      0.625      0.0         272   \n3             228  2.461541       0.253906      0.625      0.0         272   \n4             227  2.461541       0.253906      0.625      0.0         272   \n\n           x          y     width    height  slice_number  \\\n0  219.27715  216.71419  17.30440  20.38517           133   \n1  221.56460  216.71419  17.87844  25.24362           134   \n2  216.82151  221.62546  27.00959  26.37454           135   \n3  214.49455  215.48637  27.92726  37.51363           136   \n4  214.00000  215.48637  27.00000  43.51363           137   \n\n                                          image_path  \n0  /Volumes/SSD970/train_axial_images_jpeg95/1.2....  \n1  /Volumes/SSD970/train_axial_images_jpeg95/1.2....  \n2  /Volumes/SSD970/train_axial_images_jpeg95/1.2....  \n3  /Volumes/SSD970/train_axial_images_jpeg95/1.2....  \n4  /Volumes/SSD970/train_axial_images_jpeg95/1.2....  ",
      "text/html": "<div>\n<style scoped>\n    .dataframe tbody tr th:only-of-type {\n        vertical-align: middle;\n    }\n\n    .dataframe tbody tr th {\n        vertical-align: top;\n    }\n\n    .dataframe thead th {\n        text-align: right;\n    }\n</style>\n<table border=\"1\" class=\"dataframe\">\n  <thead>\n    <tr style=\"text-align: right;\">\n      <th></th>\n      <th>UID</th>\n      <th>start_slice_number</th>\n      <th>axial_index</th>\n      <th>coronal_index</th>\n      <th>sagittal_index</th>\n      <th>aspect</th>\n      <th>pixel_spacing</th>\n      <th>z_spacing</th>\n      <th>is_flip</th>\n      <th>num_slices</th>\n      <th>x</th>\n      <th>y</th>\n      <th>width</th>\n      <th>height</th>\n      <th>slice_number</th>\n      <th>image_path</th>\n    </tr>\n  </thead>\n  <tbody>\n    <tr>\n      <th>0</th>\n      <td>1.2.826.0.1.3680043.10051</td>\n      <td>1</td>\n      <td>132</td>\n      <td>226</td>\n      <td>227</td>\n      <td>2.461541</td>\n      <td>0.253906</td>\n      <td>0.625</td>\n      <td>0.0</td>\n      <td>272</td>\n      <td>219.27715</td>\n      <td>216.71419</td>\n      <td>17.30440</td>\n      <td>20.38517</td>\n      <td>133</td>\n      <td>/Volumes/SSD970/train_axial_images_jpeg95/1.2....</td>\n    </tr>\n    <tr>\n      <th>1</th>\n      <td>1.2.826.0.1.3680043.10051</td>\n      <td>1</td>\n      <td>133</td>\n      <td>229</td>\n      <td>230</td>\n      <td>2.461541</td>\n      <td>0.253906</td>\n      <td>0.625</td>\n      <td>0.0</td>\n      <td>272</td>\n      <td>221.56460</td>\n      <td>216.71419</td>\n      <td>17.87844</td>\n      <td>25.24362</td>\n      <td>134</td>\n      <td>/Volumes/SSD970/train_axial_images_jpeg95/1.2....</td>\n    </tr>\n    <tr>\n      <th>2</th>\n      <td>1.2.826.0.1.3680043.10051</td>\n      <td>1</td>\n      <td>134</td>\n      <td>234</td>\n      <td>230</td>\n      <td>2.461541</td>\n      <td>0.253906</td>\n      <td>0.625</td>\n      <td>0.0</td>\n      <td>272</td>\n      <td>216.82151</td>\n      <td>221.62546</td>\n      <td>27.00959</td>\n      <td>26.37454</td>\n      <td>135</td>\n      <td>/Volumes/SSD970/train_axial_images_jpeg95/1.2....</td>\n    </tr>\n    <tr>\n      <th>3</th>\n      <td>1.2.826.0.1.3680043.10051</td>\n      <td>1</td>\n      <td>135</td>\n      <td>234</td>\n      <td>228</td>\n      <td>2.461541</td>\n      <td>0.253906</td>\n      <td>0.625</td>\n      <td>0.0</td>\n      <td>272</td>\n      <td>214.49455</td>\n      <td>215.48637</td>\n      <td>27.92726</td>\n      <td>37.51363</td>\n      <td>136</td>\n      <td>/Volumes/SSD970/train_axial_images_jpeg95/1.2....</td>\n    </tr>\n    <tr>\n      <th>4</th>\n      <td>1.2.826.0.1.3680043.10051</td>\n      <td>1</td>\n      <td>136</td>\n      <td>237</td>\n      <td>227</td>\n      <td>2.461541</td>\n      <td>0.253906</td>\n      <td>0.625</td>\n      <td>0.0</td>\n      <td>272</td>\n      <td>214.00000</td>\n      <td>215.48637</td>\n      <td>27.00000</td>\n      <td>43.51363</td>\n      <td>137</td>\n      <td>/Volumes/SSD970/train_axial_images_jpeg95/1.2....</td>\n    </tr>\n  </tbody>\n</table>\n</div>"
     },
     "execution_count": 6,
     "metadata": {},
     "output_type": "execute_result"
    }
   ],
   "source": [
    "df.head()"
   ],
   "metadata": {
    "collapsed": false
   }
  },
  {
   "cell_type": "code",
   "execution_count": 8,
   "outputs": [],
   "source": [
    "df.to_csv('/Volumes/SSD9701/bbox_with_image_path.csv')"
   ],
   "metadata": {
    "collapsed": false
   }
  },
  {
   "cell_type": "code",
   "execution_count": 11,
   "outputs": [],
   "source": [
    "import json\n",
    "data = []\n",
    "for i in range(len(df)):\n",
    "    s = df.iloc[i]\n",
    "    ele = {\n",
    "        'annotations' : [\n",
    "            {\n",
    "                'result' : [\n",
    "                    {\n",
    "                        \"original_width\":512,\n",
    "                        \"original_height\":512,\n",
    "                        \"image_rotation\":0,\n",
    "                        \"value\": {\n",
    "                            \"x\": s.x / 512. * 100,\n",
    "                            \"y\": s.y / 512. * 100,\n",
    "                            \"width\": s.width / 512. * 100,\n",
    "                            \"height\": s.height / 512. * 100,\n",
    "                            \"rotation\": 0\n",
    "                        },\n",
    "                        \"from_name\": \"label\",\n",
    "                        \"to_name\": \"image\",\n",
    "                        \"type\": \"rectanglelabels\",\n",
    "                        \"origin\": \"manual\"\n",
    "                    }\n",
    "                ]\n",
    "            }\n",
    "        ],\n",
    "        \"predictions\": [],\n",
    "        \"data\": {\n",
    "            \"image\": f\"/data/local-files?d=train_axial_images_jpeg95/{s.UID}/{s.axial_index}.jpeg\"\n",
    "        }\n",
    "    }\n",
    "    data.append(ele)\n",
    "\n",
    "with open(\"sample.json\", \"w\") as outfile:\n",
    "    json.dump(data, outfile)"
   ],
   "metadata": {
    "collapsed": false
   }
  }
 ],
 "metadata": {
  "kernelspec": {
   "display_name": "Python 3",
   "language": "python",
   "name": "python3"
  },
  "language_info": {
   "codemirror_mode": {
    "name": "ipython",
    "version": 2
   },
   "file_extension": ".py",
   "mimetype": "text/x-python",
   "name": "python",
   "nbconvert_exporter": "python",
   "pygments_lexer": "ipython2",
   "version": "2.7.6"
  }
 },
 "nbformat": 4,
 "nbformat_minor": 0
}
