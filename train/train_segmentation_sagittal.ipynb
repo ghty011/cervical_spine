{
 "cells": [
  {
   "cell_type": "code",
   "execution_count": 1,
   "metadata": {
    "collapsed": false,
    "jupyter": {
     "outputs_hidden": false
    }
   },
   "outputs": [],
   "source": [
    "# ! pip install python-gdcm\n",
    "# ! pip install pylibjpeg pylibjpeg-libjpeg pydicom pylibjpeg-openjpeg"
   ]
  },
  {
   "cell_type": "code",
   "execution_count": 2,
   "metadata": {},
   "outputs": [],
   "source": [
    "import wandb\n",
    "from datetime import datetime"
   ]
  },
  {
   "cell_type": "code",
   "execution_count": 3,
   "metadata": {
    "collapsed": false,
    "jupyter": {
     "outputs_hidden": false
    }
   },
   "outputs": [],
   "source": [
    "lr = 1e-3\n",
    "batch_size = 64\n",
    "wd = 5e-5\n",
    "pos_weight = 20\n",
    "mse_weight = 100  # relative to classification error\n",
    "image_size = 256\n",
    "backbone=\"resnet50\""
   ]
  },
  {
   "cell_type": "code",
   "execution_count": 4,
   "metadata": {
    "collapsed": false,
    "jupyter": {
     "outputs_hidden": false
    }
   },
   "outputs": [
    {
     "name": "stderr",
     "output_type": "stream",
     "text": [
      "Failed to detect the name of this notebook, you can set it manually with the WANDB_NOTEBOOK_NAME environment variable to enable code saving.\n",
      "\u001b[34m\u001b[1mwandb\u001b[0m: Currently logged in as: \u001b[33mlongyi\u001b[0m. Use \u001b[1m`wandb login --relogin`\u001b[0m to force relogin\n"
     ]
    },
    {
     "data": {
      "text/html": [
       "Tracking run with wandb version 0.13.3"
      ],
      "text/plain": [
       "<IPython.core.display.HTML object>"
      ]
     },
     "metadata": {},
     "output_type": "display_data"
    },
    {
     "data": {
      "text/html": [
       "Run data is saved locally in <code>/root/cervical_spine/train/wandb/run-20220921_074127-3ksg77ym</code>"
      ],
      "text/plain": [
       "<IPython.core.display.HTML object>"
      ]
     },
     "metadata": {},
     "output_type": "display_data"
    },
    {
     "data": {
      "text/html": [
       "Syncing run <strong><a href=\"http://8.210.101.57:8081/longyi/cervical-spine/runs/3ksg77ym\" target=\"_blank\">celestial-glade-24</a></strong> to <a href=\"http://8.210.101.57:8081/longyi/cervical-spine\" target=\"_blank\">Weights & Biases</a> (<a href=\"https://wandb.me/run\" target=\"_blank\">docs</a>)<br/>"
      ],
      "text/plain": [
       "<IPython.core.display.HTML object>"
      ]
     },
     "metadata": {},
     "output_type": "display_data"
    },
    {
     "data": {
      "text/plain": [
       "'sagittal_segmentation_detection_074132'"
      ]
     },
     "execution_count": 4,
     "metadata": {},
     "output_type": "execute_result"
    }
   ],
   "source": [
    "wandb_entity='longyi'\n",
    "model_name = \"detection\"\n",
    "wandb.init(project=\"cervical-spine\", entity=wandb_entity, config={\n",
    "    \"model\":model_name,\n",
    "    \"batch_size\":batch_size,\n",
    "    \"lr\" : lr,\n",
    "    \"wd\" : wd,\n",
    "    \"pos_weight\" : pos_weight,\n",
    "    \"mse_weight\" : mse_weight,\n",
    "    \"backbone\" : backbone,\n",
    "    \"image_size\" : image_size,\n",
    "})\n",
    "wandb.run.name = f'sagittal_segmentation_{model_name}_' + datetime.now().strftime(\"%H%M%S\")\n",
    "wandb.run.name"
   ]
  },
  {
   "cell_type": "code",
   "execution_count": 5,
   "metadata": {
    "collapsed": false,
    "jupyter": {
     "outputs_hidden": false
    }
   },
   "outputs": [],
   "source": [
    "import os\n",
    "import glob\n",
    "import pydicom\n",
    "import nibabel as nib\n",
    "import pandas as pd\n",
    "import numpy as np\n",
    "from pydicom.pixel_data_handlers.util import apply_voi_lut\n",
    "import matplotlib.pyplot as plt\n",
    "import matplotlib.patches as patches\n",
    "import seaborn as sns\n",
    "\n",
    "from tqdm import tqdm\n",
    "\n",
    "from PIL import Image, ImageOps"
   ]
  },
  {
   "cell_type": "code",
   "execution_count": 6,
   "metadata": {
    "collapsed": false,
    "jupyter": {
     "outputs_hidden": false
    }
   },
   "outputs": [],
   "source": [
    "import torch\n",
    "import torch.nn as nn\n",
    "import torch.nn.functional as F\n",
    "import torch.optim as optim\n",
    "from torch.utils.data import Dataset, DataLoader\n",
    "import torchvision\n",
    "from torchvision.io import read_image\n",
    "import torchvision.transforms as T\n",
    "from torchvision.transforms import Compose, ToTensor, Normalize, Resize, CenterCrop\n",
    "import torchvision.transforms.functional as TF"
   ]
  },
  {
   "cell_type": "code",
   "execution_count": 7,
   "metadata": {
    "collapsed": false,
    "jupyter": {
     "outputs_hidden": false
    }
   },
   "outputs": [],
   "source": [
    "# DATA_DIR = \"/media/longyi/SSD9701/\"\n",
    "# DATA_DIR = \"/Volumes/SSD970/\"\n",
    "DATA_DIR = \"/root/autodl-tmp/dataset/cervical_spine/\"\n",
    "TRAIN_IMAGES_DIR = os.path.join(DATA_DIR, \"train_images\")\n",
    "\n",
    "SAGITTAL_IMAGES_DIR = os.path.join(DATA_DIR, \"segmentation_sagittal_images\")\n",
    "SAGITTAL_LABEL_DIR = os.path.join(DATA_DIR, \"segmentation_sagittal_labels\")"
   ]
  },
  {
   "cell_type": "code",
   "execution_count": 8,
   "metadata": {
    "collapsed": false,
    "jupyter": {
     "outputs_hidden": false
    }
   },
   "outputs": [
    {
     "data": {
      "text/html": [
       "<div>\n",
       "<style scoped>\n",
       "    .dataframe tbody tr th:only-of-type {\n",
       "        vertical-align: middle;\n",
       "    }\n",
       "\n",
       "    .dataframe tbody tr th {\n",
       "        vertical-align: top;\n",
       "    }\n",
       "\n",
       "    .dataframe thead th {\n",
       "        text-align: right;\n",
       "    }\n",
       "</style>\n",
       "<table border=\"1\" class=\"dataframe\">\n",
       "  <thead>\n",
       "    <tr style=\"text-align: right;\">\n",
       "      <th></th>\n",
       "      <th>sagittal_index</th>\n",
       "      <th>z_spacing</th>\n",
       "      <th>pixel_spacing</th>\n",
       "      <th>aspect</th>\n",
       "      <th>width</th>\n",
       "      <th>height</th>\n",
       "      <th>is_flip</th>\n",
       "    </tr>\n",
       "    <tr>\n",
       "      <th>UID</th>\n",
       "      <th></th>\n",
       "      <th></th>\n",
       "      <th></th>\n",
       "      <th></th>\n",
       "      <th></th>\n",
       "      <th></th>\n",
       "      <th></th>\n",
       "    </tr>\n",
       "  </thead>\n",
       "  <tbody>\n",
       "    <tr>\n",
       "      <th>1.2.826.0.1.3680043.10633</th>\n",
       "      <td>0</td>\n",
       "      <td>0.5</td>\n",
       "      <td>0.285156</td>\n",
       "      <td>1.753425</td>\n",
       "      <td>512</td>\n",
       "      <td>752</td>\n",
       "      <td>0</td>\n",
       "    </tr>\n",
       "    <tr>\n",
       "      <th>1.2.826.0.1.3680043.10633</th>\n",
       "      <td>1</td>\n",
       "      <td>0.5</td>\n",
       "      <td>0.285156</td>\n",
       "      <td>1.753425</td>\n",
       "      <td>512</td>\n",
       "      <td>752</td>\n",
       "      <td>0</td>\n",
       "    </tr>\n",
       "    <tr>\n",
       "      <th>1.2.826.0.1.3680043.10633</th>\n",
       "      <td>2</td>\n",
       "      <td>0.5</td>\n",
       "      <td>0.285156</td>\n",
       "      <td>1.753425</td>\n",
       "      <td>512</td>\n",
       "      <td>752</td>\n",
       "      <td>0</td>\n",
       "    </tr>\n",
       "    <tr>\n",
       "      <th>1.2.826.0.1.3680043.10633</th>\n",
       "      <td>3</td>\n",
       "      <td>0.5</td>\n",
       "      <td>0.285156</td>\n",
       "      <td>1.753425</td>\n",
       "      <td>512</td>\n",
       "      <td>752</td>\n",
       "      <td>0</td>\n",
       "    </tr>\n",
       "    <tr>\n",
       "      <th>1.2.826.0.1.3680043.10633</th>\n",
       "      <td>4</td>\n",
       "      <td>0.5</td>\n",
       "      <td>0.285156</td>\n",
       "      <td>1.753425</td>\n",
       "      <td>512</td>\n",
       "      <td>752</td>\n",
       "      <td>0</td>\n",
       "    </tr>\n",
       "  </tbody>\n",
       "</table>\n",
       "</div>"
      ],
      "text/plain": [
       "                           sagittal_index  z_spacing  pixel_spacing    aspect  \\\n",
       "UID                                                                             \n",
       "1.2.826.0.1.3680043.10633               0        0.5       0.285156  1.753425   \n",
       "1.2.826.0.1.3680043.10633               1        0.5       0.285156  1.753425   \n",
       "1.2.826.0.1.3680043.10633               2        0.5       0.285156  1.753425   \n",
       "1.2.826.0.1.3680043.10633               3        0.5       0.285156  1.753425   \n",
       "1.2.826.0.1.3680043.10633               4        0.5       0.285156  1.753425   \n",
       "\n",
       "                           width  height  is_flip  \n",
       "UID                                                \n",
       "1.2.826.0.1.3680043.10633    512     752        0  \n",
       "1.2.826.0.1.3680043.10633    512     752        0  \n",
       "1.2.826.0.1.3680043.10633    512     752        0  \n",
       "1.2.826.0.1.3680043.10633    512     752        0  \n",
       "1.2.826.0.1.3680043.10633    512     752        0  "
      ]
     },
     "execution_count": 8,
     "metadata": {},
     "output_type": "execute_result"
    }
   ],
   "source": [
    "seg_df = pd.read_csv(os.path.join(DATA_DIR, 'meta_segmentation_sagittal.csv'))\n",
    "seg_df = seg_df.set_index(['UID'])\n",
    "seg_df.head()"
   ]
  },
  {
   "cell_type": "code",
   "execution_count": 9,
   "metadata": {
    "collapsed": false,
    "jupyter": {
     "outputs_hidden": false
    }
   },
   "outputs": [
    {
     "data": {
      "text/plain": [
       "sagittal_index      0.000000\n",
       "z_spacing           0.500000\n",
       "pixel_spacing       0.285156\n",
       "aspect              1.753425\n",
       "width             512.000000\n",
       "height            752.000000\n",
       "is_flip             0.000000\n",
       "Name: 1.2.826.0.1.3680043.10633, dtype: float64"
      ]
     },
     "execution_count": 9,
     "metadata": {},
     "output_type": "execute_result"
    }
   ],
   "source": [
    "seg_df.iloc[0]"
   ]
  },
  {
   "cell_type": "code",
   "execution_count": 10,
   "metadata": {
    "collapsed": false,
    "jupyter": {
     "outputs_hidden": false
    }
   },
   "outputs": [
    {
     "data": {
      "text/plain": [
       "<matplotlib.image.AxesImage at 0x7fed9e41fa00>"
      ]
     },
     "execution_count": 10,
     "metadata": {},
     "output_type": "execute_result"
    },
    {
     "data": {
      "image/png": "[encoded data removed]",
      "text/plain": [
       "<Figure size 432x288 with 2 Axes>"
      ]
     },
     "metadata": {
      "needs_background": "light"
     },
     "output_type": "display_data"
    }
   ],
   "source": [
    "_, axs = plt.subplots(1, 2)\n",
    "\n",
    "sagittal_img = Image.open(os.path.join(SAGITTAL_IMAGES_DIR, seg_df.iloc[0].name, f\"254.jpeg\"))\n",
    "axs[0].imshow(sagittal_img, cmap='bone')\n",
    "\n",
    "sagittal_label = Image.open(os.path.join(SAGITTAL_LABEL_DIR, seg_df.iloc[0].name, f\"254.png\"))\n",
    "axs[1].imshow(sagittal_label)"
   ]
  },
  {
   "cell_type": "code",
   "execution_count": 11,
   "metadata": {
    "collapsed": false,
    "jupyter": {
     "outputs_hidden": false
    }
   },
   "outputs": [
    {
     "data": {
      "text/plain": [
       "array([  0,  32,  64,  96, 128, 160, 192, 224], dtype=uint8)"
      ]
     },
     "execution_count": 11,
     "metadata": {},
     "output_type": "execute_result"
    }
   ],
   "source": [
    "np.unique(np.asarray(sagittal_label))"
   ]
  },
  {
   "cell_type": "markdown",
   "metadata": {
    "collapsed": false
   },
   "source": [
    "### Dataset"
   ]
  },
  {
   "cell_type": "code",
   "execution_count": 12,
   "metadata": {
    "collapsed": false,
    "jupyter": {
     "outputs_hidden": false
    }
   },
   "outputs": [],
   "source": [
    "\n",
    "class SegSagittalDataset(Dataset):\n",
    "    def __init__(self, df, image_dir, seg_dir, transform=None):\n",
    "        self.df = df\n",
    "        self.image_dir = image_dir\n",
    "        self.seg_dir = seg_dir\n",
    "        self.transform = transform\n",
    "\n",
    "    def __len__(self):\n",
    "        return len(self.df)\n",
    "\n",
    "    def __getitem__(self, idx):\n",
    "        sagittal_df = self.df.iloc[idx]\n",
    "        UID = sagittal_df.name\n",
    "\n",
    "        sagittal_index = int(sagittal_df.sagittal_index)\n",
    "\n",
    "        slice_img = Image.open(os.path.join(self.image_dir, UID, f\"{sagittal_index}.jpeg\"))\n",
    "\n",
    "        label_img = Image.open(os.path.join(self.seg_dir, UID, f\"{sagittal_index}.png\"))\n",
    "        # label_img = np.round(np.asarray(label_img, np.uint8) // 32)\n",
    "        if self.transform:\n",
    "            slice_img, label_img = self.transform(slice_img, label_img)\n",
    "\n",
    "        return slice_img, label_img"
   ]
  },
  {
   "cell_type": "code",
   "execution_count": 13,
   "metadata": {
    "collapsed": false,
    "jupyter": {
     "outputs_hidden": false
    }
   },
   "outputs": [
    {
     "data": {
      "text/html": [
       "<div>\n",
       "<style scoped>\n",
       "    .dataframe tbody tr th:only-of-type {\n",
       "        vertical-align: middle;\n",
       "    }\n",
       "\n",
       "    .dataframe tbody tr th {\n",
       "        vertical-align: top;\n",
       "    }\n",
       "\n",
       "    .dataframe thead th {\n",
       "        text-align: right;\n",
       "    }\n",
       "</style>\n",
       "<table border=\"1\" class=\"dataframe\">\n",
       "  <thead>\n",
       "    <tr style=\"text-align: right;\">\n",
       "      <th></th>\n",
       "      <th>sagittal_index</th>\n",
       "      <th>z_spacing</th>\n",
       "      <th>pixel_spacing</th>\n",
       "      <th>aspect</th>\n",
       "      <th>width</th>\n",
       "      <th>height</th>\n",
       "      <th>is_flip</th>\n",
       "    </tr>\n",
       "    <tr>\n",
       "      <th>UID</th>\n",
       "      <th></th>\n",
       "      <th></th>\n",
       "      <th></th>\n",
       "      <th></th>\n",
       "      <th></th>\n",
       "      <th></th>\n",
       "      <th></th>\n",
       "    </tr>\n",
       "  </thead>\n",
       "  <tbody>\n",
       "    <tr>\n",
       "      <th>1.2.826.0.1.3680043.16092</th>\n",
       "      <td>25</td>\n",
       "      <td>0.625</td>\n",
       "      <td>0.359375</td>\n",
       "      <td>1.739130</td>\n",
       "      <td>512</td>\n",
       "      <td>572</td>\n",
       "      <td>0</td>\n",
       "    </tr>\n",
       "    <tr>\n",
       "      <th>1.2.826.0.1.3680043.18906</th>\n",
       "      <td>11</td>\n",
       "      <td>0.700</td>\n",
       "      <td>0.275391</td>\n",
       "      <td>2.541844</td>\n",
       "      <td>512</td>\n",
       "      <td>892</td>\n",
       "      <td>0</td>\n",
       "    </tr>\n",
       "    <tr>\n",
       "      <th>1.2.826.0.1.3680043.16919</th>\n",
       "      <td>470</td>\n",
       "      <td>0.500</td>\n",
       "      <td>0.298828</td>\n",
       "      <td>1.673203</td>\n",
       "      <td>512</td>\n",
       "      <td>684</td>\n",
       "      <td>0</td>\n",
       "    </tr>\n",
       "    <tr>\n",
       "      <th>1.2.826.0.1.3680043.32370</th>\n",
       "      <td>424</td>\n",
       "      <td>0.800</td>\n",
       "      <td>0.334000</td>\n",
       "      <td>2.395210</td>\n",
       "      <td>512</td>\n",
       "      <td>627</td>\n",
       "      <td>0</td>\n",
       "    </tr>\n",
       "    <tr>\n",
       "      <th>1.2.826.0.1.3680043.16919</th>\n",
       "      <td>273</td>\n",
       "      <td>0.500</td>\n",
       "      <td>0.298828</td>\n",
       "      <td>1.673203</td>\n",
       "      <td>512</td>\n",
       "      <td>684</td>\n",
       "      <td>0</td>\n",
       "    </tr>\n",
       "  </tbody>\n",
       "</table>\n",
       "</div>"
      ],
      "text/plain": [
       "                           sagittal_index  z_spacing  pixel_spacing    aspect  \\\n",
       "UID                                                                             \n",
       "1.2.826.0.1.3680043.16092              25      0.625       0.359375  1.739130   \n",
       "1.2.826.0.1.3680043.18906              11      0.700       0.275391  2.541844   \n",
       "1.2.826.0.1.3680043.16919             470      0.500       0.298828  1.673203   \n",
       "1.2.826.0.1.3680043.32370             424      0.800       0.334000  2.395210   \n",
       "1.2.826.0.1.3680043.16919             273      0.500       0.298828  1.673203   \n",
       "\n",
       "                           width  height  is_flip  \n",
       "UID                                                \n",
       "1.2.826.0.1.3680043.16092    512     572        0  \n",
       "1.2.826.0.1.3680043.18906    512     892        0  \n",
       "1.2.826.0.1.3680043.16919    512     684        0  \n",
       "1.2.826.0.1.3680043.32370    512     627        0  \n",
       "1.2.826.0.1.3680043.16919    512     684        0  "
      ]
     },
     "execution_count": 13,
     "metadata": {},
     "output_type": "execute_result"
    }
   ],
   "source": [
    "total_slices = np.arange(len(seg_df))\n",
    "np.random.shuffle(total_slices)\n",
    "train_indices, val_indices = total_slices[:-3000], total_slices[-3000:]\n",
    "train_df = seg_df.iloc[train_indices]\n",
    "val_df = seg_df.iloc[val_indices]\n",
    "train_df.head()"
   ]
  },
  {
   "cell_type": "code",
   "execution_count": 14,
   "metadata": {
    "collapsed": false,
    "jupyter": {
     "outputs_hidden": false
    }
   },
   "outputs": [],
   "source": [
    "class DataTransform(nn.Module):\n",
    "    def __init__(self, image_size):\n",
    "        super().__init__()\n",
    "\n",
    "        self.transform = T.Compose([\n",
    "            T.Resize(image_size),\n",
    "            T.RandomAutocontrast(),\n",
    "            T.ToTensor(),\n",
    "            T.Normalize(0.5, 0.5)\n",
    "        ])\n",
    "\n",
    "        self.target_transform = T.Compose([\n",
    "            T.Resize(image_size, interpolation=torchvision.transforms.InterpolationMode.NEAREST),\n",
    "            T.PILToTensor(),\n",
    "            T.Lambda(lambda x: x.float()),\n",
    "            T.Normalize(0, 256)\n",
    "        ])\n",
    "\n",
    "    def forward(self, x, y):\n",
    "        x = TF.center_crop(x, max(x.width, x.height))\n",
    "        x = self.transform(x)\n",
    "\n",
    "        y = TF.center_crop(y, max(y.width, y.height))\n",
    "        y = self.target_transform(y)\n",
    "\n",
    "        return x, y\n",
    "\n",
    "transform = DataTransform(image_size)"
   ]
  },
  {
   "cell_type": "code",
   "execution_count": 15,
   "metadata": {
    "collapsed": false,
    "jupyter": {
     "outputs_hidden": false
    }
   },
   "outputs": [],
   "source": [
    "train_dataset = SegSagittalDataset(train_df, SAGITTAL_IMAGES_DIR, SAGITTAL_LABEL_DIR, transform=transform)\n",
    "val_dataset = SegSagittalDataset(val_df, SAGITTAL_IMAGES_DIR, SAGITTAL_LABEL_DIR, transform=transform)"
   ]
  },
  {
   "cell_type": "code",
   "execution_count": 16,
   "metadata": {
    "collapsed": false,
    "jupyter": {
     "outputs_hidden": false
    }
   },
   "outputs": [
    {
     "name": "stdout",
     "output_type": "stream",
     "text": [
      "torch.Size([1, 256, 256]) torch.Size([1, 256, 256])\n"
     ]
    }
   ],
   "source": [
    "x, y = train_dataset[100]\n",
    "print(f\"{x.shape} {y.shape}\")"
   ]
  },
  {
   "cell_type": "code",
   "execution_count": 17,
   "metadata": {
    "collapsed": false,
    "jupyter": {
     "outputs_hidden": false
    }
   },
   "outputs": [],
   "source": [
    "train_loader = DataLoader(train_dataset, batch_size=batch_size, shuffle=True, pin_memory=True, num_workers=min(batch_size, os.cpu_count()))\n",
    "val_loader = DataLoader(val_dataset, batch_size=batch_size, shuffle=False, pin_memory=True, num_workers=min(batch_size, os.cpu_count()))"
   ]
  },
  {
   "cell_type": "code",
   "execution_count": 18,
   "metadata": {
    "collapsed": false,
    "jupyter": {
     "outputs_hidden": false
    }
   },
   "outputs": [
    {
     "name": "stdout",
     "output_type": "stream",
     "text": [
      "tensor(0.0023)\n"
     ]
    },
    {
     "data": {
      "image/png": "[encoded data removed]",
      "text/plain": [
       "<Figure size 432x288 with 2 Axes>"
      ]
     },
     "metadata": {
      "needs_background": "light"
     },
     "output_type": "display_data"
    }
   ],
   "source": [
    "\n",
    "x, y = val_dataset[70]\n",
    "_, axs = plt.subplots(1, 2)\n",
    "axs[0].imshow(x.squeeze(), cmap='bone')\n",
    "axs[1].imshow(y.squeeze(), cmap='bone')\n",
    "print(y.mean())"
   ]
  },
  {
   "cell_type": "code",
   "execution_count": 19,
   "metadata": {
    "collapsed": false,
    "jupyter": {
     "outputs_hidden": false
    }
   },
   "outputs": [
    {
     "name": "stdout",
     "output_type": "stream",
     "text": [
      "tensor(-1.)\n",
      "tensor(0.8118)\n",
      "tensor(0.)\n",
      "tensor(0.8750)\n"
     ]
    }
   ],
   "source": [
    "print(x.min())\n",
    "print(x.max())\n",
    "print(y.min())\n",
    "print(y.max())"
   ]
  },
  {
   "cell_type": "code",
   "execution_count": 20,
   "metadata": {
    "collapsed": false,
    "jupyter": {
     "outputs_hidden": false
    }
   },
   "outputs": [
    {
     "data": {
      "text/plain": [
       "tensor([[[0., 0., 0.,  ..., 0., 0., 0.],\n",
       "         [0., 0., 0.,  ..., 0., 0., 0.],\n",
       "         [0., 0., 0.,  ..., 0., 0., 0.],\n",
       "         ...,\n",
       "         [0., 0., 0.,  ..., 0., 0., 0.],\n",
       "         [0., 0., 0.,  ..., 0., 0., 0.],\n",
       "         [0., 0., 0.,  ..., 0., 0., 0.]]])"
      ]
     },
     "execution_count": 20,
     "metadata": {},
     "output_type": "execute_result"
    }
   ],
   "source": [
    "y"
   ]
  },
  {
   "cell_type": "markdown",
   "metadata": {},
   "source": [
    "## Model"
   ]
  },
  {
   "cell_type": "code",
   "execution_count": 21,
   "metadata": {
    "collapsed": false,
    "jupyter": {
     "outputs_hidden": false
    }
   },
   "outputs": [
    {
     "data": {
      "text/plain": [
       "'cuda'"
      ]
     },
     "execution_count": 21,
     "metadata": {},
     "output_type": "execute_result"
    }
   ],
   "source": [
    "device = 'cuda' if torch.cuda.is_available() else 'cpu'\n",
    "device"
   ]
  },
  {
   "cell_type": "code",
   "execution_count": 22,
   "metadata": {
    "collapsed": false,
    "jupyter": {
     "outputs_hidden": false
    }
   },
   "outputs": [],
   "source": [
    "class DetectionModel(nn.Module):\n",
    "    def __init__(self, backbone, channels, deep=4, out_channels=64, n_features=1):\n",
    "        super().__init__()\n",
    "\n",
    "        self.backbone = backbone\n",
    "        self.deep = deep\n",
    "        self.channels = channels\n",
    "        self.out_channels = out_channels\n",
    "        self.n_features = n_features\n",
    "\n",
    "        self.init_layers()\n",
    "\n",
    "    def init_layers(self):\n",
    "        self.parallel_modules = self.make_parallel_modules()\n",
    "        self.upsampling_modules = self.make_upsampling_modules()\n",
    "\n",
    "        self.downsampling_modules = self.make_downsampling_modules()\n",
    "        self.classification_modules = self.make_classification_modules()\n",
    "\n",
    "    def make_classification_modules(self):\n",
    "        # the last layer\n",
    "        return nn.Sequential(\n",
    "            nn.Conv2d(self.out_channels, self.out_channels, kernel_size=3, padding='same'),\n",
    "            nn.ReLU(inplace=True),\n",
    "            nn.Conv2d(self.out_channels, self.n_features, kernel_size=1, padding='same'),\n",
    "            #             nn.AdaptiveMaxPool2d(output_size=(None, 1))\n",
    "        )\n",
    "\n",
    "    def make_parallel_modules(self):\n",
    "        parallel_modules = nn.ModuleList()\n",
    "\n",
    "        for i in range(self.deep):\n",
    "            module = nn.Conv2d(self.channels[i], self.channels[i], kernel_size=3, padding='same')\n",
    "            parallel_modules.append(module)\n",
    "\n",
    "\n",
    "        return parallel_modules\n",
    "\n",
    "    def make_downsampling_modules(self):\n",
    "        return nn.ModuleList([\n",
    "            nn.Sequential(\n",
    "                self.backbone.conv1,\n",
    "                self.backbone.bn1,\n",
    "                self.backbone.relu,\n",
    "                self.backbone.maxpool),\n",
    "            nn.Sequential(\n",
    "                self.backbone.layer1,\n",
    "                self.backbone.layer2,\n",
    "            ),\n",
    "            self.backbone.layer3,\n",
    "            self.backbone.layer4\n",
    "        ])\n",
    "\n",
    "    def make_upsampling_modules(self):\n",
    "        upsampling_modules = nn.ModuleList()\n",
    "\n",
    "        for i in range(self.deep):\n",
    "            module = nn.Sequential(\n",
    "                nn.ReLU(inplace=True),\n",
    "                nn.Conv2d(self.channels[i], self.channels[i-1] if i > 0 else self.out_channels, kernel_size=1),\n",
    "                nn.ReLU(inplace=True),\n",
    "                nn.Upsample(scale_factor=2)\n",
    "            )\n",
    "            upsampling_modules.append(module)\n",
    "\n",
    "        return upsampling_modules\n",
    "\n",
    "\n",
    "\n",
    "    def forward(self, x):\n",
    "\n",
    "        downsampling_outputs = []\n",
    "        out = x\n",
    "        for module in self.downsampling_modules:\n",
    "            out = module(out)\n",
    "            downsampling_outputs.append(out)\n",
    "\n",
    "        parallel_outputs = []\n",
    "        for i in range(len(self.parallel_modules)):\n",
    "            module = self.parallel_modules[i]\n",
    "            out = module(downsampling_outputs[i])\n",
    "            parallel_outputs.append(out)\n",
    "\n",
    "        out = 0\n",
    "        for i in range(len(self.upsampling_modules)):\n",
    "            module = self.upsampling_modules[-(i+1)]\n",
    "            parallel_output = parallel_outputs[-(i+1)]\n",
    "\n",
    "            up_input = out + parallel_output\n",
    "            out = module(up_input)\n",
    "\n",
    "        out = self.classification_modules(out)\n",
    "\n",
    "        return out\n",
    "\n",
    "# backbone = resnet18_gray()\n",
    "# model = DetectionModel(backbone, channels=[64, 128, 256, 512], out_channels=64, n_features=1)\n",
    "\n",
    "# input = torch.randn(1, 1, 512, 512)\n",
    "# model(input).shape"
   ]
  },
  {
   "cell_type": "code",
   "execution_count": 23,
   "metadata": {
    "collapsed": false,
    "jupyter": {
     "outputs_hidden": false
    }
   },
   "outputs": [],
   "source": [
    "import torchvision.models as models\n",
    "\n",
    "def resnet18_gray():\n",
    "    model = models.resnet18(pretrained=True)\n",
    "    conv1_weight = model.conv1.weight\n",
    "    conv1_weight = conv1_weight.mean(dim=1).unsqueeze(1)\n",
    "\n",
    "    model.conv1 = nn.Conv2d(1, 64, kernel_size=(7, 7), stride=1, padding='same', bias=False)\n",
    "    model.conv1.weight = nn.Parameter(conv1_weight, requires_grad=True)\n",
    "\n",
    "    return model\n",
    "\n",
    "def resnet50_gray():\n",
    "    model = models.resnet50(pretrained=True)\n",
    "    conv1_weight = model.conv1.weight\n",
    "    conv1_weight = conv1_weight.mean(dim=1).unsqueeze(1)\n",
    "\n",
    "    model.conv1 = nn.Conv2d(1, 64, kernel_size=(7, 7), stride=1, padding='same', bias=False)\n",
    "    model.conv1.weight = nn.Parameter(conv1_weight, requires_grad=True)\n",
    "\n",
    "    return model"
   ]
  },
  {
   "cell_type": "code",
   "execution_count": 24,
   "metadata": {
    "collapsed": false,
    "jupyter": {
     "outputs_hidden": false
    }
   },
   "outputs": [
    {
     "data": {
      "text/plain": [
       "77833514"
      ]
     },
     "execution_count": 24,
     "metadata": {},
     "output_type": "execute_result"
    }
   ],
   "source": [
    "if backbone == 'resnet18':\n",
    "    backbone = resnet18_gray()\n",
    "    channels = [64, 128, 256, 512]\n",
    "\n",
    "elif backbone == 'resnet50':\n",
    "    backbone = resnet50_gray()\n",
    "    channels = [64, 512, 1024, 2048]\n",
    "\n",
    "\n",
    "model = DetectionModel(backbone, channels=channels, out_channels=channels[0], n_features=2).to(device)\n",
    "\n",
    "total_params = sum(p.numel() for p in model.parameters() if p.requires_grad)\n",
    "total_params"
   ]
  },
  {
   "cell_type": "code",
   "execution_count": 25,
   "metadata": {
    "collapsed": false,
    "jupyter": {
     "outputs_hidden": false
    }
   },
   "outputs": [],
   "source": [
    "optimizer = optim.AdamW(model.parameters(), lr=lr, weight_decay=wd)\n",
    "scaler = torch.cuda.amp.GradScaler(enabled=(device == 'cuda'))"
   ]
  },
  {
   "cell_type": "code",
   "execution_count": 26,
   "metadata": {
    "collapsed": false,
    "jupyter": {
     "outputs_hidden": false
    }
   },
   "outputs": [],
   "source": [
    "scheduler = optim.lr_scheduler.MultiStepLR(optimizer, milestones=[5, 10, 15, 20], gamma=0.5)\n"
   ]
  },
  {
   "cell_type": "code",
   "execution_count": 27,
   "metadata": {
    "collapsed": false,
    "jupyter": {
     "outputs_hidden": false
    }
   },
   "outputs": [],
   "source": [
    "def loss_fn(logits, y, pos_weight=1, mse_weight=1):\n",
    "\n",
    "    classification_logits, mse_score = logits.chunk(2, dim=1)\n",
    "\n",
    "    classification_y = y.gt(0).float()\n",
    "\n",
    "    classification_loss = F.binary_cross_entropy_with_logits(classification_logits, classification_y, pos_weight=torch.tensor(pos_weight))\n",
    "\n",
    "    mse_loss = classification_y * F.mse_loss(mse_score.sigmoid(), y, reduction='none')\n",
    "    mse_loss = mse_weight * mse_loss.mean()\n",
    "\n",
    "\n",
    "    return classification_loss, mse_loss"
   ]
  },
  {
   "cell_type": "code",
   "execution_count": 28,
   "metadata": {
    "collapsed": false,
    "jupyter": {
     "outputs_hidden": false
    }
   },
   "outputs": [],
   "source": [
    "def train_one_epoch(e, model, dataloader):\n",
    "\n",
    "    model.train()\n",
    "    train_iter = tqdm(dataloader)\n",
    "    losses = []\n",
    "    epoch_iteration = len(dataloader)\n",
    "\n",
    "    for i, (x, y) in enumerate(train_iter):\n",
    "        x = x.to(device)\n",
    "        y = y.to(device)\n",
    "\n",
    "        with torch.cuda.amp.autocast(device == 'cuda'):\n",
    "            logits = model(x)\n",
    "            c_loss, m_loss = loss_fn(logits, y, pos_weight=pos_weight, mse_weight=mse_weight)\n",
    "            loss = c_loss + m_loss\n",
    "\n",
    "        optimizer.zero_grad()\n",
    "        scaler.scale(loss).backward()\n",
    "        scaler.step(optimizer)\n",
    "        scaler.update()\n",
    "        # nn.utils.clip_grad_norm_(model.parameters(), 1.)\n",
    "        # optimizer.step()\n",
    "\n",
    "        train_iter.set_description(f\"t {e} loss {loss.item():.4f} c {c_loss.item():.4f} m {m_loss.item():.4f}\")\n",
    "\n",
    "        losses.append(loss.item())\n",
    "\n",
    "\n",
    "        if wandb.run is not None:\n",
    "            lr_logs = {f\"last_lr_{i}\": float(v) for i, v in enumerate(scheduler.get_last_lr())}\n",
    "            wandb.log({\n",
    "                'train_loss' : loss.item(),\n",
    "                'train_classification_loss' : c_loss.item(),\n",
    "                'train_mse_loss' : m_loss.item(),\n",
    "                'epoch' : e,\n",
    "                'train_iteration' : i + e * epoch_iteration,\n",
    "                **lr_logs,\n",
    "            })\n",
    "\n",
    "        if i % 100 == 0:\n",
    "            with torch.no_grad():\n",
    "                inference(model, val_dataset)\n",
    "            model.train()\n",
    "\n",
    "    return np.mean(losses)"
   ]
  },
  {
   "cell_type": "code",
   "execution_count": 29,
   "metadata": {
    "collapsed": false,
    "jupyter": {
     "outputs_hidden": false
    }
   },
   "outputs": [],
   "source": [
    "def evaluate(e, model, dataloader):\n",
    "\n",
    "    model.eval()\n",
    "    eval_iter = tqdm(dataloader)\n",
    "    losses = []\n",
    "    epoch_iteration = len(dataloader)\n",
    "\n",
    "    for i, (x, y) in enumerate(eval_iter):\n",
    "        x = x.to(device)\n",
    "        y = y.to(device)\n",
    "\n",
    "        logits = model(x)\n",
    "        c_loss, m_loss = loss_fn(logits, y)\n",
    "        loss = c_loss + m_loss\n",
    "\n",
    "        eval_iter.set_description(f\"e {e} loss {loss.item():.4f}\")\n",
    "\n",
    "        losses.append(loss.item())\n",
    "\n",
    "        if wandb.run is not None:\n",
    "            wandb.log({\n",
    "                'val_loss' : loss.item(),\n",
    "                'val_classification_loss' : c_loss.item(),\n",
    "                'val_mse_loss' : m_loss.item(),\n",
    "                'epoch' : e,\n",
    "                'val_iteration' : i + e * epoch_iteration,\n",
    "            })\n",
    "\n",
    "    return np.mean(losses)"
   ]
  },
  {
   "cell_type": "code",
   "execution_count": 30,
   "metadata": {},
   "outputs": [],
   "source": [
    "def color_image(gray_img, cmap='bone'):\n",
    "    # 'nipy_spectral'\n",
    "    cm = plt.get_cmap(cmap)\n",
    "    colored_image = cm(gray_img)\n",
    "    return colored_image"
   ]
  },
  {
   "cell_type": "code",
   "execution_count": 31,
   "metadata": {
    "collapsed": false,
    "jupyter": {
     "outputs_hidden": false
    }
   },
   "outputs": [
    {
     "data": {
      "image/png": "[encoded data removed]",
      "text/plain": [
       "<Figure size 432x288 with 1 Axes>"
      ]
     },
     "metadata": {
      "needs_background": "light"
     },
     "output_type": "display_data"
    }
   ],
   "source": [
    "def inference(model, dataset, i_list=None, wandb_log=True):\n",
    "    model.eval()\n",
    "    if i_list is None:\n",
    "        i_list = np.random.choice(len(dataset) - 1, 4)\n",
    "    x_list = []\n",
    "    y_list = []\n",
    "    for i in i_list:\n",
    "        x, y = dataset[i]\n",
    "        x_list.append(x)\n",
    "        y_list.append(y)\n",
    "    x, y = torch.stack(x_list), torch.stack(y_list)\n",
    "\n",
    "    x = x.to(device)\n",
    "    logits = model(x)\n",
    "    classification_logits, mse_score = logits.chunk(2, dim=1)\n",
    "    classification_pred = classification_logits.sigmoid().gt(0.5).float()\n",
    "    mse_pred = (classification_pred * mse_score.sigmoid()).squeeze().cpu().numpy()\n",
    "\n",
    "    img = x * 0.5 + 0.5\n",
    "    \n",
    "    img = color_image(img.squeeze().cpu().numpy())\n",
    "    classification_pred = color_image(classification_pred.squeeze().cpu().numpy())\n",
    "    \n",
    "    mse_pred = np.round(mse_pred * 8) / 8\n",
    "    mse_pred = color_image(mse_pred, cmap='nipy_spectral')\n",
    "    \n",
    "    y = color_image(y.squeeze().cpu().numpy(), cmap='nipy_spectral')\n",
    "    \n",
    "    combined_img = np.concatenate((img, classification_pred, mse_pred, y), axis=2)\n",
    "    combined_img = combined_img.reshape(-1, combined_img.shape[2], combined_img.shape[3])\n",
    "    \n",
    "    if wandb_log is True and wandb.run is not None:\n",
    "        wandb.log({\n",
    "            'val_img_pred_label' : wandb.Image(combined_img),\n",
    "        })\n",
    "    if wandb_log is False:\n",
    "        plt.imshow(combined_img)\n",
    "        plt.show()\n",
    "\n",
    "with torch.no_grad():\n",
    "    inference(model, val_dataset, wandb_log=False)"
   ]
  },
  {
   "cell_type": "code",
   "execution_count": 32,
   "metadata": {
    "collapsed": false,
    "jupyter": {
     "outputs_hidden": false
    }
   },
   "outputs": [],
   "source": [
    "epoch = 0"
   ]
  },
  {
   "cell_type": "code",
   "execution_count": 33,
   "metadata": {
    "collapsed": false,
    "jupyter": {
     "outputs_hidden": false
    }
   },
   "outputs": [
    {
     "name": "stderr",
     "output_type": "stream",
     "text": [
      "t 0 loss 0.0279 c 0.0253 m 0.0026: 100%|██████████| 649/649 [08:34<00:00,  1.26it/s]\n",
      "e 0 loss 0.0209: 100%|██████████| 47/47 [00:25<00:00,  1.84it/s]\n"
     ]
    },
    {
     "name": "stdout",
     "output_type": "stream",
     "text": [
      "epoch 0 train_loss 0.06351340161736922 eval_loss 0.02248258389374043\n"
     ]
    },
    {
     "name": "stderr",
     "output_type": "stream",
     "text": [
      "t 1 loss 0.0149 c 0.0137 m 0.0012: 100%|██████████| 649/649 [08:25<00:00,  1.28it/s]\n",
      "e 1 loss 0.0095: 100%|██████████| 47/47 [00:26<00:00,  1.79it/s]\n"
     ]
    },
    {
     "name": "stdout",
     "output_type": "stream",
     "text": [
      "epoch 1 train_loss 0.01968054692239396 eval_loss 0.00998527664651579\n"
     ]
    },
    {
     "name": "stderr",
     "output_type": "stream",
     "text": [
      "t 2 loss 0.0184 c 0.0172 m 0.0012: 100%|██████████| 649/649 [08:28<00:00,  1.28it/s]\n",
      "e 2 loss 0.0073: 100%|██████████| 47/47 [00:26<00:00,  1.80it/s]\n"
     ]
    },
    {
     "name": "stdout",
     "output_type": "stream",
     "text": [
      "epoch 2 train_loss 0.01685635905744413 eval_loss 0.0076691559119585985\n"
     ]
    },
    {
     "name": "stderr",
     "output_type": "stream",
     "text": [
      "t 3 loss 0.0170 c 0.0164 m 0.0006: 100%|██████████| 649/649 [08:28<00:00,  1.28it/s]\n",
      "e 3 loss 0.0076: 100%|██████████| 47/47 [00:29<00:00,  1.61it/s]\n"
     ]
    },
    {
     "name": "stdout",
     "output_type": "stream",
     "text": [
      "epoch 3 train_loss 0.0126339535835918 eval_loss 0.008048914065782694\n"
     ]
    },
    {
     "name": "stderr",
     "output_type": "stream",
     "text": [
      "t 4 loss 0.0129 c 0.0118 m 0.0011: 100%|██████████| 649/649 [08:27<00:00,  1.28it/s]\n",
      "e 4 loss 0.0079: 100%|██████████| 47/47 [00:27<00:00,  1.69it/s]\n"
     ]
    },
    {
     "name": "stdout",
     "output_type": "stream",
     "text": [
      "epoch 4 train_loss 0.020709835396841375 eval_loss 0.007939467731704737\n"
     ]
    },
    {
     "name": "stderr",
     "output_type": "stream",
     "text": [
      "t 5 loss 0.0127 c 0.0122 m 0.0006: 100%|██████████| 649/649 [08:27<00:00,  1.28it/s]\n",
      "e 5 loss 0.0077: 100%|██████████| 47/47 [00:27<00:00,  1.69it/s]\n"
     ]
    },
    {
     "name": "stdout",
     "output_type": "stream",
     "text": [
      "epoch 5 train_loss 0.013006119749929256 eval_loss 0.008249677133132169\n"
     ]
    },
    {
     "name": "stderr",
     "output_type": "stream",
     "text": [
      "t 6 loss 0.0107 c 0.0102 m 0.0005: 100%|██████████| 649/649 [08:28<00:00,  1.28it/s]\n",
      "e 6 loss 0.0060: 100%|██████████| 47/47 [00:28<00:00,  1.66it/s]\n"
     ]
    },
    {
     "name": "stdout",
     "output_type": "stream",
     "text": [
      "epoch 6 train_loss 0.011882990503250312 eval_loss 0.006348740190584609\n"
     ]
    },
    {
     "name": "stderr",
     "output_type": "stream",
     "text": [
      "t 7 loss 0.0126 c 0.0122 m 0.0004: 100%|██████████| 649/649 [08:30<00:00,  1.27it/s]\n",
      "e 7 loss 0.0065: 100%|██████████| 47/47 [00:28<00:00,  1.66it/s]\n"
     ]
    },
    {
     "name": "stdout",
     "output_type": "stream",
     "text": [
      "epoch 7 train_loss 0.011292866942758323 eval_loss 0.007013131923815037\n"
     ]
    },
    {
     "name": "stderr",
     "output_type": "stream",
     "text": [
      "t 8 loss 0.0133 c 0.0126 m 0.0006: 100%|██████████| 649/649 [08:27<00:00,  1.28it/s]\n",
      "e 8 loss 0.0060: 100%|██████████| 47/47 [00:27<00:00,  1.69it/s]\n"
     ]
    },
    {
     "name": "stdout",
     "output_type": "stream",
     "text": [
      "epoch 8 train_loss 0.010806868189317281 eval_loss 0.0063194288436244144\n"
     ]
    },
    {
     "name": "stderr",
     "output_type": "stream",
     "text": [
      "t 9 loss 0.0113 c 0.0110 m 0.0003: 100%|██████████| 649/649 [08:27<00:00,  1.28it/s]\n",
      "e 9 loss 0.0068: 100%|██████████| 47/47 [00:28<00:00,  1.68it/s]\n"
     ]
    },
    {
     "name": "stdout",
     "output_type": "stream",
     "text": [
      "epoch 9 train_loss 0.010332475485960353 eval_loss 0.007471515608832557\n"
     ]
    },
    {
     "name": "stderr",
     "output_type": "stream",
     "text": [
      "t 10 loss 0.0138 c 0.0134 m 0.0004: 100%|██████████| 649/649 [08:29<00:00,  1.27it/s]\n",
      "e 10 loss 0.0066: 100%|██████████| 47/47 [00:28<00:00,  1.64it/s]\n"
     ]
    },
    {
     "name": "stdout",
     "output_type": "stream",
     "text": [
      "epoch 10 train_loss 0.009694262561266338 eval_loss 0.007137136256441157\n"
     ]
    },
    {
     "name": "stderr",
     "output_type": "stream",
     "text": [
      "t 11 loss 0.0090 c 0.0088 m 0.0002: 100%|██████████| 649/649 [08:28<00:00,  1.28it/s]\n",
      "e 11 loss 0.0058: 100%|██████████| 47/47 [00:28<00:00,  1.63it/s]\n"
     ]
    },
    {
     "name": "stdout",
     "output_type": "stream",
     "text": [
      "epoch 11 train_loss 0.009415186473092377 eval_loss 0.006354909717164775\n"
     ]
    },
    {
     "name": "stderr",
     "output_type": "stream",
     "text": [
      "t 12 loss 0.0103 c 0.0101 m 0.0002: 100%|██████████| 649/649 [08:27<00:00,  1.28it/s]\n",
      "e 12 loss 0.0060: 100%|██████████| 47/47 [00:28<00:00,  1.66it/s]\n"
     ]
    },
    {
     "name": "stdout",
     "output_type": "stream",
     "text": [
      "epoch 12 train_loss 0.009158491517183226 eval_loss 0.006464701720533219\n"
     ]
    },
    {
     "name": "stderr",
     "output_type": "stream",
     "text": [
      "t 13 loss 0.0048 c 0.0046 m 0.0001: 100%|██████████| 649/649 [08:28<00:00,  1.28it/s]\n",
      "e 13 loss 0.0052: 100%|██████████| 47/47 [00:27<00:00,  1.68it/s]\n"
     ]
    },
    {
     "name": "stdout",
     "output_type": "stream",
     "text": [
      "epoch 13 train_loss 0.008874441594608668 eval_loss 0.005635671961577015\n"
     ]
    },
    {
     "name": "stderr",
     "output_type": "stream",
     "text": [
      "t 14 loss 0.0105 c 0.0102 m 0.0002: 100%|██████████| 649/649 [08:29<00:00,  1.27it/s]\n",
      "e 14 loss 0.0054: 100%|██████████| 47/47 [00:27<00:00,  1.69it/s]\n"
     ]
    },
    {
     "name": "stdout",
     "output_type": "stream",
     "text": [
      "epoch 14 train_loss 0.00863934815782359 eval_loss 0.005948078600650138\n"
     ]
    },
    {
     "name": "stderr",
     "output_type": "stream",
     "text": [
      "t 15 loss 0.0083 c 0.0081 m 0.0002: 100%|██████████| 649/649 [08:31<00:00,  1.27it/s]\n",
      "e 15 loss 0.0058: 100%|██████████| 47/47 [00:28<00:00,  1.66it/s]\n"
     ]
    },
    {
     "name": "stdout",
     "output_type": "stream",
     "text": [
      "epoch 15 train_loss 0.008139671961947679 eval_loss 0.006251485800330943\n"
     ]
    },
    {
     "name": "stderr",
     "output_type": "stream",
     "text": [
      "t 16 loss 0.0030 c 0.0029 m 0.0001: 100%|██████████| 649/649 [08:30<00:00,  1.27it/s]\n",
      "e 16 loss 0.0055: 100%|██████████| 47/47 [00:28<00:00,  1.63it/s]\n"
     ]
    },
    {
     "name": "stdout",
     "output_type": "stream",
     "text": [
      "epoch 16 train_loss 0.007945625926906067 eval_loss 0.005999133149360089\n"
     ]
    },
    {
     "name": "stderr",
     "output_type": "stream",
     "text": [
      "t 17 loss 0.0098 c 0.0096 m 0.0002: 100%|██████████| 649/649 [08:30<00:00,  1.27it/s]\n",
      "e 17 loss 0.0051: 100%|██████████| 47/47 [00:28<00:00,  1.67it/s]\n"
     ]
    },
    {
     "name": "stdout",
     "output_type": "stream",
     "text": [
      "epoch 17 train_loss 0.007762274301635282 eval_loss 0.005560800710574109\n"
     ]
    },
    {
     "name": "stderr",
     "output_type": "stream",
     "text": [
      "t 18 loss 0.0085 c 0.0083 m 0.0002: 100%|██████████| 649/649 [08:29<00:00,  1.27it/s]\n",
      "e 18 loss 0.0049: 100%|██████████| 47/47 [00:28<00:00,  1.67it/s]\n"
     ]
    },
    {
     "name": "stdout",
     "output_type": "stream",
     "text": [
      "epoch 18 train_loss 0.007606536259757031 eval_loss 0.0052448711457087635\n"
     ]
    },
    {
     "name": "stderr",
     "output_type": "stream",
     "text": [
      "t 19 loss 0.0090 c 0.0087 m 0.0002: 100%|██████████| 649/649 [08:31<00:00,  1.27it/s]\n",
      "e 19 loss 0.0054: 100%|██████████| 47/47 [00:29<00:00,  1.57it/s]\n"
     ]
    },
    {
     "name": "stdout",
     "output_type": "stream",
     "text": [
      "epoch 19 train_loss 0.0074368450705978 eval_loss 0.005791301769699822\n"
     ]
    }
   ],
   "source": [
    "epochs = 20\n",
    "\n",
    "for e in range(epochs):\n",
    "\n",
    "    train_loss = train_one_epoch(epoch, model, train_loader)\n",
    "\n",
    "    with torch.no_grad():\n",
    "        eval_loss = evaluate(epoch, model, val_loader)\n",
    "        inference(model, val_dataset)\n",
    "\n",
    "    print(f\"epoch {epoch} train_loss {train_loss} eval_loss {eval_loss}\")\n",
    "\n",
    "    epoch += 1\n",
    "    scheduler.step()"
   ]
  },
  {
   "cell_type": "code",
   "execution_count": 34,
   "metadata": {
    "collapsed": false,
    "jupyter": {
     "outputs_hidden": false
    }
   },
   "outputs": [
    {
     "name": "stderr",
     "output_type": "stream",
     "text": [
      "wandb: Waiting for W&B process to finish... (success).\n",
      "wandb: | 40.074 MB of 40.074 MB uploaded (0.000 MB deduped)\r"
     ]
    }
   ],
   "source": [
    "state = {\n",
    "    \"model\": model.state_dict(),\n",
    "    \"optimizer\": optimizer.state_dict(),\n",
    "    \"scheduler\": scheduler.state_dict(),\n",
    "    \"epoch\": epoch,\n",
    "}\n",
    "torch.save(state, f'{wandb.run.name}-epoch-{epoch}.pth')"
   ]
  }
 ],
 "metadata": {
  "kernelspec": {
   "display_name": "Python 3 (ipykernel)",
   "language": "python",
   "name": "python3"
  },
  "language_info": {
   "codemirror_mode": {
    "name": "ipython",
    "version": 3
   },
   "file_extension": ".py",
   "mimetype": "text/x-python",
   "name": "python",
   "nbconvert_exporter": "python",
   "pygments_lexer": "ipython3",
   "version": "3.8.10"
  }
 },
 "nbformat": 4,
 "nbformat_minor": 4
}
