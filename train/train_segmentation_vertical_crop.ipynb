{
 "cells": [
  {
   "cell_type": "code",
   "execution_count": 1,
   "metadata": {
    "collapsed": false,
    "jupyter": {
     "outputs_hidden": false
    }
   },
   "outputs": [],
   "source": [
    "# ! pip install python-gdcm\n",
    "# ! pip install pylibjpeg pylibjpeg-libjpeg pydicom pylibjpeg-openjpeg"
   ]
  },
  {
   "cell_type": "code",
   "execution_count": 2,
   "metadata": {},
   "outputs": [],
   "source": [
    "import wandb\n",
    "from datetime import datetime"
   ]
  },
  {
   "cell_type": "code",
   "execution_count": 3,
   "metadata": {
    "collapsed": false,
    "jupyter": {
     "outputs_hidden": false
    }
   },
   "outputs": [],
   "source": [
    "lr = 1e-3\n",
    "batch_size = 32\n",
    "wd = 5e-5\n",
    "pos_weight = 20\n",
    "mse_weight = 100  # relative to classification error\n",
    "image_size = 256\n",
    "backbone=\"resnet50\"\n",
    "vertical_type = \"sagittal\""
   ]
  },
  {
   "cell_type": "code",
   "execution_count": 4,
   "metadata": {
    "collapsed": false,
    "jupyter": {
     "outputs_hidden": false
    }
   },
   "outputs": [
    {
     "name": "stderr",
     "output_type": "stream",
     "text": [
      "Failed to detect the name of this notebook, you can set it manually with the WANDB_NOTEBOOK_NAME environment variable to enable code saving.\n",
      "\u001B[34m\u001B[1mwandb\u001B[0m: Currently logged in as: \u001B[33mlongyi\u001B[0m. Use \u001B[1m`wandb login --relogin`\u001B[0m to force relogin\n"
     ]
    },
    {
     "data": {
      "text/html": [
       "Tracking run with wandb version 0.13.3"
      ],
      "text/plain": [
       "<IPython.core.display.HTML object>"
      ]
     },
     "metadata": {},
     "output_type": "display_data"
    },
    {
     "data": {
      "text/html": [
       "Run data is saved locally in <code>/root/cervical_spine/train/wandb/run-20220926_095728-1mxizaa9</code>"
      ],
      "text/plain": [
       "<IPython.core.display.HTML object>"
      ]
     },
     "metadata": {},
     "output_type": "display_data"
    },
    {
     "data": {
      "text/html": [
       "Syncing run <strong><a href=\"http://8.210.101.57:8081/longyi/cervical-spine/runs/1mxizaa9\" target=\"_blank\">dandy-pyramid-49</a></strong> to <a href=\"http://8.210.101.57:8081/longyi/cervical-spine\" target=\"_blank\">Weights & Biases</a> (<a href=\"https://wandb.me/run\" target=\"_blank\">docs</a>)<br/>"
      ],
      "text/plain": [
       "<IPython.core.display.HTML object>"
      ]
     },
     "metadata": {},
     "output_type": "display_data"
    },
    {
     "data": {
      "text/plain": [
       "'sagittal_segmentation_detection_095730'"
      ]
     },
     "execution_count": 4,
     "metadata": {},
     "output_type": "execute_result"
    }
   ],
   "source": [
    "wandb_entity='longyi'\n",
    "model_name = \"detection\"\n",
    "wandb.init(project=\"cervical-spine\", entity=wandb_entity, config={\n",
    "    \"model\":model_name,\n",
    "    \"batch_size\":batch_size,\n",
    "    \"lr\" : lr,\n",
    "    \"wd\" : wd,\n",
    "    \"pos_weight\" : pos_weight,\n",
    "    \"mse_weight\" : mse_weight,\n",
    "    \"backbone\" : backbone,\n",
    "    \"image_size\" : image_size,\n",
    "})\n",
    "wandb.run.name = f'{vertical_type}_segmentation_{model_name}_' + datetime.now().strftime(\"%H%M%S\")\n",
    "wandb.run.name"
   ]
  },
  {
   "cell_type": "code",
   "execution_count": 5,
   "metadata": {
    "collapsed": false,
    "jupyter": {
     "outputs_hidden": false
    }
   },
   "outputs": [],
   "source": [
    "import os\n",
    "import glob\n",
    "import pydicom\n",
    "import nibabel as nib\n",
    "import pandas as pd\n",
    "import numpy as np\n",
    "from pydicom.pixel_data_handlers.util import apply_voi_lut\n",
    "import matplotlib.pyplot as plt\n",
    "import matplotlib.patches as patches\n",
    "import seaborn as sns\n",
    "import math\n",
    "from tqdm import tqdm\n",
    "\n",
    "from PIL import Image, ImageOps"
   ]
  },
  {
   "cell_type": "code",
   "execution_count": 6,
   "metadata": {
    "collapsed": false,
    "jupyter": {
     "outputs_hidden": false
    }
   },
   "outputs": [],
   "source": [
    "import torch\n",
    "import torch.nn as nn\n",
    "import torch.nn.functional as F\n",
    "import torch.optim as optim\n",
    "from torch.utils.data import Dataset, DataLoader\n",
    "import torchvision\n",
    "from torchvision.io import read_image\n",
    "import torchvision.transforms as T\n",
    "from torchvision.transforms import Compose, ToTensor, Normalize, Resize, CenterCrop\n",
    "import torchvision.transforms.functional as TF\n",
    "import torchvision.models as models"
   ]
  },
  {
   "cell_type": "code",
   "execution_count": 7,
   "metadata": {
    "collapsed": false,
    "jupyter": {
     "outputs_hidden": false
    }
   },
   "outputs": [],
   "source": [
    "# DATA_DIR = \"/media/longyi/SSD9701/\"\n",
    "# DATA_DIR = \"/Volumes/SSD970/\"\n",
    "DATA_DIR = \"/root/autodl-tmp/cervical_spine/\"\n",
    "TRAIN_IMAGES_DIR = os.path.join(DATA_DIR, \"train_images\")\n",
    "\n",
    "IMAGES_DIR = os.path.join(DATA_DIR, f\"train_{vertical_type}_images_jpeg95\")\n",
    "LABEL_DIR = os.path.join(DATA_DIR, f\"segmentation_{vertical_type}_labels\")"
   ]
  },
  {
   "cell_type": "code",
   "execution_count": 8,
   "metadata": {
    "collapsed": false,
    "jupyter": {
     "outputs_hidden": false
    }
   },
   "outputs": [
    {
     "data": {
      "text/html": [
       "<div>\n",
       "<style scoped>\n",
       "    .dataframe tbody tr th:only-of-type {\n",
       "        vertical-align: middle;\n",
       "    }\n",
       "\n",
       "    .dataframe tbody tr th {\n",
       "        vertical-align: top;\n",
       "    }\n",
       "\n",
       "    .dataframe thead th {\n",
       "        text-align: right;\n",
       "    }\n",
       "</style>\n",
       "<table border=\"1\" class=\"dataframe\">\n",
       "  <thead>\n",
       "    <tr style=\"text-align: right;\">\n",
       "      <th></th>\n",
       "      <th>sagittal_index</th>\n",
       "      <th>bottom</th>\n",
       "      <th>right</th>\n",
       "      <th>top</th>\n",
       "      <th>left</th>\n",
       "      <th>z_spacing</th>\n",
       "      <th>pixel_spacing</th>\n",
       "      <th>aspect</th>\n",
       "      <th>width</th>\n",
       "      <th>height</th>\n",
       "      <th>is_flip</th>\n",
       "    </tr>\n",
       "    <tr>\n",
       "      <th>UID</th>\n",
       "      <th></th>\n",
       "      <th></th>\n",
       "      <th></th>\n",
       "      <th></th>\n",
       "      <th></th>\n",
       "      <th></th>\n",
       "      <th></th>\n",
       "      <th></th>\n",
       "      <th></th>\n",
       "      <th></th>\n",
       "      <th></th>\n",
       "    </tr>\n",
       "  </thead>\n",
       "  <tbody>\n",
       "    <tr>\n",
       "      <th>1.2.826.0.1.3680043.10633</th>\n",
       "      <td>0</td>\n",
       "      <td>606</td>\n",
       "      <td>464</td>\n",
       "      <td>182</td>\n",
       "      <td>128</td>\n",
       "      <td>0.5</td>\n",
       "      <td>0.285156</td>\n",
       "      <td>1.753425</td>\n",
       "      <td>512</td>\n",
       "      <td>752</td>\n",
       "      <td>0</td>\n",
       "    </tr>\n",
       "    <tr>\n",
       "      <th>1.2.826.0.1.3680043.10633</th>\n",
       "      <td>1</td>\n",
       "      <td>606</td>\n",
       "      <td>464</td>\n",
       "      <td>182</td>\n",
       "      <td>128</td>\n",
       "      <td>0.5</td>\n",
       "      <td>0.285156</td>\n",
       "      <td>1.753425</td>\n",
       "      <td>512</td>\n",
       "      <td>752</td>\n",
       "      <td>0</td>\n",
       "    </tr>\n",
       "    <tr>\n",
       "      <th>1.2.826.0.1.3680043.10633</th>\n",
       "      <td>2</td>\n",
       "      <td>606</td>\n",
       "      <td>464</td>\n",
       "      <td>182</td>\n",
       "      <td>128</td>\n",
       "      <td>0.5</td>\n",
       "      <td>0.285156</td>\n",
       "      <td>1.753425</td>\n",
       "      <td>512</td>\n",
       "      <td>752</td>\n",
       "      <td>0</td>\n",
       "    </tr>\n",
       "    <tr>\n",
       "      <th>1.2.826.0.1.3680043.10633</th>\n",
       "      <td>3</td>\n",
       "      <td>606</td>\n",
       "      <td>464</td>\n",
       "      <td>182</td>\n",
       "      <td>128</td>\n",
       "      <td>0.5</td>\n",
       "      <td>0.285156</td>\n",
       "      <td>1.753425</td>\n",
       "      <td>512</td>\n",
       "      <td>752</td>\n",
       "      <td>0</td>\n",
       "    </tr>\n",
       "    <tr>\n",
       "      <th>1.2.826.0.1.3680043.10633</th>\n",
       "      <td>4</td>\n",
       "      <td>606</td>\n",
       "      <td>464</td>\n",
       "      <td>182</td>\n",
       "      <td>128</td>\n",
       "      <td>0.5</td>\n",
       "      <td>0.285156</td>\n",
       "      <td>1.753425</td>\n",
       "      <td>512</td>\n",
       "      <td>752</td>\n",
       "      <td>0</td>\n",
       "    </tr>\n",
       "  </tbody>\n",
       "</table>\n",
       "</div>"
      ],
      "text/plain": [
       "                           sagittal_index  bottom  right  top  left  \\\n",
       "UID                                                                   \n",
       "1.2.826.0.1.3680043.10633               0     606    464  182   128   \n",
       "1.2.826.0.1.3680043.10633               1     606    464  182   128   \n",
       "1.2.826.0.1.3680043.10633               2     606    464  182   128   \n",
       "1.2.826.0.1.3680043.10633               3     606    464  182   128   \n",
       "1.2.826.0.1.3680043.10633               4     606    464  182   128   \n",
       "\n",
       "                           z_spacing  pixel_spacing    aspect  width  height  \\\n",
       "UID                                                                            \n",
       "1.2.826.0.1.3680043.10633        0.5       0.285156  1.753425    512     752   \n",
       "1.2.826.0.1.3680043.10633        0.5       0.285156  1.753425    512     752   \n",
       "1.2.826.0.1.3680043.10633        0.5       0.285156  1.753425    512     752   \n",
       "1.2.826.0.1.3680043.10633        0.5       0.285156  1.753425    512     752   \n",
       "1.2.826.0.1.3680043.10633        0.5       0.285156  1.753425    512     752   \n",
       "\n",
       "                           is_flip  \n",
       "UID                                 \n",
       "1.2.826.0.1.3680043.10633        0  \n",
       "1.2.826.0.1.3680043.10633        0  \n",
       "1.2.826.0.1.3680043.10633        0  \n",
       "1.2.826.0.1.3680043.10633        0  \n",
       "1.2.826.0.1.3680043.10633        0  "
      ]
     },
     "execution_count": 8,
     "metadata": {},
     "output_type": "execute_result"
    }
   ],
   "source": [
    "seg_df = pd.read_csv(f'meta_segmentation_{vertical_type}_boundary.csv')\n",
    "seg_df = seg_df.set_index(['UID'])\n",
    "seg_df.head()"
   ]
  },
  {
   "cell_type": "code",
   "execution_count": 9,
   "metadata": {
    "collapsed": false,
    "jupyter": {
     "outputs_hidden": false
    }
   },
   "outputs": [
    {
     "data": {
      "text/plain": [
       "<matplotlib.image.AxesImage at 0x7fcbc5072d60>"
      ]
     },
     "execution_count": 9,
     "metadata": {},
     "output_type": "execute_result"
    },
    {
     "data": {
      "image/png": "[encoded data removed]",
      "text/plain": [
       "<Figure size 432x288 with 2 Axes>"
      ]
     },
     "metadata": {
      "needs_background": "light"
     },
     "output_type": "display_data"
    }
   ],
   "source": [
    "_, axs = plt.subplots(1, 2)\n",
    "\n",
    "img = Image.open(os.path.join(IMAGES_DIR, seg_df.iloc[0].name, f\"254.jpeg\"))\n",
    "axs[0].imshow(img, cmap='bone')\n",
    "\n",
    "label = Image.open(os.path.join(LABEL_DIR, seg_df.iloc[0].name, f\"254.png\"))\n",
    "axs[1].imshow(label)"
   ]
  },
  {
   "cell_type": "code",
   "execution_count": 10,
   "metadata": {
    "collapsed": false,
    "jupyter": {
     "outputs_hidden": false
    }
   },
   "outputs": [
    {
     "data": {
      "text/plain": [
       "array([  0,  32,  64,  96, 128, 160, 192, 224], dtype=uint8)"
      ]
     },
     "execution_count": 10,
     "metadata": {},
     "output_type": "execute_result"
    }
   ],
   "source": [
    "np.unique(np.asarray(label))"
   ]
  },
  {
   "cell_type": "markdown",
   "metadata": {},
   "source": [
    "## Boundary\n"
   ]
  },
  {
   "cell_type": "code",
   "execution_count": 11,
   "metadata": {
    "collapsed": false,
    "jupyter": {
     "outputs_hidden": false
    }
   },
   "outputs": [
    {
     "data": {
      "text/html": [
       "<div>\n",
       "<style scoped>\n",
       "    .dataframe tbody tr th:only-of-type {\n",
       "        vertical-align: middle;\n",
       "    }\n",
       "\n",
       "    .dataframe tbody tr th {\n",
       "        vertical-align: top;\n",
       "    }\n",
       "\n",
       "    .dataframe thead th {\n",
       "        text-align: right;\n",
       "    }\n",
       "</style>\n",
       "<table border=\"1\" class=\"dataframe\">\n",
       "  <thead>\n",
       "    <tr style=\"text-align: right;\">\n",
       "      <th></th>\n",
       "      <th>coronal_left</th>\n",
       "      <th>coronal_top</th>\n",
       "      <th>coronal_right</th>\n",
       "      <th>coronal_bottom</th>\n",
       "      <th>sagittal_left</th>\n",
       "      <th>sagittal_top</th>\n",
       "      <th>sagittal_right</th>\n",
       "      <th>sagittal_bottom</th>\n",
       "    </tr>\n",
       "    <tr>\n",
       "      <th>UID</th>\n",
       "      <th></th>\n",
       "      <th></th>\n",
       "      <th></th>\n",
       "      <th></th>\n",
       "      <th></th>\n",
       "      <th></th>\n",
       "      <th></th>\n",
       "      <th></th>\n",
       "    </tr>\n",
       "  </thead>\n",
       "  <tbody>\n",
       "    <tr>\n",
       "      <th>1.2.826.0.1.3680043.10001</th>\n",
       "      <td>74</td>\n",
       "      <td>54</td>\n",
       "      <td>185</td>\n",
       "      <td>213</td>\n",
       "      <td>58</td>\n",
       "      <td>54</td>\n",
       "      <td>164</td>\n",
       "      <td>213</td>\n",
       "    </tr>\n",
       "    <tr>\n",
       "      <th>1.2.826.0.1.3680043.10005</th>\n",
       "      <td>66</td>\n",
       "      <td>10</td>\n",
       "      <td>172</td>\n",
       "      <td>142</td>\n",
       "      <td>31</td>\n",
       "      <td>9</td>\n",
       "      <td>166</td>\n",
       "      <td>126</td>\n",
       "    </tr>\n",
       "    <tr>\n",
       "      <th>1.2.826.0.1.3680043.10014</th>\n",
       "      <td>79</td>\n",
       "      <td>61</td>\n",
       "      <td>170</td>\n",
       "      <td>239</td>\n",
       "      <td>73</td>\n",
       "      <td>61</td>\n",
       "      <td>182</td>\n",
       "      <td>239</td>\n",
       "    </tr>\n",
       "    <tr>\n",
       "      <th>1.2.826.0.1.3680043.10016</th>\n",
       "      <td>83</td>\n",
       "      <td>49</td>\n",
       "      <td>176</td>\n",
       "      <td>192</td>\n",
       "      <td>62</td>\n",
       "      <td>49</td>\n",
       "      <td>166</td>\n",
       "      <td>195</td>\n",
       "    </tr>\n",
       "    <tr>\n",
       "      <th>1.2.826.0.1.3680043.10032</th>\n",
       "      <td>74</td>\n",
       "      <td>68</td>\n",
       "      <td>168</td>\n",
       "      <td>223</td>\n",
       "      <td>48</td>\n",
       "      <td>67</td>\n",
       "      <td>179</td>\n",
       "      <td>223</td>\n",
       "    </tr>\n",
       "  </tbody>\n",
       "</table>\n",
       "</div>"
      ],
      "text/plain": [
       "                           coronal_left  coronal_top  coronal_right  \\\n",
       "UID                                                                   \n",
       "1.2.826.0.1.3680043.10001            74           54            185   \n",
       "1.2.826.0.1.3680043.10005            66           10            172   \n",
       "1.2.826.0.1.3680043.10014            79           61            170   \n",
       "1.2.826.0.1.3680043.10016            83           49            176   \n",
       "1.2.826.0.1.3680043.10032            74           68            168   \n",
       "\n",
       "                           coronal_bottom  sagittal_left  sagittal_top  \\\n",
       "UID                                                                      \n",
       "1.2.826.0.1.3680043.10001             213             58            54   \n",
       "1.2.826.0.1.3680043.10005             142             31             9   \n",
       "1.2.826.0.1.3680043.10014             239             73            61   \n",
       "1.2.826.0.1.3680043.10016             192             62            49   \n",
       "1.2.826.0.1.3680043.10032             223             48            67   \n",
       "\n",
       "                           sagittal_right  sagittal_bottom  \n",
       "UID                                                         \n",
       "1.2.826.0.1.3680043.10001             164              213  \n",
       "1.2.826.0.1.3680043.10005             166              126  \n",
       "1.2.826.0.1.3680043.10014             182              239  \n",
       "1.2.826.0.1.3680043.10016             166              195  \n",
       "1.2.826.0.1.3680043.10032             179              223  "
      ]
     },
     "execution_count": 11,
     "metadata": {},
     "output_type": "execute_result"
    }
   ],
   "source": [
    "bbox_df = pd.read_csv(os.path.join(DATA_DIR, 'meta_boundary_throw_anomaly.csv')).set_index('UID')\n",
    "bbox_df.head()\n",
    "# seg_bbox_df = bbox_df.loc[seg_df.index.unique().values]\n",
    "# print(len(seg_bbox_df))\n",
    "# seg_bbox_df.head()\n"
   ]
  },
  {
   "cell_type": "markdown",
   "metadata": {},
   "source": [
    "여기서 boundary 를 inference 할때는\n",
    "crop(max(width, height))\n",
    "resize(256)\n",
    "과정을 거쳤다.\n",
    "그래서 원래 이미지의 위치를 추론할 수 있어야 한다."
   ]
  },
  {
   "cell_type": "code",
   "execution_count": 12,
   "metadata": {
    "collapsed": false,
    "jupyter": {
     "outputs_hidden": false
    }
   },
   "outputs": [],
   "source": [
    "def get_original_position(size, bbox, tol=0.1):\n",
    "    \"\"\"\n",
    "    original position out of 512\n",
    "    :param size: [h, w] usually 512\n",
    "    :param bbox: numpy 4, bbox position [left, top, right, bottom] max number 256\n",
    "    :return:\n",
    "    \"\"\"\n",
    "    h, w = size\n",
    "    left, top, right, bottom = bbox * max(size) / 256\n",
    "    pad = (max(size) - min(size)) // 2  # pad number of left or top\n",
    "    if w > h:\n",
    "        left, top, right, bottom = [left, -pad + top, right, -pad + bottom]\n",
    "    else:\n",
    "        left, top, right, bottom = [-pad + left, top, -pad + right, bottom]\n",
    "    w_tol = (right - left) * tol\n",
    "    h_tol = (bottom - top) * tol\n",
    "    left, top, right, bottom = left - w_tol, top - h_tol, right + w_tol, bottom + h_tol\n",
    "    return int(math.floor(max(0, left))), int(math.floor(max(0, top))), int(math.ceil(min(w, right))), int(math.ceil(min(h, bottom)))\n",
    "\n",
    "# idx = 5000\n",
    "# series = seg_df.loc[\"1.2.826.0.1.3680043.11988\"].iloc[0]\n",
    "# UID = series.name\n",
    "# print(series[[\"height\", \"width\"]])\n",
    "# print(seg_bbox_df.loc[UID, [f\"{vertical_type}_left\", f\"{vertical_type}_top\",f\"{vertical_type}_right\",f\"{vertical_type}_bottom\"]])\n",
    "# left, top, right, bottom = get_original_position(series[[\"height\", \"width\"]].values, seg_bbox_df.loc[UID, [f\"{vertical_type}_left\", f\"{vertical_type}_top\",f\"{vertical_type}_right\",f\"{vertical_type}_bottom\"]], tol=0.1)\n",
    "# print([left, top, right, bottom])\n",
    "# img = Image.open(os.path.join(IMAGES_DIR, UID, f\"254.jpeg\"))\n",
    "\n",
    "# _, axs = plt.subplots(1, 2)\n",
    "# axs[0].imshow(img, cmap='bone')\n",
    "# axs[0].grid('off')\n",
    "# axs[0].axvline(left)\n",
    "# axs[0].axvline(right)\n",
    "# axs[0].axhline(top)\n",
    "# axs[0].axhline(bottom)\n",
    "# axs[0].axis('off')\n",
    "\n",
    "# label = Image.open(os.path.join(LABEL_DIR, UID, \"254.png\"))\n",
    "# axs[1].imshow(label, cmap='bone')\n",
    "# axs[1].grid('off')\n",
    "# axs[1].axvline(left)\n",
    "# axs[1].axvline(right)\n",
    "# axs[1].axhline(top)\n",
    "# axs[1].axhline(bottom)\n",
    "# axs[1].axis('off')\n"
   ]
  },
  {
   "cell_type": "code",
   "execution_count": 13,
   "metadata": {
    "collapsed": false,
    "jupyter": {
     "outputs_hidden": false
    }
   },
   "outputs": [],
   "source": [
    "# seg_df.insert(1, 'left', None)\n",
    "# seg_df.insert(1, 'top', None)\n",
    "# seg_df.insert(1, 'right', None)\n",
    "# seg_df.insert(1, 'bottom', None)\n",
    "# seg_df.head()\n"
   ]
  },
  {
   "cell_type": "code",
   "execution_count": 14,
   "metadata": {
    "collapsed": false,
    "jupyter": {
     "outputs_hidden": false
    }
   },
   "outputs": [],
   "source": [
    "# seg_df.iloc[500:600]"
   ]
  },
  {
   "cell_type": "code",
   "execution_count": 15,
   "metadata": {
    "collapsed": false,
    "jupyter": {
     "outputs_hidden": false
    }
   },
   "outputs": [],
   "source": [
    "# for i in tqdm(range(len(seg_bbox_df))):\n",
    "#     row = seg_bbox_df.iloc[i]\n",
    "#     UID = row.name\n",
    "#     series = seg_df.loc[UID].iloc[0]\n",
    "#     # print(series[[\"height\", \"width\"]])\n",
    "#     left, top, right, bottom = get_original_position(series[[\"height\", \"width\"]].values, seg_bbox_df.loc[UID, [f\"{vertical_type}_left\", f\"{vertical_type}_top\",f\"{vertical_type}_right\",f\"{vertical_type}_bottom\"]], tol=0.1)\n",
    "#     # print(np.asarray([[left, top, right, bottom]]).repeat(len(seg_df.loc[UID]), axis=0).transpose().shape)\n",
    "#     # seg_df.loc[UID, ['left','top','right','bottom']] = np.asarray([[left, top, right, bottom]]).repeat(len(seg_df.loc[UID]), axis=0)\n",
    "#     seg_df.loc[UID, ['left']] = left\n",
    "#     seg_df.loc[UID, ['top']] = top\n",
    "#     seg_df.loc[UID, ['right']] = right\n",
    "#     seg_df.loc[UID, ['bottom']] = bottom\n",
    "# seg_df.head()"
   ]
  },
  {
   "cell_type": "code",
   "execution_count": 16,
   "metadata": {},
   "outputs": [],
   "source": [
    "# seg_df.to_csv('meta_segmentation_sagittal_boundary.csv')"
   ]
  },
  {
   "cell_type": "markdown",
   "metadata": {},
   "source": [
    "## Dataset"
   ]
  },
  {
   "cell_type": "code",
   "execution_count": 17,
   "metadata": {
    "collapsed": false,
    "jupyter": {
     "outputs_hidden": false
    }
   },
   "outputs": [],
   "source": [
    "class SegDataset(Dataset):\n",
    "    def __init__(self, df, image_dir, seg_dir, transform=None):\n",
    "        self.df = df\n",
    "        self.image_dir = image_dir\n",
    "        self.seg_dir = seg_dir\n",
    "        self.transform = transform\n",
    "\n",
    "    def __len__(self):\n",
    "        return len(self.df)\n",
    "\n",
    "    def __getitem__(self, idx):\n",
    "        df = self.df.iloc[idx]\n",
    "        UID = df.name\n",
    "\n",
    "        index = int(df[f\"{vertical_type}_index\"])\n",
    "\n",
    "        slice_img = Image.open(os.path.join(self.image_dir, UID, f\"{index}.jpeg\"))\n",
    "        label_img = Image.open(os.path.join(self.seg_dir, UID, f\"{index}.png\"))\n",
    "\n",
    "        left, top, right, bottom = df[['left','top','right','bottom']]\n",
    "        slice_img = TF.crop(slice_img, top, left, bottom-top, right-left)\n",
    "        label_img = TF.crop(label_img, top, left, bottom-top, right-left)\n",
    "\n",
    "        # label_img = np.round(np.asarray(label_img, np.uint8) // 32)\n",
    "        if self.transform:\n",
    "            slice_img, label_img = self.transform(slice_img, label_img)\n",
    "\n",
    "        return slice_img, label_img"
   ]
  },
  {
   "cell_type": "code",
   "execution_count": 18,
   "metadata": {
    "collapsed": false,
    "jupyter": {
     "outputs_hidden": false
    }
   },
   "outputs": [
    {
     "data": {
      "image/png": "[encoded data removed]",
      "text/plain": [
       "<PIL.Image.Image image mode=L size=336x424 at 0x7FCBC062DA90>"
      ]
     },
     "execution_count": 18,
     "metadata": {},
     "output_type": "execute_result"
    }
   ],
   "source": [
    "train_dataset = SegDataset(seg_df, IMAGES_DIR, LABEL_DIR, transform=None)\n",
    "s, l = train_dataset[300]\n",
    "s"
   ]
  },
  {
   "cell_type": "code",
   "execution_count": 19,
   "metadata": {
    "collapsed": false,
    "jupyter": {
     "outputs_hidden": false
    }
   },
   "outputs": [
    {
     "data": {
      "image/png": "[encoded data removed]",
      "text/plain": [
       "<PIL.Image.Image image mode=L size=336x424 at 0x7FCBC062D790>"
      ]
     },
     "execution_count": 19,
     "metadata": {},
     "output_type": "execute_result"
    }
   ],
   "source": [
    "l"
   ]
  },
  {
   "cell_type": "code",
   "execution_count": 20,
   "metadata": {
    "collapsed": false,
    "jupyter": {
     "outputs_hidden": false
    }
   },
   "outputs": [],
   "source": [
    "class DataTransform(nn.Module):\n",
    "    def __init__(self, image_size, train=True):\n",
    "        super().__init__()\n",
    "        self.train = train\n",
    "        \n",
    "        transform = [T.Resize(image_size)]\n",
    "        if self.train:\n",
    "            transform.append(T.RandomAutocontrast())\n",
    "        \n",
    "        self.transform = T.Compose(transform + [\n",
    "            T.ToTensor(), \n",
    "            T.Normalize(0.5, 0.5)\n",
    "        ])\n",
    "       \n",
    "\n",
    "        self.target_transform = T.Compose([\n",
    "            T.Resize(image_size, interpolation=torchvision.transforms.InterpolationMode.NEAREST),\n",
    "            T.PILToTensor(),\n",
    "            T.Lambda(lambda x: x.float()),\n",
    "            # T.ConvertImageDtype(torch.float),\n",
    "            T.Normalize(0, 256)\n",
    "        ])\n",
    "\n",
    "    def forward(self, x, y=None):\n",
    "        \n",
    "        random_rotation_angle = np.random.randint(-15, 15)\n",
    "        \n",
    "        x = TF.center_crop(x, max(x.width, x.height))\n",
    "        x = TF.rotate(x, random_rotation_angle) if self.train else x\n",
    "        x = self.transform(x)\n",
    "\n",
    "        if y is not None:\n",
    "            y = TF.center_crop(y, max(y.width, y.height))\n",
    "            y = TF.rotate(y, random_rotation_angle, interpolation=torchvision.transforms.InterpolationMode.NEAREST) if self.train else y\n",
    "            y = self.target_transform(y)\n",
    "\n",
    "        return x, y\n",
    "\n",
    "transform = DataTransform(image_size, train=True)"
   ]
  },
  {
   "cell_type": "code",
   "execution_count": 21,
   "metadata": {
    "collapsed": false,
    "jupyter": {
     "outputs_hidden": false
    }
   },
   "outputs": [],
   "source": [
    "train_dataset = SegDataset(seg_df, IMAGES_DIR, LABEL_DIR, transform=transform)\n",
    "# val_dataset = SegDataset(val_df, IMAGES_DIR, LABEL_DIR, transform=transform)"
   ]
  },
  {
   "cell_type": "code",
   "execution_count": 22,
   "metadata": {
    "collapsed": false,
    "jupyter": {
     "outputs_hidden": false
    }
   },
   "outputs": [
    {
     "name": "stdout",
     "output_type": "stream",
     "text": [
      "torch.Size([1, 256, 256]) torch.Size([1, 256, 256])\n"
     ]
    }
   ],
   "source": [
    "x, y = train_dataset[200]\n",
    "print(f\"{x.shape} {y.shape}\")"
   ]
  },
  {
   "cell_type": "code",
   "execution_count": 23,
   "metadata": {
    "collapsed": false,
    "jupyter": {
     "outputs_hidden": false
    }
   },
   "outputs": [
    {
     "data": {
      "text/plain": [
       "128"
      ]
     },
     "execution_count": 23,
     "metadata": {},
     "output_type": "execute_result"
    }
   ],
   "source": [
    "os.cpu_count()"
   ]
  },
  {
   "cell_type": "code",
   "execution_count": 24,
   "metadata": {
    "collapsed": false,
    "jupyter": {
     "outputs_hidden": false
    }
   },
   "outputs": [],
   "source": [
    "train_loader = DataLoader(train_dataset, batch_size=batch_size, shuffle=True, pin_memory=True, num_workers=min(batch_size, min(16, os.cpu_count())))\n",
    "# val_loader = DataLoader(val_dataset, batch_size=batch_size, shuffle=False, pin_memory=True, num_workers=min(batch_size, os.cpu_count()))"
   ]
  },
  {
   "cell_type": "code",
   "execution_count": 25,
   "metadata": {
    "collapsed": false,
    "jupyter": {
     "outputs_hidden": false
    }
   },
   "outputs": [
    {
     "name": "stdout",
     "output_type": "stream",
     "text": [
      "tensor(-1.)\n",
      "tensor(1.)\n",
      "tensor(0.)\n",
      "tensor(0.8750)\n"
     ]
    }
   ],
   "source": [
    "print(x.min())\n",
    "print(x.max())\n",
    "print(y.min())\n",
    "print(y.max())"
   ]
  },
  {
   "cell_type": "markdown",
   "metadata": {},
   "source": [
    "## Model"
   ]
  },
  {
   "cell_type": "code",
   "execution_count": 26,
   "metadata": {
    "collapsed": false,
    "jupyter": {
     "outputs_hidden": false
    }
   },
   "outputs": [
    {
     "data": {
      "text/plain": [
       "'cuda'"
      ]
     },
     "execution_count": 26,
     "metadata": {},
     "output_type": "execute_result"
    }
   ],
   "source": [
    "device = 'cuda' if torch.cuda.is_available() else 'cpu'\n",
    "device"
   ]
  },
  {
   "cell_type": "code",
   "execution_count": 27,
   "metadata": {
    "collapsed": false,
    "jupyter": {
     "outputs_hidden": false
    }
   },
   "outputs": [],
   "source": [
    "class DetectionModel(nn.Module):\n",
    "    def __init__(self, backbone, channels, deep=4, out_channels=64, n_features=1):\n",
    "        super().__init__()\n",
    "\n",
    "        self.backbone = backbone\n",
    "        self.deep = deep\n",
    "        self.channels = channels\n",
    "        self.out_channels = out_channels\n",
    "        self.n_features = n_features\n",
    "\n",
    "        self.init_layers()\n",
    "\n",
    "    def init_layers(self):\n",
    "        self.parallel_modules = self.make_parallel_modules()\n",
    "        self.upsampling_modules = self.make_upsampling_modules()\n",
    "\n",
    "        self.downsampling_modules = self.make_downsampling_modules()\n",
    "        self.classification_modules = self.make_classification_modules()\n",
    "\n",
    "    def make_classification_modules(self):\n",
    "        # the last layer\n",
    "        return nn.Sequential(\n",
    "            nn.ReLU(inplace=True),\n",
    "            nn.Conv2d(self.out_channels, 2 * self.out_channels, kernel_size=3, padding='same'),\n",
    "            nn.ReLU(inplace=True),\n",
    "            nn.Conv2d(2 * self.out_channels, self.n_features, kernel_size=1, padding='same'),\n",
    "        )\n",
    "\n",
    "    def make_parallel_modules(self):\n",
    "        parallel_modules = nn.ModuleList()\n",
    "\n",
    "        for i in range(self.deep):\n",
    "            module = nn.Sequential(\n",
    "                nn.ReLU(),\n",
    "                nn.Conv2d(self.channels[i], self.channels[i], kernel_size=3, padding='same'),\n",
    "                nn.ReLU(inplace=True),\n",
    "                nn.Conv2d(self.channels[i], self.channels[i], kernel_size=1, padding='same'),\n",
    "            )\n",
    "            parallel_modules.append(module)\n",
    "\n",
    "\n",
    "        return parallel_modules\n",
    "\n",
    "    def make_downsampling_modules(self):\n",
    "        return nn.ModuleList([\n",
    "            nn.Sequential(\n",
    "                self.backbone.conv1,\n",
    "                self.backbone.bn1,\n",
    "                self.backbone.relu,\n",
    "                self.backbone.maxpool),\n",
    "            nn.Sequential(\n",
    "                self.backbone.layer1,\n",
    "                self.backbone.layer2,\n",
    "            ),\n",
    "            self.backbone.layer3,\n",
    "            self.backbone.layer4\n",
    "        ])\n",
    "\n",
    "    def make_upsampling_modules(self):\n",
    "        upsampling_modules = nn.ModuleList()\n",
    "\n",
    "        for i in range(self.deep):\n",
    "            module = nn.Sequential(\n",
    "                nn.ReLU(inplace=True),\n",
    "                nn.Conv2d(self.channels[i], self.channels[i] // 2, kernel_size=3, padding='same'),\n",
    "                nn.ReLU(inplace=True),\n",
    "                nn.Conv2d(self.channels[i] // 2, self.channels[i-1] if i > 0 else self.out_channels, kernel_size=1),\n",
    "                nn.Upsample(scale_factor=2)\n",
    "            )\n",
    "            upsampling_modules.append(module)\n",
    "\n",
    "        return upsampling_modules\n",
    "\n",
    "\n",
    "\n",
    "    def forward(self, x):\n",
    "\n",
    "        downsampling_outputs = []\n",
    "        out = x\n",
    "        for module in self.downsampling_modules:\n",
    "            out = module(out)\n",
    "            downsampling_outputs.append(out)\n",
    "\n",
    "        parallel_outputs = []\n",
    "        for i in range(len(self.parallel_modules)):\n",
    "            module = self.parallel_modules[i]\n",
    "            out = module(downsampling_outputs[i])\n",
    "            parallel_outputs.append(out)\n",
    "\n",
    "        out = 0\n",
    "        for i in range(len(self.upsampling_modules)):\n",
    "            module = self.upsampling_modules[-(i+1)]\n",
    "            parallel_output = parallel_outputs[-(i+1)]\n",
    "\n",
    "            up_input = out + parallel_output\n",
    "            out = module(up_input)\n",
    "\n",
    "        out = self.classification_modules(out)\n",
    "\n",
    "        return out\n",
    "\n",
    "# backbone = resnet18_gray()\n",
    "# model = DetectionModel(backbone, channels=[64, 128, 256, 512], out_channels=64, n_features=1)\n",
    "\n",
    "# input = torch.randn(1, 1, 512, 512)\n",
    "# model(input).shape"
   ]
  },
  {
   "cell_type": "code",
   "execution_count": 28,
   "metadata": {
    "collapsed": false,
    "jupyter": {
     "outputs_hidden": false
    }
   },
   "outputs": [],
   "source": [
    "def resnet18_gray():\n",
    "    model = models.resnet18(pretrained=True)\n",
    "    conv1_weight = model.conv1.weight\n",
    "    conv1_weight = conv1_weight.mean(dim=1).unsqueeze(1)\n",
    "\n",
    "    model.conv1 = nn.Conv2d(1, 64, kernel_size=(7, 7), stride=1, padding='same', bias=False)\n",
    "    model.conv1.weight = nn.Parameter(conv1_weight, requires_grad=True)\n",
    "\n",
    "    return model\n",
    "\n",
    "def resnet50_gray():\n",
    "    model = models.resnet50(pretrained=True)\n",
    "    conv1_weight = model.conv1.weight\n",
    "    conv1_weight = conv1_weight.mean(dim=1).unsqueeze(1)\n",
    "\n",
    "    model.conv1 = nn.Conv2d(1, 64, kernel_size=(7, 7), stride=1, padding='same', bias=False)\n",
    "    model.conv1.weight = nn.Parameter(conv1_weight, requires_grad=True)\n",
    "\n",
    "    return model\n",
    "\n",
    "def resnet101_gray():\n",
    "    model = models.resnet101(pretrained=True)\n",
    "    conv1_weight = model.conv1.weight\n",
    "    conv1_weight = conv1_weight.mean(dim=1).unsqueeze(1)\n",
    "\n",
    "    model.conv1 = nn.Conv2d(1, 64, kernel_size=(7, 7), stride=1, padding='same', bias=False)\n",
    "    model.conv1.weight = nn.Parameter(conv1_weight, requires_grad=True)\n",
    "\n",
    "    return model"
   ]
  },
  {
   "cell_type": "code",
   "execution_count": 29,
   "metadata": {
    "collapsed": false,
    "jupyter": {
     "outputs_hidden": false
    },
    "pycharm": {
     "is_executing": true
    }
   },
   "outputs": [
    {
     "data": {
      "text/plain": [
       "106847050"
      ]
     },
     "execution_count": 29,
     "metadata": {},
     "output_type": "execute_result"
    }
   ],
   "source": [
    "if backbone == 'resnet18':\n",
    "    backbone = resnet18_gray()\n",
    "    channels = [64, 128, 256, 512]\n",
    "\n",
    "elif backbone == 'resnet50':\n",
    "    backbone = resnet50_gray()\n",
    "    channels = [64, 512, 1024, 2048]\n",
    "    \n",
    "elif backbone == 'resnet101':\n",
    "    backbone = resnet101_gray()\n",
    "    channels = [64, 512, 1024, 2048]\n",
    "\n",
    "model = DetectionModel(backbone, channels=channels, out_channels=channels[0], n_features=2).to(device)\n",
    "\n",
    "total_params = sum(p.numel() for p in model.parameters() if p.requires_grad)\n",
    "total_params"
   ]
  },
  {
   "cell_type": "code",
   "execution_count": 30,
   "metadata": {
    "collapsed": false,
    "jupyter": {
     "outputs_hidden": false
    }
   },
   "outputs": [],
   "source": [
    "optimizer = optim.AdamW(model.parameters(), lr=lr, weight_decay=wd)\n",
    "scaler = torch.cuda.amp.GradScaler(enabled=(device == 'cuda'))"
   ]
  },
  {
   "cell_type": "code",
   "execution_count": 31,
   "metadata": {
    "collapsed": false,
    "jupyter": {
     "outputs_hidden": false
    }
   },
   "outputs": [],
   "source": [
    "scheduler = optim.lr_scheduler.MultiStepLR(optimizer, milestones=[5, 10, 15, 20], gamma=0.5)\n"
   ]
  },
  {
   "cell_type": "code",
   "execution_count": 32,
   "metadata": {
    "collapsed": false,
    "jupyter": {
     "outputs_hidden": false
    }
   },
   "outputs": [],
   "source": [
    "def loss_fn(logits, y, pos_weight=1, mse_weight=1):\n",
    "\n",
    "    classification_logits, mse_score = logits.chunk(2, dim=1)\n",
    "\n",
    "    classification_y = y.gt(0).float()\n",
    "\n",
    "    classification_loss = F.binary_cross_entropy_with_logits(classification_logits, classification_y, pos_weight=torch.tensor(pos_weight))\n",
    "\n",
    "    mse_loss = classification_y * F.mse_loss(mse_score.sigmoid(), y, reduction='none')\n",
    "    mse_loss = mse_weight * mse_loss.mean()\n",
    "\n",
    "    return classification_loss, mse_loss"
   ]
  },
  {
   "cell_type": "code",
   "execution_count": 33,
   "metadata": {
    "collapsed": false,
    "jupyter": {
     "outputs_hidden": false
    }
   },
   "outputs": [],
   "source": [
    "def train_one_epoch(e, model, dataloader):\n",
    "\n",
    "    model.train()\n",
    "    train_iter = tqdm(dataloader)\n",
    "    losses = []\n",
    "    epoch_iteration = len(dataloader)\n",
    "\n",
    "    for i, (x, y) in enumerate(train_iter):\n",
    "        x = x.to(device)\n",
    "        y = y.to(device)\n",
    "\n",
    "        with torch.cuda.amp.autocast(device == 'cuda'):\n",
    "            logits = model(x)\n",
    "            c_loss, m_loss = loss_fn(logits, y, pos_weight=pos_weight, mse_weight=mse_weight)\n",
    "            loss = c_loss + m_loss\n",
    "\n",
    "        optimizer.zero_grad()\n",
    "        scaler.scale(loss).backward()\n",
    "        nn.utils.clip_grad_norm_(model.parameters(), 1.)\n",
    "        scaler.step(optimizer)\n",
    "        scaler.update()\n",
    "        # nn.utils.clip_grad_norm_(model.parameters(), 1.)\n",
    "        # optimizer.step()\n",
    "\n",
    "        train_iter.set_description(f\"t {e} loss {loss.item():.4f} c {c_loss.item():.4f} m {m_loss.item():.4f}\")\n",
    "\n",
    "        losses.append(loss.item())\n",
    "\n",
    "\n",
    "        if wandb.run is not None:\n",
    "            lr_logs = {f\"last_lr_{i}\": float(v) for i, v in enumerate(scheduler.get_last_lr())}\n",
    "            wandb.log({\n",
    "                'train_loss' : loss.item(),\n",
    "                'train_classification_loss' : c_loss.item(),\n",
    "                'train_mse_loss' : m_loss.item(),\n",
    "                'epoch' : e,\n",
    "                'train_iteration' : i + e * epoch_iteration,\n",
    "                **lr_logs,\n",
    "            })\n",
    "\n",
    "        if i % 100 == 0:\n",
    "            with torch.no_grad():\n",
    "                # inference(model, val_dataset)\n",
    "                infer_bad_sample(wandb_log=True)\n",
    "            model.train()\n",
    "\n",
    "    return np.mean(losses)"
   ]
  },
  {
   "cell_type": "code",
   "execution_count": 34,
   "metadata": {
    "collapsed": false,
    "jupyter": {
     "outputs_hidden": false
    }
   },
   "outputs": [],
   "source": [
    "def evaluate(e, model, dataloader):\n",
    "\n",
    "    model.eval()\n",
    "    eval_iter = tqdm(dataloader)\n",
    "    losses = []\n",
    "    epoch_iteration = len(dataloader)\n",
    "\n",
    "    for i, (x, y) in enumerate(eval_iter):\n",
    "        x = x.to(device)\n",
    "        y = y.to(device)\n",
    "\n",
    "        logits = model(x)\n",
    "        c_loss, m_loss = loss_fn(logits, y)\n",
    "        loss = c_loss + m_loss\n",
    "\n",
    "        eval_iter.set_description(f\"e {e} loss {loss.item():.4f}\")\n",
    "\n",
    "        losses.append(loss.item())\n",
    "\n",
    "        if wandb.run is not None:\n",
    "            wandb.log({\n",
    "                'val_loss' : loss.item(),\n",
    "                'val_classification_loss' : c_loss.item(),\n",
    "                'val_mse_loss' : m_loss.item(),\n",
    "                'epoch' : e,\n",
    "                'val_iteration' : i + e * epoch_iteration,\n",
    "            })\n",
    "\n",
    "    return np.mean(losses)"
   ]
  },
  {
   "cell_type": "code",
   "execution_count": 35,
   "metadata": {},
   "outputs": [],
   "source": [
    "def color_image(gray_img, cmap='bone'):\n",
    "    # 'nipy_spectral'\n",
    "    cm = plt.get_cmap(cmap)\n",
    "    colored_image = cm(gray_img)\n",
    "    return colored_image"
   ]
  },
  {
   "cell_type": "code",
   "execution_count": 36,
   "metadata": {
    "collapsed": false,
    "jupyter": {
     "outputs_hidden": false
    }
   },
   "outputs": [],
   "source": [
    "def inference(model, dataset, i_list=None, wandb_log=True):\n",
    "    model.eval()\n",
    "    if i_list is None:\n",
    "        i_list = np.random.choice(len(dataset) - 1, 4)\n",
    "    x_list = []\n",
    "    y_list = []\n",
    "    for i in i_list:\n",
    "        x, y = dataset[i]\n",
    "        x_list.append(x)\n",
    "        y_list.append(y)\n",
    "    x, y = torch.stack(x_list), torch.stack(y_list)\n",
    "\n",
    "    x = x.to(device)\n",
    "    logits = model(x)\n",
    "    classification_logits, mse_score = logits.chunk(2, dim=1)\n",
    "    classification_pred = classification_logits.sigmoid().gt(0.5).float()\n",
    "    mse_pred = (classification_pred * mse_score.sigmoid()).squeeze().cpu().numpy()\n",
    "\n",
    "    img = x * 0.5 + 0.5\n",
    "    \n",
    "    img = color_image(img.squeeze().cpu().numpy())\n",
    "    classification_pred = color_image(classification_pred.squeeze().cpu().numpy())\n",
    "    \n",
    "    mse_pred = np.round(mse_pred * 8) / 8\n",
    "    mse_pred = color_image(mse_pred, cmap='nipy_spectral')\n",
    "    \n",
    "    y = color_image(y.squeeze().cpu().numpy(), cmap='nipy_spectral')\n",
    "    \n",
    "    combined_img = np.concatenate((img, classification_pred, mse_pred, y), axis=2)\n",
    "    combined_img = combined_img.reshape(-1, combined_img.shape[2], combined_img.shape[3])\n",
    "    \n",
    "    if wandb_log is True and wandb.run is not None:\n",
    "        wandb.log({\n",
    "            'val_img_pred_label' : wandb.Image(combined_img),\n",
    "        })\n",
    "    if wandb_log is False:\n",
    "        plt.imshow(combined_img)\n",
    "        plt.show()\n",
    "\n",
    "# with torch.no_grad():\n",
    "#     inference(model, val_dataset, wandb_log=False)"
   ]
  },
  {
   "cell_type": "code",
   "execution_count": 37,
   "metadata": {
    "collapsed": false,
    "jupyter": {
     "outputs_hidden": false
    }
   },
   "outputs": [
    {
     "data": {
      "text/html": [
       "<div>\n",
       "<style scoped>\n",
       "    .dataframe tbody tr th:only-of-type {\n",
       "        vertical-align: middle;\n",
       "    }\n",
       "\n",
       "    .dataframe tbody tr th {\n",
       "        vertical-align: top;\n",
       "    }\n",
       "\n",
       "    .dataframe thead th {\n",
       "        text-align: right;\n",
       "    }\n",
       "</style>\n",
       "<table border=\"1\" class=\"dataframe\">\n",
       "  <thead>\n",
       "    <tr style=\"text-align: right;\">\n",
       "      <th></th>\n",
       "      <th>direction</th>\n",
       "      <th>z_spacing</th>\n",
       "      <th>pixel_spacing</th>\n",
       "      <th>aspect</th>\n",
       "      <th>width</th>\n",
       "      <th>height</th>\n",
       "    </tr>\n",
       "    <tr>\n",
       "      <th>UID</th>\n",
       "      <th></th>\n",
       "      <th></th>\n",
       "      <th></th>\n",
       "      <th></th>\n",
       "      <th></th>\n",
       "      <th></th>\n",
       "    </tr>\n",
       "  </thead>\n",
       "  <tbody>\n",
       "    <tr>\n",
       "      <th>1.2.826.0.1.3680043.10005</th>\n",
       "      <td>0</td>\n",
       "      <td>0.625</td>\n",
       "      <td>0.298828</td>\n",
       "      <td>2.091504</td>\n",
       "      <td>512</td>\n",
       "      <td>512</td>\n",
       "    </tr>\n",
       "    <tr>\n",
       "      <th>1.2.826.0.1.3680043.10005</th>\n",
       "      <td>1</td>\n",
       "      <td>0.625</td>\n",
       "      <td>0.298828</td>\n",
       "      <td>2.091504</td>\n",
       "      <td>512</td>\n",
       "      <td>541</td>\n",
       "    </tr>\n",
       "    <tr>\n",
       "      <th>1.2.826.0.1.3680043.10005</th>\n",
       "      <td>2</td>\n",
       "      <td>0.625</td>\n",
       "      <td>0.298828</td>\n",
       "      <td>2.091504</td>\n",
       "      <td>512</td>\n",
       "      <td>541</td>\n",
       "    </tr>\n",
       "    <tr>\n",
       "      <th>1.2.826.0.1.3680043.10014</th>\n",
       "      <td>0</td>\n",
       "      <td>0.800</td>\n",
       "      <td>0.234000</td>\n",
       "      <td>3.418803</td>\n",
       "      <td>512</td>\n",
       "      <td>512</td>\n",
       "    </tr>\n",
       "    <tr>\n",
       "      <th>1.2.826.0.1.3680043.10014</th>\n",
       "      <td>1</td>\n",
       "      <td>0.800</td>\n",
       "      <td>0.234000</td>\n",
       "      <td>3.418803</td>\n",
       "      <td>512</td>\n",
       "      <td>882</td>\n",
       "    </tr>\n",
       "  </tbody>\n",
       "</table>\n",
       "</div>"
      ],
      "text/plain": [
       "                           direction  z_spacing  pixel_spacing    aspect  \\\n",
       "UID                                                                        \n",
       "1.2.826.0.1.3680043.10005          0      0.625       0.298828  2.091504   \n",
       "1.2.826.0.1.3680043.10005          1      0.625       0.298828  2.091504   \n",
       "1.2.826.0.1.3680043.10005          2      0.625       0.298828  2.091504   \n",
       "1.2.826.0.1.3680043.10014          0      0.800       0.234000  3.418803   \n",
       "1.2.826.0.1.3680043.10014          1      0.800       0.234000  3.418803   \n",
       "\n",
       "                           width  height  \n",
       "UID                                       \n",
       "1.2.826.0.1.3680043.10005    512     512  \n",
       "1.2.826.0.1.3680043.10005    512     541  \n",
       "1.2.826.0.1.3680043.10005    512     541  \n",
       "1.2.826.0.1.3680043.10014    512     512  \n",
       "1.2.826.0.1.3680043.10014    512     882  "
      ]
     },
     "execution_count": 37,
     "metadata": {},
     "output_type": "execute_result"
    }
   ],
   "source": [
    "xray_df = pd.read_csv(os.path.join(DATA_DIR, 'meta_xray.csv')).set_index(\"UID\")\n",
    "xray_df.head()"
   ]
  },
  {
   "cell_type": "code",
   "execution_count": 38,
   "metadata": {
    "collapsed": false,
    "jupyter": {
     "outputs_hidden": false
    }
   },
   "outputs": [],
   "source": [
    "def get_inference_input(UID, index, transform):\n",
    "    size = xray_df.loc[UID,['height','width']].iloc[1].values\n",
    "    bbox = bbox_df.loc[UID, [f\"{vertical_type}_left\", f\"{vertical_type}_top\",f\"{vertical_type}_right\",f\"{vertical_type}_bottom\"]]\n",
    "    left, top, right, bottom = get_original_position(size, bbox, tol=0.1)\n",
    "    slice_img = Image.open(os.path.join(IMAGES_DIR, UID, f\"{index}.jpeg\"))\n",
    "    slice_img = TF.crop(slice_img, top, left, bottom-top, right-left)\n",
    "    return transform(slice_img)\n",
    "\n",
    "# x, _ = get_inference_input(\"1.2.826.0.1.3680043.575\", 247, transform)\n",
    "# x.shape"
   ]
  },
  {
   "cell_type": "code",
   "execution_count": 39,
   "metadata": {},
   "outputs": [],
   "source": [
    "infer_transform = DataTransform(image_size, train=False)"
   ]
  },
  {
   "cell_type": "code",
   "execution_count": 40,
   "metadata": {
    "collapsed": false,
    "jupyter": {
     "outputs_hidden": false
    }
   },
   "outputs": [
    {
     "data": {
      "image/png": "[encoded data removed]",
      "text/plain": [
       "<Figure size 432x288 with 1 Axes>"
      ]
     },
     "metadata": {
      "needs_background": "light"
     },
     "output_type": "display_data"
    }
   ],
   "source": [
    "def infer_sample(model,  UIDs, indices, wandb_log=False):\n",
    "    model.eval()\n",
    "\n",
    "    x_list = []\n",
    "    for UID, index in zip(UIDs, indices):\n",
    "        x, _ = get_inference_input(UID, index, infer_transform)\n",
    "        x_list.append(x)\n",
    "\n",
    "    x = torch.stack(x_list)\n",
    "    \n",
    "    x = x.to(device)\n",
    "    logits = model(x)\n",
    "    classification_logits, mse_score = logits.chunk(2, dim=1)\n",
    "    classification_pred = classification_logits.sigmoid().gt(0.5).float()\n",
    "    mse_pred = (classification_pred * mse_score.sigmoid()).squeeze().cpu().numpy()\n",
    "\n",
    "    img = x * 0.5 + 0.5\n",
    "\n",
    "    img = color_image(img.squeeze().cpu().numpy())\n",
    "    classification_pred = color_image(classification_pred.squeeze().cpu().numpy())\n",
    "    \n",
    "    mse_pred = np.round(mse_pred * 8) / 8\n",
    "    mse_pred = color_image(mse_pred, cmap='nipy_spectral')\n",
    "\n",
    "    combined_img = np.concatenate((img, classification_pred, mse_pred), axis=2)\n",
    "    \n",
    "    combined_img = combined_img.reshape(-1, combined_img.shape[2], combined_img.shape[3])\n",
    "\n",
    "    if wandb_log is True and wandb.run is not None:\n",
    "        wandb.log({\n",
    "            'img_pred' : wandb.Image(combined_img),\n",
    "        })\n",
    "    if wandb_log is False:\n",
    "        plt.imshow(combined_img)\n",
    "        plt.show()\n",
    "\n",
    "@torch.no_grad()\n",
    "def infer_bad_sample(wandb_log=False):\n",
    "    \n",
    "    sample_UIDs = [\"1.2.826.0.1.3680043.16935\", \"1.2.826.0.1.3680043.32754\", \"1.2.826.0.1.3680043.575\"]\n",
    "    indices = [247, 252, 326]\n",
    "    infer_sample(model, sample_UIDs, indices, wandb_log=wandb_log)\n",
    "\n",
    "infer_bad_sample()"
   ]
  },
  {
   "cell_type": "code",
   "execution_count": 41,
   "metadata": {
    "collapsed": false,
    "jupyter": {
     "outputs_hidden": false
    }
   },
   "outputs": [],
   "source": [
    "epoch = 0"
   ]
  },
  {
   "cell_type": "code",
   "execution_count": 42,
   "metadata": {
    "collapsed": false,
    "jupyter": {
     "outputs_hidden": false
    }
   },
   "outputs": [
    {
     "name": "stderr",
     "output_type": "stream",
     "text": [
      "t 0 loss 0.0247 c 0.0221 m 0.0025: 100%|██████████| 1392/1392 [11:36<00:00,  2.00it/s]\n",
      "t 1 loss 0.0628 c 0.0602 m 0.0025: 100%|██████████| 1392/1392 [11:33<00:00,  2.01it/s]\n",
      "t 2 loss 0.0144 c 0.0143 m 0.0001: 100%|██████████| 1392/1392 [11:36<00:00,  2.00it/s]\n",
      "t 3 loss 0.0073 c 0.0073 m 0.0000: 100%|██████████| 1392/1392 [11:37<00:00,  2.00it/s]\n",
      "t 4 loss 0.0199 c 0.0198 m 0.0002: 100%|██████████| 1392/1392 [11:37<00:00,  2.00it/s]\n",
      "t 5 loss 0.0027 c 0.0027 m 0.0000: 100%|██████████| 1392/1392 [11:36<00:00,  2.00it/s]\n",
      "t 6 loss 0.0058 c 0.0058 m 0.0000: 100%|██████████| 1392/1392 [11:35<00:00,  2.00it/s]\n",
      "t 7 loss 0.0350 c 0.0344 m 0.0006: 100%|██████████| 1392/1392 [11:34<00:00,  2.00it/s]\n",
      "t 8 loss 0.0177 c 0.0174 m 0.0004: 100%|██████████| 1392/1392 [11:35<00:00,  2.00it/s]\n",
      "t 9 loss 0.0010 c 0.0010 m 0.0000: 100%|██████████| 1392/1392 [11:36<00:00,  2.00it/s]\n",
      "t 10 loss 0.0523 c 0.0520 m 0.0003: 100%|██████████| 1392/1392 [11:35<00:00,  2.00it/s]\n",
      "t 11 loss 0.0498 c 0.0493 m 0.0006: 100%|██████████| 1392/1392 [11:34<00:00,  2.00it/s]\n",
      "t 12 loss 0.0235 c 0.0232 m 0.0003: 100%|██████████| 1392/1392 [11:35<00:00,  2.00it/s]\n",
      "t 13 loss 0.0070 c 0.0070 m 0.0000: 100%|██████████| 1392/1392 [11:35<00:00,  2.00it/s]\n",
      "t 14 loss 0.0024 c 0.0024 m 0.0000: 100%|██████████| 1392/1392 [11:36<00:00,  2.00it/s]\n",
      "t 15 loss 0.0173 c 0.0171 m 0.0002: 100%|██████████| 1392/1392 [11:35<00:00,  2.00it/s]\n",
      "t 16 loss 0.0342 c 0.0338 m 0.0004: 100%|██████████| 1392/1392 [11:35<00:00,  2.00it/s]\n",
      "t 17 loss 0.0124 c 0.0123 m 0.0001:  60%|█████▉    | 832/1392 [06:58<04:36,  2.03it/s]wandb: Network error (ReadTimeout), entering retry loop.\n",
      "t 17 loss 0.0373 c 0.0371 m 0.0002: 100%|██████████| 1392/1392 [11:36<00:00,  2.00it/s]\n",
      "t 18 loss 0.0250 c 0.0249 m 0.0001: 100%|██████████| 1392/1392 [11:35<00:00,  2.00it/s]\n",
      "t 19 loss 0.0149 c 0.0149 m 0.0000: 100%|██████████| 1392/1392 [11:36<00:00,  2.00it/s]\n"
     ]
    }
   ],
   "source": [
    "epochs = 20\n",
    "\n",
    "for e in range(epochs):\n",
    "\n",
    "    train_loss = train_one_epoch(epoch, model, train_loader)\n",
    "\n",
    "    # with torch.no_grad():\n",
    "    #     infer_bad_sample(wandb_log=True)\n",
    "        # eval_loss = evaluate(epoch, model, val_loader)\n",
    "        # inference(model, val_dataset)\n",
    "\n",
    "    # print(f\"epoch {epoch} train_loss {train_loss}\")\n",
    "\n",
    "    epoch += 1\n",
    "    scheduler.step()"
   ]
  },
  {
   "cell_type": "code",
   "execution_count": 43,
   "metadata": {
    "collapsed": false,
    "jupyter": {
     "outputs_hidden": false
    }
   },
   "outputs": [
    {
     "name": "stderr",
     "output_type": "stream",
     "text": [
      "wandb: Waiting for W&B process to finish... (success).\n",
      "wandb: - 52.826 MB of 52.826 MB uploaded (0.000 MB deduped)\r"
     ]
    }
   ],
   "source": [
    "state = {\n",
    "    \"model\": model.state_dict(),\n",
    "    \"optimizer\": optimizer.state_dict(),\n",
    "    \"scheduler\": scheduler.state_dict(),\n",
    "    \"epoch\": epoch,\n",
    "}\n",
    "torch.save(state, f'{wandb.run.name}-epoch-{epoch}.pth')"
   ]
  },
  {
   "cell_type": "code",
   "execution_count": null,
   "metadata": {},
   "outputs": [],
   "source": []
  }
 ],
 "metadata": {
  "kernelspec": {
   "display_name": "Python 3 (ipykernel)",
   "language": "python",
   "name": "python3"
  },
  "language_info": {
   "codemirror_mode": {
    "name": "ipython",
    "version": 3
   },
   "file_extension": ".py",
   "mimetype": "text/x-python",
   "name": "python",
   "nbconvert_exporter": "python",
   "pygments_lexer": "ipython3",
   "version": "3.8.10"
  }
 },
 "nbformat": 4,
 "nbformat_minor": 4
}
