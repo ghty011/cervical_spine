{
 "cells": [
  {
   "cell_type": "code",
   "execution_count": 1,
   "metadata": {
    "collapsed": false
   },
   "outputs": [],
   "source": [
    "import wandb\n",
    "from datetime import datetime"
   ]
  },
  {
   "cell_type": "code",
   "execution_count": 2,
   "metadata": {
    "collapsed": false,
    "jupyter": {
     "outputs_hidden": false
    }
   },
   "outputs": [],
   "source": [
    "lr = 1e-4\n",
    "wd = 1e-5\n",
    "batch_size = 16\n",
    "image_size = 256\n",
    "pos_weight = 2.\n",
    "vertical_type = \"sagittal\"\n",
    "backbone_name = \"resnet50\""
   ]
  },
  {
   "cell_type": "code",
   "execution_count": 3,
   "metadata": {
    "collapsed": false
   },
   "outputs": [
    {
     "name": "stderr",
     "output_type": "stream",
     "text": [
      "Failed to detect the name of this notebook, you can set it manually with the WANDB_NOTEBOOK_NAME environment variable to enable code saving.\n",
      "\u001B[34m\u001B[1mwandb\u001B[0m: Currently logged in as: \u001B[33mlongyi\u001B[0m. Use \u001B[1m`wandb login --relogin`\u001B[0m to force relogin\n"
     ]
    },
    {
     "data": {
      "text/html": [
       "Tracking run with wandb version 0.13.3"
      ],
      "text/plain": [
       "<IPython.core.display.HTML object>"
      ]
     },
     "metadata": {},
     "output_type": "display_data"
    },
    {
     "data": {
      "text/html": [
       "Run data is saved locally in <code>/root/cervical_spine/train/wandb/run-20220930_152543-2ashwu13</code>"
      ],
      "text/plain": [
       "<IPython.core.display.HTML object>"
      ]
     },
     "metadata": {},
     "output_type": "display_data"
    },
    {
     "data": {
      "text/html": [
       "Syncing run <strong><a href=\"http://8.210.101.57:8081/longyi/cervical-spine/runs/2ashwu13\" target=\"_blank\">charmed-dew-62</a></strong> to <a href=\"http://8.210.101.57:8081/longyi/cervical-spine\" target=\"_blank\">Weights & Biases</a> (<a href=\"https://wandb.me/run\" target=\"_blank\">docs</a>)<br/>"
      ],
      "text/plain": [
       "<IPython.core.display.HTML object>"
      ]
     },
     "metadata": {},
     "output_type": "display_data"
    },
    {
     "data": {
      "text/plain": [
       "'sagittal_classification_detection_152545'"
      ]
     },
     "execution_count": 3,
     "metadata": {},
     "output_type": "execute_result"
    }
   ],
   "source": [
    "wandb_entity='longyi'\n",
    "model_name = \"detection\"\n",
    "wandb.init(project=\"cervical-spine\", entity=wandb_entity, config={\n",
    "    \"model\":model_name,\n",
    "    \"batch_size\":batch_size,\n",
    "    \"lr\" : lr,\n",
    "    \"wd\" : wd,\n",
    "    \"pos_weight\" : pos_weight,\n",
    "    \"backbone\" : backbone_name,\n",
    "    \"image_size\" : image_size,\n",
    "})\n",
    "wandb.run.name = f'{vertical_type}_classification_{model_name}_' + datetime.now().strftime(\"%H%M%S\")\n",
    "wandb.run.name"
   ]
  },
  {
   "cell_type": "code",
   "execution_count": 4,
   "metadata": {
    "collapsed": true,
    "jupyter": {
     "outputs_hidden": true
    }
   },
   "outputs": [],
   "source": [
    "import os\n",
    "import glob\n",
    "import pydicom\n",
    "import nibabel as nib\n",
    "import pandas as pd\n",
    "import numpy as np\n",
    "from pydicom.pixel_data_handlers.util import apply_voi_lut\n",
    "import matplotlib.pyplot as plt\n",
    "import matplotlib.patches as patches\n",
    "import seaborn as sns\n",
    "\n",
    "from tqdm import tqdm\n",
    "\n",
    "from PIL import Image, ImageOps"
   ]
  },
  {
   "cell_type": "code",
   "execution_count": 5,
   "metadata": {
    "collapsed": false,
    "jupyter": {
     "outputs_hidden": false
    }
   },
   "outputs": [],
   "source": [
    "import torch\n",
    "import torch.nn as nn\n",
    "import torch.nn.functional as F\n",
    "import torch.optim as optim\n",
    "from torch.utils.data import Dataset, DataLoader\n",
    "import torchvision\n",
    "from torchvision.io import read_image\n",
    "import torchvision.transforms as T\n",
    "from torchvision.transforms import Compose, ToTensor, Normalize, Resize, CenterCrop\n",
    "import torchvision.transforms.functional as TF\n",
    "import torchvision.models as models\n",
    "\n",
    "device = 'cuda' if torch.cuda.is_available() else 'cpu'"
   ]
  },
  {
   "cell_type": "code",
   "execution_count": 6,
   "metadata": {
    "collapsed": false,
    "jupyter": {
     "outputs_hidden": false
    }
   },
   "outputs": [],
   "source": [
    "# DATA_DIR = \"/Volumes/SSD970/\"\n",
    "DATA_DIR = \"/root/autodl-tmp/cervical_spine/\"\n",
    "TRAIN_IMAGES_DIR = os.path.join(DATA_DIR, \"train_images\")\n",
    "\n",
    "IMAGES_DIR = os.path.join(DATA_DIR, \"train_sagittal_images_jpeg95\")\n",
    "RAW_MASK_DIR = os.path.join(DATA_DIR, \"train_sagittal_labels_raw_jpeg95\")\n",
    "MASK_DIR = os.path.join(DATA_DIR, \"train_sagittal_labels_jpeg95\")\n"
   ]
  },
  {
   "cell_type": "code",
   "execution_count": 7,
   "metadata": {
    "collapsed": false
   },
   "outputs": [
    {
     "data": {
      "text/html": [
       "<div>\n",
       "<style scoped>\n",
       "    .dataframe tbody tr th:only-of-type {\n",
       "        vertical-align: middle;\n",
       "    }\n",
       "\n",
       "    .dataframe tbody tr th {\n",
       "        vertical-align: top;\n",
       "    }\n",
       "\n",
       "    .dataframe thead th {\n",
       "        text-align: right;\n",
       "    }\n",
       "</style>\n",
       "<table border=\"1\" class=\"dataframe\">\n",
       "  <thead>\n",
       "    <tr style=\"text-align: right;\">\n",
       "      <th></th>\n",
       "      <th>StudyInstanceUID</th>\n",
       "      <th>start_slice_number</th>\n",
       "      <th>bottom</th>\n",
       "      <th>right</th>\n",
       "      <th>top</th>\n",
       "      <th>left</th>\n",
       "      <th>sagittal_label_y</th>\n",
       "      <th>sagittal_label_x</th>\n",
       "      <th>axial_index</th>\n",
       "      <th>coronal_index</th>\n",
       "      <th>...</th>\n",
       "      <th>aspect</th>\n",
       "      <th>pixel_spacing</th>\n",
       "      <th>z_spacing</th>\n",
       "      <th>is_flip</th>\n",
       "      <th>num_slices</th>\n",
       "      <th>x</th>\n",
       "      <th>y</th>\n",
       "      <th>width</th>\n",
       "      <th>height</th>\n",
       "      <th>slice_number</th>\n",
       "    </tr>\n",
       "    <tr>\n",
       "      <th>UID</th>\n",
       "      <th></th>\n",
       "      <th></th>\n",
       "      <th></th>\n",
       "      <th></th>\n",
       "      <th></th>\n",
       "      <th></th>\n",
       "      <th></th>\n",
       "      <th></th>\n",
       "      <th></th>\n",
       "      <th></th>\n",
       "      <th></th>\n",
       "      <th></th>\n",
       "      <th></th>\n",
       "      <th></th>\n",
       "      <th></th>\n",
       "      <th></th>\n",
       "      <th></th>\n",
       "      <th></th>\n",
       "      <th></th>\n",
       "      <th></th>\n",
       "      <th></th>\n",
       "    </tr>\n",
       "  </thead>\n",
       "  <tbody>\n",
       "    <tr>\n",
       "      <th>1.2.826.0.1.3680043.10051</th>\n",
       "      <td>1.2.826.0.1.3680043.10051</td>\n",
       "      <td>1</td>\n",
       "      <td>606.0</td>\n",
       "      <td>416.0</td>\n",
       "      <td>47.0</td>\n",
       "      <td>48.0</td>\n",
       "      <td>126</td>\n",
       "      <td>125</td>\n",
       "      <td>132</td>\n",
       "      <td>226</td>\n",
       "      <td>...</td>\n",
       "      <td>2.461541</td>\n",
       "      <td>0.253906</td>\n",
       "      <td>0.625</td>\n",
       "      <td>0.0</td>\n",
       "      <td>272</td>\n",
       "      <td>219.27715</td>\n",
       "      <td>216.71419</td>\n",
       "      <td>17.30440</td>\n",
       "      <td>20.38517</td>\n",
       "      <td>133</td>\n",
       "    </tr>\n",
       "    <tr>\n",
       "      <th>1.2.826.0.1.3680043.10051</th>\n",
       "      <td>1.2.826.0.1.3680043.10051</td>\n",
       "      <td>1</td>\n",
       "      <td>606.0</td>\n",
       "      <td>416.0</td>\n",
       "      <td>47.0</td>\n",
       "      <td>48.0</td>\n",
       "      <td>127</td>\n",
       "      <td>126</td>\n",
       "      <td>133</td>\n",
       "      <td>229</td>\n",
       "      <td>...</td>\n",
       "      <td>2.461541</td>\n",
       "      <td>0.253906</td>\n",
       "      <td>0.625</td>\n",
       "      <td>0.0</td>\n",
       "      <td>272</td>\n",
       "      <td>221.56460</td>\n",
       "      <td>216.71419</td>\n",
       "      <td>17.87844</td>\n",
       "      <td>25.24362</td>\n",
       "      <td>134</td>\n",
       "    </tr>\n",
       "    <tr>\n",
       "      <th>1.2.826.0.1.3680043.10051</th>\n",
       "      <td>1.2.826.0.1.3680043.10051</td>\n",
       "      <td>1</td>\n",
       "      <td>606.0</td>\n",
       "      <td>416.0</td>\n",
       "      <td>47.0</td>\n",
       "      <td>48.0</td>\n",
       "      <td>129</td>\n",
       "      <td>129</td>\n",
       "      <td>134</td>\n",
       "      <td>234</td>\n",
       "      <td>...</td>\n",
       "      <td>2.461541</td>\n",
       "      <td>0.253906</td>\n",
       "      <td>0.625</td>\n",
       "      <td>0.0</td>\n",
       "      <td>272</td>\n",
       "      <td>216.82151</td>\n",
       "      <td>221.62546</td>\n",
       "      <td>27.00959</td>\n",
       "      <td>26.37454</td>\n",
       "      <td>135</td>\n",
       "    </tr>\n",
       "    <tr>\n",
       "      <th>1.2.826.0.1.3680043.10051</th>\n",
       "      <td>1.2.826.0.1.3680043.10051</td>\n",
       "      <td>1</td>\n",
       "      <td>606.0</td>\n",
       "      <td>416.0</td>\n",
       "      <td>47.0</td>\n",
       "      <td>48.0</td>\n",
       "      <td>130</td>\n",
       "      <td>129</td>\n",
       "      <td>135</td>\n",
       "      <td>234</td>\n",
       "      <td>...</td>\n",
       "      <td>2.461541</td>\n",
       "      <td>0.253906</td>\n",
       "      <td>0.625</td>\n",
       "      <td>0.0</td>\n",
       "      <td>272</td>\n",
       "      <td>214.49455</td>\n",
       "      <td>215.48637</td>\n",
       "      <td>27.92726</td>\n",
       "      <td>37.51363</td>\n",
       "      <td>136</td>\n",
       "    </tr>\n",
       "    <tr>\n",
       "      <th>1.2.826.0.1.3680043.10051</th>\n",
       "      <td>1.2.826.0.1.3680043.10051</td>\n",
       "      <td>1</td>\n",
       "      <td>606.0</td>\n",
       "      <td>416.0</td>\n",
       "      <td>47.0</td>\n",
       "      <td>48.0</td>\n",
       "      <td>131</td>\n",
       "      <td>130</td>\n",
       "      <td>136</td>\n",
       "      <td>237</td>\n",
       "      <td>...</td>\n",
       "      <td>2.461541</td>\n",
       "      <td>0.253906</td>\n",
       "      <td>0.625</td>\n",
       "      <td>0.0</td>\n",
       "      <td>272</td>\n",
       "      <td>214.00000</td>\n",
       "      <td>215.48637</td>\n",
       "      <td>27.00000</td>\n",
       "      <td>43.51363</td>\n",
       "      <td>137</td>\n",
       "    </tr>\n",
       "  </tbody>\n",
       "</table>\n",
       "<p>5 rows × 21 columns</p>\n",
       "</div>"
      ],
      "text/plain": [
       "                                    StudyInstanceUID  start_slice_number  \\\n",
       "UID                                                                        \n",
       "1.2.826.0.1.3680043.10051  1.2.826.0.1.3680043.10051                   1   \n",
       "1.2.826.0.1.3680043.10051  1.2.826.0.1.3680043.10051                   1   \n",
       "1.2.826.0.1.3680043.10051  1.2.826.0.1.3680043.10051                   1   \n",
       "1.2.826.0.1.3680043.10051  1.2.826.0.1.3680043.10051                   1   \n",
       "1.2.826.0.1.3680043.10051  1.2.826.0.1.3680043.10051                   1   \n",
       "\n",
       "                           bottom  right   top  left  sagittal_label_y  \\\n",
       "UID                                                                      \n",
       "1.2.826.0.1.3680043.10051   606.0  416.0  47.0  48.0               126   \n",
       "1.2.826.0.1.3680043.10051   606.0  416.0  47.0  48.0               127   \n",
       "1.2.826.0.1.3680043.10051   606.0  416.0  47.0  48.0               129   \n",
       "1.2.826.0.1.3680043.10051   606.0  416.0  47.0  48.0               130   \n",
       "1.2.826.0.1.3680043.10051   606.0  416.0  47.0  48.0               131   \n",
       "\n",
       "                           sagittal_label_x  axial_index  coronal_index  ...  \\\n",
       "UID                                                                      ...   \n",
       "1.2.826.0.1.3680043.10051               125          132            226  ...   \n",
       "1.2.826.0.1.3680043.10051               126          133            229  ...   \n",
       "1.2.826.0.1.3680043.10051               129          134            234  ...   \n",
       "1.2.826.0.1.3680043.10051               129          135            234  ...   \n",
       "1.2.826.0.1.3680043.10051               130          136            237  ...   \n",
       "\n",
       "                             aspect  pixel_spacing  z_spacing  is_flip  \\\n",
       "UID                                                                      \n",
       "1.2.826.0.1.3680043.10051  2.461541       0.253906      0.625      0.0   \n",
       "1.2.826.0.1.3680043.10051  2.461541       0.253906      0.625      0.0   \n",
       "1.2.826.0.1.3680043.10051  2.461541       0.253906      0.625      0.0   \n",
       "1.2.826.0.1.3680043.10051  2.461541       0.253906      0.625      0.0   \n",
       "1.2.826.0.1.3680043.10051  2.461541       0.253906      0.625      0.0   \n",
       "\n",
       "                           num_slices          x          y     width  \\\n",
       "UID                                                                     \n",
       "1.2.826.0.1.3680043.10051         272  219.27715  216.71419  17.30440   \n",
       "1.2.826.0.1.3680043.10051         272  221.56460  216.71419  17.87844   \n",
       "1.2.826.0.1.3680043.10051         272  216.82151  221.62546  27.00959   \n",
       "1.2.826.0.1.3680043.10051         272  214.49455  215.48637  27.92726   \n",
       "1.2.826.0.1.3680043.10051         272  214.00000  215.48637  27.00000   \n",
       "\n",
       "                             height  slice_number  \n",
       "UID                                                \n",
       "1.2.826.0.1.3680043.10051  20.38517           133  \n",
       "1.2.826.0.1.3680043.10051  25.24362           134  \n",
       "1.2.826.0.1.3680043.10051  26.37454           135  \n",
       "1.2.826.0.1.3680043.10051  37.51363           136  \n",
       "1.2.826.0.1.3680043.10051  43.51363           137  \n",
       "\n",
       "[5 rows x 21 columns]"
      ]
     },
     "execution_count": 7,
     "metadata": {},
     "output_type": "execute_result"
    }
   ],
   "source": [
    "bbox_df = pd.read_csv('train_bbox_sagittal_classification.csv').set_index(\"UID\")\n",
    "bbox_df.head()"
   ]
  },
  {
   "cell_type": "code",
   "execution_count": 8,
   "metadata": {
    "collapsed": false
   },
   "outputs": [
    {
     "data": {
      "text/plain": [
       "7203"
      ]
     },
     "execution_count": 8,
     "metadata": {},
     "output_type": "execute_result"
    }
   ],
   "source": [
    "len(bbox_df)"
   ]
  },
  {
   "cell_type": "code",
   "execution_count": 9,
   "metadata": {
    "collapsed": false,
    "jupyter": {
     "outputs_hidden": false
    }
   },
   "outputs": [
    {
     "name": "stdout",
     "output_type": "stream",
     "text": [
      "2.0\n"
     ]
    },
    {
     "data": {
      "text/plain": [
       "<matplotlib.image.AxesImage at 0x7f5dc90b7ac0>"
      ]
     },
     "execution_count": 9,
     "metadata": {},
     "output_type": "execute_result"
    },
    {
     "data": {
      "image/png": "[encoded data removed]",
      "text/plain": [
       "<Figure size 864x864 with 2 Axes>"
      ]
     },
     "metadata": {},
     "output_type": "display_data"
    }
   ],
   "source": [
    "class SagittalDataset(Dataset):\n",
    "    def __init__(self, df, image_dir, mask_dir, raw_mask_dir, image_size=256, transform=None):\n",
    "        super().__init__()\n",
    "\n",
    "        self.df = df\n",
    "        self.image_dir = image_dir\n",
    "        self.mask_dir = mask_dir\n",
    "        self.raw_mask_dir = raw_mask_dir\n",
    "        self.image_size = image_size\n",
    "        self.transform = transform\n",
    "\n",
    "    def __len__(self):\n",
    "        return len(self.df)\n",
    "\n",
    "    def __getitem__(self, idx):\n",
    "        s = self.df.iloc[idx]\n",
    "        UID = s.name\n",
    "        img = Image.open(os.path.join(self.image_dir, UID, f\"{int(s.sagittal_index)}.jpeg\"))\n",
    "        img = TF.crop(img, s.top, s.left, s.bottom - s.top, s.right - s.left)\n",
    "\n",
    "        mask = Image.open(os.path.join(self.mask_dir, UID, f\"{int(s.sagittal_index)}.png\"))\n",
    "        mask = np.asarray(mask)\n",
    "\n",
    "        raw_mask = Image.open(os.path.join(self.raw_mask_dir, UID, f\"{int(s.sagittal_index)}.png\"))\n",
    "        raw_mask = np.asarray(raw_mask)\n",
    "\n",
    "        row = np.clip(s.sagittal_label_y, a_min=0, a_max=(self.image_size-1))\n",
    "        column = np.clip(s.sagittal_label_x, a_min=0, a_max=(self.image_size-1))\n",
    "        # print(row, column)\n",
    "        label = raw_mask[row, column] / 256. / 0.125 - 1\n",
    "        label = np.round(label)\n",
    "\n",
    "        if self.transform:\n",
    "            img, mask, label = self.transform(img, mask, label)\n",
    "\n",
    "        return img, mask, label\n",
    "\n",
    "dataset = SagittalDataset(bbox_df, IMAGES_DIR, MASK_DIR, RAW_MASK_DIR)\n",
    "img, mask, label = dataset[200]\n",
    "\n",
    "_, axs = plt.subplots(1, 2, figsize=(12, 12))\n",
    "print(label)\n",
    "axs[0].imshow(img, cmap='bone')\n",
    "\n",
    "axs[1].imshow(mask, cmap=\"nipy_spectral\")\n",
    "# axs[1].axhline(126)\n",
    "# axs[1].axvline(125)"
   ]
  },
  {
   "cell_type": "code",
   "execution_count": 10,
   "metadata": {
    "collapsed": false,
    "jupyter": {
     "outputs_hidden": false
    }
   },
   "outputs": [
    {
     "data": {
      "text/plain": [
       "2.0"
      ]
     },
     "execution_count": 10,
     "metadata": {},
     "output_type": "execute_result"
    }
   ],
   "source": [
    "label"
   ]
  },
  {
   "cell_type": "markdown",
   "metadata": {},
   "source": [
    "### Transform"
   ]
  },
  {
   "cell_type": "code",
   "execution_count": 11,
   "metadata": {
    "collapsed": false,
    "jupyter": {
     "outputs_hidden": false
    }
   },
   "outputs": [],
   "source": [
    "class DataTransform(nn.Module):\n",
    "    def __init__(self, image_size):\n",
    "        super().__init__()\n",
    "\n",
    "        self.transform = T.Compose([\n",
    "            T.Resize(image_size),\n",
    "            T.RandomAutocontrast(),\n",
    "            T.ToTensor(),\n",
    "            T.Normalize(0.5, 0.5)\n",
    "        ])\n",
    "\n",
    "        # self.mask_transform = T.Normalize(0, 32)\n",
    "\n",
    "        self.label_transform = T.ToTensor()\n",
    "\n",
    "    def forward(self, x, mask, label):\n",
    "        x = TF.center_crop(x, max(x.width, x.height))\n",
    "        x = self.transform(x)\n",
    "\n",
    "        # print(mask)\n",
    "        mask = torch.tensor(mask, dtype=torch.float) / 32.\n",
    "\n",
    "        label = torch.tensor(label).long()\n",
    "        return x, mask, label\n",
    "transform = DataTransform(image_size)"
   ]
  },
  {
   "cell_type": "code",
   "execution_count": 12,
   "metadata": {
    "collapsed": false,
    "jupyter": {
     "outputs_hidden": false
    }
   },
   "outputs": [
    {
     "name": "stdout",
     "output_type": "stream",
     "text": [
      "tensor(3)\n"
     ]
    },
    {
     "data": {
      "text/plain": [
       "tensor(0.8750)"
      ]
     },
     "execution_count": 12,
     "metadata": {},
     "output_type": "execute_result"
    }
   ],
   "source": [
    "dataset = SagittalDataset(bbox_df, IMAGES_DIR, MASK_DIR, RAW_MASK_DIR, transform=transform)\n",
    "img, mask, label = dataset[1]\n",
    "print(label)\n",
    "mask.max()"
   ]
  },
  {
   "cell_type": "markdown",
   "metadata": {},
   "source": []
  },
  {
   "cell_type": "code",
   "execution_count": 13,
   "metadata": {
    "collapsed": false,
    "jupyter": {
     "outputs_hidden": false
    }
   },
   "outputs": [],
   "source": [
    "def get_backbone():\n",
    "    backbone = models.resnet50(pretrained=True)\n",
    "    conv1_weight = backbone.conv1.weight\n",
    "    conv1_weight = conv1_weight.mean(dim=1).unsqueeze(1)\n",
    "\n",
    "    backbone.conv1 = nn.Conv2d(1, 64, kernel_size=(7, 7), stride=1, padding='same', bias=False)\n",
    "    backbone.conv1.weight = nn.Parameter(conv1_weight, requires_grad=True)\n",
    "\n",
    "    return nn.ModuleList([\n",
    "        nn.Sequential(\n",
    "            backbone.conv1,\n",
    "            backbone.bn1,\n",
    "            backbone.relu,\n",
    "            backbone.maxpool),\n",
    "        nn.Sequential(\n",
    "            backbone.layer1,\n",
    "            backbone.layer2,\n",
    "        ),\n",
    "        backbone.layer3,\n",
    "        backbone.layer4\n",
    "    ]), [1, 64, 512, 1024, 2048]\n",
    "\n",
    "# backbone, channels = get_backbone()\n",
    "# print(backbone)"
   ]
  },
  {
   "cell_type": "code",
   "execution_count": 14,
   "metadata": {
    "collapsed": false
   },
   "outputs": [],
   "source": [
    "class DetectionModel(nn.Module):\n",
    "    def __init__(self, backbone, channels, deep=4, out_channels=64, n_features=1):\n",
    "        super().__init__()\n",
    "\n",
    "        self.backbone = backbone\n",
    "        self.deep = deep\n",
    "        self.channels = channels\n",
    "        self.out_channels = out_channels\n",
    "        self.n_features = n_features\n",
    "\n",
    "        self.init_layers()\n",
    "\n",
    "    def init_layers(self):\n",
    "        self.parallel_modules = self.make_parallel_modules()\n",
    "        self.upsampling_modules = self.make_upsampling_modules()\n",
    "\n",
    "        self.downsampling_modules = self.make_downsampling_modules()\n",
    "        self.classification_modules = self.make_classification_modules()\n",
    "\n",
    "    def make_classification_modules(self):\n",
    "        # the last layer\n",
    "        return nn.Sequential(\n",
    "            nn.ReLU(inplace=True),\n",
    "            nn.Conv2d(self.out_channels, 2 * self.out_channels, kernel_size=3, padding='same'),\n",
    "            nn.ReLU(inplace=True),\n",
    "            nn.Conv2d(2 * self.out_channels, self.n_features, kernel_size=1, padding='same'),\n",
    "        )\n",
    "\n",
    "    def make_parallel_modules(self):\n",
    "        parallel_modules = nn.ModuleList()\n",
    "\n",
    "        for i in range(self.deep):\n",
    "            module = nn.Sequential(\n",
    "                nn.ReLU(),\n",
    "                nn.Conv2d(self.channels[i], self.channels[i], kernel_size=3, padding='same'),\n",
    "                nn.ReLU(inplace=True),\n",
    "                nn.Conv2d(self.channels[i], self.channels[i], kernel_size=1, padding='same'),\n",
    "            )\n",
    "            parallel_modules.append(module)\n",
    "\n",
    "        return parallel_modules\n",
    "\n",
    "    def make_downsampling_modules(self):\n",
    "        return nn.ModuleList([\n",
    "            nn.Sequential(\n",
    "                self.backbone.conv1,\n",
    "                self.backbone.bn1,\n",
    "                self.backbone.relu,\n",
    "                self.backbone.maxpool),\n",
    "            nn.Sequential(\n",
    "                self.backbone.layer1,\n",
    "                self.backbone.layer2,\n",
    "            ),\n",
    "            self.backbone.layer3,\n",
    "            self.backbone.layer4\n",
    "        ])\n",
    "\n",
    "    def make_upsampling_modules(self):\n",
    "        upsampling_modules = nn.ModuleList()\n",
    "\n",
    "        for i in range(self.deep):\n",
    "            module = nn.Sequential(\n",
    "                nn.ReLU(inplace=True),\n",
    "                nn.Conv2d(self.channels[i], self.channels[i] // 2, kernel_size=3, padding='same'),\n",
    "                nn.ReLU(inplace=True),\n",
    "                nn.Conv2d(self.channels[i] // 2, self.channels[i - 1] if i > 0 else self.out_channels, kernel_size=1),\n",
    "                nn.Upsample(scale_factor=2)\n",
    "            )\n",
    "            upsampling_modules.append(module)\n",
    "\n",
    "        return upsampling_modules\n",
    "\n",
    "    def forward(self, x):\n",
    "\n",
    "        downsampling_outputs = []\n",
    "        out = x\n",
    "        for module in self.downsampling_modules:\n",
    "            out = module(out)\n",
    "            downsampling_outputs.append(out)\n",
    "\n",
    "        parallel_outputs = []\n",
    "        for i in range(len(self.parallel_modules)):\n",
    "            module = self.parallel_modules[i]\n",
    "            out = module(downsampling_outputs[i])\n",
    "            parallel_outputs.append(out)\n",
    "\n",
    "        out = 0\n",
    "        for i in range(len(self.upsampling_modules)):\n",
    "            module = self.upsampling_modules[-(i + 1)]\n",
    "            parallel_output = parallel_outputs[-(i + 1)]\n",
    "\n",
    "            up_input = out + parallel_output\n",
    "            out = module(up_input)\n",
    "\n",
    "        out = self.classification_modules(out)\n",
    "\n",
    "        return out\n",
    "\n",
    "\n",
    "def get_seg_backbone():\n",
    "    backbone = models.resnet50(pretrained=False)\n",
    "    conv1_weight = backbone.conv1.weight\n",
    "    conv1_weight = conv1_weight.mean(dim=1).unsqueeze(1)\n",
    "\n",
    "    backbone.conv1 = nn.Conv2d(1, 64, kernel_size=(7, 7), stride=1, padding='same', bias=False)\n",
    "    backbone.conv1.weight = nn.Parameter(conv1_weight, requires_grad=True)\n",
    "\n",
    "    channels = [64, 512, 1024, 2048]\n",
    "    checkpoint = f\"checkpoint/{vertical_type}_segmentation_detection_095730-epoch-20.pth\"\n",
    "    seg_model = DetectionModel(backbone, channels=channels, out_channels=channels[0], n_features=2).to(device)\n",
    "    state = torch.load(checkpoint)\n",
    "    seg_model.load_state_dict(state[\"model\"])\n",
    "    return seg_model.downsampling_modules, [1, 64, 512, 1024, 2048]\n",
    "\n",
    "# backbone, channels = get_seg_backbone()"
   ]
  },
  {
   "cell_type": "code",
   "execution_count": 15,
   "metadata": {
    "collapsed": false
   },
   "outputs": [],
   "source": [
    "def print_list_shape(list):\n",
    "    for i, l in enumerate(list):\n",
    "        print(f\"{i} {l.shape}\")"
   ]
  },
  {
   "cell_type": "code",
   "execution_count": 16,
   "metadata": {
    "collapsed": false
   },
   "outputs": [],
   "source": [
    "def check_list_nan(list, name=None):\n",
    "    print(\"check_list_nan {}\".format(name))\n",
    "    for i, item in enumerate(list):\n",
    "        print(f\"{i} {torch.isnan(item).any()}\")"
   ]
  },
  {
   "cell_type": "code",
   "execution_count": 17,
   "metadata": {
    "collapsed": false
   },
   "outputs": [],
   "source": [
    "class ClassificationModel(nn.Module):\n",
    "    def __init__(self, backbone, channels, deep=4):\n",
    "        super().__init__()\n",
    "\n",
    "        self.backbone = backbone\n",
    "        self.deep = deep\n",
    "        self.channels = channels\n",
    "\n",
    "        self.dw = nn.Parameter(torch.tensor(20.0, dtype=torch.float), requires_grad=False)\n",
    "        self.register_buffer('mf', ((torch.arange(7) + 1) * 0.125).reshape(7, 1, 1))\n",
    "        self.init_layers()\n",
    "\n",
    "    def init_layers(self):\n",
    "        self.parallel_modules_1 = self.make_parallel_modules()\n",
    "        self.parallel_modules_2 = self.make_parallel_modules()\n",
    "        self.downsampling_modules = self.make_downsampling_modules()\n",
    "        self.mask_modules = self.make_mask_modules()\n",
    "        self.classification_modules = self.make_classification_modules()\n",
    "\n",
    "    def make_parallel_modules(self):\n",
    "        parallel_modules = nn.ModuleList()\n",
    "\n",
    "        for channel in self.channels:\n",
    "            module = nn.Conv2d(channel, channel, kernel_size=1, padding='same')\n",
    "            parallel_modules.append(module)\n",
    "\n",
    "        return parallel_modules\n",
    "\n",
    "    def make_mask_modules(self):\n",
    "        mask_modules = nn.ModuleList()\n",
    "\n",
    "        for i in range(self.deep):\n",
    "            module = nn.Sequential(\n",
    "                # nn.Conv2d(self.channels[i], self.channels[i+1], kernel_size=3, stride=2, padding=1),\n",
    "                # nn.Sigmoid()\n",
    "                nn.MaxPool2d(3, stride=2, padding=1)\n",
    "            )\n",
    "            mask_modules.append(module)\n",
    "\n",
    "        return mask_modules\n",
    "\n",
    "    def make_downsampling_modules(self):\n",
    "        downsampling_modules = nn.ModuleList()\n",
    "\n",
    "        for i in range(self.deep):\n",
    "            module = nn.Sequential(\n",
    "                nn.ReLU(),\n",
    "                nn.Conv2d(self.channels[i], self.channels[i], kernel_size=1),\n",
    "                nn.ReLU(),\n",
    "                nn.Conv2d(self.channels[i], self.channels[i+1], kernel_size=3, stride=2, padding=1),\n",
    "\n",
    "            )\n",
    "            downsampling_modules.append(module)\n",
    "\n",
    "        return downsampling_modules\n",
    "\n",
    "    def make_classification_modules(self):\n",
    "        return nn.Sequential(\n",
    "            nn.ReLU(),\n",
    "            nn.Conv2d(self.channels[-1], self.channels[-1], kernel_size=3, padding='same'),\n",
    "            nn.ReLU(inplace=True),\n",
    "            nn.Flatten(),\n",
    "            nn.Linear(self.channels[-1] * 16 * 16, 1)\n",
    "        )\n",
    "\n",
    "    def forward_recursive(self, x, modules):\n",
    "        result = []\n",
    "        out = x\n",
    "        for module in modules:\n",
    "            out = module(out)\n",
    "            result.append(out)\n",
    "\n",
    "        return result\n",
    "\n",
    "    def forward_parallel(self, inputs, modules):\n",
    "        result = []\n",
    "        for input, module in zip(inputs, modules):\n",
    "            out = module(input)\n",
    "            result.append(out)\n",
    "\n",
    "        return result\n",
    "\n",
    "    def apply_mask(self, inputs, masks):\n",
    "        result = []\n",
    "\n",
    "        for input, mask in zip(inputs, masks):\n",
    "            out = input * mask\n",
    "            result.append(out)\n",
    "\n",
    "        return result\n",
    "\n",
    "    def repeat_mask(self, mask):\n",
    "        N, H, W = mask.shape\n",
    "        mask[mask == 0] = -torch.inf\n",
    "\n",
    "        mask = (mask.unsqueeze(1) - self.mf) ** 2\n",
    "        mask = torch.exp(-self.dw * mask)  # N, 7, H, W\n",
    "        mask = mask.reshape(-1, 1, H, W)\n",
    "        return mask\n",
    "\n",
    "    def forward_downsampling(self, features, modules):\n",
    "        out = features[0]\n",
    "        for i, module in enumerate(modules):\n",
    "            out = module(out) + features[i + 1]\n",
    "\n",
    "        return out\n",
    "\n",
    "    def forward(self, x, mask):\n",
    "        backbone_features = self.forward_recursive(x, self.backbone)\n",
    "        # check_list_nan(backbone_features, \"backbone_features\")\n",
    "\n",
    "        mask = self.repeat_mask(mask)   # 14, 1, 256, 256\n",
    "        mask_features = self.forward_recursive(mask, self.mask_modules)\n",
    "\n",
    "        # check_list_nan(mask_features, \"mask_features\")\n",
    "\n",
    "        parallel_features_1 = self.forward_parallel([x] + backbone_features, self.parallel_modules_1)\n",
    "        # 여기서 뻥튀기를 시킨다.\n",
    "        parallel_features_1 = [feature.repeat_interleave(7, dim=0) for feature in parallel_features_1]\n",
    "\n",
    "        # check_list_nan(parallel_features_1)\n",
    "\n",
    "        masked_features = self.apply_mask(parallel_features_1, [mask] + mask_features)\n",
    "\n",
    "        # check_list_nan(masked_features)\n",
    "        out = self.forward_parallel(masked_features, self.parallel_modules_2)\n",
    "\n",
    "        # check_list_nan(out)\n",
    "        out = self.forward_downsampling(out, self.downsampling_modules)\n",
    "        out = self.classification_modules(out)\n",
    "\n",
    "        return out\n",
    "\n",
    "\n",
    "# model = ClassificationModel(backbone, channels).to(device)\n",
    "#\n",
    "# total_params = sum(p.numel() for p in model.parameters() if p.requires_grad)\n",
    "# print(total_params)\n",
    "\n",
    "# input = torch.randn(2, 1, 256, 256).to(device)\n",
    "# mask = torch.randn(2, 256, 256).to(device)\n",
    "# logits = model(input, mask)\n",
    "# logits.shape"
   ]
  },
  {
   "cell_type": "markdown",
   "metadata": {
    "collapsed": false
   },
   "source": [
    "### Dataloader"
   ]
  },
  {
   "cell_type": "code",
   "execution_count": 18,
   "metadata": {
    "collapsed": false
   },
   "outputs": [],
   "source": [
    "train_loader = DataLoader(dataset, batch_size=batch_size, shuffle=True, pin_memory=True, num_workers=min(16, batch_size))"
   ]
  },
  {
   "cell_type": "markdown",
   "metadata": {
    "collapsed": false
   },
   "source": [
    "### Loss function"
   ]
  },
  {
   "cell_type": "code",
   "execution_count": 19,
   "metadata": {
    "collapsed": false
   },
   "outputs": [],
   "source": [
    "def loss_fn(logits, y, pos_weight=torch.tensor(1)):\n",
    "    labels = F.one_hot(y, num_classes=7).reshape(-1, 1).float()\n",
    "\n",
    "    loss = F.binary_cross_entropy_with_logits(logits, labels, pos_weight=pos_weight)\n",
    "    return loss\n"
   ]
  },
  {
   "cell_type": "code",
   "execution_count": 20,
   "metadata": {
    "collapsed": false
   },
   "outputs": [],
   "source": [
    "def denormalize_img(x):\n",
    "    img = x.detach().cpu().numpy()\n",
    "    img = (img * 0.5) + 0.5\n",
    "    img = img.transpose(0, 2, 3, 1)\n",
    "    return img"
   ]
  },
  {
   "cell_type": "code",
   "execution_count": 21,
   "metadata": {
    "collapsed": false
   },
   "outputs": [],
   "source": [
    "# backbone, channels = get_backbone()\n",
    "backbone, channels = get_seg_backbone()\n",
    "model = ClassificationModel(backbone, channels).to(device)\n",
    "# optimizer = optim.AdamW(model.parameters(), lr=lr, weight_decay=wd)\n",
    "\n",
    "# total_params = sum(p.numel() for p in model.parameters() if p.requires_grad)\n",
    "# total_params\n"
   ]
  },
  {
   "cell_type": "code",
   "execution_count": 22,
   "metadata": {
    "collapsed": false
   },
   "outputs": [],
   "source": [
    "optimizer = optim.AdamW(model.parameters(), lr=lr, weight_decay=wd)\n",
    "scaler = torch.cuda.amp.GradScaler(enabled=(device == 'cuda'))"
   ]
  },
  {
   "cell_type": "code",
   "execution_count": 23,
   "metadata": {
    "collapsed": false
   },
   "outputs": [],
   "source": [
    "scheduler = optim.lr_scheduler.MultiStepLR(optimizer, milestones=[5, 10, 15, 20], gamma=0.5)\n"
   ]
  },
  {
   "cell_type": "code",
   "execution_count": 24,
   "metadata": {
    "collapsed": false
   },
   "outputs": [],
   "source": [
    "pos_weight = torch.tensor(pos_weight)"
   ]
  },
  {
   "cell_type": "markdown",
   "metadata": {
    "collapsed": false
   },
   "source": [
    "### train_one_epoch"
   ]
  },
  {
   "cell_type": "code",
   "execution_count": 25,
   "metadata": {
    "collapsed": false
   },
   "outputs": [],
   "source": [
    "def train_one_epoch(e, model, dataloader):\n",
    "    model.train()\n",
    "    train_iter = tqdm(dataloader)\n",
    "    losses = []\n",
    "    epoch_iteration = len(dataloader)\n",
    "\n",
    "    for i, (x, mask, y) in enumerate(train_iter):\n",
    "        x = x.to(device)\n",
    "        mask = mask.to(device)\n",
    "        y = y.to(device)\n",
    "\n",
    "        with torch.cuda.amp.autocast(device == 'cuda'):\n",
    "            logits = model(x, mask)\n",
    "            loss = loss_fn(logits, y, pos_weight=pos_weight)\n",
    "\n",
    "        optimizer.zero_grad()\n",
    "        scaler.scale(loss).backward()\n",
    "        nn.utils.clip_grad_norm_(model.parameters(), 1.)\n",
    "        scaler.step(optimizer)\n",
    "        scaler.update()\n",
    "\n",
    "        train_iter.set_description(f\"t {e} loss {loss.item():.4f}\")\n",
    "\n",
    "        losses.append(loss.item())\n",
    "\n",
    "        if wandb.run is not None:\n",
    "            lr_logs = {f\"last_lr_{i}\": float(v) for i, v in enumerate(scheduler.get_last_lr())}\n",
    "            wandb.log({\n",
    "                'train_loss': loss.item(),\n",
    "                'epoch': e,\n",
    "                'train_iteration': i + e * epoch_iteration,\n",
    "                **lr_logs,\n",
    "            })\n",
    "\n",
    "        if i % 10 == 0:\n",
    "            with torch.no_grad():\n",
    "                infer_bad_sample(wandb_log=True)\n",
    "            model.train()\n",
    "\n",
    "    return np.mean(losses)"
   ]
  },
  {
   "cell_type": "code",
   "execution_count": 26,
   "metadata": {
    "collapsed": false
   },
   "outputs": [
    {
     "data": {
      "text/html": [
       "<div>\n",
       "<style scoped>\n",
       "    .dataframe tbody tr th:only-of-type {\n",
       "        vertical-align: middle;\n",
       "    }\n",
       "\n",
       "    .dataframe tbody tr th {\n",
       "        vertical-align: top;\n",
       "    }\n",
       "\n",
       "    .dataframe thead th {\n",
       "        text-align: right;\n",
       "    }\n",
       "</style>\n",
       "<table border=\"1\" class=\"dataframe\">\n",
       "  <thead>\n",
       "    <tr style=\"text-align: right;\">\n",
       "      <th></th>\n",
       "      <th>direction</th>\n",
       "      <th>sagittal_index</th>\n",
       "      <th>bottom</th>\n",
       "      <th>right</th>\n",
       "      <th>top</th>\n",
       "      <th>left</th>\n",
       "      <th>z_spacing</th>\n",
       "      <th>pixel_spacing</th>\n",
       "      <th>aspect</th>\n",
       "      <th>width</th>\n",
       "      <th>height</th>\n",
       "      <th>coronal_left</th>\n",
       "      <th>coronal_top</th>\n",
       "      <th>coronal_right</th>\n",
       "      <th>coronal_bottom</th>\n",
       "      <th>sagittal_left</th>\n",
       "      <th>sagittal_top</th>\n",
       "      <th>sagittal_right</th>\n",
       "      <th>sagittal_bottom</th>\n",
       "    </tr>\n",
       "    <tr>\n",
       "      <th>UID</th>\n",
       "      <th></th>\n",
       "      <th></th>\n",
       "      <th></th>\n",
       "      <th></th>\n",
       "      <th></th>\n",
       "      <th></th>\n",
       "      <th></th>\n",
       "      <th></th>\n",
       "      <th></th>\n",
       "      <th></th>\n",
       "      <th></th>\n",
       "      <th></th>\n",
       "      <th></th>\n",
       "      <th></th>\n",
       "      <th></th>\n",
       "      <th></th>\n",
       "      <th></th>\n",
       "      <th></th>\n",
       "      <th></th>\n",
       "    </tr>\n",
       "  </thead>\n",
       "  <tbody>\n",
       "    <tr>\n",
       "      <th>1.2.826.0.1.3680043.10001</th>\n",
       "      <td>2</td>\n",
       "      <td>88</td>\n",
       "      <td>590</td>\n",
       "      <td>377</td>\n",
       "      <td>98</td>\n",
       "      <td>49</td>\n",
       "      <td>0.625</td>\n",
       "      <td>0.253906</td>\n",
       "      <td>2.461541</td>\n",
       "      <td>512</td>\n",
       "      <td>659</td>\n",
       "      <td>74</td>\n",
       "      <td>54</td>\n",
       "      <td>185</td>\n",
       "      <td>213</td>\n",
       "      <td>58</td>\n",
       "      <td>54</td>\n",
       "      <td>164</td>\n",
       "      <td>213</td>\n",
       "    </tr>\n",
       "    <tr>\n",
       "      <th>1.2.826.0.1.3680043.10001</th>\n",
       "      <td>2</td>\n",
       "      <td>89</td>\n",
       "      <td>590</td>\n",
       "      <td>377</td>\n",
       "      <td>98</td>\n",
       "      <td>49</td>\n",
       "      <td>0.625</td>\n",
       "      <td>0.253906</td>\n",
       "      <td>2.461541</td>\n",
       "      <td>512</td>\n",
       "      <td>659</td>\n",
       "      <td>74</td>\n",
       "      <td>54</td>\n",
       "      <td>185</td>\n",
       "      <td>213</td>\n",
       "      <td>58</td>\n",
       "      <td>54</td>\n",
       "      <td>164</td>\n",
       "      <td>213</td>\n",
       "    </tr>\n",
       "    <tr>\n",
       "      <th>1.2.826.0.1.3680043.10001</th>\n",
       "      <td>2</td>\n",
       "      <td>90</td>\n",
       "      <td>590</td>\n",
       "      <td>377</td>\n",
       "      <td>98</td>\n",
       "      <td>49</td>\n",
       "      <td>0.625</td>\n",
       "      <td>0.253906</td>\n",
       "      <td>2.461541</td>\n",
       "      <td>512</td>\n",
       "      <td>659</td>\n",
       "      <td>74</td>\n",
       "      <td>54</td>\n",
       "      <td>185</td>\n",
       "      <td>213</td>\n",
       "      <td>58</td>\n",
       "      <td>54</td>\n",
       "      <td>164</td>\n",
       "      <td>213</td>\n",
       "    </tr>\n",
       "    <tr>\n",
       "      <th>1.2.826.0.1.3680043.10001</th>\n",
       "      <td>2</td>\n",
       "      <td>91</td>\n",
       "      <td>590</td>\n",
       "      <td>377</td>\n",
       "      <td>98</td>\n",
       "      <td>49</td>\n",
       "      <td>0.625</td>\n",
       "      <td>0.253906</td>\n",
       "      <td>2.461541</td>\n",
       "      <td>512</td>\n",
       "      <td>659</td>\n",
       "      <td>74</td>\n",
       "      <td>54</td>\n",
       "      <td>185</td>\n",
       "      <td>213</td>\n",
       "      <td>58</td>\n",
       "      <td>54</td>\n",
       "      <td>164</td>\n",
       "      <td>213</td>\n",
       "    </tr>\n",
       "    <tr>\n",
       "      <th>1.2.826.0.1.3680043.10001</th>\n",
       "      <td>2</td>\n",
       "      <td>92</td>\n",
       "      <td>590</td>\n",
       "      <td>377</td>\n",
       "      <td>98</td>\n",
       "      <td>49</td>\n",
       "      <td>0.625</td>\n",
       "      <td>0.253906</td>\n",
       "      <td>2.461541</td>\n",
       "      <td>512</td>\n",
       "      <td>659</td>\n",
       "      <td>74</td>\n",
       "      <td>54</td>\n",
       "      <td>185</td>\n",
       "      <td>213</td>\n",
       "      <td>58</td>\n",
       "      <td>54</td>\n",
       "      <td>164</td>\n",
       "      <td>213</td>\n",
       "    </tr>\n",
       "  </tbody>\n",
       "</table>\n",
       "</div>"
      ],
      "text/plain": [
       "                           direction  sagittal_index  bottom  right  top  \\\n",
       "UID                                                                        \n",
       "1.2.826.0.1.3680043.10001          2              88     590    377   98   \n",
       "1.2.826.0.1.3680043.10001          2              89     590    377   98   \n",
       "1.2.826.0.1.3680043.10001          2              90     590    377   98   \n",
       "1.2.826.0.1.3680043.10001          2              91     590    377   98   \n",
       "1.2.826.0.1.3680043.10001          2              92     590    377   98   \n",
       "\n",
       "                           left  z_spacing  pixel_spacing    aspect  width  \\\n",
       "UID                                                                          \n",
       "1.2.826.0.1.3680043.10001    49      0.625       0.253906  2.461541    512   \n",
       "1.2.826.0.1.3680043.10001    49      0.625       0.253906  2.461541    512   \n",
       "1.2.826.0.1.3680043.10001    49      0.625       0.253906  2.461541    512   \n",
       "1.2.826.0.1.3680043.10001    49      0.625       0.253906  2.461541    512   \n",
       "1.2.826.0.1.3680043.10001    49      0.625       0.253906  2.461541    512   \n",
       "\n",
       "                           height  coronal_left  coronal_top  coronal_right  \\\n",
       "UID                                                                           \n",
       "1.2.826.0.1.3680043.10001     659            74           54            185   \n",
       "1.2.826.0.1.3680043.10001     659            74           54            185   \n",
       "1.2.826.0.1.3680043.10001     659            74           54            185   \n",
       "1.2.826.0.1.3680043.10001     659            74           54            185   \n",
       "1.2.826.0.1.3680043.10001     659            74           54            185   \n",
       "\n",
       "                           coronal_bottom  sagittal_left  sagittal_top  \\\n",
       "UID                                                                      \n",
       "1.2.826.0.1.3680043.10001             213             58            54   \n",
       "1.2.826.0.1.3680043.10001             213             58            54   \n",
       "1.2.826.0.1.3680043.10001             213             58            54   \n",
       "1.2.826.0.1.3680043.10001             213             58            54   \n",
       "1.2.826.0.1.3680043.10001             213             58            54   \n",
       "\n",
       "                           sagittal_right  sagittal_bottom  \n",
       "UID                                                         \n",
       "1.2.826.0.1.3680043.10001             164              213  \n",
       "1.2.826.0.1.3680043.10001             164              213  \n",
       "1.2.826.0.1.3680043.10001             164              213  \n",
       "1.2.826.0.1.3680043.10001             164              213  \n",
       "1.2.826.0.1.3680043.10001             164              213  "
      ]
     },
     "execution_count": 26,
     "metadata": {},
     "output_type": "execute_result"
    }
   ],
   "source": [
    "boundary_df = pd.read_csv('infer_sagittal_position.csv').set_index('UID')\n",
    "boundary_df.head()"
   ]
  },
  {
   "cell_type": "code",
   "execution_count": 27,
   "metadata": {
    "collapsed": false
   },
   "outputs": [
    {
     "name": "stdout",
     "output_type": "stream",
     "text": [
      "torch.Size([1, 256, 256])\n",
      "tensor(0.8750)\n"
     ]
    }
   ],
   "source": [
    "def get_inference_input(UID, index):\n",
    "\n",
    "    left, top, right, bottom = boundary_df.loc[UID, ['left','top','right','bottom']].iloc[0].values\n",
    "    org_img = Image.open(os.path.join(IMAGES_DIR, UID, f\"{int(index)}.jpeg\"))\n",
    "    x = TF.crop(org_img, top, left, bottom-top, right-left)\n",
    "\n",
    "    transform = T.Compose([\n",
    "        T.Resize(image_size),\n",
    "        T.RandomAutocontrast(),\n",
    "        T.ToTensor(),\n",
    "        T.Normalize(0.5, 0.5)\n",
    "    ])\n",
    "\n",
    "    x = TF.center_crop(x, max(x.width, x.height))\n",
    "    x = transform(x)\n",
    "\n",
    "    mask = Image.open(os.path.join(MASK_DIR, UID, f\"{int(index)}.png\"))\n",
    "    mask = np.asarray(mask)\n",
    "    # print(mask)\n",
    "    mask = torch.tensor(mask, dtype=torch.float) / 32.\n",
    "\n",
    "    return x, mask\n",
    "\n",
    "x, mask = get_inference_input(\"1.2.826.0.1.3680043.1810\", 264)\n",
    "print(x.shape)\n",
    "print(mask.max())"
   ]
  },
  {
   "cell_type": "code",
   "execution_count": 29,
   "metadata": {
    "collapsed": false
   },
   "outputs": [],
   "source": [
    "def infer_sample(model,  UIDs, indices, labels, wandb_log=False):\n",
    "    model.eval()\n",
    "\n",
    "    x_list = []\n",
    "    mask_list = []\n",
    "    for UID, index in zip(UIDs, indices):\n",
    "        x, mask = get_inference_input(UID, index)\n",
    "        x_list.append(x)\n",
    "        mask_list.append(mask)\n",
    "\n",
    "    x = torch.stack(x_list)\n",
    "    mask = torch.stack(mask_list)\n",
    "\n",
    "    x = x.to(device)\n",
    "    mask = mask.to(device)\n",
    "    labels = torch.tensor(labels).to(device)\n",
    "\n",
    "    logits = model(x, mask)\n",
    "    # print(logits.shape)\n",
    "    loss = loss_fn(logits, labels)\n",
    "\n",
    "    prob = logits.sigmoid().reshape(-1, 7)\n",
    "    pred = prob.argmax(dim=1)\n",
    "\n",
    "    if wandb_log is True and wandb.run is not None:\n",
    "\n",
    "        column_names = ['UID','label','prediction','C1','C2','C3','C4','C5','C6','C7']\n",
    "        table_data = []\n",
    "        for i in range(x.shape[0]):\n",
    "            table_data.append([\n",
    "                UIDs[i], labels[i], pred[i],\n",
    "                prob[i, 0],\n",
    "                prob[i, 1],\n",
    "                prob[i, 2],\n",
    "                prob[i, 3],\n",
    "                prob[i, 4],\n",
    "                prob[i, 5],\n",
    "                prob[i, 6],\n",
    "            ])\n",
    "\n",
    "        wandb.log({\n",
    "            'img_pred': wandb.Table(data=table_data, columns=column_names),\n",
    "            'img_pred_loss' : loss.item(),\n",
    "        })\n",
    "    if wandb_log is False:\n",
    "        print(pred)\n",
    "        # print()\n",
    "        # plt.imshow(combined_img)\n",
    "        # plt.show()\n",
    "\n",
    "@torch.no_grad()\n",
    "def infer_bad_sample(wandb_log=False):\n",
    "\n",
    "    sample_UIDs = [\"1.2.826.0.1.3680043.10204\", \"1.2.826.0.1.3680043.10261\", \"1.2.826.0.1.3680043.1810\", \"1.2.826.0.1.3680043.7195\"]\n",
    "    indices = [248, 259, 264, 270]\n",
    "    labels = [1, 1, 1, 1]\n",
    "    infer_sample(model, sample_UIDs, indices, labels, wandb_log=wandb_log)\n",
    "\n",
    "infer_bad_sample(wandb_log=True)"
   ]
  },
  {
   "cell_type": "code",
   "execution_count": 30,
   "metadata": {
    "collapsed": false
   },
   "outputs": [],
   "source": [
    "epoch = 0"
   ]
  },
  {
   "cell_type": "code",
   "execution_count": 31,
   "metadata": {
    "collapsed": false
   },
   "outputs": [
    {
     "name": "stderr",
     "output_type": "stream",
     "text": [
      "t 0 loss 0.5109: 100%|██████████| 451/451 [04:39<00:00,  1.62it/s]\n",
      "t 1 loss 0.3037: 100%|██████████| 451/451 [04:42<00:00,  1.60it/s]\n"
     ]
    }
   ],
   "source": [
    "epochs = 2\n",
    "\n",
    "for e in range(epochs):\n",
    "\n",
    "    train_loss = train_one_epoch(epoch, model, train_loader)\n",
    "\n",
    "    epoch += 1"
   ]
  },
  {
   "cell_type": "code",
   "execution_count": null,
   "metadata": {
    "collapsed": false
   },
   "outputs": [],
   "source": [
    "state = {\n",
    "    \"model\": model.state_dict(),\n",
    "    \"optimizer\": optimizer.state_dict(),\n",
    "    \"scheduler\": scheduler.state_dict(),\n",
    "    \"epoch\": epoch,\n",
    "}\n",
    "torch.save(state, f'checkpoint/{wandb.run.name}-epoch-{epoch}.pth')"
   ]
  }
 ],
 "metadata": {
  "kernelspec": {
   "display_name": "Python 3 (ipykernel)",
   "language": "python",
   "name": "python3"
  },
  "language_info": {
   "codemirror_mode": {
    "name": "ipython",
    "version": 3
   },
   "file_extension": ".py",
   "mimetype": "text/x-python",
   "name": "python",
   "nbconvert_exporter": "python",
   "pygments_lexer": "ipython3",
   "version": "3.8.10"
  }
 },
 "nbformat": 4,
 "nbformat_minor": 4
}
