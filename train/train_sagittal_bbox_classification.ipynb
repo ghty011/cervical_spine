{
 "cells": [
  {
   "cell_type": "code",
   "execution_count": 1,
   "metadata": {
    "collapsed": false,
    "jupyter": {
     "outputs_hidden": false
    }
   },
   "outputs": [],
   "source": [
    "lr = 1e-5\n",
    "wd = 1e-5\n",
    "batch_size = 2\n",
    "image_size = 256\n"
   ]
  },
  {
   "cell_type": "code",
   "execution_count": 2,
   "metadata": {
    "collapsed": true,
    "jupyter": {
     "outputs_hidden": true
    }
   },
   "outputs": [],
   "source": [
    "import os\n",
    "import glob\n",
    "import pydicom\n",
    "import nibabel as nib\n",
    "import pandas as pd\n",
    "import numpy as np\n",
    "from pydicom.pixel_data_handlers.util import apply_voi_lut\n",
    "import matplotlib.pyplot as plt\n",
    "import matplotlib.patches as patches\n",
    "import seaborn as sns\n",
    "\n",
    "from tqdm import tqdm\n",
    "\n",
    "from PIL import Image, ImageOps"
   ]
  },
  {
   "cell_type": "code",
   "execution_count": 3,
   "metadata": {
    "collapsed": false,
    "jupyter": {
     "outputs_hidden": false
    }
   },
   "outputs": [],
   "source": [
    "import torch\n",
    "import torch.nn as nn\n",
    "import torch.nn.functional as F\n",
    "import torch.optim as optim\n",
    "from torch.utils.data import Dataset, DataLoader\n",
    "import torchvision\n",
    "from torchvision.io import read_image\n",
    "import torchvision.transforms as T\n",
    "from torchvision.transforms import Compose, ToTensor, Normalize, Resize, CenterCrop\n",
    "import torchvision.transforms.functional as TF\n",
    "import torchvision.models as models\n",
    "\n",
    "device = 'cuda' if torch.cuda.is_available() else 'cpu'"
   ]
  },
  {
   "cell_type": "code",
   "execution_count": 4,
   "metadata": {
    "collapsed": false,
    "jupyter": {
     "outputs_hidden": false
    }
   },
   "outputs": [],
   "source": [
    "# DATA_DIR = \"/Volumes/SSD970/\"\n",
    "DATA_DIR = \"/root/autodl-tmp/cervical_spine/\"\n",
    "TRAIN_IMAGES_DIR = os.path.join(DATA_DIR, \"train_images\")\n",
    "\n",
    "TRAIN_CORONAL_IMAGES_DIR = os.path.join(DATA_DIR, \"train_coronal_images\")\n",
    "TRAIN_CORONAL_LABEL_DIR = os.path.join(DATA_DIR, \"train_coronal_labels\")\n",
    "TRAIN_SAGITTAL_IMAGES_DIR = os.path.join(DATA_DIR, \"train_sagittal_images_jpeg95\")\n",
    "TRAIN_SAGITTAL_LABEL_DIR = os.path.join(DATA_DIR, \"train_sagittal_labels_jpeg95\")"
   ]
  },
  {
   "cell_type": "code",
   "execution_count": 5,
   "metadata": {
    "collapsed": false
   },
   "outputs": [
    {
     "data": {
      "text/html": [
       "<div>\n",
       "<style scoped>\n",
       "    .dataframe tbody tr th:only-of-type {\n",
       "        vertical-align: middle;\n",
       "    }\n",
       "\n",
       "    .dataframe tbody tr th {\n",
       "        vertical-align: top;\n",
       "    }\n",
       "\n",
       "    .dataframe thead th {\n",
       "        text-align: right;\n",
       "    }\n",
       "</style>\n",
       "<table border=\"1\" class=\"dataframe\">\n",
       "  <thead>\n",
       "    <tr style=\"text-align: right;\">\n",
       "      <th></th>\n",
       "      <th>StudyInstanceUID</th>\n",
       "      <th>start_slice_number</th>\n",
       "      <th>bottom</th>\n",
       "      <th>right</th>\n",
       "      <th>top</th>\n",
       "      <th>left</th>\n",
       "      <th>sagittal_label_y</th>\n",
       "      <th>sagittal_label_x</th>\n",
       "      <th>axial_index</th>\n",
       "      <th>coronal_index</th>\n",
       "      <th>...</th>\n",
       "      <th>aspect</th>\n",
       "      <th>pixel_spacing</th>\n",
       "      <th>z_spacing</th>\n",
       "      <th>is_flip</th>\n",
       "      <th>num_slices</th>\n",
       "      <th>x</th>\n",
       "      <th>y</th>\n",
       "      <th>width</th>\n",
       "      <th>height</th>\n",
       "      <th>slice_number</th>\n",
       "    </tr>\n",
       "    <tr>\n",
       "      <th>UID</th>\n",
       "      <th></th>\n",
       "      <th></th>\n",
       "      <th></th>\n",
       "      <th></th>\n",
       "      <th></th>\n",
       "      <th></th>\n",
       "      <th></th>\n",
       "      <th></th>\n",
       "      <th></th>\n",
       "      <th></th>\n",
       "      <th></th>\n",
       "      <th></th>\n",
       "      <th></th>\n",
       "      <th></th>\n",
       "      <th></th>\n",
       "      <th></th>\n",
       "      <th></th>\n",
       "      <th></th>\n",
       "      <th></th>\n",
       "      <th></th>\n",
       "      <th></th>\n",
       "    </tr>\n",
       "  </thead>\n",
       "  <tbody>\n",
       "    <tr>\n",
       "      <th>1.2.826.0.1.3680043.10051</th>\n",
       "      <td>1.2.826.0.1.3680043.10051</td>\n",
       "      <td>1</td>\n",
       "      <td>606.0</td>\n",
       "      <td>416.0</td>\n",
       "      <td>47.0</td>\n",
       "      <td>48.0</td>\n",
       "      <td>126</td>\n",
       "      <td>125</td>\n",
       "      <td>132</td>\n",
       "      <td>226</td>\n",
       "      <td>...</td>\n",
       "      <td>2.461541</td>\n",
       "      <td>0.253906</td>\n",
       "      <td>0.625</td>\n",
       "      <td>0.0</td>\n",
       "      <td>272</td>\n",
       "      <td>219.27715</td>\n",
       "      <td>216.71419</td>\n",
       "      <td>17.30440</td>\n",
       "      <td>20.38517</td>\n",
       "      <td>133</td>\n",
       "    </tr>\n",
       "    <tr>\n",
       "      <th>1.2.826.0.1.3680043.10051</th>\n",
       "      <td>1.2.826.0.1.3680043.10051</td>\n",
       "      <td>1</td>\n",
       "      <td>606.0</td>\n",
       "      <td>416.0</td>\n",
       "      <td>47.0</td>\n",
       "      <td>48.0</td>\n",
       "      <td>127</td>\n",
       "      <td>126</td>\n",
       "      <td>133</td>\n",
       "      <td>229</td>\n",
       "      <td>...</td>\n",
       "      <td>2.461541</td>\n",
       "      <td>0.253906</td>\n",
       "      <td>0.625</td>\n",
       "      <td>0.0</td>\n",
       "      <td>272</td>\n",
       "      <td>221.56460</td>\n",
       "      <td>216.71419</td>\n",
       "      <td>17.87844</td>\n",
       "      <td>25.24362</td>\n",
       "      <td>134</td>\n",
       "    </tr>\n",
       "    <tr>\n",
       "      <th>1.2.826.0.1.3680043.10051</th>\n",
       "      <td>1.2.826.0.1.3680043.10051</td>\n",
       "      <td>1</td>\n",
       "      <td>606.0</td>\n",
       "      <td>416.0</td>\n",
       "      <td>47.0</td>\n",
       "      <td>48.0</td>\n",
       "      <td>129</td>\n",
       "      <td>129</td>\n",
       "      <td>134</td>\n",
       "      <td>234</td>\n",
       "      <td>...</td>\n",
       "      <td>2.461541</td>\n",
       "      <td>0.253906</td>\n",
       "      <td>0.625</td>\n",
       "      <td>0.0</td>\n",
       "      <td>272</td>\n",
       "      <td>216.82151</td>\n",
       "      <td>221.62546</td>\n",
       "      <td>27.00959</td>\n",
       "      <td>26.37454</td>\n",
       "      <td>135</td>\n",
       "    </tr>\n",
       "    <tr>\n",
       "      <th>1.2.826.0.1.3680043.10051</th>\n",
       "      <td>1.2.826.0.1.3680043.10051</td>\n",
       "      <td>1</td>\n",
       "      <td>606.0</td>\n",
       "      <td>416.0</td>\n",
       "      <td>47.0</td>\n",
       "      <td>48.0</td>\n",
       "      <td>130</td>\n",
       "      <td>129</td>\n",
       "      <td>135</td>\n",
       "      <td>234</td>\n",
       "      <td>...</td>\n",
       "      <td>2.461541</td>\n",
       "      <td>0.253906</td>\n",
       "      <td>0.625</td>\n",
       "      <td>0.0</td>\n",
       "      <td>272</td>\n",
       "      <td>214.49455</td>\n",
       "      <td>215.48637</td>\n",
       "      <td>27.92726</td>\n",
       "      <td>37.51363</td>\n",
       "      <td>136</td>\n",
       "    </tr>\n",
       "    <tr>\n",
       "      <th>1.2.826.0.1.3680043.10051</th>\n",
       "      <td>1.2.826.0.1.3680043.10051</td>\n",
       "      <td>1</td>\n",
       "      <td>606.0</td>\n",
       "      <td>416.0</td>\n",
       "      <td>47.0</td>\n",
       "      <td>48.0</td>\n",
       "      <td>131</td>\n",
       "      <td>130</td>\n",
       "      <td>136</td>\n",
       "      <td>237</td>\n",
       "      <td>...</td>\n",
       "      <td>2.461541</td>\n",
       "      <td>0.253906</td>\n",
       "      <td>0.625</td>\n",
       "      <td>0.0</td>\n",
       "      <td>272</td>\n",
       "      <td>214.00000</td>\n",
       "      <td>215.48637</td>\n",
       "      <td>27.00000</td>\n",
       "      <td>43.51363</td>\n",
       "      <td>137</td>\n",
       "    </tr>\n",
       "  </tbody>\n",
       "</table>\n",
       "<p>5 rows × 21 columns</p>\n",
       "</div>"
      ],
      "text/plain": [
       "                                    StudyInstanceUID  start_slice_number  \\\n",
       "UID                                                                        \n",
       "1.2.826.0.1.3680043.10051  1.2.826.0.1.3680043.10051                   1   \n",
       "1.2.826.0.1.3680043.10051  1.2.826.0.1.3680043.10051                   1   \n",
       "1.2.826.0.1.3680043.10051  1.2.826.0.1.3680043.10051                   1   \n",
       "1.2.826.0.1.3680043.10051  1.2.826.0.1.3680043.10051                   1   \n",
       "1.2.826.0.1.3680043.10051  1.2.826.0.1.3680043.10051                   1   \n",
       "\n",
       "                           bottom  right   top  left  sagittal_label_y  \\\n",
       "UID                                                                      \n",
       "1.2.826.0.1.3680043.10051   606.0  416.0  47.0  48.0               126   \n",
       "1.2.826.0.1.3680043.10051   606.0  416.0  47.0  48.0               127   \n",
       "1.2.826.0.1.3680043.10051   606.0  416.0  47.0  48.0               129   \n",
       "1.2.826.0.1.3680043.10051   606.0  416.0  47.0  48.0               130   \n",
       "1.2.826.0.1.3680043.10051   606.0  416.0  47.0  48.0               131   \n",
       "\n",
       "                           sagittal_label_x  axial_index  coronal_index  ...  \\\n",
       "UID                                                                      ...   \n",
       "1.2.826.0.1.3680043.10051               125          132            226  ...   \n",
       "1.2.826.0.1.3680043.10051               126          133            229  ...   \n",
       "1.2.826.0.1.3680043.10051               129          134            234  ...   \n",
       "1.2.826.0.1.3680043.10051               129          135            234  ...   \n",
       "1.2.826.0.1.3680043.10051               130          136            237  ...   \n",
       "\n",
       "                             aspect  pixel_spacing  z_spacing  is_flip  \\\n",
       "UID                                                                      \n",
       "1.2.826.0.1.3680043.10051  2.461541       0.253906      0.625      0.0   \n",
       "1.2.826.0.1.3680043.10051  2.461541       0.253906      0.625      0.0   \n",
       "1.2.826.0.1.3680043.10051  2.461541       0.253906      0.625      0.0   \n",
       "1.2.826.0.1.3680043.10051  2.461541       0.253906      0.625      0.0   \n",
       "1.2.826.0.1.3680043.10051  2.461541       0.253906      0.625      0.0   \n",
       "\n",
       "                           num_slices          x          y     width  \\\n",
       "UID                                                                     \n",
       "1.2.826.0.1.3680043.10051         272  219.27715  216.71419  17.30440   \n",
       "1.2.826.0.1.3680043.10051         272  221.56460  216.71419  17.87844   \n",
       "1.2.826.0.1.3680043.10051         272  216.82151  221.62546  27.00959   \n",
       "1.2.826.0.1.3680043.10051         272  214.49455  215.48637  27.92726   \n",
       "1.2.826.0.1.3680043.10051         272  214.00000  215.48637  27.00000   \n",
       "\n",
       "                             height  slice_number  \n",
       "UID                                                \n",
       "1.2.826.0.1.3680043.10051  20.38517           133  \n",
       "1.2.826.0.1.3680043.10051  25.24362           134  \n",
       "1.2.826.0.1.3680043.10051  26.37454           135  \n",
       "1.2.826.0.1.3680043.10051  37.51363           136  \n",
       "1.2.826.0.1.3680043.10051  43.51363           137  \n",
       "\n",
       "[5 rows x 21 columns]"
      ]
     },
     "execution_count": 5,
     "metadata": {},
     "output_type": "execute_result"
    }
   ],
   "source": [
    "bbox_df = pd.read_csv('train_bbox_sagittal_classification.csv').set_index(\"UID\")\n",
    "bbox_df.head()"
   ]
  },
  {
   "cell_type": "code",
   "execution_count": 6,
   "metadata": {
    "collapsed": false,
    "jupyter": {
     "outputs_hidden": false
    }
   },
   "outputs": [
    {
     "name": "stdout",
     "output_type": "stream",
     "text": [
      "0.5\n"
     ]
    },
    {
     "data": {
      "text/plain": [
       "<matplotlib.image.AxesImage at 0x7fc22e9a6b80>"
      ]
     },
     "execution_count": 6,
     "metadata": {},
     "output_type": "execute_result"
    },
    {
     "data": {
      "image/png": "[encoded data removed]",
      "text/plain": [
       "<Figure size 432x288 with 1 Axes>"
      ]
     },
     "metadata": {
      "needs_background": "light"
     },
     "output_type": "display_data"
    }
   ],
   "source": [
    "class SagittalDataset(Dataset):\n",
    "    def __init__(self, df, image_dir, mask_dir, image_size=256, transform=None):\n",
    "        super().__init__()\n",
    "\n",
    "        self.df = df\n",
    "        self.image_dir = image_dir\n",
    "        self.mask_dir = mask_dir\n",
    "        self.image_size = image_size\n",
    "        self.transform = transform\n",
    "\n",
    "    def __len__(self):\n",
    "        return len(self.df)\n",
    "\n",
    "    def __getitem__(self, idx):\n",
    "        s = self.df.iloc[idx]\n",
    "        UID = s.name\n",
    "        img = Image.open(os.path.join(self.image_dir, UID, f\"{int(s.sagittal_index)}.jpeg\"))\n",
    "        img = TF.crop(img, s.top, s.left, s.bottom - s.top, s.right - s.left)\n",
    "\n",
    "        mask = Image.open(os.path.join(self.mask_dir, UID, f\"{int(s.sagittal_index)}.png\"))\n",
    "        mask = np.asarray(mask)\n",
    "        # print(mask.shape)\n",
    "        # print(self.image_size)\n",
    "        row = np.clip(s.sagittal_label_y, a_min=0, a_max=(self.image_size-1))\n",
    "        column = np.clip(s.sagittal_label_x, a_min=0, a_max=(self.image_size-1))\n",
    "        # print(row, column)\n",
    "        label = mask[row, column] / 32.\n",
    "        if self.transform:\n",
    "            img, mask, label = self.transform(img, mask, label)\n",
    "\n",
    "        return img, mask, label\n",
    "\n",
    "dataset = SagittalDataset(bbox_df, TRAIN_SAGITTAL_IMAGES_DIR, TRAIN_SAGITTAL_LABEL_DIR)\n",
    "img, mask, label = dataset[1]\n",
    "\n",
    "print(label)\n",
    "plt.imshow(img, cmap='bone')"
   ]
  },
  {
   "cell_type": "code",
   "execution_count": 7,
   "metadata": {
    "collapsed": false,
    "jupyter": {
     "outputs_hidden": false
    }
   },
   "outputs": [
    {
     "data": {
      "text/plain": [
       "<matplotlib.lines.Line2D at 0x7fc22c0db910>"
      ]
     },
     "execution_count": 7,
     "metadata": {},
     "output_type": "execute_result"
    },
    {
     "data": {
      "image/png": "[encoded data removed]",
      "text/plain": [
       "<Figure size 432x288 with 1 Axes>"
      ]
     },
     "metadata": {
      "needs_background": "light"
     },
     "output_type": "display_data"
    }
   ],
   "source": [
    "plt.imshow(mask, cmap=\"nipy_spectral\")\n",
    "plt.axhline(126)\n",
    "plt.axvline(125)"
   ]
  },
  {
   "cell_type": "code",
   "execution_count": 8,
   "metadata": {
    "collapsed": false,
    "jupyter": {
     "outputs_hidden": false
    }
   },
   "outputs": [
    {
     "data": {
      "text/plain": [
       "0.5"
      ]
     },
     "execution_count": 8,
     "metadata": {},
     "output_type": "execute_result"
    }
   ],
   "source": [
    "label"
   ]
  },
  {
   "cell_type": "markdown",
   "metadata": {},
   "source": [
    "### Transform"
   ]
  },
  {
   "cell_type": "code",
   "execution_count": 9,
   "metadata": {
    "collapsed": false,
    "jupyter": {
     "outputs_hidden": false
    }
   },
   "outputs": [],
   "source": [
    "class DataTransform(nn.Module):\n",
    "    def __init__(self, image_size):\n",
    "        super().__init__()\n",
    "\n",
    "        self.transform = T.Compose([\n",
    "            T.Resize(image_size),\n",
    "            T.RandomAutocontrast(),\n",
    "            T.ToTensor(),\n",
    "            T.Normalize(0.5, 0.5)\n",
    "        ])\n",
    "\n",
    "        # self.mask_transform = T.Normalize(0, 32)\n",
    "\n",
    "        self.label_transform = T.ToTensor()\n",
    "\n",
    "    def forward(self, x, mask, label):\n",
    "        x = TF.center_crop(x, max(x.width, x.height))\n",
    "        x = self.transform(x)\n",
    "\n",
    "        # print(mask)\n",
    "        mask = torch.tensor(mask, dtype=torch.float) / 32.\n",
    "        mask = mask\n",
    "        # mask = self.mask_transform(mask)\n",
    "        label = label / 0.125 - 1\n",
    "        label = torch.tensor(label).long()\n",
    "        return x, mask, label\n",
    "transform = DataTransform(image_size)"
   ]
  },
  {
   "cell_type": "code",
   "execution_count": 10,
   "metadata": {
    "collapsed": false,
    "jupyter": {
     "outputs_hidden": false
    }
   },
   "outputs": [
    {
     "name": "stdout",
     "output_type": "stream",
     "text": [
      "tensor(3)\n"
     ]
    },
    {
     "data": {
      "text/plain": [
       "tensor(0.8750)"
      ]
     },
     "execution_count": 10,
     "metadata": {},
     "output_type": "execute_result"
    }
   ],
   "source": [
    "dataset = SagittalDataset(bbox_df, TRAIN_SAGITTAL_IMAGES_DIR, TRAIN_SAGITTAL_LABEL_DIR, transform=transform)\n",
    "img, mask, label = dataset[1]\n",
    "print(label)\n",
    "mask.max()"
   ]
  },
  {
   "cell_type": "markdown",
   "metadata": {},
   "source": []
  },
  {
   "cell_type": "code",
   "execution_count": 11,
   "metadata": {
    "collapsed": false,
    "jupyter": {
     "outputs_hidden": false
    }
   },
   "outputs": [
    {
     "name": "stdout",
     "output_type": "stream",
     "text": [
      "ModuleList(\n",
      "  (0): Sequential(\n",
      "    (0): Conv2d(1, 64, kernel_size=(7, 7), stride=(1, 1), padding=same, bias=False)\n",
      "    (1): BatchNorm2d(64, eps=1e-05, momentum=0.1, affine=True, track_running_stats=True)\n",
      "    (2): ReLU(inplace=True)\n",
      "    (3): MaxPool2d(kernel_size=3, stride=2, padding=1, dilation=1, ceil_mode=False)\n",
      "  )\n",
      "  (1): Sequential(\n",
      "    (0): Sequential(\n",
      "      (0): Bottleneck(\n",
      "        (conv1): Conv2d(64, 64, kernel_size=(1, 1), stride=(1, 1), bias=False)\n",
      "        (bn1): BatchNorm2d(64, eps=1e-05, momentum=0.1, affine=True, track_running_stats=True)\n",
      "        (conv2): Conv2d(64, 64, kernel_size=(3, 3), stride=(1, 1), padding=(1, 1), bias=False)\n",
      "        (bn2): BatchNorm2d(64, eps=1e-05, momentum=0.1, affine=True, track_running_stats=True)\n",
      "        (conv3): Conv2d(64, 256, kernel_size=(1, 1), stride=(1, 1), bias=False)\n",
      "        (bn3): BatchNorm2d(256, eps=1e-05, momentum=0.1, affine=True, track_running_stats=True)\n",
      "        (relu): ReLU(inplace=True)\n",
      "        (downsample): Sequential(\n",
      "          (0): Conv2d(64, 256, kernel_size=(1, 1), stride=(1, 1), bias=False)\n",
      "          (1): BatchNorm2d(256, eps=1e-05, momentum=0.1, affine=True, track_running_stats=True)\n",
      "        )\n",
      "      )\n",
      "      (1): Bottleneck(\n",
      "        (conv1): Conv2d(256, 64, kernel_size=(1, 1), stride=(1, 1), bias=False)\n",
      "        (bn1): BatchNorm2d(64, eps=1e-05, momentum=0.1, affine=True, track_running_stats=True)\n",
      "        (conv2): Conv2d(64, 64, kernel_size=(3, 3), stride=(1, 1), padding=(1, 1), bias=False)\n",
      "        (bn2): BatchNorm2d(64, eps=1e-05, momentum=0.1, affine=True, track_running_stats=True)\n",
      "        (conv3): Conv2d(64, 256, kernel_size=(1, 1), stride=(1, 1), bias=False)\n",
      "        (bn3): BatchNorm2d(256, eps=1e-05, momentum=0.1, affine=True, track_running_stats=True)\n",
      "        (relu): ReLU(inplace=True)\n",
      "      )\n",
      "      (2): Bottleneck(\n",
      "        (conv1): Conv2d(256, 64, kernel_size=(1, 1), stride=(1, 1), bias=False)\n",
      "        (bn1): BatchNorm2d(64, eps=1e-05, momentum=0.1, affine=True, track_running_stats=True)\n",
      "        (conv2): Conv2d(64, 64, kernel_size=(3, 3), stride=(1, 1), padding=(1, 1), bias=False)\n",
      "        (bn2): BatchNorm2d(64, eps=1e-05, momentum=0.1, affine=True, track_running_stats=True)\n",
      "        (conv3): Conv2d(64, 256, kernel_size=(1, 1), stride=(1, 1), bias=False)\n",
      "        (bn3): BatchNorm2d(256, eps=1e-05, momentum=0.1, affine=True, track_running_stats=True)\n",
      "        (relu): ReLU(inplace=True)\n",
      "      )\n",
      "    )\n",
      "    (1): Sequential(\n",
      "      (0): Bottleneck(\n",
      "        (conv1): Conv2d(256, 128, kernel_size=(1, 1), stride=(1, 1), bias=False)\n",
      "        (bn1): BatchNorm2d(128, eps=1e-05, momentum=0.1, affine=True, track_running_stats=True)\n",
      "        (conv2): Conv2d(128, 128, kernel_size=(3, 3), stride=(2, 2), padding=(1, 1), bias=False)\n",
      "        (bn2): BatchNorm2d(128, eps=1e-05, momentum=0.1, affine=True, track_running_stats=True)\n",
      "        (conv3): Conv2d(128, 512, kernel_size=(1, 1), stride=(1, 1), bias=False)\n",
      "        (bn3): BatchNorm2d(512, eps=1e-05, momentum=0.1, affine=True, track_running_stats=True)\n",
      "        (relu): ReLU(inplace=True)\n",
      "        (downsample): Sequential(\n",
      "          (0): Conv2d(256, 512, kernel_size=(1, 1), stride=(2, 2), bias=False)\n",
      "          (1): BatchNorm2d(512, eps=1e-05, momentum=0.1, affine=True, track_running_stats=True)\n",
      "        )\n",
      "      )\n",
      "      (1): Bottleneck(\n",
      "        (conv1): Conv2d(512, 128, kernel_size=(1, 1), stride=(1, 1), bias=False)\n",
      "        (bn1): BatchNorm2d(128, eps=1e-05, momentum=0.1, affine=True, track_running_stats=True)\n",
      "        (conv2): Conv2d(128, 128, kernel_size=(3, 3), stride=(1, 1), padding=(1, 1), bias=False)\n",
      "        (bn2): BatchNorm2d(128, eps=1e-05, momentum=0.1, affine=True, track_running_stats=True)\n",
      "        (conv3): Conv2d(128, 512, kernel_size=(1, 1), stride=(1, 1), bias=False)\n",
      "        (bn3): BatchNorm2d(512, eps=1e-05, momentum=0.1, affine=True, track_running_stats=True)\n",
      "        (relu): ReLU(inplace=True)\n",
      "      )\n",
      "      (2): Bottleneck(\n",
      "        (conv1): Conv2d(512, 128, kernel_size=(1, 1), stride=(1, 1), bias=False)\n",
      "        (bn1): BatchNorm2d(128, eps=1e-05, momentum=0.1, affine=True, track_running_stats=True)\n",
      "        (conv2): Conv2d(128, 128, kernel_size=(3, 3), stride=(1, 1), padding=(1, 1), bias=False)\n",
      "        (bn2): BatchNorm2d(128, eps=1e-05, momentum=0.1, affine=True, track_running_stats=True)\n",
      "        (conv3): Conv2d(128, 512, kernel_size=(1, 1), stride=(1, 1), bias=False)\n",
      "        (bn3): BatchNorm2d(512, eps=1e-05, momentum=0.1, affine=True, track_running_stats=True)\n",
      "        (relu): ReLU(inplace=True)\n",
      "      )\n",
      "      (3): Bottleneck(\n",
      "        (conv1): Conv2d(512, 128, kernel_size=(1, 1), stride=(1, 1), bias=False)\n",
      "        (bn1): BatchNorm2d(128, eps=1e-05, momentum=0.1, affine=True, track_running_stats=True)\n",
      "        (conv2): Conv2d(128, 128, kernel_size=(3, 3), stride=(1, 1), padding=(1, 1), bias=False)\n",
      "        (bn2): BatchNorm2d(128, eps=1e-05, momentum=0.1, affine=True, track_running_stats=True)\n",
      "        (conv3): Conv2d(128, 512, kernel_size=(1, 1), stride=(1, 1), bias=False)\n",
      "        (bn3): BatchNorm2d(512, eps=1e-05, momentum=0.1, affine=True, track_running_stats=True)\n",
      "        (relu): ReLU(inplace=True)\n",
      "      )\n",
      "    )\n",
      "  )\n",
      "  (2): Sequential(\n",
      "    (0): Bottleneck(\n",
      "      (conv1): Conv2d(512, 256, kernel_size=(1, 1), stride=(1, 1), bias=False)\n",
      "      (bn1): BatchNorm2d(256, eps=1e-05, momentum=0.1, affine=True, track_running_stats=True)\n",
      "      (conv2): Conv2d(256, 256, kernel_size=(3, 3), stride=(2, 2), padding=(1, 1), bias=False)\n",
      "      (bn2): BatchNorm2d(256, eps=1e-05, momentum=0.1, affine=True, track_running_stats=True)\n",
      "      (conv3): Conv2d(256, 1024, kernel_size=(1, 1), stride=(1, 1), bias=False)\n",
      "      (bn3): BatchNorm2d(1024, eps=1e-05, momentum=0.1, affine=True, track_running_stats=True)\n",
      "      (relu): ReLU(inplace=True)\n",
      "      (downsample): Sequential(\n",
      "        (0): Conv2d(512, 1024, kernel_size=(1, 1), stride=(2, 2), bias=False)\n",
      "        (1): BatchNorm2d(1024, eps=1e-05, momentum=0.1, affine=True, track_running_stats=True)\n",
      "      )\n",
      "    )\n",
      "    (1): Bottleneck(\n",
      "      (conv1): Conv2d(1024, 256, kernel_size=(1, 1), stride=(1, 1), bias=False)\n",
      "      (bn1): BatchNorm2d(256, eps=1e-05, momentum=0.1, affine=True, track_running_stats=True)\n",
      "      (conv2): Conv2d(256, 256, kernel_size=(3, 3), stride=(1, 1), padding=(1, 1), bias=False)\n",
      "      (bn2): BatchNorm2d(256, eps=1e-05, momentum=0.1, affine=True, track_running_stats=True)\n",
      "      (conv3): Conv2d(256, 1024, kernel_size=(1, 1), stride=(1, 1), bias=False)\n",
      "      (bn3): BatchNorm2d(1024, eps=1e-05, momentum=0.1, affine=True, track_running_stats=True)\n",
      "      (relu): ReLU(inplace=True)\n",
      "    )\n",
      "    (2): Bottleneck(\n",
      "      (conv1): Conv2d(1024, 256, kernel_size=(1, 1), stride=(1, 1), bias=False)\n",
      "      (bn1): BatchNorm2d(256, eps=1e-05, momentum=0.1, affine=True, track_running_stats=True)\n",
      "      (conv2): Conv2d(256, 256, kernel_size=(3, 3), stride=(1, 1), padding=(1, 1), bias=False)\n",
      "      (bn2): BatchNorm2d(256, eps=1e-05, momentum=0.1, affine=True, track_running_stats=True)\n",
      "      (conv3): Conv2d(256, 1024, kernel_size=(1, 1), stride=(1, 1), bias=False)\n",
      "      (bn3): BatchNorm2d(1024, eps=1e-05, momentum=0.1, affine=True, track_running_stats=True)\n",
      "      (relu): ReLU(inplace=True)\n",
      "    )\n",
      "    (3): Bottleneck(\n",
      "      (conv1): Conv2d(1024, 256, kernel_size=(1, 1), stride=(1, 1), bias=False)\n",
      "      (bn1): BatchNorm2d(256, eps=1e-05, momentum=0.1, affine=True, track_running_stats=True)\n",
      "      (conv2): Conv2d(256, 256, kernel_size=(3, 3), stride=(1, 1), padding=(1, 1), bias=False)\n",
      "      (bn2): BatchNorm2d(256, eps=1e-05, momentum=0.1, affine=True, track_running_stats=True)\n",
      "      (conv3): Conv2d(256, 1024, kernel_size=(1, 1), stride=(1, 1), bias=False)\n",
      "      (bn3): BatchNorm2d(1024, eps=1e-05, momentum=0.1, affine=True, track_running_stats=True)\n",
      "      (relu): ReLU(inplace=True)\n",
      "    )\n",
      "    (4): Bottleneck(\n",
      "      (conv1): Conv2d(1024, 256, kernel_size=(1, 1), stride=(1, 1), bias=False)\n",
      "      (bn1): BatchNorm2d(256, eps=1e-05, momentum=0.1, affine=True, track_running_stats=True)\n",
      "      (conv2): Conv2d(256, 256, kernel_size=(3, 3), stride=(1, 1), padding=(1, 1), bias=False)\n",
      "      (bn2): BatchNorm2d(256, eps=1e-05, momentum=0.1, affine=True, track_running_stats=True)\n",
      "      (conv3): Conv2d(256, 1024, kernel_size=(1, 1), stride=(1, 1), bias=False)\n",
      "      (bn3): BatchNorm2d(1024, eps=1e-05, momentum=0.1, affine=True, track_running_stats=True)\n",
      "      (relu): ReLU(inplace=True)\n",
      "    )\n",
      "    (5): Bottleneck(\n",
      "      (conv1): Conv2d(1024, 256, kernel_size=(1, 1), stride=(1, 1), bias=False)\n",
      "      (bn1): BatchNorm2d(256, eps=1e-05, momentum=0.1, affine=True, track_running_stats=True)\n",
      "      (conv2): Conv2d(256, 256, kernel_size=(3, 3), stride=(1, 1), padding=(1, 1), bias=False)\n",
      "      (bn2): BatchNorm2d(256, eps=1e-05, momentum=0.1, affine=True, track_running_stats=True)\n",
      "      (conv3): Conv2d(256, 1024, kernel_size=(1, 1), stride=(1, 1), bias=False)\n",
      "      (bn3): BatchNorm2d(1024, eps=1e-05, momentum=0.1, affine=True, track_running_stats=True)\n",
      "      (relu): ReLU(inplace=True)\n",
      "    )\n",
      "  )\n",
      "  (3): Sequential(\n",
      "    (0): Bottleneck(\n",
      "      (conv1): Conv2d(1024, 512, kernel_size=(1, 1), stride=(1, 1), bias=False)\n",
      "      (bn1): BatchNorm2d(512, eps=1e-05, momentum=0.1, affine=True, track_running_stats=True)\n",
      "      (conv2): Conv2d(512, 512, kernel_size=(3, 3), stride=(2, 2), padding=(1, 1), bias=False)\n",
      "      (bn2): BatchNorm2d(512, eps=1e-05, momentum=0.1, affine=True, track_running_stats=True)\n",
      "      (conv3): Conv2d(512, 2048, kernel_size=(1, 1), stride=(1, 1), bias=False)\n",
      "      (bn3): BatchNorm2d(2048, eps=1e-05, momentum=0.1, affine=True, track_running_stats=True)\n",
      "      (relu): ReLU(inplace=True)\n",
      "      (downsample): Sequential(\n",
      "        (0): Conv2d(1024, 2048, kernel_size=(1, 1), stride=(2, 2), bias=False)\n",
      "        (1): BatchNorm2d(2048, eps=1e-05, momentum=0.1, affine=True, track_running_stats=True)\n",
      "      )\n",
      "    )\n",
      "    (1): Bottleneck(\n",
      "      (conv1): Conv2d(2048, 512, kernel_size=(1, 1), stride=(1, 1), bias=False)\n",
      "      (bn1): BatchNorm2d(512, eps=1e-05, momentum=0.1, affine=True, track_running_stats=True)\n",
      "      (conv2): Conv2d(512, 512, kernel_size=(3, 3), stride=(1, 1), padding=(1, 1), bias=False)\n",
      "      (bn2): BatchNorm2d(512, eps=1e-05, momentum=0.1, affine=True, track_running_stats=True)\n",
      "      (conv3): Conv2d(512, 2048, kernel_size=(1, 1), stride=(1, 1), bias=False)\n",
      "      (bn3): BatchNorm2d(2048, eps=1e-05, momentum=0.1, affine=True, track_running_stats=True)\n",
      "      (relu): ReLU(inplace=True)\n",
      "    )\n",
      "    (2): Bottleneck(\n",
      "      (conv1): Conv2d(2048, 512, kernel_size=(1, 1), stride=(1, 1), bias=False)\n",
      "      (bn1): BatchNorm2d(512, eps=1e-05, momentum=0.1, affine=True, track_running_stats=True)\n",
      "      (conv2): Conv2d(512, 512, kernel_size=(3, 3), stride=(1, 1), padding=(1, 1), bias=False)\n",
      "      (bn2): BatchNorm2d(512, eps=1e-05, momentum=0.1, affine=True, track_running_stats=True)\n",
      "      (conv3): Conv2d(512, 2048, kernel_size=(1, 1), stride=(1, 1), bias=False)\n",
      "      (bn3): BatchNorm2d(2048, eps=1e-05, momentum=0.1, affine=True, track_running_stats=True)\n",
      "      (relu): ReLU(inplace=True)\n",
      "    )\n",
      "  )\n",
      ")\n"
     ]
    }
   ],
   "source": [
    "def get_backbone():\n",
    "    backbone = models.resnet50(pretrained=True)\n",
    "    conv1_weight = backbone.conv1.weight\n",
    "    conv1_weight = conv1_weight.mean(dim=1).unsqueeze(1)\n",
    "\n",
    "    backbone.conv1 = nn.Conv2d(1, 64, kernel_size=(7, 7), stride=1, padding='same', bias=False)\n",
    "    backbone.conv1.weight = nn.Parameter(conv1_weight, requires_grad=True)\n",
    "\n",
    "    return nn.ModuleList([\n",
    "        nn.Sequential(\n",
    "            backbone.conv1,\n",
    "            backbone.bn1,\n",
    "            backbone.relu,\n",
    "            backbone.maxpool),\n",
    "        nn.Sequential(\n",
    "            backbone.layer1,\n",
    "            backbone.layer2,\n",
    "        ),\n",
    "        backbone.layer3,\n",
    "        backbone.layer4\n",
    "    ]), [1, 64, 512, 1024, 2048]\n",
    "\n",
    "backbone, channels = get_backbone()\n",
    "print(backbone)"
   ]
  },
  {
   "cell_type": "code",
   "execution_count": 12,
   "metadata": {
    "collapsed": false
   },
   "outputs": [],
   "source": [
    "def print_list_shape(list):\n",
    "    for i, l in enumerate(list):\n",
    "        print(f\"{i} {l.shape}\")"
   ]
  },
  {
   "cell_type": "code",
   "execution_count": 16,
   "metadata": {
    "collapsed": false
   },
   "outputs": [],
   "source": [
    "def check_list_nan(list, name=None):\n",
    "    print(\"check_list_nan {}\".format(name))\n",
    "    for i, item in enumerate(list):\n",
    "        print(f\"{i} {torch.isnan(item).any()}\")"
   ]
  },
  {
   "cell_type": "code",
   "execution_count": 76,
   "metadata": {
    "collapsed": false
   },
   "outputs": [],
   "source": [
    "class ClassificationModel(nn.Module):\n",
    "    def __init__(self, backbone, channels, deep=4):\n",
    "        super().__init__()\n",
    "\n",
    "        self.backbone = backbone\n",
    "        self.deep = deep\n",
    "        self.channels = channels\n",
    "\n",
    "        self.dw = nn.Parameter(torch.tensor(20.0, dtype=torch.float), requires_grad=False)\n",
    "        self.register_buffer('mf', ((torch.arange(7) + 1) * 0.125).reshape(7, 1, 1))\n",
    "        self.init_layers()\n",
    "\n",
    "    def init_layers(self):\n",
    "        self.parallel_modules_1 = self.make_parallel_modules()\n",
    "        self.parallel_modules_2 = self.make_parallel_modules()\n",
    "        self.downsampling_modules = self.make_downsampling_modules()\n",
    "        self.mask_modules = self.make_mask_modules()\n",
    "        self.classification_modules = self.make_classification_modules()\n",
    "\n",
    "    def make_parallel_modules(self):\n",
    "        parallel_modules = nn.ModuleList()\n",
    "\n",
    "        for channel in self.channels:\n",
    "            module = nn.Conv2d(channel, channel, kernel_size=1, padding='same')\n",
    "            parallel_modules.append(module)\n",
    "\n",
    "        return parallel_modules\n",
    "\n",
    "    def make_mask_modules(self):\n",
    "        mask_modules = nn.ModuleList()\n",
    "\n",
    "        for i in range(self.deep):\n",
    "            module = nn.Sequential(\n",
    "                # nn.Conv2d(self.channels[i], self.channels[i+1], kernel_size=3, stride=2, padding=1),\n",
    "                # nn.Sigmoid()\n",
    "                nn.MaxPool2d(3, stride=2, padding=1)\n",
    "            )\n",
    "            mask_modules.append(module)\n",
    "\n",
    "        return mask_modules\n",
    "\n",
    "    def make_downsampling_modules(self):\n",
    "        downsampling_modules = nn.ModuleList()\n",
    "\n",
    "        for i in range(self.deep):\n",
    "            module = nn.Sequential(\n",
    "                nn.ReLU(),\n",
    "                nn.Conv2d(self.channels[i], self.channels[i+1], kernel_size=3, stride=2, padding=1),\n",
    "            )\n",
    "            downsampling_modules.append(module)\n",
    "\n",
    "        return downsampling_modules\n",
    "\n",
    "    def make_classification_modules(self):\n",
    "        return nn.Sequential(\n",
    "            nn.ReLU(),\n",
    "            nn.Conv2d(self.channels[-1], self.channels[-1], kernel_size=3, padding='same'),\n",
    "            nn.ReLU(inplace=True),\n",
    "            nn.Flatten(),\n",
    "            nn.Linear(self.channels[-1] * 16 * 16, 1)\n",
    "        )\n",
    "\n",
    "    def forward_recursive(self, x, modules):\n",
    "        result = []\n",
    "        out = x\n",
    "        for module in modules:\n",
    "            out = module(out)\n",
    "            result.append(out)\n",
    "\n",
    "        return result\n",
    "\n",
    "    def forward_parallel(self, inputs, modules):\n",
    "        result = []\n",
    "        for input, module in zip(inputs, modules):\n",
    "            out = module(input)\n",
    "            result.append(out)\n",
    "\n",
    "        return result\n",
    "\n",
    "    def apply_mask(self, inputs, masks):\n",
    "        result = []\n",
    "\n",
    "        for input, mask in zip(inputs, masks):\n",
    "            out = input * mask\n",
    "            result.append(out)\n",
    "\n",
    "        return result\n",
    "\n",
    "    def repeat_mask(self, mask):\n",
    "        N, H, W = mask.shape\n",
    "        mask[mask == 0] = -torch.inf\n",
    "\n",
    "        mask = (mask.unsqueeze(1) - self.mf) ** 2\n",
    "        mask = torch.exp(-self.dw * mask)  # N, 7, H, W\n",
    "        mask = mask.reshape(-1, 1, H, W)\n",
    "        return mask\n",
    "\n",
    "    def forward_downsampling(self, features, modules):\n",
    "        out = features[0]\n",
    "        for i, module in enumerate(modules):\n",
    "            out = module(out) + features[i + 1]\n",
    "\n",
    "        return out\n",
    "\n",
    "    def forward(self, x, mask):\n",
    "        backbone_features = self.forward_recursive(x, self.backbone)\n",
    "        # check_list_nan(backbone_features, \"backbone_features\")\n",
    "\n",
    "        mask = self.repeat_mask(mask)   # 14, 1, 256, 256\n",
    "        mask_features = self.forward_recursive(mask, self.mask_modules)\n",
    "\n",
    "        # check_list_nan(mask_features, \"mask_features\")\n",
    "\n",
    "        parallel_features_1 = self.forward_parallel([x] + backbone_features, self.parallel_modules_1)\n",
    "        # 여기서 뻥튀기를 시킨다.\n",
    "        parallel_features_1 = [feature.repeat_interleave(7, dim=0) for feature in parallel_features_1]\n",
    "\n",
    "        # check_list_nan(parallel_features_1)\n",
    "\n",
    "        masked_features = self.apply_mask(parallel_features_1, [mask] + mask_features)\n",
    "\n",
    "        # check_list_nan(masked_features)\n",
    "        out = self.forward_parallel(masked_features, self.parallel_modules_2)\n",
    "\n",
    "        # check_list_nan(out)\n",
    "        out = self.forward_downsampling(out, self.downsampling_modules)\n",
    "        out = self.classification_modules(out)\n",
    "\n",
    "        return out\n",
    "\n",
    "\n",
    "# model = ClassificationModel(backbone, channels).to(device)\n",
    "#\n",
    "# total_params = sum(p.numel() for p in model.parameters() if p.requires_grad)\n",
    "# print(total_params)\n",
    "\n",
    "# input = torch.randn(2, 1, 256, 256).to(device)\n",
    "# mask = torch.randn(2, 256, 256).to(device)\n",
    "# logits = model(input, mask)\n",
    "# logits.shape"
   ]
  },
  {
   "cell_type": "markdown",
   "metadata": {
    "collapsed": false
   },
   "source": [
    "### Dataloader"
   ]
  },
  {
   "cell_type": "code",
   "execution_count": 18,
   "metadata": {
    "collapsed": false
   },
   "outputs": [],
   "source": [
    "dataloader = DataLoader(dataset, batch_size=batch_size, shuffle=False, pin_memory=True, num_workers=min(16, batch_size))"
   ]
  },
  {
   "cell_type": "markdown",
   "metadata": {
    "collapsed": false
   },
   "source": [
    "### Optimizer"
   ]
  },
  {
   "cell_type": "code",
   "execution_count": 19,
   "metadata": {
    "collapsed": false
   },
   "outputs": [],
   "source": [
    "optimizer = optim.AdamW(model.parameters(), lr=lr, weight_decay=wd)\n"
   ]
  },
  {
   "cell_type": "markdown",
   "metadata": {
    "collapsed": false
   },
   "source": [
    "### Loss function"
   ]
  },
  {
   "cell_type": "code",
   "execution_count": 20,
   "metadata": {
    "collapsed": false
   },
   "outputs": [],
   "source": [
    "def loss_fn(logits, y, pos_weight=torch.tensor(1)):\n",
    "    labels = F.one_hot(y, num_classes=7).reshape(-1, 1).float()\n",
    "\n",
    "    loss = F.binary_cross_entropy_with_logits(logits, labels, pos_weight=pos_weight)\n",
    "    return loss\n"
   ]
  },
  {
   "cell_type": "code",
   "execution_count": 21,
   "metadata": {
    "collapsed": false
   },
   "outputs": [
    {
     "name": "stdout",
     "output_type": "stream",
     "text": [
      "torch.Size([2, 1, 256, 256])\n",
      "torch.Size([2, 256, 256])\n",
      "torch.Size([2])\n"
     ]
    }
   ],
   "source": [
    "x, mask, y = next(iter(dataloader))\n",
    "print(x.shape)\n",
    "print(mask.shape)\n",
    "print(y.shape)"
   ]
  },
  {
   "cell_type": "code",
   "execution_count": 86,
   "metadata": {
    "collapsed": false
   },
   "outputs": [
    {
     "data": {
      "text/plain": [
       "tensor(False, device='cuda:0')"
      ]
     },
     "execution_count": 86,
     "metadata": {},
     "output_type": "execute_result"
    }
   ],
   "source": [
    "torch.isnan(x).any()"
   ]
  },
  {
   "cell_type": "code",
   "execution_count": 93,
   "metadata": {
    "collapsed": false
   },
   "outputs": [
    {
     "name": "stdout",
     "output_type": "stream",
     "text": [
      "tensor(-1., device='cuda:0')\n",
      "tensor(1., device='cuda:0')\n"
     ]
    }
   ],
   "source": [
    "\n",
    "print(x.min())\n",
    "print(x.max())"
   ]
  },
  {
   "cell_type": "code",
   "execution_count": 96,
   "metadata": {
    "collapsed": false
   },
   "outputs": [
    {
     "data": {
      "text/plain": [
       "tensor(False, device='cuda:0')"
      ]
     },
     "execution_count": 96,
     "metadata": {},
     "output_type": "execute_result"
    }
   ],
   "source": [
    "x.isnan().any()"
   ]
  },
  {
   "cell_type": "code",
   "execution_count": 105,
   "metadata": {
    "collapsed": false
   },
   "outputs": [
    {
     "data": {
      "text/plain": [
       "tensor([[[[2.4243, 2.4243, 2.1280,  ..., 2.1280, 2.1280, 1.8157],\n",
       "          [1.5168, 1.5168, 1.4492,  ..., 1.4492, 1.4949, 1.4949],\n",
       "          [0.3992, 0.3992, 0.3200,  ..., 0.3200, 0.4693, 0.4693],\n",
       "          ...,\n",
       "          [0.3992, 0.3992, 0.3200,  ..., 0.3200, 0.4693, 0.4693],\n",
       "          [1.7358, 1.7358, 1.6732,  ..., 1.6732, 1.7765, 1.7765],\n",
       "          [1.8658, 2.2373, 2.2373,  ..., 2.2373, 2.5965, 2.5965]],\n",
       "\n",
       "         [[0.8236, 0.8236, 0.5830,  ..., 0.5830, 0.6348, 0.6348],\n",
       "          [0.7861, 0.7861, 0.5636,  ..., 0.5636, 0.6261, 0.6261],\n",
       "          [0.5757, 0.5757, 0.1948,  ..., 0.1948, 0.3159, 0.3262],\n",
       "          ...,\n",
       "          [0.5757, 0.5757, 0.1948,  ..., 0.1948, 0.3159, 0.3262],\n",
       "          [0.6873, 0.6873, 0.3701,  ..., 0.3701, 0.4513, 0.4513],\n",
       "          [0.6873, 0.6873, 0.3701,  ..., 0.3701, 0.4513, 0.4581]],\n",
       "\n",
       "         [[0.4886, 0.5512, 0.5372,  ..., 0.5372, 0.5372, 0.4779],\n",
       "          [0.4344, 0.5040, 0.4768,  ..., 0.4768, 0.4768, 0.4280],\n",
       "          [0.4138, 0.4877, 0.4497,  ..., 0.4497, 0.4497, 0.4241],\n",
       "          ...,\n",
       "          [0.4138, 0.4877, 0.4497,  ..., 0.4497, 0.4497, 0.4241],\n",
       "          [0.4138, 0.4877, 0.4497,  ..., 0.4497, 0.4497, 0.4241],\n",
       "          [0.2718, 0.3597, 0.3462,  ..., 0.3462, 0.3462, 0.3367]],\n",
       "\n",
       "         ...,\n",
       "\n",
       "         [[1.0640, 1.0640, 0.2105,  ..., 0.2105, 0.2105, 1.3351],\n",
       "          [1.2607, 1.2607, 0.2538,  ..., 0.2538, 0.2786, 1.6037],\n",
       "          [1.2607, 1.2607, 0.2464,  ..., 0.2464, 0.2786, 1.6037],\n",
       "          ...,\n",
       "          [1.2607, 1.2607, 0.2464,  ..., 0.2464, 0.2786, 1.6037],\n",
       "          [1.2607, 1.2607, 0.2464,  ..., 0.2464, 0.2989, 1.6037],\n",
       "          [1.2028, 1.2028, 0.2388,  ..., 0.2388, 0.3417, 1.5450]],\n",
       "\n",
       "         [[1.4033, 1.4033, 1.3463,  ..., 1.3463, 1.4025, 1.4025],\n",
       "          [1.4409, 1.4409, 1.3603,  ..., 1.3603, 1.4062, 1.4062],\n",
       "          [1.4396, 1.4396, 1.3472,  ..., 1.3472, 1.3910, 1.3910],\n",
       "          ...,\n",
       "          [1.4396, 1.4396, 1.3472,  ..., 1.3472, 1.3910, 1.3910],\n",
       "          [1.4396, 1.4396, 1.3472,  ..., 1.3472, 1.3910, 1.3910],\n",
       "          [1.3140, 1.3140, 1.2053,  ..., 1.2053, 1.2260, 1.2260]],\n",
       "\n",
       "         [[1.4997, 0.2783, 0.2181,  ..., 0.2181, 0.2181, 1.9871],\n",
       "          [1.1853, 0.2783, 0.1858,  ..., 0.1858, 0.1858, 1.3320],\n",
       "          [1.1853, 0.2215, 0.1072,  ..., 0.1072, 0.1072, 1.1406],\n",
       "          ...,\n",
       "          [1.1853, 0.2215, 0.1072,  ..., 0.1072, 0.1072, 1.1406],\n",
       "          [1.4112, 0.2623, 0.1457,  ..., 0.1457, 0.1457, 1.4375],\n",
       "          [1.9969, 0.5110, 0.1543,  ..., 0.1543, 0.1543, 1.4375]]],\n",
       "\n",
       "\n",
       "        [[[2.4243, 2.4243, 2.1280,  ..., 2.1280, 2.1280, 1.8157],\n",
       "          [1.5168, 1.5168, 1.4492,  ..., 1.4492, 1.4949, 1.4949],\n",
       "          [0.3992, 0.3992, 0.3200,  ..., 0.3200, 0.4693, 0.4693],\n",
       "          ...,\n",
       "          [0.3992, 0.3992, 0.3200,  ..., 0.3200, 0.4693, 0.4693],\n",
       "          [1.7358, 1.7358, 1.6732,  ..., 1.6732, 1.7765, 1.7765],\n",
       "          [1.8658, 2.2373, 2.2373,  ..., 2.2373, 2.5965, 2.5965]],\n",
       "\n",
       "         [[0.8236, 0.8236, 0.5830,  ..., 0.5830, 0.6348, 0.6348],\n",
       "          [0.7861, 0.7861, 0.5636,  ..., 0.5636, 0.6261, 0.6261],\n",
       "          [0.5757, 0.5757, 0.1948,  ..., 0.1948, 0.3159, 0.3262],\n",
       "          ...,\n",
       "          [0.5757, 0.5757, 0.1948,  ..., 0.1948, 0.3159, 0.3262],\n",
       "          [0.6873, 0.6873, 0.3701,  ..., 0.3701, 0.4513, 0.4513],\n",
       "          [0.6873, 0.6873, 0.3701,  ..., 0.3701, 0.4513, 0.4581]],\n",
       "\n",
       "         [[0.4886, 0.5512, 0.5372,  ..., 0.5372, 0.5372, 0.4779],\n",
       "          [0.4344, 0.5040, 0.4768,  ..., 0.4768, 0.4768, 0.4280],\n",
       "          [0.4138, 0.4877, 0.4497,  ..., 0.4497, 0.4497, 0.4241],\n",
       "          ...,\n",
       "          [0.4138, 0.4877, 0.4497,  ..., 0.4497, 0.4497, 0.4241],\n",
       "          [0.4138, 0.4877, 0.4497,  ..., 0.4497, 0.4497, 0.4241],\n",
       "          [0.2718, 0.3597, 0.3462,  ..., 0.3462, 0.3462, 0.3367]],\n",
       "\n",
       "         ...,\n",
       "\n",
       "         [[1.0640, 1.0640, 0.2105,  ..., 0.2105, 0.2105, 1.3351],\n",
       "          [1.2607, 1.2607, 0.2538,  ..., 0.2538, 0.2786, 1.6037],\n",
       "          [1.2607, 1.2607, 0.2464,  ..., 0.2464, 0.2786, 1.6037],\n",
       "          ...,\n",
       "          [1.2607, 1.2607, 0.2464,  ..., 0.2464, 0.2786, 1.6037],\n",
       "          [1.2607, 1.2607, 0.2464,  ..., 0.2464, 0.2989, 1.6037],\n",
       "          [1.2028, 1.2028, 0.2388,  ..., 0.2388, 0.3417, 1.5450]],\n",
       "\n",
       "         [[1.4033, 1.4033, 1.3463,  ..., 1.3463, 1.4025, 1.4025],\n",
       "          [1.4409, 1.4409, 1.3603,  ..., 1.3603, 1.4062, 1.4062],\n",
       "          [1.4396, 1.4396, 1.3472,  ..., 1.3472, 1.3910, 1.3910],\n",
       "          ...,\n",
       "          [1.4396, 1.4396, 1.3472,  ..., 1.3472, 1.3910, 1.3910],\n",
       "          [1.4396, 1.4396, 1.3472,  ..., 1.3472, 1.3910, 1.3910],\n",
       "          [1.3140, 1.3140, 1.2053,  ..., 1.2053, 1.2260, 1.2260]],\n",
       "\n",
       "         [[1.4997, 0.2783, 0.2181,  ..., 0.2181, 0.2181, 1.9871],\n",
       "          [1.1853, 0.2783, 0.1858,  ..., 0.1858, 0.1858, 1.3320],\n",
       "          [1.1853, 0.2215, 0.1072,  ..., 0.1072, 0.1072, 1.1406],\n",
       "          ...,\n",
       "          [1.1853, 0.2215, 0.1072,  ..., 0.1072, 0.1072, 1.1406],\n",
       "          [1.4112, 0.2623, 0.1457,  ..., 0.1457, 0.1457, 1.4375],\n",
       "          [1.9969, 0.5110, 0.1543,  ..., 0.1543, 0.1543, 1.4375]]]],\n",
       "       device='cuda:0', grad_fn=<MaxPool2DWithIndicesBackward0>)"
      ]
     },
     "execution_count": 105,
     "metadata": {},
     "output_type": "execute_result"
    }
   ],
   "source": [
    "backbone[0].to(device)(x)"
   ]
  },
  {
   "cell_type": "code",
   "execution_count": 77,
   "metadata": {
    "collapsed": false
   },
   "outputs": [],
   "source": [
    "backbone, channels = get_backbone()\n",
    "model = ClassificationModel(backbone, channels).to(device)\n",
    "optimizer = optim.AdamW(model.parameters(), lr=lr, weight_decay=wd)\n",
    "\n",
    "# total_params = sum(p.numel() for p in model.parameters() if p.requires_grad)\n",
    "# total_params\n"
   ]
  },
  {
   "cell_type": "code",
   "execution_count": 57,
   "metadata": {
    "collapsed": false
   },
   "outputs": [
    {
     "name": "stdout",
     "output_type": "stream",
     "text": [
      "check_list_nan backbone_features\n",
      "0 True\n",
      "1 True\n",
      "2 True\n",
      "3 True\n"
     ]
    }
   ],
   "source": [
    "x, mask, y = next(iter(dataloader))\n",
    "x, mask, y = x.to(device), mask.to(device), y.to(device)\n",
    "backbone_features = model.forward_recursive(x, model.backbone)\n",
    "check_list_nan(backbone_features, \"backbone_features\")\n",
    "\n",
    "mask = model.repeat_mask(mask)   # 14, 1, 256, 256\n",
    "mask_features = model.forward_recursive(mask, model.mask_modules)"
   ]
  },
  {
   "cell_type": "code",
   "execution_count": 61,
   "metadata": {
    "collapsed": false
   },
   "outputs": [
    {
     "data": {
      "text/plain": [
       "Parameter containing:\n",
       "tensor(nan, device='cuda:0', requires_grad=True)"
      ]
     },
     "execution_count": 61,
     "metadata": {},
     "output_type": "execute_result"
    }
   ],
   "source": [
    "model.dw"
   ]
  },
  {
   "cell_type": "code",
   "execution_count": 58,
   "metadata": {
    "collapsed": false
   },
   "outputs": [
    {
     "name": "stdout",
     "output_type": "stream",
     "text": [
      "torch.Size([14, 1, 128, 128])\n",
      "torch.Size([14, 1, 64, 64])\n",
      "torch.Size([14, 1, 32, 32])\n",
      "torch.Size([14, 1, 16, 16])\n"
     ]
    }
   ],
   "source": [
    "for feature in mask_features:\n",
    "    print(feature.shape)"
   ]
  },
  {
   "cell_type": "code",
   "execution_count": 59,
   "metadata": {
    "collapsed": false
   },
   "outputs": [
    {
     "data": {
      "text/plain": [
       "array([nan], dtype=float32)"
      ]
     },
     "execution_count": 59,
     "metadata": {},
     "output_type": "execute_result"
    }
   ],
   "source": [
    "np.unique(mask_features[0][0, 0, :, :].detach().cpu().numpy())"
   ]
  },
  {
   "cell_type": "code",
   "execution_count": 60,
   "metadata": {
    "collapsed": false
   },
   "outputs": [
    {
     "data": {
      "text/plain": [
       "<matplotlib.image.AxesImage at 0x7fc3a70bee80>"
      ]
     },
     "execution_count": 60,
     "metadata": {},
     "output_type": "execute_result"
    },
    {
     "data": {
      "image/png": "[encoded data removed]",
      "text/plain": [
       "<Figure size 432x288 with 1 Axes>"
      ]
     },
     "metadata": {
      "needs_background": "light"
     },
     "output_type": "display_data"
    }
   ],
   "source": [
    "plt.imshow(mask_features[3][0, 0, :, :].detach().cpu().numpy())"
   ]
  },
  {
   "cell_type": "code",
   "execution_count": 25,
   "metadata": {
    "collapsed": false
   },
   "outputs": [
    {
     "data": {
      "text/plain": [
       "tensor([[[[nan, nan, nan,  ..., nan, nan, nan],\n",
       "          [nan, nan, nan,  ..., nan, nan, nan],\n",
       "          [nan, nan, nan,  ..., nan, nan, nan],\n",
       "          ...,\n",
       "          [nan, nan, nan,  ..., nan, nan, nan],\n",
       "          [nan, nan, nan,  ..., nan, nan, nan],\n",
       "          [nan, nan, nan,  ..., nan, nan, nan]]],\n",
       "\n",
       "\n",
       "        [[[nan, nan, nan,  ..., nan, nan, nan],\n",
       "          [nan, nan, nan,  ..., nan, nan, nan],\n",
       "          [nan, nan, nan,  ..., nan, nan, nan],\n",
       "          ...,\n",
       "          [nan, nan, nan,  ..., nan, nan, nan],\n",
       "          [nan, nan, nan,  ..., nan, nan, nan],\n",
       "          [nan, nan, nan,  ..., nan, nan, nan]]],\n",
       "\n",
       "\n",
       "        [[[nan, nan, nan,  ..., nan, nan, nan],\n",
       "          [nan, nan, nan,  ..., nan, nan, nan],\n",
       "          [nan, nan, nan,  ..., nan, nan, nan],\n",
       "          ...,\n",
       "          [nan, nan, nan,  ..., nan, nan, nan],\n",
       "          [nan, nan, nan,  ..., nan, nan, nan],\n",
       "          [nan, nan, nan,  ..., nan, nan, nan]]],\n",
       "\n",
       "\n",
       "        ...,\n",
       "\n",
       "\n",
       "        [[[nan, nan, nan,  ..., nan, nan, nan],\n",
       "          [nan, nan, nan,  ..., nan, nan, nan],\n",
       "          [nan, nan, nan,  ..., nan, nan, nan],\n",
       "          ...,\n",
       "          [nan, nan, nan,  ..., nan, nan, nan],\n",
       "          [nan, nan, nan,  ..., nan, nan, nan],\n",
       "          [nan, nan, nan,  ..., nan, nan, nan]]],\n",
       "\n",
       "\n",
       "        [[[nan, nan, nan,  ..., nan, nan, nan],\n",
       "          [nan, nan, nan,  ..., nan, nan, nan],\n",
       "          [nan, nan, nan,  ..., nan, nan, nan],\n",
       "          ...,\n",
       "          [nan, nan, nan,  ..., nan, nan, nan],\n",
       "          [nan, nan, nan,  ..., nan, nan, nan],\n",
       "          [nan, nan, nan,  ..., nan, nan, nan]]],\n",
       "\n",
       "\n",
       "        [[[nan, nan, nan,  ..., nan, nan, nan],\n",
       "          [nan, nan, nan,  ..., nan, nan, nan],\n",
       "          [nan, nan, nan,  ..., nan, nan, nan],\n",
       "          ...,\n",
       "          [nan, nan, nan,  ..., nan, nan, nan],\n",
       "          [nan, nan, nan,  ..., nan, nan, nan],\n",
       "          [nan, nan, nan,  ..., nan, nan, nan]]]], device='cuda:0')"
      ]
     },
     "execution_count": 25,
     "metadata": {},
     "output_type": "execute_result"
    }
   ],
   "source": [
    "backbone[0][0].weight.grad"
   ]
  },
  {
   "cell_type": "code",
   "execution_count": 83,
   "metadata": {
    "collapsed": false
   },
   "outputs": [
    {
     "name": "stdout",
     "output_type": "stream",
     "text": [
      "tensor([[-40.8871],\n",
      "        [-31.3148],\n",
      "        [ -8.2462],\n",
      "        [  8.4517],\n",
      "        [ -7.9056],\n",
      "        [-44.3917],\n",
      "        [-65.0121],\n",
      "        [-40.0681],\n",
      "        [-31.5837],\n",
      "        [ -8.5705],\n",
      "        [  8.5172],\n",
      "        [ -8.2026],\n",
      "        [-44.7396],\n",
      "        [-64.5656]], device='cuda:0', grad_fn=<AddmmBackward0>)\n",
      "0.0001077025372069329\n",
      "tensor([[-41.6643],\n",
      "        [-31.8071],\n",
      "        [ -8.1781],\n",
      "        [  8.9030],\n",
      "        [ -7.8877],\n",
      "        [-45.3088],\n",
      "        [-66.4766],\n",
      "        [-40.9823],\n",
      "        [-32.2696],\n",
      "        [ -8.6783],\n",
      "        [  8.8462],\n",
      "        [ -8.2805],\n",
      "        [-45.7186],\n",
      "        [-66.0419]], device='cuda:0', grad_fn=<AddmmBackward0>)\n",
      "9.706903074402362e-05\n",
      "tensor([[-42.4094],\n",
      "        [-32.2985],\n",
      "        [ -8.1542],\n",
      "        [  9.2821],\n",
      "        [ -7.9161],\n",
      "        [-46.2126],\n",
      "        [-67.8879],\n",
      "        [-41.8404],\n",
      "        [-32.9253],\n",
      "        [ -8.8052],\n",
      "        [  9.1187],\n",
      "        [ -8.3916],\n",
      "        [-46.6678],\n",
      "        [-67.4489]], device='cuda:0', grad_fn=<AddmmBackward0>)\n",
      "8.794166205916554e-05\n",
      "tensor([[-43.1386],\n",
      "        [-32.8071],\n",
      "        [ -8.1876],\n",
      "        [  9.5820],\n",
      "        [ -7.9970],\n",
      "        [-47.1118],\n",
      "        [-69.2565],\n",
      "        [-42.6483],\n",
      "        [-33.5595],\n",
      "        [ -8.9555],\n",
      "        [  9.3417],\n",
      "        [ -8.5173],\n",
      "        [-47.5633],\n",
      "        [-68.7628]], device='cuda:0', grad_fn=<AddmmBackward0>)\n",
      "7.862659549573436e-05\n",
      "tensor([[-43.8602],\n",
      "        [-33.3371],\n",
      "        [ -8.2761],\n",
      "        [  9.8104],\n",
      "        [ -8.1199],\n",
      "        [-47.9961],\n",
      "        [-70.5721],\n",
      "        [-43.4093],\n",
      "        [-34.1692],\n",
      "        [ -9.1228],\n",
      "        [  9.5188],\n",
      "        [ -8.6602],\n",
      "        [-48.4124],\n",
      "        [-69.9919]], device='cuda:0', grad_fn=<AddmmBackward0>)\n",
      "6.876643601572141e-05\n",
      "tensor([[-44.5698],\n",
      "        [-33.8828],\n",
      "        [ -8.4148],\n",
      "        [  9.9690],\n",
      "        [ -8.2904],\n",
      "        [-48.8782],\n",
      "        [-71.8514],\n",
      "        [-44.1090],\n",
      "        [-34.7404],\n",
      "        [ -9.2972],\n",
      "        [  9.6558],\n",
      "        [ -8.8197],\n",
      "        [-49.2214],\n",
      "        [-71.1481]], device='cuda:0', grad_fn=<AddmmBackward0>)\n",
      "5.873589907423593e-05\n",
      "tensor([[-45.2609],\n",
      "        [-34.4339],\n",
      "        [ -8.5915],\n",
      "        [ 10.0697],\n",
      "        [ -8.4987],\n",
      "        [-49.7543],\n",
      "        [-73.0959],\n",
      "        [-44.7606],\n",
      "        [-35.2841],\n",
      "        [ -9.4820],\n",
      "        [  9.7565],\n",
      "        [ -8.9875],\n",
      "        [-49.9777],\n",
      "        [-72.2163]], device='cuda:0', grad_fn=<AddmmBackward0>)\n",
      "4.939503924106248e-05\n",
      "tensor([[-45.9430],\n",
      "        [-34.9975],\n",
      "        [ -8.8061],\n",
      "        [ 10.1234],\n",
      "        [ -8.7202],\n",
      "        [-50.5844],\n",
      "        [-74.2582],\n",
      "        [-45.3551],\n",
      "        [-35.7852],\n",
      "        [ -9.6603],\n",
      "        [  9.8329],\n",
      "        [ -9.1659],\n",
      "        [-50.7020],\n",
      "        [-73.2273]], device='cuda:0', grad_fn=<AddmmBackward0>)\n",
      "4.110149893676862e-05\n",
      "tensor([[-46.5929],\n",
      "        [-35.5459],\n",
      "        [ -9.0349],\n",
      "        [ 10.1415],\n",
      "        [ -8.9616],\n",
      "        [-51.3951],\n",
      "        [-75.3764],\n",
      "        [-45.9079],\n",
      "        [-36.2591],\n",
      "        [ -9.8414],\n",
      "        [  9.8878],\n",
      "        [ -9.3394],\n",
      "        [-51.3716],\n",
      "        [-74.1560]], device='cuda:0', grad_fn=<AddmmBackward0>)\n",
      "3.417034531594254e-05\n",
      "tensor([[-47.2131],\n",
      "        [-36.0782],\n",
      "        [ -9.2730],\n",
      "        [ 10.1344],\n",
      "        [ -9.2073],\n",
      "        [-52.1669],\n",
      "        [-76.4309],\n",
      "        [-46.4174],\n",
      "        [-36.7013],\n",
      "        [-10.0182],\n",
      "        [  9.9272],\n",
      "        [ -9.5084],\n",
      "        [-51.9936],\n",
      "        [-75.0143]], device='cuda:0', grad_fn=<AddmmBackward0>)\n",
      "2.8669694074778818e-05\n"
     ]
    }
   ],
   "source": [
    "model.train()\n",
    "\n",
    "x, mask, y = next(iter(dataloader))\n",
    "x, mask, y = x.to(device), mask.to(device), y.to(device)\n",
    "\n",
    "for _ in range(10):\n",
    "    logits = model(x, mask)\n",
    "    print(logits)\n",
    "    loss = loss_fn(logits, y)\n",
    "    print(loss.item())\n",
    "    optimizer.zero_grad()\n",
    "    loss.backward()\n",
    "    # backbone[0][0].weight.grad\n",
    "    nn.utils.clip_grad_norm_(model.parameters(), 1.)\n",
    "    optimizer.step()"
   ]
  },
  {
   "cell_type": "code",
   "execution_count": 150,
   "metadata": {
    "collapsed": false
   },
   "outputs": [
    {
     "data": {
      "text/plain": [
       "tensor(nan, device='cuda:0')"
      ]
     },
     "execution_count": 150,
     "metadata": {},
     "output_type": "execute_result"
    }
   ],
   "source": [
    "backbone[0][0].weight.grad.max()"
   ]
  },
  {
   "cell_type": "code",
   "execution_count": 39,
   "metadata": {
    "collapsed": false
   },
   "outputs": [],
   "source": [
    "def denormalize_img(x):\n",
    "    img = x.detach().cpu().numpy()\n",
    "    img = (img * 0.5) + 0.5\n",
    "    img = img.transpose(0, 2, 3, 1)\n",
    "    return img"
   ]
  },
  {
   "cell_type": "code",
   "execution_count": 41,
   "metadata": {
    "collapsed": false
   },
   "outputs": [
    {
     "data": {
      "text/plain": [
       "<matplotlib.image.AxesImage at 0x7f1cd1a9a640>"
      ]
     },
     "execution_count": 41,
     "metadata": {},
     "output_type": "execute_result"
    },
    {
     "data": {
      "image/png": "[encoded data removed]",
      "text/plain": [
       "<Figure size 432x288 with 1 Axes>"
      ]
     },
     "metadata": {},
     "output_type": "display_data"
    }
   ],
   "source": [
    "img = denormalize_img(x)\n",
    "plt.imshow(img[0], cmap='bone')"
   ]
  },
  {
   "cell_type": "code",
   "execution_count": 46,
   "metadata": {
    "collapsed": false
   },
   "outputs": [
    {
     "data": {
      "text/plain": [
       "tensor([3., 3.], device='cuda:0')"
      ]
     },
     "execution_count": 46,
     "metadata": {},
     "output_type": "execute_result"
    }
   ],
   "source": [
    "y"
   ]
  }
 ],
 "metadata": {
  "kernelspec": {
   "display_name": "Python 3 (ipykernel)",
   "language": "python",
   "name": "python3"
  },
  "language_info": {
   "codemirror_mode": {
    "name": "ipython",
    "version": 3
   },
   "file_extension": ".py",
   "mimetype": "text/x-python",
   "name": "python",
   "nbconvert_exporter": "python",
   "pygments_lexer": "ipython3",
   "version": "3.8.10"
  }
 },
 "nbformat": 4,
 "nbformat_minor": 4
}
