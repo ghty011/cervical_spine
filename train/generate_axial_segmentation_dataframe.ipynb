{
 "cells": [
  {
   "cell_type": "code",
   "execution_count": 1,
   "metadata": {
    "collapsed": false
   },
   "outputs": [],
   "source": [
    "import os\n",
    "import glob\n",
    "import pandas as pd\n",
    "import numpy as np\n",
    "import matplotlib.pyplot as plt\n",
    "import matplotlib.patches as patches\n",
    "import seaborn as sns\n",
    "import math\n",
    "from tqdm import tqdm\n",
    "\n",
    "from PIL import Image, ImageOps"
   ]
  },
  {
   "cell_type": "code",
   "execution_count": 2,
   "metadata": {
    "collapsed": true
   },
   "outputs": [],
   "source": [
    "DATA_DIR = \"/root/autodl-tmp/cervical_spine/\"\n",
    "IMAGES_DIR = os.path.join(DATA_DIR, f\"train_axial_images_jpeg95\")\n",
    "LABEL_DIR = os.path.join(DATA_DIR, f\"segmentation_axial_labels\")\n",
    "XRAY_DIR = os.path.join(DATA_DIR, f\"segmentation_sagittal_xray_labels\")\n"
   ]
  },
  {
   "cell_type": "code",
   "execution_count": 3,
   "metadata": {
    "collapsed": false
   },
   "outputs": [
    {
     "data": {
      "text/plain": [
       "87"
      ]
     },
     "execution_count": 3,
     "metadata": {},
     "output_type": "execute_result"
    }
   ],
   "source": [
    "label_dir_paths = glob.glob(os.path.join(DATA_DIR, 'segmentation_axial_labels') + '/**')\n",
    "UIDs = [path.split(\"/\")[-1] for path in label_dir_paths]\n",
    "len(UIDs)"
   ]
  },
  {
   "cell_type": "code",
   "execution_count": 4,
   "metadata": {
    "collapsed": false
   },
   "outputs": [
    {
     "data": {
      "text/plain": [
       "UID\n",
       "1.2.826.0.1.3680043.10633    1.753425\n",
       "1.2.826.0.1.3680043.10921    1.882354\n",
       "1.2.826.0.1.3680043.11827    1.954198\n",
       "1.2.826.0.1.3680043.11988    3.436242\n",
       "1.2.826.0.1.3680043.12281    2.666667\n",
       "Name: aspect, dtype: float64"
      ]
     },
     "execution_count": 4,
     "metadata": {},
     "output_type": "execute_result"
    }
   ],
   "source": [
    "xray_df = pd.read_csv(os.path.join(DATA_DIR, 'meta_xray.csv')).drop_duplicates(subset='UID').set_index('UID')\n",
    "xray_df = xray_df.loc[UIDs, \"aspect\"]\n",
    "xray_df.head()"
   ]
  },
  {
   "cell_type": "code",
   "execution_count": 5,
   "metadata": {
    "collapsed": false
   },
   "outputs": [
    {
     "data": {
      "text/html": [
       "<div>\n",
       "<style scoped>\n",
       "    .dataframe tbody tr th:only-of-type {\n",
       "        vertical-align: middle;\n",
       "    }\n",
       "\n",
       "    .dataframe tbody tr th {\n",
       "        vertical-align: top;\n",
       "    }\n",
       "\n",
       "    .dataframe thead th {\n",
       "        text-align: right;\n",
       "    }\n",
       "</style>\n",
       "<table border=\"1\" class=\"dataframe\">\n",
       "  <thead>\n",
       "    <tr style=\"text-align: right;\">\n",
       "      <th></th>\n",
       "      <th>sagittal_xmin</th>\n",
       "      <th>sagittal_xmax</th>\n",
       "    </tr>\n",
       "    <tr>\n",
       "      <th>UID</th>\n",
       "      <th></th>\n",
       "      <th></th>\n",
       "    </tr>\n",
       "  </thead>\n",
       "  <tbody>\n",
       "    <tr>\n",
       "      <th>1.2.826.0.1.3680043.8330</th>\n",
       "      <td>69.323685</td>\n",
       "      <td>429.2296</td>\n",
       "    </tr>\n",
       "    <tr>\n",
       "      <th>1.2.826.0.1.3680043.8574</th>\n",
       "      <td>138.137010</td>\n",
       "      <td>389.4227</td>\n",
       "    </tr>\n",
       "    <tr>\n",
       "      <th>1.2.826.0.1.3680043.8744</th>\n",
       "      <td>-10.118713</td>\n",
       "      <td>418.2018</td>\n",
       "    </tr>\n",
       "    <tr>\n",
       "      <th>1.2.826.0.1.3680043.8884</th>\n",
       "      <td>107.355160</td>\n",
       "      <td>516.0630</td>\n",
       "    </tr>\n",
       "    <tr>\n",
       "      <th>1.2.826.0.1.3680043.9926</th>\n",
       "      <td>81.474365</td>\n",
       "      <td>330.1370</td>\n",
       "    </tr>\n",
       "  </tbody>\n",
       "</table>\n",
       "</div>"
      ],
      "text/plain": [
       "                          sagittal_xmin  sagittal_xmax\n",
       "UID                                                   \n",
       "1.2.826.0.1.3680043.8330      69.323685       429.2296\n",
       "1.2.826.0.1.3680043.8574     138.137010       389.4227\n",
       "1.2.826.0.1.3680043.8744     -10.118713       418.2018\n",
       "1.2.826.0.1.3680043.8884     107.355160       516.0630\n",
       "1.2.826.0.1.3680043.9926      81.474365       330.1370"
      ]
     },
     "execution_count": 5,
     "metadata": {},
     "output_type": "execute_result"
    }
   ],
   "source": [
    "sagittal_df = pd.read_csv(os.path.join(DATA_DIR, 'infer_sagittal_boundary.csv')).set_index('UID')\n",
    "sagittal_df = sagittal_df.loc[UIDs, ['xmin','xmax']]\n",
    "sagittal_df = sagittal_df.add_prefix('sagittal_')\n",
    "sagittal_df.tail()"
   ]
  },
  {
   "cell_type": "code",
   "execution_count": 6,
   "metadata": {
    "collapsed": false
   },
   "outputs": [
    {
     "data": {
      "text/html": [
       "<div>\n",
       "<style scoped>\n",
       "    .dataframe tbody tr th:only-of-type {\n",
       "        vertical-align: middle;\n",
       "    }\n",
       "\n",
       "    .dataframe tbody tr th {\n",
       "        vertical-align: top;\n",
       "    }\n",
       "\n",
       "    .dataframe thead th {\n",
       "        text-align: right;\n",
       "    }\n",
       "</style>\n",
       "<table border=\"1\" class=\"dataframe\">\n",
       "  <thead>\n",
       "    <tr style=\"text-align: right;\">\n",
       "      <th></th>\n",
       "      <th>coronal_xmin</th>\n",
       "      <th>coronal_xmax</th>\n",
       "    </tr>\n",
       "    <tr>\n",
       "      <th>UID</th>\n",
       "      <th></th>\n",
       "      <th></th>\n",
       "    </tr>\n",
       "  </thead>\n",
       "  <tbody>\n",
       "    <tr>\n",
       "      <th>1.2.826.0.1.3680043.8330</th>\n",
       "      <td>33.396835</td>\n",
       "      <td>456.48120</td>\n",
       "    </tr>\n",
       "    <tr>\n",
       "      <th>1.2.826.0.1.3680043.8574</th>\n",
       "      <td>155.723130</td>\n",
       "      <td>406.00723</td>\n",
       "    </tr>\n",
       "    <tr>\n",
       "      <th>1.2.826.0.1.3680043.8744</th>\n",
       "      <td>102.626400</td>\n",
       "      <td>436.05896</td>\n",
       "    </tr>\n",
       "    <tr>\n",
       "      <th>1.2.826.0.1.3680043.8884</th>\n",
       "      <td>98.245560</td>\n",
       "      <td>393.78183</td>\n",
       "    </tr>\n",
       "    <tr>\n",
       "      <th>1.2.826.0.1.3680043.9926</th>\n",
       "      <td>103.523580</td>\n",
       "      <td>379.67520</td>\n",
       "    </tr>\n",
       "  </tbody>\n",
       "</table>\n",
       "</div>"
      ],
      "text/plain": [
       "                          coronal_xmin  coronal_xmax\n",
       "UID                                                 \n",
       "1.2.826.0.1.3680043.8330     33.396835     456.48120\n",
       "1.2.826.0.1.3680043.8574    155.723130     406.00723\n",
       "1.2.826.0.1.3680043.8744    102.626400     436.05896\n",
       "1.2.826.0.1.3680043.8884     98.245560     393.78183\n",
       "1.2.826.0.1.3680043.9926    103.523580     379.67520"
      ]
     },
     "execution_count": 6,
     "metadata": {},
     "output_type": "execute_result"
    }
   ],
   "source": [
    "coronal_df = pd.read_csv(os.path.join(DATA_DIR, 'infer_coronal_boundary.csv')).set_index('UID')\n",
    "coronal_df = coronal_df.loc[UIDs, ['xmin','xmax']]\n",
    "coronal_df = coronal_df.add_prefix('coronal_')\n",
    "coronal_df.tail()"
   ]
  },
  {
   "cell_type": "code",
   "execution_count": 7,
   "metadata": {
    "collapsed": false
   },
   "outputs": [
    {
     "data": {
      "text/html": [
       "<div>\n",
       "<style scoped>\n",
       "    .dataframe tbody tr th:only-of-type {\n",
       "        vertical-align: middle;\n",
       "    }\n",
       "\n",
       "    .dataframe tbody tr th {\n",
       "        vertical-align: top;\n",
       "    }\n",
       "\n",
       "    .dataframe thead th {\n",
       "        text-align: right;\n",
       "    }\n",
       "</style>\n",
       "<table border=\"1\" class=\"dataframe\">\n",
       "  <thead>\n",
       "    <tr style=\"text-align: right;\">\n",
       "      <th></th>\n",
       "      <th>sagittal_xmin</th>\n",
       "      <th>sagittal_xmax</th>\n",
       "      <th>coronal_xmin</th>\n",
       "      <th>coronal_xmax</th>\n",
       "      <th>aspect</th>\n",
       "    </tr>\n",
       "    <tr>\n",
       "      <th>UID</th>\n",
       "      <th></th>\n",
       "      <th></th>\n",
       "      <th></th>\n",
       "      <th></th>\n",
       "      <th></th>\n",
       "    </tr>\n",
       "  </thead>\n",
       "  <tbody>\n",
       "    <tr>\n",
       "      <th>1.2.826.0.1.3680043.8330</th>\n",
       "      <td>69.323685</td>\n",
       "      <td>429.2296</td>\n",
       "      <td>33.396835</td>\n",
       "      <td>456.48120</td>\n",
       "      <td>2.370369</td>\n",
       "    </tr>\n",
       "    <tr>\n",
       "      <th>1.2.826.0.1.3680043.8574</th>\n",
       "      <td>138.137010</td>\n",
       "      <td>389.4227</td>\n",
       "      <td>155.723130</td>\n",
       "      <td>406.00723</td>\n",
       "      <td>2.723404</td>\n",
       "    </tr>\n",
       "    <tr>\n",
       "      <th>1.2.826.0.1.3680043.8744</th>\n",
       "      <td>-10.118713</td>\n",
       "      <td>418.2018</td>\n",
       "      <td>102.626400</td>\n",
       "      <td>436.05896</td>\n",
       "      <td>3.938462</td>\n",
       "    </tr>\n",
       "    <tr>\n",
       "      <th>1.2.826.0.1.3680043.8884</th>\n",
       "      <td>107.355160</td>\n",
       "      <td>516.0630</td>\n",
       "      <td>98.245560</td>\n",
       "      <td>393.78183</td>\n",
       "      <td>2.254088</td>\n",
       "    </tr>\n",
       "    <tr>\n",
       "      <th>1.2.826.0.1.3680043.9926</th>\n",
       "      <td>81.474365</td>\n",
       "      <td>330.1370</td>\n",
       "      <td>103.523580</td>\n",
       "      <td>379.67520</td>\n",
       "      <td>2.844444</td>\n",
       "    </tr>\n",
       "  </tbody>\n",
       "</table>\n",
       "</div>"
      ],
      "text/plain": [
       "                          sagittal_xmin  sagittal_xmax  coronal_xmin  \\\n",
       "UID                                                                    \n",
       "1.2.826.0.1.3680043.8330      69.323685       429.2296     33.396835   \n",
       "1.2.826.0.1.3680043.8574     138.137010       389.4227    155.723130   \n",
       "1.2.826.0.1.3680043.8744     -10.118713       418.2018    102.626400   \n",
       "1.2.826.0.1.3680043.8884     107.355160       516.0630     98.245560   \n",
       "1.2.826.0.1.3680043.9926      81.474365       330.1370    103.523580   \n",
       "\n",
       "                          coronal_xmax    aspect  \n",
       "UID                                               \n",
       "1.2.826.0.1.3680043.8330     456.48120  2.370369  \n",
       "1.2.826.0.1.3680043.8574     406.00723  2.723404  \n",
       "1.2.826.0.1.3680043.8744     436.05896  3.938462  \n",
       "1.2.826.0.1.3680043.8884     393.78183  2.254088  \n",
       "1.2.826.0.1.3680043.9926     379.67520  2.844444  "
      ]
     },
     "execution_count": 7,
     "metadata": {},
     "output_type": "execute_result"
    }
   ],
   "source": [
    "boundary_df = pd.concat((sagittal_df, coronal_df, xray_df), axis=1)\n",
    "boundary_df.tail()"
   ]
  },
  {
   "cell_type": "code",
   "execution_count": 8,
   "metadata": {
    "collapsed": false
   },
   "outputs": [
    {
     "name": "stdout",
     "output_type": "stream",
     "text": [
      "87\n"
     ]
    },
    {
     "data": {
      "text/html": [
       "<div>\n",
       "<style scoped>\n",
       "    .dataframe tbody tr th:only-of-type {\n",
       "        vertical-align: middle;\n",
       "    }\n",
       "\n",
       "    .dataframe tbody tr th {\n",
       "        vertical-align: top;\n",
       "    }\n",
       "\n",
       "    .dataframe thead th {\n",
       "        text-align: right;\n",
       "    }\n",
       "</style>\n",
       "<table border=\"1\" class=\"dataframe\">\n",
       "  <thead>\n",
       "    <tr style=\"text-align: right;\">\n",
       "      <th></th>\n",
       "      <th>sagittal_xmin</th>\n",
       "      <th>sagittal_xmax</th>\n",
       "      <th>coronal_xmin</th>\n",
       "      <th>coronal_xmax</th>\n",
       "      <th>aspect</th>\n",
       "      <th>xmin</th>\n",
       "      <th>ymin</th>\n",
       "      <th>xmax</th>\n",
       "      <th>ymax</th>\n",
       "    </tr>\n",
       "    <tr>\n",
       "      <th>UID</th>\n",
       "      <th></th>\n",
       "      <th></th>\n",
       "      <th></th>\n",
       "      <th></th>\n",
       "      <th></th>\n",
       "      <th></th>\n",
       "      <th></th>\n",
       "      <th></th>\n",
       "      <th></th>\n",
       "    </tr>\n",
       "  </thead>\n",
       "  <tbody>\n",
       "    <tr>\n",
       "      <th>1.2.826.0.1.3680043.8330</th>\n",
       "      <td>69.323685</td>\n",
       "      <td>429.2296</td>\n",
       "      <td>33.396835</td>\n",
       "      <td>456.48120</td>\n",
       "      <td>2.370369</td>\n",
       "      <td>33.396835</td>\n",
       "      <td>69.323685</td>\n",
       "      <td>456.48120</td>\n",
       "      <td>429.2296</td>\n",
       "    </tr>\n",
       "    <tr>\n",
       "      <th>1.2.826.0.1.3680043.8574</th>\n",
       "      <td>138.137010</td>\n",
       "      <td>389.4227</td>\n",
       "      <td>155.723130</td>\n",
       "      <td>406.00723</td>\n",
       "      <td>2.723404</td>\n",
       "      <td>155.723130</td>\n",
       "      <td>138.137010</td>\n",
       "      <td>406.00723</td>\n",
       "      <td>389.4227</td>\n",
       "    </tr>\n",
       "    <tr>\n",
       "      <th>1.2.826.0.1.3680043.8744</th>\n",
       "      <td>-10.118713</td>\n",
       "      <td>418.2018</td>\n",
       "      <td>102.626400</td>\n",
       "      <td>436.05896</td>\n",
       "      <td>3.938462</td>\n",
       "      <td>102.626400</td>\n",
       "      <td>0.000000</td>\n",
       "      <td>436.05896</td>\n",
       "      <td>418.2018</td>\n",
       "    </tr>\n",
       "    <tr>\n",
       "      <th>1.2.826.0.1.3680043.8884</th>\n",
       "      <td>107.355160</td>\n",
       "      <td>516.0630</td>\n",
       "      <td>98.245560</td>\n",
       "      <td>393.78183</td>\n",
       "      <td>2.254088</td>\n",
       "      <td>98.245560</td>\n",
       "      <td>107.355160</td>\n",
       "      <td>393.78183</td>\n",
       "      <td>512.0000</td>\n",
       "    </tr>\n",
       "    <tr>\n",
       "      <th>1.2.826.0.1.3680043.9926</th>\n",
       "      <td>81.474365</td>\n",
       "      <td>330.1370</td>\n",
       "      <td>103.523580</td>\n",
       "      <td>379.67520</td>\n",
       "      <td>2.844444</td>\n",
       "      <td>103.523580</td>\n",
       "      <td>81.474365</td>\n",
       "      <td>379.67520</td>\n",
       "      <td>330.1370</td>\n",
       "    </tr>\n",
       "  </tbody>\n",
       "</table>\n",
       "</div>"
      ],
      "text/plain": [
       "                          sagittal_xmin  sagittal_xmax  coronal_xmin  \\\n",
       "UID                                                                    \n",
       "1.2.826.0.1.3680043.8330      69.323685       429.2296     33.396835   \n",
       "1.2.826.0.1.3680043.8574     138.137010       389.4227    155.723130   \n",
       "1.2.826.0.1.3680043.8744     -10.118713       418.2018    102.626400   \n",
       "1.2.826.0.1.3680043.8884     107.355160       516.0630     98.245560   \n",
       "1.2.826.0.1.3680043.9926      81.474365       330.1370    103.523580   \n",
       "\n",
       "                          coronal_xmax    aspect        xmin        ymin  \\\n",
       "UID                                                                        \n",
       "1.2.826.0.1.3680043.8330     456.48120  2.370369   33.396835   69.323685   \n",
       "1.2.826.0.1.3680043.8574     406.00723  2.723404  155.723130  138.137010   \n",
       "1.2.826.0.1.3680043.8744     436.05896  3.938462  102.626400    0.000000   \n",
       "1.2.826.0.1.3680043.8884     393.78183  2.254088   98.245560  107.355160   \n",
       "1.2.826.0.1.3680043.9926     379.67520  2.844444  103.523580   81.474365   \n",
       "\n",
       "                               xmax      ymax  \n",
       "UID                                            \n",
       "1.2.826.0.1.3680043.8330  456.48120  429.2296  \n",
       "1.2.826.0.1.3680043.8574  406.00723  389.4227  \n",
       "1.2.826.0.1.3680043.8744  436.05896  418.2018  \n",
       "1.2.826.0.1.3680043.8884  393.78183  512.0000  \n",
       "1.2.826.0.1.3680043.9926  379.67520  330.1370  "
      ]
     },
     "execution_count": 8,
     "metadata": {},
     "output_type": "execute_result"
    }
   ],
   "source": [
    "boundary_df[\"xmin\"] = boundary_df[\"coronal_xmin\"].clip(lower=0)\n",
    "boundary_df[\"ymin\"] = boundary_df[\"sagittal_xmin\"].clip(lower=0)\n",
    "boundary_df[\"xmax\"] = boundary_df[\"coronal_xmax\"].clip(upper=512)\n",
    "boundary_df[\"ymax\"] = boundary_df[\"sagittal_xmax\"].clip(upper=512)\n",
    "print(len(boundary_df))\n",
    "boundary_df.tail()"
   ]
  },
  {
   "cell_type": "code",
   "execution_count": 9,
   "metadata": {
    "collapsed": false
   },
   "outputs": [
    {
     "name": "stdout",
     "output_type": "stream",
     "text": [
      "1.2.826.0.1.3680043.15206\n"
     ]
    },
    {
     "data": {
      "text/plain": [
       "<matplotlib.lines.Line2D at 0x7fbd74447340>"
      ]
     },
     "execution_count": 9,
     "metadata": {},
     "output_type": "execute_result"
    },
    {
     "data": {
      "image/png": "[encoded data removed]",
      "text/plain": [
       "<Figure size 432x288 with 1 Axes>"
      ]
     },
     "metadata": {},
     "output_type": "display_data"
    }
   ],
   "source": [
    "s = boundary_df.iloc[10]\n",
    "print(s.name)\n",
    "img = Image.open(os.path.join(IMAGES_DIR, s.name, '247.jpeg'))\n",
    "plt.axis('off')\n",
    "plt.imshow(img, cmap='bone')\n",
    "plt.axvline(s.xmin)\n",
    "plt.axvline(s.xmax)\n",
    "plt.axhline(s.ymin)\n",
    "plt.axhline(s.ymax)"
   ]
  },
  {
   "cell_type": "code",
   "execution_count": 10,
   "metadata": {
    "collapsed": false
   },
   "outputs": [
    {
     "data": {
      "text/html": [
       "<div>\n",
       "<style scoped>\n",
       "    .dataframe tbody tr th:only-of-type {\n",
       "        vertical-align: middle;\n",
       "    }\n",
       "\n",
       "    .dataframe tbody tr th {\n",
       "        vertical-align: top;\n",
       "    }\n",
       "\n",
       "    .dataframe thead th {\n",
       "        text-align: right;\n",
       "    }\n",
       "</style>\n",
       "<table border=\"1\" class=\"dataframe\">\n",
       "  <thead>\n",
       "    <tr style=\"text-align: right;\">\n",
       "      <th></th>\n",
       "      <th>patient_overall</th>\n",
       "      <th>C1</th>\n",
       "      <th>C2</th>\n",
       "      <th>C3</th>\n",
       "      <th>C4</th>\n",
       "      <th>C5</th>\n",
       "      <th>C6</th>\n",
       "      <th>C7</th>\n",
       "      <th>num_slices</th>\n",
       "    </tr>\n",
       "    <tr>\n",
       "      <th>StudyInstanceUID</th>\n",
       "      <th></th>\n",
       "      <th></th>\n",
       "      <th></th>\n",
       "      <th></th>\n",
       "      <th></th>\n",
       "      <th></th>\n",
       "      <th></th>\n",
       "      <th></th>\n",
       "      <th></th>\n",
       "    </tr>\n",
       "  </thead>\n",
       "  <tbody>\n",
       "    <tr>\n",
       "      <th>1.2.826.0.1.3680043.6200</th>\n",
       "      <td>1</td>\n",
       "      <td>1</td>\n",
       "      <td>1</td>\n",
       "      <td>0</td>\n",
       "      <td>0</td>\n",
       "      <td>0</td>\n",
       "      <td>0</td>\n",
       "      <td>0</td>\n",
       "      <td>243</td>\n",
       "    </tr>\n",
       "    <tr>\n",
       "      <th>1.2.826.0.1.3680043.27262</th>\n",
       "      <td>1</td>\n",
       "      <td>0</td>\n",
       "      <td>1</td>\n",
       "      <td>0</td>\n",
       "      <td>0</td>\n",
       "      <td>0</td>\n",
       "      <td>0</td>\n",
       "      <td>0</td>\n",
       "      <td>406</td>\n",
       "    </tr>\n",
       "    <tr>\n",
       "      <th>1.2.826.0.1.3680043.21561</th>\n",
       "      <td>1</td>\n",
       "      <td>0</td>\n",
       "      <td>1</td>\n",
       "      <td>0</td>\n",
       "      <td>0</td>\n",
       "      <td>0</td>\n",
       "      <td>0</td>\n",
       "      <td>0</td>\n",
       "      <td>385</td>\n",
       "    </tr>\n",
       "    <tr>\n",
       "      <th>1.2.826.0.1.3680043.12351</th>\n",
       "      <td>0</td>\n",
       "      <td>0</td>\n",
       "      <td>0</td>\n",
       "      <td>0</td>\n",
       "      <td>0</td>\n",
       "      <td>0</td>\n",
       "      <td>0</td>\n",
       "      <td>0</td>\n",
       "      <td>501</td>\n",
       "    </tr>\n",
       "    <tr>\n",
       "      <th>1.2.826.0.1.3680043.1363</th>\n",
       "      <td>1</td>\n",
       "      <td>0</td>\n",
       "      <td>0</td>\n",
       "      <td>0</td>\n",
       "      <td>0</td>\n",
       "      <td>1</td>\n",
       "      <td>0</td>\n",
       "      <td>0</td>\n",
       "      <td>199</td>\n",
       "    </tr>\n",
       "  </tbody>\n",
       "</table>\n",
       "</div>"
      ],
      "text/plain": [
       "                           patient_overall  C1  C2  C3  C4  C5  C6  C7  \\\n",
       "StudyInstanceUID                                                         \n",
       "1.2.826.0.1.3680043.6200                 1   1   1   0   0   0   0   0   \n",
       "1.2.826.0.1.3680043.27262                1   0   1   0   0   0   0   0   \n",
       "1.2.826.0.1.3680043.21561                1   0   1   0   0   0   0   0   \n",
       "1.2.826.0.1.3680043.12351                0   0   0   0   0   0   0   0   \n",
       "1.2.826.0.1.3680043.1363                 1   0   0   0   0   1   0   0   \n",
       "\n",
       "                           num_slices  \n",
       "StudyInstanceUID                       \n",
       "1.2.826.0.1.3680043.6200          243  \n",
       "1.2.826.0.1.3680043.27262         406  \n",
       "1.2.826.0.1.3680043.21561         385  \n",
       "1.2.826.0.1.3680043.12351         501  \n",
       "1.2.826.0.1.3680043.1363          199  "
      ]
     },
     "execution_count": 10,
     "metadata": {},
     "output_type": "execute_result"
    }
   ],
   "source": [
    "train_df = pd.read_csv(os.path.join(DATA_DIR, 'train_df_with_slices.csv')).set_index('StudyInstanceUID')\n",
    "train_df.head()"
   ]
  },
  {
   "cell_type": "code",
   "execution_count": 11,
   "metadata": {
    "collapsed": false
   },
   "outputs": [
    {
     "name": "stderr",
     "output_type": "stream",
     "text": [
      "100%|██████████| 87/87 [00:00<00:00, 576.25it/s]"
     ]
    },
    {
     "name": "stdout",
     "output_type": "stream",
     "text": [
      "29832\n"
     ]
    },
    {
     "name": "stderr",
     "output_type": "stream",
     "text": [
      "\n"
     ]
    },
    {
     "data": {
      "text/html": [
       "<div>\n",
       "<style scoped>\n",
       "    .dataframe tbody tr th:only-of-type {\n",
       "        vertical-align: middle;\n",
       "    }\n",
       "\n",
       "    .dataframe tbody tr th {\n",
       "        vertical-align: top;\n",
       "    }\n",
       "\n",
       "    .dataframe thead th {\n",
       "        text-align: right;\n",
       "    }\n",
       "</style>\n",
       "<table border=\"1\" class=\"dataframe\">\n",
       "  <thead>\n",
       "    <tr style=\"text-align: right;\">\n",
       "      <th></th>\n",
       "      <th>xmin</th>\n",
       "      <th>ymin</th>\n",
       "      <th>xmax</th>\n",
       "      <th>ymax</th>\n",
       "      <th>aspect</th>\n",
       "      <th>axial_index</th>\n",
       "    </tr>\n",
       "    <tr>\n",
       "      <th>UID</th>\n",
       "      <th></th>\n",
       "      <th></th>\n",
       "      <th></th>\n",
       "      <th></th>\n",
       "      <th></th>\n",
       "      <th></th>\n",
       "    </tr>\n",
       "  </thead>\n",
       "  <tbody>\n",
       "    <tr>\n",
       "      <th>1.2.826.0.1.3680043.9926</th>\n",
       "      <td>103.52358</td>\n",
       "      <td>81.474365</td>\n",
       "      <td>379.6752</td>\n",
       "      <td>330.137</td>\n",
       "      <td>2.844444</td>\n",
       "      <td>165</td>\n",
       "    </tr>\n",
       "    <tr>\n",
       "      <th>1.2.826.0.1.3680043.9926</th>\n",
       "      <td>103.52358</td>\n",
       "      <td>81.474365</td>\n",
       "      <td>379.6752</td>\n",
       "      <td>330.137</td>\n",
       "      <td>2.844444</td>\n",
       "      <td>166</td>\n",
       "    </tr>\n",
       "    <tr>\n",
       "      <th>1.2.826.0.1.3680043.9926</th>\n",
       "      <td>103.52358</td>\n",
       "      <td>81.474365</td>\n",
       "      <td>379.6752</td>\n",
       "      <td>330.137</td>\n",
       "      <td>2.844444</td>\n",
       "      <td>167</td>\n",
       "    </tr>\n",
       "    <tr>\n",
       "      <th>1.2.826.0.1.3680043.9926</th>\n",
       "      <td>103.52358</td>\n",
       "      <td>81.474365</td>\n",
       "      <td>379.6752</td>\n",
       "      <td>330.137</td>\n",
       "      <td>2.844444</td>\n",
       "      <td>168</td>\n",
       "    </tr>\n",
       "    <tr>\n",
       "      <th>1.2.826.0.1.3680043.9926</th>\n",
       "      <td>103.52358</td>\n",
       "      <td>81.474365</td>\n",
       "      <td>379.6752</td>\n",
       "      <td>330.137</td>\n",
       "      <td>2.844444</td>\n",
       "      <td>169</td>\n",
       "    </tr>\n",
       "  </tbody>\n",
       "</table>\n",
       "</div>"
      ],
      "text/plain": [
       "                               xmin       ymin      xmax     ymax    aspect  \\\n",
       "UID                                                                           \n",
       "1.2.826.0.1.3680043.9926  103.52358  81.474365  379.6752  330.137  2.844444   \n",
       "1.2.826.0.1.3680043.9926  103.52358  81.474365  379.6752  330.137  2.844444   \n",
       "1.2.826.0.1.3680043.9926  103.52358  81.474365  379.6752  330.137  2.844444   \n",
       "1.2.826.0.1.3680043.9926  103.52358  81.474365  379.6752  330.137  2.844444   \n",
       "1.2.826.0.1.3680043.9926  103.52358  81.474365  379.6752  330.137  2.844444   \n",
       "\n",
       "                          axial_index  \n",
       "UID                                    \n",
       "1.2.826.0.1.3680043.9926          165  \n",
       "1.2.826.0.1.3680043.9926          166  \n",
       "1.2.826.0.1.3680043.9926          167  \n",
       "1.2.826.0.1.3680043.9926          168  \n",
       "1.2.826.0.1.3680043.9926          169  "
      ]
     },
     "execution_count": 11,
     "metadata": {},
     "output_type": "execute_result"
    }
   ],
   "source": [
    "df = pd.DataFrame()\n",
    "for i in tqdm(range(len(boundary_df))):\n",
    "    s = boundary_df.iloc[i]\n",
    "    UID = s.name\n",
    "    num_slices = train_df.loc[UID, 'num_slices']\n",
    "    new_df = boundary_df.loc[[UID] * num_slices, ['xmin','ymin','xmax','ymax', 'aspect']]\n",
    "    new_df['axial_index'] = np.arange(num_slices)\n",
    "    df = pd.concat([df, new_df])\n",
    "\n",
    "print(len(df))\n",
    "df.tail()"
   ]
  },
  {
   "cell_type": "code",
   "execution_count": 12,
   "metadata": {
    "collapsed": false
   },
   "outputs": [],
   "source": [
    "df.to_csv(os.path.join(DATA_DIR, 'segmentation_axial_bbox.csv'))"
   ]
  }
 ],
 "metadata": {
  "kernelspec": {
   "display_name": "Python 3",
   "language": "python",
   "name": "python3"
  },
  "language_info": {
   "codemirror_mode": {
    "name": "ipython",
    "version": 2
   },
   "file_extension": ".py",
   "mimetype": "text/x-python",
   "name": "python",
   "nbconvert_exporter": "python",
   "pygments_lexer": "ipython2",
   "version": "2.7.6"
  }
 },
 "nbformat": 4,
 "nbformat_minor": 0
}
