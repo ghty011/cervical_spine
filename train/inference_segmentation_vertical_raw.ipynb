{
 "cells": [
  {
   "cell_type": "code",
   "execution_count": 1,
   "metadata": {},
   "outputs": [],
   "source": [
    "batch_size = 32\n",
    "image_size = 256\n",
    "vertical_type = \"sagittal\"\n",
    "checkpoint = f\"checkpoint/{vertical_type}_segmentation_detection_095730-epoch-20.pth\""
   ]
  },
  {
   "cell_type": "code",
   "execution_count": 2,
   "metadata": {
    "collapsed": false,
    "jupyter": {
     "outputs_hidden": false
    }
   },
   "outputs": [],
   "source": [
    "import os\n",
    "import glob\n",
    "import pandas as pd\n",
    "import numpy as np\n",
    "import matplotlib.pyplot as plt\n",
    "import matplotlib.patches as patches\n",
    "import math\n",
    "from tqdm import tqdm\n",
    "\n",
    "from PIL import Image, ImageOps"
   ]
  },
  {
   "cell_type": "code",
   "execution_count": 3,
   "metadata": {
    "collapsed": false,
    "jupyter": {
     "outputs_hidden": false
    }
   },
   "outputs": [],
   "source": [
    "import torch\n",
    "import torch.nn as nn\n",
    "import torch.nn.functional as F\n",
    "import torch.optim as optim\n",
    "from torch.utils.data import Dataset, DataLoader\n",
    "import torchvision\n",
    "from torchvision.io import read_image\n",
    "import torchvision.transforms as T\n",
    "from torchvision.transforms import Compose, ToTensor, Normalize, Resize, CenterCrop\n",
    "import torchvision.transforms.functional as TF\n",
    "import torchvision.models as models"
   ]
  },
  {
   "cell_type": "code",
   "execution_count": 4,
   "metadata": {
    "collapsed": false,
    "jupyter": {
     "outputs_hidden": false
    }
   },
   "outputs": [],
   "source": [
    "DATA_DIR = \"/root/autodl-tmp/cervical_spine/\"\n",
    "TRAIN_IMAGES_DIR = os.path.join(DATA_DIR, \"train_images\")\n",
    "\n",
    "IMAGES_DIR = os.path.join(DATA_DIR, f\"train_{vertical_type}_images_jpeg95\")\n",
    "LABEL_DIR = os.path.join(DATA_DIR, f\"train_{vertical_type}_labels_raw_jpeg95\")"
   ]
  },
  {
   "cell_type": "code",
   "execution_count": 5,
   "metadata": {
    "collapsed": false,
    "jupyter": {
     "outputs_hidden": false
    }
   },
   "outputs": [
    {
     "data": {
      "text/plain": [
       "'cuda'"
      ]
     },
     "execution_count": 5,
     "metadata": {},
     "output_type": "execute_result"
    }
   ],
   "source": [
    "device = 'cuda' if torch.cuda.is_available() else 'cpu'\n",
    "device"
   ]
  },
  {
   "cell_type": "code",
   "execution_count": 6,
   "metadata": {
    "collapsed": false,
    "jupyter": {
     "outputs_hidden": false
    }
   },
   "outputs": [],
   "source": [
    "class DetectionModel(nn.Module):\n",
    "    def __init__(self, backbone, channels, deep=4, out_channels=64, n_features=1):\n",
    "        super().__init__()\n",
    "\n",
    "        self.backbone = backbone\n",
    "        self.deep = deep\n",
    "        self.channels = channels\n",
    "        self.out_channels = out_channels\n",
    "        self.n_features = n_features\n",
    "\n",
    "        self.init_layers()\n",
    "\n",
    "    def init_layers(self):\n",
    "        self.parallel_modules = self.make_parallel_modules()\n",
    "        self.upsampling_modules = self.make_upsampling_modules()\n",
    "\n",
    "        self.downsampling_modules = self.make_downsampling_modules()\n",
    "        self.classification_modules = self.make_classification_modules()\n",
    "\n",
    "    def make_classification_modules(self):\n",
    "        # the last layer\n",
    "        return nn.Sequential(\n",
    "            nn.ReLU(inplace=True),\n",
    "            nn.Conv2d(self.out_channels, 2 * self.out_channels, kernel_size=3, padding='same'),\n",
    "            nn.ReLU(inplace=True),\n",
    "            nn.Conv2d(2 * self.out_channels, self.n_features, kernel_size=1, padding='same'),\n",
    "        )\n",
    "\n",
    "    def make_parallel_modules(self):\n",
    "        parallel_modules = nn.ModuleList()\n",
    "\n",
    "        for i in range(self.deep):\n",
    "            module = nn.Sequential(\n",
    "                nn.ReLU(),\n",
    "                nn.Conv2d(self.channels[i], self.channels[i], kernel_size=3, padding='same'),\n",
    "                nn.ReLU(inplace=True),\n",
    "                nn.Conv2d(self.channels[i], self.channels[i], kernel_size=1, padding='same'),\n",
    "            )\n",
    "            parallel_modules.append(module)\n",
    "\n",
    "        return parallel_modules\n",
    "\n",
    "    def make_downsampling_modules(self):\n",
    "        return nn.ModuleList([\n",
    "            nn.Sequential(\n",
    "                self.backbone.conv1,\n",
    "                self.backbone.bn1,\n",
    "                self.backbone.relu,\n",
    "                self.backbone.maxpool),\n",
    "            nn.Sequential(\n",
    "                self.backbone.layer1,\n",
    "                self.backbone.layer2,\n",
    "            ),\n",
    "            self.backbone.layer3,\n",
    "            self.backbone.layer4\n",
    "        ])\n",
    "\n",
    "    def make_upsampling_modules(self):\n",
    "        upsampling_modules = nn.ModuleList()\n",
    "\n",
    "        for i in range(self.deep):\n",
    "            module = nn.Sequential(\n",
    "                nn.ReLU(inplace=True),\n",
    "                nn.Conv2d(self.channels[i], self.channels[i] // 2, kernel_size=3, padding='same'),\n",
    "                nn.ReLU(inplace=True),\n",
    "                nn.Conv2d(self.channels[i] // 2, self.channels[i - 1] if i > 0 else self.out_channels, kernel_size=1),\n",
    "                nn.Upsample(scale_factor=2)\n",
    "            )\n",
    "            upsampling_modules.append(module)\n",
    "\n",
    "        return upsampling_modules\n",
    "\n",
    "    def forward(self, x):\n",
    "\n",
    "        downsampling_outputs = []\n",
    "        out = x\n",
    "        for module in self.downsampling_modules:\n",
    "            out = module(out)\n",
    "            downsampling_outputs.append(out)\n",
    "\n",
    "        parallel_outputs = []\n",
    "        for i in range(len(self.parallel_modules)):\n",
    "            module = self.parallel_modules[i]\n",
    "            out = module(downsampling_outputs[i])\n",
    "            parallel_outputs.append(out)\n",
    "\n",
    "        out = 0\n",
    "        for i in range(len(self.upsampling_modules)):\n",
    "            module = self.upsampling_modules[-(i + 1)]\n",
    "            parallel_output = parallel_outputs[-(i + 1)]\n",
    "\n",
    "            up_input = out + parallel_output\n",
    "            out = module(up_input)\n",
    "\n",
    "        out = self.classification_modules(out)\n",
    "\n",
    "        return out\n",
    "\n",
    "def resnet50_gray():\n",
    "    model = models.resnet50(pretrained=False)\n",
    "    conv1_weight = model.conv1.weight\n",
    "    conv1_weight = conv1_weight.mean(dim=1).unsqueeze(1)\n",
    "\n",
    "    model.conv1 = nn.Conv2d(1, 64, kernel_size=(7, 7), stride=1, padding='same', bias=False)\n",
    "    model.conv1.weight = nn.Parameter(conv1_weight, requires_grad=True)\n",
    "\n",
    "    return model\n",
    "\n",
    "backbone = resnet50_gray()\n",
    "channels = [64, 512, 1024, 2048]\n",
    "\n",
    "model = DetectionModel(backbone, channels=channels, out_channels=channels[0], n_features=2).to(device)"
   ]
  },
  {
   "cell_type": "code",
   "execution_count": 7,
   "metadata": {
    "collapsed": false,
    "jupyter": {
     "outputs_hidden": false
    }
   },
   "outputs": [],
   "source": [
    "state = torch.load(checkpoint)\n",
    "model.load_state_dict(state[\"model\"])\n",
    "model = model.eval()"
   ]
  },
  {
   "cell_type": "markdown",
   "metadata": {},
   "source": [
    "## Transform"
   ]
  },
  {
   "cell_type": "code",
   "execution_count": 8,
   "metadata": {
    "collapsed": false,
    "jupyter": {
     "outputs_hidden": false
    }
   },
   "outputs": [],
   "source": [
    "class DataTransform(nn.Module):\n",
    "    def __init__(self, image_size):\n",
    "        super().__init__()\n",
    "\n",
    "        self.transform = T.Compose([\n",
    "            T.Resize(image_size),\n",
    "            T.ToTensor(),\n",
    "            T.Normalize(0.5, 0.5)\n",
    "        ])\n",
    "\n",
    "    def forward(self, x):\n",
    "        x = TF.center_crop(x, max(x.width, x.height))\n",
    "        x = self.transform(x)\n",
    "        return x\n",
    "\n",
    "\n",
    "transform = DataTransform(image_size)"
   ]
  },
  {
   "cell_type": "markdown",
   "metadata": {},
   "source": [
    "## Dataset"
   ]
  },
  {
   "cell_type": "code",
   "execution_count": 9,
   "metadata": {
    "collapsed": false,
    "jupyter": {
     "outputs_hidden": false
    }
   },
   "outputs": [],
   "source": [
    "class VerticalImageDataset(Dataset):\n",
    "    def __init__(self, df, image_dir, transform=None):\n",
    "        super().__init__()\n",
    "        self.df = df\n",
    "        self.image_dir = image_dir\n",
    "\n",
    "        self.transform = transform\n",
    "\n",
    "    def __len__(self):\n",
    "        return len(self.df)\n",
    "\n",
    "    def __getitem__(self, idx):\n",
    "        df = self.df.iloc[idx]\n",
    "\n",
    "        UID = df.name\n",
    "        image_name = int(df[f\"{vertical_type}_index\"])\n",
    "        image_path = os.path.join(self.image_dir, UID, f\"{image_name}.jpeg\")\n",
    "        image = Image.open(image_path)\n",
    "\n",
    "        left, top, right, bottom = df[['left','top','right','bottom']]\n",
    "        image = TF.crop(image, top, left, bottom-top, right-left)\n",
    "\n",
    "        if self.transform:\n",
    "            image = self.transform(image)\n",
    "\n",
    "        return image, UID, image_name"
   ]
  },
  {
   "cell_type": "markdown",
   "metadata": {},
   "source": [
    "## Inference"
   ]
  },
  {
   "cell_type": "code",
   "execution_count": 10,
   "metadata": {},
   "outputs": [
    {
     "data": {
      "text/html": [
       "<div>\n",
       "<style scoped>\n",
       "    .dataframe tbody tr th:only-of-type {\n",
       "        vertical-align: middle;\n",
       "    }\n",
       "\n",
       "    .dataframe tbody tr th {\n",
       "        vertical-align: top;\n",
       "    }\n",
       "\n",
       "    .dataframe thead th {\n",
       "        text-align: right;\n",
       "    }\n",
       "</style>\n",
       "<table border=\"1\" class=\"dataframe\">\n",
       "  <thead>\n",
       "    <tr style=\"text-align: right;\">\n",
       "      <th></th>\n",
       "      <th>direction</th>\n",
       "      <th>sagittal_index</th>\n",
       "      <th>bottom</th>\n",
       "      <th>right</th>\n",
       "      <th>top</th>\n",
       "      <th>left</th>\n",
       "      <th>z_spacing</th>\n",
       "      <th>pixel_spacing</th>\n",
       "      <th>aspect</th>\n",
       "      <th>width</th>\n",
       "      <th>height</th>\n",
       "      <th>coronal_left</th>\n",
       "      <th>coronal_top</th>\n",
       "      <th>coronal_right</th>\n",
       "      <th>coronal_bottom</th>\n",
       "      <th>sagittal_left</th>\n",
       "      <th>sagittal_top</th>\n",
       "      <th>sagittal_right</th>\n",
       "      <th>sagittal_bottom</th>\n",
       "    </tr>\n",
       "    <tr>\n",
       "      <th>UID</th>\n",
       "      <th></th>\n",
       "      <th></th>\n",
       "      <th></th>\n",
       "      <th></th>\n",
       "      <th></th>\n",
       "      <th></th>\n",
       "      <th></th>\n",
       "      <th></th>\n",
       "      <th></th>\n",
       "      <th></th>\n",
       "      <th></th>\n",
       "      <th></th>\n",
       "      <th></th>\n",
       "      <th></th>\n",
       "      <th></th>\n",
       "      <th></th>\n",
       "      <th></th>\n",
       "      <th></th>\n",
       "      <th></th>\n",
       "    </tr>\n",
       "  </thead>\n",
       "  <tbody>\n",
       "    <tr>\n",
       "      <th>1.2.826.0.1.3680043.10001</th>\n",
       "      <td>2</td>\n",
       "      <td>88</td>\n",
       "      <td>590</td>\n",
       "      <td>377</td>\n",
       "      <td>98</td>\n",
       "      <td>49</td>\n",
       "      <td>0.625</td>\n",
       "      <td>0.253906</td>\n",
       "      <td>2.461541</td>\n",
       "      <td>512</td>\n",
       "      <td>659</td>\n",
       "      <td>74</td>\n",
       "      <td>54</td>\n",
       "      <td>185</td>\n",
       "      <td>213</td>\n",
       "      <td>58</td>\n",
       "      <td>54</td>\n",
       "      <td>164</td>\n",
       "      <td>213</td>\n",
       "    </tr>\n",
       "    <tr>\n",
       "      <th>1.2.826.0.1.3680043.10001</th>\n",
       "      <td>2</td>\n",
       "      <td>89</td>\n",
       "      <td>590</td>\n",
       "      <td>377</td>\n",
       "      <td>98</td>\n",
       "      <td>49</td>\n",
       "      <td>0.625</td>\n",
       "      <td>0.253906</td>\n",
       "      <td>2.461541</td>\n",
       "      <td>512</td>\n",
       "      <td>659</td>\n",
       "      <td>74</td>\n",
       "      <td>54</td>\n",
       "      <td>185</td>\n",
       "      <td>213</td>\n",
       "      <td>58</td>\n",
       "      <td>54</td>\n",
       "      <td>164</td>\n",
       "      <td>213</td>\n",
       "    </tr>\n",
       "    <tr>\n",
       "      <th>1.2.826.0.1.3680043.10001</th>\n",
       "      <td>2</td>\n",
       "      <td>90</td>\n",
       "      <td>590</td>\n",
       "      <td>377</td>\n",
       "      <td>98</td>\n",
       "      <td>49</td>\n",
       "      <td>0.625</td>\n",
       "      <td>0.253906</td>\n",
       "      <td>2.461541</td>\n",
       "      <td>512</td>\n",
       "      <td>659</td>\n",
       "      <td>74</td>\n",
       "      <td>54</td>\n",
       "      <td>185</td>\n",
       "      <td>213</td>\n",
       "      <td>58</td>\n",
       "      <td>54</td>\n",
       "      <td>164</td>\n",
       "      <td>213</td>\n",
       "    </tr>\n",
       "    <tr>\n",
       "      <th>1.2.826.0.1.3680043.10001</th>\n",
       "      <td>2</td>\n",
       "      <td>91</td>\n",
       "      <td>590</td>\n",
       "      <td>377</td>\n",
       "      <td>98</td>\n",
       "      <td>49</td>\n",
       "      <td>0.625</td>\n",
       "      <td>0.253906</td>\n",
       "      <td>2.461541</td>\n",
       "      <td>512</td>\n",
       "      <td>659</td>\n",
       "      <td>74</td>\n",
       "      <td>54</td>\n",
       "      <td>185</td>\n",
       "      <td>213</td>\n",
       "      <td>58</td>\n",
       "      <td>54</td>\n",
       "      <td>164</td>\n",
       "      <td>213</td>\n",
       "    </tr>\n",
       "    <tr>\n",
       "      <th>1.2.826.0.1.3680043.10001</th>\n",
       "      <td>2</td>\n",
       "      <td>92</td>\n",
       "      <td>590</td>\n",
       "      <td>377</td>\n",
       "      <td>98</td>\n",
       "      <td>49</td>\n",
       "      <td>0.625</td>\n",
       "      <td>0.253906</td>\n",
       "      <td>2.461541</td>\n",
       "      <td>512</td>\n",
       "      <td>659</td>\n",
       "      <td>74</td>\n",
       "      <td>54</td>\n",
       "      <td>185</td>\n",
       "      <td>213</td>\n",
       "      <td>58</td>\n",
       "      <td>54</td>\n",
       "      <td>164</td>\n",
       "      <td>213</td>\n",
       "    </tr>\n",
       "  </tbody>\n",
       "</table>\n",
       "</div>"
      ],
      "text/plain": [
       "                           direction  sagittal_index  bottom  right  top  \\\n",
       "UID                                                                        \n",
       "1.2.826.0.1.3680043.10001          2              88     590    377   98   \n",
       "1.2.826.0.1.3680043.10001          2              89     590    377   98   \n",
       "1.2.826.0.1.3680043.10001          2              90     590    377   98   \n",
       "1.2.826.0.1.3680043.10001          2              91     590    377   98   \n",
       "1.2.826.0.1.3680043.10001          2              92     590    377   98   \n",
       "\n",
       "                           left  z_spacing  pixel_spacing    aspect  width  \\\n",
       "UID                                                                          \n",
       "1.2.826.0.1.3680043.10001    49      0.625       0.253906  2.461541    512   \n",
       "1.2.826.0.1.3680043.10001    49      0.625       0.253906  2.461541    512   \n",
       "1.2.826.0.1.3680043.10001    49      0.625       0.253906  2.461541    512   \n",
       "1.2.826.0.1.3680043.10001    49      0.625       0.253906  2.461541    512   \n",
       "1.2.826.0.1.3680043.10001    49      0.625       0.253906  2.461541    512   \n",
       "\n",
       "                           height  coronal_left  coronal_top  coronal_right  \\\n",
       "UID                                                                           \n",
       "1.2.826.0.1.3680043.10001     659            74           54            185   \n",
       "1.2.826.0.1.3680043.10001     659            74           54            185   \n",
       "1.2.826.0.1.3680043.10001     659            74           54            185   \n",
       "1.2.826.0.1.3680043.10001     659            74           54            185   \n",
       "1.2.826.0.1.3680043.10001     659            74           54            185   \n",
       "\n",
       "                           coronal_bottom  sagittal_left  sagittal_top  \\\n",
       "UID                                                                      \n",
       "1.2.826.0.1.3680043.10001             213             58            54   \n",
       "1.2.826.0.1.3680043.10001             213             58            54   \n",
       "1.2.826.0.1.3680043.10001             213             58            54   \n",
       "1.2.826.0.1.3680043.10001             213             58            54   \n",
       "1.2.826.0.1.3680043.10001             213             58            54   \n",
       "\n",
       "                           sagittal_right  sagittal_bottom  \n",
       "UID                                                         \n",
       "1.2.826.0.1.3680043.10001             164              213  \n",
       "1.2.826.0.1.3680043.10001             164              213  \n",
       "1.2.826.0.1.3680043.10001             164              213  \n",
       "1.2.826.0.1.3680043.10001             164              213  \n",
       "1.2.826.0.1.3680043.10001             164              213  "
      ]
     },
     "execution_count": 10,
     "metadata": {},
     "output_type": "execute_result"
    }
   ],
   "source": [
    "total_df = pd.read_csv(f'infer_{vertical_type}_position.csv').set_index(\"UID\")\n",
    "total_df.head()"
   ]
  },
  {
   "cell_type": "code",
   "execution_count": 11,
   "metadata": {},
   "outputs": [
    {
     "data": {
      "text/plain": [
       "2011"
      ]
     },
     "execution_count": 11,
     "metadata": {},
     "output_type": "execute_result"
    }
   ],
   "source": [
    "len(total_df.index.unique())"
   ]
  },
  {
   "cell_type": "code",
   "execution_count": 12,
   "metadata": {},
   "outputs": [
    {
     "data": {
      "text/plain": [
       "234"
      ]
     },
     "execution_count": 12,
     "metadata": {},
     "output_type": "execute_result"
    }
   ],
   "source": [
    "bbox_df = pd.read_csv(f'train_bbox_{vertical_type}_classification.csv').set_index(\"UID\")\n",
    "len(bbox_df.index.unique())"
   ]
  },
  {
   "cell_type": "code",
   "execution_count": 13,
   "metadata": {},
   "outputs": [
    {
     "name": "stdout",
     "output_type": "stream",
     "text": [
      "234\n"
     ]
    },
    {
     "data": {
      "text/html": [
       "<div>\n",
       "<style scoped>\n",
       "    .dataframe tbody tr th:only-of-type {\n",
       "        vertical-align: middle;\n",
       "    }\n",
       "\n",
       "    .dataframe tbody tr th {\n",
       "        vertical-align: top;\n",
       "    }\n",
       "\n",
       "    .dataframe thead th {\n",
       "        text-align: right;\n",
       "    }\n",
       "</style>\n",
       "<table border=\"1\" class=\"dataframe\">\n",
       "  <thead>\n",
       "    <tr style=\"text-align: right;\">\n",
       "      <th></th>\n",
       "      <th>direction</th>\n",
       "      <th>sagittal_index</th>\n",
       "      <th>bottom</th>\n",
       "      <th>right</th>\n",
       "      <th>top</th>\n",
       "      <th>left</th>\n",
       "      <th>z_spacing</th>\n",
       "      <th>pixel_spacing</th>\n",
       "      <th>aspect</th>\n",
       "      <th>width</th>\n",
       "      <th>height</th>\n",
       "      <th>coronal_left</th>\n",
       "      <th>coronal_top</th>\n",
       "      <th>coronal_right</th>\n",
       "      <th>coronal_bottom</th>\n",
       "      <th>sagittal_left</th>\n",
       "      <th>sagittal_top</th>\n",
       "      <th>sagittal_right</th>\n",
       "      <th>sagittal_bottom</th>\n",
       "    </tr>\n",
       "    <tr>\n",
       "      <th>UID</th>\n",
       "      <th></th>\n",
       "      <th></th>\n",
       "      <th></th>\n",
       "      <th></th>\n",
       "      <th></th>\n",
       "      <th></th>\n",
       "      <th></th>\n",
       "      <th></th>\n",
       "      <th></th>\n",
       "      <th></th>\n",
       "      <th></th>\n",
       "      <th></th>\n",
       "      <th></th>\n",
       "      <th></th>\n",
       "      <th></th>\n",
       "      <th></th>\n",
       "      <th></th>\n",
       "      <th></th>\n",
       "      <th></th>\n",
       "    </tr>\n",
       "  </thead>\n",
       "  <tbody>\n",
       "    <tr>\n",
       "      <th>1.2.826.0.1.3680043.10051</th>\n",
       "      <td>2</td>\n",
       "      <td>58</td>\n",
       "      <td>606</td>\n",
       "      <td>416</td>\n",
       "      <td>47</td>\n",
       "      <td>48</td>\n",
       "      <td>0.625</td>\n",
       "      <td>0.253906</td>\n",
       "      <td>2.461541</td>\n",
       "      <td>512</td>\n",
       "      <td>669</td>\n",
       "      <td>63</td>\n",
       "      <td>36</td>\n",
       "      <td>169</td>\n",
       "      <td>214</td>\n",
       "      <td>60</td>\n",
       "      <td>36</td>\n",
       "      <td>177</td>\n",
       "      <td>214</td>\n",
       "    </tr>\n",
       "    <tr>\n",
       "      <th>1.2.826.0.1.3680043.10051</th>\n",
       "      <td>2</td>\n",
       "      <td>59</td>\n",
       "      <td>606</td>\n",
       "      <td>416</td>\n",
       "      <td>47</td>\n",
       "      <td>48</td>\n",
       "      <td>0.625</td>\n",
       "      <td>0.253906</td>\n",
       "      <td>2.461541</td>\n",
       "      <td>512</td>\n",
       "      <td>669</td>\n",
       "      <td>63</td>\n",
       "      <td>36</td>\n",
       "      <td>169</td>\n",
       "      <td>214</td>\n",
       "      <td>60</td>\n",
       "      <td>36</td>\n",
       "      <td>177</td>\n",
       "      <td>214</td>\n",
       "    </tr>\n",
       "    <tr>\n",
       "      <th>1.2.826.0.1.3680043.10051</th>\n",
       "      <td>2</td>\n",
       "      <td>60</td>\n",
       "      <td>606</td>\n",
       "      <td>416</td>\n",
       "      <td>47</td>\n",
       "      <td>48</td>\n",
       "      <td>0.625</td>\n",
       "      <td>0.253906</td>\n",
       "      <td>2.461541</td>\n",
       "      <td>512</td>\n",
       "      <td>669</td>\n",
       "      <td>63</td>\n",
       "      <td>36</td>\n",
       "      <td>169</td>\n",
       "      <td>214</td>\n",
       "      <td>60</td>\n",
       "      <td>36</td>\n",
       "      <td>177</td>\n",
       "      <td>214</td>\n",
       "    </tr>\n",
       "    <tr>\n",
       "      <th>1.2.826.0.1.3680043.10051</th>\n",
       "      <td>2</td>\n",
       "      <td>61</td>\n",
       "      <td>606</td>\n",
       "      <td>416</td>\n",
       "      <td>47</td>\n",
       "      <td>48</td>\n",
       "      <td>0.625</td>\n",
       "      <td>0.253906</td>\n",
       "      <td>2.461541</td>\n",
       "      <td>512</td>\n",
       "      <td>669</td>\n",
       "      <td>63</td>\n",
       "      <td>36</td>\n",
       "      <td>169</td>\n",
       "      <td>214</td>\n",
       "      <td>60</td>\n",
       "      <td>36</td>\n",
       "      <td>177</td>\n",
       "      <td>214</td>\n",
       "    </tr>\n",
       "    <tr>\n",
       "      <th>1.2.826.0.1.3680043.10051</th>\n",
       "      <td>2</td>\n",
       "      <td>62</td>\n",
       "      <td>606</td>\n",
       "      <td>416</td>\n",
       "      <td>47</td>\n",
       "      <td>48</td>\n",
       "      <td>0.625</td>\n",
       "      <td>0.253906</td>\n",
       "      <td>2.461541</td>\n",
       "      <td>512</td>\n",
       "      <td>669</td>\n",
       "      <td>63</td>\n",
       "      <td>36</td>\n",
       "      <td>169</td>\n",
       "      <td>214</td>\n",
       "      <td>60</td>\n",
       "      <td>36</td>\n",
       "      <td>177</td>\n",
       "      <td>214</td>\n",
       "    </tr>\n",
       "  </tbody>\n",
       "</table>\n",
       "</div>"
      ],
      "text/plain": [
       "                           direction  sagittal_index  bottom  right  top  \\\n",
       "UID                                                                        \n",
       "1.2.826.0.1.3680043.10051          2              58     606    416   47   \n",
       "1.2.826.0.1.3680043.10051          2              59     606    416   47   \n",
       "1.2.826.0.1.3680043.10051          2              60     606    416   47   \n",
       "1.2.826.0.1.3680043.10051          2              61     606    416   47   \n",
       "1.2.826.0.1.3680043.10051          2              62     606    416   47   \n",
       "\n",
       "                           left  z_spacing  pixel_spacing    aspect  width  \\\n",
       "UID                                                                          \n",
       "1.2.826.0.1.3680043.10051    48      0.625       0.253906  2.461541    512   \n",
       "1.2.826.0.1.3680043.10051    48      0.625       0.253906  2.461541    512   \n",
       "1.2.826.0.1.3680043.10051    48      0.625       0.253906  2.461541    512   \n",
       "1.2.826.0.1.3680043.10051    48      0.625       0.253906  2.461541    512   \n",
       "1.2.826.0.1.3680043.10051    48      0.625       0.253906  2.461541    512   \n",
       "\n",
       "                           height  coronal_left  coronal_top  coronal_right  \\\n",
       "UID                                                                           \n",
       "1.2.826.0.1.3680043.10051     669            63           36            169   \n",
       "1.2.826.0.1.3680043.10051     669            63           36            169   \n",
       "1.2.826.0.1.3680043.10051     669            63           36            169   \n",
       "1.2.826.0.1.3680043.10051     669            63           36            169   \n",
       "1.2.826.0.1.3680043.10051     669            63           36            169   \n",
       "\n",
       "                           coronal_bottom  sagittal_left  sagittal_top  \\\n",
       "UID                                                                      \n",
       "1.2.826.0.1.3680043.10051             214             60            36   \n",
       "1.2.826.0.1.3680043.10051             214             60            36   \n",
       "1.2.826.0.1.3680043.10051             214             60            36   \n",
       "1.2.826.0.1.3680043.10051             214             60            36   \n",
       "1.2.826.0.1.3680043.10051             214             60            36   \n",
       "\n",
       "                           sagittal_right  sagittal_bottom  \n",
       "UID                                                         \n",
       "1.2.826.0.1.3680043.10051             177              214  \n",
       "1.2.826.0.1.3680043.10051             177              214  \n",
       "1.2.826.0.1.3680043.10051             177              214  \n",
       "1.2.826.0.1.3680043.10051             177              214  \n",
       "1.2.826.0.1.3680043.10051             177              214  "
      ]
     },
     "execution_count": 13,
     "metadata": {},
     "output_type": "execute_result"
    }
   ],
   "source": [
    "df = total_df[total_df.index.isin(bbox_df.index)]\n",
    "print(len(df.index.unique()))\n",
    "df.head()"
   ]
  },
  {
   "cell_type": "markdown",
   "metadata": {},
   "source": [
    "### Inference images"
   ]
  },
  {
   "cell_type": "code",
   "execution_count": 14,
   "metadata": {
    "collapsed": false,
    "jupyter": {
     "outputs_hidden": false
    }
   },
   "outputs": [
    {
     "data": {
      "text/plain": [
       "63050"
      ]
     },
     "execution_count": 14,
     "metadata": {},
     "output_type": "execute_result"
    }
   ],
   "source": [
    "dataset = VerticalImageDataset(df, IMAGES_DIR, transform)\n",
    "len(dataset)"
   ]
  },
  {
   "cell_type": "code",
   "execution_count": 15,
   "metadata": {
    "collapsed": false,
    "jupyter": {
     "outputs_hidden": false
    }
   },
   "outputs": [
    {
     "data": {
      "text/plain": [
       "<matplotlib.image.AxesImage at 0x7fb7ec947c40>"
      ]
     },
     "execution_count": 15,
     "metadata": {},
     "output_type": "execute_result"
    },
    {
     "data": {
      "image/png": "[encoded data removed]",
      "text/plain": [
       "<Figure size 432x288 with 1 Axes>"
      ]
     },
     "metadata": {
      "needs_background": "light"
     },
     "output_type": "display_data"
    }
   ],
   "source": [
    "x, _, _ = dataset[100]\n",
    "img = x * 0.5 + 0.5\n",
    "plt.imshow(img.squeeze().cpu().numpy())"
   ]
  },
  {
   "cell_type": "code",
   "execution_count": 16,
   "metadata": {
    "collapsed": false,
    "jupyter": {
     "outputs_hidden": false
    }
   },
   "outputs": [],
   "source": [
    "def predict(model, x):\n",
    "    x = x.to(device)\n",
    "    classification_prob, mse_score = model(x).sigmoid().chunk(2, dim=1)\n",
    "    mse_score = torch.round(mse_score * 8.) / 8.\n",
    "    pred = classification_prob.gt(0.5).float() * mse_score\n",
    "    return pred"
   ]
  },
  {
   "cell_type": "code",
   "execution_count": 17,
   "metadata": {
    "collapsed": false,
    "jupyter": {
     "outputs_hidden": false
    }
   },
   "outputs": [
    {
     "data": {
      "image/png": "[encoded data removed]",
      "text/plain": [
       "<Figure size 432x288 with 1 Axes>"
      ]
     },
     "metadata": {
      "needs_background": "light"
     },
     "output_type": "display_data"
    }
   ],
   "source": [
    "with torch.no_grad():\n",
    "    x = x.unsqueeze(0)\n",
    "    x = x.to(device)\n",
    "    classification_prob, mse_score = model(x).sigmoid().chunk(2, dim=1)\n",
    "    mse_score = mse_score * 256\n",
    "    mse_score = mse_score.squeeze().cpu().numpy()\n",
    "    Image.fromarray(np.uint8(mse_score), 'L').save('sample_infer.png')\n",
    "    plt.imshow(mse_score, cmap='nipy_spectral')"
   ]
  },
  {
   "cell_type": "code",
   "execution_count": 18,
   "metadata": {
    "collapsed": false,
    "jupyter": {
     "outputs_hidden": false
    }
   },
   "outputs": [
    {
     "data": {
      "text/plain": [
       "227"
      ]
     },
     "execution_count": 18,
     "metadata": {},
     "output_type": "execute_result"
    }
   ],
   "source": [
    "sample_label = Image.open('sample_infer.png')\n",
    "sample_label = np.asarray(sample_label)\n",
    "sample_label.max()"
   ]
  },
  {
   "cell_type": "code",
   "execution_count": 19,
   "metadata": {
    "collapsed": false,
    "jupyter": {
     "outputs_hidden": false
    }
   },
   "outputs": [
    {
     "data": {
      "text/plain": [
       "28"
      ]
     },
     "execution_count": 19,
     "metadata": {},
     "output_type": "execute_result"
    }
   ],
   "source": [
    "sample_label.min()"
   ]
  },
  {
   "cell_type": "code",
   "execution_count": 20,
   "metadata": {
    "collapsed": false,
    "jupyter": {
     "outputs_hidden": false
    }
   },
   "outputs": [],
   "source": [
    "dataloader = DataLoader(dataset, batch_size=batch_size, shuffle=False, pin_memory=False, num_workers=16)"
   ]
  },
  {
   "cell_type": "code",
   "execution_count": 21,
   "metadata": {
    "collapsed": false,
    "jupyter": {
     "outputs_hidden": false
    }
   },
   "outputs": [],
   "source": [
    "def save_raw_image(pred, UIDs, image_names):\n",
    "    pred = pred * 256\n",
    "    for i in range(pred.shape[0]):\n",
    "        label_dir = os.path.join(LABEL_DIR, UIDs[i])\n",
    "        if os.path.exists(label_dir) == False:\n",
    "            os.mkdir(label_dir)\n",
    "        label = pred[i, 0, :, :]\n",
    "        img_path = os.path.join(label_dir, f\"{image_names[i]}.png\")\n",
    "        img_full_path = os.path.join(LABEL_DIR, img_path)\n",
    "        Image.fromarray(np.uint8(label), 'L').save(img_full_path)"
   ]
  },
  {
   "cell_type": "code",
   "execution_count": 22,
   "metadata": {
    "collapsed": false,
    "jupyter": {
     "outputs_hidden": false
    }
   },
   "outputs": [
    {
     "name": "stderr",
     "output_type": "stream",
     "text": [
      "100%|██████████| 1971/1971 [23:26<00:00,  1.40it/s]\n"
     ]
    }
   ],
   "source": [
    "with torch.no_grad():\n",
    "    train_iter = tqdm(dataloader)\n",
    "    for x, UIDs, image_names in train_iter:\n",
    "        x = x.to(device)\n",
    "        classification_prob, mse_score = model(x).sigmoid().chunk(2, dim=1)\n",
    "        save_raw_image(mse_score.cpu().numpy(), UIDs, image_names)"
   ]
  },
  {
   "cell_type": "markdown",
   "metadata": {},
   "source": [
    "### Infer single patient"
   ]
  },
  {
   "cell_type": "code",
   "execution_count": 24,
   "metadata": {},
   "outputs": [
    {
     "name": "stderr",
     "output_type": "stream",
     "text": [
      "100%|██████████| 8/8 [00:09<00:00,  1.22s/it]\n"
     ]
    }
   ],
   "source": [
    "@torch.no_grad()\n",
    "def infer_raw_image(UID):\n",
    "    patient_df = total_df.loc[UID]\n",
    "    dataset = VerticalImageDataset(patient_df, IMAGES_DIR, transform)\n",
    "    dataloader = DataLoader(dataset, batch_size=batch_size, shuffle=False, pin_memory=False, num_workers=16)\n",
    "    \n",
    "    train_iter = tqdm(dataloader)\n",
    "    for x, UIDs, image_names in train_iter:\n",
    "        x = x.to(device)\n",
    "        classification_prob, mse_score = model(x).sigmoid().chunk(2, dim=1)\n",
    "        save_raw_image(mse_score.cpu().numpy(), UIDs, image_names)\n",
    "        \n",
    "infer_raw_image(\"1.2.826.0.1.3680043.7195\")"
   ]
  }
 ],
 "metadata": {
  "kernelspec": {
   "display_name": "Python 3 (ipykernel)",
   "language": "python",
   "name": "python3"
  },
  "language_info": {
   "codemirror_mode": {
    "name": "ipython",
    "version": 3
   },
   "file_extension": ".py",
   "mimetype": "text/x-python",
   "name": "python",
   "nbconvert_exporter": "python",
   "pygments_lexer": "ipython3",
   "version": "3.8.10"
  }
 },
 "nbformat": 4,
 "nbformat_minor": 4
}
