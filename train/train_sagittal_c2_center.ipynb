{
 "cells": [
  {
   "cell_type": "code",
   "execution_count": 1,
   "metadata": {
    "collapsed": false,
    "jupyter": {
     "outputs_hidden": false
    }
   },
   "outputs": [],
   "source": [
    "import wandb\n",
    "from datetime import datetime"
   ]
  },
  {
   "cell_type": "code",
   "execution_count": 3,
   "metadata": {
    "collapsed": false,
    "jupyter": {
     "outputs_hidden": false
    }
   },
   "outputs": [],
   "source": [
    "lr = 1e-4\n",
    "batch_size = 64\n",
    "wd = 1e-5\n",
    "pos_weight = 2\n",
    "image_size = 256\n",
    "# backbone=\"segmentation\"\n",
    "backbone=\"none\"\n",
    "vertical_type = \"sagittal\"\n",
    "train_portion = 0.5\n",
    "milestones = [50, 100, 150, 200]\n",
    "model_name = \"eff_v2\"\n",
    "\n",
    "slice_range=5"
   ]
  },
  {
   "cell_type": "code",
   "execution_count": 3,
   "metadata": {
    "collapsed": false,
    "jupyter": {
     "outputs_hidden": false
    }
   },
   "outputs": [
    {
     "name": "stderr",
     "output_type": "stream",
     "text": [
      "Failed to detect the name of this notebook, you can set it manually with the WANDB_NOTEBOOK_NAME environment variable to enable code saving.\n",
      "\u001B[34m\u001B[1mwandb\u001B[0m: Currently logged in as: \u001B[33mlongyi\u001B[0m. Use \u001B[1m`wandb login --relogin`\u001B[0m to force relogin\n"
     ]
    },
    {
     "data": {
      "text/html": [
       "Tracking run with wandb version 0.13.3"
      ],
      "text/plain": [
       "<IPython.core.display.HTML object>"
      ]
     },
     "metadata": {},
     "output_type": "display_data"
    },
    {
     "data": {
      "text/html": [
       "Run data is saved locally in <code>/root/cervical_spine/train/wandb/run-20221002_215513-2f9rs53e</code>"
      ],
      "text/plain": [
       "<IPython.core.display.HTML object>"
      ]
     },
     "metadata": {},
     "output_type": "display_data"
    },
    {
     "data": {
      "text/html": [
       "Syncing run <strong><a href=\"http://8.210.101.57:8081/longyi/cervical-spine/runs/2f9rs53e\" target=\"_blank\">dainty-field-104</a></strong> to <a href=\"http://8.210.101.57:8081/longyi/cervical-spine\" target=\"_blank\">Weights & Biases</a> (<a href=\"https://wandb.me/run\" target=\"_blank\">docs</a>)<br/>"
      ],
      "text/plain": [
       "<IPython.core.display.HTML object>"
      ]
     },
     "metadata": {},
     "output_type": "display_data"
    },
    {
     "data": {
      "text/plain": [
       "'sagittal_eff_v2_c2_center_215515'"
      ]
     },
     "execution_count": 3,
     "metadata": {},
     "output_type": "execute_result"
    }
   ],
   "source": [
    "wandb_entity='longyi'\n",
    "\n",
    "wandb.init(project=\"cervical-spine\", entity=wandb_entity, config={\n",
    "    \"model\":model_name,\n",
    "    \"batch_size\":batch_size,\n",
    "    \"lr\" : lr,\n",
    "    \"wd\" : wd,\n",
    "    \"pos_weight\" : pos_weight,\n",
    "    \"backbone\" : backbone,\n",
    "    \"image_size\" : image_size,\n",
    "})\n",
    "wandb.run.name = f'{vertical_type}_{model_name}_c2_center_' + datetime.now().strftime(\"%H%M%S\")\n",
    "wandb.run.name"
   ]
  },
  {
   "cell_type": "code",
   "execution_count": 4,
   "metadata": {
    "collapsed": false,
    "jupyter": {
     "outputs_hidden": false
    }
   },
   "outputs": [],
   "source": [
    "import os\n",
    "import glob\n",
    "import pydicom\n",
    "import nibabel as nib\n",
    "import pandas as pd\n",
    "import numpy as np\n",
    "from pydicom.pixel_data_handlers.util import apply_voi_lut\n",
    "import matplotlib.pyplot as plt\n",
    "import matplotlib.patches as patches\n",
    "import seaborn as sns\n",
    "import math\n",
    "from tqdm import tqdm\n",
    "import random\n",
    "from sklearn.utils import shuffle\n",
    "from sklearn import metrics\n",
    "from PIL import Image, ImageOps"
   ]
  },
  {
   "cell_type": "code",
   "execution_count": 4,
   "metadata": {
    "collapsed": false,
    "jupyter": {
     "outputs_hidden": false
    }
   },
   "outputs": [],
   "source": [
    "import torch\n",
    "import torch.nn as nn\n",
    "import torch.nn.functional as F\n",
    "import torch.optim as optim\n",
    "from torch.utils.data import Dataset, DataLoader\n",
    "import torchvision\n",
    "from torchvision.io import read_image\n",
    "import torchvision.transforms as T\n",
    "from torchvision.transforms import Compose, ToTensor, Normalize, Resize, CenterCrop\n",
    "import torchvision.transforms.functional as TF\n",
    "import torchvision.models as models\n",
    "\n",
    "device = 'cuda' if torch.cuda.is_available() else 'cpu'\n",
    "pos_weight = torch.tensor(pos_weight)"
   ]
  },
  {
   "cell_type": "code",
   "execution_count": 6,
   "metadata": {
    "collapsed": false,
    "jupyter": {
     "outputs_hidden": false
    }
   },
   "outputs": [],
   "source": [
    "# DATA_DIR = \"/media/longyi/SSD9701/\"\n",
    "# DATA_DIR = \"/Volumes/SSD970/\"\n",
    "DATA_DIR = \"/root/autodl-tmp/cervical_spine/\"\n",
    "TRAIN_IMAGES_DIR = os.path.join(DATA_DIR, \"train_images\")\n",
    "\n",
    "IMAGES_DIR = os.path.join(DATA_DIR, f\"train_{vertical_type}_images_jpeg95\")\n",
    "LABEL_DIR = os.path.join(DATA_DIR, f\"segmentation_{vertical_type}_labels\")\n",
    "MASK_DIR = os.path.join(DATA_DIR, \"train_sagittal_labels_jpeg95\")\n",
    "\n"
   ]
  },
  {
   "cell_type": "code",
   "execution_count": 7,
   "metadata": {
    "collapsed": false,
    "jupyter": {
     "outputs_hidden": false
    }
   },
   "outputs": [
    {
     "name": "stdout",
     "output_type": "stream",
     "text": [
      "2011\n"
     ]
    },
    {
     "data": {
      "text/html": [
       "<div>\n",
       "<style scoped>\n",
       "    .dataframe tbody tr th:only-of-type {\n",
       "        vertical-align: middle;\n",
       "    }\n",
       "\n",
       "    .dataframe tbody tr th {\n",
       "        vertical-align: top;\n",
       "    }\n",
       "\n",
       "    .dataframe thead th {\n",
       "        text-align: right;\n",
       "    }\n",
       "</style>\n",
       "<table border=\"1\" class=\"dataframe\">\n",
       "  <thead>\n",
       "    <tr style=\"text-align: right;\">\n",
       "      <th></th>\n",
       "      <th>C2</th>\n",
       "      <th>C2_cross_fracture</th>\n",
       "      <th>sagittal_center_slice</th>\n",
       "      <th>label_scale</th>\n",
       "      <th>left</th>\n",
       "      <th>top</th>\n",
       "      <th>right</th>\n",
       "      <th>bottom</th>\n",
       "    </tr>\n",
       "    <tr>\n",
       "      <th>UID</th>\n",
       "      <th></th>\n",
       "      <th></th>\n",
       "      <th></th>\n",
       "      <th></th>\n",
       "      <th></th>\n",
       "      <th></th>\n",
       "      <th></th>\n",
       "      <th></th>\n",
       "    </tr>\n",
       "  </thead>\n",
       "  <tbody>\n",
       "    <tr>\n",
       "      <th>1.2.826.0.1.3680043.10001</th>\n",
       "      <td>0</td>\n",
       "      <td>1</td>\n",
       "      <td>281</td>\n",
       "      <td>32</td>\n",
       "      <td>49</td>\n",
       "      <td>98</td>\n",
       "      <td>377</td>\n",
       "      <td>590</td>\n",
       "    </tr>\n",
       "    <tr>\n",
       "      <th>1.2.826.0.1.3680043.10005</th>\n",
       "      <td>0</td>\n",
       "      <td>1</td>\n",
       "      <td>255</td>\n",
       "      <td>32</td>\n",
       "      <td>22</td>\n",
       "      <td>0</td>\n",
       "      <td>366</td>\n",
       "      <td>291</td>\n",
       "    </tr>\n",
       "    <tr>\n",
       "      <th>1.2.826.0.1.3680043.10014</th>\n",
       "      <td>0</td>\n",
       "      <td>1</td>\n",
       "      <td>261</td>\n",
       "      <td>32</td>\n",
       "      <td>28</td>\n",
       "      <td>148</td>\n",
       "      <td>480</td>\n",
       "      <td>882</td>\n",
       "    </tr>\n",
       "    <tr>\n",
       "      <th>1.2.826.0.1.3680043.10016</th>\n",
       "      <td>1</td>\n",
       "      <td>0</td>\n",
       "      <td>278</td>\n",
       "      <td>32</td>\n",
       "      <td>37</td>\n",
       "      <td>98</td>\n",
       "      <td>396</td>\n",
       "      <td>601</td>\n",
       "    </tr>\n",
       "    <tr>\n",
       "      <th>1.2.826.0.1.3680043.10032</th>\n",
       "      <td>0</td>\n",
       "      <td>1</td>\n",
       "      <td>250</td>\n",
       "      <td>32</td>\n",
       "      <td>28</td>\n",
       "      <td>125</td>\n",
       "      <td>413</td>\n",
       "      <td>584</td>\n",
       "    </tr>\n",
       "  </tbody>\n",
       "</table>\n",
       "</div>"
      ],
      "text/plain": [
       "                           C2  C2_cross_fracture  sagittal_center_slice  \\\n",
       "UID                                                                       \n",
       "1.2.826.0.1.3680043.10001   0                  1                    281   \n",
       "1.2.826.0.1.3680043.10005   0                  1                    255   \n",
       "1.2.826.0.1.3680043.10014   0                  1                    261   \n",
       "1.2.826.0.1.3680043.10016   1                  0                    278   \n",
       "1.2.826.0.1.3680043.10032   0                  1                    250   \n",
       "\n",
       "                           label_scale  left  top  right  bottom  \n",
       "UID                                                               \n",
       "1.2.826.0.1.3680043.10001           32    49   98    377     590  \n",
       "1.2.826.0.1.3680043.10005           32    22    0    366     291  \n",
       "1.2.826.0.1.3680043.10014           32    28  148    480     882  \n",
       "1.2.826.0.1.3680043.10016           32    37   98    396     601  \n",
       "1.2.826.0.1.3680043.10032           32    28  125    413     584  "
      ]
     },
     "execution_count": 7,
     "metadata": {},
     "output_type": "execute_result"
    }
   ],
   "source": [
    "df = pd.read_csv(os.path.join(DATA_DIR, 'meta_sagittal_c2_center.csv')).set_index(\"UID\")\n",
    "print(len(df))\n",
    "df.head()"
   ]
  },
  {
   "cell_type": "code",
   "execution_count": 8,
   "metadata": {},
   "outputs": [],
   "source": [
    "df = shuffle(df)"
   ]
  },
  {
   "cell_type": "code",
   "execution_count": 9,
   "metadata": {},
   "outputs": [
    {
     "name": "stdout",
     "output_type": "stream",
     "text": [
      "136 1730\n"
     ]
    }
   ],
   "source": [
    "pos_df = df[(df.C2 == 1) & (df.C2_cross_fracture == 1)]\n",
    "neg_df = df[(df.C2 == 0)]\n",
    "print(len(pos_df), len(neg_df))"
   ]
  },
  {
   "cell_type": "code",
   "execution_count": 10,
   "metadata": {},
   "outputs": [
    {
     "name": "stdout",
     "output_type": "stream",
     "text": [
      "1866\n"
     ]
    },
    {
     "data": {
      "text/html": [
       "<div>\n",
       "<style scoped>\n",
       "    .dataframe tbody tr th:only-of-type {\n",
       "        vertical-align: middle;\n",
       "    }\n",
       "\n",
       "    .dataframe tbody tr th {\n",
       "        vertical-align: top;\n",
       "    }\n",
       "\n",
       "    .dataframe thead th {\n",
       "        text-align: right;\n",
       "    }\n",
       "</style>\n",
       "<table border=\"1\" class=\"dataframe\">\n",
       "  <thead>\n",
       "    <tr style=\"text-align: right;\">\n",
       "      <th></th>\n",
       "      <th>C2</th>\n",
       "      <th>C2_cross_fracture</th>\n",
       "      <th>sagittal_center_slice</th>\n",
       "      <th>label_scale</th>\n",
       "      <th>left</th>\n",
       "      <th>top</th>\n",
       "      <th>right</th>\n",
       "      <th>bottom</th>\n",
       "    </tr>\n",
       "    <tr>\n",
       "      <th>UID</th>\n",
       "      <th></th>\n",
       "      <th></th>\n",
       "      <th></th>\n",
       "      <th></th>\n",
       "      <th></th>\n",
       "      <th></th>\n",
       "      <th></th>\n",
       "      <th></th>\n",
       "    </tr>\n",
       "  </thead>\n",
       "  <tbody>\n",
       "    <tr>\n",
       "      <th>1.2.826.0.1.3680043.10776</th>\n",
       "      <td>1</td>\n",
       "      <td>1</td>\n",
       "      <td>250</td>\n",
       "      <td>32</td>\n",
       "      <td>177</td>\n",
       "      <td>37</td>\n",
       "      <td>399</td>\n",
       "      <td>463</td>\n",
       "    </tr>\n",
       "    <tr>\n",
       "      <th>1.2.826.0.1.3680043.14740</th>\n",
       "      <td>1</td>\n",
       "      <td>1</td>\n",
       "      <td>244</td>\n",
       "      <td>32</td>\n",
       "      <td>13</td>\n",
       "      <td>6</td>\n",
       "      <td>335</td>\n",
       "      <td>318</td>\n",
       "    </tr>\n",
       "    <tr>\n",
       "      <th>1.2.826.0.1.3680043.25071</th>\n",
       "      <td>1</td>\n",
       "      <td>1</td>\n",
       "      <td>216</td>\n",
       "      <td>32</td>\n",
       "      <td>40</td>\n",
       "      <td>83</td>\n",
       "      <td>304</td>\n",
       "      <td>330</td>\n",
       "    </tr>\n",
       "    <tr>\n",
       "      <th>1.2.826.0.1.3680043.8907</th>\n",
       "      <td>1</td>\n",
       "      <td>1</td>\n",
       "      <td>255</td>\n",
       "      <td>32</td>\n",
       "      <td>176</td>\n",
       "      <td>86</td>\n",
       "      <td>434</td>\n",
       "      <td>623</td>\n",
       "    </tr>\n",
       "    <tr>\n",
       "      <th>1.2.826.0.1.3680043.11757</th>\n",
       "      <td>1</td>\n",
       "      <td>1</td>\n",
       "      <td>258</td>\n",
       "      <td>32</td>\n",
       "      <td>92</td>\n",
       "      <td>70</td>\n",
       "      <td>411</td>\n",
       "      <td>439</td>\n",
       "    </tr>\n",
       "  </tbody>\n",
       "</table>\n",
       "</div>"
      ],
      "text/plain": [
       "                           C2  C2_cross_fracture  sagittal_center_slice  \\\n",
       "UID                                                                       \n",
       "1.2.826.0.1.3680043.10776   1                  1                    250   \n",
       "1.2.826.0.1.3680043.14740   1                  1                    244   \n",
       "1.2.826.0.1.3680043.25071   1                  1                    216   \n",
       "1.2.826.0.1.3680043.8907    1                  1                    255   \n",
       "1.2.826.0.1.3680043.11757   1                  1                    258   \n",
       "\n",
       "                           label_scale  left  top  right  bottom  \n",
       "UID                                                               \n",
       "1.2.826.0.1.3680043.10776           32   177   37    399     463  \n",
       "1.2.826.0.1.3680043.14740           32    13    6    335     318  \n",
       "1.2.826.0.1.3680043.25071           32    40   83    304     330  \n",
       "1.2.826.0.1.3680043.8907            32   176   86    434     623  \n",
       "1.2.826.0.1.3680043.11757           32    92   70    411     439  "
      ]
     },
     "execution_count": 10,
     "metadata": {},
     "output_type": "execute_result"
    }
   ],
   "source": [
    "# df = pd.concat((pos_df, neg_df.iloc[:len(pos_df) * ]))\n",
    "\n",
    "df = pd.concat((pos_df, neg_df))\n",
    "print(len(df))\n",
    "df.head()"
   ]
  },
  {
   "cell_type": "code",
   "execution_count": 11,
   "metadata": {
    "collapsed": false,
    "jupyter": {
     "outputs_hidden": false
    }
   },
   "outputs": [
    {
     "name": "stdout",
     "output_type": "stream",
     "text": [
      "1\n",
      "(369, 319, 3)\n"
     ]
    },
    {
     "data": {
      "image/png": "[encoded data removed]",
      "text/plain": [
       "<Figure size 864x864 with 2 Axes>"
      ]
     },
     "metadata": {
      "needs_background": "light"
     },
     "output_type": "display_data"
    }
   ],
   "source": [
    "class SagittalDataset(Dataset):\n",
    "    def __init__(self, df, image_dir, mask_dir, transform=None):\n",
    "        super().__init__()\n",
    "\n",
    "        self.df = df\n",
    "        self.image_dir = image_dir\n",
    "        self.mask_dir = mask_dir\n",
    "        self.transform = transform\n",
    "\n",
    "    def __len__(self):\n",
    "        return len(self.df) * slice_range\n",
    "\n",
    "    def __getitem__(self, idx):\n",
    "        s = self.df.iloc[idx // 5]\n",
    "        UID = s.name\n",
    "        \n",
    "        center_slice = s.sagittal_center_slice + (idx % slice_range) - int(slice_range // 2)\n",
    "        \n",
    "        r = Image.open(os.path.join(self.image_dir, UID, f\"{center_slice-1}.jpeg\"))\n",
    "        g = Image.open(os.path.join(self.image_dir, UID, f\"{center_slice-0}.jpeg\"))\n",
    "        b = Image.open(os.path.join(self.image_dir, UID, f\"{center_slice+1}.jpeg\"))\n",
    "        img = Image.merge('RGB', (r, g, b))\n",
    "        \n",
    "        \n",
    "        img = TF.crop(img, s.top, s.left, s.bottom - s.top, s.right - s.left)\n",
    "\n",
    "        mask = Image.open(os.path.join(self.mask_dir, UID, f\"{center_slice}.png\"))\n",
    "\n",
    "        label = s.C2 & s.C2_cross_fracture\n",
    "\n",
    "        if self.transform:\n",
    "            img, mask, label = self.transform(img, mask, label)\n",
    "\n",
    "        return img, mask, label\n",
    "\n",
    "\n",
    "dataset = SagittalDataset(df, IMAGES_DIR, MASK_DIR)\n",
    "img, mask, label = dataset[20]\n",
    "\n",
    "_, axs = plt.subplots(1, 2, figsize=(12, 12))\n",
    "print(label)\n",
    "axs[0].imshow(img)\n",
    "\n",
    "axs[1].imshow(mask, cmap=\"nipy_spectral\")\n",
    "\n",
    "print(np.asarray(img).shape)\n",
    "# axs[1].axhline(126)\n",
    "# axs[1].axvline(125)"
   ]
  },
  {
   "cell_type": "code",
   "execution_count": 12,
   "metadata": {
    "collapsed": false,
    "jupyter": {
     "outputs_hidden": false
    }
   },
   "outputs": [],
   "source": [
    "class DataTransform(nn.Module):\n",
    "    def __init__(self, image_size, train=True):\n",
    "        super().__init__()\n",
    "        self.train = train\n",
    "       \n",
    "        transform = [T.Resize(image_size)]\n",
    "        if self.train:\n",
    "            transform.append(T.RandomAutocontrast())\n",
    "        \n",
    "        self.transform = T.Compose(transform + [\n",
    "            T.ToTensor(), \n",
    "            T.Normalize(0.5, 0.5)\n",
    "        ])\n",
    "\n",
    "        self.mask_transform = T.Compose([\n",
    "            T.Resize(image_size, interpolation=torchvision.transforms.InterpolationMode.NEAREST),\n",
    "            T.PILToTensor(),\n",
    "            T.Lambda(lambda x: x.float()),\n",
    "            T.Normalize(0, 32)\n",
    "        ])\n",
    "\n",
    "        # self.label_transform = T.ToTensor()\n",
    "\n",
    "    def forward(self, x, mask, label):\n",
    "        \n",
    "        \n",
    "        \n",
    "        x = TF.center_crop(x, max(x.width, x.height))\n",
    "        \n",
    "        if self.train:\n",
    "            random_rotation_angle = np.random.randint(-15, 15)\n",
    "            x = TF.rotate(x, random_rotation_angle)\n",
    "            mask = TF.rotate(mask, random_rotation_angle)\n",
    "        \n",
    "        \n",
    "        x = self.transform(x)\n",
    "\n",
    "        # print(mask)\n",
    "        mask = self.mask_transform(mask)\n",
    "        \n",
    "        # simple model\n",
    "        mask[mask != 0.25] = 0\n",
    "        mask[mask > 0] = 1\n",
    "\n",
    "        label = torch.tensor(label).long()\n",
    "        return x, mask, label\n",
    "\n",
    "\n",
    "transform = DataTransform(image_size, train=True)\n",
    "val_transform = DataTransform(image_size, train=False)"
   ]
  },
  {
   "cell_type": "code",
   "execution_count": 13,
   "metadata": {
    "collapsed": false,
    "jupyter": {
     "outputs_hidden": false
    }
   },
   "outputs": [],
   "source": [
    "def split_dataset(df, train_portion=0.5):\n",
    "    df = shuffle(df)\n",
    "    train_end_index = int(len(df) * train_portion)\n",
    "    train_df = df.iloc[:train_end_index]\n",
    "    val_df = df.iloc[train_end_index:]\n",
    "    return train_df, val_df"
   ]
  },
  {
   "cell_type": "code",
   "execution_count": 14,
   "metadata": {
    "collapsed": false,
    "jupyter": {
     "outputs_hidden": false
    }
   },
   "outputs": [
    {
     "name": "stdout",
     "output_type": "stream",
     "text": [
      "933 933\n"
     ]
    }
   ],
   "source": [
    "train_df, val_df = split_dataset(df, train_portion)\n",
    "print(len(train_df), len(val_df))"
   ]
  },
  {
   "cell_type": "code",
   "execution_count": 15,
   "metadata": {
    "collapsed": false,
    "jupyter": {
     "outputs_hidden": false
    }
   },
   "outputs": [
    {
     "name": "stdout",
     "output_type": "stream",
     "text": [
      "torch.Size([3, 256, 256])\n",
      "tensor(0)\n",
      "torch.Size([1, 256, 256])\n"
     ]
    },
    {
     "data": {
      "text/plain": [
       "tensor(1.)"
      ]
     },
     "execution_count": 15,
     "metadata": {},
     "output_type": "execute_result"
    }
   ],
   "source": [
    "train_dataset = SagittalDataset(train_df, IMAGES_DIR, MASK_DIR, transform=transform)\n",
    "val_dataset = SagittalDataset(val_df, IMAGES_DIR, MASK_DIR, transform=val_transform)\n",
    "img, mask, label = train_dataset[1]\n",
    "print(img.shape)\n",
    "print(label)\n",
    "print(mask.shape)\n",
    "mask.max()"
   ]
  },
  {
   "cell_type": "code",
   "execution_count": 16,
   "metadata": {
    "collapsed": false,
    "jupyter": {
     "outputs_hidden": false
    }
   },
   "outputs": [],
   "source": [
    "def get_backbone():\n",
    "    backbone = models.resnet50(pretrained=True)\n",
    "    conv1_weight = backbone.conv1.weight\n",
    "    conv1_weight = conv1_weight.mean(dim=1).unsqueeze(1)\n",
    "\n",
    "    backbone.conv1 = nn.Conv2d(1, 64, kernel_size=(7, 7), stride=1, padding='same', bias=False)\n",
    "    backbone.conv1.weight = nn.Parameter(conv1_weight, requires_grad=True)\n",
    "\n",
    "    return nn.ModuleList([\n",
    "        nn.Sequential(\n",
    "            backbone.conv1,\n",
    "            backbone.bn1,\n",
    "            backbone.relu,\n",
    "            backbone.maxpool),\n",
    "        nn.Sequential(\n",
    "            backbone.layer1,\n",
    "            backbone.layer2,\n",
    "        ),\n",
    "        backbone.layer3,\n",
    "        backbone.layer4\n",
    "    ]), [1, 64, 512, 1024, 2048]\n",
    "\n",
    "# backbone, channels = get_backbone()\n",
    "# print(backbone)"
   ]
  },
  {
   "cell_type": "code",
   "execution_count": 17,
   "metadata": {
    "collapsed": false,
    "jupyter": {
     "outputs_hidden": false
    }
   },
   "outputs": [],
   "source": [
    "class ClassificationModel(nn.Module):\n",
    "    def __init__(self, backbone, channels, spine=2, deep=4):\n",
    "        super().__init__()\n",
    "\n",
    "        self.backbone = backbone\n",
    "        self.deep = deep\n",
    "        self.channels = channels\n",
    "        self.register_buffer('spine', torch.tensor(spine))\n",
    "        self.dw = nn.Parameter(torch.tensor(20.0, dtype=torch.float), requires_grad=False)\n",
    "        # self.register_buffer('mf', (torch.tensor(spine) * 0.125).reshape(1, 1, 1))\n",
    "        self.init_layers()\n",
    "\n",
    "    def init_layers(self):\n",
    "        self.parallel_modules_1 = self.make_parallel_modules()\n",
    "        self.parallel_modules_2 = self.make_parallel_modules()\n",
    "        self.downsampling_modules = self.make_downsampling_modules()\n",
    "        self.mask_modules = self.make_mask_modules()\n",
    "        self.classification_modules = self.make_classification_modules()\n",
    "\n",
    "    def make_parallel_modules(self):\n",
    "        parallel_modules = nn.ModuleList()\n",
    "\n",
    "        for channel in self.channels:\n",
    "            module = nn.Conv2d(channel, channel, kernel_size=1, padding='same')\n",
    "            parallel_modules.append(module)\n",
    "\n",
    "        return parallel_modules\n",
    "\n",
    "    def make_mask_modules(self):\n",
    "        mask_modules = nn.ModuleList()\n",
    "\n",
    "        for i in range(self.deep):\n",
    "            module = nn.Sequential(\n",
    "                # nn.Conv2d(self.channels[i], self.channels[i+1], kernel_size=3, stride=2, padding=1),\n",
    "                # nn.Sigmoid()\n",
    "                nn.MaxPool2d(3, stride=2, padding=1)\n",
    "            )\n",
    "            mask_modules.append(module)\n",
    "\n",
    "        return mask_modules\n",
    "\n",
    "    def make_downsampling_modules(self):\n",
    "        downsampling_modules = nn.ModuleList()\n",
    "\n",
    "        for i in range(self.deep):\n",
    "            module = nn.Sequential(\n",
    "                nn.ReLU(),\n",
    "                nn.Conv2d(self.channels[i], self.channels[i], kernel_size=1),\n",
    "                nn.ReLU(),\n",
    "                nn.Conv2d(self.channels[i], self.channels[i + 1], kernel_size=3, stride=2, padding=1),\n",
    "\n",
    "            )\n",
    "            downsampling_modules.append(module)\n",
    "\n",
    "        return downsampling_modules\n",
    "\n",
    "    def make_classification_modules(self):\n",
    "        return nn.Sequential(\n",
    "            nn.ReLU(),\n",
    "            nn.Conv2d(self.channels[-1], self.channels[-1], kernel_size=3, padding='same'),\n",
    "            nn.ReLU(inplace=True),\n",
    "            nn.Flatten(),\n",
    "            nn.Linear(self.channels[-1] * 16 * 16, 1)\n",
    "        )\n",
    "\n",
    "    def forward_recursive(self, x, modules):\n",
    "        result = []\n",
    "        out = x\n",
    "        for module in modules:\n",
    "            out = module(out)\n",
    "            result.append(out)\n",
    "\n",
    "        return result\n",
    "\n",
    "    def forward_parallel(self, inputs, modules):\n",
    "        result = []\n",
    "        for input, module in zip(inputs, modules):\n",
    "            out = module(input)\n",
    "            result.append(out)\n",
    "\n",
    "        return result\n",
    "\n",
    "    def apply_mask(self, inputs, masks):\n",
    "        result = []\n",
    "\n",
    "        for input, mask in zip(inputs, masks):\n",
    "            out = input * mask\n",
    "            result.append(out)\n",
    "\n",
    "        return result\n",
    "\n",
    "    def repeat_mask(self, mask):\n",
    "        N, H, W = mask.shape\n",
    "\n",
    "        mask[mask != (0.125 * self.spine)] = -torch.inf\n",
    "        # mask[mask == 0] = -torch.inf\n",
    "        #\n",
    "        mask  = mask.unsqueeze(1) ** 2\n",
    "        # mask = (mask.unsqueeze(1) - self.mf) ** 2\n",
    "        mask = torch.exp(-self.dw * mask)  # N, 7, H, W\n",
    "        # mask = mask.reshape(-1, 1, H, W) # N, 1, H, W\n",
    "\n",
    "        return mask\n",
    "\n",
    "    def forward_downsampling(self, features, modules):\n",
    "        out = features[0]\n",
    "        for i, module in enumerate(modules):\n",
    "            out = module(out) + features[i + 1]\n",
    "\n",
    "        return out\n",
    "\n",
    "    def forward(self, x, mask):\n",
    "        # print(x)\n",
    "        backbone_features = self.forward_recursive(x, self.backbone)\n",
    "        # check_list_nan(backbone_features, \"backbone_features\")\n",
    "\n",
    "        mask = self.repeat_mask(mask)  # 14, 1, 256, 256\n",
    "        mask_features = self.forward_recursive(mask, self.mask_modules)\n",
    "\n",
    "        # check_list_nan(mask_features, \"mask_features\")\n",
    "\n",
    "        parallel_features_1 = self.forward_parallel([x] + backbone_features, self.parallel_modules_1)\n",
    "        # 여기서 뻥튀기를 시킨다.\n",
    "        # parallel_features_1 = [feature.repeat_interleave(self.mf.shape[0], dim=0) for feature in parallel_features_1]\n",
    "\n",
    "        # check_list_nan(parallel_features_1)\n",
    "\n",
    "        masked_features = self.apply_mask(parallel_features_1, [mask] + mask_features)\n",
    "\n",
    "        # check_list_nan(masked_features)\n",
    "        out = self.forward_parallel(masked_features, self.parallel_modules_2)\n",
    "\n",
    "        # check_list_nan(out)\n",
    "        out = self.forward_downsampling(out, self.downsampling_modules)\n",
    "        out = self.classification_modules(out)\n",
    "\n",
    "        return out\n",
    "\n",
    "# model = ClassificationModel(backbone, channels).to(device)\n",
    "#\n",
    "# total_params = sum(p.numel() for p in model.parameters() if p.requires_grad)\n",
    "# print(total_params)\n",
    "\n",
    "# input = torch.randn(2, 1, 256, 256).to(device)\n",
    "# mask = torch.randn(2, 256, 256).to(device)\n",
    "# logits = model(input, mask)\n",
    "# logits.shape"
   ]
  },
  {
   "cell_type": "code",
   "execution_count": 18,
   "metadata": {},
   "outputs": [],
   "source": [
    "def get_simple_resnet_model():\n",
    "    backbone = models.resnet50(pretrained=True)\n",
    "#     conv1_weight = backbone.conv1.weight\n",
    "#     conv1_weight = conv1_weight.mean(dim=1).unsqueeze(1)\n",
    "\n",
    "#     backbone.conv1 = nn.Conv2d(1, 64, kernel_size=(7, 7), stride=1, padding='same', bias=False)\n",
    "#     backbone.conv1.weight = nn.Parameter(conv1_weight, requires_grad=True)\n",
    "    \n",
    "    backbone.fc = nn.Linear(2048, 1, bias=True)\n",
    "    return backbone"
   ]
  },
  {
   "cell_type": "code",
   "execution_count": 19,
   "metadata": {
    "collapsed": false,
    "jupyter": {
     "outputs_hidden": false
    }
   },
   "outputs": [],
   "source": [
    "train_loader = DataLoader(train_dataset, batch_size=batch_size, shuffle=True, pin_memory=False, num_workers=min(16, batch_size))\n",
    "val_loader = DataLoader(val_dataset, batch_size=batch_size, shuffle=False, pin_memory=False, num_workers=min(16, batch_size))"
   ]
  },
  {
   "cell_type": "code",
   "execution_count": 20,
   "metadata": {},
   "outputs": [
    {
     "name": "stdout",
     "output_type": "stream",
     "text": [
      "tensor([0, 0, 0, 0, 0, 1, 1, 1, 1, 1, 0, 0, 0, 0, 0, 0, 0, 0, 0, 0, 0, 0, 0, 0,\n",
      "        0, 0, 0, 0, 0, 0, 0, 0, 0, 0, 0, 0, 0, 0, 0, 0, 0, 0, 0, 0, 0, 0, 0, 0,\n",
      "        0, 0, 0, 0, 0, 0, 0, 0, 0, 0, 0, 0, 0, 0, 0, 0])\n",
      "label 0\n"
     ]
    },
    {
     "data": {
      "text/plain": [
       "<matplotlib.image.AxesImage at 0x7f4b7043c340>"
      ]
     },
     "execution_count": 20,
     "metadata": {},
     "output_type": "execute_result"
    },
    {
     "data": {
      "image/png": "[encoded data removed]",
      "text/plain": [
       "<Figure size 864x864 with 2 Axes>"
      ]
     },
     "metadata": {
      "needs_background": "light"
     },
     "output_type": "display_data"
    }
   ],
   "source": [
    "x, mask, y = next(iter(val_loader))\n",
    "print(y)\n",
    "sample_index = 11\n",
    "\n",
    "print(\"label {}\".format(y[sample_index]))\n",
    "\n",
    "_, axs = plt.subplots(1, 2, figsize=(12, 12))\n",
    "\n",
    "axs[0].imshow(mask[sample_index, 0, :, :])\n",
    "axs[1].imshow((x * mask)[sample_index, 0, :, :], cmap='bone')"
   ]
  },
  {
   "cell_type": "code",
   "execution_count": 21,
   "metadata": {
    "collapsed": false,
    "jupyter": {
     "outputs_hidden": false
    }
   },
   "outputs": [],
   "source": [
    "def loss_fn(logits, y, pos_weight=torch.tensor(1)):\n",
    "    # labels = F.one_hot(y, num_classes=7).reshape(-1, 1).float()\n",
    "\n",
    "    loss = F.binary_cross_entropy_with_logits(logits, y, pos_weight=pos_weight)\n",
    "    return loss\n"
   ]
  },
  {
   "cell_type": "code",
   "execution_count": 22,
   "metadata": {
    "collapsed": false,
    "jupyter": {
     "outputs_hidden": false
    }
   },
   "outputs": [],
   "source": [
    "def denormalize_img(x):\n",
    "    img = x.detach().cpu().numpy()\n",
    "    img = (img * 0.5) + 0.5\n",
    "    img = img.transpose(0, 2, 3, 1)\n",
    "    return img"
   ]
  },
  {
   "cell_type": "code",
   "execution_count": 23,
   "metadata": {},
   "outputs": [],
   "source": [
    "class DetectionModel(nn.Module):\n",
    "    def __init__(self, backbone, channels, deep=4, out_channels=64, n_features=1):\n",
    "        super().__init__()\n",
    "\n",
    "        self.backbone = backbone\n",
    "        self.deep = deep\n",
    "        self.channels = channels\n",
    "        self.out_channels = out_channels\n",
    "        self.n_features = n_features\n",
    "\n",
    "        self.init_layers()\n",
    "\n",
    "    def init_layers(self):\n",
    "        self.parallel_modules = self.make_parallel_modules()\n",
    "        self.upsampling_modules = self.make_upsampling_modules()\n",
    "\n",
    "        self.downsampling_modules = self.make_downsampling_modules()\n",
    "        self.classification_modules = self.make_classification_modules()\n",
    "\n",
    "    def make_classification_modules(self):\n",
    "        # the last layer\n",
    "        return nn.Sequential(\n",
    "            nn.ReLU(inplace=True),\n",
    "            nn.Conv2d(self.out_channels, 2 * self.out_channels, kernel_size=3, padding='same'),\n",
    "            nn.ReLU(inplace=True),\n",
    "            nn.Conv2d(2 * self.out_channels, self.n_features, kernel_size=1, padding='same'),\n",
    "        )\n",
    "\n",
    "    def make_parallel_modules(self):\n",
    "        parallel_modules = nn.ModuleList()\n",
    "\n",
    "        for i in range(self.deep):\n",
    "            module = nn.Sequential(\n",
    "                nn.ReLU(),\n",
    "                nn.Conv2d(self.channels[i], self.channels[i], kernel_size=3, padding='same'),\n",
    "                nn.ReLU(inplace=True),\n",
    "                nn.Conv2d(self.channels[i], self.channels[i], kernel_size=1, padding='same'),\n",
    "            )\n",
    "            parallel_modules.append(module)\n",
    "\n",
    "        return parallel_modules\n",
    "\n",
    "    def make_downsampling_modules(self):\n",
    "        return nn.ModuleList([\n",
    "            nn.Sequential(\n",
    "                self.backbone.conv1,\n",
    "                self.backbone.bn1,\n",
    "                self.backbone.relu,\n",
    "                self.backbone.maxpool),\n",
    "            nn.Sequential(\n",
    "                self.backbone.layer1,\n",
    "                self.backbone.layer2,\n",
    "            ),\n",
    "            self.backbone.layer3,\n",
    "            self.backbone.layer4\n",
    "        ])\n",
    "\n",
    "    def make_upsampling_modules(self):\n",
    "        upsampling_modules = nn.ModuleList()\n",
    "\n",
    "        for i in range(self.deep):\n",
    "            module = nn.Sequential(\n",
    "                nn.ReLU(inplace=True),\n",
    "                nn.Conv2d(self.channels[i], self.channels[i] // 2, kernel_size=3, padding='same'),\n",
    "                nn.ReLU(inplace=True),\n",
    "                nn.Conv2d(self.channels[i] // 2, self.channels[i - 1] if i > 0 else self.out_channels, kernel_size=1),\n",
    "                nn.Upsample(scale_factor=2)\n",
    "            )\n",
    "            upsampling_modules.append(module)\n",
    "\n",
    "        return upsampling_modules\n",
    "\n",
    "    def forward(self, x):\n",
    "\n",
    "        downsampling_outputs = []\n",
    "        out = x\n",
    "        for module in self.downsampling_modules:\n",
    "            out = module(out)\n",
    "            downsampling_outputs.append(out)\n",
    "\n",
    "        parallel_outputs = []\n",
    "        for i in range(len(self.parallel_modules)):\n",
    "            module = self.parallel_modules[i]\n",
    "            out = module(downsampling_outputs[i])\n",
    "            parallel_outputs.append(out)\n",
    "\n",
    "        out = 0\n",
    "        for i in range(len(self.upsampling_modules)):\n",
    "            module = self.upsampling_modules[-(i + 1)]\n",
    "            parallel_output = parallel_outputs[-(i + 1)]\n",
    "\n",
    "            up_input = out + parallel_output\n",
    "            out = module(up_input)\n",
    "\n",
    "        out = self.classification_modules(out)\n",
    "\n",
    "        return out\n",
    "\n",
    "\n",
    "def get_seg_backbone():\n",
    "    backbone = models.resnet50(pretrained=False)\n",
    "    conv1_weight = backbone.conv1.weight\n",
    "    conv1_weight = conv1_weight.mean(dim=1).unsqueeze(1)\n",
    "\n",
    "    backbone.conv1 = nn.Conv2d(1, 64, kernel_size=(7, 7), stride=1, padding='same', bias=False)\n",
    "    backbone.conv1.weight = nn.Parameter(conv1_weight, requires_grad=True)\n",
    "\n",
    "    channels = [64, 512, 1024, 2048]\n",
    "    checkpoint = f\"checkpoint/{vertical_type}_segmentation_detection_095730-epoch-20.pth\"\n",
    "    seg_model = DetectionModel(backbone, channels=channels, out_channels=channels[0], n_features=2).to(device)\n",
    "    state = torch.load(checkpoint)\n",
    "    seg_model.load_state_dict(state[\"model\"])\n",
    "    return seg_model.downsampling_modules, [1, 64, 512, 1024, 2048]\n"
   ]
  },
  {
   "cell_type": "code",
   "execution_count": 24,
   "metadata": {
    "collapsed": false,
    "jupyter": {
     "outputs_hidden": false
    }
   },
   "outputs": [],
   "source": [
    "# backbone, channels = get_backbone()\n",
    "# if backbone == \"segmentation\":\n",
    "#     backbone, channels = get_seg_backbone()\n",
    "# else:\n",
    "#     backbone, channels = get_backbone()\n",
    "# model = ClassificationModel(backbone, channels).to(device)"
   ]
  },
  {
   "cell_type": "code",
   "execution_count": 25,
   "metadata": {
    "tags": []
   },
   "outputs": [],
   "source": [
    "def get_effnet():\n",
    "    backbone = models.efficientnet_v2_s(pretrained=True)\n",
    "    \n",
    "    backbone.classifier[1] = nn.Linear(1280, 1, bias=True)\n",
    "    return backbone\n",
    "# model = get_effnet()\n",
    "# model"
   ]
  },
  {
   "cell_type": "code",
   "execution_count": 26,
   "metadata": {},
   "outputs": [],
   "source": [
    "# torch.__version__"
   ]
  },
  {
   "cell_type": "code",
   "execution_count": 27,
   "metadata": {
    "tags": []
   },
   "outputs": [
    {
     "name": "stderr",
     "output_type": "stream",
     "text": [
      "/root/miniconda3/lib/python3.8/site-packages/torchvision/models/_utils.py:208: UserWarning: The parameter 'pretrained' is deprecated since 0.13 and will be removed in 0.15, please use 'weights' instead.\n",
      "  warnings.warn(\n",
      "/root/miniconda3/lib/python3.8/site-packages/torchvision/models/_utils.py:223: UserWarning: Arguments other than a weight enum or `None` for 'weights' are deprecated since 0.13 and will be removed in 0.15. The current behavior is equivalent to passing `weights=EfficientNet_V2_S_Weights.IMAGENET1K_V1`. You can also use `weights=EfficientNet_V2_S_Weights.DEFAULT` to get the most up-to-date weights.\n",
      "  warnings.warn(msg)\n"
     ]
    }
   ],
   "source": [
    "# model = get_simple_resnet_model()\n",
    "model = get_effnet()\n",
    "model = model.to(device)\n",
    "# model"
   ]
  },
  {
   "cell_type": "code",
   "execution_count": 28,
   "metadata": {
    "tags": []
   },
   "outputs": [
    {
     "name": "stdout",
     "output_type": "stream",
     "text": [
      "tensor([0, 0, 0, 0, 0, 1, 1, 1, 1, 1, 0, 0, 0, 0, 0, 0, 0, 0, 0, 0, 0, 0, 0, 0,\n",
      "        0, 0, 0, 0, 0, 0, 0, 0, 0, 0, 0, 0, 0, 0, 0, 0, 0, 0, 0, 0, 0, 0, 0, 0,\n",
      "        0, 0, 0, 0, 0, 0, 0, 0, 0, 0, 0, 0, 0, 0, 0, 0])\n",
      "0.8032870292663574\n",
      "tensor([0., 0., 0., 0., 0., 1., 1., 1., 1., 1., 0., 0., 0., 0., 0., 0., 0., 0.,\n",
      "        0., 0., 0., 0., 0., 0., 0., 0., 0., 0., 0., 0., 0., 0., 0., 0., 0., 0.,\n",
      "        0., 0., 0., 0., 0., 0., 0., 0., 0., 0., 0., 0., 0., 0., 0., 0., 0., 0.,\n",
      "        0., 0., 0., 0., 0., 0., 0., 0., 0., 0.], device='cuda:0')\n",
      "tensor([1., 1., 1., 1., 1., 1., 1., 0., 1., 1., 1., 1., 1., 1., 1., 1., 0., 1.,\n",
      "        1., 1., 1., 1., 1., 1., 1., 1., 0., 1., 1., 1., 0., 1., 1., 1., 0., 0.,\n",
      "        1., 1., 1., 1., 1., 1., 0., 1., 0., 1., 0., 1., 0., 1., 1., 1., 0., 0.,\n",
      "        1., 1., 0., 1., 1., 0., 0., 1., 0., 1.], device='cuda:0')\n",
      "tensor(0.2969, device='cuda:0')\n"
     ]
    }
   ],
   "source": [
    "# test_batch_size=16\n",
    "\n",
    "# val_loader = DataLoader(val_dataset, batch_size=batch_size, shuffle=False, pin_memory=False, num_workers=min(16, batch_size))\n",
    "\n",
    "# test_loader = DataLoader(val_dataset, batch_size=test_batch_size, shuffle=False, pin_memory=False, num_workers=test_batch_size)\n",
    "# val_iter = iter(val_loader)\n",
    "x, mask, y = next(iter(val_loader))\n",
    "print(y)\n",
    "x = x.to(device)\n",
    "mask = mask.to(device)\n",
    "x = x * mask\n",
    "# mask = mask.to(device)\n",
    "y = y.to(device).float()\n",
    "\n",
    "logits = model(x).flatten()\n",
    "loss = loss_fn(logits, y, pos_weight=torch.tensor(2))\n",
    "print(loss.item())\n",
    "pred = logits.sigmoid().ge(0.5).float()\n",
    "print(y)\n",
    "print(pred)\n",
    "acc = (pred == y).float().mean()\n",
    "print(acc)\n",
    "\n",
    "del x\n",
    "del mask\n",
    "del y"
   ]
  },
  {
   "cell_type": "code",
   "execution_count": 29,
   "metadata": {
    "collapsed": false,
    "jupyter": {
     "outputs_hidden": false
    }
   },
   "outputs": [],
   "source": [
    "optimizer = optim.AdamW(model.parameters(), lr=lr, weight_decay=wd)\n",
    "scaler = torch.cuda.amp.GradScaler(enabled=(device == 'cuda'))"
   ]
  },
  {
   "cell_type": "code",
   "execution_count": 30,
   "metadata": {
    "tags": []
   },
   "outputs": [],
   "source": [
    "scheduler = optim.lr_scheduler.MultiStepLR(optimizer, milestones=milestones, gamma=0.5)\n"
   ]
  },
  {
   "cell_type": "code",
   "execution_count": 31,
   "metadata": {},
   "outputs": [],
   "source": [
    "# def apply_mask(x, mask):\n",
    "    "
   ]
  },
  {
   "cell_type": "code",
   "execution_count": 32,
   "metadata": {
    "collapsed": false,
    "jupyter": {
     "outputs_hidden": false
    }
   },
   "outputs": [],
   "source": [
    "def train_one_epoch(e, model, dataloader):\n",
    "    model.train()\n",
    "    train_iter = tqdm(dataloader)\n",
    "    losses = []\n",
    "    epoch_iteration = len(dataloader)\n",
    "\n",
    "    for i, (x, mask, y) in enumerate(train_iter):\n",
    "        x = x.to(device)\n",
    "        mask = mask.to(device)\n",
    "        x = x * mask\n",
    "        y = y.to(device).float()\n",
    "\n",
    "        with torch.cuda.amp.autocast(device == 'cuda'):\n",
    "            logits = model(x).flatten()\n",
    "            loss = loss_fn(logits, y, pos_weight=pos_weight)\n",
    "            acc = (logits.sigmoid().ge(0.5).float() == y).float().mean()\n",
    "\n",
    "        optimizer.zero_grad()\n",
    "        scaler.scale(loss).backward()\n",
    "        nn.utils.clip_grad_norm_(model.parameters(), 1.)\n",
    "        scaler.step(optimizer)\n",
    "        scaler.update()\n",
    "\n",
    "        train_iter.set_description(f\"t {e} loss {loss.item():.4f} acc {acc.item():.4f}\")\n",
    "\n",
    "        losses.append(loss.item())\n",
    "\n",
    "        if wandb.run is not None:\n",
    "            lr_logs = {f\"last_lr_{i}\": float(v) for i, v in enumerate(scheduler.get_last_lr())}\n",
    "            wandb.log({\n",
    "                'train_loss': loss.item(),\n",
    "                'train_acc' : acc.item(),\n",
    "                'epoch': e,\n",
    "                'train_iteration': i + e * epoch_iteration,\n",
    "                **lr_logs,\n",
    "            })\n",
    "\n",
    "        # if i % 10 == 0:\n",
    "        #     with torch.no_grad():\n",
    "        #         infer_bad_sample(wandb_log=True)\n",
    "        #     model.train()\n",
    "\n",
    "    return np.mean(losses)"
   ]
  },
  {
   "cell_type": "code",
   "execution_count": 33,
   "metadata": {
    "collapsed": false,
    "jupyter": {
     "outputs_hidden": false
    }
   },
   "outputs": [],
   "source": [
    "@torch.no_grad()\n",
    "def evaluate(e, model, dataloader):\n",
    "    model.eval()\n",
    "    \n",
    "    eval_iter = tqdm(dataloader)\n",
    "    losses = []\n",
    "    epoch_iteration = len(dataloader)\n",
    "    \n",
    "    eps = 1e-3\n",
    "\n",
    "    for i, (x, mask, y) in enumerate(eval_iter):\n",
    "        x = x.to(device)\n",
    "        mask = mask.to(device)\n",
    "        x = x * mask\n",
    "        # mask = mask.to(device)\n",
    "        y = y.to(device).float()\n",
    "\n",
    "        logits = model(x).flatten()\n",
    "        prob = logits.sigmoid()\n",
    "        prob = prob.clip(min=eps, max=(1 - eps))\n",
    "        loss = F.binary_cross_entropy(prob, y)\n",
    "        pred = prob.ge(0.5).float()\n",
    "\n",
    "        acc = (pred == y).float().mean()\n",
    "        \n",
    "        # pick = (pred.long() && y.long()).sum()\n",
    "\n",
    "        eval_iter.set_description(f\"e {e} loss {loss.item():.4f} ecc {acc.item():.4f}\")\n",
    "\n",
    "        losses.append(loss.item())\n",
    "\n",
    "        if wandb.run is not None:\n",
    "            wandb.log({\n",
    "                'eval_loss': loss.item(),\n",
    "                'eval_acc' : acc.item(),\n",
    "                'epoch': e,\n",
    "                'eval_iteration': i + e * epoch_iteration,\n",
    "            })\n",
    "    return np.mean(losses)"
   ]
  },
  {
   "cell_type": "code",
   "execution_count": 34,
   "metadata": {
    "collapsed": false,
    "jupyter": {
     "outputs_hidden": false
    }
   },
   "outputs": [],
   "source": [
    "epoch = 0"
   ]
  },
  {
   "cell_type": "code",
   "execution_count": 35,
   "metadata": {
    "collapsed": false,
    "jupyter": {
     "outputs_hidden": false
    }
   },
   "outputs": [
    {
     "name": "stderr",
     "output_type": "stream",
     "text": [
      "e 0 loss 0.7109 ecc 0.3509: 100%|██████████| 73/73 [00:10<00:00,  7.13it/s]\n",
      "t 0 loss 0.5227 acc 0.8772: 100%|██████████| 73/73 [00:18<00:00,  3.94it/s]\n",
      "e 0 loss 0.3230 ecc 0.8246: 100%|██████████| 73/73 [00:11<00:00,  6.61it/s]\n"
     ]
    },
    {
     "name": "stdout",
     "output_type": "stream",
     "text": [
      "train loss 0.45834703416857003 eval loss 0.2242089044557859\n"
     ]
    },
    {
     "name": "stderr",
     "output_type": "stream",
     "text": [
      "t 1 loss 0.2792 acc 0.9123: 100%|██████████| 73/73 [00:17<00:00,  4.07it/s]\n",
      "e 1 loss 0.2272 ecc 0.8246: 100%|██████████| 73/73 [00:11<00:00,  6.63it/s]\n"
     ]
    },
    {
     "name": "stdout",
     "output_type": "stream",
     "text": [
      "train loss 0.30036666815819807 eval loss 0.18499868580025353\n"
     ]
    },
    {
     "name": "stderr",
     "output_type": "stream",
     "text": [
      "t 2 loss 0.4165 acc 0.9649: 100%|██████████| 73/73 [00:17<00:00,  4.06it/s]\n",
      "e 2 loss 0.1505 ecc 0.9298: 100%|██████████| 73/73 [00:10<00:00,  6.68it/s]\n"
     ]
    },
    {
     "name": "stdout",
     "output_type": "stream",
     "text": [
      "train loss 0.23593854516336363 eval loss 0.15719395916755885\n"
     ]
    },
    {
     "name": "stderr",
     "output_type": "stream",
     "text": [
      "t 3 loss 0.0574 acc 1.0000: 100%|██████████| 73/73 [00:18<00:00,  3.97it/s]\n",
      "e 3 loss 0.1006 ecc 0.9474: 100%|██████████| 73/73 [00:11<00:00,  6.51it/s]\n"
     ]
    },
    {
     "name": "stdout",
     "output_type": "stream",
     "text": [
      "train loss 0.15327843186789997 eval loss 0.1489874806433712\n"
     ]
    },
    {
     "name": "stderr",
     "output_type": "stream",
     "text": [
      "t 4 loss 0.0821 acc 0.9649: 100%|██████████| 73/73 [00:18<00:00,  4.01it/s]\n",
      "e 4 loss 0.2721 ecc 0.8947: 100%|██████████| 73/73 [00:11<00:00,  6.58it/s]\n"
     ]
    },
    {
     "name": "stdout",
     "output_type": "stream",
     "text": [
      "train loss 0.1138687798983022 eval loss 0.14341741930438232\n"
     ]
    },
    {
     "name": "stderr",
     "output_type": "stream",
     "text": [
      "t 5 loss 0.1017 acc 0.9825: 100%|██████████| 73/73 [00:18<00:00,  4.05it/s]\n",
      "e 5 loss 0.3596 ecc 0.8772: 100%|██████████| 73/73 [00:10<00:00,  7.04it/s]\n"
     ]
    },
    {
     "name": "stdout",
     "output_type": "stream",
     "text": [
      "train loss 0.10526931840824345 eval loss 0.16156020506336163\n"
     ]
    },
    {
     "name": "stderr",
     "output_type": "stream",
     "text": [
      "t 6 loss 0.0205 acc 0.9825: 100%|██████████| 73/73 [00:17<00:00,  4.15it/s]\n",
      "e 6 loss 0.1899 ecc 0.9649: 100%|██████████| 73/73 [00:10<00:00,  6.93it/s]\n"
     ]
    },
    {
     "name": "stdout",
     "output_type": "stream",
     "text": [
      "train loss 0.07464361552480761 eval loss 0.24417357045793522\n"
     ]
    },
    {
     "name": "stderr",
     "output_type": "stream",
     "text": [
      "t 7 loss 0.0126 acc 1.0000: 100%|██████████| 73/73 [00:18<00:00,  4.00it/s]\n",
      "e 7 loss 0.1352 ecc 0.9649: 100%|██████████| 73/73 [00:10<00:00,  6.72it/s]\n"
     ]
    },
    {
     "name": "stdout",
     "output_type": "stream",
     "text": [
      "train loss 0.07379653025896939 eval loss 0.2811123972729946\n"
     ]
    },
    {
     "name": "stderr",
     "output_type": "stream",
     "text": [
      "t 8 loss 0.0001 acc 1.0000: 100%|██████████| 73/73 [00:17<00:00,  4.07it/s]\n",
      "e 8 loss 0.3131 ecc 0.9298: 100%|██████████| 73/73 [00:10<00:00,  6.79it/s]\n"
     ]
    },
    {
     "name": "stdout",
     "output_type": "stream",
     "text": [
      "train loss 0.06248646954619501 eval loss 0.24932176513718568\n"
     ]
    },
    {
     "name": "stderr",
     "output_type": "stream",
     "text": [
      "t 9 loss 0.5137 acc 0.9649: 100%|██████████| 73/73 [00:18<00:00,  4.03it/s]\n",
      "e 9 loss 0.9736 ecc 0.8596: 100%|██████████| 73/73 [00:10<00:00,  6.66it/s]\n"
     ]
    },
    {
     "name": "stdout",
     "output_type": "stream",
     "text": [
      "train loss 0.19343719369584356 eval loss 0.3275304438501647\n"
     ]
    },
    {
     "name": "stderr",
     "output_type": "stream",
     "text": [
      "t 10 loss 0.0514 acc 0.9825: 100%|██████████| 73/73 [00:18<00:00,  4.02it/s]\n",
      "e 10 loss 0.5846 ecc 0.8947: 100%|██████████| 73/73 [00:10<00:00,  6.67it/s]\n"
     ]
    },
    {
     "name": "stdout",
     "output_type": "stream",
     "text": [
      "train loss 0.14920167681484225 eval loss 0.2940506519054458\n"
     ]
    },
    {
     "name": "stderr",
     "output_type": "stream",
     "text": [
      "t 11 loss 0.6303 acc 0.9649: 100%|██████████| 73/73 [00:17<00:00,  4.11it/s]\n",
      "e 11 loss 0.6396 ecc 0.8947: 100%|██████████| 73/73 [00:10<00:00,  6.76it/s]\n"
     ]
    },
    {
     "name": "stdout",
     "output_type": "stream",
     "text": [
      "train loss 0.13739857273210948 eval loss 0.2535061753316693\n"
     ]
    },
    {
     "name": "stderr",
     "output_type": "stream",
     "text": [
      "t 12 loss 0.0042 acc 1.0000: 100%|██████████| 73/73 [00:17<00:00,  4.06it/s]\n",
      "e 12 loss 0.1936 ecc 0.9474: 100%|██████████| 73/73 [00:10<00:00,  6.77it/s]\n"
     ]
    },
    {
     "name": "stdout",
     "output_type": "stream",
     "text": [
      "train loss 0.12566489644412251 eval loss 0.27226303569806665\n"
     ]
    },
    {
     "name": "stderr",
     "output_type": "stream",
     "text": [
      "t 13 loss 0.1531 acc 0.9825: 100%|██████████| 73/73 [00:17<00:00,  4.20it/s]\n",
      "e 13 loss 0.3645 ecc 0.9474: 100%|██████████| 73/73 [00:10<00:00,  6.78it/s]\n"
     ]
    },
    {
     "name": "stdout",
     "output_type": "stream",
     "text": [
      "train loss 0.1181696382851599 eval loss 0.2264223459195856\n"
     ]
    },
    {
     "name": "stderr",
     "output_type": "stream",
     "text": [
      "t 14 loss 0.0010 acc 1.0000: 100%|██████████| 73/73 [00:17<00:00,  4.07it/s]\n",
      "e 14 loss 0.2424 ecc 0.9649: 100%|██████████| 73/73 [00:10<00:00,  6.73it/s]\n"
     ]
    },
    {
     "name": "stdout",
     "output_type": "stream",
     "text": [
      "train loss 0.1118548334612092 eval loss 0.21007833741477702\n"
     ]
    },
    {
     "name": "stderr",
     "output_type": "stream",
     "text": [
      "t 15 loss 0.0000 acc 1.0000: 100%|██████████| 73/73 [00:17<00:00,  4.12it/s]\n",
      "e 15 loss 0.3645 ecc 0.9474: 100%|██████████| 73/73 [00:10<00:00,  6.80it/s]\n"
     ]
    },
    {
     "name": "stdout",
     "output_type": "stream",
     "text": [
      "train loss 0.1254390243426719 eval loss 0.2648512675229154\n"
     ]
    },
    {
     "name": "stderr",
     "output_type": "stream",
     "text": [
      "t 16 loss 0.0000 acc 1.0000: 100%|██████████| 73/73 [00:17<00:00,  4.20it/s]\n",
      "e 16 loss 0.2437 ecc 0.9649: 100%|██████████| 73/73 [00:11<00:00,  6.52it/s]\n"
     ]
    },
    {
     "name": "stdout",
     "output_type": "stream",
     "text": [
      "train loss 0.030259433566668888 eval loss 0.26286958774220043\n"
     ]
    },
    {
     "name": "stderr",
     "output_type": "stream",
     "text": [
      "t 17 loss 0.0000 acc 1.0000: 100%|██████████| 73/73 [00:17<00:00,  4.08it/s]\n",
      "e 17 loss 0.3645 ecc 0.9474: 100%|██████████| 73/73 [00:10<00:00,  6.84it/s]\n"
     ]
    },
    {
     "name": "stdout",
     "output_type": "stream",
     "text": [
      "train loss 0.037206802157232245 eval loss 0.2487430477798725\n"
     ]
    },
    {
     "name": "stderr",
     "output_type": "stream",
     "text": [
      "t 18 loss 0.0000 acc 1.0000: 100%|██████████| 73/73 [00:17<00:00,  4.08it/s]\n",
      "e 18 loss 0.2439 ecc 0.9649: 100%|██████████| 73/73 [00:11<00:00,  6.57it/s]\n"
     ]
    },
    {
     "name": "stdout",
     "output_type": "stream",
     "text": [
      "train loss 0.04308407631033313 eval loss 0.23768394931589495\n"
     ]
    },
    {
     "name": "stderr",
     "output_type": "stream",
     "text": [
      "t 19 loss 0.0001 acc 1.0000: 100%|██████████| 73/73 [00:18<00:00,  3.92it/s]\n",
      "e 19 loss 0.2433 ecc 0.9649: 100%|██████████| 73/73 [00:10<00:00,  6.95it/s]\n"
     ]
    },
    {
     "name": "stdout",
     "output_type": "stream",
     "text": [
      "train loss 0.01511754852528499 eval loss 0.24447931547661964\n"
     ]
    },
    {
     "name": "stderr",
     "output_type": "stream",
     "text": [
      "t 20 loss 0.0000 acc 1.0000: 100%|██████████| 73/73 [00:17<00:00,  4.08it/s]\n",
      "e 20 loss 0.2433 ecc 0.9649: 100%|██████████| 73/73 [00:10<00:00,  6.66it/s]\n"
     ]
    },
    {
     "name": "stdout",
     "output_type": "stream",
     "text": [
      "train loss 0.04264630205956302 eval loss 0.24656217041017156\n"
     ]
    },
    {
     "name": "stderr",
     "output_type": "stream",
     "text": [
      "t 21 loss 0.0000 acc 1.0000: 100%|██████████| 73/73 [00:17<00:00,  4.08it/s]\n",
      "e 21 loss 0.2556 ecc 0.9474: 100%|██████████| 73/73 [00:11<00:00,  6.55it/s]\n"
     ]
    },
    {
     "name": "stdout",
     "output_type": "stream",
     "text": [
      "train loss 0.02146095379922898 eval loss 0.259221700833447\n"
     ]
    },
    {
     "name": "stderr",
     "output_type": "stream",
     "text": [
      "t 22 loss 0.0000 acc 1.0000: 100%|██████████| 73/73 [00:17<00:00,  4.12it/s]\n",
      "e 22 loss 0.2433 ecc 0.9649: 100%|██████████| 73/73 [00:11<00:00,  6.56it/s]\n"
     ]
    },
    {
     "name": "stdout",
     "output_type": "stream",
     "text": [
      "train loss 0.03613319824356793 eval loss 0.2269593530832088\n"
     ]
    },
    {
     "name": "stderr",
     "output_type": "stream",
     "text": [
      "t 23 loss 0.0000 acc 1.0000: 100%|██████████| 73/73 [00:17<00:00,  4.12it/s]\n",
      "e 23 loss 0.2433 ecc 0.9649: 100%|██████████| 73/73 [00:10<00:00,  6.86it/s]\n"
     ]
    },
    {
     "name": "stdout",
     "output_type": "stream",
     "text": [
      "train loss 0.01761635989750445 eval loss 0.23479125873434473\n"
     ]
    },
    {
     "name": "stderr",
     "output_type": "stream",
     "text": [
      "t 24 loss 0.0000 acc 1.0000: 100%|██████████| 73/73 [00:18<00:00,  4.03it/s]\n",
      "e 24 loss 0.2433 ecc 0.9649: 100%|██████████| 73/73 [00:10<00:00,  6.71it/s]\n"
     ]
    },
    {
     "name": "stdout",
     "output_type": "stream",
     "text": [
      "train loss 0.008640266640068494 eval loss 0.2529169730555062\n"
     ]
    },
    {
     "name": "stderr",
     "output_type": "stream",
     "text": [
      "t 25 loss 0.0000 acc 1.0000: 100%|██████████| 73/73 [00:17<00:00,  4.10it/s]\n",
      "e 25 loss 0.2433 ecc 0.9649: 100%|██████████| 73/73 [00:10<00:00,  6.85it/s]\n"
     ]
    },
    {
     "name": "stdout",
     "output_type": "stream",
     "text": [
      "train loss 0.03237170799989989 eval loss 0.22138747029733677\n"
     ]
    },
    {
     "name": "stderr",
     "output_type": "stream",
     "text": [
      "t 26 loss 0.0000 acc 1.0000: 100%|██████████| 73/73 [00:18<00:00,  3.97it/s]\n",
      "e 26 loss 0.2433 ecc 0.9649: 100%|██████████| 73/73 [00:10<00:00,  6.76it/s]\n"
     ]
    },
    {
     "name": "stdout",
     "output_type": "stream",
     "text": [
      "train loss 0.007862931794048142 eval loss 0.2633043700089193\n"
     ]
    },
    {
     "name": "stderr",
     "output_type": "stream",
     "text": [
      "t 27 loss 0.0000 acc 1.0000: 100%|██████████| 73/73 [00:17<00:00,  4.06it/s]\n",
      "e 27 loss 0.2433 ecc 0.9649: 100%|██████████| 73/73 [00:10<00:00,  6.78it/s]\n"
     ]
    },
    {
     "name": "stdout",
     "output_type": "stream",
     "text": [
      "train loss 0.022353237403659253 eval loss 0.2560680901092694\n"
     ]
    },
    {
     "name": "stderr",
     "output_type": "stream",
     "text": [
      "t 28 loss 0.0000 acc 1.0000: 100%|██████████| 73/73 [00:17<00:00,  4.18it/s]\n",
      "e 28 loss 0.2433 ecc 0.9649: 100%|██████████| 73/73 [00:10<00:00,  6.80it/s]\n"
     ]
    },
    {
     "name": "stdout",
     "output_type": "stream",
     "text": [
      "train loss 0.012088989661818872 eval loss 0.24961688629932038\n"
     ]
    },
    {
     "name": "stderr",
     "output_type": "stream",
     "text": [
      "t 29 loss 0.0000 acc 1.0000: 100%|██████████| 73/73 [00:17<00:00,  4.07it/s]\n",
      "e 29 loss 0.2433 ecc 0.9649: 100%|██████████| 73/73 [00:11<00:00,  6.56it/s]\n"
     ]
    },
    {
     "name": "stdout",
     "output_type": "stream",
     "text": [
      "train loss 0.027378173050605113 eval loss 0.30066185295964554\n"
     ]
    },
    {
     "name": "stderr",
     "output_type": "stream",
     "text": [
      "t 30 loss 0.0000 acc 1.0000: 100%|██████████| 73/73 [00:17<00:00,  4.11it/s]\n",
      "e 30 loss 0.2433 ecc 0.9649: 100%|██████████| 73/73 [00:10<00:00,  6.81it/s]\n"
     ]
    },
    {
     "name": "stdout",
     "output_type": "stream",
     "text": [
      "train loss 0.014409379017860017 eval loss 0.25945549531144485\n"
     ]
    },
    {
     "name": "stderr",
     "output_type": "stream",
     "text": [
      "t 31 loss 0.0000 acc 1.0000: 100%|██████████| 73/73 [00:18<00:00,  4.03it/s]\n",
      "e 31 loss 0.2433 ecc 0.9649: 100%|██████████| 73/73 [00:10<00:00,  6.76it/s]\n"
     ]
    },
    {
     "name": "stdout",
     "output_type": "stream",
     "text": [
      "train loss 0.002625592711378996 eval loss 0.24779357788574002\n"
     ]
    },
    {
     "name": "stderr",
     "output_type": "stream",
     "text": [
      "t 32 loss 0.0000 acc 1.0000: 100%|██████████| 73/73 [00:17<00:00,  4.10it/s]\n",
      "e 32 loss 0.2433 ecc 0.9649: 100%|██████████| 73/73 [00:11<00:00,  6.63it/s]\n"
     ]
    },
    {
     "name": "stdout",
     "output_type": "stream",
     "text": [
      "train loss 0.015207198605950094 eval loss 0.22899501778867912\n"
     ]
    },
    {
     "name": "stderr",
     "output_type": "stream",
     "text": [
      "t 33 loss 0.0000 acc 1.0000: 100%|██████████| 73/73 [00:17<00:00,  4.10it/s]\n",
      "e 33 loss 0.3645 ecc 0.9474: 100%|██████████| 73/73 [00:10<00:00,  6.91it/s]\n"
     ]
    },
    {
     "name": "stdout",
     "output_type": "stream",
     "text": [
      "train loss 0.015285101192877694 eval loss 0.24529211292336758\n"
     ]
    },
    {
     "name": "stderr",
     "output_type": "stream",
     "text": [
      "t 34 loss 0.0000 acc 1.0000: 100%|██████████| 73/73 [00:18<00:00,  4.03it/s]\n",
      "e 34 loss 0.3645 ecc 0.9474: 100%|██████████| 73/73 [00:11<00:00,  6.63it/s]\n"
     ]
    },
    {
     "name": "stdout",
     "output_type": "stream",
     "text": [
      "train loss 0.019108333641290384 eval loss 0.27468640499186947\n"
     ]
    },
    {
     "name": "stderr",
     "output_type": "stream",
     "text": [
      "t 35 loss 0.0000 acc 1.0000: 100%|██████████| 73/73 [00:17<00:00,  4.12it/s]\n",
      "e 35 loss 0.1636 ecc 0.9649: 100%|██████████| 73/73 [00:10<00:00,  6.64it/s]\n"
     ]
    },
    {
     "name": "stdout",
     "output_type": "stream",
     "text": [
      "train loss 0.016750394499718633 eval loss 0.24732943891056444\n"
     ]
    },
    {
     "name": "stderr",
     "output_type": "stream",
     "text": [
      "t 36 loss 0.0000 acc 1.0000: 100%|██████████| 73/73 [00:18<00:00,  3.97it/s]\n",
      "e 36 loss 0.2433 ecc 0.9649: 100%|██████████| 73/73 [00:10<00:00,  6.87it/s]\n"
     ]
    },
    {
     "name": "stdout",
     "output_type": "stream",
     "text": [
      "train loss 0.00989353071860874 eval loss 0.26821772760252327\n"
     ]
    },
    {
     "name": "stderr",
     "output_type": "stream",
     "text": [
      "t 37 loss 0.0000 acc 1.0000: 100%|██████████| 73/73 [00:17<00:00,  4.09it/s]\n",
      "e 37 loss 0.1629 ecc 0.9649: 100%|██████████| 73/73 [00:11<00:00,  6.54it/s]\n"
     ]
    },
    {
     "name": "stdout",
     "output_type": "stream",
     "text": [
      "train loss 0.017659447294625114 eval loss 0.26585982523839413\n"
     ]
    },
    {
     "name": "stderr",
     "output_type": "stream",
     "text": [
      "t 38 loss 0.0000 acc 1.0000: 100%|██████████| 73/73 [00:17<00:00,  4.15it/s]\n",
      "e 38 loss 0.2433 ecc 0.9649: 100%|██████████| 73/73 [00:10<00:00,  6.69it/s]\n"
     ]
    },
    {
     "name": "stdout",
     "output_type": "stream",
     "text": [
      "train loss 0.0025489848834103646 eval loss 0.22414596880664922\n"
     ]
    },
    {
     "name": "stderr",
     "output_type": "stream",
     "text": [
      "t 39 loss 0.0000 acc 1.0000: 100%|██████████| 73/73 [00:17<00:00,  4.10it/s]\n",
      "e 39 loss 0.2436 ecc 0.9649: 100%|██████████| 73/73 [00:10<00:00,  6.64it/s]\n"
     ]
    },
    {
     "name": "stdout",
     "output_type": "stream",
     "text": [
      "train loss 0.009856787954404998 eval loss 0.23703635564035647\n"
     ]
    },
    {
     "name": "stderr",
     "output_type": "stream",
     "text": [
      "t 40 loss 0.0000 acc 1.0000: 100%|██████████| 73/73 [00:17<00:00,  4.17it/s]\n",
      "e 40 loss 0.5713 ecc 0.9123: 100%|██████████| 73/73 [00:10<00:00,  6.81it/s]\n"
     ]
    },
    {
     "name": "stdout",
     "output_type": "stream",
     "text": [
      "train loss 0.021535312986522705 eval loss 0.27773938250364355\n"
     ]
    },
    {
     "name": "stderr",
     "output_type": "stream",
     "text": [
      "t 41 loss 0.0000 acc 1.0000: 100%|██████████| 73/73 [00:17<00:00,  4.13it/s]\n",
      "e 41 loss 0.2518 ecc 0.9649: 100%|██████████| 73/73 [00:10<00:00,  6.82it/s]\n"
     ]
    },
    {
     "name": "stdout",
     "output_type": "stream",
     "text": [
      "train loss 0.0029484416445449374 eval loss 0.2563864615784116\n"
     ]
    },
    {
     "name": "stderr",
     "output_type": "stream",
     "text": [
      "t 42 loss 0.0000 acc 1.0000: 100%|██████████| 73/73 [00:17<00:00,  4.13it/s]\n",
      "e 42 loss 0.2433 ecc 0.9649: 100%|██████████| 73/73 [00:10<00:00,  6.99it/s]\n"
     ]
    },
    {
     "name": "stdout",
     "output_type": "stream",
     "text": [
      "train loss 0.0003150556012650029 eval loss 0.2580672972468812\n"
     ]
    },
    {
     "name": "stderr",
     "output_type": "stream",
     "text": [
      "t 43 loss 0.0000 acc 1.0000: 100%|██████████| 73/73 [00:17<00:00,  4.18it/s]\n",
      "e 43 loss 0.2433 ecc 0.9649: 100%|██████████| 73/73 [00:10<00:00,  6.81it/s]\n"
     ]
    },
    {
     "name": "stdout",
     "output_type": "stream",
     "text": [
      "train loss 2.0878040790878716e-08 eval loss 0.26255981248089\n"
     ]
    },
    {
     "name": "stderr",
     "output_type": "stream",
     "text": [
      "t 44 loss 0.0000 acc 1.0000: 100%|██████████| 73/73 [00:17<00:00,  4.21it/s]\n",
      "e 44 loss 0.2434 ecc 0.9649: 100%|██████████| 73/73 [00:10<00:00,  6.90it/s]\n"
     ]
    },
    {
     "name": "stdout",
     "output_type": "stream",
     "text": [
      "train loss 0.008919406981268472 eval loss 0.24861902840537567\n"
     ]
    },
    {
     "name": "stderr",
     "output_type": "stream",
     "text": [
      "t 45 loss 0.0000 acc 1.0000: 100%|██████████| 73/73 [00:18<00:00,  4.04it/s]\n",
      "  0%|          | 0/73 [00:03<?, ?it/s]\n"
     ]
    },
    {
     "ename": "KeyboardInterrupt",
     "evalue": "",
     "output_type": "error",
     "traceback": [
      "\u001B[0;31m---------------------------------------------------------------------------\u001B[0m",
      "\u001B[0;31mKeyboardInterrupt\u001B[0m                         Traceback (most recent call last)",
      "\u001B[0;32m/tmp/ipykernel_519700/2639003481.py\u001B[0m in \u001B[0;36m<module>\u001B[0;34m\u001B[0m\n\u001B[1;32m      7\u001B[0m     \u001B[0mtrain_loss\u001B[0m \u001B[0;34m=\u001B[0m \u001B[0mtrain_one_epoch\u001B[0m\u001B[0;34m(\u001B[0m\u001B[0mepoch\u001B[0m\u001B[0;34m,\u001B[0m \u001B[0mmodel\u001B[0m\u001B[0;34m,\u001B[0m \u001B[0mtrain_loader\u001B[0m\u001B[0;34m)\u001B[0m\u001B[0;34m\u001B[0m\u001B[0;34m\u001B[0m\u001B[0m\n\u001B[1;32m      8\u001B[0m \u001B[0;34m\u001B[0m\u001B[0m\n\u001B[0;32m----> 9\u001B[0;31m     \u001B[0meval_loss\u001B[0m \u001B[0;34m=\u001B[0m \u001B[0mevaluate\u001B[0m\u001B[0;34m(\u001B[0m\u001B[0mepoch\u001B[0m\u001B[0;34m,\u001B[0m \u001B[0mmodel\u001B[0m\u001B[0;34m,\u001B[0m \u001B[0mval_loader\u001B[0m\u001B[0;34m)\u001B[0m\u001B[0;34m\u001B[0m\u001B[0;34m\u001B[0m\u001B[0m\n\u001B[0m\u001B[1;32m     10\u001B[0m \u001B[0;34m\u001B[0m\u001B[0m\n\u001B[1;32m     11\u001B[0m     \u001B[0mprint\u001B[0m\u001B[0;34m(\u001B[0m\u001B[0;34mf\"train loss {train_loss} eval loss {eval_loss}\"\u001B[0m\u001B[0;34m)\u001B[0m\u001B[0;34m\u001B[0m\u001B[0;34m\u001B[0m\u001B[0m\n",
      "\u001B[0;32m~/miniconda3/lib/python3.8/site-packages/torch/autograd/grad_mode.py\u001B[0m in \u001B[0;36mdecorate_context\u001B[0;34m(*args, **kwargs)\u001B[0m\n\u001B[1;32m     25\u001B[0m         \u001B[0;32mdef\u001B[0m \u001B[0mdecorate_context\u001B[0m\u001B[0;34m(\u001B[0m\u001B[0;34m*\u001B[0m\u001B[0margs\u001B[0m\u001B[0;34m,\u001B[0m \u001B[0;34m**\u001B[0m\u001B[0mkwargs\u001B[0m\u001B[0;34m)\u001B[0m\u001B[0;34m:\u001B[0m\u001B[0;34m\u001B[0m\u001B[0;34m\u001B[0m\u001B[0m\n\u001B[1;32m     26\u001B[0m             \u001B[0;32mwith\u001B[0m \u001B[0mself\u001B[0m\u001B[0;34m.\u001B[0m\u001B[0mclone\u001B[0m\u001B[0;34m(\u001B[0m\u001B[0;34m)\u001B[0m\u001B[0;34m:\u001B[0m\u001B[0;34m\u001B[0m\u001B[0;34m\u001B[0m\u001B[0m\n\u001B[0;32m---> 27\u001B[0;31m                 \u001B[0;32mreturn\u001B[0m \u001B[0mfunc\u001B[0m\u001B[0;34m(\u001B[0m\u001B[0;34m*\u001B[0m\u001B[0margs\u001B[0m\u001B[0;34m,\u001B[0m \u001B[0;34m**\u001B[0m\u001B[0mkwargs\u001B[0m\u001B[0;34m)\u001B[0m\u001B[0;34m\u001B[0m\u001B[0;34m\u001B[0m\u001B[0m\n\u001B[0m\u001B[1;32m     28\u001B[0m         \u001B[0;32mreturn\u001B[0m \u001B[0mcast\u001B[0m\u001B[0;34m(\u001B[0m\u001B[0mF\u001B[0m\u001B[0;34m,\u001B[0m \u001B[0mdecorate_context\u001B[0m\u001B[0;34m)\u001B[0m\u001B[0;34m\u001B[0m\u001B[0;34m\u001B[0m\u001B[0m\n\u001B[1;32m     29\u001B[0m \u001B[0;34m\u001B[0m\u001B[0m\n",
      "\u001B[0;32m/tmp/ipykernel_519700/2662455145.py\u001B[0m in \u001B[0;36mevaluate\u001B[0;34m(e, model, dataloader)\u001B[0m\n\u001B[1;32m      9\u001B[0m     \u001B[0meps\u001B[0m \u001B[0;34m=\u001B[0m \u001B[0;36m1e-3\u001B[0m\u001B[0;34m\u001B[0m\u001B[0;34m\u001B[0m\u001B[0m\n\u001B[1;32m     10\u001B[0m \u001B[0;34m\u001B[0m\u001B[0m\n\u001B[0;32m---> 11\u001B[0;31m     \u001B[0;32mfor\u001B[0m \u001B[0mi\u001B[0m\u001B[0;34m,\u001B[0m \u001B[0;34m(\u001B[0m\u001B[0mx\u001B[0m\u001B[0;34m,\u001B[0m \u001B[0mmask\u001B[0m\u001B[0;34m,\u001B[0m \u001B[0my\u001B[0m\u001B[0;34m)\u001B[0m \u001B[0;32min\u001B[0m \u001B[0menumerate\u001B[0m\u001B[0;34m(\u001B[0m\u001B[0meval_iter\u001B[0m\u001B[0;34m)\u001B[0m\u001B[0;34m:\u001B[0m\u001B[0;34m\u001B[0m\u001B[0;34m\u001B[0m\u001B[0m\n\u001B[0m\u001B[1;32m     12\u001B[0m         \u001B[0mx\u001B[0m \u001B[0;34m=\u001B[0m \u001B[0mx\u001B[0m\u001B[0;34m.\u001B[0m\u001B[0mto\u001B[0m\u001B[0;34m(\u001B[0m\u001B[0mdevice\u001B[0m\u001B[0;34m)\u001B[0m\u001B[0;34m\u001B[0m\u001B[0;34m\u001B[0m\u001B[0m\n\u001B[1;32m     13\u001B[0m         \u001B[0mmask\u001B[0m \u001B[0;34m=\u001B[0m \u001B[0mmask\u001B[0m\u001B[0;34m.\u001B[0m\u001B[0mto\u001B[0m\u001B[0;34m(\u001B[0m\u001B[0mdevice\u001B[0m\u001B[0;34m)\u001B[0m\u001B[0;34m\u001B[0m\u001B[0;34m\u001B[0m\u001B[0m\n",
      "\u001B[0;32m~/miniconda3/lib/python3.8/site-packages/tqdm/std.py\u001B[0m in \u001B[0;36m__iter__\u001B[0;34m(self)\u001B[0m\n\u001B[1;32m   1183\u001B[0m \u001B[0;34m\u001B[0m\u001B[0m\n\u001B[1;32m   1184\u001B[0m         \u001B[0;32mtry\u001B[0m\u001B[0;34m:\u001B[0m\u001B[0;34m\u001B[0m\u001B[0;34m\u001B[0m\u001B[0m\n\u001B[0;32m-> 1185\u001B[0;31m             \u001B[0;32mfor\u001B[0m \u001B[0mobj\u001B[0m \u001B[0;32min\u001B[0m \u001B[0miterable\u001B[0m\u001B[0;34m:\u001B[0m\u001B[0;34m\u001B[0m\u001B[0;34m\u001B[0m\u001B[0m\n\u001B[0m\u001B[1;32m   1186\u001B[0m                 \u001B[0;32myield\u001B[0m \u001B[0mobj\u001B[0m\u001B[0;34m\u001B[0m\u001B[0;34m\u001B[0m\u001B[0m\n\u001B[1;32m   1187\u001B[0m                 \u001B[0;31m# Update and possibly print the progressbar.\u001B[0m\u001B[0;34m\u001B[0m\u001B[0;34m\u001B[0m\u001B[0;34m\u001B[0m\u001B[0m\n",
      "\u001B[0;32m~/miniconda3/lib/python3.8/site-packages/torch/utils/data/dataloader.py\u001B[0m in \u001B[0;36m__next__\u001B[0;34m(self)\u001B[0m\n\u001B[1;32m    679\u001B[0m                 \u001B[0;31m# TODO(https://github.com/pytorch/pytorch/issues/76750)\u001B[0m\u001B[0;34m\u001B[0m\u001B[0;34m\u001B[0m\u001B[0;34m\u001B[0m\u001B[0m\n\u001B[1;32m    680\u001B[0m                 \u001B[0mself\u001B[0m\u001B[0;34m.\u001B[0m\u001B[0m_reset\u001B[0m\u001B[0;34m(\u001B[0m\u001B[0;34m)\u001B[0m  \u001B[0;31m# type: ignore[call-arg]\u001B[0m\u001B[0;34m\u001B[0m\u001B[0;34m\u001B[0m\u001B[0m\n\u001B[0;32m--> 681\u001B[0;31m             \u001B[0mdata\u001B[0m \u001B[0;34m=\u001B[0m \u001B[0mself\u001B[0m\u001B[0;34m.\u001B[0m\u001B[0m_next_data\u001B[0m\u001B[0;34m(\u001B[0m\u001B[0;34m)\u001B[0m\u001B[0;34m\u001B[0m\u001B[0;34m\u001B[0m\u001B[0m\n\u001B[0m\u001B[1;32m    682\u001B[0m             \u001B[0mself\u001B[0m\u001B[0;34m.\u001B[0m\u001B[0m_num_yielded\u001B[0m \u001B[0;34m+=\u001B[0m \u001B[0;36m1\u001B[0m\u001B[0;34m\u001B[0m\u001B[0;34m\u001B[0m\u001B[0m\n\u001B[1;32m    683\u001B[0m             \u001B[0;32mif\u001B[0m \u001B[0mself\u001B[0m\u001B[0;34m.\u001B[0m\u001B[0m_dataset_kind\u001B[0m \u001B[0;34m==\u001B[0m \u001B[0m_DatasetKind\u001B[0m\u001B[0;34m.\u001B[0m\u001B[0mIterable\u001B[0m \u001B[0;32mand\u001B[0m\u001B[0;31m \u001B[0m\u001B[0;31m\\\u001B[0m\u001B[0;34m\u001B[0m\u001B[0;34m\u001B[0m\u001B[0m\n",
      "\u001B[0;32m~/miniconda3/lib/python3.8/site-packages/torch/utils/data/dataloader.py\u001B[0m in \u001B[0;36m_next_data\u001B[0;34m(self)\u001B[0m\n\u001B[1;32m   1357\u001B[0m \u001B[0;34m\u001B[0m\u001B[0m\n\u001B[1;32m   1358\u001B[0m             \u001B[0;32massert\u001B[0m \u001B[0;32mnot\u001B[0m \u001B[0mself\u001B[0m\u001B[0;34m.\u001B[0m\u001B[0m_shutdown\u001B[0m \u001B[0;32mand\u001B[0m \u001B[0mself\u001B[0m\u001B[0;34m.\u001B[0m\u001B[0m_tasks_outstanding\u001B[0m \u001B[0;34m>\u001B[0m \u001B[0;36m0\u001B[0m\u001B[0;34m\u001B[0m\u001B[0;34m\u001B[0m\u001B[0m\n\u001B[0;32m-> 1359\u001B[0;31m             \u001B[0midx\u001B[0m\u001B[0;34m,\u001B[0m \u001B[0mdata\u001B[0m \u001B[0;34m=\u001B[0m \u001B[0mself\u001B[0m\u001B[0;34m.\u001B[0m\u001B[0m_get_data\u001B[0m\u001B[0;34m(\u001B[0m\u001B[0;34m)\u001B[0m\u001B[0;34m\u001B[0m\u001B[0;34m\u001B[0m\u001B[0m\n\u001B[0m\u001B[1;32m   1360\u001B[0m             \u001B[0mself\u001B[0m\u001B[0;34m.\u001B[0m\u001B[0m_tasks_outstanding\u001B[0m \u001B[0;34m-=\u001B[0m \u001B[0;36m1\u001B[0m\u001B[0;34m\u001B[0m\u001B[0;34m\u001B[0m\u001B[0m\n\u001B[1;32m   1361\u001B[0m             \u001B[0;32mif\u001B[0m \u001B[0mself\u001B[0m\u001B[0;34m.\u001B[0m\u001B[0m_dataset_kind\u001B[0m \u001B[0;34m==\u001B[0m \u001B[0m_DatasetKind\u001B[0m\u001B[0;34m.\u001B[0m\u001B[0mIterable\u001B[0m\u001B[0;34m:\u001B[0m\u001B[0;34m\u001B[0m\u001B[0;34m\u001B[0m\u001B[0m\n",
      "\u001B[0;32m~/miniconda3/lib/python3.8/site-packages/torch/utils/data/dataloader.py\u001B[0m in \u001B[0;36m_get_data\u001B[0;34m(self)\u001B[0m\n\u001B[1;32m   1323\u001B[0m         \u001B[0;32melse\u001B[0m\u001B[0;34m:\u001B[0m\u001B[0;34m\u001B[0m\u001B[0;34m\u001B[0m\u001B[0m\n\u001B[1;32m   1324\u001B[0m             \u001B[0;32mwhile\u001B[0m \u001B[0;32mTrue\u001B[0m\u001B[0;34m:\u001B[0m\u001B[0;34m\u001B[0m\u001B[0;34m\u001B[0m\u001B[0m\n\u001B[0;32m-> 1325\u001B[0;31m                 \u001B[0msuccess\u001B[0m\u001B[0;34m,\u001B[0m \u001B[0mdata\u001B[0m \u001B[0;34m=\u001B[0m \u001B[0mself\u001B[0m\u001B[0;34m.\u001B[0m\u001B[0m_try_get_data\u001B[0m\u001B[0;34m(\u001B[0m\u001B[0;34m)\u001B[0m\u001B[0;34m\u001B[0m\u001B[0;34m\u001B[0m\u001B[0m\n\u001B[0m\u001B[1;32m   1326\u001B[0m                 \u001B[0;32mif\u001B[0m \u001B[0msuccess\u001B[0m\u001B[0;34m:\u001B[0m\u001B[0;34m\u001B[0m\u001B[0;34m\u001B[0m\u001B[0m\n\u001B[1;32m   1327\u001B[0m                     \u001B[0;32mreturn\u001B[0m \u001B[0mdata\u001B[0m\u001B[0;34m\u001B[0m\u001B[0;34m\u001B[0m\u001B[0m\n",
      "\u001B[0;32m~/miniconda3/lib/python3.8/site-packages/torch/utils/data/dataloader.py\u001B[0m in \u001B[0;36m_try_get_data\u001B[0;34m(self, timeout)\u001B[0m\n\u001B[1;32m   1161\u001B[0m         \u001B[0;31m#   (bool: whether successfully get data, any: data if successful else None)\u001B[0m\u001B[0;34m\u001B[0m\u001B[0;34m\u001B[0m\u001B[0;34m\u001B[0m\u001B[0m\n\u001B[1;32m   1162\u001B[0m         \u001B[0;32mtry\u001B[0m\u001B[0;34m:\u001B[0m\u001B[0;34m\u001B[0m\u001B[0;34m\u001B[0m\u001B[0m\n\u001B[0;32m-> 1163\u001B[0;31m             \u001B[0mdata\u001B[0m \u001B[0;34m=\u001B[0m \u001B[0mself\u001B[0m\u001B[0;34m.\u001B[0m\u001B[0m_data_queue\u001B[0m\u001B[0;34m.\u001B[0m\u001B[0mget\u001B[0m\u001B[0;34m(\u001B[0m\u001B[0mtimeout\u001B[0m\u001B[0;34m=\u001B[0m\u001B[0mtimeout\u001B[0m\u001B[0;34m)\u001B[0m\u001B[0;34m\u001B[0m\u001B[0;34m\u001B[0m\u001B[0m\n\u001B[0m\u001B[1;32m   1164\u001B[0m             \u001B[0;32mreturn\u001B[0m \u001B[0;34m(\u001B[0m\u001B[0;32mTrue\u001B[0m\u001B[0;34m,\u001B[0m \u001B[0mdata\u001B[0m\u001B[0;34m)\u001B[0m\u001B[0;34m\u001B[0m\u001B[0;34m\u001B[0m\u001B[0m\n\u001B[1;32m   1165\u001B[0m         \u001B[0;32mexcept\u001B[0m \u001B[0mException\u001B[0m \u001B[0;32mas\u001B[0m \u001B[0me\u001B[0m\u001B[0;34m:\u001B[0m\u001B[0;34m\u001B[0m\u001B[0;34m\u001B[0m\u001B[0m\n",
      "\u001B[0;32m~/miniconda3/lib/python3.8/multiprocessing/queues.py\u001B[0m in \u001B[0;36mget\u001B[0;34m(self, block, timeout)\u001B[0m\n\u001B[1;32m    105\u001B[0m                 \u001B[0;32mif\u001B[0m \u001B[0mblock\u001B[0m\u001B[0;34m:\u001B[0m\u001B[0;34m\u001B[0m\u001B[0;34m\u001B[0m\u001B[0m\n\u001B[1;32m    106\u001B[0m                     \u001B[0mtimeout\u001B[0m \u001B[0;34m=\u001B[0m \u001B[0mdeadline\u001B[0m \u001B[0;34m-\u001B[0m \u001B[0mtime\u001B[0m\u001B[0;34m.\u001B[0m\u001B[0mmonotonic\u001B[0m\u001B[0;34m(\u001B[0m\u001B[0;34m)\u001B[0m\u001B[0;34m\u001B[0m\u001B[0;34m\u001B[0m\u001B[0m\n\u001B[0;32m--> 107\u001B[0;31m                     \u001B[0;32mif\u001B[0m \u001B[0;32mnot\u001B[0m \u001B[0mself\u001B[0m\u001B[0;34m.\u001B[0m\u001B[0m_poll\u001B[0m\u001B[0;34m(\u001B[0m\u001B[0mtimeout\u001B[0m\u001B[0;34m)\u001B[0m\u001B[0;34m:\u001B[0m\u001B[0;34m\u001B[0m\u001B[0;34m\u001B[0m\u001B[0m\n\u001B[0m\u001B[1;32m    108\u001B[0m                         \u001B[0;32mraise\u001B[0m \u001B[0mEmpty\u001B[0m\u001B[0;34m\u001B[0m\u001B[0;34m\u001B[0m\u001B[0m\n\u001B[1;32m    109\u001B[0m                 \u001B[0;32melif\u001B[0m \u001B[0;32mnot\u001B[0m \u001B[0mself\u001B[0m\u001B[0;34m.\u001B[0m\u001B[0m_poll\u001B[0m\u001B[0;34m(\u001B[0m\u001B[0;34m)\u001B[0m\u001B[0;34m:\u001B[0m\u001B[0;34m\u001B[0m\u001B[0;34m\u001B[0m\u001B[0m\n",
      "\u001B[0;32m~/miniconda3/lib/python3.8/multiprocessing/connection.py\u001B[0m in \u001B[0;36mpoll\u001B[0;34m(self, timeout)\u001B[0m\n\u001B[1;32m    255\u001B[0m         \u001B[0mself\u001B[0m\u001B[0;34m.\u001B[0m\u001B[0m_check_closed\u001B[0m\u001B[0;34m(\u001B[0m\u001B[0;34m)\u001B[0m\u001B[0;34m\u001B[0m\u001B[0;34m\u001B[0m\u001B[0m\n\u001B[1;32m    256\u001B[0m         \u001B[0mself\u001B[0m\u001B[0;34m.\u001B[0m\u001B[0m_check_readable\u001B[0m\u001B[0;34m(\u001B[0m\u001B[0;34m)\u001B[0m\u001B[0;34m\u001B[0m\u001B[0;34m\u001B[0m\u001B[0m\n\u001B[0;32m--> 257\u001B[0;31m         \u001B[0;32mreturn\u001B[0m \u001B[0mself\u001B[0m\u001B[0;34m.\u001B[0m\u001B[0m_poll\u001B[0m\u001B[0;34m(\u001B[0m\u001B[0mtimeout\u001B[0m\u001B[0;34m)\u001B[0m\u001B[0;34m\u001B[0m\u001B[0;34m\u001B[0m\u001B[0m\n\u001B[0m\u001B[1;32m    258\u001B[0m \u001B[0;34m\u001B[0m\u001B[0m\n\u001B[1;32m    259\u001B[0m     \u001B[0;32mdef\u001B[0m \u001B[0m__enter__\u001B[0m\u001B[0;34m(\u001B[0m\u001B[0mself\u001B[0m\u001B[0;34m)\u001B[0m\u001B[0;34m:\u001B[0m\u001B[0;34m\u001B[0m\u001B[0;34m\u001B[0m\u001B[0m\n",
      "\u001B[0;32m~/miniconda3/lib/python3.8/multiprocessing/connection.py\u001B[0m in \u001B[0;36m_poll\u001B[0;34m(self, timeout)\u001B[0m\n\u001B[1;32m    422\u001B[0m \u001B[0;34m\u001B[0m\u001B[0m\n\u001B[1;32m    423\u001B[0m     \u001B[0;32mdef\u001B[0m \u001B[0m_poll\u001B[0m\u001B[0;34m(\u001B[0m\u001B[0mself\u001B[0m\u001B[0;34m,\u001B[0m \u001B[0mtimeout\u001B[0m\u001B[0;34m)\u001B[0m\u001B[0;34m:\u001B[0m\u001B[0;34m\u001B[0m\u001B[0;34m\u001B[0m\u001B[0m\n\u001B[0;32m--> 424\u001B[0;31m         \u001B[0mr\u001B[0m \u001B[0;34m=\u001B[0m \u001B[0mwait\u001B[0m\u001B[0;34m(\u001B[0m\u001B[0;34m[\u001B[0m\u001B[0mself\u001B[0m\u001B[0;34m]\u001B[0m\u001B[0;34m,\u001B[0m \u001B[0mtimeout\u001B[0m\u001B[0;34m)\u001B[0m\u001B[0;34m\u001B[0m\u001B[0;34m\u001B[0m\u001B[0m\n\u001B[0m\u001B[1;32m    425\u001B[0m         \u001B[0;32mreturn\u001B[0m \u001B[0mbool\u001B[0m\u001B[0;34m(\u001B[0m\u001B[0mr\u001B[0m\u001B[0;34m)\u001B[0m\u001B[0;34m\u001B[0m\u001B[0;34m\u001B[0m\u001B[0m\n\u001B[1;32m    426\u001B[0m \u001B[0;34m\u001B[0m\u001B[0m\n",
      "\u001B[0;32m~/miniconda3/lib/python3.8/multiprocessing/connection.py\u001B[0m in \u001B[0;36mwait\u001B[0;34m(object_list, timeout)\u001B[0m\n\u001B[1;32m    929\u001B[0m \u001B[0;34m\u001B[0m\u001B[0m\n\u001B[1;32m    930\u001B[0m             \u001B[0;32mwhile\u001B[0m \u001B[0;32mTrue\u001B[0m\u001B[0;34m:\u001B[0m\u001B[0;34m\u001B[0m\u001B[0;34m\u001B[0m\u001B[0m\n\u001B[0;32m--> 931\u001B[0;31m                 \u001B[0mready\u001B[0m \u001B[0;34m=\u001B[0m \u001B[0mselector\u001B[0m\u001B[0;34m.\u001B[0m\u001B[0mselect\u001B[0m\u001B[0;34m(\u001B[0m\u001B[0mtimeout\u001B[0m\u001B[0;34m)\u001B[0m\u001B[0;34m\u001B[0m\u001B[0;34m\u001B[0m\u001B[0m\n\u001B[0m\u001B[1;32m    932\u001B[0m                 \u001B[0;32mif\u001B[0m \u001B[0mready\u001B[0m\u001B[0;34m:\u001B[0m\u001B[0;34m\u001B[0m\u001B[0;34m\u001B[0m\u001B[0m\n\u001B[1;32m    933\u001B[0m                     \u001B[0;32mreturn\u001B[0m \u001B[0;34m[\u001B[0m\u001B[0mkey\u001B[0m\u001B[0;34m.\u001B[0m\u001B[0mfileobj\u001B[0m \u001B[0;32mfor\u001B[0m \u001B[0;34m(\u001B[0m\u001B[0mkey\u001B[0m\u001B[0;34m,\u001B[0m \u001B[0mevents\u001B[0m\u001B[0;34m)\u001B[0m \u001B[0;32min\u001B[0m \u001B[0mready\u001B[0m\u001B[0;34m]\u001B[0m\u001B[0;34m\u001B[0m\u001B[0;34m\u001B[0m\u001B[0m\n",
      "\u001B[0;32m~/miniconda3/lib/python3.8/selectors.py\u001B[0m in \u001B[0;36mselect\u001B[0;34m(self, timeout)\u001B[0m\n\u001B[1;32m    413\u001B[0m         \u001B[0mready\u001B[0m \u001B[0;34m=\u001B[0m \u001B[0;34m[\u001B[0m\u001B[0;34m]\u001B[0m\u001B[0;34m\u001B[0m\u001B[0;34m\u001B[0m\u001B[0m\n\u001B[1;32m    414\u001B[0m         \u001B[0;32mtry\u001B[0m\u001B[0;34m:\u001B[0m\u001B[0;34m\u001B[0m\u001B[0;34m\u001B[0m\u001B[0m\n\u001B[0;32m--> 415\u001B[0;31m             \u001B[0mfd_event_list\u001B[0m \u001B[0;34m=\u001B[0m \u001B[0mself\u001B[0m\u001B[0;34m.\u001B[0m\u001B[0m_selector\u001B[0m\u001B[0;34m.\u001B[0m\u001B[0mpoll\u001B[0m\u001B[0;34m(\u001B[0m\u001B[0mtimeout\u001B[0m\u001B[0;34m)\u001B[0m\u001B[0;34m\u001B[0m\u001B[0;34m\u001B[0m\u001B[0m\n\u001B[0m\u001B[1;32m    416\u001B[0m         \u001B[0;32mexcept\u001B[0m \u001B[0mInterruptedError\u001B[0m\u001B[0;34m:\u001B[0m\u001B[0;34m\u001B[0m\u001B[0;34m\u001B[0m\u001B[0m\n\u001B[1;32m    417\u001B[0m             \u001B[0;32mreturn\u001B[0m \u001B[0mready\u001B[0m\u001B[0;34m\u001B[0m\u001B[0;34m\u001B[0m\u001B[0m\n",
      "\u001B[0;31mKeyboardInterrupt\u001B[0m: "
     ]
    }
   ],
   "source": [
    "epochs = 300\n",
    "\n",
    "evaluate(epoch, model, val_loader)\n",
    "\n",
    "for e in range(epochs):\n",
    "\n",
    "    train_loss = train_one_epoch(epoch, model, train_loader)\n",
    "    \n",
    "    eval_loss = evaluate(epoch, model, val_loader)\n",
    "    \n",
    "    print(f\"train loss {train_loss} eval loss {eval_loss}\")\n",
    "    scheduler.step()\n",
    "    epoch += 1"
   ]
  },
  {
   "cell_type": "code",
   "execution_count": null,
   "metadata": {
    "collapsed": false,
    "jupyter": {
     "outputs_hidden": false
    }
   },
   "outputs": [
    {
     "name": "stderr",
     "output_type": "stream",
     "text": [
      "wandb: Waiting for W&B process to finish... (success).\n",
      "wandb: \\ 0.244 MB of 0.244 MB uploaded (0.000 MB deduped)\r"
     ]
    }
   ],
   "source": [
    "# state = {\n",
    "#     \"model\": model.state_dict(),\n",
    "#     \"optimizer\": optimizer.state_dict(),\n",
    "#     \"scheduler\": scheduler.state_dict(),\n",
    "#     \"epoch\": epoch,\n",
    "# }\n",
    "# torch.save(state, f'checkpoint/{wandb.run.name}-epoch-{epoch}.pth')"
   ]
  }
 ],
 "metadata": {
  "kernelspec": {
   "display_name": "Python 3 (ipykernel)",
   "language": "python",
   "name": "python3"
  },
  "language_info": {
   "codemirror_mode": {
    "name": "ipython",
    "version": 3
   },
   "file_extension": ".py",
   "mimetype": "text/x-python",
   "name": "python",
   "nbconvert_exporter": "python",
   "pygments_lexer": "ipython3",
   "version": "3.8.10"
  }
 },
 "nbformat": 4,
 "nbformat_minor": 4
}
