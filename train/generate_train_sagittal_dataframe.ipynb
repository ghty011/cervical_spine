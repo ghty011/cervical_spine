{
 "cells": [
  {
   "cell_type": "code",
   "execution_count": null,
   "metadata": {
    "collapsed": false
   },
   "outputs": [],
   "source": [
    "import os\n",
    "import glob\n",
    "import pydicom\n",
    "import nibabel as nib\n",
    "import pandas as pd\n",
    "import numpy as np\n",
    "from pydicom.pixel_data_handlers.util import apply_voi_lut\n",
    "import matplotlib.pyplot as plt\n",
    "import matplotlib.patches as patches\n",
    "import seaborn as sns\n",
    "\n",
    "from tqdm import tqdm\n",
    "\n",
    "from PIL import Image, ImageOps"
   ]
  },
  {
   "cell_type": "code",
   "execution_count": null,
   "metadata": {
    "collapsed": false
   },
   "outputs": [],
   "source": [
    "DATA_DIR = \"/Volumes/SSD970/\""
   ]
  },
  {
   "cell_type": "code",
   "execution_count": null,
   "metadata": {
    "collapsed": true
   },
   "outputs": [],
   "source": [
    "bbox_df = pd.read_csv(os.path.join(DATA_DIR, 'bbox_clean.csv'))\n",
    "bbox_df[\"UID\"] = bbox_df[\"StudyInstanceUID\"]\n",
    "bbox_df = bbox_df.set_index(\"UID\")"
   ]
  },
  {
   "cell_type": "code",
   "execution_count": null,
   "metadata": {
    "collapsed": false
   },
   "outputs": [],
   "source": [
    "bbox_df[\"StudyInstanceUID\"].isnull().any()"
   ]
  },
  {
   "cell_type": "code",
   "execution_count": null,
   "metadata": {
    "collapsed": false
   },
   "outputs": [],
   "source": [
    "train_df = pd.read_csv(os.path.join(DATA_DIR, 'train.csv'))\n",
    "train_df[\"UID\"] = train_df[\"StudyInstanceUID\"]\n",
    "train_df = train_df.set_index(\"UID\")\n",
    "train_df.head()"
   ]
  },
  {
   "cell_type": "code",
   "execution_count": null,
   "metadata": {
    "collapsed": false
   },
   "outputs": [],
   "source": [
    "pos_df = pd.read_csv(os.path.join(DATA_DIR, 'infer_sagittal_position.csv')).set_index('UID')\n",
    "pos_df.head()"
   ]
  },
  {
   "cell_type": "code",
   "execution_count": null,
   "metadata": {
    "collapsed": false
   },
   "outputs": [],
   "source": [
    "pos_df = pos_df.reset_index().drop_duplicates(subset='UID').set_index('UID')\n",
    "pos_df.head()"
   ]
  },
  {
   "cell_type": "code",
   "execution_count": null,
   "metadata": {
    "collapsed": false
   },
   "outputs": [],
   "source": [
    "def get_padded_position(size, pos, reshape_size=256):\n",
    "    h, w = size\n",
    "    pad = int((max(size) - min(size)) // 2)\n",
    "    x, y = pos\n",
    "    if h > w:\n",
    "        x = pad + x\n",
    "    else:\n",
    "        y = pad + y\n",
    "    scale = reshape_size / max(size)\n",
    "    return int(x * scale), int(y * scale)\n",
    "\n",
    "get_padded_position([200, 400], [200, 100])"
   ]
  },
  {
   "cell_type": "code",
   "execution_count": null,
   "metadata": {
    "collapsed": false
   },
   "outputs": [],
   "source": [
    "bbox_df.iloc[0]"
   ]
  },
  {
   "cell_type": "code",
   "execution_count": null,
   "metadata": {
    "collapsed": false
   },
   "outputs": [],
   "source": [
    "pos_df.loc[bbox_df.iloc[0].name]"
   ]
  },
  {
   "cell_type": "code",
   "execution_count": null,
   "metadata": {
    "collapsed": false
   },
   "outputs": [],
   "source": [
    "def get_sagittal_center_position(s):\n",
    "    \"\"\"\n",
    "    center position w.r.t cropped label image\n",
    "    이것으로써 bbox 가 sagittal image 에서 C? 을 말해주는가 알 수 있다.\n",
    "    C? 이 classification label 가 되겠다.\n",
    "    :param s:\n",
    "    :return:\n",
    "    \"\"\"\n",
    "    y, x = np.round(s.axial_index * s.aspect), s.coronal_index  # row, column\n",
    "    UID = s[\"StudyInstanceUID\"]\n",
    "    if UID in pos_df.index:\n",
    "        left, top, right, bottom = pos_df.loc[UID, ['left', 'top', 'right', 'bottom']]\n",
    "    else:\n",
    "        print(f\"{UID} not in index\")\n",
    "        return\n",
    "    # print([left, top, right, bottom])\n",
    "    y -= left\n",
    "    x -= top\n",
    "\n",
    "    padded_pos = get_padded_position([bottom - top, right - left], [x, y])\n",
    "    return padded_pos\n",
    "\n",
    "\n",
    "sagittal_df = bbox_df.iloc[0]\n",
    "UID = sagittal_df.name\n",
    "img = Image.open(os.path.join(DATA_DIR, 'train_sagittal_labels_jpeg95', UID, f\"{int(sagittal_df.sagittal_index)}.png\"))\n",
    "x, y = get_sagittal_center_position(sagittal_df)\n",
    "_, axs = plt.subplots(1, 2)\n",
    "\n",
    "original_img = Image.open(\n",
    "    os.path.join(DATA_DIR, 'train_sagittal_images_jpeg95', UID, f\"{int(sagittal_df.sagittal_index)}.jpeg\"))\n",
    "print(original_img.size)\n",
    "axs[0].imshow(original_img, cmap='bone')\n",
    "axs[0].axvline(sagittal_df.coronal_index)\n",
    "axs[0].axhline(np.round(sagittal_df.axial_index * sagittal_df.aspect))\n",
    "\n",
    "axs[1].imshow(img, cmap='nipy_spectral')\n",
    "axs[1].axvline(x)\n",
    "axs[1].axhline(y)"
   ]
  },
  {
   "cell_type": "code",
   "execution_count": null,
   "metadata": {
    "collapsed": false
   },
   "outputs": [],
   "source": [
    "bbox_df.insert(2, 'sagittal_label_x', None)\n",
    "bbox_df.insert(2, 'sagittal_label_y', None)\n",
    "bbox_df.head()"
   ]
  },
  {
   "cell_type": "code",
   "execution_count": null,
   "metadata": {
    "collapsed": false
   },
   "outputs": [],
   "source": [
    "bbox_df = bbox_df.reset_index()\n",
    "bbox_df.head()"
   ]
  },
  {
   "cell_type": "code",
   "execution_count": null,
   "metadata": {
    "collapsed": false
   },
   "outputs": [],
   "source": [
    "bbox_df"
   ]
  },
  {
   "cell_type": "code",
   "execution_count": null,
   "metadata": {
    "collapsed": false
   },
   "outputs": [],
   "source": [
    "for i in tqdm(range(len(bbox_df))):\n",
    "    sagittal_df = bbox_df.iloc[i]\n",
    "    x, y = get_sagittal_center_position(sagittal_df)\n",
    "    # label_img = Image.open(os.path.join(DATA_DIR, 'train_sagittal_labels_jpeg95', UID, f\"{int(sagittal_df.sagittal_index)}.png\"))\n",
    "    bbox_df.loc[i, ['sagittal_label_x', 'sagittal_label_y']] = x, y\n",
    "bbox_df = bbox_df.set_index('UID')\n",
    "bbox_df.head()"
   ]
  },
  {
   "cell_type": "code",
   "execution_count": null,
   "metadata": {
    "collapsed": false
   },
   "outputs": [],
   "source": [
    "bbox_df.insert(2, 'left', None)\n",
    "bbox_df.insert(2, 'top', None)\n",
    "bbox_df.insert(2, 'right', None)\n",
    "bbox_df.insert(2, 'bottom', None)\n",
    "bbox_df.head()"
   ]
  },
  {
   "cell_type": "code",
   "execution_count": null,
   "metadata": {
    "collapsed": false
   },
   "outputs": [],
   "source": [
    "for UID in tqdm(bbox_df.index.values):\n",
    "    bbox_df.loc[UID, ['left','top','right','bottom']] = pos_df.loc[UID, ['left','top','right','bottom']].values"
   ]
  },
  {
   "cell_type": "code",
   "execution_count": null,
   "metadata": {
    "collapsed": false
   },
   "outputs": [],
   "source": [
    "bbox_df.head()"
   ]
  },
  {
   "cell_type": "code",
   "execution_count": null,
   "metadata": {
    "collapsed": false
   },
   "outputs": [],
   "source": [
    "# bbox_df.to_csv('train_bbox_sagittal_classification.csv')"
   ]
  }
 ],
 "metadata": {
  "kernelspec": {
   "display_name": "Python 3",
   "language": "python",
   "name": "python3"
  },
  "language_info": {
   "codemirror_mode": {
    "name": "ipython",
    "version": 2
   },
   "file_extension": ".py",
   "mimetype": "text/x-python",
   "name": "python",
   "nbconvert_exporter": "python",
   "pygments_lexer": "ipython2",
   "version": "2.7.6"
  }
 },
 "nbformat": 4,
 "nbformat_minor": 0
}
