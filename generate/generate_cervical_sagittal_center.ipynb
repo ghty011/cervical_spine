{
 "cells": [
  {
   "cell_type": "markdown",
   "source": [
    "C2 의 센터를 찾는다."
   ],
   "metadata": {
    "collapsed": false
   }
  },
  {
   "cell_type": "markdown",
   "source": [],
   "metadata": {
    "collapsed": false
   }
  },
  {
   "cell_type": "code",
   "execution_count": 17,
   "metadata": {
    "collapsed": true
   },
   "outputs": [],
   "source": [
    "import os\n",
    "import glob\n",
    "import pandas as pd\n",
    "import numpy as np\n",
    "import matplotlib.pyplot as plt\n",
    "import csv\n",
    "from tqdm import tqdm\n",
    "\n",
    "from PIL import Image, ImageOps\n"
   ]
  },
  {
   "cell_type": "code",
   "execution_count": 18,
   "outputs": [],
   "source": [
    "DATA_DIR = \"/Volumes/SSD970/\"\n",
    "# DATA_DIR = \"/root/autodl-tmp/cervical_spine/\"\n",
    "SAGITTAL_LABEL_DIR = os.path.join(DATA_DIR, \"train_sagittal_labels_jpeg95/\")"
   ],
   "metadata": {
    "collapsed": false
   }
  },
  {
   "cell_type": "code",
   "execution_count": 19,
   "outputs": [],
   "source": [
    "LABEL_SCALE=32"
   ],
   "metadata": {
    "collapsed": false
   }
  },
  {
   "cell_type": "code",
   "execution_count": 20,
   "outputs": [],
   "source": [
    "def read_png_image(path):\n",
    "    img = Image.open(path)\n",
    "    return np.asarray(img)"
   ],
   "metadata": {
    "collapsed": false
   }
  },
  {
   "cell_type": "code",
   "execution_count": 21,
   "outputs": [],
   "source": [
    "def get_PatientUID(UID):\n",
    "    return \"1.2.826.0.1.3680043.\" + str(UID)"
   ],
   "metadata": {
    "collapsed": false
   }
  },
  {
   "cell_type": "code",
   "execution_count": 22,
   "outputs": [],
   "source": [
    "def read_sagittal_labels(UID, label_scale=256, image_size=256):\n",
    "    PatientUID = get_PatientUID(UID)\n",
    "    label_dir = os.path.join(SAGITTAL_LABEL_DIR, PatientUID)\n",
    "\n",
    "    image_paths = glob.glob(label_dir + \"/**\")\n",
    "    image_paths.sort(key=lambda x: int(x.split(\"/\")[-1].replace(\".png\",\"\")))\n",
    "\n",
    "    imgs = np.zeros((len(image_paths), image_size, image_size))\n",
    "    for i, path in enumerate(image_paths):\n",
    "       np_img = read_png_image(path)\n",
    "       imgs[i] = np_img\n",
    "\n",
    "    return imgs / label_scale\n",
    "\n",
    "# imgs = read_sagittal_labels(9236, LABEL_SCALE)\n",
    "# print(imgs.max())\n",
    "# imgs.shape"
   ],
   "metadata": {
    "collapsed": false
   }
  },
  {
   "cell_type": "code",
   "execution_count": 23,
   "outputs": [],
   "source": [
    "def pick_spine(imgs, spine=2):\n",
    "    spine_imgs = np.copy(imgs)\n",
    "    spine_imgs[spine_imgs != (spine * 0.125)] = 0\n",
    "    return spine_imgs"
   ],
   "metadata": {
    "collapsed": false
   }
  },
  {
   "cell_type": "code",
   "execution_count": 24,
   "outputs": [],
   "source": [
    "def find_center_slice(imgs):\n",
    "    height, row, column = imgs.nonzero()\n",
    "    sorted_indice = row.argsort()\n",
    "    center_pos = sorted_indice[:100].mean()\n",
    "    return height[int(center_pos)]\n",
    "\n"
   ],
   "metadata": {
    "collapsed": false
   }
  },
  {
   "cell_type": "markdown",
   "source": [
    "## Final method"
   ],
   "metadata": {
    "collapsed": false
   }
  },
  {
   "cell_type": "code",
   "execution_count": 28,
   "outputs": [
    {
     "name": "stdout",
     "output_type": "stream",
     "text": [
      "(335, 256, 256)\n"
     ]
    },
    {
     "data": {
      "text/plain": "<matplotlib.image.AxesImage at 0x7f96c122e700>"
     },
     "execution_count": 28,
     "metadata": {},
     "output_type": "execute_result"
    },
    {
     "data": {
      "text/plain": "<Figure size 432x288 with 1 Axes>",
      "image/png": "[encoded data removed]"
     },
     "metadata": {},
     "output_type": "display_data"
    }
   ],
   "source": [
    "def find_spine_center(UID, spine, label_scale=256):\n",
    "    imgs = read_sagittal_labels(UID, label_scale)\n",
    "    print(imgs.shape)\n",
    "    imgs = pick_spine(imgs, spine)\n",
    "    center = find_center_slice(imgs)\n",
    "    return center, imgs[center, :, :]\n",
    "\n",
    "center, img = find_spine_center(10051, 2, label_scale=32)\n",
    "plt.imshow(img, cmap='bone')\n"
   ],
   "metadata": {
    "collapsed": false
   }
  },
  {
   "cell_type": "code",
   "execution_count": 25,
   "outputs": [],
   "source": [
    "header = [\n",
    "    \"UID\", \"sagittal_center_slice\", \"label_scale\"\n",
    "]\n",
    "\n",
    "f = open('sagittal_center_slice.csv','a',newline='')\n",
    "writer = csv.writer(f)\n",
    "\n",
    "writer.writerow(header)"
   ],
   "metadata": {
    "collapsed": false
   }
  },
  {
   "cell_type": "code",
   "execution_count": null,
   "outputs": [],
   "source": [
    "sagittal_label_dirs = glob.glob(SAGITTAL_LABEL_DIR + '/**')\n",
    "label_scale = 256\n",
    "for label_dir in sagittal_label_dirs:\n",
    "    UID = label_dir.split(\".\")[-1]\n",
    "    center, _ = find_spine_center(UID, 2, label_scale)\n",
    "    writer.writerow([UID, center, label_scale])\n"
   ],
   "metadata": {
    "collapsed": false
   }
  },
  {
   "cell_type": "code",
   "execution_count": null,
   "outputs": [],
   "source": [
    "f.close()"
   ],
   "metadata": {
    "collapsed": false
   }
  }
 ],
 "metadata": {
  "kernelspec": {
   "display_name": "Python 3",
   "language": "python",
   "name": "python3"
  },
  "language_info": {
   "codemirror_mode": {
    "name": "ipython",
    "version": 2
   },
   "file_extension": ".py",
   "mimetype": "text/x-python",
   "name": "python",
   "nbconvert_exporter": "python",
   "pygments_lexer": "ipython2",
   "version": "2.7.6"
  }
 },
 "nbformat": 4,
 "nbformat_minor": 0
}
