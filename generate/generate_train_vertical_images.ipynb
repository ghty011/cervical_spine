{
 "cells": [
  {
   "cell_type": "markdown",
   "metadata": {},
   "source": [
    "segmentation 에 있는 patient 들의 segmentation image 를 만든다."
   ]
  },
  {
   "cell_type": "code",
   "execution_count": 1,
   "metadata": {
    "tags": []
   },
   "outputs": [],
   "source": [
    "import os\n",
    "import glob\n",
    "import pydicom\n",
    "import nibabel as nib\n",
    "import pandas as pd\n",
    "import numpy as np\n",
    "from pydicom.pixel_data_handlers.util import apply_voi_lut\n",
    "import matplotlib.pyplot as plt\n",
    "import matplotlib.patches as patches\n",
    "import seaborn as sns\n",
    "import pylibjpeg\n",
    "\n",
    "from tqdm import tqdm\n",
    "\n",
    "from PIL import Image\n",
    "\n",
    "import csv"
   ]
  },
  {
   "cell_type": "code",
   "execution_count": 2,
   "metadata": {
    "collapsed": false,
    "jupyter": {
     "outputs_hidden": false
    }
   },
   "outputs": [],
   "source": [
    "DATA_DIR = \"/root/autodl-tmp/cervical_spine/\"\n",
    "TRAIN_SAGITTAL_DIR = os.path.join(DATA_DIR, \"train_sagittal_images_jpeg95\")\n",
    "TRAIN_CORONAL_DIR = os.path.join(DATA_DIR, \"train_coronal_images_jpeg95\")\n",
    "TRAIN_AXIAL_DIR = os.path.join(DATA_DIR, \"train_axial_images_jpeg95\")\n",
    "TRAIN_IMAGE_DIR = os.path.join(DATA_DIR, \"train_images\")"
   ]
  },
  {
   "cell_type": "code",
   "execution_count": 3,
   "metadata": {
    "collapsed": false,
    "jupyter": {
     "outputs_hidden": false
    }
   },
   "outputs": [
    {
     "data": {
      "text/plain": [
       "2012"
      ]
     },
     "execution_count": 3,
     "metadata": {},
     "output_type": "execute_result"
    }
   ],
   "source": [
    "patient_dirs = glob.glob(TRAIN_IMAGE_DIR + \"/**\")\n",
    "len(patient_dirs)"
   ]
  },
  {
   "cell_type": "code",
   "execution_count": 4,
   "metadata": {
    "tags": []
   },
   "outputs": [
    {
     "data": {
      "text/plain": [
       "['/root/autodl-tmp/cervical_spine/train_images/1.2.826.0.1.3680043.10001',\n",
       " '/root/autodl-tmp/cervical_spine/train_images/1.2.826.0.1.3680043.10005',\n",
       " '/root/autodl-tmp/cervical_spine/train_images/1.2.826.0.1.3680043.10014',\n",
       " '/root/autodl-tmp/cervical_spine/train_images/1.2.826.0.1.3680043.10016',\n",
       " '/root/autodl-tmp/cervical_spine/train_images/1.2.826.0.1.3680043.10032']"
      ]
     },
     "execution_count": 4,
     "metadata": {},
     "output_type": "execute_result"
    }
   ],
   "source": [
    "patient_dirs[:5]"
   ]
  },
  {
   "cell_type": "code",
   "execution_count": 5,
   "metadata": {},
   "outputs": [],
   "source": [
    "def rescale_img_to_hu(dcm_ds):\n",
    "    \"\"\"Rescales the image to Hounsfield unit.\n",
    "    \"\"\"\n",
    "    return dcm_ds.pixel_array * dcm_ds.RescaleSlope + dcm_ds.RescaleIntercept\n",
    "\n",
    "\n",
    "def read_dcm(patient_dir, num_instance):\n",
    "    dcm_path = os.path.join(patient_dir, f\"{int(num_instance)}.dcm\")\n",
    "    ds = pydicom.dcmread(dcm_path)\n",
    "    img2d = rescale_img_to_hu(ds)\n",
    "    return normalize_hu(img2d)\n",
    "\n",
    "def read_patient_dcm(patient_dir):\n",
    "    \"\"\"\n",
    "    여기서 이미지를 정상적인 순서로 돌려 놓는다\n",
    "    :param patient_dir:\n",
    "    :return:\n",
    "    \"\"\"\n",
    "    num_slices = len(glob.glob(patient_dir + \"/*.dcm\"))\n",
    "    # print(f\"total slices {num_slices}\")\n",
    "    imgs = np.zeros((num_slices, 512, 512))\n",
    "    image_positions = np.zeros((num_slices, 3))\n",
    "    image_orientations = np.zeros((num_slices, 6))\n",
    "    pixel_spacings = np.zeros((num_slices, 2))\n",
    "    slice_thicknesses = np.zeros((num_slices, 1))\n",
    "\n",
    "    ignore_count = 1\n",
    "    for i in range(num_slices):\n",
    "        dcm_path = os.path.join(patient_dir, f\"{i+ignore_count}.dcm\")\n",
    "        while os.path.exists(dcm_path) == False:\n",
    "            ignore_count += 1\n",
    "            dcm_path = os.path.join(patient_dir, f\"{i+ignore_count}.dcm\")\n",
    "        ds = pydicom.dcmread(dcm_path)\n",
    "\n",
    "        image_positions[i, :] = ds.ImagePositionPatient\n",
    "        image_orientations[i, :] = ds.ImageOrientationPatient\n",
    "        pixel_spacings[i, :] = ds.PixelSpacing\n",
    "        slice_thicknesses[i, :] = ds.SliceThickness\n",
    "\n",
    "        img2d = rescale_img_to_hu(ds)\n",
    "\n",
    "        imgs[i] = img2d\n",
    "\n",
    "    is_flip = False\n",
    "    # check z is in good direction\n",
    "    if image_positions[0, 2] < image_positions[1, 2]:\n",
    "        is_flip = True\n",
    "        # flip image in z direction\n",
    "        imgs = np.flip(imgs, axis=0)\n",
    "        image_positions = np.flip(image_positions, axis=0)\n",
    "        pixel_spacings = np.flip(pixel_spacings, axis=0)\n",
    "        slice_thicknesses = np.flip(slice_thicknesses, axis=0)\n",
    "\n",
    "    return imgs, image_positions, image_orientations, pixel_spacings, slice_thicknesses, is_flip\n",
    "\n",
    "\n",
    "def normalize_hu(data):\n",
    "    # normalize to 0-1\n",
    "    # return (data - data.min()) / data.max()\n",
    "    data = np.clip(data, a_min=-2242, a_max=2242) / 4484 + 0.5\n",
    "    return data\n",
    "\n",
    "def calculate_aspect(image_positions, pixel_spacings):\n",
    "    \"\"\"\n",
    "    calculate z aspect, z 를 몇배로 늘여야 하는가야\n",
    "    :param image_positions:\n",
    "    :param pixel_spacings:\n",
    "    :return:\n",
    "    \"\"\"\n",
    "    height = image_positions[0, 2] - image_positions[1, 2]\n",
    "    pixel_spacing = pixel_spacings[0, 0]\n",
    "    aspect = height / pixel_spacing\n",
    "    return aspect"
   ]
  },
  {
   "cell_type": "code",
   "execution_count": 6,
   "metadata": {
    "collapsed": false,
    "jupyter": {
     "outputs_hidden": false
    }
   },
   "outputs": [],
   "source": [
    "f = open('meta_train_3d.csv','a',newline='')\n",
    "writer = csv.writer(f)"
   ]
  },
  {
   "cell_type": "code",
   "execution_count": 7,
   "metadata": {
    "collapsed": false,
    "jupyter": {
     "outputs_hidden": false
    }
   },
   "outputs": [
    {
     "data": {
      "text/plain": [
       "53"
      ]
     },
     "execution_count": 7,
     "metadata": {},
     "output_type": "execute_result"
    }
   ],
   "source": [
    "header = [\n",
    "    'UID',\n",
    "    'z_spacing','pixel_spacing','aspect', 'is_flip', 'z_height'\n",
    "]\n",
    "writer.writerow(header)"
   ]
  },
  {
   "cell_type": "code",
   "execution_count": 8,
   "metadata": {
    "collapsed": false,
    "jupyter": {
     "outputs_hidden": false
    }
   },
   "outputs": [],
   "source": [
    "def save_sagittal(imgs, patient_sagittal_dir, aspect):\n",
    "    img_width = imgs.shape[1]\n",
    "    # 그냥 int 를 취했다 round 하지 않았다.\n",
    "    img_height = int(imgs.shape[0] * aspect)\n",
    "\n",
    "    for sagittal_index in range(imgs.shape[2]):\n",
    "        sagittal = imgs[:, :, sagittal_index]\n",
    "        sagittal = Image.fromarray(np.uint8(sagittal * 255) , 'L')\n",
    "\n",
    "        sagittal = sagittal.resize([img_width, img_height])\n",
    "        sagittal.save(os.path.join(patient_sagittal_dir, f\"{sagittal_index}.jpeg\"), quality=95)"
   ]
  },
  {
   "cell_type": "code",
   "execution_count": 9,
   "metadata": {
    "collapsed": false,
    "jupyter": {
     "outputs_hidden": false
    }
   },
   "outputs": [],
   "source": [
    "def save_coronal(imgs, patient_coronal_dir, aspect):\n",
    "    img_width = imgs.shape[2]\n",
    "    # 그냥 int 를 취했다 round 하지 않았다.\n",
    "    img_height = int(imgs.shape[0] * aspect)\n",
    "\n",
    "    for coronal_index in range(imgs.shape[1]):\n",
    "        coronal = imgs[:, coronal_index, :]\n",
    "        coronal = Image.fromarray(np.uint8(coronal * 255) , 'L')\n",
    "\n",
    "        coronal = coronal.resize([img_width, img_height])\n",
    "        coronal.save(os.path.join(patient_coronal_dir, f\"{coronal_index}.jpeg\"), quality=95)     "
   ]
  },
  {
   "cell_type": "code",
   "execution_count": 10,
   "metadata": {},
   "outputs": [],
   "source": [
    "def save_axial(imgs, patient_axial_dir, aspect=None):\n",
    "\n",
    "    for axial_index in range(imgs.shape[0]):\n",
    "        axial = imgs[axial_index, :, :]\n",
    "        axial = Image.fromarray(np.uint8(axial * 255) , 'L')\n",
    "\n",
    "        axial.save(os.path.join(patient_axial_dir, f\"{axial_index}.jpeg\"), quality=95)"
   ]
  },
  {
   "cell_type": "code",
   "execution_count": 11,
   "metadata": {
    "collapsed": false,
    "jupyter": {
     "outputs_hidden": false
    }
   },
   "outputs": [],
   "source": [
    "def save_vertical_image(UID):\n",
    "\n",
    "    patient_sagittal_dir = os.path.join(TRAIN_SAGITTAL_DIR, UID)\n",
    "    patient_coronal_dir = os.path.join(TRAIN_CORONAL_DIR, UID)\n",
    "    patient_axial_dir = os.path.join(TRAIN_AXIAL_DIR, UID)\n",
    "\n",
    "    if os.path.exists(patient_sagittal_dir):\n",
    "        return False\n",
    "    \n",
    "    os.mkdir(patient_sagittal_dir)\n",
    "    os.mkdir(patient_coronal_dir)\n",
    "    os.mkdir(patient_axial_dir)\n",
    "\n",
    "    imgs, image_positions, image_orientations, pixel_spacings, slice_thicknesses, is_flip = read_patient_dcm(os.path.join(TRAIN_IMAGE_DIR, UID))\n",
    "\n",
    "    z_spacing = image_positions[0, 2] - image_positions[1, 2]\n",
    "    pixel_spacing = pixel_spacings[0, 0]\n",
    "    aspect = z_spacing / pixel_spacing # ㅇㅕ기를 원래 round 했다. repeat 하길래서 round 시킨걸 계속 갖고 있었네 ㅜㅜ\n",
    "    imgs = normalize_hu(imgs)\n",
    "\n",
    "    save_sagittal(imgs, patient_sagittal_dir, aspect)\n",
    "    save_coronal(imgs, patient_coronal_dir, aspect)\n",
    "    save_axial(imgs, patient_axial_dir, aspect)\n",
    "        \n",
    "    write_result = writer.writerow([\n",
    "        UID,\n",
    "        z_spacing, pixel_spacing, aspect, int(is_flip), imgs.shape[0]\n",
    "    ])\n",
    "\n",
    "    return write_result"
   ]
  },
  {
   "cell_type": "code",
   "execution_count": 12,
   "metadata": {
    "collapsed": false,
    "jupyter": {
     "outputs_hidden": false
    }
   },
   "outputs": [
    {
     "name": "stderr",
     "output_type": "stream",
     "text": [
      "1.2.826.0.1.3680043.9997: 100%|██████████| 2012/2012 [51:02<00:00,  1.52s/it]   \n"
     ]
    }
   ],
   "source": [
    "patient_dirs_iter = tqdm(patient_dirs)\n",
    "for patient_dir in patient_dirs_iter:\n",
    "    UID = patient_dir.split(\"/\")[-1]\n",
    "    \n",
    "    save_vertical_image(UID)\n",
    "\n",
    "    patient_dirs_iter.set_description(UID)\n"
   ]
  },
  {
   "cell_type": "code",
   "execution_count": 13,
   "metadata": {
    "collapsed": false,
    "jupyter": {
     "outputs_hidden": false
    }
   },
   "outputs": [],
   "source": [
    "f.close()"
   ]
  }
 ],
 "metadata": {
  "kernelspec": {
   "display_name": "Python 3 (ipykernel)",
   "language": "python",
   "name": "python3"
  },
  "language_info": {
   "codemirror_mode": {
    "name": "ipython",
    "version": 3
   },
   "file_extension": ".py",
   "mimetype": "text/x-python",
   "name": "python",
   "nbconvert_exporter": "python",
   "pygments_lexer": "ipython3",
   "version": "3.8.10"
  }
 },
 "nbformat": 4,
 "nbformat_minor": 4
}
