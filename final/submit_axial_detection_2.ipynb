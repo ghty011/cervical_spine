{
 "cells": [
  {
   "cell_type": "code",
   "execution_count": 1,
   "id": "2148ab38-783d-4c84-8521-f42f3e6e3e18",
   "metadata": {},
   "outputs": [],
   "source": [
    "segmentation_checkpoint=\"axial_segmentation_effseg_163725-epoch-100.pth\"\n",
    "axial_det_checkpoint=\"axial_detection_effdet_134352-epoch-52.pth\""
   ]
  },
  {
   "cell_type": "code",
   "execution_count": 2,
   "id": "3d9f1787-2943-4036-8b92-6f98775df0d4",
   "metadata": {},
   "outputs": [
    {
     "data": {
      "text/plain": [
       "'cuda'"
      ]
     },
     "execution_count": 2,
     "metadata": {},
     "output_type": "execute_result"
    }
   ],
   "source": [
    "import pandas as pd\n",
    "import torch\n",
    "import matplotlib.pyplot as plt\n",
    "import seaborn as sns\n",
    "import ast\n",
    "import sys\n",
    "\n",
    "import pydicom\n",
    "import pylibjpeg\n",
    "\n",
    "effdet_path = \"../third/effdet\"\n",
    "sys.path.append(effdet_path)\n",
    "from effdet import create_model\n",
    "\n",
    "timm_path = \"../third/timm-pytorch-image-models\"\n",
    "sys.path.append(timm_path)\n",
    "import timm\n",
    "from timm.data import IMAGENET_DEFAULT_MEAN, IMAGENET_DEFAULT_STD\n",
    "from matplotlib import patches\n",
    "import sklearn\n",
    "import os\n",
    "from tqdm import tqdm\n",
    "\n",
    "omega_path = \"../third/omegaconf\"\n",
    "sys.path.append(omega_path)\n",
    "from omegaconf import OmegaConf\n",
    "import glob\n",
    "import sklearn\n",
    "import math\n",
    "import random\n",
    "import numpy as np\n",
    "\n",
    "from PIL import Image\n",
    "\n",
    "import cv2\n",
    "import albumentations as A\n",
    "from albumentations.pytorch import ToTensorV2\n",
    "\n",
    "import torch\n",
    "import torch.nn as nn\n",
    "import torch.nn.functional as F\n",
    "from torch.utils.data import Dataset, DataLoader\n",
    "from torch import optim\n",
    "from torchvision import transforms\n",
    "import torchvision.models as models\n",
    "import torchvision.transforms as T\n",
    "import torchvision.transforms.functional as TF\n",
    "# from transformers import get_cosine_schedule_with_warmup\n",
    "\n",
    "import warnings\n",
    "\n",
    "warnings.filterwarnings('ignore')\n",
    "from sklearn import metrics, model_selection, preprocessing\n",
    "\n",
    "# from sklearn.model_selection import GroupKFold\n",
    "\n",
    "\n",
    "# pos_weight = torch.tensor(pos_weight)\n",
    "device = 'cuda' if torch.cuda.is_available() else 'cpu'\n",
    "device"
   ]
  },
  {
   "cell_type": "code",
   "execution_count": 3,
   "id": "1a6704ff-0ffe-4073-8fd5-78bd051cd4ba",
   "metadata": {},
   "outputs": [],
   "source": [
    "DATA_DIR = \"/root/autodl-tmp/cervical_spine/\"\n",
    "\n",
    "IMAGES_DIR = os.path.join(DATA_DIR, 'train_images')"
   ]
  },
  {
   "cell_type": "code",
   "execution_count": 4,
   "id": "6e085bb4-108e-4993-a279-772d389e8a3f",
   "metadata": {},
   "outputs": [
    {
     "data": {
      "text/html": [
       "<div>\n",
       "<style scoped>\n",
       "    .dataframe tbody tr th:only-of-type {\n",
       "        vertical-align: middle;\n",
       "    }\n",
       "\n",
       "    .dataframe tbody tr th {\n",
       "        vertical-align: top;\n",
       "    }\n",
       "\n",
       "    .dataframe thead th {\n",
       "        text-align: right;\n",
       "    }\n",
       "</style>\n",
       "<table border=\"1\" class=\"dataframe\">\n",
       "  <thead>\n",
       "    <tr style=\"text-align: right;\">\n",
       "      <th></th>\n",
       "      <th>row_id</th>\n",
       "      <th>StudyInstanceUID</th>\n",
       "      <th>prediction_type</th>\n",
       "    </tr>\n",
       "  </thead>\n",
       "  <tbody>\n",
       "    <tr>\n",
       "      <th>0</th>\n",
       "      <td>1.2.826.0.1.3680043.10197_C1</td>\n",
       "      <td>1.2.826.0.1.3680043.10197</td>\n",
       "      <td>C1</td>\n",
       "    </tr>\n",
       "    <tr>\n",
       "      <th>1</th>\n",
       "      <td>1.2.826.0.1.3680043.10454_C1</td>\n",
       "      <td>1.2.826.0.1.3680043.10454</td>\n",
       "      <td>C1</td>\n",
       "    </tr>\n",
       "    <tr>\n",
       "      <th>2</th>\n",
       "      <td>1.2.826.0.1.3680043.10690_C1</td>\n",
       "      <td>1.2.826.0.1.3680043.10690</td>\n",
       "      <td>C1</td>\n",
       "    </tr>\n",
       "  </tbody>\n",
       "</table>\n",
       "</div>"
      ],
      "text/plain": [
       "                         row_id           StudyInstanceUID prediction_type\n",
       "0  1.2.826.0.1.3680043.10197_C1  1.2.826.0.1.3680043.10197              C1\n",
       "1  1.2.826.0.1.3680043.10454_C1  1.2.826.0.1.3680043.10454              C1\n",
       "2  1.2.826.0.1.3680043.10690_C1  1.2.826.0.1.3680043.10690              C1"
      ]
     },
     "execution_count": 4,
     "metadata": {},
     "output_type": "execute_result"
    }
   ],
   "source": [
    "test_df = pd.read_csv(os.path.join(DATA_DIR, 'test.csv'))\n",
    "test_df"
   ]
  },
  {
   "cell_type": "markdown",
   "id": "3ba3177f-b148-4c1b-ba44-168e13bf3ae3",
   "metadata": {},
   "source": [
    "## read dcm file\n"
   ]
  },
  {
   "cell_type": "code",
   "execution_count": 5,
   "id": "0edf2b08-0219-47c2-8897-8cf7ac3c7da3",
   "metadata": {},
   "outputs": [],
   "source": [
    "def rescale_img_to_hu(dcm_ds):\n",
    "    \"\"\"Rescales the image to Hounsfield unit.\n",
    "    \"\"\"\n",
    "    return dcm_ds.pixel_array * dcm_ds.RescaleSlope + dcm_ds.RescaleIntercept\n",
    "\n",
    "\n",
    "def read_dcm(patient_dir, num_instance):\n",
    "    dcm_path = os.path.join(patient_dir, f\"{int(num_instance)}.dcm\")\n",
    "    ds = pydicom.dcmread(dcm_path)\n",
    "    img2d = rescale_img_to_hu(ds)\n",
    "    return normalize_hu(img2d)\n",
    "\n",
    "def read_patient_dcm(patient_dir):\n",
    "    \"\"\"\n",
    "    여기서 이미지를 정상적인 순서로 돌려 놓는다\n",
    "    :param patient_dir:\n",
    "    :return:\n",
    "    \"\"\"\n",
    "    num_slices = len(glob.glob(patient_dir + \"/*.dcm\"))\n",
    "    # print(f\"total slices {num_slices}\")\n",
    "    imgs = np.zeros((num_slices, 512, 512))\n",
    "    image_positions = np.zeros((num_slices, 3))\n",
    "    image_orientations = np.zeros((num_slices, 6))\n",
    "    pixel_spacings = np.zeros((num_slices, 2))\n",
    "    slice_thicknesses = np.zeros((num_slices, 1))\n",
    "\n",
    "    ignore_count = 1\n",
    "    for i in range(num_slices):\n",
    "        dcm_path = os.path.join(patient_dir, f\"{i+ignore_count}.dcm\")\n",
    "        while os.path.exists(dcm_path) == False:\n",
    "            ignore_count += 1\n",
    "            dcm_path = os.path.join(patient_dir, f\"{i+ignore_count}.dcm\")\n",
    "        ds = pydicom.dcmread(dcm_path)\n",
    "\n",
    "        image_positions[i, :] = ds.ImagePositionPatient\n",
    "        image_orientations[i, :] = ds.ImageOrientationPatient\n",
    "        pixel_spacings[i, :] = ds.PixelSpacing\n",
    "        slice_thicknesses[i, :] = ds.SliceThickness\n",
    "\n",
    "        img2d = rescale_img_to_hu(ds)\n",
    "\n",
    "        imgs[i] = img2d\n",
    "\n",
    "    is_flip = False\n",
    "    # check z is in good direction\n",
    "    if image_positions[0, 2] < image_positions[1, 2]:\n",
    "        is_flip = True\n",
    "        # flip image in z direction\n",
    "        imgs = np.flip(imgs, axis=0)\n",
    "        image_positions = np.flip(image_positions, axis=0)\n",
    "        pixel_spacings = np.flip(pixel_spacings, axis=0)\n",
    "        slice_thicknesses = np.flip(slice_thicknesses, axis=0)\n",
    "\n",
    "    aspect = calculate_aspect(image_positions, pixel_spacings)\n",
    "        \n",
    "    return imgs, aspect, pixel_spacings[0, 0]\n",
    "\n",
    "\n",
    "def normalize_hu(data):\n",
    "    # normalize to 0-1\n",
    "    # return (data - data.min()) / data.max()\n",
    "    data = np.clip(data, a_min=-2242, a_max=2242) / 4484 + 0.5\n",
    "    return data\n",
    "\n",
    "def calculate_aspect(image_positions, pixel_spacings):\n",
    "    \"\"\"\n",
    "    calculate z aspect, z 를 몇배로 늘여야 하는가야\n",
    "    :param image_positions:\n",
    "    :param pixel_spacings:\n",
    "    :return:\n",
    "    \"\"\"\n",
    "    height = image_positions[0, 2] - image_positions[1, 2]\n",
    "    pixel_spacing = pixel_spacings[0, 0]\n",
    "    aspect = height / pixel_spacing\n",
    "    return aspect"
   ]
  },
  {
   "cell_type": "code",
   "execution_count": 6,
   "id": "d07942a7-d40c-48a1-b13f-cde0d4dd48d4",
   "metadata": {},
   "outputs": [],
   "source": [
    "from efficientunet import *\n",
    "def get_axial_segmentation_model(checkpoint):\n",
    "    model = get_efficientunet_b5(out_channels=2, concat_input=True, pretrained=True)\n",
    "    \n",
    "    state = torch.load(os.path.join(DATA_DIR, 'checkpoint', checkpoint))\n",
    "    model.load_state_dict(state[\"model\"])\n",
    "    model.eval()\n",
    "    return model.to(device)\n",
    "    \n",
    "seg_model = get_axial_segmentation_model(segmentation_checkpoint)"
   ]
  },
  {
   "cell_type": "code",
   "execution_count": 7,
   "id": "066c8eba-fef3-4141-aae1-c6730d9c47d8",
   "metadata": {},
   "outputs": [],
   "source": [
    "from effdet import create_model\n",
    "\n",
    "def get_axial_detection_model(checkpoint, image_size=512):\n",
    "    model = create_model('efficientdetv2_ds' , bench_task='predict' , num_classes= 1 , image_size=(image_size, image_size), bench_labeler=True, pretrained=True, max_det_per_image=1)\n",
    "\n",
    "    state = torch.load(os.path.join(DATA_DIR, 'checkpoint',checkpoint))\n",
    "    model.load_state_dict(state[\"model\"])\n",
    "    model.eval()\n",
    "    return model.to(device)\n",
    "\n",
    "det_model = get_axial_detection_model(axial_det_checkpoint)"
   ]
  },
  {
   "cell_type": "code",
   "execution_count": 8,
   "id": "7d68c789-2abd-44d8-978a-04d9fa3abd22",
   "metadata": {},
   "outputs": [
    {
     "data": {
      "text/html": [
       "<div>\n",
       "<style scoped>\n",
       "    .dataframe tbody tr th:only-of-type {\n",
       "        vertical-align: middle;\n",
       "    }\n",
       "\n",
       "    .dataframe tbody tr th {\n",
       "        vertical-align: top;\n",
       "    }\n",
       "\n",
       "    .dataframe thead th {\n",
       "        text-align: right;\n",
       "    }\n",
       "</style>\n",
       "<table border=\"1\" class=\"dataframe\">\n",
       "  <thead>\n",
       "    <tr style=\"text-align: right;\">\n",
       "      <th></th>\n",
       "      <th>StudyInstanceUID</th>\n",
       "      <th>patient_overall</th>\n",
       "      <th>C1</th>\n",
       "      <th>C2</th>\n",
       "      <th>C3</th>\n",
       "      <th>C4</th>\n",
       "      <th>C5</th>\n",
       "      <th>C6</th>\n",
       "      <th>C7</th>\n",
       "    </tr>\n",
       "  </thead>\n",
       "  <tbody>\n",
       "    <tr>\n",
       "      <th>1837</th>\n",
       "      <td>1.2.826.0.1.3680043.10001</td>\n",
       "      <td>0</td>\n",
       "      <td>0</td>\n",
       "      <td>0</td>\n",
       "      <td>0</td>\n",
       "      <td>0</td>\n",
       "      <td>0</td>\n",
       "      <td>0</td>\n",
       "      <td>0</td>\n",
       "    </tr>\n",
       "    <tr>\n",
       "      <th>823</th>\n",
       "      <td>1.2.826.0.1.3680043.10005</td>\n",
       "      <td>0</td>\n",
       "      <td>0</td>\n",
       "      <td>0</td>\n",
       "      <td>0</td>\n",
       "      <td>0</td>\n",
       "      <td>0</td>\n",
       "      <td>0</td>\n",
       "      <td>0</td>\n",
       "    </tr>\n",
       "    <tr>\n",
       "      <th>1021</th>\n",
       "      <td>1.2.826.0.1.3680043.10014</td>\n",
       "      <td>0</td>\n",
       "      <td>0</td>\n",
       "      <td>0</td>\n",
       "      <td>0</td>\n",
       "      <td>0</td>\n",
       "      <td>0</td>\n",
       "      <td>0</td>\n",
       "      <td>0</td>\n",
       "    </tr>\n",
       "    <tr>\n",
       "      <th>667</th>\n",
       "      <td>1.2.826.0.1.3680043.10016</td>\n",
       "      <td>1</td>\n",
       "      <td>0</td>\n",
       "      <td>1</td>\n",
       "      <td>0</td>\n",
       "      <td>0</td>\n",
       "      <td>0</td>\n",
       "      <td>0</td>\n",
       "      <td>0</td>\n",
       "    </tr>\n",
       "    <tr>\n",
       "      <th>322</th>\n",
       "      <td>1.2.826.0.1.3680043.10032</td>\n",
       "      <td>0</td>\n",
       "      <td>0</td>\n",
       "      <td>0</td>\n",
       "      <td>0</td>\n",
       "      <td>0</td>\n",
       "      <td>0</td>\n",
       "      <td>0</td>\n",
       "      <td>0</td>\n",
       "    </tr>\n",
       "  </tbody>\n",
       "</table>\n",
       "</div>"
      ],
      "text/plain": [
       "               StudyInstanceUID  patient_overall  C1  C2  C3  C4  C5  C6  C7\n",
       "1837  1.2.826.0.1.3680043.10001                0   0   0   0   0   0   0   0\n",
       "823   1.2.826.0.1.3680043.10005                0   0   0   0   0   0   0   0\n",
       "1021  1.2.826.0.1.3680043.10014                0   0   0   0   0   0   0   0\n",
       "667   1.2.826.0.1.3680043.10016                1   0   1   0   0   0   0   0\n",
       "322   1.2.826.0.1.3680043.10032                0   0   0   0   0   0   0   0"
      ]
     },
     "execution_count": 8,
     "metadata": {},
     "output_type": "execute_result"
    }
   ],
   "source": [
    "train_df = pd.read_csv(os.path.join(DATA_DIR, 'train.csv')).sort_values('StudyInstanceUID')\n",
    "train_df.head()"
   ]
  },
  {
   "cell_type": "code",
   "execution_count": 9,
   "id": "0b27033a-d331-4e9b-abe6-ff1c9539b53f",
   "metadata": {},
   "outputs": [
    {
     "name": "stdout",
     "output_type": "stream",
     "text": [
      "1.2.826.0.1.3680043.16333\n",
      "[0 0 0 0 0 0 0 0]\n",
      "(247, 512, 512)\n",
      "2.3021614533453167\n",
      "0.271484\n"
     ]
    }
   ],
   "source": [
    "index = 398\n",
    "UID = train_df.iloc[index]['StudyInstanceUID']\n",
    "print(UID)\n",
    "label = train_df.iloc[index][['patient_overall', 'C1','C2','C3','C4','C5','C6','C7']].values\n",
    "print(label)\n",
    "imgs, aspect, pixel_spacing = read_patient_dcm(os.path.join(IMAGES_DIR, UID))\n",
    "print(imgs.shape)\n",
    "print(aspect)\n",
    "print(pixel_spacing)"
   ]
  },
  {
   "cell_type": "code",
   "execution_count": 10,
   "id": "4bb73996-6552-4df4-9054-f3020d3d227a",
   "metadata": {},
   "outputs": [
    {
     "name": "stdout",
     "output_type": "stream",
     "text": [
      "torch.Size([247, 512, 512])\n",
      "tensor(-1.) tensor(1.)\n"
     ]
    }
   ],
   "source": [
    "cliped_imgs = np.clip(imgs, a_min=-2242, a_max=2242) / 4484 + 0.5\n",
    "imgs_tensor = torch.tensor(cliped_imgs, dtype=torch.float)\n",
    "imgs_tensor = (imgs_tensor - 0.5) * 2.\n",
    "print(imgs_tensor.shape)\n",
    "print(imgs_tensor.min(), imgs_tensor.max())"
   ]
  },
  {
   "cell_type": "code",
   "execution_count": 11,
   "id": "f5e77256-2055-423d-a900-9239b9ac1ecf",
   "metadata": {},
   "outputs": [
    {
     "data": {
      "text/plain": [
       "<matplotlib.image.AxesImage at 0x7f77e18c1be0>"
      ]
     },
     "execution_count": 11,
     "metadata": {},
     "output_type": "execute_result"
    },
    {
     "data": {
      "image/png": "[encoded data removed]",
      "text/plain": [
       "<Figure size 432x288 with 1 Axes>"
      ]
     },
     "metadata": {
      "needs_background": "light"
     },
     "output_type": "display_data"
    }
   ],
   "source": [
    "plt.imshow(imgs_tensor[100, :, :])"
   ]
  },
  {
   "cell_type": "markdown",
   "id": "5b8d7bbc-ba26-4623-ac44-bddd9f838c4a",
   "metadata": {},
   "source": [
    "## get boundary"
   ]
  },
  {
   "cell_type": "code",
   "execution_count": 12,
   "id": "6f8ec026-a592-4005-81ae-243f9959a203",
   "metadata": {},
   "outputs": [],
   "source": [
    "def get_axial_boundary_from_segmentation(seg, pixel_spacing, throw=100, tol=0.2, max_mm=100):\n",
    "    \"\"\"\n",
    "    seg : H x W\n",
    "    \"\"\"\n",
    "    image_size = seg.shape[0]\n",
    "    min_size = min(image_size, max_mm / pixel_spacing)\n",
    "    \n",
    "    rows, columns = seg.nonzero()\n",
    "    rows.sort()\n",
    "    columns.sort()\n",
    "    \n",
    "    throw = min(len(rows) // 2, throw)\n",
    "    \n",
    "    if(len(rows)) == 0:\n",
    "        return 0, 0, image_size, image_size\n",
    "    \n",
    "    xmin, xmax = columns[throw], columns[-throw]\n",
    "    ymin, ymax = rows[throw], rows[-throw]\n",
    "    \n",
    "    w = (xmax - xmin) * (1 + tol)\n",
    "    h = (ymax - ymax) * (1 + tol)\n",
    "    new_size = max(w, h, min_size)\n",
    "    new_size = min(image_size, new_size)\n",
    "    \n",
    "    xcenter, ycenter = (xmax + xmin) / 2, (ymax + ymin) / 2\n",
    "    \n",
    "    xmin = min(image_size - new_size, xcenter - new_size / 2)\n",
    "    xmin = max(0, xmin)\n",
    "    \n",
    "    ymin = min(image_size - new_size, ycenter - new_size / 2)\n",
    "    ymin = max(0, ymin)\n",
    "    \n",
    "    return xmin, ymin, xmin + new_size, ymin + new_size"
   ]
  },
  {
   "cell_type": "code",
   "execution_count": null,
   "id": "0e2df5fe-74a2-4ebd-be9b-304f9eaa8fb8",
   "metadata": {},
   "outputs": [],
   "source": []
  },
  {
   "cell_type": "code",
   "execution_count": 13,
   "id": "0433ccc6-6a41-4c30-928e-107a92ec5a35",
   "metadata": {},
   "outputs": [],
   "source": [
    "@torch.no_grad()\n",
    "def predict_seg(x, model):\n",
    "    \"\"\"\n",
    "    return: N x 1 x H x W\n",
    "    \"\"\"\n",
    "    x = x.to(device)\n",
    "    logits = model(x)\n",
    "\n",
    "    classification_score, mse_score = logits.sigmoid().chunk(2, dim=1)\n",
    "    classification_pred = classification_score.gt(0.5).float()\n",
    "    pred = (classification_pred * mse_score).cpu()\n",
    "    \n",
    "    return pred"
   ]
  },
  {
   "cell_type": "code",
   "execution_count": 14,
   "id": "e957e2c6-c642-4d4a-be25-591a083c80af",
   "metadata": {},
   "outputs": [
    {
     "name": "stdout",
     "output_type": "stream",
     "text": [
      "torch.Size([247, 1, 256, 256])\n"
     ]
    },
    {
     "data": {
      "text/plain": [
       "<matplotlib.image.AxesImage at 0x7f77e1986eb0>"
      ]
     },
     "execution_count": 14,
     "metadata": {},
     "output_type": "execute_result"
    },
    {
     "data": {
      "image/png": "[encoded data removed]",
      "text/plain": [
       "<Figure size 432x288 with 1 Axes>"
      ]
     },
     "metadata": {
      "needs_background": "light"
     },
     "output_type": "display_data"
    }
   ],
   "source": [
    "@torch.no_grad()\n",
    "def seg_patient(imgs_tensor, model, batch_size=16):\n",
    "    \n",
    "    seg_result = []\n",
    "    for i in range(math.ceil(imgs_tensor.shape[0] / batch_size)):\n",
    "        batch_tensor = imgs_tensor[i * batch_size : i * batch_size + batch_size]\n",
    "        batch_tensor = torch.stack((batch_tensor, batch_tensor, batch_tensor), axis=1)\n",
    "        batch_tensor = TF.resize(batch_tensor, (256, 256))\n",
    "        # print(batch_tensor.shape)\n",
    "        \n",
    "        seg = predict_seg(batch_tensor, model)\n",
    "        seg_result.append(seg)\n",
    "        \n",
    "    return torch.cat(seg_result, axis=0)\n",
    "\n",
    "seg_result = seg_patient(imgs_tensor, seg_model)\n",
    "print(seg_result.shape)\n",
    "plt.imshow(seg_result[seg_result.shape[0] // 2, 0, :, :])"
   ]
  },
  {
   "cell_type": "code",
   "execution_count": 15,
   "id": "b3f1d443-2cf0-4119-bcb6-c371f485c299",
   "metadata": {},
   "outputs": [
    {
     "name": "stdout",
     "output_type": "stream",
     "text": [
      "(247, 4)\n",
      "[ 73.82708373   0.         442.17291627 368.34583254]\n"
     ]
    },
    {
     "data": {
      "text/plain": [
       "<matplotlib.lines.Line2D at 0x7f77e19f95b0>"
      ]
     },
     "execution_count": 15,
     "metadata": {},
     "output_type": "execute_result"
    },
    {
     "data": {
      "image/png": "[encoded data removed]",
      "text/plain": [
       "<Figure size 432x288 with 1 Axes>"
      ]
     },
     "metadata": {
      "needs_background": "light"
     },
     "output_type": "display_data"
    }
   ],
   "source": [
    "def get_axial_boundary(segs, img_size=256):\n",
    "    boundary_list = []\n",
    "    for i in range(segs.shape[0]):\n",
    "        seg = segs[i, 0, :, :].numpy()\n",
    "        # print(seg.shape)\n",
    "        boundary = get_axial_boundary_from_segmentation(seg, pixel_spacing, throw=50, tol=0.2, max_mm=50)\n",
    "        boundary_list.append(boundary)\n",
    "    boundary_list = np.asarray(boundary_list) * (512 / img_size)\n",
    "    return boundary_list\n",
    "\n",
    "axial_boundary = get_axial_boundary(seg_result)\n",
    "print(axial_boundary.shape)\n",
    "\n",
    "print(axial_boundary[axial_boundary.shape[0] // 2, :])\n",
    "\n",
    "boundary = axial_boundary[axial_boundary.shape[0] // 2, :] / 2\n",
    "plt.imshow(seg_result[seg_result.shape[0] // 2, 0, :, :])\n",
    "plt.axvline(boundary[0])\n",
    "plt.axvline(boundary[2])\n",
    "plt.axhline(boundary[1])\n",
    "plt.axhline(boundary[3])"
   ]
  },
  {
   "cell_type": "markdown",
   "id": "194fd269-6de8-40dc-87bf-62877ee8be61",
   "metadata": {},
   "source": [
    "### Detection"
   ]
  },
  {
   "cell_type": "code",
   "execution_count": 16,
   "id": "2cde30be-ae6d-4c55-b391-8a1ae9e2a039",
   "metadata": {},
   "outputs": [
    {
     "name": "stdout",
     "output_type": "stream",
     "text": [
      "torch.Size([245, 4])\n"
     ]
    },
    {
     "data": {
      "text/plain": [
       "[<matplotlib.lines.Line2D at 0x7f77d81a77c0>]"
      ]
     },
     "execution_count": 16,
     "metadata": {},
     "output_type": "execute_result"
    },
    {
     "data": {
      "image/png": "[encoded data removed]",
      "text/plain": [
       "<Figure size 432x288 with 1 Axes>"
      ]
     },
     "metadata": {
      "needs_background": "light"
     },
     "output_type": "display_data"
    }
   ],
   "source": [
    "@torch.no_grad()\n",
    "def predict_det(x, model):\n",
    "    x = x.to(device)\n",
    "    bboxes = model(x) # N x 1 x 6\n",
    "    \n",
    "    return bboxes.cpu()[:, 0, :]\n",
    "    \n",
    "    \n",
    "def crop_resize_images(imgs_tensor, boundary_list, img_size=512):\n",
    "    croped_list = []\n",
    "    for i in range(imgs_tensor.shape[0]):\n",
    "        xmin, ymin, xmax, ymax = boundary_list[i, :]\n",
    "        xmin, ymin, xmax, ymax = int(xmin), int(ymin), int(xmax), int(ymax)\n",
    "        # print(xmin, ymin, xmax, ymax)\n",
    "        croped = TF.crop(imgs_tensor[i, :, :, :], top=ymin, left=xmin, height=ymax-ymin, width=xmax-xmin)\n",
    "        croped = TF.resize(croped, (img_size, img_size))\n",
    "        croped_list.append(croped)\n",
    "        \n",
    "    return torch.stack(croped_list, 0)\n",
    "\n",
    "def get_original_bbox(bbox, boundary):\n",
    "    scale = 512. / (boundary[:, [2]] - boundary[:, [0]])\n",
    "    \n",
    "    org_bbox = bbox / scale\n",
    "    org_bbox[:, 0] += boundary[:, 0]\n",
    "    org_bbox[:, 1] += boundary[:, 1]\n",
    "    org_bbox[:, 2] += boundary[:, 0]\n",
    "    org_bbox[:, 3] += boundary[:, 1]\n",
    "    \n",
    "    return org_bbox\n",
    "\n",
    "@torch.no_grad()\n",
    "def det_patient(imgs_tensor, model, boundary, batch_size=16):\n",
    "    det_result = []\n",
    "    \n",
    "    imgs_tensor = torch.stack((imgs_tensor[0:-2, :, :], imgs_tensor[1:-1, :, :], imgs_tensor[2:, :, :]), axis=1)\n",
    "    # print(imgs_tensor.shape)\n",
    "    \n",
    "    boundary = boundary[1:-1, :]\n",
    "    # print(boundary.shape)\n",
    "    \n",
    "    imgs_tensor = crop_resize_images(imgs_tensor, boundary)\n",
    "    \n",
    "    # print(imgs_tensor.shape)\n",
    "    for i in range(math.ceil(imgs_tensor.shape[0] / batch_size)):\n",
    "        batch_tensor = imgs_tensor[i * batch_size : i * batch_size + batch_size]\n",
    "        \n",
    "        \n",
    "        pred = predict_det(batch_tensor, model)\n",
    "        det_result.append(pred)\n",
    "    \n",
    "    # det_result.append(torch.tensor([0,0,0,0,0,0]))\n",
    "    det_result = torch.cat(det_result, axis=0)\n",
    "    # print(det_result.shape)\n",
    "    \n",
    "    bboxes, scores = get_original_bbox(det_result[:, :4], boundary), det_result[:, 4]\n",
    "    \n",
    "    return bboxes, scores\n",
    "\n",
    "bboxes, scores = det_patient(imgs_tensor, det_model, axial_boundary)\n",
    "print(bboxes.shape)\n",
    "plt.plot(scores)"
   ]
  },
  {
   "cell_type": "code",
   "execution_count": 17,
   "id": "ab4ed949-810e-42fd-a80a-10420d1a2c43",
   "metadata": {},
   "outputs": [
    {
     "name": "stdout",
     "output_type": "stream",
     "text": [
      "tensor(206)\n",
      "torch.Size([245])\n",
      "torch.Size([247, 512, 512])\n"
     ]
    },
    {
     "data": {
      "text/plain": [
       "<matplotlib.lines.Line2D at 0x7f77d81843a0>"
      ]
     },
     "execution_count": 17,
     "metadata": {},
     "output_type": "execute_result"
    },
    {
     "data": {
      "image/png": "[encoded data removed]",
      "text/plain": [
       "<Figure size 432x288 with 1 Axes>"
      ]
     },
     "metadata": {
      "needs_background": "light"
     },
     "output_type": "display_data"
    }
   ],
   "source": [
    "max_score_index = scores.argmax()\n",
    "print(max_score_index)\n",
    "print(scores.shape)\n",
    "print(imgs_tensor.shape)\n",
    "plt.imshow(imgs_tensor[max_score_index+1, :, :])\n",
    "plt.axvline(bboxes[max_score_index+1, 0])\n",
    "plt.axvline(bboxes[max_score_index+1, 2])\n",
    "plt.axhline(bboxes[max_score_index+1, 1])\n",
    "plt.axhline(bboxes[max_score_index+1, 3])"
   ]
  },
  {
   "cell_type": "code",
   "execution_count": 18,
   "id": "4e2ee199-6844-45b5-8f9d-17a014825d7b",
   "metadata": {},
   "outputs": [
    {
     "data": {
      "text/plain": [
       "<matplotlib.image.AxesImage at 0x7f77dd13f3d0>"
      ]
     },
     "execution_count": 18,
     "metadata": {},
     "output_type": "execute_result"
    },
    {
     "data": {
      "image/png": "[encoded data removed]",
      "text/plain": [
       "<Figure size 432x288 with 1 Axes>"
      ]
     },
     "metadata": {
      "needs_background": "light"
     },
     "output_type": "display_data"
    }
   ],
   "source": [
    "plt.imshow(seg_result[max_score_index + 1, 0, :, :])"
   ]
  },
  {
   "cell_type": "markdown",
   "id": "6b0e65f0-4053-4373-bd1b-c202e192fe49",
   "metadata": {},
   "source": [
    "### get bbox class"
   ]
  },
  {
   "cell_type": "code",
   "execution_count": 19,
   "id": "a730b84a-d20c-4424-acf0-f5c4cc055493",
   "metadata": {},
   "outputs": [],
   "source": [
    "def get_bbox_class(seg, bbox):\n",
    "    \"\"\"\n",
    "    label 은 0.125 의 단위로, \n",
    "    seg: H x W\n",
    "    bbox: [xmin, ymin, xmax, ymax]\n",
    "    \"\"\"\n",
    "    xmin, ymin, xmax, ymax = bbox.int()\n",
    "    area = seg[ymin:ymax, xmin:xmax]\n",
    "    \n",
    "    # print(area)\n",
    "    result = torch.mean(area[area>0])\n",
    "    result = torch.round(result / 0.125)\n",
    "    \n",
    "    return result\n",
    "\n",
    "# seg_list = seg_result[1:-1, 0, :, :]\n",
    "# seg_bboxes = bboxes / 2\n",
    "# check_index=362\n",
    "# get_bbox_class(seg_list[check_index, :, :], seg_bboxes[check_index, :])\n"
   ]
  },
  {
   "cell_type": "code",
   "execution_count": 20,
   "id": "5a942e0b-cd37-4be0-861f-3677a907b09e",
   "metadata": {},
   "outputs": [
    {
     "name": "stdout",
     "output_type": "stream",
     "text": [
      "torch.Size([245])\n",
      "max 7.0\n"
     ]
    },
    {
     "data": {
      "text/plain": [
       "[<matplotlib.lines.Line2D at 0x7f77e1c20970>]"
      ]
     },
     "execution_count": 20,
     "metadata": {},
     "output_type": "execute_result"
    },
    {
     "data": {
      "image/png": "[encoded data removed]",
      "text/plain": [
       "<Figure size 432x288 with 1 Axes>"
      ]
     },
     "metadata": {
      "needs_background": "light"
     },
     "output_type": "display_data"
    }
   ],
   "source": [
    "def get_bbox_class_list(seg_list, seg_bboxes):\n",
    "    class_list = []\n",
    "    for i in range(seg_list.shape[0]):\n",
    "        class_index = get_bbox_class(seg_list[i, :, :], seg_bboxes[i, :])\n",
    "        class_list.append(class_index)\n",
    "        \n",
    "    return torch.stack(class_list)\n",
    "\n",
    "class_list = get_bbox_class_list(seg_result[1:-1, 0, :, :], bboxes / 2)\n",
    "print(class_list.shape)\n",
    "print(f\"max {class_list[max_score_index]}\")\n",
    "plt.plot(class_list)"
   ]
  },
  {
   "cell_type": "code",
   "execution_count": 21,
   "id": "903c602a-a1c4-449f-9bdf-6430ea0f16d3",
   "metadata": {},
   "outputs": [],
   "source": [
    "def cal_loss(prob, label):\n",
    "    pos_weight = np.array([14, 2, 2, 2, 2, 2, 2, 2])\n",
    "    neg_weight = np.array([7, 1, 1, 1, 1, 1, 1, 1])\n",
    "    \n",
    "    score = pos_weight * label * np.log(prob) + neg_weight * (1 - label) * np.log(1 - prob)\n",
    "    weight_total = pos_weight * label + neg_weight * (1 - label)\n",
    "    \n",
    "    return -score.sum() / weight_total.sum()"
   ]
  },
  {
   "cell_type": "code",
   "execution_count": 25,
   "id": "5e446b61-3258-448b-86f2-3c335c9c4b56",
   "metadata": {},
   "outputs": [
    {
     "name": "stdout",
     "output_type": "stream",
     "text": [
      "[0.80309451 0.03899008 0.11662269 0.03273617 0.04795898 0.05517111\n",
      " 0.31194741 0.80309451]\n"
     ]
    }
   ],
   "source": [
    "def get_prob(scores, class_list, eps=1e-2):\n",
    "    prob = np.zeros(8) + eps\n",
    "    # prob[0] = scores.max()\n",
    "    \n",
    "    for i in range(len(scores)):\n",
    "        score = scores[i]\n",
    "        \n",
    "        \n",
    "        if torch.isnan(class_list[i]):\n",
    "            continue\n",
    "        \n",
    "        class_index = int(class_list[i])\n",
    "        prob[class_index] = min(1-eps, max(prob[class_index], score))\n",
    "    \n",
    "    prob[0] = prob.max()\n",
    "    \n",
    "    return prob\n",
    "\n",
    "prob = get_prob(scores, class_list)\n",
    "print(prob)"
   ]
  },
  {
   "cell_type": "code",
   "execution_count": 23,
   "id": "0e1dda57-94e0-4111-b4ae-2a178fa905f1",
   "metadata": {},
   "outputs": [
    {
     "data": {
      "text/plain": [
       "0.976935509043357"
      ]
     },
     "execution_count": 23,
     "metadata": {},
     "output_type": "execute_result"
    }
   ],
   "source": [
    "imgs, aspect, pixel_spacing = read_patient_dcm(os.path.join(IMAGES_DIR, UID))\n",
    "# print(imgs.shape)\n",
    "# print(aspect)\n",
    "# print(pixel_spacing)\n",
    "\n",
    "cliped_imgs = np.clip(imgs, a_min=-2242, a_max=2242) / 4484 + 0.5\n",
    "imgs_tensor = torch.tensor(cliped_imgs, dtype=torch.float)\n",
    "imgs_tensor = (imgs_tensor - 0.5) * 2.\n",
    "# print(imgs_tensor.shape)\n",
    "# print(imgs_tensor.min(), imgs_tensor.max())\n",
    "\n",
    "seg_result = seg_patient(imgs_tensor, seg_model)\n",
    "axial_boundary = get_axial_boundary(seg_result)\n",
    "bboxes, scores = det_patient(imgs_tensor, det_model, axial_boundary)\n",
    "\n",
    "\n",
    "max_score_index = scores.argmax()\n",
    "print(max_score_index)\n",
    "print(scores.shape)\n",
    "print(imgs_tensor.shape)\n",
    "plt.imshow(imgs_tensor[max_score_index+1, :, :])\n",
    "plt.axvline(bboxes[max_score_index+1, 0])\n",
    "plt.axvline(bboxes[max_score_index+1, 2])\n",
    "plt.axhline(bboxes[max_score_index+1, 1])\n",
    "plt.axhline(bboxes[max_score_index+1, 3])\n",
    "\n",
    "\n",
    "class_list = get_bbox_class_list(seg_result[1:-1, 0, :, :], bboxes / 2)\n",
    "prob = get_prob(scores, class_list)\n",
    "\n",
    "# print(prob)\n",
    "\n",
    "loss = cal_loss(prob, label)\n",
    "loss"
   ]
  },
  {
   "cell_type": "code",
   "execution_count": 35,
   "id": "19de1286-9763-490f-834d-6604687a1e4c",
   "metadata": {},
   "outputs": [
    {
     "name": "stderr",
     "output_type": "stream",
     "text": [
      " 10%|█         | 1/10 [00:04<00:43,  4.87s/it]"
     ]
    },
    {
     "name": "stdout",
     "output_type": "stream",
     "text": [
      "458 1.2.826.0.1.3680043.1708 loss 0.12700661042287748\n"
     ]
    },
    {
     "name": "stderr",
     "output_type": "stream",
     "text": [
      " 20%|██        | 2/10 [00:14<01:03,  7.89s/it]"
     ]
    },
    {
     "name": "stdout",
     "output_type": "stream",
     "text": [
      "459 1.2.826.0.1.3680043.17094 loss 0.22823591612154182\n"
     ]
    },
    {
     "name": "stderr",
     "output_type": "stream",
     "text": [
      " 30%|███       | 3/10 [00:27<01:10, 10.13s/it]"
     ]
    },
    {
     "name": "stdout",
     "output_type": "stream",
     "text": [
      "460 1.2.826.0.1.3680043.171 loss 0.5762442149211248\n"
     ]
    },
    {
     "name": "stderr",
     "output_type": "stream",
     "text": [
      " 40%|████      | 4/10 [00:36<00:57,  9.64s/it]"
     ]
    },
    {
     "name": "stdout",
     "output_type": "stream",
     "text": [
      "461 1.2.826.0.1.3680043.17127 loss 0.7257139592996935\n"
     ]
    },
    {
     "name": "stderr",
     "output_type": "stream",
     "text": [
      " 50%|█████     | 5/10 [00:47<00:50, 10.00s/it]"
     ]
    },
    {
     "name": "stdout",
     "output_type": "stream",
     "text": [
      "462 1.2.826.0.1.3680043.17129 loss 0.01728194971197011\n"
     ]
    },
    {
     "name": "stderr",
     "output_type": "stream",
     "text": [
      " 60%|██████    | 6/10 [00:55<00:37,  9.33s/it]"
     ]
    },
    {
     "name": "stdout",
     "output_type": "stream",
     "text": [
      "463 1.2.826.0.1.3680043.17166 loss 0.10772853367407231\n"
     ]
    },
    {
     "name": "stderr",
     "output_type": "stream",
     "text": [
      " 70%|███████   | 7/10 [01:03<00:26,  9.00s/it]"
     ]
    },
    {
     "name": "stdout",
     "output_type": "stream",
     "text": [
      "464 1.2.826.0.1.3680043.17170 loss 0.1011907532729713\n"
     ]
    },
    {
     "name": "stderr",
     "output_type": "stream",
     "text": [
      " 80%|████████  | 8/10 [01:12<00:17,  8.90s/it]"
     ]
    },
    {
     "name": "stdout",
     "output_type": "stream",
     "text": [
      "465 1.2.826.0.1.3680043.17184 loss 0.15903963349767894\n"
     ]
    },
    {
     "name": "stderr",
     "output_type": "stream",
     "text": [
      " 90%|█████████ | 9/10 [01:23<00:09,  9.50s/it]"
     ]
    },
    {
     "name": "stdout",
     "output_type": "stream",
     "text": [
      "466 1.2.826.0.1.3680043.17194 loss 0.027778231862422762\n"
     ]
    },
    {
     "name": "stderr",
     "output_type": "stream",
     "text": [
      "100%|██████████| 10/10 [01:34<00:00,  9.42s/it]"
     ]
    },
    {
     "name": "stdout",
     "output_type": "stream",
     "text": [
      "467 1.2.826.0.1.3680043.17208 loss 0.629332702071072\n",
      "0.2699552504855425\n"
     ]
    },
    {
     "name": "stderr",
     "output_type": "stream",
     "text": [
      "\n"
     ]
    }
   ],
   "source": [
    "def infer_patient(UID, label):\n",
    "    imgs, aspect, pixel_spacing = read_patient_dcm(os.path.join(IMAGES_DIR, UID))\n",
    "    # print(imgs.shape)\n",
    "    # print(aspect)\n",
    "    # print(pixel_spacing)\n",
    "\n",
    "    cliped_imgs = np.clip(imgs, a_min=-2242, a_max=2242) / 4484 + 0.5\n",
    "    imgs_tensor = torch.tensor(cliped_imgs, dtype=torch.float)\n",
    "    imgs_tensor = (imgs_tensor - 0.5) * 2.\n",
    "    # print(imgs_tensor.shape)\n",
    "    # print(imgs_tensor.min(), imgs_tensor.max())\n",
    "\n",
    "    seg_result = seg_patient(imgs_tensor, seg_model)\n",
    "    axial_boundary = get_axial_boundary(seg_result)\n",
    "    bboxes, scores = det_patient(imgs_tensor, det_model, axial_boundary)\n",
    "\n",
    "\n",
    "    max_score_index = scores.argmax()\n",
    "    # print(max_score_index)\n",
    "    # print(scores.shape)\n",
    "    # print(imgs_tensor.shape)\n",
    "    # plt.imshow(imgs_tensor[max_score_index+1, :, :])\n",
    "    # plt.axvline(bboxes[max_score_index+1, 0])\n",
    "    # plt.axvline(bboxes[max_score_index+1, 2])\n",
    "    # plt.axhline(bboxes[max_score_index+1, 1])\n",
    "    # plt.axhline(bboxes[max_score_index+1, 3])\n",
    "\n",
    "\n",
    "    class_list = get_bbox_class_list(seg_result[1:-1, 0, :, :], bboxes / 2)\n",
    "    prob = get_prob(scores, class_list)\n",
    "\n",
    "    # print(prob)\n",
    "\n",
    "    loss = cal_loss(prob, label)\n",
    "\n",
    "    # print(\"loss is\", loss)\n",
    "    return loss\n",
    "\n",
    "\n",
    "losses = []\n",
    "for index in tqdm(range(458, 468)):\n",
    "\n",
    "    UID = train_df.iloc[index]['StudyInstanceUID']\n",
    "    # print(UID)\n",
    "    label = train_df.iloc[index][['patient_overall', 'C1','C2','C3','C4','C5','C6','C7']].values\n",
    "    # print(label)\n",
    "    \n",
    "    loss = infer_patient(UID, label)\n",
    "    print(f'{index} {UID} loss {loss}')\n",
    "    losses.append(loss)\n",
    "    \n",
    "print(np.mean(losses))\n",
    "    "
   ]
  }
 ],
 "metadata": {
  "kernelspec": {
   "display_name": "Python 3 (ipykernel)",
   "language": "python",
   "name": "python3"
  },
  "language_info": {
   "codemirror_mode": {
    "name": "ipython",
    "version": 3
   },
   "file_extension": ".py",
   "mimetype": "text/x-python",
   "name": "python",
   "nbconvert_exporter": "python",
   "pygments_lexer": "ipython3",
   "version": "3.8.10"
  }
 },
 "nbformat": 4,
 "nbformat_minor": 5
}
