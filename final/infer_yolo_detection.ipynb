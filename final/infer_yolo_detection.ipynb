{
 "cells": [
  {
   "cell_type": "code",
   "execution_count": 7,
   "id": "108a1f7d-a7d6-47ad-af02-6d54964eb7a0",
   "metadata": {},
   "outputs": [
    {
     "data": {
      "text/plain": [
       "'cuda'"
      ]
     },
     "execution_count": 7,
     "metadata": {},
     "output_type": "execute_result"
    }
   ],
   "source": [
    "import pandas as pd\n",
    "import torch\n",
    "import matplotlib.pyplot as plt\n",
    "# import seaborn as sns\n",
    "# import ast\n",
    "import re\n",
    "import sys\n",
    "\n",
    "import pydicom as dicom\n",
    "import pylibjpeg\n",
    "\n",
    "\n",
    "\n",
    "yolo_path = \"../third/yolov7_custom\"\n",
    "sys.path.append(yolo_path)\n",
    "\n",
    "\n",
    "device = 'cuda' if torch.cuda.is_available() else 'cpu'\n",
    "device"
   ]
  },
  {
   "cell_type": "code",
   "execution_count": 5,
   "id": "e56c0390-bc7e-43cc-ba6a-5a07b22fc7ce",
   "metadata": {},
   "outputs": [],
   "source": [
    "from models.experimental import attempt_load"
   ]
  },
  {
   "cell_type": "code",
   "execution_count": 8,
   "id": "944087c9-b100-419b-a279-2dfbf450210d",
   "metadata": {},
   "outputs": [
    {
     "name": "stdout",
     "output_type": "stream",
     "text": [
      "Fusing layers... \n",
      "IDetect.fuse\n"
     ]
    }
   ],
   "source": [
    "weights = \"../third/yolov7_custom/runs/train/yolov7-custom8/weights/best.pt\"\n",
    "model = attempt_load(weights, map_location=device)"
   ]
  },
  {
   "cell_type": "code",
   "execution_count": 11,
   "id": "430c7a67-9925-4ce8-8757-dcf62498fd03",
   "metadata": {},
   "outputs": [
    {
     "name": "stdout",
     "output_type": "stream",
     "text": [
      "torch.Size([2, 25200, 6]) 3\n"
     ]
    }
   ],
   "source": [
    "img = torch.randn(2, 3, 640, 640).to(device)\n",
    "a, b = model(img)\n",
    "print(a.shape, len(b))"
   ]
  },
  {
   "cell_type": "code",
   "execution_count": 12,
   "id": "9185ac27-e69a-429f-aabf-9073381323c5",
   "metadata": {},
   "outputs": [
    {
     "data": {
      "text/plain": [
       "tensor([[3.85947e+00, 4.44627e+00, 1.30160e+01, 1.85073e+01, 1.69277e-06, 9.80011e-01],\n",
       "        [1.23987e+01, 4.88575e+00, 2.41878e+01, 2.51751e+01, 3.22249e-06, 9.82902e-01],\n",
       "        [2.10263e+01, 4.55755e+00, 3.09688e+01, 1.36698e+01, 2.16701e-06, 9.83137e-01],\n",
       "        [2.91929e+01, 4.42447e+00, 3.06341e+01, 1.19548e+01, 1.97170e-06, 9.83055e-01],\n",
       "        [3.72009e+01, 4.42371e+00, 3.06861e+01, 1.18495e+01, 1.95864e-06, 9.83066e-01],\n",
       "        [4.52237e+01, 4.42061e+00, 3.09071e+01, 1.16957e+01, 1.93840e-06, 9.83098e-01],\n",
       "        [5.32149e+01, 4.41813e+00, 3.06299e+01, 1.17848e+01, 1.95365e-06, 9.83057e-01],\n",
       "        [6.12411e+01, 4.42225e+00, 3.07175e+01, 1.19293e+01, 2.00291e-06, 9.83064e-01],\n",
       "        [6.92014e+01, 4.41483e+00, 3.03404e+01, 1.21839e+01, 2.03857e-06, 9.82976e-01],\n",
       "        [7.72211e+01, 4.42355e+00, 3.09233e+01, 1.19068e+01, 2.00479e-06, 9.83076e-01]], device='cuda:0')"
      ]
     },
     "execution_count": 12,
     "metadata": {},
     "output_type": "execute_result"
    }
   ],
   "source": [
    "a[0, :10, :]"
   ]
  }
 ],
 "metadata": {
  "kernelspec": {
   "display_name": "Python 3 (ipykernel)",
   "language": "python",
   "name": "python3"
  },
  "language_info": {
   "codemirror_mode": {
    "name": "ipython",
    "version": 3
   },
   "file_extension": ".py",
   "mimetype": "text/x-python",
   "name": "python",
   "nbconvert_exporter": "python",
   "pygments_lexer": "ipython3",
   "version": "3.8.10"
  }
 },
 "nbformat": 4,
 "nbformat_minor": 5
}
