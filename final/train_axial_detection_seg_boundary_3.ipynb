{
 "cells": [
  {
   "cell_type": "code",
   "execution_count": 1,
   "metadata": {},
   "outputs": [],
   "source": [
    "import wandb\n",
    "from datetime import datetime"
   ]
  },
  {
   "cell_type": "code",
   "execution_count": 51,
   "metadata": {
    "collapsed": false,
    "jupyter": {
     "outputs_hidden": false
    }
   },
   "outputs": [],
   "source": [
    "mask_model_ver = 132508\n",
    "lr = 1e-3\n",
    "batch_size = 16\n",
    "wd = 1e-5\n",
    "IMAGE_SIZE = 1024\n",
    "# backbone='efficientdetv2_dt'\n",
    "backbone='efficientdetv2_ds'\n",
    "vertical_type = \"axial\"\n",
    "train_portion = 0.5\n",
    "milestones = [30, 40, 50]\n",
    "model_name = \"effdet\"\n",
    "epochs = 60\n",
    "\n",
    "checkpoint = None\n",
    "# checkpoint = 'axial_detection_effdet_104709-last-54.pth'"
   ]
  },
  {
   "cell_type": "code",
   "execution_count": 3,
   "metadata": {
    "collapsed": false,
    "jupyter": {
     "outputs_hidden": false
    }
   },
   "outputs": [
    {
     "name": "stderr",
     "output_type": "stream",
     "text": [
      "Failed to detect the name of this notebook, you can set it manually with the WANDB_NOTEBOOK_NAME environment variable to enable code saving.\n",
      "\u001b[34m\u001b[1mwandb\u001b[0m: Currently logged in as: \u001b[33mlongyi\u001b[0m. Use \u001b[1m`wandb login --relogin`\u001b[0m to force relogin\n"
     ]
    },
    {
     "data": {
      "text/html": [
       "wandb version 0.13.4 is available!  To upgrade, please run:\n",
       " $ pip install wandb --upgrade"
      ],
      "text/plain": [
       "<IPython.core.display.HTML object>"
      ]
     },
     "metadata": {},
     "output_type": "display_data"
    },
    {
     "data": {
      "text/html": [
       "Tracking run with wandb version 0.13.3"
      ],
      "text/plain": [
       "<IPython.core.display.HTML object>"
      ]
     },
     "metadata": {},
     "output_type": "display_data"
    },
    {
     "data": {
      "text/html": [
       "Run data is saved locally in <code>/root/cervical_spine/final/wandb/run-20221026_142049-2n1vem6x</code>"
      ],
      "text/plain": [
       "<IPython.core.display.HTML object>"
      ]
     },
     "metadata": {},
     "output_type": "display_data"
    },
    {
     "data": {
      "text/html": [
       "Syncing run <strong><a href=\"https://wandb.ai/longyi/YOLOR/runs/2n1vem6x\" target=\"_blank\">firm-bush-40</a></strong> to <a href=\"https://wandb.ai/longyi/YOLOR\" target=\"_blank\">Weights & Biases</a> (<a href=\"https://wandb.me/run\" target=\"_blank\">docs</a>)<br/>"
      ],
      "text/plain": [
       "<IPython.core.display.HTML object>"
      ]
     },
     "metadata": {},
     "output_type": "display_data"
    },
    {
     "data": {
      "text/plain": [
       "'axial_detection_effdet_142055'"
      ]
     },
     "execution_count": 3,
     "metadata": {},
     "output_type": "execute_result"
    }
   ],
   "source": [
    "wandb_entity='longyi'\n",
    "model_name = \"effdet\"\n",
    "wandb.init(project=\"YOLOR\", entity=wandb_entity, config={\n",
    "    \"model\":model_name,\n",
    "    \"batch_size\":batch_size,\n",
    "    \"lr\" : lr,\n",
    "    \"wd\" : wd,\n",
    "    \"backbone\" : backbone,\n",
    "    \"image_size\" : IMAGE_SIZE,\n",
    "})\n",
    "wandb.run.name = f'axial_detection_{model_name}_' + datetime.now().strftime(\"%H%M%S\")\n",
    "wandb.run.name"
   ]
  },
  {
   "cell_type": "code",
   "execution_count": 4,
   "metadata": {
    "collapsed": false,
    "jupyter": {
     "outputs_hidden": false
    }
   },
   "outputs": [
    {
     "data": {
      "text/plain": [
       "'cuda'"
      ]
     },
     "execution_count": 4,
     "metadata": {},
     "output_type": "execute_result"
    }
   ],
   "source": [
    "import numpy as np\n",
    "import pandas as pd\n",
    "import torch\n",
    "import matplotlib.pyplot as plt\n",
    "import seaborn as sns\n",
    "import ast\n",
    "import sys\n",
    "\n",
    "effdet_path = \"../third/effdet\"\n",
    "sys.path.append(effdet_path)\n",
    "timm_path = \"../third/timm-pytorch-image-models\"\n",
    "sys.path.append(timm_path)\n",
    "import timm\n",
    "from timm.data import IMAGENET_DEFAULT_MEAN, IMAGENET_DEFAULT_STD\n",
    "from matplotlib import patches\n",
    "import sklearn\n",
    "import os\n",
    "from tqdm import tqdm\n",
    "\n",
    "omega_path = \"../third/omegaconf\"\n",
    "sys.path.append(omega_path)\n",
    "from omegaconf import OmegaConf\n",
    "import glob\n",
    "import sklearn\n",
    "import math\n",
    "import random\n",
    "\n",
    "from PIL import Image\n",
    "\n",
    "import cv2\n",
    "import albumentations as A\n",
    "from albumentations.pytorch import ToTensorV2\n",
    "\n",
    "import torch\n",
    "import torch.nn as nn\n",
    "import torch.nn.functional as F\n",
    "from torch.utils.data import Dataset, DataLoader\n",
    "from torch import optim\n",
    "import torchvision.transforms as T\n",
    "import torchvision.transforms.functional as TF\n",
    "\n",
    "from effdet import create_model\n",
    "from effdet import DetBenchPredict\n",
    "# from transformers import get_cosine_schedule_with_warmup\n",
    "\n",
    "import warnings\n",
    "\n",
    "warnings.filterwarnings('ignore')\n",
    "from sklearn import metrics, model_selection, preprocessing\n",
    "\n",
    "import json\n",
    "# from sklearn.model_selection import GroupKFold\n",
    "\n",
    "%load_ext autoreload\n",
    "%autoreload 2\n",
    "\n",
    "# pos_weight = torch.tensor(pos_weight)\n",
    "device = 'cuda' if torch.cuda.is_available() else 'cpu'\n",
    "device"
   ]
  },
  {
   "cell_type": "code",
   "execution_count": null,
   "metadata": {},
   "outputs": [],
   "source": []
  },
  {
   "cell_type": "code",
   "execution_count": 5,
   "metadata": {
    "collapsed": false,
    "jupyter": {
     "outputs_hidden": false
    }
   },
   "outputs": [],
   "source": [
    "DATA_DIR = \"/root/autodl-tmp/cervical_spine/\"\n",
    "IMAGES_DIR = os.path.join(DATA_DIR, 'train_axial_images_jpeg95_croped_132508')\n",
    "MASK_DIR = os.path.join(DATA_DIR, f'segmentation_axial_results_{mask_model_ver}')\n",
    "\n",
    "BBOX_PATH = os.path.join(DATA_DIR, 'lm_labels/project-6-at-2022-10-25-08-45-4515d287.json')\n",
    "\n",
    "\n",
    "label_df = pd.read_csv(os.path.join(DATA_DIR, 'train.csv')).set_index('StudyInstanceUID')"
   ]
  },
  {
   "cell_type": "code",
   "execution_count": 6,
   "metadata": {},
   "outputs": [
    {
     "name": "stdout",
     "output_type": "stream",
     "text": [
      "7407\n"
     ]
    }
   ],
   "source": [
    "with open(BBOX_PATH) as json_file:\n",
    "    bbox_data = json.load(json_file)\n",
    "    print(len(bbox_data))"
   ]
  },
  {
   "cell_type": "code",
   "execution_count": 7,
   "metadata": {},
   "outputs": [
    {
     "name": "stderr",
     "output_type": "stream",
     "text": [
      "  3%|▎         | 208/7407 [00:00<00:03, 2076.67it/s]"
     ]
    },
    {
     "name": "stdout",
     "output_type": "stream",
     "text": [
      "none result 1.2.826.0.1.3680043.13063\n",
      "none result 1.2.826.0.1.3680043.13063\n",
      "none result 1.2.826.0.1.3680043.13037\n",
      "none result 1.2.826.0.1.3680043.13037\n",
      "none result 1.2.826.0.1.3680043.13037\n",
      "none result 1.2.826.0.1.3680043.13037\n",
      "none result 1.2.826.0.1.3680043.13037\n",
      "none result 1.2.826.0.1.3680043.13037\n",
      "none result 1.2.826.0.1.3680043.13037\n",
      "none result 1.2.826.0.1.3680043.13037\n",
      "none result 1.2.826.0.1.3680043.13037\n",
      "none result 1.2.826.0.1.3680043.13037\n"
     ]
    },
    {
     "name": "stderr",
     "output_type": "stream",
     "text": [
      "100%|██████████| 7407/7407 [00:04<00:00, 1545.53it/s]"
     ]
    },
    {
     "name": "stdout",
     "output_type": "stream",
     "text": [
      "271\n",
      "7395\n"
     ]
    },
    {
     "name": "stderr",
     "output_type": "stream",
     "text": [
      "\n"
     ]
    },
    {
     "data": {
      "text/html": [
       "<div>\n",
       "<style scoped>\n",
       "    .dataframe tbody tr th:only-of-type {\n",
       "        vertical-align: middle;\n",
       "    }\n",
       "\n",
       "    .dataframe tbody tr th {\n",
       "        vertical-align: top;\n",
       "    }\n",
       "\n",
       "    .dataframe thead th {\n",
       "        text-align: right;\n",
       "    }\n",
       "</style>\n",
       "<table border=\"1\" class=\"dataframe\">\n",
       "  <thead>\n",
       "    <tr style=\"text-align: right;\">\n",
       "      <th></th>\n",
       "      <th>UID</th>\n",
       "      <th>axial_index</th>\n",
       "      <th>x</th>\n",
       "      <th>y</th>\n",
       "      <th>width</th>\n",
       "      <th>height</th>\n",
       "    </tr>\n",
       "  </thead>\n",
       "  <tbody>\n",
       "    <tr>\n",
       "      <th>7390</th>\n",
       "      <td>1.2.826.0.1.3680043.9940</td>\n",
       "      <td>139</td>\n",
       "      <td>297.23186</td>\n",
       "      <td>115.53983</td>\n",
       "      <td>85.18228</td>\n",
       "      <td>66.52623</td>\n",
       "    </tr>\n",
       "    <tr>\n",
       "      <th>7391</th>\n",
       "      <td>1.2.826.0.1.3680043.9940</td>\n",
       "      <td>140</td>\n",
       "      <td>298.0</td>\n",
       "      <td>117.0</td>\n",
       "      <td>86.0</td>\n",
       "      <td>61.0</td>\n",
       "    </tr>\n",
       "    <tr>\n",
       "      <th>7392</th>\n",
       "      <td>1.2.826.0.1.3680043.9940</td>\n",
       "      <td>141</td>\n",
       "      <td>298.0</td>\n",
       "      <td>119.0</td>\n",
       "      <td>87.0</td>\n",
       "      <td>58.0</td>\n",
       "    </tr>\n",
       "    <tr>\n",
       "      <th>7393</th>\n",
       "      <td>1.2.826.0.1.3680043.9940</td>\n",
       "      <td>142</td>\n",
       "      <td>299.0</td>\n",
       "      <td>120.0</td>\n",
       "      <td>89.0</td>\n",
       "      <td>56.0</td>\n",
       "    </tr>\n",
       "    <tr>\n",
       "      <th>7394</th>\n",
       "      <td>1.2.826.0.1.3680043.9940</td>\n",
       "      <td>143</td>\n",
       "      <td>299.04425</td>\n",
       "      <td>121.88319</td>\n",
       "      <td>89.71326</td>\n",
       "      <td>53.46549</td>\n",
       "    </tr>\n",
       "  </tbody>\n",
       "</table>\n",
       "</div>"
      ],
      "text/plain": [
       "                           UID axial_index          x          y     width  \\\n",
       "7390  1.2.826.0.1.3680043.9940         139  297.23186  115.53983  85.18228   \n",
       "7391  1.2.826.0.1.3680043.9940         140      298.0      117.0      86.0   \n",
       "7392  1.2.826.0.1.3680043.9940         141      298.0      119.0      87.0   \n",
       "7393  1.2.826.0.1.3680043.9940         142      299.0      120.0      89.0   \n",
       "7394  1.2.826.0.1.3680043.9940         143  299.04425  121.88319  89.71326   \n",
       "\n",
       "        height  \n",
       "7390  66.52623  \n",
       "7391      61.0  \n",
       "7392      58.0  \n",
       "7393      56.0  \n",
       "7394  53.46549  "
      ]
     },
     "execution_count": 7,
     "metadata": {},
     "output_type": "execute_result"
    }
   ],
   "source": [
    "bbox_df = pd.DataFrame()\n",
    "for data in tqdm(bbox_data):\n",
    "    image = data['data']['image']\n",
    "    UID = image.split('/')[-2]\n",
    "    Slice = image.split('/')[-1].replace('.jpeg','')\n",
    "    \n",
    "    if len(data['annotations'][0]['result']) == 0:\n",
    "        print(f'none result {UID}')\n",
    "        continue\n",
    "    bbox = data['annotations'][0]['result'][0]['value']\n",
    "    \n",
    "    # coord = [bbox['x'], bbox['y'], bbox['width'], bbox['height']]\n",
    "    \n",
    "    new_s = pd.Series(data={\n",
    "        'UID' : UID,\n",
    "        'axial_index' : Slice,\n",
    "        'x' : bbox['x'] * 5.12,\n",
    "        'y' : bbox['y'] * 5.12,\n",
    "        'width' : bbox['width'] * 5.12,\n",
    "        'height' : bbox['height'] * 5.12\n",
    "    })\n",
    "    \n",
    "    bbox_df = pd.concat((bbox_df, new_s.to_frame().T), axis=0)\n",
    "\n",
    "bbox_df = bbox_df.sort_values(['UID','axial_index']).reset_index(drop=True)\n",
    "print(len(bbox_df.UID.unique()))\n",
    "print(len(bbox_df))\n",
    "bbox_df.tail()"
   ]
  },
  {
   "cell_type": "code",
   "execution_count": 8,
   "metadata": {},
   "outputs": [
    {
     "name": "stdout",
     "output_type": "stream",
     "text": [
      "7395\n"
     ]
    },
    {
     "data": {
      "text/html": [
       "<div>\n",
       "<style scoped>\n",
       "    .dataframe tbody tr th:only-of-type {\n",
       "        vertical-align: middle;\n",
       "    }\n",
       "\n",
       "    .dataframe tbody tr th {\n",
       "        vertical-align: top;\n",
       "    }\n",
       "\n",
       "    .dataframe thead th {\n",
       "        text-align: right;\n",
       "    }\n",
       "</style>\n",
       "<table border=\"1\" class=\"dataframe\">\n",
       "  <thead>\n",
       "    <tr style=\"text-align: right;\">\n",
       "      <th></th>\n",
       "      <th>UID</th>\n",
       "      <th>axial_index</th>\n",
       "      <th>x</th>\n",
       "      <th>y</th>\n",
       "      <th>width</th>\n",
       "      <th>height</th>\n",
       "    </tr>\n",
       "    <tr>\n",
       "      <th>UID_Slice</th>\n",
       "      <th></th>\n",
       "      <th></th>\n",
       "      <th></th>\n",
       "      <th></th>\n",
       "      <th></th>\n",
       "      <th></th>\n",
       "    </tr>\n",
       "  </thead>\n",
       "  <tbody>\n",
       "    <tr>\n",
       "      <th>1.2.826.0.1.3680043.10051.132</th>\n",
       "      <td>1.2.826.0.1.3680043.10051</td>\n",
       "      <td>132</td>\n",
       "      <td>219.27715</td>\n",
       "      <td>216.71419</td>\n",
       "      <td>17.3044</td>\n",
       "      <td>20.38517</td>\n",
       "    </tr>\n",
       "    <tr>\n",
       "      <th>1.2.826.0.1.3680043.10051.133</th>\n",
       "      <td>1.2.826.0.1.3680043.10051</td>\n",
       "      <td>133</td>\n",
       "      <td>221.5646</td>\n",
       "      <td>216.71419</td>\n",
       "      <td>17.87844</td>\n",
       "      <td>25.24362</td>\n",
       "    </tr>\n",
       "    <tr>\n",
       "      <th>1.2.826.0.1.3680043.10051.134</th>\n",
       "      <td>1.2.826.0.1.3680043.10051</td>\n",
       "      <td>134</td>\n",
       "      <td>216.82151</td>\n",
       "      <td>221.62546</td>\n",
       "      <td>27.00959</td>\n",
       "      <td>26.37454</td>\n",
       "    </tr>\n",
       "    <tr>\n",
       "      <th>1.2.826.0.1.3680043.10051.135</th>\n",
       "      <td>1.2.826.0.1.3680043.10051</td>\n",
       "      <td>135</td>\n",
       "      <td>214.49455</td>\n",
       "      <td>215.48637</td>\n",
       "      <td>27.92726</td>\n",
       "      <td>37.51363</td>\n",
       "    </tr>\n",
       "    <tr>\n",
       "      <th>1.2.826.0.1.3680043.10051.136</th>\n",
       "      <td>1.2.826.0.1.3680043.10051</td>\n",
       "      <td>136</td>\n",
       "      <td>214.0</td>\n",
       "      <td>215.48637</td>\n",
       "      <td>27.0</td>\n",
       "      <td>43.51363</td>\n",
       "    </tr>\n",
       "  </tbody>\n",
       "</table>\n",
       "</div>"
      ],
      "text/plain": [
       "                                                     UID  axial_index  \\\n",
       "UID_Slice                                                               \n",
       "1.2.826.0.1.3680043.10051.132  1.2.826.0.1.3680043.10051          132   \n",
       "1.2.826.0.1.3680043.10051.133  1.2.826.0.1.3680043.10051          133   \n",
       "1.2.826.0.1.3680043.10051.134  1.2.826.0.1.3680043.10051          134   \n",
       "1.2.826.0.1.3680043.10051.135  1.2.826.0.1.3680043.10051          135   \n",
       "1.2.826.0.1.3680043.10051.136  1.2.826.0.1.3680043.10051          136   \n",
       "\n",
       "                                       x          y     width    height  \n",
       "UID_Slice                                                                \n",
       "1.2.826.0.1.3680043.10051.132  219.27715  216.71419   17.3044  20.38517  \n",
       "1.2.826.0.1.3680043.10051.133   221.5646  216.71419  17.87844  25.24362  \n",
       "1.2.826.0.1.3680043.10051.134  216.82151  221.62546  27.00959  26.37454  \n",
       "1.2.826.0.1.3680043.10051.135  214.49455  215.48637  27.92726  37.51363  \n",
       "1.2.826.0.1.3680043.10051.136      214.0  215.48637      27.0  43.51363  "
      ]
     },
     "execution_count": 8,
     "metadata": {},
     "output_type": "execute_result"
    }
   ],
   "source": [
    "bbox_df['UID_Slice'] = bbox_df['UID'] + '.' + bbox_df['axial_index'].astype('string')\n",
    "bbox_df = bbox_df.set_index('UID_Slice').astype({'axial_index': int})\n",
    "print(len(bbox_df))\n",
    "bbox_df.head()"
   ]
  },
  {
   "cell_type": "code",
   "execution_count": 9,
   "metadata": {},
   "outputs": [
    {
     "name": "stdout",
     "output_type": "stream",
     "text": [
      "708779\n"
     ]
    },
    {
     "data": {
      "text/html": [
       "<div>\n",
       "<style scoped>\n",
       "    .dataframe tbody tr th:only-of-type {\n",
       "        vertical-align: middle;\n",
       "    }\n",
       "\n",
       "    .dataframe tbody tr th {\n",
       "        vertical-align: top;\n",
       "    }\n",
       "\n",
       "    .dataframe thead th {\n",
       "        text-align: right;\n",
       "    }\n",
       "</style>\n",
       "<table border=\"1\" class=\"dataframe\">\n",
       "  <thead>\n",
       "    <tr style=\"text-align: right;\">\n",
       "      <th></th>\n",
       "      <th>StudyInstanceUID</th>\n",
       "      <th>Slice</th>\n",
       "      <th>Start</th>\n",
       "      <th>pixel_spacing</th>\n",
       "      <th>xmin</th>\n",
       "      <th>ymin</th>\n",
       "      <th>xmax</th>\n",
       "      <th>ymax</th>\n",
       "    </tr>\n",
       "    <tr>\n",
       "      <th>UID_Slice</th>\n",
       "      <th></th>\n",
       "      <th></th>\n",
       "      <th></th>\n",
       "      <th></th>\n",
       "      <th></th>\n",
       "      <th></th>\n",
       "      <th></th>\n",
       "      <th></th>\n",
       "    </tr>\n",
       "  </thead>\n",
       "  <tbody>\n",
       "    <tr>\n",
       "      <th>1.2.826.0.1.3680043.10001.0</th>\n",
       "      <td>1.2.826.0.1.3680043.10001</td>\n",
       "      <td>0</td>\n",
       "      <td>0</td>\n",
       "      <td>0.253906</td>\n",
       "      <td>0.0</td>\n",
       "      <td>0.0</td>\n",
       "      <td>512.0</td>\n",
       "      <td>512.0</td>\n",
       "    </tr>\n",
       "    <tr>\n",
       "      <th>1.2.826.0.1.3680043.10001.1</th>\n",
       "      <td>1.2.826.0.1.3680043.10001</td>\n",
       "      <td>1</td>\n",
       "      <td>0</td>\n",
       "      <td>0.253906</td>\n",
       "      <td>0.0</td>\n",
       "      <td>0.0</td>\n",
       "      <td>512.0</td>\n",
       "      <td>512.0</td>\n",
       "    </tr>\n",
       "    <tr>\n",
       "      <th>1.2.826.0.1.3680043.10001.2</th>\n",
       "      <td>1.2.826.0.1.3680043.10001</td>\n",
       "      <td>2</td>\n",
       "      <td>0</td>\n",
       "      <td>0.253906</td>\n",
       "      <td>0.0</td>\n",
       "      <td>0.0</td>\n",
       "      <td>512.0</td>\n",
       "      <td>512.0</td>\n",
       "    </tr>\n",
       "    <tr>\n",
       "      <th>1.2.826.0.1.3680043.10001.3</th>\n",
       "      <td>1.2.826.0.1.3680043.10001</td>\n",
       "      <td>3</td>\n",
       "      <td>0</td>\n",
       "      <td>0.253906</td>\n",
       "      <td>0.0</td>\n",
       "      <td>0.0</td>\n",
       "      <td>512.0</td>\n",
       "      <td>512.0</td>\n",
       "    </tr>\n",
       "    <tr>\n",
       "      <th>1.2.826.0.1.3680043.10001.4</th>\n",
       "      <td>1.2.826.0.1.3680043.10001</td>\n",
       "      <td>4</td>\n",
       "      <td>0</td>\n",
       "      <td>0.253906</td>\n",
       "      <td>0.0</td>\n",
       "      <td>0.0</td>\n",
       "      <td>512.0</td>\n",
       "      <td>512.0</td>\n",
       "    </tr>\n",
       "  </tbody>\n",
       "</table>\n",
       "</div>"
      ],
      "text/plain": [
       "                                      StudyInstanceUID  Slice  Start  \\\n",
       "UID_Slice                                                              \n",
       "1.2.826.0.1.3680043.10001.0  1.2.826.0.1.3680043.10001      0      0   \n",
       "1.2.826.0.1.3680043.10001.1  1.2.826.0.1.3680043.10001      1      0   \n",
       "1.2.826.0.1.3680043.10001.2  1.2.826.0.1.3680043.10001      2      0   \n",
       "1.2.826.0.1.3680043.10001.3  1.2.826.0.1.3680043.10001      3      0   \n",
       "1.2.826.0.1.3680043.10001.4  1.2.826.0.1.3680043.10001      4      0   \n",
       "\n",
       "                             pixel_spacing  xmin  ymin   xmax   ymax  \n",
       "UID_Slice                                                             \n",
       "1.2.826.0.1.3680043.10001.0       0.253906   0.0   0.0  512.0  512.0  \n",
       "1.2.826.0.1.3680043.10001.1       0.253906   0.0   0.0  512.0  512.0  \n",
       "1.2.826.0.1.3680043.10001.2       0.253906   0.0   0.0  512.0  512.0  \n",
       "1.2.826.0.1.3680043.10001.3       0.253906   0.0   0.0  512.0  512.0  \n",
       "1.2.826.0.1.3680043.10001.4       0.253906   0.0   0.0  512.0  512.0  "
      ]
     },
     "execution_count": 9,
     "metadata": {},
     "output_type": "execute_result"
    }
   ],
   "source": [
    "\n",
    "total_boundary_df = pd.read_csv(os.path.join(DATA_DIR, f'infered_boundary_{mask_model_ver}_2.csv'))\n",
    "total_boundary_df['UID_Slice'] = total_boundary_df['StudyInstanceUID'] + '.' + total_boundary_df['Slice'].astype('string')\n",
    "total_boundary_df = total_boundary_df.set_index('UID_Slice').astype({'Slice': int})\n",
    "print(len(total_boundary_df))\n",
    "total_boundary_df.head()"
   ]
  },
  {
   "cell_type": "code",
   "execution_count": 10,
   "metadata": {},
   "outputs": [
    {
     "name": "stdout",
     "output_type": "stream",
     "text": [
      "89733\n"
     ]
    },
    {
     "data": {
      "text/html": [
       "<div>\n",
       "<style scoped>\n",
       "    .dataframe tbody tr th:only-of-type {\n",
       "        vertical-align: middle;\n",
       "    }\n",
       "\n",
       "    .dataframe tbody tr th {\n",
       "        vertical-align: top;\n",
       "    }\n",
       "\n",
       "    .dataframe thead th {\n",
       "        text-align: right;\n",
       "    }\n",
       "</style>\n",
       "<table border=\"1\" class=\"dataframe\">\n",
       "  <thead>\n",
       "    <tr style=\"text-align: right;\">\n",
       "      <th></th>\n",
       "      <th>StudyInstanceUID</th>\n",
       "      <th>Slice</th>\n",
       "      <th>Start</th>\n",
       "      <th>pixel_spacing</th>\n",
       "      <th>xmin</th>\n",
       "      <th>ymin</th>\n",
       "      <th>xmax</th>\n",
       "      <th>ymax</th>\n",
       "    </tr>\n",
       "    <tr>\n",
       "      <th>UID_Slice</th>\n",
       "      <th></th>\n",
       "      <th></th>\n",
       "      <th></th>\n",
       "      <th></th>\n",
       "      <th></th>\n",
       "      <th></th>\n",
       "      <th></th>\n",
       "      <th></th>\n",
       "    </tr>\n",
       "  </thead>\n",
       "  <tbody>\n",
       "    <tr>\n",
       "      <th>1.2.826.0.1.3680043.10051.0</th>\n",
       "      <td>1.2.826.0.1.3680043.10051</td>\n",
       "      <td>0</td>\n",
       "      <td>0</td>\n",
       "      <td>0.253906</td>\n",
       "      <td>0.0</td>\n",
       "      <td>0.0</td>\n",
       "      <td>512.0</td>\n",
       "      <td>512.0</td>\n",
       "    </tr>\n",
       "    <tr>\n",
       "      <th>1.2.826.0.1.3680043.10051.1</th>\n",
       "      <td>1.2.826.0.1.3680043.10051</td>\n",
       "      <td>1</td>\n",
       "      <td>0</td>\n",
       "      <td>0.253906</td>\n",
       "      <td>0.0</td>\n",
       "      <td>0.0</td>\n",
       "      <td>512.0</td>\n",
       "      <td>512.0</td>\n",
       "    </tr>\n",
       "    <tr>\n",
       "      <th>1.2.826.0.1.3680043.10051.2</th>\n",
       "      <td>1.2.826.0.1.3680043.10051</td>\n",
       "      <td>2</td>\n",
       "      <td>0</td>\n",
       "      <td>0.253906</td>\n",
       "      <td>0.0</td>\n",
       "      <td>0.0</td>\n",
       "      <td>512.0</td>\n",
       "      <td>512.0</td>\n",
       "    </tr>\n",
       "    <tr>\n",
       "      <th>1.2.826.0.1.3680043.10051.3</th>\n",
       "      <td>1.2.826.0.1.3680043.10051</td>\n",
       "      <td>3</td>\n",
       "      <td>0</td>\n",
       "      <td>0.253906</td>\n",
       "      <td>0.0</td>\n",
       "      <td>0.0</td>\n",
       "      <td>512.0</td>\n",
       "      <td>512.0</td>\n",
       "    </tr>\n",
       "    <tr>\n",
       "      <th>1.2.826.0.1.3680043.10051.4</th>\n",
       "      <td>1.2.826.0.1.3680043.10051</td>\n",
       "      <td>4</td>\n",
       "      <td>0</td>\n",
       "      <td>0.253906</td>\n",
       "      <td>0.0</td>\n",
       "      <td>0.0</td>\n",
       "      <td>512.0</td>\n",
       "      <td>512.0</td>\n",
       "    </tr>\n",
       "  </tbody>\n",
       "</table>\n",
       "</div>"
      ],
      "text/plain": [
       "                                      StudyInstanceUID  Slice  Start  \\\n",
       "UID_Slice                                                              \n",
       "1.2.826.0.1.3680043.10051.0  1.2.826.0.1.3680043.10051      0      0   \n",
       "1.2.826.0.1.3680043.10051.1  1.2.826.0.1.3680043.10051      1      0   \n",
       "1.2.826.0.1.3680043.10051.2  1.2.826.0.1.3680043.10051      2      0   \n",
       "1.2.826.0.1.3680043.10051.3  1.2.826.0.1.3680043.10051      3      0   \n",
       "1.2.826.0.1.3680043.10051.4  1.2.826.0.1.3680043.10051      4      0   \n",
       "\n",
       "                             pixel_spacing  xmin  ymin   xmax   ymax  \n",
       "UID_Slice                                                             \n",
       "1.2.826.0.1.3680043.10051.0       0.253906   0.0   0.0  512.0  512.0  \n",
       "1.2.826.0.1.3680043.10051.1       0.253906   0.0   0.0  512.0  512.0  \n",
       "1.2.826.0.1.3680043.10051.2       0.253906   0.0   0.0  512.0  512.0  \n",
       "1.2.826.0.1.3680043.10051.3       0.253906   0.0   0.0  512.0  512.0  \n",
       "1.2.826.0.1.3680043.10051.4       0.253906   0.0   0.0  512.0  512.0  "
      ]
     },
     "execution_count": 10,
     "metadata": {},
     "output_type": "execute_result"
    }
   ],
   "source": [
    "boundary_df = total_boundary_df[total_boundary_df.StudyInstanceUID.isin(bbox_df.UID.unique())]\n",
    "print(len(boundary_df))\n",
    "boundary_df.head()"
   ]
  },
  {
   "cell_type": "markdown",
   "metadata": {},
   "source": [
    "Pick useful columns"
   ]
  },
  {
   "cell_type": "code",
   "execution_count": 11,
   "metadata": {},
   "outputs": [
    {
     "name": "stdout",
     "output_type": "stream",
     "text": [
      "89733\n"
     ]
    },
    {
     "data": {
      "text/html": [
       "<div>\n",
       "<style scoped>\n",
       "    .dataframe tbody tr th:only-of-type {\n",
       "        vertical-align: middle;\n",
       "    }\n",
       "\n",
       "    .dataframe tbody tr th {\n",
       "        vertical-align: top;\n",
       "    }\n",
       "\n",
       "    .dataframe thead th {\n",
       "        text-align: right;\n",
       "    }\n",
       "</style>\n",
       "<table border=\"1\" class=\"dataframe\">\n",
       "  <thead>\n",
       "    <tr style=\"text-align: right;\">\n",
       "      <th></th>\n",
       "      <th>x</th>\n",
       "      <th>y</th>\n",
       "      <th>width</th>\n",
       "      <th>height</th>\n",
       "      <th>xmin</th>\n",
       "      <th>ymin</th>\n",
       "      <th>xmax</th>\n",
       "      <th>ymax</th>\n",
       "      <th>Slice</th>\n",
       "      <th>StudyInstanceUID</th>\n",
       "      <th>new_x</th>\n",
       "      <th>new_y</th>\n",
       "    </tr>\n",
       "    <tr>\n",
       "      <th>UID_Slice</th>\n",
       "      <th></th>\n",
       "      <th></th>\n",
       "      <th></th>\n",
       "      <th></th>\n",
       "      <th></th>\n",
       "      <th></th>\n",
       "      <th></th>\n",
       "      <th></th>\n",
       "      <th></th>\n",
       "      <th></th>\n",
       "      <th></th>\n",
       "      <th></th>\n",
       "    </tr>\n",
       "  </thead>\n",
       "  <tbody>\n",
       "    <tr>\n",
       "      <th>1.2.826.0.1.3680043.10051.132</th>\n",
       "      <td>219.27715</td>\n",
       "      <td>216.71419</td>\n",
       "      <td>17.3044</td>\n",
       "      <td>20.38517</td>\n",
       "      <td>43.076729</td>\n",
       "      <td>0.0</td>\n",
       "      <td>436.923271</td>\n",
       "      <td>393.846542</td>\n",
       "      <td>132</td>\n",
       "      <td>1.2.826.0.1.3680043.10051</td>\n",
       "      <td>176.200421</td>\n",
       "      <td>216.71419</td>\n",
       "    </tr>\n",
       "    <tr>\n",
       "      <th>1.2.826.0.1.3680043.10051.133</th>\n",
       "      <td>221.5646</td>\n",
       "      <td>216.71419</td>\n",
       "      <td>17.87844</td>\n",
       "      <td>25.24362</td>\n",
       "      <td>36.076729</td>\n",
       "      <td>0.0</td>\n",
       "      <td>429.923271</td>\n",
       "      <td>393.846542</td>\n",
       "      <td>133</td>\n",
       "      <td>1.2.826.0.1.3680043.10051</td>\n",
       "      <td>185.487871</td>\n",
       "      <td>216.71419</td>\n",
       "    </tr>\n",
       "    <tr>\n",
       "      <th>1.2.826.0.1.3680043.10051.134</th>\n",
       "      <td>216.82151</td>\n",
       "      <td>221.62546</td>\n",
       "      <td>27.00959</td>\n",
       "      <td>26.37454</td>\n",
       "      <td>45.076729</td>\n",
       "      <td>0.0</td>\n",
       "      <td>438.923271</td>\n",
       "      <td>393.846542</td>\n",
       "      <td>134</td>\n",
       "      <td>1.2.826.0.1.3680043.10051</td>\n",
       "      <td>171.744781</td>\n",
       "      <td>221.62546</td>\n",
       "    </tr>\n",
       "    <tr>\n",
       "      <th>1.2.826.0.1.3680043.10051.135</th>\n",
       "      <td>214.49455</td>\n",
       "      <td>215.48637</td>\n",
       "      <td>27.92726</td>\n",
       "      <td>37.51363</td>\n",
       "      <td>41.076729</td>\n",
       "      <td>0.0</td>\n",
       "      <td>434.923271</td>\n",
       "      <td>393.846542</td>\n",
       "      <td>135</td>\n",
       "      <td>1.2.826.0.1.3680043.10051</td>\n",
       "      <td>173.417821</td>\n",
       "      <td>215.48637</td>\n",
       "    </tr>\n",
       "    <tr>\n",
       "      <th>1.2.826.0.1.3680043.10051.136</th>\n",
       "      <td>214.0</td>\n",
       "      <td>215.48637</td>\n",
       "      <td>27.0</td>\n",
       "      <td>43.51363</td>\n",
       "      <td>28.076729</td>\n",
       "      <td>0.0</td>\n",
       "      <td>421.923271</td>\n",
       "      <td>393.846542</td>\n",
       "      <td>136</td>\n",
       "      <td>1.2.826.0.1.3680043.10051</td>\n",
       "      <td>185.923271</td>\n",
       "      <td>215.48637</td>\n",
       "    </tr>\n",
       "  </tbody>\n",
       "</table>\n",
       "</div>"
      ],
      "text/plain": [
       "                                       x          y     width    height  \\\n",
       "UID_Slice                                                                 \n",
       "1.2.826.0.1.3680043.10051.132  219.27715  216.71419   17.3044  20.38517   \n",
       "1.2.826.0.1.3680043.10051.133   221.5646  216.71419  17.87844  25.24362   \n",
       "1.2.826.0.1.3680043.10051.134  216.82151  221.62546  27.00959  26.37454   \n",
       "1.2.826.0.1.3680043.10051.135  214.49455  215.48637  27.92726  37.51363   \n",
       "1.2.826.0.1.3680043.10051.136      214.0  215.48637      27.0  43.51363   \n",
       "\n",
       "                                    xmin  ymin        xmax        ymax  Slice  \\\n",
       "UID_Slice                                                                       \n",
       "1.2.826.0.1.3680043.10051.132  43.076729   0.0  436.923271  393.846542    132   \n",
       "1.2.826.0.1.3680043.10051.133  36.076729   0.0  429.923271  393.846542    133   \n",
       "1.2.826.0.1.3680043.10051.134  45.076729   0.0  438.923271  393.846542    134   \n",
       "1.2.826.0.1.3680043.10051.135  41.076729   0.0  434.923271  393.846542    135   \n",
       "1.2.826.0.1.3680043.10051.136  28.076729   0.0  421.923271  393.846542    136   \n",
       "\n",
       "                                        StudyInstanceUID       new_x  \\\n",
       "UID_Slice                                                              \n",
       "1.2.826.0.1.3680043.10051.132  1.2.826.0.1.3680043.10051  176.200421   \n",
       "1.2.826.0.1.3680043.10051.133  1.2.826.0.1.3680043.10051  185.487871   \n",
       "1.2.826.0.1.3680043.10051.134  1.2.826.0.1.3680043.10051  171.744781   \n",
       "1.2.826.0.1.3680043.10051.135  1.2.826.0.1.3680043.10051  173.417821   \n",
       "1.2.826.0.1.3680043.10051.136  1.2.826.0.1.3680043.10051  185.923271   \n",
       "\n",
       "                                   new_y  \n",
       "UID_Slice                                 \n",
       "1.2.826.0.1.3680043.10051.132  216.71419  \n",
       "1.2.826.0.1.3680043.10051.133  216.71419  \n",
       "1.2.826.0.1.3680043.10051.134  221.62546  \n",
       "1.2.826.0.1.3680043.10051.135  215.48637  \n",
       "1.2.826.0.1.3680043.10051.136  215.48637  "
      ]
     },
     "execution_count": 11,
     "metadata": {},
     "output_type": "execute_result"
    }
   ],
   "source": [
    "train_df = pd.concat((bbox_df[['x','y','width','height']], boundary_df[['xmin','ymin','xmax','ymax','Slice', 'StudyInstanceUID']]), axis=1)\n",
    "train_df[['new_x', 'new_y']] = train_df[['x','y']].values - train_df[['xmin','ymin']].values\n",
    "print(len(train_df))\n",
    "train_df.head()"
   ]
  },
  {
   "cell_type": "markdown",
   "metadata": {},
   "source": [
    "Only pick same size negative cases"
   ]
  },
  {
   "cell_type": "code",
   "execution_count": 12,
   "metadata": {},
   "outputs": [
    {
     "name": "stdout",
     "output_type": "stream",
     "text": [
      "455112\n"
     ]
    },
    {
     "data": {
      "text/html": [
       "<div>\n",
       "<style scoped>\n",
       "    .dataframe tbody tr th:only-of-type {\n",
       "        vertical-align: middle;\n",
       "    }\n",
       "\n",
       "    .dataframe tbody tr th {\n",
       "        vertical-align: top;\n",
       "    }\n",
       "\n",
       "    .dataframe thead th {\n",
       "        text-align: right;\n",
       "    }\n",
       "</style>\n",
       "<table border=\"1\" class=\"dataframe\">\n",
       "  <thead>\n",
       "    <tr style=\"text-align: right;\">\n",
       "      <th></th>\n",
       "      <th>StudyInstanceUID</th>\n",
       "      <th>Slice</th>\n",
       "      <th>CV</th>\n",
       "    </tr>\n",
       "    <tr>\n",
       "      <th>UID_Slice</th>\n",
       "      <th></th>\n",
       "      <th></th>\n",
       "      <th></th>\n",
       "    </tr>\n",
       "  </thead>\n",
       "  <tbody>\n",
       "    <tr>\n",
       "      <th>1.2.826.0.1.3680043.10001.153</th>\n",
       "      <td>1.2.826.0.1.3680043.10001</td>\n",
       "      <td>153</td>\n",
       "      <td>0.618027</td>\n",
       "    </tr>\n",
       "    <tr>\n",
       "      <th>1.2.826.0.1.3680043.10001.154</th>\n",
       "      <td>1.2.826.0.1.3680043.10001</td>\n",
       "      <td>154</td>\n",
       "      <td>0.657041</td>\n",
       "    </tr>\n",
       "    <tr>\n",
       "      <th>1.2.826.0.1.3680043.10001.155</th>\n",
       "      <td>1.2.826.0.1.3680043.10001</td>\n",
       "      <td>155</td>\n",
       "      <td>0.680784</td>\n",
       "    </tr>\n",
       "    <tr>\n",
       "      <th>1.2.826.0.1.3680043.10001.156</th>\n",
       "      <td>1.2.826.0.1.3680043.10001</td>\n",
       "      <td>156</td>\n",
       "      <td>0.656002</td>\n",
       "    </tr>\n",
       "    <tr>\n",
       "      <th>1.2.826.0.1.3680043.10001.100</th>\n",
       "      <td>1.2.826.0.1.3680043.10001</td>\n",
       "      <td>100</td>\n",
       "      <td>0.248142</td>\n",
       "    </tr>\n",
       "    <tr>\n",
       "      <th>...</th>\n",
       "      <td>...</td>\n",
       "      <td>...</td>\n",
       "      <td>...</td>\n",
       "    </tr>\n",
       "    <tr>\n",
       "      <th>1.2.826.0.1.3680043.9997.95</th>\n",
       "      <td>1.2.826.0.1.3680043.9997</td>\n",
       "      <td>95</td>\n",
       "      <td>0.343538</td>\n",
       "    </tr>\n",
       "    <tr>\n",
       "      <th>1.2.826.0.1.3680043.9997.96</th>\n",
       "      <td>1.2.826.0.1.3680043.9997</td>\n",
       "      <td>96</td>\n",
       "      <td>0.354428</td>\n",
       "    </tr>\n",
       "    <tr>\n",
       "      <th>1.2.826.0.1.3680043.9997.97</th>\n",
       "      <td>1.2.826.0.1.3680043.9997</td>\n",
       "      <td>97</td>\n",
       "      <td>0.361016</td>\n",
       "    </tr>\n",
       "    <tr>\n",
       "      <th>1.2.826.0.1.3680043.9997.98</th>\n",
       "      <td>1.2.826.0.1.3680043.9997</td>\n",
       "      <td>98</td>\n",
       "      <td>0.362826</td>\n",
       "    </tr>\n",
       "    <tr>\n",
       "      <th>1.2.826.0.1.3680043.9997.99</th>\n",
       "      <td>1.2.826.0.1.3680043.9997</td>\n",
       "      <td>99</td>\n",
       "      <td>0.364932</td>\n",
       "    </tr>\n",
       "  </tbody>\n",
       "</table>\n",
       "<p>455112 rows × 3 columns</p>\n",
       "</div>"
      ],
      "text/plain": [
       "                                        StudyInstanceUID  Slice        CV\n",
       "UID_Slice                                                                \n",
       "1.2.826.0.1.3680043.10001.153  1.2.826.0.1.3680043.10001    153  0.618027\n",
       "1.2.826.0.1.3680043.10001.154  1.2.826.0.1.3680043.10001    154  0.657041\n",
       "1.2.826.0.1.3680043.10001.155  1.2.826.0.1.3680043.10001    155  0.680784\n",
       "1.2.826.0.1.3680043.10001.156  1.2.826.0.1.3680043.10001    156  0.656002\n",
       "1.2.826.0.1.3680043.10001.100  1.2.826.0.1.3680043.10001    100  0.248142\n",
       "...                                                  ...    ...       ...\n",
       "1.2.826.0.1.3680043.9997.95     1.2.826.0.1.3680043.9997     95  0.343538\n",
       "1.2.826.0.1.3680043.9997.96     1.2.826.0.1.3680043.9997     96  0.354428\n",
       "1.2.826.0.1.3680043.9997.97     1.2.826.0.1.3680043.9997     97  0.361016\n",
       "1.2.826.0.1.3680043.9997.98     1.2.826.0.1.3680043.9997     98  0.362826\n",
       "1.2.826.0.1.3680043.9997.99     1.2.826.0.1.3680043.9997     99  0.364932\n",
       "\n",
       "[455112 rows x 3 columns]"
      ]
     },
     "execution_count": 12,
     "metadata": {},
     "output_type": "execute_result"
    }
   ],
   "source": [
    "cvalue_df = pd.read_csv(os.path.join(DATA_DIR, 'cvalues_for_segmentation_axial_results_132508.csv')).set_index('UID_Slice')\n",
    "cvalue_df = cvalue_df[cvalue_df.CV > 0]\n",
    "print(len(cvalue_df))\n",
    "cvalue_df"
   ]
  },
  {
   "cell_type": "code",
   "execution_count": 13,
   "metadata": {},
   "outputs": [
    {
     "name": "stdout",
     "output_type": "stream",
     "text": [
      "246897\n"
     ]
    },
    {
     "data": {
      "text/html": [
       "<div>\n",
       "<style scoped>\n",
       "    .dataframe tbody tr th:only-of-type {\n",
       "        vertical-align: middle;\n",
       "    }\n",
       "\n",
       "    .dataframe tbody tr th {\n",
       "        vertical-align: top;\n",
       "    }\n",
       "\n",
       "    .dataframe thead th {\n",
       "        text-align: right;\n",
       "    }\n",
       "</style>\n",
       "<table border=\"1\" class=\"dataframe\">\n",
       "  <thead>\n",
       "    <tr style=\"text-align: right;\">\n",
       "      <th></th>\n",
       "      <th>StudyInstanceUID</th>\n",
       "      <th>Slice</th>\n",
       "      <th>Start</th>\n",
       "      <th>pixel_spacing</th>\n",
       "      <th>xmin</th>\n",
       "      <th>ymin</th>\n",
       "      <th>xmax</th>\n",
       "      <th>ymax</th>\n",
       "      <th>x</th>\n",
       "    </tr>\n",
       "    <tr>\n",
       "      <th>UID_Slice</th>\n",
       "      <th></th>\n",
       "      <th></th>\n",
       "      <th></th>\n",
       "      <th></th>\n",
       "      <th></th>\n",
       "      <th></th>\n",
       "      <th></th>\n",
       "      <th></th>\n",
       "      <th></th>\n",
       "    </tr>\n",
       "  </thead>\n",
       "  <tbody>\n",
       "    <tr>\n",
       "      <th>1.2.826.0.1.3680043.10001.153</th>\n",
       "      <td>1.2.826.0.1.3680043.10001</td>\n",
       "      <td>153</td>\n",
       "      <td>0</td>\n",
       "      <td>0.253906</td>\n",
       "      <td>67.076729</td>\n",
       "      <td>0.076729</td>\n",
       "      <td>460.923271</td>\n",
       "      <td>393.923271</td>\n",
       "      <td>NaN</td>\n",
       "    </tr>\n",
       "    <tr>\n",
       "      <th>1.2.826.0.1.3680043.10001.154</th>\n",
       "      <td>1.2.826.0.1.3680043.10001</td>\n",
       "      <td>154</td>\n",
       "      <td>0</td>\n",
       "      <td>0.253906</td>\n",
       "      <td>58.076729</td>\n",
       "      <td>4.076729</td>\n",
       "      <td>451.923271</td>\n",
       "      <td>397.923271</td>\n",
       "      <td>NaN</td>\n",
       "    </tr>\n",
       "    <tr>\n",
       "      <th>1.2.826.0.1.3680043.10001.155</th>\n",
       "      <td>1.2.826.0.1.3680043.10001</td>\n",
       "      <td>155</td>\n",
       "      <td>0</td>\n",
       "      <td>0.253906</td>\n",
       "      <td>60.076729</td>\n",
       "      <td>7.076729</td>\n",
       "      <td>453.923271</td>\n",
       "      <td>400.923271</td>\n",
       "      <td>NaN</td>\n",
       "    </tr>\n",
       "    <tr>\n",
       "      <th>1.2.826.0.1.3680043.10001.156</th>\n",
       "      <td>1.2.826.0.1.3680043.10001</td>\n",
       "      <td>156</td>\n",
       "      <td>0</td>\n",
       "      <td>0.253906</td>\n",
       "      <td>67.076729</td>\n",
       "      <td>8.076729</td>\n",
       "      <td>460.923271</td>\n",
       "      <td>401.923271</td>\n",
       "      <td>NaN</td>\n",
       "    </tr>\n",
       "    <tr>\n",
       "      <th>1.2.826.0.1.3680043.10001.100</th>\n",
       "      <td>1.2.826.0.1.3680043.10001</td>\n",
       "      <td>100</td>\n",
       "      <td>0</td>\n",
       "      <td>0.253906</td>\n",
       "      <td>87.076729</td>\n",
       "      <td>0.000000</td>\n",
       "      <td>480.923271</td>\n",
       "      <td>393.846542</td>\n",
       "      <td>NaN</td>\n",
       "    </tr>\n",
       "  </tbody>\n",
       "</table>\n",
       "</div>"
      ],
      "text/plain": [
       "                                        StudyInstanceUID  Slice  Start  \\\n",
       "UID_Slice                                                                \n",
       "1.2.826.0.1.3680043.10001.153  1.2.826.0.1.3680043.10001    153      0   \n",
       "1.2.826.0.1.3680043.10001.154  1.2.826.0.1.3680043.10001    154      0   \n",
       "1.2.826.0.1.3680043.10001.155  1.2.826.0.1.3680043.10001    155      0   \n",
       "1.2.826.0.1.3680043.10001.156  1.2.826.0.1.3680043.10001    156      0   \n",
       "1.2.826.0.1.3680043.10001.100  1.2.826.0.1.3680043.10001    100      0   \n",
       "\n",
       "                               pixel_spacing       xmin      ymin        xmax  \\\n",
       "UID_Slice                                                                       \n",
       "1.2.826.0.1.3680043.10001.153       0.253906  67.076729  0.076729  460.923271   \n",
       "1.2.826.0.1.3680043.10001.154       0.253906  58.076729  4.076729  451.923271   \n",
       "1.2.826.0.1.3680043.10001.155       0.253906  60.076729  7.076729  453.923271   \n",
       "1.2.826.0.1.3680043.10001.156       0.253906  67.076729  8.076729  460.923271   \n",
       "1.2.826.0.1.3680043.10001.100       0.253906  87.076729  0.000000  480.923271   \n",
       "\n",
       "                                     ymax   x  \n",
       "UID_Slice                                      \n",
       "1.2.826.0.1.3680043.10001.153  393.923271 NaN  \n",
       "1.2.826.0.1.3680043.10001.154  397.923271 NaN  \n",
       "1.2.826.0.1.3680043.10001.155  400.923271 NaN  \n",
       "1.2.826.0.1.3680043.10001.156  401.923271 NaN  \n",
       "1.2.826.0.1.3680043.10001.100  393.846542 NaN  "
      ]
     },
     "execution_count": 13,
     "metadata": {},
     "output_type": "execute_result"
    }
   ],
   "source": [
    "neg_df = total_boundary_df.loc[cvalue_df.index.unique()]\n",
    "neg_df = neg_df[neg_df.StudyInstanceUID.isin(label_df[label_df.patient_overall == 0].index.unique())]\n",
    "print(len(neg_df))\n",
    "neg_df[\"x\"] = np.nan\n",
    "neg_df.head()"
   ]
  },
  {
   "cell_type": "code",
   "execution_count": 14,
   "metadata": {},
   "outputs": [
    {
     "data": {
      "text/plain": [
       "7395"
      ]
     },
     "execution_count": 14,
     "metadata": {},
     "output_type": "execute_result"
    }
   ],
   "source": [
    "pos_count = len(train_df[~train_df['x'].isna()])\n",
    "pos_count"
   ]
  },
  {
   "cell_type": "code",
   "execution_count": 15,
   "metadata": {},
   "outputs": [],
   "source": [
    "pos_df = train_df[~train_df['x'].isna()]"
   ]
  },
  {
   "cell_type": "code",
   "execution_count": 16,
   "metadata": {
    "collapsed": false,
    "jupyter": {
     "outputs_hidden": false
    }
   },
   "outputs": [],
   "source": [
    "def crop_image(img:Image, bbox, crop_box):\n",
    "    \"\"\"\n",
    "\n",
    "    :param img:\n",
    "    :param bbox: [left, top, right, bottom]\n",
    "    :param crop_box:[left, top, right, bottom]\n",
    "    :return:\n",
    "    \"\"\"\n",
    "    left, top, right, bottom = crop_box\n",
    "    img = img.crop(crop_box)\n",
    "    bbox[0] -= left\n",
    "    bbox[1] -= top\n",
    "    bbox[2] -= left\n",
    "    bbox[3] -= top\n",
    "\n",
    "    return img, bbox"
   ]
  },
  {
   "cell_type": "code",
   "execution_count": 17,
   "metadata": {
    "collapsed": false,
    "jupyter": {
     "outputs_hidden": false
    }
   },
   "outputs": [
    {
     "name": "stdout",
     "output_type": "stream",
     "text": [
      "x                                  290.194946\n",
      "y                                  232.895307\n",
      "width                               19.870036\n",
      "height                              24.490975\n",
      "xmin                               113.357469\n",
      "ymin                               141.357469\n",
      "xmax                               378.642531\n",
      "ymax                               406.642531\n",
      "Slice                                     227\n",
      "StudyInstanceUID    1.2.826.0.1.3680043.24317\n",
      "new_x                              176.837477\n",
      "new_y                               91.537838\n",
      "Name: 1.2.826.0.1.3680043.24317.227, dtype: object\n"
     ]
    },
    {
     "data": {
      "image/png": "[encoded data removed]",
      "text/plain": [
       "<Figure size 720x720 with 1 Axes>"
      ]
     },
     "metadata": {
      "needs_background": "light"
     },
     "output_type": "display_data"
    }
   ],
   "source": [
    "def get_rectangle_edges_from_pascal_bbox(bbox):\n",
    "    xmin_top_left, ymin_top_left, xmax_bottom_right, ymax_bottom_right = bbox\n",
    "\n",
    "    width = xmax_bottom_right - xmin_top_left\n",
    "    height = ymin_top_left - ymax_bottom_right\n",
    "\n",
    "    return xmin_top_left, ymax_bottom_right, width, height\n",
    "\n",
    "\n",
    "def draw_pascal_voc_bboxes(\n",
    "        plot_ax,\n",
    "        bbox,\n",
    "        get_rectangle_corners_fn=get_rectangle_edges_from_pascal_bbox,\n",
    "):\n",
    "    x, y, width, height = get_rectangle_corners_fn(bbox)\n",
    "\n",
    "    rect_1 = patches.Rectangle(\n",
    "        (x, y),\n",
    "        width,\n",
    "        height,\n",
    "        linewidth=4,\n",
    "        edgecolor=\"black\",\n",
    "        fill=False,\n",
    "    )\n",
    "    rect_2 = patches.Rectangle(\n",
    "        (x, y),\n",
    "        width,\n",
    "        height,\n",
    "        linewidth=2,\n",
    "        edgecolor=\"white\",\n",
    "        fill=False,\n",
    "    )\n",
    "\n",
    "    # Add the patch to the Axes\n",
    "    plot_ax.add_patch(rect_1)\n",
    "    plot_ax.add_patch(rect_2)\n",
    "\n",
    "\n",
    "def show_image(\n",
    "        image, bbox=None, draw_bboxes_fn=draw_pascal_voc_bboxes, figsize=(10, 10)\n",
    "):\n",
    "    fig, ax = plt.subplots(1, figsize=figsize)\n",
    "    ax.imshow(image)\n",
    "\n",
    "    draw_bboxes_fn(ax, bbox)\n",
    "\n",
    "    plt.show()\n",
    "\n",
    "\n",
    "s = pos_df.loc['1.2.826.0.1.3680043.24317.227']\n",
    "print(s)\n",
    "image = Image.open(os.path.join(IMAGES_DIR, s.StudyInstanceUID, f'{int(s.Slice)}.jpeg'))\n",
    "bbox = list(s[['new_x', 'new_y','width','height']])\n",
    "bbox = [bbox[0], bbox[1], bbox[0] + bbox[2], bbox[1] + bbox[3]]\n",
    "crop_box = s[['xmin','ymin','xmax','ymax']]\n",
    "show_image(image, bbox)"
   ]
  },
  {
   "cell_type": "markdown",
   "metadata": {},
   "source": [
    "## Dataset"
   ]
  },
  {
   "cell_type": "code",
   "execution_count": 18,
   "metadata": {},
   "outputs": [],
   "source": [
    "# tf = A.Compose(\n",
    "#         [\n",
    "#             A.Transpose(p=0.5),\n",
    "#             A.VerticalFlip(p=0.5),\n",
    "#             A.HorizontalFlip(p=0.5),\n",
    "#             A.RandomBrightness(limit=0.2, p=0.75),\n",
    "#             A.RandomContrast(limit=0.2, p=0.75),\n",
    "#             A.OneOf([\n",
    "#                 A.MotionBlur(blur_limit=5),\n",
    "#                 A.MedianBlur(blur_limit=5),\n",
    "#                 A.GaussianBlur(blur_limit=5),\n",
    "#                 A.GaussNoise(var_limit=(5.0, 30.0)),\n",
    "#             ], p=0.7),\n",
    "\n",
    "#             A.OneOf([\n",
    "#                 A.OpticalDistortion(distort_limit=1.0),\n",
    "#                 # A.GridDistortion(num_steps=5, distort_limit=1.),\n",
    "#                 A.ElasticTransform(alpha=3),\n",
    "#             ], p=0.7),\n",
    "\n",
    "#             # A.CLAHE(clip_limit=4.0, p=0.7),\n",
    "#             A.HueSaturationValue(hue_shift_limit=10, sat_shift_limit=20, val_shift_limit=10, p=0.5),\n",
    "#             A.ShiftScaleRotate(shift_limit=0.1, scale_limit=0.1, rotate_limit=15, border_mode=0, p=0.85),\n",
    "#             A.Resize(IMAGE_SIZE, IMAGE_SIZE),\n",
    "#             A.Cutout(max_h_size=int(IMAGE_SIZE * 0.375), max_w_size=int(IMAGE_SIZE * 0.375), num_holes=1, p=0.7),\n",
    "#                     ToTensorV2(p=1),\n",
    "#             A.Normalize(0.5, 0.5),\n",
    "#             ToTensorV2(p=1),\n",
    "#         ])"
   ]
  },
  {
   "cell_type": "code",
   "execution_count": null,
   "metadata": {},
   "outputs": [],
   "source": []
  },
  {
   "cell_type": "code",
   "execution_count": 19,
   "metadata": {
    "collapsed": false,
    "jupyter": {
     "outputs_hidden": false
    }
   },
   "outputs": [
    {
     "data": {
      "text/plain": [
       "(<PIL.JpegImagePlugin.JpegImageFile image mode=RGB size=340x340 at 0x7F6C094929D0>,\n",
       " [],\n",
       " [],\n",
       " 1)"
      ]
     },
     "execution_count": 19,
     "metadata": {},
     "output_type": "execute_result"
    }
   ],
   "source": [
    "class FractureDatasetAdaptor(Dataset):\n",
    "    def __init__(self, images_dir_path, mask_dir, pos_df, neg_df):\n",
    "        self.image_dir = images_dir_path\n",
    "        self.mask_dir = mask_dir\n",
    "        self.pos_df = pos_df\n",
    "        self.neg_df = neg_df\n",
    "\n",
    "    def __len__(self) -> int:\n",
    "        return len(self.pos_df) * 2\n",
    "\n",
    "    def __getitem__(self, idx):\n",
    "        \n",
    "        is_pos = (idx % 2) == 0\n",
    "        \n",
    "        if is_pos:\n",
    "            s = self.pos_df.iloc[idx // 2]\n",
    "        else:\n",
    "            rand_idx = np.random.randint(0, len(self.neg_df))\n",
    "            s = self.neg_df.iloc[rand_idx]\n",
    "        UID = s.StudyInstanceUID\n",
    "        # print(s)\n",
    "        axial_index = int(s.Slice)\n",
    "        img = Image.open(os.path.join(self.image_dir, UID, f\"{axial_index}.jpeg\"))\n",
    "        \n",
    "        \n",
    "        mask = Image.open(os.path.join(self.mask_dir, UID, f'{axial_index}.png'))\n",
    "        mask = mask.crop((s.xmin/2, s.ymin/2, s.xmax/2, s.ymax/2))\n",
    "        \n",
    "        if pd.isna(s.x):\n",
    "            pascal_bboxes = []\n",
    "            class_labels = []\n",
    "        else:\n",
    "            pascal_bboxes = [[s.new_x, s.new_y, s.new_x + s.width, s.new_y + s.height]]\n",
    "            class_labels = np.ones(1)\n",
    "\n",
    "        return img, pascal_bboxes, class_labels, idx\n",
    "\n",
    "    def show_image(self, index):\n",
    "        image, bboxes, class_labels, image_id = self.get_image_and_labels_by_idx(index)\n",
    "        print(f\"image_id: {image_id}\")\n",
    "        show_image(image, bboxes)\n",
    "        print(class_labels)\n",
    "\n",
    "da = FractureDatasetAdaptor(IMAGES_DIR, MASK_DIR, pos_df, neg_df)\n",
    "\n",
    "\n",
    "\n",
    "# \n",
    "\n",
    "da[1]"
   ]
  },
  {
   "cell_type": "code",
   "execution_count": 20,
   "metadata": {},
   "outputs": [],
   "source": [
    "# target_img_size=512\n",
    "# tf = A.Compose(\n",
    "#         [\n",
    "#             A.Transpose(p=0.5),\n",
    "#             A.VerticalFlip(p=0.5),\n",
    "#             A.HorizontalFlip(p=0.5),\n",
    "#             A.RandomBrightness(limit=0.2, p=0.75),\n",
    "#             A.RandomContrast(limit=0.2, p=0.75),\n",
    "#             A.OneOf([\n",
    "#                 A.MotionBlur(blur_limit=5),\n",
    "#                 A.MedianBlur(blur_limit=5),\n",
    "#                 A.GaussianBlur(blur_limit=5),\n",
    "#                 A.GaussNoise(var_limit=(5.0, 30.0)),\n",
    "#             ], p=0.7),\n",
    "\n",
    "#             A.OneOf([\n",
    "#                 A.OpticalDistortion(distort_limit=1.0),\n",
    "#                 # A.GridDistortion(num_steps=5, distort_limit=1.),\n",
    "#                 A.ElasticTransform(alpha=3),\n",
    "#             ], p=0.7),\n",
    "\n",
    "#             # A.CLAHE(clip_limit=4.0, p=0.7),\n",
    "#             A.HueSaturationValue(hue_shift_limit=10, sat_shift_limit=20, val_shift_limit=10, p=0.5),\n",
    "#             A.ShiftScaleRotate(shift_limit=0.1, scale_limit=0.1, rotate_limit=15, border_mode=0, p=0.85),\n",
    "#             A.Resize(target_img_size, target_img_size),\n",
    "#             A.Cutout(max_h_size=int(target_img_size * 0.375), max_w_size=int(target_img_size * 0.375), num_holes=1, p=0.7),\n",
    "#             A.Normalize(0.5, 0.5),\n",
    "#             ToTensorV2(p=1),\n",
    "#         ])\n",
    "\n",
    "# # train_dataset = EfficientDetDataset(da, transforms=tf)\n",
    "# # img, ann, idx = train_dataset[13]\n",
    "\n",
    "# # _, axs = plt.subplots(4, 4, figsize=(24, 24))\n",
    "# for i in range(16):\n",
    "#     img, pascal_bboxes, class_labels, idx = da[i]\n",
    "#     # axs[i // 4, i % 4].set_title(f'{np.min(img)} {np.max(img)}')\n",
    "#     # print(np.array(img, dtype=np.float32).min(), np.array(img, dtype=np.float32).max())\n",
    "#     img = tf(image=np.array(img, dtype=np.uint8))['image']\n",
    "#     print(img.min(), img.max())\n",
    "#     # axs[i // 4, i % 4].set_title(f'{np.min(img)} {np.max(img)}')\n",
    "#     # axs[i // 4, i % 4].imshow(img / 255, cmap='bone')\n",
    "    \n",
    "#     # draw_pascal_voc_bboxes(ax, ann['bboxes'][0].cpu().numpy()[[1, 0, 3, 2]])"
   ]
  },
  {
   "cell_type": "markdown",
   "metadata": {},
   "source": [
    "## Transform"
   ]
  },
  {
   "cell_type": "code",
   "execution_count": 21,
   "metadata": {
    "collapsed": false,
    "jupyter": {
     "outputs_hidden": false
    }
   },
   "outputs": [
    {
     "name": "stdout",
     "output_type": "stream",
     "text": [
      "tensor(-1.) tensor(1.)\n"
     ]
    },
    {
     "data": {
      "image/png": "[encoded data removed]",
      "text/plain": [
       "<Figure size 720x720 with 1 Axes>"
      ]
     },
     "metadata": {
      "needs_background": "light"
     },
     "output_type": "display_data"
    }
   ],
   "source": [
    "def get_train_transforms(target_img_size=512):\n",
    "    # return A.Compose(\n",
    "    #     [\n",
    "    #         A.ShiftScaleRotate(p=0.5, rotate_limit=15),\n",
    "    #         A.HorizontalFlip(p=0.5),\n",
    "    #         A.Resize(height=target_img_size, width=target_img_size, p=1),\n",
    "    #         A.Normalize(0.5, 0.5),\n",
    "    #         ToTensorV2(p=1),\n",
    "    #     ],\n",
    "    #     p=1.0,\n",
    "    #     bbox_params=A.BboxParams(\n",
    "    #         format=\"pascal_voc\", min_area=0, min_visibility=0, label_fields=[\"labels\"]\n",
    "    #     ),\n",
    "    # )\n",
    "    return A.Compose(\n",
    "        [\n",
    "            # A.Transpose(p=0.5),\n",
    "            # A.VerticalFlip(p=0.5),\n",
    "            A.HorizontalFlip(p=0.5),\n",
    "            A.RandomBrightness(limit=0.2, p=0.75),\n",
    "            A.RandomContrast(limit=0.2, p=0.75),\n",
    "            A.OneOf([\n",
    "                A.MotionBlur(blur_limit=5),\n",
    "                A.MedianBlur(blur_limit=5),\n",
    "                A.GaussianBlur(blur_limit=5),\n",
    "                A.GaussNoise(var_limit=(5.0, 30.0)),\n",
    "            ], p=0.7),\n",
    "\n",
    "            # A.OneOf([\n",
    "            #     A.OpticalDistortion(distort_limit=1.0),\n",
    "            #     # A.GridDistortion(num_steps=5, distort_limit=1.),\n",
    "            #     A.ElasticTransform(alpha=3),\n",
    "            # ], p=0.7),\n",
    "\n",
    "            # A.CLAHE(clip_limit=4.0, p=0.7),\n",
    "            A.HueSaturationValue(hue_shift_limit=10, sat_shift_limit=20, val_shift_limit=10, p=0.5),\n",
    "            A.ShiftScaleRotate(shift_limit=0.1, scale_limit=0.1, rotate_limit=15, border_mode=0, p=0.85),\n",
    "            A.Resize(target_img_size, target_img_size),\n",
    "            A.Cutout(max_h_size=int(target_img_size * 0.25), max_w_size=int(target_img_size * 0.25), num_holes=1, p=0.7),\n",
    "            A.Normalize(0.5, 0.5),\n",
    "            ToTensorV2(p=1),\n",
    "        ],\n",
    "        p=1.0,\n",
    "        bbox_params=A.BboxParams(\n",
    "            format=\"pascal_voc\", min_area=0, min_visibility=0, label_fields=[\"labels\"]\n",
    "        ),\n",
    "    )\n",
    "\n",
    "\n",
    "\n",
    "class EfficientDetDataset(Dataset):\n",
    "    def __init__(\n",
    "            self, dataset_adaptor, transforms=None\n",
    "    ):\n",
    "        self.ds = dataset_adaptor\n",
    "        self.transforms = transforms\n",
    "\n",
    "    def __getitem__(self, index):\n",
    "        (\n",
    "            image,\n",
    "            pascal_bboxes,\n",
    "            class_labels,\n",
    "            image_id\n",
    "        ) = self.ds[index]\n",
    "\n",
    "        if len(pascal_bboxes) > 0:\n",
    "            pascal_bboxes = pascal_bboxes[0]\n",
    "            pascal_bboxes[0] = max(0, pascal_bboxes[0])\n",
    "            pascal_bboxes[1] = max(0, pascal_bboxes[1])\n",
    "            pascal_bboxes[2] = min(image.width, pascal_bboxes[2])\n",
    "            pascal_bboxes[3] = min(image.height, pascal_bboxes[3])\n",
    "            \n",
    "            sample = {\n",
    "                \"image\": np.array(image, dtype=np.uint8),\n",
    "                \"bboxes\": [pascal_bboxes],\n",
    "                \"labels\": class_labels,\n",
    "            }\n",
    "            sample = self.transforms(**sample)\n",
    "            sample[\"bboxes\"] = np.array(sample[\"bboxes\"])\n",
    "            image = sample[\"image\"]\n",
    "            labels = sample[\"labels\"]\n",
    "\n",
    "            # print(sample)\n",
    "\n",
    "            _, new_h, new_w = image.shape\n",
    "            if len(sample[\"bboxes\"]) > 0:\n",
    "                sample[\"bboxes\"][:, [0, 1, 2, 3]] = sample[\"bboxes\"][\n",
    "                                                :, [1, 0, 3, 2]\n",
    "                                                ]  # convert to yxyx\n",
    "\n",
    "                target = {\n",
    "                    \"bboxes\": torch.as_tensor(sample[\"bboxes\"], dtype=torch.float32),\n",
    "                    \"labels\": torch.as_tensor(labels),\n",
    "                    \"image_id\": torch.tensor([image_id]),\n",
    "                    \"img_size\": (new_h, new_w),\n",
    "                    \"img_scale\": torch.tensor([1.]),\n",
    "                }\n",
    "            else:\n",
    "                target = {\n",
    "                    \"bboxes\": torch.zeros((0, 4)),\n",
    "                    \"labels\": torch.tensor([]),\n",
    "                    \"image_id\": torch.tensor([image_id]),\n",
    "                    \"img_size\": (new_h, new_w),\n",
    "                    \"img_scale\": torch.tensor([1.]),\n",
    "                }\n",
    "        else:\n",
    "            # image = image.crop(crop_box)   \n",
    "            image = self.transforms(image=np.array(image, dtype=np.uint8), bboxes=[], labels=[])[\"image\"]\n",
    "            _, new_h, new_w = image.shape\n",
    "            target = {\n",
    "                \"bboxes\": torch.zeros((0, 4)),\n",
    "                \"labels\": torch.tensor([]),\n",
    "                \"image_id\": torch.tensor([image_id]),\n",
    "                \"img_size\": (new_h, new_w),\n",
    "                \"img_scale\": torch.tensor([1.]),\n",
    "            }\n",
    "        \n",
    "        \n",
    "\n",
    "        return image, target, image_id\n",
    "\n",
    "    def __len__(self):\n",
    "        return len(self.ds)\n",
    "\n",
    "\n",
    "train_dataset = EfficientDetDataset(da, transforms=get_train_transforms(IMAGE_SIZE))\n",
    "img, ann, idx = train_dataset[np.random.randint(len(train_dataset))]\n",
    "# for i in range(16):\n",
    "#     img, ann, idx = train_dataset[i]\n",
    "    # print(ann)\n",
    "    # print(img.shape)\n",
    "    # print(img.min(), img.max())\n",
    "print(img.min(), img.max())    \n",
    "fig, ax = plt.subplots(1, figsize=(10, 10))\n",
    "ax.imshow((img[2, :, :] * 0.5) + 0.5)\n",
    "\n",
    "if len(ann['bboxes']) > 0:\n",
    "    draw_pascal_voc_bboxes(ax, ann['bboxes'][0].cpu().numpy()[[1, 0, 3, 2]])\n"
   ]
  },
  {
   "cell_type": "code",
   "execution_count": 22,
   "metadata": {
    "collapsed": false,
    "jupyter": {
     "outputs_hidden": false
    }
   },
   "outputs": [],
   "source": [
    "def collate_fn(batch):\n",
    "    images, targets, image_ids = tuple(zip(*batch))\n",
    "    images = torch.stack(images)\n",
    "    images = images.float()\n",
    "\n",
    "    boxes = [target[\"bboxes\"].float() for target in targets]\n",
    "    labels = [target[\"labels\"].float() for target in targets]\n",
    "    img_size = torch.tensor([target[\"img_size\"] for target in targets]).float()\n",
    "    img_scale = torch.tensor([target[\"img_scale\"] for target in targets]).float()\n",
    "\n",
    "    annotations = {\n",
    "        \"bbox\": boxes,\n",
    "        \"cls\": labels,\n",
    "        \"img_size\": img_size,\n",
    "        \"img_scale\": img_scale,\n",
    "    }\n",
    "\n",
    "    return images, annotations, targets, image_ids"
   ]
  },
  {
   "cell_type": "code",
   "execution_count": 23,
   "metadata": {
    "collapsed": false,
    "jupyter": {
     "outputs_hidden": false
    }
   },
   "outputs": [],
   "source": [
    "train_loader = DataLoader(\n",
    "    train_dataset,\n",
    "    batch_size=batch_size,\n",
    "    shuffle=True,\n",
    "    pin_memory=True,\n",
    "    drop_last=True,\n",
    "    num_workers=min(os.cpu_count(), 16),\n",
    "    collate_fn=collate_fn,\n",
    ")"
   ]
  },
  {
   "cell_type": "markdown",
   "metadata": {},
   "source": [
    "## Model"
   ]
  },
  {
   "cell_type": "code",
   "execution_count": 24,
   "metadata": {
    "tags": []
   },
   "outputs": [],
   "source": [
    "# from effdet.config.model_config import efficientdet_model_param_dict\n",
    "# list(efficientdet_model_param_dict.keys())"
   ]
  },
  {
   "cell_type": "code",
   "execution_count": null,
   "metadata": {
    "collapsed": false,
    "jupyter": {
     "outputs_hidden": false
    }
   },
   "outputs": [],
   "source": [
    "\n",
    "\n",
    "def get_det_model(image_size, checkpoint=None):\n",
    "    if checkpoint is None:\n",
    "\n",
    "        model = create_model(backbone , bench_task='train' , num_classes= 1 , image_size=(image_size, image_size), bench_labeler=True, pretrained=True)\n",
    "        model = model.to(device)\n",
    "        return model\n",
    "    else:\n",
    "        model = create_model(backbone , bench_task='train' , num_classes= 1 , image_size=(image_size, image_size), bench_labeler=True, pretrained=True)\n",
    "        state = torch.load(os.path.join(DATA_DIR, 'checkpoint', checkpoint), map_location=torch.device(device))\n",
    "        model.load_state_dict(state[\"model\"])\n",
    "        model = model.to(device)\n",
    "        return model\n",
    "\n",
    "model = get_det_model(IMAGE_SIZE, checkpoint)\n",
    "total_params = sum(p.numel() for p in model.parameters() if p.requires_grad)\n",
    "print(total_params)"
   ]
  },
  {
   "cell_type": "code",
   "execution_count": null,
   "metadata": {},
   "outputs": [],
   "source": [
    "# class_out, box_out = model.model(img.unsqueeze(0).to(device))\n",
    "# anchors = Anchors.from_config(model.model.config).to(device)\n",
    "# decode_model_outputs(class_out, box_out, anchors, model.model.config.num_levels)"
   ]
  },
  {
   "cell_type": "code",
   "execution_count": null,
   "metadata": {
    "tags": []
   },
   "outputs": [],
   "source": [
    "# val_model = DetBenchPredict(model.model).to(device)\n",
    "# val_model(img.unsqueeze(0).to(device))"
   ]
  },
  {
   "cell_type": "code",
   "execution_count": null,
   "metadata": {
    "collapsed": false,
    "jupyter": {
     "outputs_hidden": false
    }
   },
   "outputs": [],
   "source": [
    "optimizer = torch.optim.AdamW(model.parameters(), lr=lr, weight_decay=wd)\n",
    "scaler = torch.cuda.amp.GradScaler(enabled=(device == 'cuda'))\n",
    "scheduler = optim.lr_scheduler.MultiStepLR(optimizer, milestones=milestones, gamma=0.5)\n",
    "# scheduler = optim.lr_scheduler.CosineAnnealingWarmRestarts(optimizer, T_0=10, T_mult=2)"
   ]
  },
  {
   "cell_type": "code",
   "execution_count": null,
   "metadata": {
    "tags": []
   },
   "outputs": [],
   "source": [
    "from evaluate import *\n",
    "# evaluator = Evaluate(model.model, save_dir=os.path.join(DATA_DIR, 'predictions', wandb.run.name))\n",
    "\n",
    "# evaluator.evaluate(59)"
   ]
  },
  {
   "cell_type": "markdown",
   "metadata": {},
   "source": [
    "## Train one epoch"
   ]
  },
  {
   "cell_type": "code",
   "execution_count": null,
   "metadata": {
    "collapsed": false,
    "jupyter": {
     "outputs_hidden": false
    }
   },
   "outputs": [],
   "source": [
    "def train_one_epoch(e, model, dataloader):\n",
    "    model.train()\n",
    "    train_iter = tqdm(dataloader)\n",
    "    loss_list = []\n",
    "    epoch_iteration = len(dataloader)\n",
    "\n",
    "    for i, (images, anns, _, _) in enumerate(train_iter):\n",
    "        images = images.to(device)\n",
    "        anns = {\n",
    "            'bbox' : [tensor.to(device) for tensor in anns['bbox']],\n",
    "            'cls' : [tensor.to(device) for tensor in anns['cls']],\n",
    "            'img_size' : anns['img_size'].to(device),\n",
    "            'img_scale' : anns['img_scale'].to(device)\n",
    "        }\n",
    "\n",
    "        with torch.cuda.amp.autocast(device == 'cuda'):\n",
    "            losses = model(images, anns)\n",
    "            loss, class_loss, box_loss = losses['loss'], losses['class_loss'], losses['box_loss']\n",
    "\n",
    "        optimizer.zero_grad()\n",
    "        scaler.scale(loss).backward()\n",
    "        nn.utils.clip_grad_norm_(model.parameters(), 1.)\n",
    "        scaler.step(optimizer)\n",
    "        scaler.update()\n",
    "        \n",
    "        scheduler.step(e + i / epoch_iteration)\n",
    "\n",
    "        train_iter.set_description(f\"t {e} loss {loss.item():.4f} c {class_loss.item():.4f} b {box_loss.item():.4f}\")\n",
    "\n",
    "        loss_list.append(loss.item())\n",
    "\n",
    "        if wandb.run is not None:\n",
    "            lr_logs = {f\"last_lr_{i}\": float(v) for i, v in enumerate(scheduler.get_last_lr())}\n",
    "            wandb.log({\n",
    "                'train_loss': loss.item(),\n",
    "                'train_class_loss': class_loss.item(),\n",
    "                'train_box_loss': box_loss.item(),\n",
    "                'epoch': e,\n",
    "                'train_iteration': i + e * epoch_iteration,\n",
    "                **lr_logs,\n",
    "            })\n",
    "            \n",
    "        \n",
    "#         if (i + e * epoch_iteration) % 100 == 0:\n",
    "#             # val_model = DetBenchPredict(model.model).to(device)\n",
    "#             val_model.eval()\n",
    "#             val_index = (e * epoch_iteration + i) // 100\n",
    "#             prediction = evaluate(e, val_model, val_index=val_index)\n",
    "            \n",
    "#             model.train()\n",
    "\n",
    "    return np.mean(loss_list)"
   ]
  },
  {
   "cell_type": "code",
   "execution_count": null,
   "metadata": {},
   "outputs": [],
   "source": [
    "# val_UIDs = list(val_df.index.unique())\n",
    "# len(val_UIDs)"
   ]
  },
  {
   "cell_type": "code",
   "execution_count": null,
   "metadata": {},
   "outputs": [],
   "source": [
    "class ValidationDataSet(torch.utils.data.Dataset):\n",
    "    def __init__(self, df, path, mask_path, transforms=None):\n",
    "        super().__init__()\n",
    "        self.df = df\n",
    "        self.path = path\n",
    "        self.mask_path = mask_path\n",
    "        self.transforms = transforms\n",
    "\n",
    "        self.len = len(self.df)\n",
    "\n",
    "    def __getitem__(self, i):\n",
    "\n",
    "        try:\n",
    "            s = self.df.iloc[i]\n",
    "            UID = s.name\n",
    "            img = Image.open(os.path.join(self.path, UID, f'{int(s.Slice)}.jpeg'))\n",
    "\n",
    "            mask = Image.open(os.path.join(self.mask_path, UID, f'{int(s.Slice)}.png'))\n",
    "            \n",
    "            if self.transforms is not None:\n",
    "                img, mask = self.transforms(img, mask)\n",
    "        except Exception as ex:\n",
    "            print(ex)\n",
    "            return None, None\n",
    "\n",
    "        return img, s.pixel_spacing, s.Slice == s.Start, s[['xmin','ymin','xmax','ymax']].values, mask\n",
    "\n",
    "    def __len__(self):\n",
    "        return self.len\n",
    "\n",
    "class ValidationTransform(nn.Module):\n",
    "    def __init__(self, image_size=512):\n",
    "        super().__init__()\n",
    "\n",
    "        self.image_size = image_size\n",
    "\n",
    "        self.transform = T.Compose([\n",
    "            T.Resize((image_size, image_size)),\n",
    "            T.ToTensor(),\n",
    "            T.Normalize(0.5, 0.5),\n",
    "        ])\n",
    "        \n",
    "        self.mask_transform = T.Compose([\n",
    "            T.ToTensor(),\n",
    "        ])\n",
    "\n",
    "    def forward(self, x, mask):\n",
    "        x = self.transform(x)\n",
    "        mask = self.mask_transform(mask)\n",
    "        return x, mask\n",
    "    \n",
    "# val_tf = ValidationTransform(IMAGE_SIZE)\n",
    "\n",
    "# UID = '1.2.826.0.1.3680043.10001'\n",
    "# evaluate_df = val_df.loc[UID].sort_values('Slice')\n",
    "# # evaluate_df.iloc[0]\n",
    "# # print(evaluate_df)\n",
    "# val_ds = ValidationDataSet(evaluate_df, IMAGES_DIR, MASK_DIR, transforms=val_tf)\n",
    "# # val_loader = DataLoader(val_ds, batch_size=batch_size, shuffle=False, num_workers=min(batch_size, 16))\n",
    "\n",
    "# # iter_d = iter(val_loader)\n",
    "# # next(iter_d)\n",
    "# # next(iter_d)\n",
    "# # next(iter_d)\n",
    "# img, pixel_spacing, is_end, bbox, mask = val_ds[138]\n",
    "# print(img.shape, bbox.shape, mask.shape)\n",
    "# print(mask.min(), mask.max())\n",
    "# print(bbox)\n",
    "# _, axs = plt.subplots(1, 2)\n",
    "# axs[0].imshow(img[0, :, :])\n",
    "# axs[1].imshow(mask[0, :, :])"
   ]
  },
  {
   "cell_type": "code",
   "execution_count": null,
   "metadata": {},
   "outputs": [],
   "source": [
    "def get_bbox_class(seg, bbox):\n",
    "    \"\"\"\n",
    "    label 은 0.125 의 단위로, \n",
    "    seg: H x W\n",
    "    bbox: [xmin, ymin, xmax, ymax]\n",
    "    \"\"\"\n",
    "    xmin, ymin, xmax, ymax = bbox.int()\n",
    "    area = seg[ymin:ymax, xmin:xmax]\n",
    "    \n",
    "    # print(area)\n",
    "    result = torch.mean(area[area>0])\n",
    "    result = torch.round(result / 0.125)\n",
    "    \n",
    "    return result"
   ]
  },
  {
   "cell_type": "code",
   "execution_count": null,
   "metadata": {},
   "outputs": [],
   "source": [
    "def get_bbox_class_list(seg_list, seg_bboxes):\n",
    "    class_list = []\n",
    "    for i in range(seg_list.shape[0]):\n",
    "        class_index = get_bbox_class(seg_list[i, :, :], seg_bboxes[i, :])\n",
    "        class_list.append(class_index)\n",
    "        \n",
    "    return torch.stack(class_list)"
   ]
  },
  {
   "cell_type": "code",
   "execution_count": null,
   "metadata": {},
   "outputs": [],
   "source": [
    "# val_df.loc['1.2.826.0.1.3680043.10001'].sort_values('Slice')"
   ]
  },
  {
   "cell_type": "code",
   "execution_count": 44,
   "metadata": {
    "tags": []
   },
   "outputs": [],
   "source": [
    "\n",
    "\n",
    "# def crop_resize_images(imgs_tensor, boundary_list, img_size=512):\n",
    "#     croped_list = []\n",
    "#     for i in range(imgs_tensor.shape[0]):\n",
    "#         xmin, ymin, xmax, ymax = boundary_list[i, :]\n",
    "#         xmin, ymin, xmax, ymax = int(xmin), int(ymin), int(xmax), int(ymax)\n",
    "#         # print(xmin, ymin, xmax, ymax)\n",
    "#         croped = TF.crop(imgs_tensor[i, :, :, :], top=ymin, left=xmin, height=ymax-ymin, width=xmax-xmin)\n",
    "#         croped = TF.resize(croped, (img_size, img_size))\n",
    "#         croped_list.append(croped)\n",
    "        \n",
    "#     return torch.stack(croped_list, 0)\n",
    "\n",
    "# def predict_det(x, model):\n",
    "    \n",
    "#     bboxes = model(x) # N x 1 x 6\n",
    "    \n",
    "#     return bboxes[:, 0, :]\n",
    "\n",
    "# def get_original_bbox(bbox, boundary, image_size):\n",
    "#     scale = image_size / (boundary[:, [2]] - boundary[:, [0]])\n",
    "    \n",
    "#     org_bbox = bbox / scale\n",
    "#     org_bbox[:, 0] += boundary[:, 0]\n",
    "#     org_bbox[:, 1] += boundary[:, 1]\n",
    "#     org_bbox[:, 2] += boundary[:, 0]\n",
    "#     org_bbox[:, 3] += boundary[:, 1]\n",
    "    \n",
    "#     return org_bbox\n",
    "\n",
    "# def get_class_score(scores, class_list, eps=1e-2):\n",
    "#     result = scores.new_zeros((scores.shape[0], 8)) + eps\n",
    "#     class_list = torch.nan_to_num(class_list).long()\n",
    "#     result[torch.arange(scores.shape[0]), class_list] = scores\n",
    "    \n",
    "#     return result\n",
    "\n",
    "# def cal_loss(prob, label):\n",
    "    \n",
    "#     pos_weight = np.array([14, 2, 2, 2, 2, 2, 2, 2])\n",
    "#     neg_weight = np.array([7, 1, 1, 1, 1, 1, 1, 1])\n",
    "    \n",
    "#     score = pos_weight * label * np.log(prob) + neg_weight * (1 - label) * np.log(1 - prob)\n",
    "    \n",
    "#     weight_total = pos_weight * label + neg_weight * (1 - label)\n",
    "    \n",
    "#     return -score.sum() / weight_total.sum()\n",
    "\n",
    "\n",
    "# # table_columns=['UID', 'loss', 'Predictions','Labels']\n",
    "# # evaluate_table = wandb.Table(data=[], columns=table_columns)\n",
    "\n",
    "# def log_prediction(UID, prediction):\n",
    "#     # log\n",
    "    \n",
    "    \n",
    "#     label = label_df.loc[UID].values\n",
    "#     loss = cal_loss(prediction, label)\n",
    "   \n",
    "#     # my_data = [UID, loss, prediction, label]\n",
    "    \n",
    "#     # evaluate_table.add_data(*my_data)\n",
    "    \n",
    "#     wandb.run.log({\n",
    "#         # 'evaluate_table' : evaluate_table\n",
    "#         'eval_sample_UID' : int(UID.split('.')[-1]),\n",
    "#         'eval_sample_loss' : loss,\n",
    "#     })\n",
    "    \n",
    "\n",
    "\n",
    "# def evaluate(e, det_model, UID=None, val_index=None):\n",
    "    \n",
    "#     if UID is None:\n",
    "#         UID = val_UIDs[val_index]\n",
    "    \n",
    "#     with torch.no_grad():\n",
    "#         evaluate_df = val_df.loc[UID].sort_values('Slice')\n",
    "#         # print(evaluate_df)\n",
    "#         val_ds = ValidationDataSet(evaluate_df, IMAGES_DIR, MASK_DIR,val_tf)\n",
    "#         val_loader = DataLoader(val_ds, batch_size=batch_size, shuffle=False, num_workers=min(batch_size, 16))\n",
    "\n",
    "#         predictions = []\n",
    "#         x0 = val_ds[0][0]\n",
    "#         x1 = val_ds[1][0]\n",
    "#         x0, x1 = x0.to(device), x1.to(device)\n",
    "#         prev2 = torch.stack((x0, x1))\n",
    "\n",
    "#         for x, pixel_spacings, is_starts, axial_boundary, seg_result in val_loader:\n",
    "#             x = x.to(device)\n",
    "            \n",
    "\n",
    "#             # (N+2), 1, 512, 512\n",
    "#             x = torch.cat((prev2, x), dim=0)\n",
    "\n",
    "#             r = x[:-2, :, :, :]\n",
    "#             g = x[1:-1, :, :, :]\n",
    "#             b = x[2:, :, :, :]\n",
    "\n",
    "#             start_indices = torch.argwhere(is_starts)\n",
    "#             r[start_indices, :, :, :] = b[start_indices, :, :, :]\n",
    "#             g[start_indices, :, :, :] = b[start_indices, :, :, :]\n",
    "\n",
    "#             prev2 = b[-2:, :, :, :]\n",
    "\n",
    "#             x = torch.cat((r, g, b), dim=1)\n",
    "\n",
    "#             batch_probs = x.new_zeros((x.shape[0], 8)) + 1e-2\n",
    "\n",
    "#             seg_result = seg_result.to(device)\n",
    "#             # seg_areas = seg_result.count_nonzero(dim=[1, 2, 3]) / (256 * 256)\n",
    "\n",
    "#             # active_indices = torch.argwhere(seg_areas > 0.001)\n",
    "#             active_indices = seg_result.nonzero()[:, 0].unique()\n",
    "\n",
    "#             if active_indices.numel() == 0:\n",
    "#                 predictions.append(batch_probs.cpu())\n",
    "#                 continue\n",
    "\n",
    "#             axial_boundary, seg_result = axial_boundary.to(device), seg_result.to(device)\n",
    "#             active_indices = active_indices.reshape(-1)\n",
    "\n",
    "#             if active_indices.numel() != batch_size:\n",
    "#                 x = x[active_indices, :, :, :]\n",
    "#                 seg_result = seg_result[active_indices, :, :, :]\n",
    "#                 pixel_spacings = pixel_spacings[active_indices]\n",
    "#                 axial_boundary = axial_boundary[active_indices]\n",
    "                \n",
    "\n",
    "\n",
    "#             # axial_boundary = get_axial_boundary(seg_result, pixel_spacings, seg_img_size=256)  # N x 4, 512 scale\n",
    "\n",
    "#             x = crop_resize_images(x, axial_boundary, IMAGE_SIZE) # N x 3 x 512 x 512 croped\n",
    "\n",
    "\n",
    "#             # for det_model in det_models:\n",
    "#             det_result = predict_det(x, det_model)\n",
    "#             bboxes, scores = get_original_bbox(det_result[:, :4], axial_boundary, IMAGE_SIZE), det_result[:, 4]\n",
    "#             class_list = get_bbox_class_list(seg_result[:, 0, :, :], bboxes / (IMAGE_SIZE / 256.))\n",
    "#             probs = get_class_score(scores, class_list) # N x 7\n",
    "\n",
    "#             batch_probs[active_indices, :] = probs\n",
    "#             # print(probs)\n",
    "#             predictions.append(batch_probs.cpu())\n",
    "\n",
    "#         predictions = torch.concat(predictions)\n",
    "      \n",
    "#         # predictions[:, 0] = torch.amax(predictions, dim=1)\n",
    "#         prediction = predictions.amax(dim=0)\n",
    "#         prediction[0] = prediction[1:].amax()\n",
    "#         # print(predictions)\n",
    "#         # return predictions\n",
    "        \n",
    "        \n",
    "#         if wandb.run is not None:\n",
    "#             log_prediction(UID, prediction.numpy())\n",
    "        \n",
    "        \n",
    "#         return prediction\n",
    "\n",
    "# val_model = DetBenchPredict(model.model).to(device)\n",
    "# val_model = val_model.eval()\n",
    "# prediction = evaluate(0, val_model)\n",
    "# prediction"
   ]
  },
  {
   "cell_type": "code",
   "execution_count": null,
   "metadata": {},
   "outputs": [],
   "source": [
    "def save_state(epoch):\n",
    "    state = {\n",
    "        \"model\": model.state_dict(),\n",
    "        \"optimizer\": optimizer.state_dict(),\n",
    "        \"scheduler\": scheduler.state_dict(),\n",
    "        \"epoch\": epoch,\n",
    "    }\n",
    "    torch.save(state, os.path.join(DATA_DIR, f'checkpoint/{wandb.run.name}-epoch-{epoch}.pth'))\n"
   ]
  },
  {
   "cell_type": "code",
   "execution_count": null,
   "metadata": {
    "collapsed": false,
    "jupyter": {
     "outputs_hidden": false
    }
   },
   "outputs": [],
   "source": [
    "epoch = 0\n"
   ]
  },
  {
   "cell_type": "code",
   "execution_count": 52,
   "metadata": {},
   "outputs": [
    {
     "data": {
      "text/plain": [
       "1024"
      ]
     },
     "execution_count": 52,
     "metadata": {},
     "output_type": "execute_result"
    }
   ],
   "source": [
    "# IMAGE_SIZE"
   ]
  },
  {
   "cell_type": "code",
   "execution_count": 53,
   "metadata": {},
   "outputs": [
    {
     "name": "stdout",
     "output_type": "stream",
     "text": [
      "test df length :  2429\n"
     ]
    },
    {
     "name": "stderr",
     "output_type": "stream",
     "text": [
      "  2%|▏         | 3/152 [00:02<01:24,  1.76it/s]"
     ]
    },
    {
     "name": "stdout",
     "output_type": "stream",
     "text": [
      "torch.Size([16, 3, 1024, 1024]) tensor(0., device='cuda:0') tensor(0.9922, device='cuda:0')\n",
      "torch.Size([16, 3, 1024, 1024]) tensor(0., device='cuda:0') tensor(1., device='cuda:0')\n",
      "torch.Size([16, 3, 1024, 1024]) tensor(0., device='cuda:0') tensor(1., device='cuda:0')\n"
     ]
    },
    {
     "name": "stderr",
     "output_type": "stream",
     "text": [
      "  3%|▎         | 5/152 [00:02<00:46,  3.15it/s]"
     ]
    },
    {
     "name": "stdout",
     "output_type": "stream",
     "text": [
      "torch.Size([16, 3, 1024, 1024]) tensor(0., device='cuda:0') tensor(1., device='cuda:0')\n",
      "torch.Size([16, 3, 1024, 1024]) tensor(0., device='cuda:0') tensor(1., device='cuda:0')\n",
      "torch.Size([16, 3, 1024, 1024]) tensor(0., device='cuda:0') tensor(1., device='cuda:0')\n",
      "torch.Size([16, 3, 1024, 1024]) tensor(0., device='cuda:0') tensor(1., device='cuda:0')\n"
     ]
    },
    {
     "name": "stderr",
     "output_type": "stream",
     "text": [
      "  5%|▍         | 7/152 [00:02<00:44,  3.23it/s]"
     ]
    },
    {
     "name": "stdout",
     "output_type": "stream",
     "text": [
      "torch.Size([16, 3, 1024, 1024]) tensor(0., device='cuda:0') tensor(0.9922, device='cuda:0')\n"
     ]
    },
    {
     "name": "stderr",
     "output_type": "stream",
     "text": [
      "  5%|▌         | 8/152 [00:03<00:46,  3.10it/s]"
     ]
    },
    {
     "name": "stdout",
     "output_type": "stream",
     "text": [
      "torch.Size([16, 3, 1024, 1024]) tensor(0., device='cuda:0') tensor(0.9725, device='cuda:0')\n"
     ]
    },
    {
     "name": "stderr",
     "output_type": "stream",
     "text": [
      "  6%|▌         | 9/152 [00:03<00:47,  3.00it/s]"
     ]
    },
    {
     "name": "stdout",
     "output_type": "stream",
     "text": [
      "torch.Size([16, 3, 1024, 1024]) tensor(0., device='cuda:0') tensor(0.9882, device='cuda:0')\n"
     ]
    },
    {
     "name": "stderr",
     "output_type": "stream",
     "text": [
      "  7%|▋         | 10/152 [00:03<00:48,  2.93it/s]"
     ]
    },
    {
     "name": "stdout",
     "output_type": "stream",
     "text": [
      "torch.Size([16, 3, 1024, 1024]) tensor(0., device='cuda:0') tensor(0.9961, device='cuda:0')\n"
     ]
    },
    {
     "name": "stderr",
     "output_type": "stream",
     "text": [
      "  7%|▋         | 11/152 [00:04<00:49,  2.87it/s]"
     ]
    },
    {
     "name": "stdout",
     "output_type": "stream",
     "text": [
      "torch.Size([16, 3, 1024, 1024]) tensor(0., device='cuda:0') tensor(1., device='cuda:0')\n"
     ]
    },
    {
     "name": "stderr",
     "output_type": "stream",
     "text": [
      "  8%|▊         | 12/152 [00:04<00:49,  2.84it/s]"
     ]
    },
    {
     "name": "stdout",
     "output_type": "stream",
     "text": [
      "torch.Size([16, 3, 1024, 1024]) tensor(0., device='cuda:0') tensor(0.9961, device='cuda:0')\n"
     ]
    },
    {
     "name": "stderr",
     "output_type": "stream",
     "text": [
      "  9%|▊         | 13/152 [00:05<00:49,  2.81it/s]"
     ]
    },
    {
     "name": "stdout",
     "output_type": "stream",
     "text": [
      "torch.Size([16, 3, 1024, 1024]) tensor(0., device='cuda:0') tensor(0.9843, device='cuda:0')\n"
     ]
    },
    {
     "name": "stderr",
     "output_type": "stream",
     "text": [
      "  9%|▉         | 14/152 [00:05<00:49,  2.79it/s]"
     ]
    },
    {
     "name": "stdout",
     "output_type": "stream",
     "text": [
      "torch.Size([16, 3, 1024, 1024]) tensor(0., device='cuda:0') tensor(0.9922, device='cuda:0')\n"
     ]
    },
    {
     "name": "stderr",
     "output_type": "stream",
     "text": [
      " 10%|▉         | 15/152 [00:05<00:49,  2.76it/s]"
     ]
    },
    {
     "name": "stdout",
     "output_type": "stream",
     "text": [
      "torch.Size([16, 3, 1024, 1024]) tensor(0., device='cuda:0') tensor(0.9765, device='cuda:0')\n"
     ]
    },
    {
     "name": "stderr",
     "output_type": "stream",
     "text": [
      " 11%|█         | 16/152 [00:06<00:49,  2.75it/s]"
     ]
    },
    {
     "name": "stdout",
     "output_type": "stream",
     "text": [
      "torch.Size([16, 3, 1024, 1024]) tensor(0., device='cuda:0') tensor(0.9882, device='cuda:0')\n"
     ]
    },
    {
     "name": "stderr",
     "output_type": "stream",
     "text": [
      " 13%|█▎        | 20/152 [00:06<00:24,  5.48it/s]"
     ]
    },
    {
     "name": "stdout",
     "output_type": "stream",
     "text": [
      "torch.Size([16, 3, 1024, 1024]) tensor(0., device='cuda:0') tensor(0.9804, device='cuda:0')\n",
      "torch.Size([16, 3, 1024, 1024]) tensor(0., device='cuda:0') tensor(0.9647, device='cuda:0')\n",
      "torch.Size([16, 3, 1024, 1024]) tensor(0., device='cuda:0') tensor(0.9804, device='cuda:0')\n"
     ]
    },
    {
     "name": "stderr",
     "output_type": "stream",
     "text": [
      " 16%|█▌        | 24/152 [00:07<00:13,  9.31it/s]"
     ]
    },
    {
     "name": "stdout",
     "output_type": "stream",
     "text": [
      "torch.Size([16, 3, 1024, 1024]) tensor(0., device='cuda:0') tensor(0.9608, device='cuda:0')\n",
      "torch.Size([16, 3, 1024, 1024]) tensor(0., device='cuda:0') tensor(0.9529, device='cuda:0')\n",
      "torch.Size([16, 3, 1024, 1024]) tensor(0., device='cuda:0') tensor(1., device='cuda:0')\n",
      "torch.Size([16, 3, 1024, 1024]) tensor(0., device='cuda:0') tensor(1., device='cuda:0')\n",
      "torch.Size([16, 3, 1024, 1024]) tensor(0., device='cuda:0') tensor(1., device='cuda:0')\n",
      "torch.Size([16, 3, 1024, 1024]) tensor(0., device='cuda:0') tensor(1., device='cuda:0')\n"
     ]
    },
    {
     "name": "stderr",
     "output_type": "stream",
     "text": [
      " 17%|█▋        | 26/152 [00:07<00:19,  6.36it/s]"
     ]
    },
    {
     "name": "stdout",
     "output_type": "stream",
     "text": [
      "torch.Size([16, 3, 1024, 1024]) tensor(0., device='cuda:0') tensor(1., device='cuda:0')\n",
      "torch.Size([16, 3, 1024, 1024]) tensor(0.1608, device='cuda:0') tensor(1., device='cuda:0')\n"
     ]
    },
    {
     "name": "stderr",
     "output_type": "stream",
     "text": [
      " 18%|█▊        | 28/152 [00:08<00:27,  4.45it/s]"
     ]
    },
    {
     "name": "stdout",
     "output_type": "stream",
     "text": [
      "torch.Size([16, 3, 1024, 1024]) tensor(0.1255, device='cuda:0') tensor(1., device='cuda:0')\n"
     ]
    },
    {
     "name": "stderr",
     "output_type": "stream",
     "text": [
      " 19%|█▉        | 29/152 [00:08<00:30,  3.98it/s]"
     ]
    },
    {
     "name": "stdout",
     "output_type": "stream",
     "text": [
      "torch.Size([16, 3, 1024, 1024]) tensor(0.1176, device='cuda:0') tensor(1., device='cuda:0')\n"
     ]
    },
    {
     "name": "stderr",
     "output_type": "stream",
     "text": [
      " 20%|█▉        | 30/152 [00:08<00:33,  3.63it/s]"
     ]
    },
    {
     "name": "stdout",
     "output_type": "stream",
     "text": [
      "torch.Size([16, 3, 1024, 1024]) tensor(0., device='cuda:0') tensor(1., device='cuda:0')\n"
     ]
    },
    {
     "name": "stderr",
     "output_type": "stream",
     "text": [
      " 20%|██        | 31/152 [00:09<00:35,  3.38it/s]"
     ]
    },
    {
     "name": "stdout",
     "output_type": "stream",
     "text": [
      "torch.Size([16, 3, 1024, 1024]) tensor(0., device='cuda:0') tensor(0.9922, device='cuda:0')\n"
     ]
    },
    {
     "name": "stderr",
     "output_type": "stream",
     "text": [
      " 21%|██        | 32/152 [00:09<00:37,  3.18it/s]"
     ]
    },
    {
     "name": "stdout",
     "output_type": "stream",
     "text": [
      "torch.Size([16, 3, 1024, 1024]) tensor(0., device='cuda:0') tensor(0.9922, device='cuda:0')\n"
     ]
    },
    {
     "name": "stderr",
     "output_type": "stream",
     "text": [
      " 22%|██▏       | 33/152 [00:10<00:38,  3.05it/s]"
     ]
    },
    {
     "name": "stdout",
     "output_type": "stream",
     "text": [
      "torch.Size([16, 3, 1024, 1024]) tensor(0., device='cuda:0') tensor(0.9216, device='cuda:0')\n"
     ]
    },
    {
     "name": "stderr",
     "output_type": "stream",
     "text": [
      " 23%|██▎       | 35/152 [00:10<00:35,  3.32it/s]"
     ]
    },
    {
     "name": "stdout",
     "output_type": "stream",
     "text": [
      "torch.Size([16, 3, 1024, 1024]) tensor(0., device='cuda:0') tensor(0.9647, device='cuda:0')\n"
     ]
    },
    {
     "name": "stderr",
     "output_type": "stream",
     "text": [
      " 26%|██▌       | 39/152 [00:10<00:16,  7.03it/s]"
     ]
    },
    {
     "name": "stdout",
     "output_type": "stream",
     "text": [
      "torch.Size([16, 3, 1024, 1024]) tensor(0., device='cuda:0') tensor(0.9647, device='cuda:0')\n",
      "torch.Size([16, 3, 1024, 1024]) tensor(0., device='cuda:0') tensor(1., device='cuda:0')\n",
      "torch.Size([16, 3, 1024, 1024]) tensor(0., device='cuda:0') tensor(1., device='cuda:0')\n",
      "torch.Size([16, 3, 1024, 1024]) tensor(0., device='cuda:0') tensor(1., device='cuda:0')\n",
      "torch.Size([16, 3, 1024, 1024]) tensor(0., device='cuda:0') tensor(0.9922, device='cuda:0')\n",
      "torch.Size([16, 3, 1024, 1024]) tensor(0., device='cuda:0') tensor(0.9882, device='cuda:0')\n"
     ]
    },
    {
     "name": "stderr",
     "output_type": "stream",
     "text": [
      " 27%|██▋       | 41/152 [00:11<00:15,  7.07it/s]"
     ]
    },
    {
     "name": "stdout",
     "output_type": "stream",
     "text": [
      "torch.Size([16, 3, 1024, 1024]) tensor(0., device='cuda:0') tensor(1., device='cuda:0')\n"
     ]
    },
    {
     "name": "stderr",
     "output_type": "stream",
     "text": [
      " 28%|██▊       | 42/152 [00:11<00:20,  5.35it/s]"
     ]
    },
    {
     "name": "stdout",
     "output_type": "stream",
     "text": [
      "torch.Size([16, 3, 1024, 1024]) tensor(0., device='cuda:0') tensor(1., device='cuda:0')\n"
     ]
    },
    {
     "name": "stderr",
     "output_type": "stream",
     "text": [
      " 28%|██▊       | 43/152 [00:11<00:24,  4.41it/s]"
     ]
    },
    {
     "name": "stdout",
     "output_type": "stream",
     "text": [
      "torch.Size([16, 3, 1024, 1024]) tensor(0., device='cuda:0') tensor(0.9490, device='cuda:0')\n"
     ]
    },
    {
     "name": "stderr",
     "output_type": "stream",
     "text": [
      " 29%|██▉       | 44/152 [00:12<00:28,  3.84it/s]"
     ]
    },
    {
     "name": "stdout",
     "output_type": "stream",
     "text": [
      "torch.Size([16, 3, 1024, 1024]) tensor(0., device='cuda:0') tensor(0.9490, device='cuda:0')\n"
     ]
    },
    {
     "name": "stderr",
     "output_type": "stream",
     "text": [
      " 30%|██▉       | 45/152 [00:12<00:30,  3.48it/s]"
     ]
    },
    {
     "name": "stdout",
     "output_type": "stream",
     "text": [
      "torch.Size([16, 3, 1024, 1024]) tensor(0., device='cuda:0') tensor(0.9529, device='cuda:0')\n"
     ]
    },
    {
     "name": "stderr",
     "output_type": "stream",
     "text": [
      " 30%|███       | 46/152 [00:12<00:32,  3.25it/s]"
     ]
    },
    {
     "name": "stdout",
     "output_type": "stream",
     "text": [
      "torch.Size([16, 3, 1024, 1024]) tensor(0., device='cuda:0') tensor(0.9412, device='cuda:0')\n"
     ]
    },
    {
     "name": "stderr",
     "output_type": "stream",
     "text": [
      " 31%|███       | 47/152 [00:13<00:33,  3.09it/s]"
     ]
    },
    {
     "name": "stdout",
     "output_type": "stream",
     "text": [
      "torch.Size([16, 3, 1024, 1024]) tensor(0., device='cuda:0') tensor(0.9490, device='cuda:0')\n"
     ]
    },
    {
     "name": "stderr",
     "output_type": "stream",
     "text": [
      " 32%|███▏      | 48/152 [00:13<00:34,  2.99it/s]"
     ]
    },
    {
     "name": "stdout",
     "output_type": "stream",
     "text": [
      "torch.Size([16, 3, 1024, 1024]) tensor(0., device='cuda:0') tensor(0.9686, device='cuda:0')\n"
     ]
    },
    {
     "name": "stderr",
     "output_type": "stream",
     "text": [
      " 32%|███▏      | 49/152 [00:14<00:35,  2.92it/s]"
     ]
    },
    {
     "name": "stdout",
     "output_type": "stream",
     "text": [
      "torch.Size([16, 3, 1024, 1024]) tensor(0., device='cuda:0') tensor(0.9216, device='cuda:0')\n"
     ]
    },
    {
     "name": "stderr",
     "output_type": "stream",
     "text": [
      " 33%|███▎      | 50/152 [00:14<00:35,  2.86it/s]"
     ]
    },
    {
     "name": "stdout",
     "output_type": "stream",
     "text": [
      "torch.Size([16, 3, 1024, 1024]) tensor(0., device='cuda:0') tensor(0.9294, device='cuda:0')\n"
     ]
    },
    {
     "name": "stderr",
     "output_type": "stream",
     "text": [
      " 34%|███▎      | 51/152 [00:14<00:35,  2.83it/s]"
     ]
    },
    {
     "name": "stdout",
     "output_type": "stream",
     "text": [
      "torch.Size([16, 3, 1024, 1024]) tensor(0., device='cuda:0') tensor(0.9451, device='cuda:0')\n"
     ]
    },
    {
     "name": "stderr",
     "output_type": "stream",
     "text": [
      " 34%|███▍      | 52/152 [00:15<00:35,  2.80it/s]"
     ]
    },
    {
     "name": "stdout",
     "output_type": "stream",
     "text": [
      "torch.Size([16, 3, 1024, 1024]) tensor(0., device='cuda:0') tensor(0.9765, device='cuda:0')\n"
     ]
    },
    {
     "name": "stderr",
     "output_type": "stream",
     "text": [
      " 35%|███▍      | 53/152 [00:15<00:35,  2.79it/s]"
     ]
    },
    {
     "name": "stdout",
     "output_type": "stream",
     "text": [
      "torch.Size([16, 3, 1024, 1024]) tensor(0., device='cuda:0') tensor(0.9373, device='cuda:0')\n"
     ]
    },
    {
     "name": "stderr",
     "output_type": "stream",
     "text": [
      " 36%|███▌      | 54/152 [00:15<00:35,  2.77it/s]"
     ]
    },
    {
     "name": "stdout",
     "output_type": "stream",
     "text": [
      "torch.Size([16, 3, 1024, 1024]) tensor(0., device='cuda:0') tensor(0.9725, device='cuda:0')\n"
     ]
    },
    {
     "name": "stderr",
     "output_type": "stream",
     "text": [
      " 39%|███▉      | 59/152 [00:16<00:14,  6.55it/s]"
     ]
    },
    {
     "name": "stdout",
     "output_type": "stream",
     "text": [
      "torch.Size([16, 3, 1024, 1024]) tensor(0., device='cuda:0') tensor(0.9255, device='cuda:0')\n",
      "torch.Size([16, 3, 1024, 1024]) tensor(0., device='cuda:0') tensor(0.9451, device='cuda:0')\n",
      "torch.Size([16, 3, 1024, 1024]) tensor(0., device='cuda:0') tensor(0.9020, device='cuda:0')\n",
      "torch.Size([16, 3, 1024, 1024]) tensor(0., device='cuda:0') tensor(0.9216, device='cuda:0')\n"
     ]
    },
    {
     "name": "stderr",
     "output_type": "stream",
     "text": [
      " 40%|████      | 61/152 [00:16<00:11,  8.10it/s]"
     ]
    },
    {
     "name": "stdout",
     "output_type": "stream",
     "text": [
      "torch.Size([16, 3, 1024, 1024]) tensor(0., device='cuda:0') tensor(1., device='cuda:0')\n",
      "torch.Size([16, 3, 1024, 1024]) tensor(0., device='cuda:0') tensor(1., device='cuda:0')\n",
      "torch.Size([16, 3, 1024, 1024]) tensor(0., device='cuda:0') tensor(1., device='cuda:0')\n",
      "torch.Size([16, 3, 1024, 1024]) tensor(0., device='cuda:0') tensor(1., device='cuda:0')\n"
     ]
    },
    {
     "name": "stderr",
     "output_type": "stream",
     "text": [
      " 41%|████▏     | 63/152 [00:17<00:16,  5.34it/s]"
     ]
    },
    {
     "name": "stdout",
     "output_type": "stream",
     "text": [
      "torch.Size([16, 3, 1024, 1024]) tensor(0.1490, device='cuda:0') tensor(1., device='cuda:0')\n"
     ]
    },
    {
     "name": "stderr",
     "output_type": "stream",
     "text": [
      " 42%|████▏     | 64/152 [00:17<00:19,  4.50it/s]"
     ]
    },
    {
     "name": "stdout",
     "output_type": "stream",
     "text": [
      "torch.Size([16, 3, 1024, 1024]) tensor(0.1176, device='cuda:0') tensor(1., device='cuda:0')\n"
     ]
    },
    {
     "name": "stderr",
     "output_type": "stream",
     "text": [
      " 43%|████▎     | 65/152 [00:17<00:21,  3.96it/s]"
     ]
    },
    {
     "name": "stdout",
     "output_type": "stream",
     "text": [
      "torch.Size([16, 3, 1024, 1024]) tensor(0.1373, device='cuda:0') tensor(1., device='cuda:0')\n"
     ]
    },
    {
     "name": "stderr",
     "output_type": "stream",
     "text": [
      " 43%|████▎     | 66/152 [00:18<00:23,  3.59it/s]"
     ]
    },
    {
     "name": "stdout",
     "output_type": "stream",
     "text": [
      "torch.Size([16, 3, 1024, 1024]) tensor(0.1059, device='cuda:0') tensor(1., device='cuda:0')\n"
     ]
    },
    {
     "name": "stderr",
     "output_type": "stream",
     "text": [
      " 44%|████▍     | 67/152 [00:18<00:25,  3.34it/s]"
     ]
    },
    {
     "name": "stdout",
     "output_type": "stream",
     "text": [
      "torch.Size([16, 3, 1024, 1024]) tensor(0.1294, device='cuda:0') tensor(1., device='cuda:0')\n"
     ]
    },
    {
     "name": "stderr",
     "output_type": "stream",
     "text": [
      " 45%|████▍     | 68/152 [00:19<00:26,  3.16it/s]"
     ]
    },
    {
     "name": "stdout",
     "output_type": "stream",
     "text": [
      "torch.Size([16, 3, 1024, 1024]) tensor(0.1333, device='cuda:0') tensor(0.9961, device='cuda:0')\n"
     ]
    },
    {
     "name": "stderr",
     "output_type": "stream",
     "text": [
      " 46%|████▌     | 70/152 [00:19<00:24,  3.41it/s]"
     ]
    },
    {
     "name": "stdout",
     "output_type": "stream",
     "text": [
      "torch.Size([16, 3, 1024, 1024]) tensor(0.1294, device='cuda:0') tensor(0.9922, device='cuda:0')\n"
     ]
    },
    {
     "name": "stderr",
     "output_type": "stream",
     "text": [
      " 49%|████▊     | 74/152 [00:19<00:10,  7.28it/s]"
     ]
    },
    {
     "name": "stdout",
     "output_type": "stream",
     "text": [
      "torch.Size([16, 3, 1024, 1024]) tensor(0., device='cuda:0') tensor(1., device='cuda:0')\n",
      "torch.Size([16, 3, 1024, 1024]) tensor(0.0275, device='cuda:0') tensor(1., device='cuda:0')\n",
      "torch.Size([16, 3, 1024, 1024]) tensor(0.0118, device='cuda:0') tensor(1., device='cuda:0')\n",
      "torch.Size([16, 3, 1024, 1024]) tensor(0., device='cuda:0') tensor(1., device='cuda:0')\n",
      "torch.Size([16, 3, 1024, 1024]) tensor(0., device='cuda:0') tensor(1., device='cuda:0')\n",
      "torch.Size([16, 3, 1024, 1024]) tensor(0., device='cuda:0') tensor(1., device='cuda:0')\n"
     ]
    },
    {
     "name": "stderr",
     "output_type": "stream",
     "text": [
      " 50%|█████     | 76/152 [00:20<00:10,  7.45it/s]"
     ]
    },
    {
     "name": "stdout",
     "output_type": "stream",
     "text": [
      "torch.Size([16, 3, 1024, 1024]) tensor(0., device='cuda:0') tensor(1., device='cuda:0')\n"
     ]
    },
    {
     "name": "stderr",
     "output_type": "stream",
     "text": [
      " 51%|█████     | 77/152 [00:20<00:13,  5.51it/s]"
     ]
    },
    {
     "name": "stdout",
     "output_type": "stream",
     "text": [
      "torch.Size([16, 3, 1024, 1024]) tensor(0., device='cuda:0') tensor(1., device='cuda:0')\n"
     ]
    },
    {
     "name": "stderr",
     "output_type": "stream",
     "text": [
      " 51%|█████▏    | 78/152 [00:20<00:16,  4.50it/s]"
     ]
    },
    {
     "name": "stdout",
     "output_type": "stream",
     "text": [
      "torch.Size([16, 3, 1024, 1024]) tensor(0.1725, device='cuda:0') tensor(1., device='cuda:0')\n"
     ]
    },
    {
     "name": "stderr",
     "output_type": "stream",
     "text": [
      " 52%|█████▏    | 79/152 [00:21<00:18,  3.90it/s]"
     ]
    },
    {
     "name": "stdout",
     "output_type": "stream",
     "text": [
      "torch.Size([16, 3, 1024, 1024]) tensor(0., device='cuda:0') tensor(0.9961, device='cuda:0')\n"
     ]
    },
    {
     "name": "stderr",
     "output_type": "stream",
     "text": [
      " 53%|█████▎    | 80/152 [00:21<00:20,  3.53it/s]"
     ]
    },
    {
     "name": "stdout",
     "output_type": "stream",
     "text": [
      "torch.Size([16, 3, 1024, 1024]) tensor(0.1490, device='cuda:0') tensor(0.9961, device='cuda:0')\n"
     ]
    },
    {
     "name": "stderr",
     "output_type": "stream",
     "text": [
      " 53%|█████▎    | 81/152 [00:21<00:21,  3.28it/s]"
     ]
    },
    {
     "name": "stdout",
     "output_type": "stream",
     "text": [
      "torch.Size([16, 3, 1024, 1024]) tensor(0., device='cuda:0') tensor(1., device='cuda:0')\n"
     ]
    },
    {
     "name": "stderr",
     "output_type": "stream",
     "text": [
      " 54%|█████▍    | 82/152 [00:22<00:22,  3.12it/s]"
     ]
    },
    {
     "name": "stdout",
     "output_type": "stream",
     "text": [
      "torch.Size([16, 3, 1024, 1024]) tensor(0.1529, device='cuda:0') tensor(1., device='cuda:0')\n"
     ]
    },
    {
     "name": "stderr",
     "output_type": "stream",
     "text": [
      " 55%|█████▍    | 83/152 [00:22<00:23,  2.99it/s]"
     ]
    },
    {
     "name": "stdout",
     "output_type": "stream",
     "text": [
      "torch.Size([16, 3, 1024, 1024]) tensor(0., device='cuda:0') tensor(1., device='cuda:0')\n"
     ]
    },
    {
     "name": "stderr",
     "output_type": "stream",
     "text": [
      " 55%|█████▌    | 84/152 [00:22<00:23,  2.91it/s]"
     ]
    },
    {
     "name": "stdout",
     "output_type": "stream",
     "text": [
      "torch.Size([16, 3, 1024, 1024]) tensor(0.1882, device='cuda:0') tensor(0.9804, device='cuda:0')\n"
     ]
    },
    {
     "name": "stderr",
     "output_type": "stream",
     "text": [
      " 56%|█████▌    | 85/152 [00:23<00:23,  2.86it/s]"
     ]
    },
    {
     "name": "stdout",
     "output_type": "stream",
     "text": [
      "torch.Size([16, 3, 1024, 1024]) tensor(0.1961, device='cuda:0') tensor(1., device='cuda:0')\n"
     ]
    },
    {
     "name": "stderr",
     "output_type": "stream",
     "text": [
      " 57%|█████▋    | 86/152 [00:23<00:23,  2.82it/s]"
     ]
    },
    {
     "name": "stdout",
     "output_type": "stream",
     "text": [
      "torch.Size([16, 3, 1024, 1024]) tensor(0.1843, device='cuda:0') tensor(0.9922, device='cuda:0')\n"
     ]
    },
    {
     "name": "stderr",
     "output_type": "stream",
     "text": [
      " 58%|█████▊    | 88/152 [00:24<00:19,  3.22it/s]"
     ]
    },
    {
     "name": "stdout",
     "output_type": "stream",
     "text": [
      "torch.Size([16, 3, 1024, 1024]) tensor(0., device='cuda:0') tensor(0.9647, device='cuda:0')\n",
      "torch.Size([16, 3, 1024, 1024]) tensor(0., device='cuda:0') tensor(0.9843, device='cuda:0')\n"
     ]
    },
    {
     "name": "stderr",
     "output_type": "stream",
     "text": [
      " 60%|█████▉    | 91/152 [00:24<00:10,  5.75it/s]"
     ]
    },
    {
     "name": "stdout",
     "output_type": "stream",
     "text": [
      "torch.Size([16, 3, 1024, 1024]) tensor(0., device='cuda:0') tensor(0.9333, device='cuda:0')\n",
      "torch.Size([16, 3, 1024, 1024]) tensor(0., device='cuda:0') tensor(1., device='cuda:0')\n",
      "torch.Size([16, 3, 1024, 1024]) tensor(0., device='cuda:0') tensor(1., device='cuda:0')\n"
     ]
    },
    {
     "name": "stderr",
     "output_type": "stream",
     "text": [
      " 62%|██████▏   | 94/152 [00:24<00:06,  8.38it/s]"
     ]
    },
    {
     "name": "stdout",
     "output_type": "stream",
     "text": [
      "torch.Size([16, 3, 1024, 1024]) tensor(0., device='cuda:0') tensor(1., device='cuda:0')\n",
      "torch.Size([16, 3, 1024, 1024]) tensor(0., device='cuda:0') tensor(1., device='cuda:0')\n",
      "torch.Size([16, 3, 1024, 1024]) tensor(0., device='cuda:0') tensor(1., device='cuda:0')\n",
      "torch.Size([16, 3, 1024, 1024]) tensor(0.0431, device='cuda:0') tensor(1., device='cuda:0')\n"
     ]
    },
    {
     "name": "stderr",
     "output_type": "stream",
     "text": [
      " 63%|██████▎   | 96/152 [00:25<00:09,  5.99it/s]"
     ]
    },
    {
     "name": "stdout",
     "output_type": "stream",
     "text": [
      "torch.Size([16, 3, 1024, 1024]) tensor(0.1373, device='cuda:0') tensor(1., device='cuda:0')\n"
     ]
    },
    {
     "name": "stderr",
     "output_type": "stream",
     "text": [
      " 64%|██████▍   | 97/152 [00:25<00:11,  4.80it/s]"
     ]
    },
    {
     "name": "stdout",
     "output_type": "stream",
     "text": [
      "torch.Size([16, 3, 1024, 1024]) tensor(0.1922, device='cuda:0') tensor(0.9961, device='cuda:0')\n"
     ]
    },
    {
     "name": "stderr",
     "output_type": "stream",
     "text": [
      " 64%|██████▍   | 98/152 [00:25<00:13,  4.09it/s]"
     ]
    },
    {
     "name": "stdout",
     "output_type": "stream",
     "text": [
      "torch.Size([16, 3, 1024, 1024]) tensor(0.1804, device='cuda:0') tensor(1., device='cuda:0')\n"
     ]
    },
    {
     "name": "stderr",
     "output_type": "stream",
     "text": [
      " 65%|██████▌   | 99/152 [00:26<00:14,  3.65it/s]"
     ]
    },
    {
     "name": "stdout",
     "output_type": "stream",
     "text": [
      "torch.Size([16, 3, 1024, 1024]) tensor(0.1765, device='cuda:0') tensor(1., device='cuda:0')\n"
     ]
    },
    {
     "name": "stderr",
     "output_type": "stream",
     "text": [
      " 66%|██████▌   | 100/152 [00:26<00:15,  3.36it/s]"
     ]
    },
    {
     "name": "stdout",
     "output_type": "stream",
     "text": [
      "torch.Size([16, 3, 1024, 1024]) tensor(0.1804, device='cuda:0') tensor(1., device='cuda:0')\n"
     ]
    },
    {
     "name": "stderr",
     "output_type": "stream",
     "text": [
      " 66%|██████▋   | 101/152 [00:27<00:16,  3.17it/s]"
     ]
    },
    {
     "name": "stdout",
     "output_type": "stream",
     "text": [
      "torch.Size([16, 3, 1024, 1024]) tensor(0.1922, device='cuda:0') tensor(1., device='cuda:0')\n"
     ]
    },
    {
     "name": "stderr",
     "output_type": "stream",
     "text": [
      " 67%|██████▋   | 102/152 [00:27<00:16,  3.04it/s]"
     ]
    },
    {
     "name": "stdout",
     "output_type": "stream",
     "text": [
      "torch.Size([16, 3, 1024, 1024]) tensor(0.2039, device='cuda:0') tensor(0.9961, device='cuda:0')\n"
     ]
    },
    {
     "name": "stderr",
     "output_type": "stream",
     "text": [
      " 68%|██████▊   | 103/152 [00:27<00:16,  2.96it/s]"
     ]
    },
    {
     "name": "stdout",
     "output_type": "stream",
     "text": [
      "torch.Size([16, 3, 1024, 1024]) tensor(0.1765, device='cuda:0') tensor(0.9961, device='cuda:0')\n"
     ]
    },
    {
     "name": "stderr",
     "output_type": "stream",
     "text": [
      " 68%|██████▊   | 104/152 [00:28<00:16,  2.89it/s]"
     ]
    },
    {
     "name": "stdout",
     "output_type": "stream",
     "text": [
      "torch.Size([16, 3, 1024, 1024]) tensor(0.2000, device='cuda:0') tensor(1., device='cuda:0')\n"
     ]
    },
    {
     "name": "stderr",
     "output_type": "stream",
     "text": [
      " 69%|██████▉   | 105/152 [00:28<00:16,  2.84it/s]"
     ]
    },
    {
     "name": "stdout",
     "output_type": "stream",
     "text": [
      "torch.Size([16, 3, 1024, 1024]) tensor(0.1961, device='cuda:0') tensor(0.9882, device='cuda:0')\n"
     ]
    },
    {
     "name": "stderr",
     "output_type": "stream",
     "text": [
      " 70%|██████▉   | 106/152 [00:28<00:16,  2.82it/s]"
     ]
    },
    {
     "name": "stdout",
     "output_type": "stream",
     "text": [
      "torch.Size([16, 3, 1024, 1024]) tensor(0.1804, device='cuda:0') tensor(0.9882, device='cuda:0')\n"
     ]
    },
    {
     "name": "stderr",
     "output_type": "stream",
     "text": [
      " 72%|███████▏  | 110/152 [00:29<00:07,  5.61it/s]"
     ]
    },
    {
     "name": "stdout",
     "output_type": "stream",
     "text": [
      "torch.Size([16, 3, 1024, 1024]) tensor(0., device='cuda:0') tensor(0.9804, device='cuda:0')\n",
      "torch.Size([16, 3, 1024, 1024]) tensor(0., device='cuda:0') tensor(0.9843, device='cuda:0')\n",
      "torch.Size([16, 3, 1024, 1024]) tensor(0., device='cuda:0') tensor(1., device='cuda:0')\n"
     ]
    },
    {
     "name": "stderr",
     "output_type": "stream",
     "text": [
      " 74%|███████▎  | 112/152 [00:29<00:05,  6.95it/s]"
     ]
    },
    {
     "name": "stdout",
     "output_type": "stream",
     "text": [
      "torch.Size([16, 3, 1024, 1024]) tensor(0., device='cuda:0') tensor(1., device='cuda:0')\n",
      "torch.Size([16, 3, 1024, 1024]) tensor(0., device='cuda:0') tensor(0.9490, device='cuda:0')\n",
      "torch.Size([16, 3, 1024, 1024]) tensor(0., device='cuda:0') tensor(0.9922, device='cuda:0')\n"
     ]
    },
    {
     "name": "stderr",
     "output_type": "stream",
     "text": [
      " 76%|███████▋  | 116/152 [00:29<00:03, 10.36it/s]"
     ]
    },
    {
     "name": "stdout",
     "output_type": "stream",
     "text": [
      "torch.Size([16, 3, 1024, 1024]) tensor(0., device='cuda:0') tensor(1., device='cuda:0')\n",
      "torch.Size([16, 3, 1024, 1024]) tensor(0., device='cuda:0') tensor(0.9922, device='cuda:0')\n",
      "torch.Size([16, 3, 1024, 1024]) tensor(0., device='cuda:0') tensor(0.9686, device='cuda:0')\n",
      "torch.Size([16, 3, 1024, 1024]) tensor(0., device='cuda:0') tensor(0.9882, device='cuda:0')\n",
      "torch.Size([16, 3, 1024, 1024]) tensor(0., device='cuda:0') tensor(0.9922, device='cuda:0')\n"
     ]
    },
    {
     "name": "stderr",
     "output_type": "stream",
     "text": [
      " 78%|███████▊  | 118/152 [00:30<00:05,  5.89it/s]"
     ]
    },
    {
     "name": "stdout",
     "output_type": "stream",
     "text": [
      "torch.Size([16, 3, 1024, 1024]) tensor(0., device='cuda:0') tensor(0.9569, device='cuda:0')\n"
     ]
    },
    {
     "name": "stderr",
     "output_type": "stream",
     "text": [
      " 78%|███████▊  | 119/152 [00:30<00:06,  4.83it/s]"
     ]
    },
    {
     "name": "stdout",
     "output_type": "stream",
     "text": [
      "torch.Size([16, 3, 1024, 1024]) tensor(0., device='cuda:0') tensor(0.9922, device='cuda:0')\n"
     ]
    },
    {
     "name": "stderr",
     "output_type": "stream",
     "text": [
      " 79%|███████▉  | 120/152 [00:31<00:07,  4.15it/s]"
     ]
    },
    {
     "name": "stdout",
     "output_type": "stream",
     "text": [
      "torch.Size([16, 3, 1024, 1024]) tensor(0., device='cuda:0') tensor(0.9608, device='cuda:0')\n"
     ]
    },
    {
     "name": "stderr",
     "output_type": "stream",
     "text": [
      " 80%|███████▉  | 121/152 [00:31<00:08,  3.70it/s]"
     ]
    },
    {
     "name": "stdout",
     "output_type": "stream",
     "text": [
      "torch.Size([16, 3, 1024, 1024]) tensor(0., device='cuda:0') tensor(0.9922, device='cuda:0')\n"
     ]
    },
    {
     "name": "stderr",
     "output_type": "stream",
     "text": [
      " 80%|████████  | 122/152 [00:31<00:08,  3.39it/s]"
     ]
    },
    {
     "name": "stdout",
     "output_type": "stream",
     "text": [
      "torch.Size([16, 3, 1024, 1024]) tensor(0., device='cuda:0') tensor(0.9451, device='cuda:0')\n"
     ]
    },
    {
     "name": "stderr",
     "output_type": "stream",
     "text": [
      " 81%|████████  | 123/152 [00:32<00:09,  3.20it/s]"
     ]
    },
    {
     "name": "stdout",
     "output_type": "stream",
     "text": [
      "torch.Size([16, 3, 1024, 1024]) tensor(0., device='cuda:0') tensor(0.9922, device='cuda:0')\n"
     ]
    },
    {
     "name": "stderr",
     "output_type": "stream",
     "text": [
      " 82%|████████▏ | 124/152 [00:32<00:09,  3.07it/s]"
     ]
    },
    {
     "name": "stdout",
     "output_type": "stream",
     "text": [
      "torch.Size([16, 3, 1024, 1024]) tensor(0., device='cuda:0') tensor(0.9608, device='cuda:0')\n"
     ]
    },
    {
     "name": "stderr",
     "output_type": "stream",
     "text": [
      " 82%|████████▏ | 125/152 [00:33<00:09,  2.98it/s]"
     ]
    },
    {
     "name": "stdout",
     "output_type": "stream",
     "text": [
      "torch.Size([16, 3, 1024, 1024]) tensor(0., device='cuda:0') tensor(0.9686, device='cuda:0')\n"
     ]
    },
    {
     "name": "stderr",
     "output_type": "stream",
     "text": [
      " 83%|████████▎ | 126/152 [00:33<00:08,  2.92it/s]"
     ]
    },
    {
     "name": "stdout",
     "output_type": "stream",
     "text": [
      "torch.Size([16, 3, 1024, 1024]) tensor(0., device='cuda:0') tensor(0.9569, device='cuda:0')\n"
     ]
    },
    {
     "name": "stderr",
     "output_type": "stream",
     "text": [
      " 84%|████████▎ | 127/152 [00:33<00:08,  2.88it/s]"
     ]
    },
    {
     "name": "stdout",
     "output_type": "stream",
     "text": [
      "torch.Size([16, 3, 1024, 1024]) tensor(0., device='cuda:0') tensor(0.9412, device='cuda:0')\n"
     ]
    },
    {
     "name": "stderr",
     "output_type": "stream",
     "text": [
      " 84%|████████▍ | 128/152 [00:34<00:08,  2.85it/s]"
     ]
    },
    {
     "name": "stdout",
     "output_type": "stream",
     "text": [
      "torch.Size([16, 3, 1024, 1024]) tensor(0., device='cuda:0') tensor(0.9098, device='cuda:0')\n"
     ]
    },
    {
     "name": "stderr",
     "output_type": "stream",
     "text": [
      " 85%|████████▍ | 129/152 [00:34<00:08,  2.82it/s]"
     ]
    },
    {
     "name": "stdout",
     "output_type": "stream",
     "text": [
      "torch.Size([16, 3, 1024, 1024]) tensor(0., device='cuda:0') tensor(0.9020, device='cuda:0')\n"
     ]
    },
    {
     "name": "stderr",
     "output_type": "stream",
     "text": [
      " 86%|████████▌ | 130/152 [00:34<00:07,  2.81it/s]"
     ]
    },
    {
     "name": "stdout",
     "output_type": "stream",
     "text": [
      "torch.Size([16, 3, 1024, 1024]) tensor(0., device='cuda:0') tensor(0.8863, device='cuda:0')\n"
     ]
    },
    {
     "name": "stderr",
     "output_type": "stream",
     "text": [
      " 88%|████████▊ | 133/152 [00:35<00:04,  4.33it/s]"
     ]
    },
    {
     "name": "stdout",
     "output_type": "stream",
     "text": [
      "torch.Size([16, 3, 1024, 1024]) tensor(0., device='cuda:0') tensor(1., device='cuda:0')\n",
      "torch.Size([16, 3, 1024, 1024]) tensor(0., device='cuda:0') tensor(1., device='cuda:0')\n",
      "torch.Size([16, 3, 1024, 1024]) tensor(0., device='cuda:0') tensor(0.9686, device='cuda:0')\n"
     ]
    },
    {
     "name": "stderr",
     "output_type": "stream",
     "text": [
      " 89%|████████▉ | 136/152 [00:35<00:02,  6.44it/s]"
     ]
    },
    {
     "name": "stdout",
     "output_type": "stream",
     "text": [
      "torch.Size([16, 3, 1024, 1024]) tensor(0., device='cuda:0') tensor(1., device='cuda:0')\n",
      "torch.Size([16, 3, 1024, 1024]) tensor(0., device='cuda:0') tensor(0.9882, device='cuda:0')\n",
      "torch.Size([16, 3, 1024, 1024]) tensor(0., device='cuda:0') tensor(0.9647, device='cuda:0')\n"
     ]
    },
    {
     "name": "stderr",
     "output_type": "stream",
     "text": [
      " 90%|█████████ | 137/152 [00:35<00:02,  5.84it/s]"
     ]
    },
    {
     "name": "stdout",
     "output_type": "stream",
     "text": [
      "torch.Size([16, 3, 1024, 1024]) tensor(0.1922, device='cuda:0') tensor(1., device='cuda:0')\n"
     ]
    },
    {
     "name": "stderr",
     "output_type": "stream",
     "text": [
      " 91%|█████████ | 138/152 [00:36<00:03,  4.61it/s]"
     ]
    },
    {
     "name": "stdout",
     "output_type": "stream",
     "text": [
      "torch.Size([16, 3, 1024, 1024]) tensor(0.2039, device='cuda:0') tensor(1., device='cuda:0')\n"
     ]
    },
    {
     "name": "stderr",
     "output_type": "stream",
     "text": [
      " 91%|█████████▏| 139/152 [00:36<00:03,  3.94it/s]"
     ]
    },
    {
     "name": "stdout",
     "output_type": "stream",
     "text": [
      "torch.Size([16, 3, 1024, 1024]) tensor(0.1961, device='cuda:0') tensor(0.9569, device='cuda:0')\n"
     ]
    },
    {
     "name": "stderr",
     "output_type": "stream",
     "text": [
      " 92%|█████████▏| 140/152 [00:37<00:03,  3.54it/s]"
     ]
    },
    {
     "name": "stdout",
     "output_type": "stream",
     "text": [
      "torch.Size([16, 3, 1024, 1024]) tensor(0.2039, device='cuda:0') tensor(0.9451, device='cuda:0')\n"
     ]
    },
    {
     "name": "stderr",
     "output_type": "stream",
     "text": [
      " 93%|█████████▎| 141/152 [00:37<00:03,  3.21it/s]"
     ]
    },
    {
     "name": "stdout",
     "output_type": "stream",
     "text": [
      "torch.Size([16, 3, 1024, 1024]) tensor(0.2157, device='cuda:0') tensor(0.9725, device='cuda:0')\n"
     ]
    },
    {
     "name": "stderr",
     "output_type": "stream",
     "text": [
      " 93%|█████████▎| 142/152 [00:37<00:03,  3.07it/s]"
     ]
    },
    {
     "name": "stdout",
     "output_type": "stream",
     "text": [
      "torch.Size([16, 3, 1024, 1024]) tensor(0.1961, device='cuda:0') tensor(0.9686, device='cuda:0')\n"
     ]
    },
    {
     "name": "stderr",
     "output_type": "stream",
     "text": [
      " 94%|█████████▍| 143/152 [00:38<00:03,  2.97it/s]"
     ]
    },
    {
     "name": "stdout",
     "output_type": "stream",
     "text": [
      "torch.Size([16, 3, 1024, 1024]) tensor(0.1765, device='cuda:0') tensor(0.9608, device='cuda:0')\n"
     ]
    },
    {
     "name": "stderr",
     "output_type": "stream",
     "text": [
      " 95%|█████████▍| 144/152 [00:38<00:02,  2.90it/s]"
     ]
    },
    {
     "name": "stdout",
     "output_type": "stream",
     "text": [
      "torch.Size([16, 3, 1024, 1024]) tensor(0.2078, device='cuda:0') tensor(0.9804, device='cuda:0')\n"
     ]
    },
    {
     "name": "stderr",
     "output_type": "stream",
     "text": [
      " 95%|█████████▌| 145/152 [00:38<00:02,  2.85it/s]"
     ]
    },
    {
     "name": "stdout",
     "output_type": "stream",
     "text": [
      "torch.Size([16, 3, 1024, 1024]) tensor(0.2157, device='cuda:0') tensor(0.8941, device='cuda:0')\n"
     ]
    },
    {
     "name": "stderr",
     "output_type": "stream",
     "text": [
      " 96%|█████████▌| 146/152 [00:39<00:02,  2.82it/s]"
     ]
    },
    {
     "name": "stdout",
     "output_type": "stream",
     "text": [
      "torch.Size([16, 3, 1024, 1024]) tensor(0.2235, device='cuda:0') tensor(0.9333, device='cuda:0')\n"
     ]
    },
    {
     "name": "stderr",
     "output_type": "stream",
     "text": [
      " 97%|█████████▋| 148/152 [00:39<00:01,  3.25it/s]"
     ]
    },
    {
     "name": "stdout",
     "output_type": "stream",
     "text": [
      "torch.Size([16, 3, 1024, 1024]) tensor(0., device='cuda:0') tensor(0.9333, device='cuda:0')\n",
      "torch.Size([16, 3, 1024, 1024]) tensor(0., device='cuda:0') tensor(0.8902, device='cuda:0')\n"
     ]
    },
    {
     "name": "stderr",
     "output_type": "stream",
     "text": [
      "100%|██████████| 152/152 [00:40<00:00,  6.79it/s]"
     ]
    },
    {
     "name": "stdout",
     "output_type": "stream",
     "text": [
      "torch.Size([16, 3, 1024, 1024]) tensor(0., device='cuda:0') tensor(0.8667, device='cuda:0')\n",
      "torch.Size([16, 3, 1024, 1024]) tensor(0., device='cuda:0') tensor(0.8863, device='cuda:0')\n",
      "torch.Size([13, 3, 1024, 1024]) tensor(0., device='cuda:0') tensor(0.8549, device='cuda:0')\n"
     ]
    },
    {
     "name": "stderr",
     "output_type": "stream",
     "text": [
      "100%|██████████| 152/152 [00:40<00:00,  3.78it/s]\n"
     ]
    },
    {
     "name": "stdout",
     "output_type": "stream",
     "text": [
      "loss :0.8156536971579108 pos_loss:0.15732395782530267 neg_loss:1.0042799623302734\n"
     ]
    }
   ],
   "source": [
    "from evaluate import *\n",
    "evaluator = Evaluate(model.model, save_dir=os.path.join(DATA_DIR, 'predictions', wandb.run.name), image_size=IMAGE_SIZE )\n",
    "\n",
    "loss, pos_loss, neg_loss, batch_index = evaluator.evaluate(epoch)"
   ]
  },
  {
   "cell_type": "code",
   "execution_count": null,
   "metadata": {},
   "outputs": [],
   "source": [
    "# start_batch_index = 0\n",
    "# for i in range(252):\n",
    "#     loss, pos_loss, neg_loss, batch_index = evaluator.evaluate(epoch + i + start_batch_index)\n",
    "#     wandb.log({\n",
    "#         'val/total_loss': loss,\n",
    "#         'val/pos_loss': pos_loss,\n",
    "#         'val/neg_loss': neg_loss,\n",
    "#         'val/batch_index' : batch_index\n",
    "#     })"
   ]
  },
  {
   "cell_type": "code",
   "execution_count": 41,
   "metadata": {
    "collapsed": false,
    "jupyter": {
     "outputs_hidden": false
    }
   },
   "outputs": [
    {
     "name": "stderr",
     "output_type": "stream",
     "text": [
      "t 0 loss 1.0721 c 0.6984 b 0.0075: 100%|██████████| 924/924 [11:16<00:00,  1.37it/s]\n"
     ]
    },
    {
     "name": "stdout",
     "output_type": "stream",
     "text": [
      "test df length :  2429\n"
     ]
    },
    {
     "name": "stderr",
     "output_type": "stream",
     "text": [
      "  3%|▎         | 5/152 [00:01<00:56,  2.59it/s]\n"
     ]
    },
    {
     "ename": "RuntimeError",
     "evalue": "stack expects each tensor to be equal size, but got [7, 256, 16, 16] at entry 0 and [7, 256, 32, 32] at entry 1",
     "output_type": "error",
     "traceback": [
      "\u001b[0;31m---------------------------------------------------------------------------\u001b[0m",
      "\u001b[0;31mRuntimeError\u001b[0m                              Traceback (most recent call last)",
      "\u001b[0;32m/tmp/ipykernel_133297/4118870966.py\u001b[0m in \u001b[0;36m<module>\u001b[0;34m\u001b[0m\n\u001b[1;32m      7\u001b[0m \u001b[0;34m\u001b[0m\u001b[0m\n\u001b[1;32m      8\u001b[0m     \u001b[0;32mwith\u001b[0m \u001b[0mtorch\u001b[0m\u001b[0;34m.\u001b[0m\u001b[0mno_grad\u001b[0m\u001b[0;34m(\u001b[0m\u001b[0;34m)\u001b[0m\u001b[0;34m:\u001b[0m\u001b[0;34m\u001b[0m\u001b[0;34m\u001b[0m\u001b[0m\n\u001b[0;32m----> 9\u001b[0;31m         \u001b[0mloss\u001b[0m\u001b[0;34m,\u001b[0m \u001b[0mpos_loss\u001b[0m\u001b[0;34m,\u001b[0m \u001b[0mneg_loss\u001b[0m\u001b[0;34m,\u001b[0m \u001b[0mbatch_index\u001b[0m \u001b[0;34m=\u001b[0m \u001b[0mevaluator\u001b[0m\u001b[0;34m.\u001b[0m\u001b[0mevaluate\u001b[0m\u001b[0;34m(\u001b[0m\u001b[0mepoch\u001b[0m\u001b[0;34m)\u001b[0m\u001b[0;34m\u001b[0m\u001b[0;34m\u001b[0m\u001b[0m\n\u001b[0m\u001b[1;32m     10\u001b[0m         wandb.log({\n\u001b[1;32m     11\u001b[0m             \u001b[0;34m'val/total_loss'\u001b[0m\u001b[0;34m:\u001b[0m \u001b[0mloss\u001b[0m\u001b[0;34m,\u001b[0m\u001b[0;34m\u001b[0m\u001b[0;34m\u001b[0m\u001b[0m\n",
      "\u001b[0;32m~/cervical_spine/final/evaluate.py\u001b[0m in \u001b[0;36mevaluate\u001b[0;34m(self, epoch, batch_size, image_size)\u001b[0m\n\u001b[1;32m    289\u001b[0m         \u001b[0mprint\u001b[0m\u001b[0;34m(\u001b[0m\u001b[0;34m\"test df length : \"\u001b[0m\u001b[0;34m,\u001b[0m \u001b[0mlen\u001b[0m\u001b[0;34m(\u001b[0m\u001b[0mdf\u001b[0m\u001b[0;34m)\u001b[0m\u001b[0;34m)\u001b[0m\u001b[0;34m\u001b[0m\u001b[0;34m\u001b[0m\u001b[0m\n\u001b[1;32m    290\u001b[0m         \u001b[0mdl\u001b[0m \u001b[0;34m=\u001b[0m \u001b[0mget_test_dataloader\u001b[0m\u001b[0;34m(\u001b[0m\u001b[0mdf\u001b[0m\u001b[0;34m,\u001b[0m \u001b[0mbatch_size\u001b[0m\u001b[0;34m=\u001b[0m\u001b[0mbatch_size\u001b[0m\u001b[0;34m,\u001b[0m \u001b[0mimage_size\u001b[0m\u001b[0;34m=\u001b[0m\u001b[0mimage_size\u001b[0m\u001b[0;34m)\u001b[0m\u001b[0;34m\u001b[0m\u001b[0;34m\u001b[0m\u001b[0m\n\u001b[0;32m--> 291\u001b[0;31m         \u001b[0mpredictions\u001b[0m \u001b[0;34m=\u001b[0m \u001b[0mtest_predict\u001b[0m\u001b[0;34m(\u001b[0m\u001b[0mmodel\u001b[0m\u001b[0;34m,\u001b[0m \u001b[0mdl\u001b[0m\u001b[0;34m,\u001b[0m \u001b[0manchors\u001b[0m\u001b[0;34m=\u001b[0m\u001b[0mself\u001b[0m\u001b[0;34m.\u001b[0m\u001b[0manchors\u001b[0m\u001b[0;34m)\u001b[0m\u001b[0;34m\u001b[0m\u001b[0;34m\u001b[0m\u001b[0m\n\u001b[0m\u001b[1;32m    292\u001b[0m         \u001b[0mpred_df\u001b[0m \u001b[0;34m=\u001b[0m \u001b[0mget_test_prediction_df\u001b[0m\u001b[0;34m(\u001b[0m\u001b[0mdf\u001b[0m\u001b[0;34m,\u001b[0m \u001b[0mpredictions\u001b[0m\u001b[0;34m)\u001b[0m\u001b[0;34m\u001b[0m\u001b[0;34m\u001b[0m\u001b[0m\n\u001b[1;32m    293\u001b[0m \u001b[0;34m\u001b[0m\u001b[0m\n",
      "\u001b[0;32m~/cervical_spine/final/evaluate.py\u001b[0m in \u001b[0;36mtest_predict\u001b[0;34m(model, dl, batch_size, model_name, image_size, anchors)\u001b[0m\n\u001b[1;32m    236\u001b[0m                 \u001b[0mmask\u001b[0m \u001b[0;34m=\u001b[0m \u001b[0mmask\u001b[0m\u001b[0;34m[\u001b[0m\u001b[0mactive_indices\u001b[0m\u001b[0;34m,\u001b[0m \u001b[0;34m:\u001b[0m\u001b[0;34m,\u001b[0m \u001b[0;34m:\u001b[0m\u001b[0;34m,\u001b[0m \u001b[0;34m:\u001b[0m\u001b[0;34m]\u001b[0m\u001b[0;34m\u001b[0m\u001b[0;34m\u001b[0m\u001b[0m\n\u001b[1;32m    237\u001b[0m \u001b[0;34m\u001b[0m\u001b[0m\n\u001b[0;32m--> 238\u001b[0;31m             \u001b[0mbboxes\u001b[0m\u001b[0;34m,\u001b[0m \u001b[0mscores\u001b[0m \u001b[0;34m=\u001b[0m \u001b[0mpred_det\u001b[0m\u001b[0;34m(\u001b[0m\u001b[0mmodel\u001b[0m\u001b[0;34m,\u001b[0m \u001b[0mx\u001b[0m\u001b[0;34m,\u001b[0m \u001b[0manchors\u001b[0m\u001b[0;34m)\u001b[0m\u001b[0;34m\u001b[0m\u001b[0;34m\u001b[0m\u001b[0m\n\u001b[0m\u001b[1;32m    239\u001b[0m             \u001b[0;31m# print(scores)\u001b[0m\u001b[0;34m\u001b[0m\u001b[0;34m\u001b[0m\u001b[0;34m\u001b[0m\u001b[0m\n\u001b[1;32m    240\u001b[0m             \u001b[0;31m# if model_name == 'effdet':\u001b[0m\u001b[0;34m\u001b[0m\u001b[0;34m\u001b[0m\u001b[0;34m\u001b[0m\u001b[0m\n",
      "\u001b[0;32m~/cervical_spine/final/evaluate.py\u001b[0m in \u001b[0;36mpred_det_effdet\u001b[0;34m(model, x, anchors)\u001b[0m\n\u001b[1;32m    112\u001b[0m \u001b[0;32mdef\u001b[0m \u001b[0mpred_det_effdet\u001b[0m\u001b[0;34m(\u001b[0m\u001b[0mmodel\u001b[0m\u001b[0;34m,\u001b[0m \u001b[0mx\u001b[0m\u001b[0;34m,\u001b[0m \u001b[0manchors\u001b[0m\u001b[0;34m)\u001b[0m\u001b[0;34m:\u001b[0m\u001b[0;34m\u001b[0m\u001b[0;34m\u001b[0m\u001b[0m\n\u001b[1;32m    113\u001b[0m     \u001b[0mx\u001b[0m \u001b[0;34m=\u001b[0m \u001b[0;34m(\u001b[0m\u001b[0mx\u001b[0m \u001b[0;34m-\u001b[0m \u001b[0;36m0.5\u001b[0m\u001b[0;34m)\u001b[0m \u001b[0;34m*\u001b[0m \u001b[0;36m2\u001b[0m\u001b[0;34m\u001b[0m\u001b[0;34m\u001b[0m\u001b[0m\n\u001b[0;32m--> 114\u001b[0;31m     \u001b[0mclass_out\u001b[0m\u001b[0;34m,\u001b[0m \u001b[0mbox_out\u001b[0m \u001b[0;34m=\u001b[0m \u001b[0mmodel\u001b[0m\u001b[0;34m(\u001b[0m\u001b[0mx\u001b[0m\u001b[0;34m)\u001b[0m\u001b[0;34m\u001b[0m\u001b[0;34m\u001b[0m\u001b[0m\n\u001b[0m\u001b[1;32m    115\u001b[0m \u001b[0;34m\u001b[0m\u001b[0m\n\u001b[1;32m    116\u001b[0m     \u001b[0;32mreturn\u001b[0m \u001b[0mdecode_model_outputs\u001b[0m\u001b[0;34m(\u001b[0m\u001b[0mclass_out\u001b[0m\u001b[0;34m,\u001b[0m \u001b[0mbox_out\u001b[0m\u001b[0;34m,\u001b[0m \u001b[0manchors\u001b[0m\u001b[0;34m,\u001b[0m \u001b[0mmodel\u001b[0m\u001b[0;34m.\u001b[0m\u001b[0mconfig\u001b[0m\u001b[0;34m.\u001b[0m\u001b[0mnum_levels\u001b[0m\u001b[0;34m)\u001b[0m\u001b[0;34m\u001b[0m\u001b[0;34m\u001b[0m\u001b[0m\n",
      "\u001b[0;32m~/miniconda3/lib/python3.8/site-packages/torch/nn/modules/module.py\u001b[0m in \u001b[0;36m_call_impl\u001b[0;34m(self, *input, **kwargs)\u001b[0m\n\u001b[1;32m   1128\u001b[0m         if not (self._backward_hooks or self._forward_hooks or self._forward_pre_hooks or _global_backward_hooks\n\u001b[1;32m   1129\u001b[0m                 or _global_forward_hooks or _global_forward_pre_hooks):\n\u001b[0;32m-> 1130\u001b[0;31m             \u001b[0;32mreturn\u001b[0m \u001b[0mforward_call\u001b[0m\u001b[0;34m(\u001b[0m\u001b[0;34m*\u001b[0m\u001b[0minput\u001b[0m\u001b[0;34m,\u001b[0m \u001b[0;34m**\u001b[0m\u001b[0mkwargs\u001b[0m\u001b[0;34m)\u001b[0m\u001b[0;34m\u001b[0m\u001b[0;34m\u001b[0m\u001b[0m\n\u001b[0m\u001b[1;32m   1131\u001b[0m         \u001b[0;31m# Do not call functions when jit is used\u001b[0m\u001b[0;34m\u001b[0m\u001b[0;34m\u001b[0m\u001b[0;34m\u001b[0m\u001b[0m\n\u001b[1;32m   1132\u001b[0m         \u001b[0mfull_backward_hooks\u001b[0m\u001b[0;34m,\u001b[0m \u001b[0mnon_full_backward_hooks\u001b[0m \u001b[0;34m=\u001b[0m \u001b[0;34m[\u001b[0m\u001b[0;34m]\u001b[0m\u001b[0;34m,\u001b[0m \u001b[0;34m[\u001b[0m\u001b[0;34m]\u001b[0m\u001b[0;34m\u001b[0m\u001b[0;34m\u001b[0m\u001b[0m\n",
      "\u001b[0;32m~/cervical_spine/final/../third/effdet/effdet/efficientdet.py\u001b[0m in \u001b[0;36mforward\u001b[0;34m(self, x)\u001b[0m\n\u001b[1;32m    601\u001b[0m     \u001b[0;32mdef\u001b[0m \u001b[0mforward\u001b[0m\u001b[0;34m(\u001b[0m\u001b[0mself\u001b[0m\u001b[0;34m,\u001b[0m \u001b[0mx\u001b[0m\u001b[0;34m)\u001b[0m\u001b[0;34m:\u001b[0m\u001b[0;34m\u001b[0m\u001b[0;34m\u001b[0m\u001b[0m\n\u001b[1;32m    602\u001b[0m         \u001b[0mx\u001b[0m \u001b[0;34m=\u001b[0m \u001b[0mself\u001b[0m\u001b[0;34m.\u001b[0m\u001b[0mbackbone\u001b[0m\u001b[0;34m(\u001b[0m\u001b[0mx\u001b[0m\u001b[0;34m)\u001b[0m\u001b[0;34m\u001b[0m\u001b[0;34m\u001b[0m\u001b[0m\n\u001b[0;32m--> 603\u001b[0;31m         \u001b[0mx\u001b[0m \u001b[0;34m=\u001b[0m \u001b[0mself\u001b[0m\u001b[0;34m.\u001b[0m\u001b[0mfpn\u001b[0m\u001b[0;34m(\u001b[0m\u001b[0mx\u001b[0m\u001b[0;34m)\u001b[0m\u001b[0;34m\u001b[0m\u001b[0;34m\u001b[0m\u001b[0m\n\u001b[0m\u001b[1;32m    604\u001b[0m         \u001b[0mx_class\u001b[0m \u001b[0;34m=\u001b[0m \u001b[0mself\u001b[0m\u001b[0;34m.\u001b[0m\u001b[0mclass_net\u001b[0m\u001b[0;34m(\u001b[0m\u001b[0mx\u001b[0m\u001b[0;34m)\u001b[0m\u001b[0;34m\u001b[0m\u001b[0;34m\u001b[0m\u001b[0m\n\u001b[1;32m    605\u001b[0m         \u001b[0mx_box\u001b[0m \u001b[0;34m=\u001b[0m \u001b[0mself\u001b[0m\u001b[0;34m.\u001b[0m\u001b[0mbox_net\u001b[0m\u001b[0;34m(\u001b[0m\u001b[0mx\u001b[0m\u001b[0;34m)\u001b[0m\u001b[0;34m\u001b[0m\u001b[0;34m\u001b[0m\u001b[0m\n",
      "\u001b[0;32m~/miniconda3/lib/python3.8/site-packages/torch/nn/modules/module.py\u001b[0m in \u001b[0;36m_call_impl\u001b[0;34m(self, *input, **kwargs)\u001b[0m\n\u001b[1;32m   1128\u001b[0m         if not (self._backward_hooks or self._forward_hooks or self._forward_pre_hooks or _global_backward_hooks\n\u001b[1;32m   1129\u001b[0m                 or _global_forward_hooks or _global_forward_pre_hooks):\n\u001b[0;32m-> 1130\u001b[0;31m             \u001b[0;32mreturn\u001b[0m \u001b[0mforward_call\u001b[0m\u001b[0;34m(\u001b[0m\u001b[0;34m*\u001b[0m\u001b[0minput\u001b[0m\u001b[0;34m,\u001b[0m \u001b[0;34m**\u001b[0m\u001b[0mkwargs\u001b[0m\u001b[0;34m)\u001b[0m\u001b[0;34m\u001b[0m\u001b[0;34m\u001b[0m\u001b[0m\n\u001b[0m\u001b[1;32m   1131\u001b[0m         \u001b[0;31m# Do not call functions when jit is used\u001b[0m\u001b[0;34m\u001b[0m\u001b[0;34m\u001b[0m\u001b[0;34m\u001b[0m\u001b[0m\n\u001b[1;32m   1132\u001b[0m         \u001b[0mfull_backward_hooks\u001b[0m\u001b[0;34m,\u001b[0m \u001b[0mnon_full_backward_hooks\u001b[0m \u001b[0;34m=\u001b[0m \u001b[0;34m[\u001b[0m\u001b[0;34m]\u001b[0m\u001b[0;34m,\u001b[0m \u001b[0;34m[\u001b[0m\u001b[0;34m]\u001b[0m\u001b[0;34m\u001b[0m\u001b[0;34m\u001b[0m\u001b[0m\n",
      "\u001b[0;32m~/cervical_spine/final/../third/effdet/effdet/efficientdet.py\u001b[0m in \u001b[0;36mforward\u001b[0;34m(self, x)\u001b[0m\n\u001b[1;32m    344\u001b[0m         \u001b[0;32mfor\u001b[0m \u001b[0mresample\u001b[0m \u001b[0;32min\u001b[0m \u001b[0mself\u001b[0m\u001b[0;34m.\u001b[0m\u001b[0mresample\u001b[0m\u001b[0;34m.\u001b[0m\u001b[0mvalues\u001b[0m\u001b[0;34m(\u001b[0m\u001b[0;34m)\u001b[0m\u001b[0;34m:\u001b[0m\u001b[0;34m\u001b[0m\u001b[0;34m\u001b[0m\u001b[0m\n\u001b[1;32m    345\u001b[0m             \u001b[0mx\u001b[0m\u001b[0;34m.\u001b[0m\u001b[0mappend\u001b[0m\u001b[0;34m(\u001b[0m\u001b[0mresample\u001b[0m\u001b[0;34m(\u001b[0m\u001b[0mx\u001b[0m\u001b[0;34m[\u001b[0m\u001b[0;34m-\u001b[0m\u001b[0;36m1\u001b[0m\u001b[0;34m]\u001b[0m\u001b[0;34m)\u001b[0m\u001b[0;34m)\u001b[0m\u001b[0;34m\u001b[0m\u001b[0;34m\u001b[0m\u001b[0m\n\u001b[0;32m--> 346\u001b[0;31m         \u001b[0mx\u001b[0m \u001b[0;34m=\u001b[0m \u001b[0mself\u001b[0m\u001b[0;34m.\u001b[0m\u001b[0mcell\u001b[0m\u001b[0;34m(\u001b[0m\u001b[0mx\u001b[0m\u001b[0;34m)\u001b[0m\u001b[0;34m\u001b[0m\u001b[0;34m\u001b[0m\u001b[0m\n\u001b[0m\u001b[1;32m    347\u001b[0m         \u001b[0;32mreturn\u001b[0m \u001b[0mx\u001b[0m\u001b[0;34m\u001b[0m\u001b[0;34m\u001b[0m\u001b[0m\n\u001b[1;32m    348\u001b[0m \u001b[0;34m\u001b[0m\u001b[0m\n",
      "\u001b[0;32m~/miniconda3/lib/python3.8/site-packages/torch/nn/modules/module.py\u001b[0m in \u001b[0;36m_call_impl\u001b[0;34m(self, *input, **kwargs)\u001b[0m\n\u001b[1;32m   1128\u001b[0m         if not (self._backward_hooks or self._forward_hooks or self._forward_pre_hooks or _global_backward_hooks\n\u001b[1;32m   1129\u001b[0m                 or _global_forward_hooks or _global_forward_pre_hooks):\n\u001b[0;32m-> 1130\u001b[0;31m             \u001b[0;32mreturn\u001b[0m \u001b[0mforward_call\u001b[0m\u001b[0;34m(\u001b[0m\u001b[0;34m*\u001b[0m\u001b[0minput\u001b[0m\u001b[0;34m,\u001b[0m \u001b[0;34m**\u001b[0m\u001b[0mkwargs\u001b[0m\u001b[0;34m)\u001b[0m\u001b[0;34m\u001b[0m\u001b[0;34m\u001b[0m\u001b[0m\n\u001b[0m\u001b[1;32m   1131\u001b[0m         \u001b[0;31m# Do not call functions when jit is used\u001b[0m\u001b[0;34m\u001b[0m\u001b[0;34m\u001b[0m\u001b[0;34m\u001b[0m\u001b[0m\n\u001b[1;32m   1132\u001b[0m         \u001b[0mfull_backward_hooks\u001b[0m\u001b[0;34m,\u001b[0m \u001b[0mnon_full_backward_hooks\u001b[0m \u001b[0;34m=\u001b[0m \u001b[0;34m[\u001b[0m\u001b[0;34m]\u001b[0m\u001b[0;34m,\u001b[0m \u001b[0;34m[\u001b[0m\u001b[0;34m]\u001b[0m\u001b[0;34m\u001b[0m\u001b[0;34m\u001b[0m\u001b[0m\n",
      "\u001b[0;32m~/cervical_spine/final/../third/effdet/effdet/efficientdet.py\u001b[0m in \u001b[0;36mforward\u001b[0;34m(self, x)\u001b[0m\n\u001b[1;32m     34\u001b[0m     \u001b[0;32mdef\u001b[0m \u001b[0mforward\u001b[0m\u001b[0;34m(\u001b[0m\u001b[0mself\u001b[0m\u001b[0;34m,\u001b[0m \u001b[0mx\u001b[0m\u001b[0;34m:\u001b[0m \u001b[0mList\u001b[0m\u001b[0;34m[\u001b[0m\u001b[0mtorch\u001b[0m\u001b[0;34m.\u001b[0m\u001b[0mTensor\u001b[0m\u001b[0;34m]\u001b[0m\u001b[0;34m)\u001b[0m \u001b[0;34m->\u001b[0m \u001b[0mList\u001b[0m\u001b[0;34m[\u001b[0m\u001b[0mtorch\u001b[0m\u001b[0;34m.\u001b[0m\u001b[0mTensor\u001b[0m\u001b[0;34m]\u001b[0m\u001b[0;34m:\u001b[0m\u001b[0;34m\u001b[0m\u001b[0;34m\u001b[0m\u001b[0m\n\u001b[1;32m     35\u001b[0m         \u001b[0;32mfor\u001b[0m \u001b[0mmodule\u001b[0m \u001b[0;32min\u001b[0m \u001b[0mself\u001b[0m\u001b[0;34m:\u001b[0m\u001b[0;34m\u001b[0m\u001b[0;34m\u001b[0m\u001b[0m\n\u001b[0;32m---> 36\u001b[0;31m             \u001b[0mx\u001b[0m \u001b[0;34m=\u001b[0m \u001b[0mmodule\u001b[0m\u001b[0;34m(\u001b[0m\u001b[0mx\u001b[0m\u001b[0;34m)\u001b[0m\u001b[0;34m\u001b[0m\u001b[0;34m\u001b[0m\u001b[0m\n\u001b[0m\u001b[1;32m     37\u001b[0m         \u001b[0;32mreturn\u001b[0m \u001b[0mx\u001b[0m\u001b[0;34m\u001b[0m\u001b[0;34m\u001b[0m\u001b[0m\n\u001b[1;32m     38\u001b[0m \u001b[0;34m\u001b[0m\u001b[0m\n",
      "\u001b[0;32m~/miniconda3/lib/python3.8/site-packages/torch/nn/modules/module.py\u001b[0m in \u001b[0;36m_call_impl\u001b[0;34m(self, *input, **kwargs)\u001b[0m\n\u001b[1;32m   1128\u001b[0m         if not (self._backward_hooks or self._forward_hooks or self._forward_pre_hooks or _global_backward_hooks\n\u001b[1;32m   1129\u001b[0m                 or _global_forward_hooks or _global_forward_pre_hooks):\n\u001b[0;32m-> 1130\u001b[0;31m             \u001b[0;32mreturn\u001b[0m \u001b[0mforward_call\u001b[0m\u001b[0;34m(\u001b[0m\u001b[0;34m*\u001b[0m\u001b[0minput\u001b[0m\u001b[0;34m,\u001b[0m \u001b[0;34m**\u001b[0m\u001b[0mkwargs\u001b[0m\u001b[0;34m)\u001b[0m\u001b[0;34m\u001b[0m\u001b[0;34m\u001b[0m\u001b[0m\n\u001b[0m\u001b[1;32m   1131\u001b[0m         \u001b[0;31m# Do not call functions when jit is used\u001b[0m\u001b[0;34m\u001b[0m\u001b[0;34m\u001b[0m\u001b[0;34m\u001b[0m\u001b[0m\n\u001b[1;32m   1132\u001b[0m         \u001b[0mfull_backward_hooks\u001b[0m\u001b[0;34m,\u001b[0m \u001b[0mnon_full_backward_hooks\u001b[0m \u001b[0;34m=\u001b[0m \u001b[0;34m[\u001b[0m\u001b[0;34m]\u001b[0m\u001b[0;34m,\u001b[0m \u001b[0;34m[\u001b[0m\u001b[0;34m]\u001b[0m\u001b[0;34m\u001b[0m\u001b[0;34m\u001b[0m\u001b[0m\n",
      "\u001b[0;32m~/cervical_spine/final/../third/effdet/effdet/efficientdet.py\u001b[0m in \u001b[0;36mforward\u001b[0;34m(self, x)\u001b[0m\n\u001b[1;32m    277\u001b[0m     \u001b[0;32mdef\u001b[0m \u001b[0mforward\u001b[0m\u001b[0;34m(\u001b[0m\u001b[0mself\u001b[0m\u001b[0;34m,\u001b[0m \u001b[0mx\u001b[0m\u001b[0;34m:\u001b[0m \u001b[0mList\u001b[0m\u001b[0;34m[\u001b[0m\u001b[0mtorch\u001b[0m\u001b[0;34m.\u001b[0m\u001b[0mTensor\u001b[0m\u001b[0;34m]\u001b[0m\u001b[0;34m)\u001b[0m\u001b[0;34m:\u001b[0m\u001b[0;34m\u001b[0m\u001b[0;34m\u001b[0m\u001b[0m\n\u001b[1;32m    278\u001b[0m         \u001b[0;32mfor\u001b[0m \u001b[0mfn\u001b[0m \u001b[0;32min\u001b[0m \u001b[0mself\u001b[0m\u001b[0;34m.\u001b[0m\u001b[0mfnode\u001b[0m\u001b[0;34m:\u001b[0m\u001b[0;34m\u001b[0m\u001b[0;34m\u001b[0m\u001b[0m\n\u001b[0;32m--> 279\u001b[0;31m             \u001b[0mx\u001b[0m\u001b[0;34m.\u001b[0m\u001b[0mappend\u001b[0m\u001b[0;34m(\u001b[0m\u001b[0mfn\u001b[0m\u001b[0;34m(\u001b[0m\u001b[0mx\u001b[0m\u001b[0;34m)\u001b[0m\u001b[0;34m)\u001b[0m\u001b[0;34m\u001b[0m\u001b[0;34m\u001b[0m\u001b[0m\n\u001b[0m\u001b[1;32m    280\u001b[0m         \u001b[0;32mreturn\u001b[0m \u001b[0mx\u001b[0m\u001b[0;34m[\u001b[0m\u001b[0;34m-\u001b[0m\u001b[0mself\u001b[0m\u001b[0;34m.\u001b[0m\u001b[0mnum_levels\u001b[0m\u001b[0;34m:\u001b[0m\u001b[0;34m:\u001b[0m\u001b[0;34m]\u001b[0m\u001b[0;34m\u001b[0m\u001b[0;34m\u001b[0m\u001b[0m\n\u001b[1;32m    281\u001b[0m \u001b[0;34m\u001b[0m\u001b[0m\n",
      "\u001b[0;32m~/miniconda3/lib/python3.8/site-packages/torch/nn/modules/module.py\u001b[0m in \u001b[0;36m_call_impl\u001b[0;34m(self, *input, **kwargs)\u001b[0m\n\u001b[1;32m   1128\u001b[0m         if not (self._backward_hooks or self._forward_hooks or self._forward_pre_hooks or _global_backward_hooks\n\u001b[1;32m   1129\u001b[0m                 or _global_forward_hooks or _global_forward_pre_hooks):\n\u001b[0;32m-> 1130\u001b[0;31m             \u001b[0;32mreturn\u001b[0m \u001b[0mforward_call\u001b[0m\u001b[0;34m(\u001b[0m\u001b[0;34m*\u001b[0m\u001b[0minput\u001b[0m\u001b[0;34m,\u001b[0m \u001b[0;34m**\u001b[0m\u001b[0mkwargs\u001b[0m\u001b[0;34m)\u001b[0m\u001b[0;34m\u001b[0m\u001b[0;34m\u001b[0m\u001b[0m\n\u001b[0m\u001b[1;32m   1131\u001b[0m         \u001b[0;31m# Do not call functions when jit is used\u001b[0m\u001b[0;34m\u001b[0m\u001b[0;34m\u001b[0m\u001b[0;34m\u001b[0m\u001b[0m\n\u001b[1;32m   1132\u001b[0m         \u001b[0mfull_backward_hooks\u001b[0m\u001b[0;34m,\u001b[0m \u001b[0mnon_full_backward_hooks\u001b[0m \u001b[0;34m=\u001b[0m \u001b[0;34m[\u001b[0m\u001b[0;34m]\u001b[0m\u001b[0;34m,\u001b[0m \u001b[0;34m[\u001b[0m\u001b[0;34m]\u001b[0m\u001b[0;34m\u001b[0m\u001b[0;34m\u001b[0m\u001b[0m\n",
      "\u001b[0;32m~/cervical_spine/final/../third/effdet/effdet/efficientdet.py\u001b[0m in \u001b[0;36mforward\u001b[0;34m(self, x)\u001b[0m\n\u001b[1;32m    238\u001b[0m \u001b[0;34m\u001b[0m\u001b[0m\n\u001b[1;32m    239\u001b[0m     \u001b[0;32mdef\u001b[0m \u001b[0mforward\u001b[0m\u001b[0;34m(\u001b[0m\u001b[0mself\u001b[0m\u001b[0;34m,\u001b[0m \u001b[0mx\u001b[0m\u001b[0;34m:\u001b[0m \u001b[0mList\u001b[0m\u001b[0;34m[\u001b[0m\u001b[0mtorch\u001b[0m\u001b[0;34m.\u001b[0m\u001b[0mTensor\u001b[0m\u001b[0;34m]\u001b[0m\u001b[0;34m)\u001b[0m \u001b[0;34m->\u001b[0m \u001b[0mtorch\u001b[0m\u001b[0;34m.\u001b[0m\u001b[0mTensor\u001b[0m\u001b[0;34m:\u001b[0m\u001b[0;34m\u001b[0m\u001b[0;34m\u001b[0m\u001b[0m\n\u001b[0;32m--> 240\u001b[0;31m         \u001b[0;32mreturn\u001b[0m \u001b[0mself\u001b[0m\u001b[0;34m.\u001b[0m\u001b[0mafter_combine\u001b[0m\u001b[0;34m(\u001b[0m\u001b[0mself\u001b[0m\u001b[0;34m.\u001b[0m\u001b[0mcombine\u001b[0m\u001b[0;34m(\u001b[0m\u001b[0mx\u001b[0m\u001b[0;34m)\u001b[0m\u001b[0;34m)\u001b[0m\u001b[0;34m\u001b[0m\u001b[0;34m\u001b[0m\u001b[0m\n\u001b[0m\u001b[1;32m    241\u001b[0m \u001b[0;34m\u001b[0m\u001b[0m\n\u001b[1;32m    242\u001b[0m \u001b[0;34m\u001b[0m\u001b[0m\n",
      "\u001b[0;32m~/miniconda3/lib/python3.8/site-packages/torch/nn/modules/module.py\u001b[0m in \u001b[0;36m_call_impl\u001b[0;34m(self, *input, **kwargs)\u001b[0m\n\u001b[1;32m   1128\u001b[0m         if not (self._backward_hooks or self._forward_hooks or self._forward_pre_hooks or _global_backward_hooks\n\u001b[1;32m   1129\u001b[0m                 or _global_forward_hooks or _global_forward_pre_hooks):\n\u001b[0;32m-> 1130\u001b[0;31m             \u001b[0;32mreturn\u001b[0m \u001b[0mforward_call\u001b[0m\u001b[0;34m(\u001b[0m\u001b[0;34m*\u001b[0m\u001b[0minput\u001b[0m\u001b[0;34m,\u001b[0m \u001b[0;34m**\u001b[0m\u001b[0mkwargs\u001b[0m\u001b[0;34m)\u001b[0m\u001b[0;34m\u001b[0m\u001b[0;34m\u001b[0m\u001b[0m\n\u001b[0m\u001b[1;32m   1131\u001b[0m         \u001b[0;31m# Do not call functions when jit is used\u001b[0m\u001b[0;34m\u001b[0m\u001b[0;34m\u001b[0m\u001b[0;34m\u001b[0m\u001b[0m\n\u001b[1;32m   1132\u001b[0m         \u001b[0mfull_backward_hooks\u001b[0m\u001b[0;34m,\u001b[0m \u001b[0mnon_full_backward_hooks\u001b[0m \u001b[0;34m=\u001b[0m \u001b[0;34m[\u001b[0m\u001b[0;34m]\u001b[0m\u001b[0;34m,\u001b[0m \u001b[0;34m[\u001b[0m\u001b[0;34m]\u001b[0m\u001b[0;34m\u001b[0m\u001b[0;34m\u001b[0m\u001b[0m\n",
      "\u001b[0;32m~/cervical_spine/final/../third/effdet/effdet/efficientdet.py\u001b[0m in \u001b[0;36mforward\u001b[0;34m(self, x)\u001b[0m\n\u001b[1;32m    218\u001b[0m             \u001b[0medge_weights\u001b[0m \u001b[0;34m=\u001b[0m \u001b[0mnn\u001b[0m\u001b[0;34m.\u001b[0m\u001b[0mfunctional\u001b[0m\u001b[0;34m.\u001b[0m\u001b[0mrelu\u001b[0m\u001b[0;34m(\u001b[0m\u001b[0mself\u001b[0m\u001b[0;34m.\u001b[0m\u001b[0medge_weights\u001b[0m\u001b[0;34m.\u001b[0m\u001b[0mto\u001b[0m\u001b[0;34m(\u001b[0m\u001b[0mdtype\u001b[0m\u001b[0;34m=\u001b[0m\u001b[0mdtype\u001b[0m\u001b[0;34m)\u001b[0m\u001b[0;34m)\u001b[0m\u001b[0;34m\u001b[0m\u001b[0;34m\u001b[0m\u001b[0m\n\u001b[1;32m    219\u001b[0m             \u001b[0mweights_sum\u001b[0m \u001b[0;34m=\u001b[0m \u001b[0mtorch\u001b[0m\u001b[0;34m.\u001b[0m\u001b[0msum\u001b[0m\u001b[0;34m(\u001b[0m\u001b[0medge_weights\u001b[0m\u001b[0;34m)\u001b[0m\u001b[0;34m\u001b[0m\u001b[0;34m\u001b[0m\u001b[0m\n\u001b[0;32m--> 220\u001b[0;31m             out = torch.stack(\n\u001b[0m\u001b[1;32m    221\u001b[0m                 [(nodes[i] * edge_weights[i]) / (weights_sum + 0.0001) for i in range(len(nodes))], dim=-1)\n\u001b[1;32m    222\u001b[0m         \u001b[0;32melif\u001b[0m \u001b[0mself\u001b[0m\u001b[0;34m.\u001b[0m\u001b[0mweight_method\u001b[0m \u001b[0;34m==\u001b[0m \u001b[0;34m'sum'\u001b[0m\u001b[0;34m:\u001b[0m\u001b[0;34m\u001b[0m\u001b[0;34m\u001b[0m\u001b[0m\n",
      "\u001b[0;31mRuntimeError\u001b[0m: stack expects each tensor to be equal size, but got [7, 256, 16, 16] at entry 0 and [7, 256, 32, 32] at entry 1"
     ]
    }
   ],
   "source": [
    "for e in range(epochs):\n",
    "\n",
    "    train_loss = train_one_epoch(epoch, model, train_loader)\n",
    "\n",
    "    epoch += 1    \n",
    "    scheduler.step()\n",
    "    \n",
    "    with torch.no_grad():\n",
    "        loss, pos_loss, neg_loss, batch_index = evaluator.evaluate(epoch)\n",
    "        wandb.log({\n",
    "            'val/total_loss': loss,\n",
    "            'val/pos_loss': pos_loss,\n",
    "            'val/neg_loss': neg_loss,\n",
    "            'val/batch_index' : batch_index\n",
    "        }) \n",
    "        \n",
    "        # save_state(epoch)\n",
    "        \n",
    "    \n",
    "        \n",
    "    if epoch % 10 == 0:\n",
    "        save_state(epoch)"
   ]
  },
  {
   "cell_type": "code",
   "execution_count": null,
   "metadata": {
    "collapsed": false,
    "jupyter": {
     "outputs_hidden": false
    }
   },
   "outputs": [],
   "source": [
    "save_state(epoch)"
   ]
  },
  {
   "cell_type": "code",
   "execution_count": null,
   "metadata": {},
   "outputs": [],
   "source": []
  }
 ],
 "metadata": {
  "kernelspec": {
   "display_name": "Python 3 (ipykernel)",
   "language": "python",
   "name": "python3"
  },
  "language_info": {
   "codemirror_mode": {
    "name": "ipython",
    "version": 3
   },
   "file_extension": ".py",
   "mimetype": "text/x-python",
   "name": "python",
   "nbconvert_exporter": "python",
   "pygments_lexer": "ipython3",
   "version": "3.8.10"
  }
 },
 "nbformat": 4,
 "nbformat_minor": 4
}
