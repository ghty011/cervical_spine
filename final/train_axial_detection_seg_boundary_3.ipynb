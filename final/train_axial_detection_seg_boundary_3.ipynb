{
 "cells": [
  {
   "cell_type": "code",
   "execution_count": 1,
   "metadata": {},
   "outputs": [],
   "source": [
    "import wandb\n",
    "from datetime import datetime"
   ]
  },
  {
   "cell_type": "code",
   "execution_count": 2,
   "metadata": {
    "collapsed": false,
    "jupyter": {
     "outputs_hidden": false
    }
   },
   "outputs": [],
   "source": [
    "mask_model_ver = 132508\n",
    "lr = 1e-3\n",
    "batch_size = 16\n",
    "wd = 1e-5\n",
    "IMAGE_SIZE = 512\n",
    "backbone='efficientdetv2_ds'\n",
    "vertical_type = \"axial\"\n",
    "train_portion = 0.5\n",
    "milestones = [10,20,30,40]\n",
    "model_name = \"effdet\"\n",
    "epochs =100\n",
    "\n",
    "checkpoint = 'axial_detection_effdet_134352-epoch-52.pth'"
   ]
  },
  {
   "cell_type": "code",
   "execution_count": 3,
   "metadata": {
    "collapsed": false,
    "jupyter": {
     "outputs_hidden": false
    }
   },
   "outputs": [
    {
     "name": "stderr",
     "output_type": "stream",
     "text": [
      "Failed to detect the name of this notebook, you can set it manually with the WANDB_NOTEBOOK_NAME environment variable to enable code saving.\n",
      "\u001b[34m\u001b[1mwandb\u001b[0m: Currently logged in as: \u001b[33mlongyi\u001b[0m. Use \u001b[1m`wandb login --relogin`\u001b[0m to force relogin\n"
     ]
    },
    {
     "data": {
      "text/html": [
       "wandb version 0.13.4 is available!  To upgrade, please run:\n",
       " $ pip install wandb --upgrade"
      ],
      "text/plain": [
       "<IPython.core.display.HTML object>"
      ]
     },
     "metadata": {},
     "output_type": "display_data"
    },
    {
     "data": {
      "text/html": [
       "Tracking run with wandb version 0.13.3"
      ],
      "text/plain": [
       "<IPython.core.display.HTML object>"
      ]
     },
     "metadata": {},
     "output_type": "display_data"
    },
    {
     "data": {
      "text/html": [
       "Run data is saved locally in <code>/root/cervical_spine/final/wandb/run-20221024_135652-30ix2ftd</code>"
      ],
      "text/plain": [
       "<IPython.core.display.HTML object>"
      ]
     },
     "metadata": {},
     "output_type": "display_data"
    },
    {
     "data": {
      "text/html": [
       "Syncing run <strong><a href=\"http://8.210.101.57:8081/longyi/YOLOR/runs/30ix2ftd\" target=\"_blank\">glad-durian-101</a></strong> to <a href=\"http://8.210.101.57:8081/longyi/YOLOR\" target=\"_blank\">Weights & Biases</a> (<a href=\"https://wandb.me/run\" target=\"_blank\">docs</a>)<br/>"
      ],
      "text/plain": [
       "<IPython.core.display.HTML object>"
      ]
     },
     "metadata": {},
     "output_type": "display_data"
    },
    {
     "data": {
      "text/plain": [
       "'axial_detection_effdet_135654'"
      ]
     },
     "execution_count": 3,
     "metadata": {},
     "output_type": "execute_result"
    }
   ],
   "source": [
    "wandb_entity='longyi'\n",
    "model_name = \"effdet\"\n",
    "wandb.init(project=\"YOLOR\", entity=wandb_entity, config={\n",
    "    \"model\":model_name,\n",
    "    \"batch_size\":batch_size,\n",
    "    \"lr\" : lr,\n",
    "    \"wd\" : wd,\n",
    "    \"backbone\" : backbone,\n",
    "    \"image_size\" : IMAGE_SIZE,\n",
    "})\n",
    "wandb.run.name = f'axial_detection_{model_name}_' + datetime.now().strftime(\"%H%M%S\")\n",
    "wandb.run.name"
   ]
  },
  {
   "cell_type": "code",
   "execution_count": 4,
   "metadata": {
    "collapsed": false,
    "jupyter": {
     "outputs_hidden": false
    }
   },
   "outputs": [
    {
     "data": {
      "text/plain": [
       "'cuda'"
      ]
     },
     "execution_count": 4,
     "metadata": {},
     "output_type": "execute_result"
    }
   ],
   "source": [
    "import numpy as np\n",
    "import pandas as pd\n",
    "import torch\n",
    "import matplotlib.pyplot as plt\n",
    "import seaborn as sns\n",
    "import ast\n",
    "import sys\n",
    "\n",
    "effdet_path = \"../third/effdet\"\n",
    "sys.path.append(effdet_path)\n",
    "timm_path = \"../third/timm-pytorch-image-models\"\n",
    "sys.path.append(timm_path)\n",
    "import timm\n",
    "from timm.data import IMAGENET_DEFAULT_MEAN, IMAGENET_DEFAULT_STD\n",
    "from matplotlib import patches\n",
    "import sklearn\n",
    "import os\n",
    "from tqdm import tqdm\n",
    "\n",
    "omega_path = \"../third/omegaconf\"\n",
    "sys.path.append(omega_path)\n",
    "from omegaconf import OmegaConf\n",
    "import glob\n",
    "import sklearn\n",
    "import math\n",
    "import random\n",
    "\n",
    "from PIL import Image\n",
    "\n",
    "import cv2\n",
    "import albumentations as A\n",
    "from albumentations.pytorch import ToTensorV2\n",
    "\n",
    "import torch\n",
    "import torch.nn as nn\n",
    "import torch.nn.functional as F\n",
    "from torch.utils.data import Dataset, DataLoader\n",
    "from torch import optim\n",
    "import torchvision.transforms as T\n",
    "import torchvision.transforms.functional as TF\n",
    "\n",
    "from effdet import create_model\n",
    "from effdet import DetBenchPredict\n",
    "# from transformers import get_cosine_schedule_with_warmup\n",
    "\n",
    "import warnings\n",
    "\n",
    "warnings.filterwarnings('ignore')\n",
    "from sklearn import metrics, model_selection, preprocessing\n",
    "\n",
    "# from sklearn.model_selection import GroupKFold\n",
    "\n",
    "%load_ext autoreload\n",
    "%autoreload 2\n",
    "\n",
    "# pos_weight = torch.tensor(pos_weight)\n",
    "device = 'cuda' if torch.cuda.is_available() else 'cpu'\n",
    "device"
   ]
  },
  {
   "cell_type": "code",
   "execution_count": 5,
   "metadata": {
    "collapsed": false,
    "jupyter": {
     "outputs_hidden": false
    }
   },
   "outputs": [],
   "source": [
    "DATA_DIR = \"/root/autodl-tmp/cervical_spine/\"\n",
    "IMAGES_DIR = os.path.join(DATA_DIR, 'train_axial_images_jpeg95_croped_132508')\n",
    "MASK_DIR = os.path.join(DATA_DIR, f'segmentation_axial_results_{mask_model_ver}')"
   ]
  },
  {
   "cell_type": "code",
   "execution_count": 6,
   "metadata": {},
   "outputs": [
    {
     "name": "stdout",
     "output_type": "stream",
     "text": [
      "708779\n"
     ]
    },
    {
     "data": {
      "text/html": [
       "<div>\n",
       "<style scoped>\n",
       "    .dataframe tbody tr th:only-of-type {\n",
       "        vertical-align: middle;\n",
       "    }\n",
       "\n",
       "    .dataframe tbody tr th {\n",
       "        vertical-align: top;\n",
       "    }\n",
       "\n",
       "    .dataframe thead th {\n",
       "        text-align: right;\n",
       "    }\n",
       "</style>\n",
       "<table border=\"1\" class=\"dataframe\">\n",
       "  <thead>\n",
       "    <tr style=\"text-align: right;\">\n",
       "      <th></th>\n",
       "      <th>StudyInstanceUID</th>\n",
       "      <th>Slice</th>\n",
       "      <th>Start</th>\n",
       "      <th>pixel_spacing</th>\n",
       "      <th>xmin</th>\n",
       "      <th>ymin</th>\n",
       "      <th>xmax</th>\n",
       "      <th>ymax</th>\n",
       "    </tr>\n",
       "    <tr>\n",
       "      <th>UID_Slice</th>\n",
       "      <th></th>\n",
       "      <th></th>\n",
       "      <th></th>\n",
       "      <th></th>\n",
       "      <th></th>\n",
       "      <th></th>\n",
       "      <th></th>\n",
       "      <th></th>\n",
       "    </tr>\n",
       "  </thead>\n",
       "  <tbody>\n",
       "    <tr>\n",
       "      <th>1.2.826.0.1.3680043.10001.0</th>\n",
       "      <td>1.2.826.0.1.3680043.10001</td>\n",
       "      <td>0</td>\n",
       "      <td>0</td>\n",
       "      <td>0.253906</td>\n",
       "      <td>0.0</td>\n",
       "      <td>0.0</td>\n",
       "      <td>512.0</td>\n",
       "      <td>512.0</td>\n",
       "    </tr>\n",
       "    <tr>\n",
       "      <th>1.2.826.0.1.3680043.10001.1</th>\n",
       "      <td>1.2.826.0.1.3680043.10001</td>\n",
       "      <td>1</td>\n",
       "      <td>0</td>\n",
       "      <td>0.253906</td>\n",
       "      <td>0.0</td>\n",
       "      <td>0.0</td>\n",
       "      <td>512.0</td>\n",
       "      <td>512.0</td>\n",
       "    </tr>\n",
       "    <tr>\n",
       "      <th>1.2.826.0.1.3680043.10001.2</th>\n",
       "      <td>1.2.826.0.1.3680043.10001</td>\n",
       "      <td>2</td>\n",
       "      <td>0</td>\n",
       "      <td>0.253906</td>\n",
       "      <td>0.0</td>\n",
       "      <td>0.0</td>\n",
       "      <td>512.0</td>\n",
       "      <td>512.0</td>\n",
       "    </tr>\n",
       "    <tr>\n",
       "      <th>1.2.826.0.1.3680043.10001.3</th>\n",
       "      <td>1.2.826.0.1.3680043.10001</td>\n",
       "      <td>3</td>\n",
       "      <td>0</td>\n",
       "      <td>0.253906</td>\n",
       "      <td>0.0</td>\n",
       "      <td>0.0</td>\n",
       "      <td>512.0</td>\n",
       "      <td>512.0</td>\n",
       "    </tr>\n",
       "    <tr>\n",
       "      <th>1.2.826.0.1.3680043.10001.4</th>\n",
       "      <td>1.2.826.0.1.3680043.10001</td>\n",
       "      <td>4</td>\n",
       "      <td>0</td>\n",
       "      <td>0.253906</td>\n",
       "      <td>0.0</td>\n",
       "      <td>0.0</td>\n",
       "      <td>512.0</td>\n",
       "      <td>512.0</td>\n",
       "    </tr>\n",
       "  </tbody>\n",
       "</table>\n",
       "</div>"
      ],
      "text/plain": [
       "                                      StudyInstanceUID  Slice  Start  \\\n",
       "UID_Slice                                                              \n",
       "1.2.826.0.1.3680043.10001.0  1.2.826.0.1.3680043.10001      0      0   \n",
       "1.2.826.0.1.3680043.10001.1  1.2.826.0.1.3680043.10001      1      0   \n",
       "1.2.826.0.1.3680043.10001.2  1.2.826.0.1.3680043.10001      2      0   \n",
       "1.2.826.0.1.3680043.10001.3  1.2.826.0.1.3680043.10001      3      0   \n",
       "1.2.826.0.1.3680043.10001.4  1.2.826.0.1.3680043.10001      4      0   \n",
       "\n",
       "                             pixel_spacing  xmin  ymin   xmax   ymax  \n",
       "UID_Slice                                                             \n",
       "1.2.826.0.1.3680043.10001.0       0.253906   0.0   0.0  512.0  512.0  \n",
       "1.2.826.0.1.3680043.10001.1       0.253906   0.0   0.0  512.0  512.0  \n",
       "1.2.826.0.1.3680043.10001.2       0.253906   0.0   0.0  512.0  512.0  \n",
       "1.2.826.0.1.3680043.10001.3       0.253906   0.0   0.0  512.0  512.0  \n",
       "1.2.826.0.1.3680043.10001.4       0.253906   0.0   0.0  512.0  512.0  "
      ]
     },
     "execution_count": 6,
     "metadata": {},
     "output_type": "execute_result"
    }
   ],
   "source": [
    "\n",
    "total_boundary_df = pd.read_csv(os.path.join(DATA_DIR, f'infered_boundary_{mask_model_ver}_2.csv'))\n",
    "total_boundary_df['UID_Slice'] = total_boundary_df['StudyInstanceUID'] + '.' + total_boundary_df['Slice'].astype('string')\n",
    "total_boundary_df = total_boundary_df.set_index('UID_Slice').astype({'Slice': int})\n",
    "print(len(total_boundary_df))\n",
    "total_boundary_df.head()"
   ]
  },
  {
   "cell_type": "code",
   "execution_count": 7,
   "metadata": {
    "collapsed": false,
    "jupyter": {
     "outputs_hidden": false
    }
   },
   "outputs": [
    {
     "name": "stdout",
     "output_type": "stream",
     "text": [
      "7203\n"
     ]
    },
    {
     "data": {
      "text/html": [
       "<div>\n",
       "<style scoped>\n",
       "    .dataframe tbody tr th:only-of-type {\n",
       "        vertical-align: middle;\n",
       "    }\n",
       "\n",
       "    .dataframe tbody tr th {\n",
       "        vertical-align: top;\n",
       "    }\n",
       "\n",
       "    .dataframe thead th {\n",
       "        text-align: right;\n",
       "    }\n",
       "</style>\n",
       "<table border=\"1\" class=\"dataframe\">\n",
       "  <thead>\n",
       "    <tr style=\"text-align: right;\">\n",
       "      <th></th>\n",
       "      <th>UID</th>\n",
       "      <th>start_slice_number</th>\n",
       "      <th>axial_index</th>\n",
       "      <th>coronal_index</th>\n",
       "      <th>sagittal_index</th>\n",
       "      <th>aspect</th>\n",
       "      <th>pixel_spacing</th>\n",
       "      <th>z_spacing</th>\n",
       "      <th>is_flip</th>\n",
       "      <th>num_slices</th>\n",
       "      <th>x</th>\n",
       "      <th>y</th>\n",
       "      <th>width</th>\n",
       "      <th>height</th>\n",
       "      <th>slice_number</th>\n",
       "    </tr>\n",
       "    <tr>\n",
       "      <th>UID_Slice</th>\n",
       "      <th></th>\n",
       "      <th></th>\n",
       "      <th></th>\n",
       "      <th></th>\n",
       "      <th></th>\n",
       "      <th></th>\n",
       "      <th></th>\n",
       "      <th></th>\n",
       "      <th></th>\n",
       "      <th></th>\n",
       "      <th></th>\n",
       "      <th></th>\n",
       "      <th></th>\n",
       "      <th></th>\n",
       "      <th></th>\n",
       "    </tr>\n",
       "  </thead>\n",
       "  <tbody>\n",
       "    <tr>\n",
       "      <th>1.2.826.0.1.3680043.10051.132</th>\n",
       "      <td>1.2.826.0.1.3680043.10051</td>\n",
       "      <td>1</td>\n",
       "      <td>132</td>\n",
       "      <td>226</td>\n",
       "      <td>227</td>\n",
       "      <td>2.461541</td>\n",
       "      <td>0.253906</td>\n",
       "      <td>0.625</td>\n",
       "      <td>0.0</td>\n",
       "      <td>272</td>\n",
       "      <td>219.27715</td>\n",
       "      <td>216.71419</td>\n",
       "      <td>17.30440</td>\n",
       "      <td>20.38517</td>\n",
       "      <td>133</td>\n",
       "    </tr>\n",
       "    <tr>\n",
       "      <th>1.2.826.0.1.3680043.10051.133</th>\n",
       "      <td>1.2.826.0.1.3680043.10051</td>\n",
       "      <td>1</td>\n",
       "      <td>133</td>\n",
       "      <td>229</td>\n",
       "      <td>230</td>\n",
       "      <td>2.461541</td>\n",
       "      <td>0.253906</td>\n",
       "      <td>0.625</td>\n",
       "      <td>0.0</td>\n",
       "      <td>272</td>\n",
       "      <td>221.56460</td>\n",
       "      <td>216.71419</td>\n",
       "      <td>17.87844</td>\n",
       "      <td>25.24362</td>\n",
       "      <td>134</td>\n",
       "    </tr>\n",
       "    <tr>\n",
       "      <th>1.2.826.0.1.3680043.10051.134</th>\n",
       "      <td>1.2.826.0.1.3680043.10051</td>\n",
       "      <td>1</td>\n",
       "      <td>134</td>\n",
       "      <td>234</td>\n",
       "      <td>230</td>\n",
       "      <td>2.461541</td>\n",
       "      <td>0.253906</td>\n",
       "      <td>0.625</td>\n",
       "      <td>0.0</td>\n",
       "      <td>272</td>\n",
       "      <td>216.82151</td>\n",
       "      <td>221.62546</td>\n",
       "      <td>27.00959</td>\n",
       "      <td>26.37454</td>\n",
       "      <td>135</td>\n",
       "    </tr>\n",
       "    <tr>\n",
       "      <th>1.2.826.0.1.3680043.10051.135</th>\n",
       "      <td>1.2.826.0.1.3680043.10051</td>\n",
       "      <td>1</td>\n",
       "      <td>135</td>\n",
       "      <td>234</td>\n",
       "      <td>228</td>\n",
       "      <td>2.461541</td>\n",
       "      <td>0.253906</td>\n",
       "      <td>0.625</td>\n",
       "      <td>0.0</td>\n",
       "      <td>272</td>\n",
       "      <td>214.49455</td>\n",
       "      <td>215.48637</td>\n",
       "      <td>27.92726</td>\n",
       "      <td>37.51363</td>\n",
       "      <td>136</td>\n",
       "    </tr>\n",
       "    <tr>\n",
       "      <th>1.2.826.0.1.3680043.10051.136</th>\n",
       "      <td>1.2.826.0.1.3680043.10051</td>\n",
       "      <td>1</td>\n",
       "      <td>136</td>\n",
       "      <td>237</td>\n",
       "      <td>227</td>\n",
       "      <td>2.461541</td>\n",
       "      <td>0.253906</td>\n",
       "      <td>0.625</td>\n",
       "      <td>0.0</td>\n",
       "      <td>272</td>\n",
       "      <td>214.00000</td>\n",
       "      <td>215.48637</td>\n",
       "      <td>27.00000</td>\n",
       "      <td>43.51363</td>\n",
       "      <td>137</td>\n",
       "    </tr>\n",
       "  </tbody>\n",
       "</table>\n",
       "</div>"
      ],
      "text/plain": [
       "                                                     UID  start_slice_number  \\\n",
       "UID_Slice                                                                      \n",
       "1.2.826.0.1.3680043.10051.132  1.2.826.0.1.3680043.10051                   1   \n",
       "1.2.826.0.1.3680043.10051.133  1.2.826.0.1.3680043.10051                   1   \n",
       "1.2.826.0.1.3680043.10051.134  1.2.826.0.1.3680043.10051                   1   \n",
       "1.2.826.0.1.3680043.10051.135  1.2.826.0.1.3680043.10051                   1   \n",
       "1.2.826.0.1.3680043.10051.136  1.2.826.0.1.3680043.10051                   1   \n",
       "\n",
       "                               axial_index  coronal_index  sagittal_index  \\\n",
       "UID_Slice                                                                   \n",
       "1.2.826.0.1.3680043.10051.132          132            226             227   \n",
       "1.2.826.0.1.3680043.10051.133          133            229             230   \n",
       "1.2.826.0.1.3680043.10051.134          134            234             230   \n",
       "1.2.826.0.1.3680043.10051.135          135            234             228   \n",
       "1.2.826.0.1.3680043.10051.136          136            237             227   \n",
       "\n",
       "                                 aspect  pixel_spacing  z_spacing  is_flip  \\\n",
       "UID_Slice                                                                    \n",
       "1.2.826.0.1.3680043.10051.132  2.461541       0.253906      0.625      0.0   \n",
       "1.2.826.0.1.3680043.10051.133  2.461541       0.253906      0.625      0.0   \n",
       "1.2.826.0.1.3680043.10051.134  2.461541       0.253906      0.625      0.0   \n",
       "1.2.826.0.1.3680043.10051.135  2.461541       0.253906      0.625      0.0   \n",
       "1.2.826.0.1.3680043.10051.136  2.461541       0.253906      0.625      0.0   \n",
       "\n",
       "                               num_slices          x          y     width  \\\n",
       "UID_Slice                                                                   \n",
       "1.2.826.0.1.3680043.10051.132         272  219.27715  216.71419  17.30440   \n",
       "1.2.826.0.1.3680043.10051.133         272  221.56460  216.71419  17.87844   \n",
       "1.2.826.0.1.3680043.10051.134         272  216.82151  221.62546  27.00959   \n",
       "1.2.826.0.1.3680043.10051.135         272  214.49455  215.48637  27.92726   \n",
       "1.2.826.0.1.3680043.10051.136         272  214.00000  215.48637  27.00000   \n",
       "\n",
       "                                 height  slice_number  \n",
       "UID_Slice                                              \n",
       "1.2.826.0.1.3680043.10051.132  20.38517           133  \n",
       "1.2.826.0.1.3680043.10051.133  25.24362           134  \n",
       "1.2.826.0.1.3680043.10051.134  26.37454           135  \n",
       "1.2.826.0.1.3680043.10051.135  37.51363           136  \n",
       "1.2.826.0.1.3680043.10051.136  43.51363           137  "
      ]
     },
     "execution_count": 7,
     "metadata": {},
     "output_type": "execute_result"
    }
   ],
   "source": [
    "bbox_df = pd.read_csv(os.path.join(DATA_DIR, 'bbox_clean.csv'))\n",
    "bbox_df['UID_Slice'] = bbox_df['UID'] + '.' + bbox_df['axial_index'].astype('string')\n",
    "bbox_df = bbox_df.set_index('UID_Slice')\n",
    "\n",
    "bbox_df = bbox_df.loc[bbox_df.index.isin(total_boundary_df.index)]\n",
    "print(len(bbox_df))\n",
    "bbox_df.head()"
   ]
  },
  {
   "cell_type": "code",
   "execution_count": 8,
   "metadata": {},
   "outputs": [
    {
     "name": "stdout",
     "output_type": "stream",
     "text": [
      "77339\n"
     ]
    },
    {
     "data": {
      "text/html": [
       "<div>\n",
       "<style scoped>\n",
       "    .dataframe tbody tr th:only-of-type {\n",
       "        vertical-align: middle;\n",
       "    }\n",
       "\n",
       "    .dataframe tbody tr th {\n",
       "        vertical-align: top;\n",
       "    }\n",
       "\n",
       "    .dataframe thead th {\n",
       "        text-align: right;\n",
       "    }\n",
       "</style>\n",
       "<table border=\"1\" class=\"dataframe\">\n",
       "  <thead>\n",
       "    <tr style=\"text-align: right;\">\n",
       "      <th></th>\n",
       "      <th>StudyInstanceUID</th>\n",
       "      <th>Slice</th>\n",
       "      <th>Start</th>\n",
       "      <th>pixel_spacing</th>\n",
       "      <th>xmin</th>\n",
       "      <th>ymin</th>\n",
       "      <th>xmax</th>\n",
       "      <th>ymax</th>\n",
       "    </tr>\n",
       "    <tr>\n",
       "      <th>UID_Slice</th>\n",
       "      <th></th>\n",
       "      <th></th>\n",
       "      <th></th>\n",
       "      <th></th>\n",
       "      <th></th>\n",
       "      <th></th>\n",
       "      <th></th>\n",
       "      <th></th>\n",
       "    </tr>\n",
       "  </thead>\n",
       "  <tbody>\n",
       "    <tr>\n",
       "      <th>1.2.826.0.1.3680043.10051.0</th>\n",
       "      <td>1.2.826.0.1.3680043.10051</td>\n",
       "      <td>0</td>\n",
       "      <td>0</td>\n",
       "      <td>0.253906</td>\n",
       "      <td>0.0</td>\n",
       "      <td>0.0</td>\n",
       "      <td>512.0</td>\n",
       "      <td>512.0</td>\n",
       "    </tr>\n",
       "    <tr>\n",
       "      <th>1.2.826.0.1.3680043.10051.1</th>\n",
       "      <td>1.2.826.0.1.3680043.10051</td>\n",
       "      <td>1</td>\n",
       "      <td>0</td>\n",
       "      <td>0.253906</td>\n",
       "      <td>0.0</td>\n",
       "      <td>0.0</td>\n",
       "      <td>512.0</td>\n",
       "      <td>512.0</td>\n",
       "    </tr>\n",
       "    <tr>\n",
       "      <th>1.2.826.0.1.3680043.10051.2</th>\n",
       "      <td>1.2.826.0.1.3680043.10051</td>\n",
       "      <td>2</td>\n",
       "      <td>0</td>\n",
       "      <td>0.253906</td>\n",
       "      <td>0.0</td>\n",
       "      <td>0.0</td>\n",
       "      <td>512.0</td>\n",
       "      <td>512.0</td>\n",
       "    </tr>\n",
       "    <tr>\n",
       "      <th>1.2.826.0.1.3680043.10051.3</th>\n",
       "      <td>1.2.826.0.1.3680043.10051</td>\n",
       "      <td>3</td>\n",
       "      <td>0</td>\n",
       "      <td>0.253906</td>\n",
       "      <td>0.0</td>\n",
       "      <td>0.0</td>\n",
       "      <td>512.0</td>\n",
       "      <td>512.0</td>\n",
       "    </tr>\n",
       "    <tr>\n",
       "      <th>1.2.826.0.1.3680043.10051.4</th>\n",
       "      <td>1.2.826.0.1.3680043.10051</td>\n",
       "      <td>4</td>\n",
       "      <td>0</td>\n",
       "      <td>0.253906</td>\n",
       "      <td>0.0</td>\n",
       "      <td>0.0</td>\n",
       "      <td>512.0</td>\n",
       "      <td>512.0</td>\n",
       "    </tr>\n",
       "  </tbody>\n",
       "</table>\n",
       "</div>"
      ],
      "text/plain": [
       "                                      StudyInstanceUID  Slice  Start  \\\n",
       "UID_Slice                                                              \n",
       "1.2.826.0.1.3680043.10051.0  1.2.826.0.1.3680043.10051      0      0   \n",
       "1.2.826.0.1.3680043.10051.1  1.2.826.0.1.3680043.10051      1      0   \n",
       "1.2.826.0.1.3680043.10051.2  1.2.826.0.1.3680043.10051      2      0   \n",
       "1.2.826.0.1.3680043.10051.3  1.2.826.0.1.3680043.10051      3      0   \n",
       "1.2.826.0.1.3680043.10051.4  1.2.826.0.1.3680043.10051      4      0   \n",
       "\n",
       "                             pixel_spacing  xmin  ymin   xmax   ymax  \n",
       "UID_Slice                                                             \n",
       "1.2.826.0.1.3680043.10051.0       0.253906   0.0   0.0  512.0  512.0  \n",
       "1.2.826.0.1.3680043.10051.1       0.253906   0.0   0.0  512.0  512.0  \n",
       "1.2.826.0.1.3680043.10051.2       0.253906   0.0   0.0  512.0  512.0  \n",
       "1.2.826.0.1.3680043.10051.3       0.253906   0.0   0.0  512.0  512.0  \n",
       "1.2.826.0.1.3680043.10051.4       0.253906   0.0   0.0  512.0  512.0  "
      ]
     },
     "execution_count": 8,
     "metadata": {},
     "output_type": "execute_result"
    }
   ],
   "source": [
    "boundary_df = total_boundary_df[total_boundary_df.StudyInstanceUID.isin(bbox_df.UID.unique())]\n",
    "print(len(boundary_df))\n",
    "boundary_df.head()"
   ]
  },
  {
   "cell_type": "markdown",
   "metadata": {},
   "source": [
    "Pick useful columns"
   ]
  },
  {
   "cell_type": "code",
   "execution_count": 9,
   "metadata": {},
   "outputs": [
    {
     "name": "stdout",
     "output_type": "stream",
     "text": [
      "77339\n"
     ]
    },
    {
     "data": {
      "text/html": [
       "<div>\n",
       "<style scoped>\n",
       "    .dataframe tbody tr th:only-of-type {\n",
       "        vertical-align: middle;\n",
       "    }\n",
       "\n",
       "    .dataframe tbody tr th {\n",
       "        vertical-align: top;\n",
       "    }\n",
       "\n",
       "    .dataframe thead th {\n",
       "        text-align: right;\n",
       "    }\n",
       "</style>\n",
       "<table border=\"1\" class=\"dataframe\">\n",
       "  <thead>\n",
       "    <tr style=\"text-align: right;\">\n",
       "      <th></th>\n",
       "      <th>x</th>\n",
       "      <th>y</th>\n",
       "      <th>width</th>\n",
       "      <th>height</th>\n",
       "      <th>xmin</th>\n",
       "      <th>ymin</th>\n",
       "      <th>xmax</th>\n",
       "      <th>ymax</th>\n",
       "      <th>Slice</th>\n",
       "      <th>StudyInstanceUID</th>\n",
       "      <th>new_x</th>\n",
       "      <th>new_y</th>\n",
       "    </tr>\n",
       "    <tr>\n",
       "      <th>UID_Slice</th>\n",
       "      <th></th>\n",
       "      <th></th>\n",
       "      <th></th>\n",
       "      <th></th>\n",
       "      <th></th>\n",
       "      <th></th>\n",
       "      <th></th>\n",
       "      <th></th>\n",
       "      <th></th>\n",
       "      <th></th>\n",
       "      <th></th>\n",
       "      <th></th>\n",
       "    </tr>\n",
       "  </thead>\n",
       "  <tbody>\n",
       "    <tr>\n",
       "      <th>1.2.826.0.1.3680043.10051.132</th>\n",
       "      <td>219.27715</td>\n",
       "      <td>216.71419</td>\n",
       "      <td>17.30440</td>\n",
       "      <td>20.38517</td>\n",
       "      <td>43.076729</td>\n",
       "      <td>0.0</td>\n",
       "      <td>436.923271</td>\n",
       "      <td>393.846542</td>\n",
       "      <td>132</td>\n",
       "      <td>1.2.826.0.1.3680043.10051</td>\n",
       "      <td>176.200421</td>\n",
       "      <td>216.71419</td>\n",
       "    </tr>\n",
       "    <tr>\n",
       "      <th>1.2.826.0.1.3680043.10051.133</th>\n",
       "      <td>221.56460</td>\n",
       "      <td>216.71419</td>\n",
       "      <td>17.87844</td>\n",
       "      <td>25.24362</td>\n",
       "      <td>36.076729</td>\n",
       "      <td>0.0</td>\n",
       "      <td>429.923271</td>\n",
       "      <td>393.846542</td>\n",
       "      <td>133</td>\n",
       "      <td>1.2.826.0.1.3680043.10051</td>\n",
       "      <td>185.487871</td>\n",
       "      <td>216.71419</td>\n",
       "    </tr>\n",
       "    <tr>\n",
       "      <th>1.2.826.0.1.3680043.10051.134</th>\n",
       "      <td>216.82151</td>\n",
       "      <td>221.62546</td>\n",
       "      <td>27.00959</td>\n",
       "      <td>26.37454</td>\n",
       "      <td>45.076729</td>\n",
       "      <td>0.0</td>\n",
       "      <td>438.923271</td>\n",
       "      <td>393.846542</td>\n",
       "      <td>134</td>\n",
       "      <td>1.2.826.0.1.3680043.10051</td>\n",
       "      <td>171.744781</td>\n",
       "      <td>221.62546</td>\n",
       "    </tr>\n",
       "    <tr>\n",
       "      <th>1.2.826.0.1.3680043.10051.135</th>\n",
       "      <td>214.49455</td>\n",
       "      <td>215.48637</td>\n",
       "      <td>27.92726</td>\n",
       "      <td>37.51363</td>\n",
       "      <td>41.076729</td>\n",
       "      <td>0.0</td>\n",
       "      <td>434.923271</td>\n",
       "      <td>393.846542</td>\n",
       "      <td>135</td>\n",
       "      <td>1.2.826.0.1.3680043.10051</td>\n",
       "      <td>173.417821</td>\n",
       "      <td>215.48637</td>\n",
       "    </tr>\n",
       "    <tr>\n",
       "      <th>1.2.826.0.1.3680043.10051.136</th>\n",
       "      <td>214.00000</td>\n",
       "      <td>215.48637</td>\n",
       "      <td>27.00000</td>\n",
       "      <td>43.51363</td>\n",
       "      <td>28.076729</td>\n",
       "      <td>0.0</td>\n",
       "      <td>421.923271</td>\n",
       "      <td>393.846542</td>\n",
       "      <td>136</td>\n",
       "      <td>1.2.826.0.1.3680043.10051</td>\n",
       "      <td>185.923271</td>\n",
       "      <td>215.48637</td>\n",
       "    </tr>\n",
       "  </tbody>\n",
       "</table>\n",
       "</div>"
      ],
      "text/plain": [
       "                                       x          y     width    height  \\\n",
       "UID_Slice                                                                 \n",
       "1.2.826.0.1.3680043.10051.132  219.27715  216.71419  17.30440  20.38517   \n",
       "1.2.826.0.1.3680043.10051.133  221.56460  216.71419  17.87844  25.24362   \n",
       "1.2.826.0.1.3680043.10051.134  216.82151  221.62546  27.00959  26.37454   \n",
       "1.2.826.0.1.3680043.10051.135  214.49455  215.48637  27.92726  37.51363   \n",
       "1.2.826.0.1.3680043.10051.136  214.00000  215.48637  27.00000  43.51363   \n",
       "\n",
       "                                    xmin  ymin        xmax        ymax  Slice  \\\n",
       "UID_Slice                                                                       \n",
       "1.2.826.0.1.3680043.10051.132  43.076729   0.0  436.923271  393.846542    132   \n",
       "1.2.826.0.1.3680043.10051.133  36.076729   0.0  429.923271  393.846542    133   \n",
       "1.2.826.0.1.3680043.10051.134  45.076729   0.0  438.923271  393.846542    134   \n",
       "1.2.826.0.1.3680043.10051.135  41.076729   0.0  434.923271  393.846542    135   \n",
       "1.2.826.0.1.3680043.10051.136  28.076729   0.0  421.923271  393.846542    136   \n",
       "\n",
       "                                        StudyInstanceUID       new_x  \\\n",
       "UID_Slice                                                              \n",
       "1.2.826.0.1.3680043.10051.132  1.2.826.0.1.3680043.10051  176.200421   \n",
       "1.2.826.0.1.3680043.10051.133  1.2.826.0.1.3680043.10051  185.487871   \n",
       "1.2.826.0.1.3680043.10051.134  1.2.826.0.1.3680043.10051  171.744781   \n",
       "1.2.826.0.1.3680043.10051.135  1.2.826.0.1.3680043.10051  173.417821   \n",
       "1.2.826.0.1.3680043.10051.136  1.2.826.0.1.3680043.10051  185.923271   \n",
       "\n",
       "                                   new_y  \n",
       "UID_Slice                                 \n",
       "1.2.826.0.1.3680043.10051.132  216.71419  \n",
       "1.2.826.0.1.3680043.10051.133  216.71419  \n",
       "1.2.826.0.1.3680043.10051.134  221.62546  \n",
       "1.2.826.0.1.3680043.10051.135  215.48637  \n",
       "1.2.826.0.1.3680043.10051.136  215.48637  "
      ]
     },
     "execution_count": 9,
     "metadata": {},
     "output_type": "execute_result"
    }
   ],
   "source": [
    "train_df = pd.concat((bbox_df[['x','y','width','height']], boundary_df[['xmin','ymin','xmax','ymax','Slice', 'StudyInstanceUID']]), axis=1)\n",
    "train_df[['new_x', 'new_y']] = train_df[['x','y']].values - train_df[['xmin','ymin']].values\n",
    "print(len(train_df))\n",
    "train_df.head()"
   ]
  },
  {
   "cell_type": "markdown",
   "metadata": {},
   "source": [
    "Only pick same size negative cases"
   ]
  },
  {
   "cell_type": "code",
   "execution_count": 10,
   "metadata": {},
   "outputs": [
    {
     "data": {
      "text/plain": [
       "70136"
      ]
     },
     "execution_count": 10,
     "metadata": {},
     "output_type": "execute_result"
    }
   ],
   "source": [
    "neg_count = len(train_df[train_df['x'].isna()])\n",
    "neg_count"
   ]
  },
  {
   "cell_type": "code",
   "execution_count": 11,
   "metadata": {},
   "outputs": [
    {
     "data": {
      "text/plain": [
       "7203"
      ]
     },
     "execution_count": 11,
     "metadata": {},
     "output_type": "execute_result"
    }
   ],
   "source": [
    "pos_count = len(train_df[~train_df['x'].isna()])\n",
    "pos_count"
   ]
  },
  {
   "cell_type": "code",
   "execution_count": 12,
   "metadata": {},
   "outputs": [],
   "source": [
    "neg_df = train_df[train_df['x'].isna()]\n",
    "pos_df = train_df[~train_df['x'].isna()]"
   ]
  },
  {
   "cell_type": "code",
   "execution_count": 13,
   "metadata": {
    "collapsed": false,
    "jupyter": {
     "outputs_hidden": false
    }
   },
   "outputs": [],
   "source": [
    "def crop_image(img:Image, bbox, crop_box):\n",
    "    \"\"\"\n",
    "\n",
    "    :param img:\n",
    "    :param bbox: [left, top, right, bottom]\n",
    "    :param crop_box:[left, top, right, bottom]\n",
    "    :return:\n",
    "    \"\"\"\n",
    "    left, top, right, bottom = crop_box\n",
    "    img = img.crop(crop_box)\n",
    "    bbox[0] -= left\n",
    "    bbox[1] -= top\n",
    "    bbox[2] -= left\n",
    "    bbox[3] -= top\n",
    "\n",
    "    return img, bbox"
   ]
  },
  {
   "cell_type": "code",
   "execution_count": 14,
   "metadata": {
    "collapsed": false,
    "jupyter": {
     "outputs_hidden": false
    }
   },
   "outputs": [
    {
     "name": "stdout",
     "output_type": "stream",
     "text": [
      "x                                      69.632\n",
      "y                                    249.9159\n",
      "width                                  57.344\n",
      "height                               39.98988\n",
      "xmin                                22.209607\n",
      "ymin                               187.209607\n",
      "xmax                               245.790393\n",
      "ymax                               410.790393\n",
      "Slice                                     297\n",
      "StudyInstanceUID    1.2.826.0.1.3680043.11401\n",
      "new_x                               47.422393\n",
      "new_y                               62.706293\n",
      "Name: 1.2.826.0.1.3680043.11401.297, dtype: object\n"
     ]
    },
    {
     "data": {
      "image/png": "[encoded data removed]",
      "text/plain": [
       "<Figure size 720x720 with 1 Axes>"
      ]
     },
     "metadata": {
      "needs_background": "light"
     },
     "output_type": "display_data"
    }
   ],
   "source": [
    "def get_rectangle_edges_from_pascal_bbox(bbox):\n",
    "    xmin_top_left, ymin_top_left, xmax_bottom_right, ymax_bottom_right = bbox\n",
    "\n",
    "    width = xmax_bottom_right - xmin_top_left\n",
    "    height = ymin_top_left - ymax_bottom_right\n",
    "\n",
    "    return xmin_top_left, ymax_bottom_right, width, height\n",
    "\n",
    "\n",
    "def draw_pascal_voc_bboxes(\n",
    "        plot_ax,\n",
    "        bbox,\n",
    "        get_rectangle_corners_fn=get_rectangle_edges_from_pascal_bbox,\n",
    "):\n",
    "    x, y, width, height = get_rectangle_corners_fn(bbox)\n",
    "\n",
    "    rect_1 = patches.Rectangle(\n",
    "        (x, y),\n",
    "        width,\n",
    "        height,\n",
    "        linewidth=4,\n",
    "        edgecolor=\"black\",\n",
    "        fill=False,\n",
    "    )\n",
    "    rect_2 = patches.Rectangle(\n",
    "        (x, y),\n",
    "        width,\n",
    "        height,\n",
    "        linewidth=2,\n",
    "        edgecolor=\"white\",\n",
    "        fill=False,\n",
    "    )\n",
    "\n",
    "    # Add the patch to the Axes\n",
    "    plot_ax.add_patch(rect_1)\n",
    "    plot_ax.add_patch(rect_2)\n",
    "\n",
    "\n",
    "def show_image(\n",
    "        image, bbox=None, draw_bboxes_fn=draw_pascal_voc_bboxes, figsize=(10, 10)\n",
    "):\n",
    "    fig, ax = plt.subplots(1, figsize=figsize)\n",
    "    ax.imshow(image)\n",
    "\n",
    "    draw_bboxes_fn(ax, bbox)\n",
    "\n",
    "    plt.show()\n",
    "\n",
    "\n",
    "s = pos_df.iloc[269]\n",
    "print(s)\n",
    "image = Image.open(os.path.join(IMAGES_DIR, s.StudyInstanceUID, f'{int(s.Slice)}.jpeg'))\n",
    "bbox = list(s[['new_x', 'new_y','width','height']])\n",
    "bbox = [bbox[0], bbox[1], bbox[0] + bbox[2], bbox[1] + bbox[3]]\n",
    "crop_box = s[['xmin','ymin','xmax','ymax']]\n",
    "show_image(image, bbox)"
   ]
  },
  {
   "cell_type": "markdown",
   "metadata": {},
   "source": [
    "## Dataset"
   ]
  },
  {
   "cell_type": "code",
   "execution_count": 15,
   "metadata": {
    "collapsed": false,
    "jupyter": {
     "outputs_hidden": false
    }
   },
   "outputs": [
    {
     "data": {
      "text/plain": [
       "(<PIL.JpegImagePlugin.JpegImageFile image mode=RGB size=394x394 at 0x7F67B4B780D0>,\n",
       " [[176.20042081675894, 216.71419, 193.50482081675892, 237.09936]],\n",
       " array([1.]),\n",
       " 0)"
      ]
     },
     "execution_count": 15,
     "metadata": {},
     "output_type": "execute_result"
    }
   ],
   "source": [
    "class FractureDatasetAdaptor(Dataset):\n",
    "    def __init__(self, images_dir_path, mask_dir, pos_df, neg_df):\n",
    "        self.image_dir = images_dir_path\n",
    "        self.mask_dir = mask_dir\n",
    "        self.pos_df = pos_df\n",
    "        self.neg_df = neg_df\n",
    "\n",
    "    def __len__(self) -> int:\n",
    "        return len(self.pos_df) * 2\n",
    "\n",
    "    def __getitem__(self, idx):\n",
    "        \n",
    "        is_pos = (idx % 2) == 0\n",
    "        \n",
    "        if is_pos:\n",
    "            s = self.pos_df.iloc[idx // 2]\n",
    "        else:\n",
    "            rand_idx = np.random.randint(0, len(self.neg_df))\n",
    "            s = self.neg_df.iloc[rand_idx]\n",
    "        UID = s.StudyInstanceUID\n",
    "        # print(s)\n",
    "        axial_index = int(s.Slice)\n",
    "        img = Image.open(os.path.join(self.image_dir, UID, f\"{axial_index}.jpeg\"))\n",
    "        \n",
    "        mask = Image.open(os.path.join(self.mask_dir, UID, f'{axial_index}.png'))\n",
    "        mask = mask.crop((s.xmin/2, s.ymin/2, s.xmax/2, s.ymax/2))\n",
    "        \n",
    "        if pd.isna(s.x):\n",
    "            pascal_bboxes = []\n",
    "            class_labels = []\n",
    "        else:\n",
    "            pascal_bboxes = [[s.new_x, s.new_y, s.new_x + s.width, s.new_y + s.height]]\n",
    "            class_labels = np.ones(1)\n",
    "\n",
    "        return img, pascal_bboxes, class_labels, idx\n",
    "\n",
    "    def show_image(self, index):\n",
    "        image, bboxes, class_labels, image_id = self.get_image_and_labels_by_idx(index)\n",
    "        print(f\"image_id: {image_id}\")\n",
    "        show_image(image, bboxes)\n",
    "        print(class_labels)\n",
    "\n",
    "da = FractureDatasetAdaptor(IMAGES_DIR, MASK_DIR, pos_df, neg_df)\n",
    "da[0]"
   ]
  },
  {
   "cell_type": "markdown",
   "metadata": {},
   "source": [
    "## Transform"
   ]
  },
  {
   "cell_type": "code",
   "execution_count": 16,
   "metadata": {
    "collapsed": false,
    "jupyter": {
     "outputs_hidden": false
    }
   },
   "outputs": [
    {
     "name": "stdout",
     "output_type": "stream",
     "text": [
      "{'bboxes': tensor([[281.6184, 217.5071, 343.8994, 250.1693]]), 'labels': tensor([1.], dtype=torch.float64), 'image_id': tensor([10]), 'img_size': (512, 512), 'img_scale': tensor([1.])}\n",
      "torch.Size([3, 512, 512])\n",
      "tensor(-1.) tensor(0.9168)\n"
     ]
    },
    {
     "data": {
      "image/png": "[encoded data removed]",
      "text/plain": [
       "<Figure size 720x720 with 1 Axes>"
      ]
     },
     "metadata": {
      "needs_background": "light"
     },
     "output_type": "display_data"
    }
   ],
   "source": [
    "def get_train_transforms(target_img_size=512):\n",
    "    return A.Compose(\n",
    "        [\n",
    "            A.ShiftScaleRotate(p=0.5, rotate_limit=15),\n",
    "            A.HorizontalFlip(p=0.5),\n",
    "            A.Resize(height=target_img_size, width=target_img_size, p=1),\n",
    "            A.Normalize(0.5, 0.5),\n",
    "            ToTensorV2(p=1),\n",
    "        ],\n",
    "        p=1.0,\n",
    "        bbox_params=A.BboxParams(\n",
    "            format=\"pascal_voc\", min_area=0, min_visibility=0, label_fields=[\"labels\"]\n",
    "        ),\n",
    "    )\n",
    "\n",
    "\n",
    "\n",
    "class EfficientDetDataset(Dataset):\n",
    "    def __init__(\n",
    "            self, dataset_adaptor, transforms=None\n",
    "    ):\n",
    "        self.ds = dataset_adaptor\n",
    "        self.transforms = transforms\n",
    "\n",
    "    def __getitem__(self, index):\n",
    "        (\n",
    "            image,\n",
    "            pascal_bboxes,\n",
    "            class_labels,\n",
    "            image_id\n",
    "        ) = self.ds[index]\n",
    "\n",
    "        if len(pascal_bboxes) > 0:\n",
    "            # image, pascal_bboxes = crop_image(image, pascal_bboxes[0], crop_box)\n",
    "            pascal_bboxes = pascal_bboxes[0]\n",
    "            pascal_bboxes[0] = max(0, pascal_bboxes[0])\n",
    "            pascal_bboxes[1] = max(0, pascal_bboxes[1])\n",
    "            pascal_bboxes[2] = min(image.width, pascal_bboxes[2])\n",
    "            pascal_bboxes[3] = min(image.height, pascal_bboxes[3])\n",
    "            \n",
    "            sample = {\n",
    "                \"image\": np.array(image, dtype=np.float32),\n",
    "                \"bboxes\": [pascal_bboxes],\n",
    "                \"labels\": class_labels,\n",
    "            }\n",
    "            sample = self.transforms(**sample)\n",
    "            sample[\"bboxes\"] = np.array(sample[\"bboxes\"])\n",
    "            image = sample[\"image\"]\n",
    "            labels = sample[\"labels\"]\n",
    "\n",
    "            # print(sample)\n",
    "\n",
    "            _, new_h, new_w = image.shape\n",
    "            if len(sample[\"bboxes\"]) > 0:\n",
    "                sample[\"bboxes\"][:, [0, 1, 2, 3]] = sample[\"bboxes\"][\n",
    "                                                :, [1, 0, 3, 2]\n",
    "                                                ]  # convert to yxyx\n",
    "\n",
    "                target = {\n",
    "                    \"bboxes\": torch.as_tensor(sample[\"bboxes\"], dtype=torch.float32),\n",
    "                    \"labels\": torch.as_tensor(labels),\n",
    "                    \"image_id\": torch.tensor([image_id]),\n",
    "                    \"img_size\": (new_h, new_w),\n",
    "                    \"img_scale\": torch.tensor([1.]),\n",
    "                }\n",
    "            else:\n",
    "                target = {\n",
    "                    \"bboxes\": torch.zeros((0, 4)),\n",
    "                    \"labels\": torch.tensor([]),\n",
    "                    \"image_id\": torch.tensor([image_id]),\n",
    "                    \"img_size\": (new_h, new_w),\n",
    "                    \"img_scale\": torch.tensor([1.]),\n",
    "                }\n",
    "        else:\n",
    "            # image = image.crop(crop_box)   \n",
    "            image = self.transforms(image=np.array(image, dtype=np.float32), bboxes=[], labels=[])[\"image\"]\n",
    "            _, new_h, new_w = image.shape\n",
    "            target = {\n",
    "                \"bboxes\": torch.zeros((0, 4)),\n",
    "                \"labels\": torch.tensor([]),\n",
    "                \"image_id\": torch.tensor([image_id]),\n",
    "                \"img_size\": (new_h, new_w),\n",
    "                \"img_scale\": torch.tensor([1.]),\n",
    "            }\n",
    "        \n",
    "        \n",
    "\n",
    "        return image, target, image_id\n",
    "\n",
    "    def __len__(self):\n",
    "        return len(self.ds)\n",
    "\n",
    "\n",
    "train_dataset = EfficientDetDataset(da, transforms=get_train_transforms(IMAGE_SIZE))\n",
    "img, ann, idx = train_dataset[10]\n",
    "print(ann)\n",
    "print(img.shape)\n",
    "print(img.min(), img.max())\n",
    "fig, ax = plt.subplots(1, figsize=(10, 10))\n",
    "ax.imshow(img[2, :, :])\n",
    "\n",
    "if len(ann['bboxes']) > 0:\n",
    "    draw_pascal_voc_bboxes(ax, ann['bboxes'][0].cpu().numpy()[[1, 0, 3, 2]])\n"
   ]
  },
  {
   "cell_type": "code",
   "execution_count": 17,
   "metadata": {
    "collapsed": false,
    "jupyter": {
     "outputs_hidden": false
    }
   },
   "outputs": [],
   "source": [
    "def collate_fn(batch):\n",
    "    images, targets, image_ids = tuple(zip(*batch))\n",
    "    images = torch.stack(images)\n",
    "    images = images.float()\n",
    "\n",
    "    boxes = [target[\"bboxes\"].float() for target in targets]\n",
    "    labels = [target[\"labels\"].float() for target in targets]\n",
    "    img_size = torch.tensor([target[\"img_size\"] for target in targets]).float()\n",
    "    img_scale = torch.tensor([target[\"img_scale\"] for target in targets]).float()\n",
    "\n",
    "    annotations = {\n",
    "        \"bbox\": boxes,\n",
    "        \"cls\": labels,\n",
    "        \"img_size\": img_size,\n",
    "        \"img_scale\": img_scale,\n",
    "    }\n",
    "\n",
    "    return images, annotations, targets, image_ids"
   ]
  },
  {
   "cell_type": "code",
   "execution_count": 18,
   "metadata": {
    "collapsed": false,
    "jupyter": {
     "outputs_hidden": false
    }
   },
   "outputs": [],
   "source": [
    "train_loader = DataLoader(\n",
    "    train_dataset,\n",
    "    batch_size=batch_size,\n",
    "    shuffle=True,\n",
    "    pin_memory=True,\n",
    "    drop_last=True,\n",
    "    num_workers=min(os.cpu_count(), 16),\n",
    "    collate_fn=collate_fn,\n",
    ")"
   ]
  },
  {
   "cell_type": "markdown",
   "metadata": {},
   "source": [
    "## Model"
   ]
  },
  {
   "cell_type": "code",
   "execution_count": 19,
   "metadata": {
    "tags": []
   },
   "outputs": [],
   "source": [
    "# from effdet.config.model_config import efficientdet_model_param_dict\n",
    "# list(efficientdet_model_param_dict.keys())"
   ]
  },
  {
   "cell_type": "code",
   "execution_count": 20,
   "metadata": {
    "collapsed": false,
    "jupyter": {
     "outputs_hidden": false
    }
   },
   "outputs": [
    {
     "name": "stdout",
     "output_type": "stream",
     "text": [
      "26374778\n"
     ]
    }
   ],
   "source": [
    "\n",
    "\n",
    "def get_det_model(image_size, checkpoint=None):\n",
    "    if checkpoint is None:\n",
    "\n",
    "        model = create_model(backbone , bench_task='train' , num_classes= 1 , image_size=(image_size, image_size), bench_labeler=True, pretrained=True)\n",
    "        model = model.to(device)\n",
    "        return model\n",
    "    else:\n",
    "        model = create_model(backbone , bench_task='train' , num_classes= 1 , image_size=(image_size, image_size), bench_labeler=True, pretrained=True)\n",
    "        state = torch.load(os.path.join(DATA_DIR, 'checkpoint', checkpoint), map_location=torch.device(device))\n",
    "        model.load_state_dict(state[\"model\"])\n",
    "        model = model.to(device)\n",
    "        return model\n",
    "\n",
    "model = get_det_model(IMAGE_SIZE, checkpoint)\n",
    "total_params = sum(p.numel() for p in model.parameters() if p.requires_grad)\n",
    "print(total_params)"
   ]
  },
  {
   "cell_type": "code",
   "execution_count": 21,
   "metadata": {},
   "outputs": [],
   "source": [
    "# class_out, box_out = model.model(img.unsqueeze(0).to(device))\n",
    "# anchors = Anchors.from_config(model.model.config).to(device)\n",
    "# decode_model_outputs(class_out, box_out, anchors, model.model.config.num_levels)"
   ]
  },
  {
   "cell_type": "code",
   "execution_count": 22,
   "metadata": {
    "tags": []
   },
   "outputs": [],
   "source": [
    "# val_model = DetBenchPredict(model.model).to(device)\n",
    "# val_model(img.unsqueeze(0).to(device))"
   ]
  },
  {
   "cell_type": "code",
   "execution_count": 23,
   "metadata": {
    "collapsed": false,
    "jupyter": {
     "outputs_hidden": false
    }
   },
   "outputs": [],
   "source": [
    "optimizer = torch.optim.AdamW(model.parameters(), lr=lr, weight_decay=wd)\n",
    "scaler = torch.cuda.amp.GradScaler(enabled=(device == 'cuda'))\n",
    "scheduler = optim.lr_scheduler.MultiStepLR(optimizer, milestones=milestones, gamma=0.5)\n",
    "# scheduler = optim.lr_scheduler.CosineAnnealingWarmRestarts(optimizer, T_0=10, T_mult=2)"
   ]
  },
  {
   "cell_type": "code",
   "execution_count": 24,
   "metadata": {
    "tags": []
   },
   "outputs": [],
   "source": [
    "from evaluate import *\n",
    "# evaluator = Evaluate(model.model, save_dir=os.path.join(DATA_DIR, 'predictions', wandb.run.name))\n",
    "\n",
    "# evaluator.evaluate(59)"
   ]
  },
  {
   "cell_type": "markdown",
   "metadata": {},
   "source": [
    "## Train one epoch"
   ]
  },
  {
   "cell_type": "code",
   "execution_count": 25,
   "metadata": {
    "collapsed": false,
    "jupyter": {
     "outputs_hidden": false
    }
   },
   "outputs": [],
   "source": [
    "def train_one_epoch(e, model, dataloader):\n",
    "    model.train()\n",
    "    train_iter = tqdm(dataloader)\n",
    "    loss_list = []\n",
    "    epoch_iteration = len(dataloader)\n",
    "\n",
    "    for i, (images, anns, _, _) in enumerate(train_iter):\n",
    "        images = images.to(device)\n",
    "        anns = {\n",
    "            'bbox' : [tensor.to(device) for tensor in anns['bbox']],\n",
    "            'cls' : [tensor.to(device) for tensor in anns['cls']],\n",
    "            'img_size' : anns['img_size'].to(device),\n",
    "            'img_scale' : anns['img_scale'].to(device)\n",
    "        }\n",
    "\n",
    "        with torch.cuda.amp.autocast(device == 'cuda'):\n",
    "            losses = model(images, anns)\n",
    "            loss, class_loss, box_loss = losses['loss'], losses['class_loss'], losses['box_loss']\n",
    "\n",
    "        optimizer.zero_grad()\n",
    "        scaler.scale(loss).backward()\n",
    "        nn.utils.clip_grad_norm_(model.parameters(), 1.)\n",
    "        scaler.step(optimizer)\n",
    "        scaler.update()\n",
    "        \n",
    "        scheduler.step(e + i / epoch_iteration)\n",
    "\n",
    "        train_iter.set_description(f\"t {e} loss {loss.item():.4f} c {class_loss.item():.4f} b {box_loss.item():.4f}\")\n",
    "\n",
    "        loss_list.append(loss.item())\n",
    "\n",
    "        if wandb.run is not None:\n",
    "            lr_logs = {f\"last_lr_{i}\": float(v) for i, v in enumerate(scheduler.get_last_lr())}\n",
    "            wandb.log({\n",
    "                'train_loss': loss.item(),\n",
    "                'train_class_loss': class_loss.item(),\n",
    "                'train_box_loss': box_loss.item(),\n",
    "                'epoch': e,\n",
    "                'train_iteration': i + e * epoch_iteration,\n",
    "                **lr_logs,\n",
    "            })\n",
    "            \n",
    "        \n",
    "#         if (i + e * epoch_iteration) % 100 == 0:\n",
    "#             # val_model = DetBenchPredict(model.model).to(device)\n",
    "#             val_model.eval()\n",
    "#             val_index = (e * epoch_iteration + i) // 100\n",
    "#             prediction = evaluate(e, val_model, val_index=val_index)\n",
    "            \n",
    "#             model.train()\n",
    "\n",
    "    return np.mean(loss_list)"
   ]
  },
  {
   "cell_type": "code",
   "execution_count": 26,
   "metadata": {},
   "outputs": [],
   "source": [
    "# val_UIDs = list(val_df.index.unique())\n",
    "# len(val_UIDs)"
   ]
  },
  {
   "cell_type": "code",
   "execution_count": 27,
   "metadata": {},
   "outputs": [],
   "source": [
    "class ValidationDataSet(torch.utils.data.Dataset):\n",
    "    def __init__(self, df, path, mask_path, transforms=None):\n",
    "        super().__init__()\n",
    "        self.df = df\n",
    "        self.path = path\n",
    "        self.mask_path = mask_path\n",
    "        self.transforms = transforms\n",
    "\n",
    "        self.len = len(self.df)\n",
    "\n",
    "    def __getitem__(self, i):\n",
    "\n",
    "        try:\n",
    "            s = self.df.iloc[i]\n",
    "            UID = s.name\n",
    "            img = Image.open(os.path.join(self.path, UID, f'{int(s.Slice)}.jpeg'))\n",
    "\n",
    "            mask = Image.open(os.path.join(self.mask_path, UID, f'{int(s.Slice)}.png'))\n",
    "            \n",
    "            if self.transforms is not None:\n",
    "                img, mask = self.transforms(img, mask)\n",
    "        except Exception as ex:\n",
    "            print(ex)\n",
    "            return None, None\n",
    "\n",
    "        return img, s.pixel_spacing, s.Slice == s.Start, s[['xmin','ymin','xmax','ymax']].values, mask\n",
    "\n",
    "    def __len__(self):\n",
    "        return self.len\n",
    "\n",
    "class ValidationTransform(nn.Module):\n",
    "    def __init__(self, image_size=512):\n",
    "        super().__init__()\n",
    "\n",
    "        self.image_size = image_size\n",
    "\n",
    "        self.transform = T.Compose([\n",
    "            T.Resize((image_size, image_size)),\n",
    "            T.ToTensor(),\n",
    "            T.Normalize(0.5, 0.5),\n",
    "        ])\n",
    "        \n",
    "        self.mask_transform = T.Compose([\n",
    "            T.ToTensor(),\n",
    "        ])\n",
    "\n",
    "    def forward(self, x, mask):\n",
    "        x = self.transform(x)\n",
    "        mask = self.mask_transform(mask)\n",
    "        return x, mask\n",
    "    \n",
    "# val_tf = ValidationTransform(IMAGE_SIZE)\n",
    "\n",
    "# UID = '1.2.826.0.1.3680043.10001'\n",
    "# evaluate_df = val_df.loc[UID].sort_values('Slice')\n",
    "# # evaluate_df.iloc[0]\n",
    "# # print(evaluate_df)\n",
    "# val_ds = ValidationDataSet(evaluate_df, IMAGES_DIR, MASK_DIR, transforms=val_tf)\n",
    "# # val_loader = DataLoader(val_ds, batch_size=batch_size, shuffle=False, num_workers=min(batch_size, 16))\n",
    "\n",
    "# # iter_d = iter(val_loader)\n",
    "# # next(iter_d)\n",
    "# # next(iter_d)\n",
    "# # next(iter_d)\n",
    "# img, pixel_spacing, is_end, bbox, mask = val_ds[138]\n",
    "# print(img.shape, bbox.shape, mask.shape)\n",
    "# print(mask.min(), mask.max())\n",
    "# print(bbox)\n",
    "# _, axs = plt.subplots(1, 2)\n",
    "# axs[0].imshow(img[0, :, :])\n",
    "# axs[1].imshow(mask[0, :, :])"
   ]
  },
  {
   "cell_type": "code",
   "execution_count": 28,
   "metadata": {},
   "outputs": [],
   "source": [
    "def get_bbox_class(seg, bbox):\n",
    "    \"\"\"\n",
    "    label 은 0.125 의 단위로, \n",
    "    seg: H x W\n",
    "    bbox: [xmin, ymin, xmax, ymax]\n",
    "    \"\"\"\n",
    "    xmin, ymin, xmax, ymax = bbox.int()\n",
    "    area = seg[ymin:ymax, xmin:xmax]\n",
    "    \n",
    "    # print(area)\n",
    "    result = torch.mean(area[area>0])\n",
    "    result = torch.round(result / 0.125)\n",
    "    \n",
    "    return result"
   ]
  },
  {
   "cell_type": "code",
   "execution_count": 29,
   "metadata": {},
   "outputs": [],
   "source": [
    "def get_bbox_class_list(seg_list, seg_bboxes):\n",
    "    class_list = []\n",
    "    for i in range(seg_list.shape[0]):\n",
    "        class_index = get_bbox_class(seg_list[i, :, :], seg_bboxes[i, :])\n",
    "        class_list.append(class_index)\n",
    "        \n",
    "    return torch.stack(class_list)"
   ]
  },
  {
   "cell_type": "code",
   "execution_count": 30,
   "metadata": {},
   "outputs": [],
   "source": [
    "# val_df.loc['1.2.826.0.1.3680043.10001'].sort_values('Slice')"
   ]
  },
  {
   "cell_type": "code",
   "execution_count": 31,
   "metadata": {
    "tags": []
   },
   "outputs": [],
   "source": [
    "\n",
    "\n",
    "def crop_resize_images(imgs_tensor, boundary_list, img_size=512):\n",
    "    croped_list = []\n",
    "    for i in range(imgs_tensor.shape[0]):\n",
    "        xmin, ymin, xmax, ymax = boundary_list[i, :]\n",
    "        xmin, ymin, xmax, ymax = int(xmin), int(ymin), int(xmax), int(ymax)\n",
    "        # print(xmin, ymin, xmax, ymax)\n",
    "        croped = TF.crop(imgs_tensor[i, :, :, :], top=ymin, left=xmin, height=ymax-ymin, width=xmax-xmin)\n",
    "        croped = TF.resize(croped, (img_size, img_size))\n",
    "        croped_list.append(croped)\n",
    "        \n",
    "    return torch.stack(croped_list, 0)\n",
    "\n",
    "def predict_det(x, model):\n",
    "    \n",
    "    bboxes = model(x) # N x 1 x 6\n",
    "    \n",
    "    return bboxes[:, 0, :]\n",
    "\n",
    "def get_original_bbox(bbox, boundary):\n",
    "    scale = 512. / (boundary[:, [2]] - boundary[:, [0]])\n",
    "    \n",
    "    org_bbox = bbox / scale\n",
    "    org_bbox[:, 0] += boundary[:, 0]\n",
    "    org_bbox[:, 1] += boundary[:, 1]\n",
    "    org_bbox[:, 2] += boundary[:, 0]\n",
    "    org_bbox[:, 3] += boundary[:, 1]\n",
    "    \n",
    "    return org_bbox\n",
    "\n",
    "def get_class_score(scores, class_list, eps=1e-2):\n",
    "    result = scores.new_zeros((scores.shape[0], 8)) + eps\n",
    "    class_list = torch.nan_to_num(class_list).long()\n",
    "    result[torch.arange(scores.shape[0]), class_list] = scores\n",
    "    \n",
    "    return result\n",
    "\n",
    "def cal_loss(prob, label):\n",
    "    \n",
    "    pos_weight = np.array([14, 2, 2, 2, 2, 2, 2, 2])\n",
    "    neg_weight = np.array([7, 1, 1, 1, 1, 1, 1, 1])\n",
    "    \n",
    "    score = pos_weight * label * np.log(prob) + neg_weight * (1 - label) * np.log(1 - prob)\n",
    "    \n",
    "    weight_total = pos_weight * label + neg_weight * (1 - label)\n",
    "    \n",
    "    return -score.sum() / weight_total.sum()\n",
    "\n",
    "\n",
    "# table_columns=['UID', 'loss', 'Predictions','Labels']\n",
    "# evaluate_table = wandb.Table(data=[], columns=table_columns)\n",
    "\n",
    "def log_prediction(UID, prediction):\n",
    "    # log\n",
    "    \n",
    "    \n",
    "    label = label_df.loc[UID].values\n",
    "    loss = cal_loss(prediction, label)\n",
    "   \n",
    "    # my_data = [UID, loss, prediction, label]\n",
    "    \n",
    "    # evaluate_table.add_data(*my_data)\n",
    "    \n",
    "    wandb.run.log({\n",
    "        # 'evaluate_table' : evaluate_table\n",
    "        'eval_sample_UID' : int(UID.split('.')[-1]),\n",
    "        'eval_sample_loss' : loss,\n",
    "    })\n",
    "    \n",
    "\n",
    "\n",
    "def evaluate(e, det_model, UID=None, val_index=None):\n",
    "    \n",
    "    if UID is None:\n",
    "        UID = val_UIDs[val_index]\n",
    "    \n",
    "    with torch.no_grad():\n",
    "        evaluate_df = val_df.loc[UID].sort_values('Slice')\n",
    "        # print(evaluate_df)\n",
    "        val_ds = ValidationDataSet(evaluate_df, IMAGES_DIR, MASK_DIR,val_tf)\n",
    "        val_loader = DataLoader(val_ds, batch_size=batch_size, shuffle=False, num_workers=min(batch_size, 16))\n",
    "\n",
    "        predictions = []\n",
    "        x0 = val_ds[0][0]\n",
    "        x1 = val_ds[1][0]\n",
    "        x0, x1 = x0.to(device), x1.to(device)\n",
    "        prev2 = torch.stack((x0, x1))\n",
    "\n",
    "        for x, pixel_spacings, is_starts, axial_boundary, seg_result in val_loader:\n",
    "            x = x.to(device)\n",
    "            \n",
    "\n",
    "            # (N+2), 1, 512, 512\n",
    "            x = torch.cat((prev2, x), dim=0)\n",
    "\n",
    "            r = x[:-2, :, :, :]\n",
    "            g = x[1:-1, :, :, :]\n",
    "            b = x[2:, :, :, :]\n",
    "\n",
    "            start_indices = torch.argwhere(is_starts)\n",
    "            r[start_indices, :, :, :] = b[start_indices, :, :, :]\n",
    "            g[start_indices, :, :, :] = b[start_indices, :, :, :]\n",
    "\n",
    "            prev2 = b[-2:, :, :, :]\n",
    "\n",
    "            x = torch.cat((r, g, b), dim=1)\n",
    "\n",
    "            batch_probs = x.new_zeros((x.shape[0], 8)) + 1e-2\n",
    "\n",
    "            seg_result = seg_result.to(device)\n",
    "            # seg_areas = seg_result.count_nonzero(dim=[1, 2, 3]) / (256 * 256)\n",
    "\n",
    "            # active_indices = torch.argwhere(seg_areas > 0.001)\n",
    "            active_indices = seg_result.nonzero()[:, 0].unique()\n",
    "\n",
    "            if active_indices.numel() == 0:\n",
    "                predictions.append(batch_probs.cpu())\n",
    "                continue\n",
    "\n",
    "            axial_boundary, seg_result = axial_boundary.to(device), seg_result.to(device)\n",
    "            active_indices = active_indices.reshape(-1)\n",
    "\n",
    "            if active_indices.numel() != batch_size:\n",
    "                x = x[active_indices, :, :, :]\n",
    "                seg_result = seg_result[active_indices, :, :, :]\n",
    "                pixel_spacings = pixel_spacings[active_indices]\n",
    "                axial_boundary = axial_boundary[active_indices]\n",
    "                \n",
    "\n",
    "\n",
    "            # axial_boundary = get_axial_boundary(seg_result, pixel_spacings, seg_img_size=256)  # N x 4, 512 scale\n",
    "\n",
    "            x = crop_resize_images(x, axial_boundary) # N x 3 x 512 x 512 croped\n",
    "\n",
    "\n",
    "            # for det_model in det_models:\n",
    "            det_result = predict_det(x, det_model)\n",
    "            bboxes, scores = get_original_bbox(det_result[:, :4], axial_boundary), det_result[:, 4]\n",
    "            class_list = get_bbox_class_list(seg_result[:, 0, :, :], bboxes / 2)\n",
    "            probs = get_class_score(scores, class_list) # N x 7\n",
    "\n",
    "            batch_probs[active_indices, :] = probs\n",
    "            # print(probs)\n",
    "            predictions.append(batch_probs.cpu())\n",
    "\n",
    "        predictions = torch.concat(predictions)\n",
    "      \n",
    "        # predictions[:, 0] = torch.amax(predictions, dim=1)\n",
    "        prediction = predictions.amax(dim=0)\n",
    "        prediction[0] = prediction[1:].amax()\n",
    "        # print(predictions)\n",
    "        # return predictions\n",
    "        \n",
    "        \n",
    "        if wandb.run is not None:\n",
    "            log_prediction(UID, prediction.numpy())\n",
    "        \n",
    "        \n",
    "        return prediction\n",
    "\n",
    "# val_model = DetBenchPredict(model.model).to(device)\n",
    "# val_model = val_model.eval()\n",
    "# prediction = evaluate(0, val_model)\n",
    "# prediction"
   ]
  },
  {
   "cell_type": "code",
   "execution_count": 32,
   "metadata": {},
   "outputs": [],
   "source": [
    "def save_state(epoch):\n",
    "    state = {\n",
    "        \"model\": model.state_dict(),\n",
    "        \"optimizer\": optimizer.state_dict(),\n",
    "        \"scheduler\": scheduler.state_dict(),\n",
    "        \"epoch\": epoch,\n",
    "    }\n",
    "    torch.save(state, os.path.join(DATA_DIR, f'checkpoint/{wandb.run.name}-epoch-{epoch}.pth'))\n"
   ]
  },
  {
   "cell_type": "code",
   "execution_count": 33,
   "metadata": {
    "collapsed": false,
    "jupyter": {
     "outputs_hidden": false
    }
   },
   "outputs": [],
   "source": [
    "epoch = 0\n"
   ]
  },
  {
   "cell_type": "code",
   "execution_count": 34,
   "metadata": {},
   "outputs": [],
   "source": [
    "from evaluate import *\n",
    "evaluator = Evaluate(model.model, save_dir=os.path.join(DATA_DIR, 'predictions', wandb.run.name))"
   ]
  },
  {
   "cell_type": "code",
   "execution_count": 35,
   "metadata": {},
   "outputs": [
    {
     "name": "stdout",
     "output_type": "stream",
     "text": [
      "test df length :  2819\n"
     ]
    },
    {
     "name": "stderr",
     "output_type": "stream",
     "text": [
      "100%|██████████| 177/177 [00:32<00:00,  5.42it/s]\n"
     ]
    },
    {
     "name": "stdout",
     "output_type": "stream",
     "text": [
      "loss :0.6531180457503825 pos_loss:0.12588019215524054 neg_loss:0.6283745990247567\n",
      "test df length :  2429\n"
     ]
    },
    {
     "name": "stderr",
     "output_type": "stream",
     "text": [
      "100%|██████████| 152/152 [00:25<00:00,  5.87it/s]\n"
     ]
    },
    {
     "name": "stdout",
     "output_type": "stream",
     "text": [
      "loss :0.5405492738230384 pos_loss:0.27684518331065805 neg_loss:0.3923200436031765\n",
      "test df length :  3430\n"
     ]
    },
    {
     "name": "stderr",
     "output_type": "stream",
     "text": [
      "100%|██████████| 215/215 [00:35<00:00,  6.04it/s]\n"
     ]
    },
    {
     "name": "stdout",
     "output_type": "stream",
     "text": [
      "loss :0.2788544568607351 pos_loss:0.2333834710807703 neg_loss:0.17400098032264943\n",
      "test df length :  2621\n"
     ]
    },
    {
     "name": "stderr",
     "output_type": "stream",
     "text": [
      "100%|██████████| 164/164 [00:27<00:00,  5.86it/s]\n"
     ]
    },
    {
     "name": "stdout",
     "output_type": "stream",
     "text": [
      "loss :0.625027263988316 pos_loss:0.32783344301950357 neg_loss:0.45843723205004555\n",
      "test df length :  2048\n"
     ]
    },
    {
     "name": "stderr",
     "output_type": "stream",
     "text": [
      "100%|██████████| 128/128 [00:22<00:00,  5.59it/s]\n"
     ]
    },
    {
     "name": "stdout",
     "output_type": "stream",
     "text": [
      "loss :0.1912095425794571 pos_loss:0.03147433351632403 neg_loss:0.5537274832524063\n",
      "test df length :  2473\n"
     ]
    },
    {
     "name": "stderr",
     "output_type": "stream",
     "text": [
      "100%|██████████| 155/155 [00:27<00:00,  5.74it/s]\n"
     ]
    },
    {
     "name": "stdout",
     "output_type": "stream",
     "text": [
      "loss :0.47311678764879234 pos_loss:0.242537542134768 neg_loss:0.29898078437222303\n",
      "test df length :  3029\n"
     ]
    },
    {
     "name": "stderr",
     "output_type": "stream",
     "text": [
      "100%|██████████| 190/190 [00:32<00:00,  5.78it/s]\n"
     ]
    },
    {
     "name": "stdout",
     "output_type": "stream",
     "text": [
      "loss :0.49739947867975876 pos_loss:0.5109885680939087 neg_loss:0.30190022603938227\n",
      "test df length :  3187\n"
     ]
    },
    {
     "name": "stderr",
     "output_type": "stream",
     "text": [
      "100%|██████████| 200/200 [00:35<00:00,  5.66it/s]\n"
     ]
    },
    {
     "name": "stdout",
     "output_type": "stream",
     "text": [
      "loss :0.3683514981281145 pos_loss:0.0006331118056154927 neg_loss:0.37546481512799185\n",
      "test df length :  2721\n"
     ]
    },
    {
     "name": "stderr",
     "output_type": "stream",
     "text": [
      "100%|██████████| 171/171 [00:33<00:00,  5.12it/s]\n"
     ]
    },
    {
     "name": "stdout",
     "output_type": "stream",
     "text": [
      "loss :0.291900796132484 pos_loss:0.23487106902811167 neg_loss:0.20054887958197865\n",
      "test df length :  2526\n"
     ]
    },
    {
     "name": "stderr",
     "output_type": "stream",
     "text": [
      "100%|██████████| 158/158 [00:28<00:00,  5.47it/s]\n"
     ]
    },
    {
     "name": "stdout",
     "output_type": "stream",
     "text": [
      "loss :0.7212410436162535 pos_loss:0.18769407513362138 neg_loss:0.6474098360708157\n",
      "test df length :  3001\n"
     ]
    },
    {
     "name": "stderr",
     "output_type": "stream",
     "text": [
      "100%|██████████| 188/188 [00:31<00:00,  5.91it/s]\n"
     ]
    },
    {
     "name": "stdout",
     "output_type": "stream",
     "text": [
      "loss :0.5130332176116918 pos_loss:0.6026121278486012 neg_loss:0.10503776306181141\n",
      "test df length :  2694\n"
     ]
    },
    {
     "name": "stderr",
     "output_type": "stream",
     "text": [
      "100%|██████████| 169/169 [00:30<00:00,  5.52it/s]\n"
     ]
    },
    {
     "name": "stdout",
     "output_type": "stream",
     "text": [
      "loss :0.8162295615057582 pos_loss:0.7957697271037156 neg_loss:0.3042507330718149\n",
      "test df length :  2526\n"
     ]
    },
    {
     "name": "stderr",
     "output_type": "stream",
     "text": [
      "100%|██████████| 158/158 [00:28<00:00,  5.60it/s]\n"
     ]
    },
    {
     "name": "stdout",
     "output_type": "stream",
     "text": [
      "loss :0.38272358867268796 pos_loss:0.28949922054683064 neg_loss:0.18769530291096767\n",
      "test df length :  2659\n"
     ]
    },
    {
     "name": "stderr",
     "output_type": "stream",
     "text": [
      "100%|██████████| 167/167 [00:29<00:00,  5.70it/s]\n"
     ]
    },
    {
     "name": "stdout",
     "output_type": "stream",
     "text": [
      "loss :0.2726729168056225 pos_loss:0.2601922317926372 neg_loss:0.2235041804441345\n",
      "test df length :  3048\n"
     ]
    },
    {
     "name": "stderr",
     "output_type": "stream",
     "text": [
      "100%|██████████| 191/191 [00:30<00:00,  6.36it/s]\n"
     ]
    },
    {
     "name": "stdout",
     "output_type": "stream",
     "text": [
      "loss :0.2576965998373358 pos_loss:0.028943463697369606 neg_loss:0.3488745586267862\n",
      "test df length :  3138\n"
     ]
    },
    {
     "name": "stderr",
     "output_type": "stream",
     "text": [
      "100%|██████████| 197/197 [00:33<00:00,  5.92it/s]\n"
     ]
    },
    {
     "name": "stdout",
     "output_type": "stream",
     "text": [
      "loss :0.288937962880271 pos_loss:0.22526331637175484 neg_loss:0.1981386051018278\n",
      "test df length :  3482\n"
     ]
    },
    {
     "name": "stderr",
     "output_type": "stream",
     "text": [
      "100%|██████████| 218/218 [00:38<00:00,  5.65it/s]\n"
     ]
    },
    {
     "name": "stdout",
     "output_type": "stream",
     "text": [
      "loss :0.3622617727844768 pos_loss:0.09723184677721317 neg_loss:0.4812688089926034\n",
      "test df length :  3003\n"
     ]
    },
    {
     "name": "stderr",
     "output_type": "stream",
     "text": [
      "100%|██████████| 188/188 [00:30<00:00,  6.20it/s]\n"
     ]
    },
    {
     "name": "stdout",
     "output_type": "stream",
     "text": [
      "loss :0.1798375296028224 pos_loss:0.04024073113466008 neg_loss:0.23918191463832972\n",
      "test df length :  2556\n"
     ]
    },
    {
     "name": "stderr",
     "output_type": "stream",
     "text": [
      "100%|██████████| 160/160 [00:28<00:00,  5.58it/s]\n"
     ]
    },
    {
     "name": "stdout",
     "output_type": "stream",
     "text": [
      "loss :0.7110357613508416 pos_loss:0.7559779590493099 neg_loss:0.3575417405966632\n",
      "test df length :  3294\n"
     ]
    },
    {
     "name": "stderr",
     "output_type": "stream",
     "text": [
      "100%|██████████| 206/206 [00:34<00:00,  5.93it/s]\n"
     ]
    },
    {
     "name": "stdout",
     "output_type": "stream",
     "text": [
      "loss :0.5826415627160678 pos_loss:0.5112027413823584 neg_loss:0.223728475863897\n",
      "test df length :  2654\n"
     ]
    },
    {
     "name": "stderr",
     "output_type": "stream",
     "text": [
      "100%|██████████| 166/166 [00:28<00:00,  5.77it/s]\n"
     ]
    },
    {
     "name": "stdout",
     "output_type": "stream",
     "text": [
      "loss :0.2887765476783819 pos_loss:0.269627109982823 neg_loss:0.10735122630051096\n",
      "test df length :  3168\n"
     ]
    },
    {
     "name": "stderr",
     "output_type": "stream",
     "text": [
      "100%|██████████| 198/198 [00:32<00:00,  6.03it/s]\n"
     ]
    },
    {
     "name": "stdout",
     "output_type": "stream",
     "text": [
      "loss :0.578482740100845 pos_loss:0.6098429065644799 neg_loss:0.17373040328303443\n",
      "test df length :  2911\n"
     ]
    },
    {
     "name": "stderr",
     "output_type": "stream",
     "text": [
      "100%|██████████| 182/182 [00:30<00:00,  5.90it/s]\n"
     ]
    },
    {
     "name": "stdout",
     "output_type": "stream",
     "text": [
      "loss :0.21487112002861164 pos_loss:0.01679536448081729 neg_loss:0.4779722261583571\n",
      "test df length :  2431\n"
     ]
    },
    {
     "name": "stderr",
     "output_type": "stream",
     "text": [
      "100%|██████████| 152/152 [00:28<00:00,  5.42it/s]\n"
     ]
    },
    {
     "name": "stdout",
     "output_type": "stream",
     "text": [
      "loss :0.23461143158485445 pos_loss:0.016255431460128353 neg_loss:0.31900921180525754\n",
      "test df length :  2521\n"
     ]
    },
    {
     "name": "stderr",
     "output_type": "stream",
     "text": [
      "100%|██████████| 158/158 [00:29<00:00,  5.45it/s]\n"
     ]
    },
    {
     "name": "stdout",
     "output_type": "stream",
     "text": [
      "loss :0.1864618589257362 pos_loss:0.007756407573255133 neg_loss:0.1924055249909976\n",
      "test df length :  2531\n"
     ]
    },
    {
     "name": "stderr",
     "output_type": "stream",
     "text": [
      "100%|██████████| 159/159 [00:27<00:00,  5.80it/s]\n"
     ]
    },
    {
     "name": "stdout",
     "output_type": "stream",
     "text": [
      "loss :0.44649194815685295 pos_loss:0.31301637821872513 neg_loss:0.25087790000160326\n",
      "test df length :  2819\n"
     ]
    },
    {
     "name": "stderr",
     "output_type": "stream",
     "text": [
      "100%|██████████| 177/177 [00:29<00:00,  6.06it/s]\n"
     ]
    },
    {
     "name": "stdout",
     "output_type": "stream",
     "text": [
      "loss :0.1257473165531998 pos_loss:0.03266259285903183 neg_loss:0.12711375742197345\n",
      "test df length :  2699\n"
     ]
    },
    {
     "name": "stderr",
     "output_type": "stream",
     "text": [
      "100%|██████████| 169/169 [00:27<00:00,  6.04it/s]\n"
     ]
    },
    {
     "name": "stdout",
     "output_type": "stream",
     "text": [
      "loss :0.623132167937675 pos_loss:0.43066124305113485 neg_loss:0.46525984473862503\n",
      "test df length :  2750\n"
     ]
    },
    {
     "name": "stderr",
     "output_type": "stream",
     "text": [
      "100%|██████████| 172/172 [00:28<00:00,  5.97it/s]\n"
     ]
    },
    {
     "name": "stdout",
     "output_type": "stream",
     "text": [
      "loss :0.11565881886586278 pos_loss:0.03207270586905405 neg_loss:0.26725474871448884\n",
      "test df length :  3611\n"
     ]
    },
    {
     "name": "stderr",
     "output_type": "stream",
     "text": [
      "100%|██████████| 226/226 [00:39<00:00,  5.73it/s]\n"
     ]
    },
    {
     "name": "stdout",
     "output_type": "stream",
     "text": [
      "loss :0.35052452152882185 pos_loss:0.29423259406374247 neg_loss:0.19681015825531228\n",
      "test df length :  2467\n"
     ]
    },
    {
     "name": "stderr",
     "output_type": "stream",
     "text": [
      "100%|██████████| 155/155 [00:26<00:00,  5.91it/s]\n"
     ]
    },
    {
     "name": "stdout",
     "output_type": "stream",
     "text": [
      "loss :0.5652103123639554 pos_loss:0.34789427636768183 neg_loss:0.36941576282394867\n",
      "test df length :  2869\n"
     ]
    },
    {
     "name": "stderr",
     "output_type": "stream",
     "text": [
      "100%|██████████| 180/180 [00:30<00:00,  5.87it/s]\n"
     ]
    },
    {
     "name": "stdout",
     "output_type": "stream",
     "text": [
      "loss :0.5009699290154743 pos_loss:0.3642579762283959 neg_loss:0.29895561335158327\n",
      "test df length :  2931\n"
     ]
    },
    {
     "name": "stderr",
     "output_type": "stream",
     "text": [
      "100%|██████████| 184/184 [00:30<00:00,  6.07it/s]\n"
     ]
    },
    {
     "name": "stdout",
     "output_type": "stream",
     "text": [
      "loss :0.4467074574914749 pos_loss:0.18323245550291936 neg_loss:0.3482658194660195\n",
      "test df length :  2808\n"
     ]
    },
    {
     "name": "stderr",
     "output_type": "stream",
     "text": [
      "100%|██████████| 176/176 [00:31<00:00,  5.51it/s]\n"
     ]
    },
    {
     "name": "stdout",
     "output_type": "stream",
     "text": [
      "loss :0.5716953064343089 pos_loss:0.0903353272987378 neg_loss:0.5758936923208001\n",
      "test df length :  2640\n"
     ]
    },
    {
     "name": "stderr",
     "output_type": "stream",
     "text": [
      "100%|██████████| 165/165 [00:29<00:00,  5.66it/s]\n"
     ]
    },
    {
     "name": "stdout",
     "output_type": "stream",
     "text": [
      "loss :0.6587178558529331 pos_loss:0.31715592470154413 neg_loss:0.510548698721221\n",
      "test df length :  3371\n"
     ]
    },
    {
     "name": "stderr",
     "output_type": "stream",
     "text": [
      "100%|██████████| 211/211 [00:34<00:00,  6.04it/s]\n"
     ]
    },
    {
     "name": "stdout",
     "output_type": "stream",
     "text": [
      "loss :0.0961712799751187 pos_loss:0.030061761177457298 neg_loss:0.12409487097075078\n",
      "test df length :  3333\n"
     ]
    },
    {
     "name": "stderr",
     "output_type": "stream",
     "text": [
      "100%|██████████| 209/209 [00:34<00:00,  6.08it/s]\n"
     ]
    },
    {
     "name": "stdout",
     "output_type": "stream",
     "text": [
      "loss :0.3383677701472293 pos_loss:0.2401350392915523 neg_loss:0.20143126533892233\n",
      "test df length :  2277\n"
     ]
    },
    {
     "name": "stderr",
     "output_type": "stream",
     "text": [
      "100%|██████████| 143/143 [00:28<00:00,  5.05it/s]\n"
     ]
    },
    {
     "name": "stdout",
     "output_type": "stream",
     "text": [
      "loss :0.3896197088413521 pos_loss:0.08403729198103521 neg_loss:0.4503457812059176\n",
      "test df length :  2612\n"
     ]
    },
    {
     "name": "stderr",
     "output_type": "stream",
     "text": [
      "100%|██████████| 164/164 [00:29<00:00,  5.53it/s]\n"
     ]
    },
    {
     "name": "stdout",
     "output_type": "stream",
     "text": [
      "loss :0.6471616672115423 pos_loss:0.5960075595746598 neg_loss:0.4507067977134136\n",
      "test df length :  2907\n"
     ]
    },
    {
     "name": "stderr",
     "output_type": "stream",
     "text": [
      "100%|██████████| 182/182 [00:31<00:00,  5.77it/s]\n"
     ]
    },
    {
     "name": "stdout",
     "output_type": "stream",
     "text": [
      "loss :0.4242097622706589 pos_loss:0.3996698778207124 neg_loss:0.1607690694018512\n",
      "test df length :  3131\n"
     ]
    },
    {
     "name": "stderr",
     "output_type": "stream",
     "text": [
      "100%|██████████| 196/196 [00:32<00:00,  6.01it/s]\n"
     ]
    },
    {
     "name": "stdout",
     "output_type": "stream",
     "text": [
      "loss :0.37908176313257036 pos_loss:0.1940093684005916 neg_loss:0.41445436885149195\n",
      "test df length :  3348\n"
     ]
    },
    {
     "name": "stderr",
     "output_type": "stream",
     "text": [
      "100%|██████████| 210/210 [00:34<00:00,  6.13it/s]\n"
     ]
    },
    {
     "name": "stdout",
     "output_type": "stream",
     "text": [
      "loss :0.35948270620299744 pos_loss:0.15142984125907297 neg_loss:0.37674662052234853\n",
      "test df length :  3648\n"
     ]
    },
    {
     "name": "stderr",
     "output_type": "stream",
     "text": [
      "100%|██████████| 228/228 [00:39<00:00,  5.81it/s]\n"
     ]
    },
    {
     "name": "stdout",
     "output_type": "stream",
     "text": [
      "loss :0.18885131097586172 pos_loss:0.00263528036868493 neg_loss:0.19030610269328205\n",
      "test df length :  3176\n"
     ]
    },
    {
     "name": "stderr",
     "output_type": "stream",
     "text": [
      "100%|██████████| 199/199 [00:32<00:00,  6.12it/s]\n"
     ]
    },
    {
     "name": "stdout",
     "output_type": "stream",
     "text": [
      "loss :0.2927785253442534 pos_loss:0.11024884972032283 neg_loss:0.23754364649205284\n",
      "test df length :  2493\n"
     ]
    },
    {
     "name": "stderr",
     "output_type": "stream",
     "text": [
      "100%|██████████| 156/156 [00:30<00:00,  5.19it/s]\n"
     ]
    },
    {
     "name": "stdout",
     "output_type": "stream",
     "text": [
      "loss :0.25988110230035844 pos_loss:0.26258424739861796 neg_loss:0.1553536121265895\n",
      "test df length :  2155\n"
     ]
    },
    {
     "name": "stderr",
     "output_type": "stream",
     "text": [
      "100%|██████████| 135/135 [00:24<00:00,  5.57it/s]\n"
     ]
    },
    {
     "name": "stdout",
     "output_type": "stream",
     "text": [
      "loss :0.2741314186955307 pos_loss:0.23659514787252015 neg_loss:0.2637826468932567\n",
      "test df length :  2924\n"
     ]
    },
    {
     "name": "stderr",
     "output_type": "stream",
     "text": [
      "100%|██████████| 183/183 [00:28<00:00,  6.37it/s]\n"
     ]
    },
    {
     "name": "stdout",
     "output_type": "stream",
     "text": [
      "loss :0.6066395293203571 pos_loss:0.3203638136691514 neg_loss:0.5086590834643516\n",
      "test df length :  3051\n"
     ]
    },
    {
     "name": "stderr",
     "output_type": "stream",
     "text": [
      "100%|██████████| 191/191 [00:33<00:00,  5.74it/s]\n"
     ]
    },
    {
     "name": "stdout",
     "output_type": "stream",
     "text": [
      "loss :0.4116288867600213 pos_loss:0.3778620775967925 neg_loss:0.1564786663210851\n",
      "test df length :  3400\n"
     ]
    },
    {
     "name": "stderr",
     "output_type": "stream",
     "text": [
      "100%|██████████| 213/213 [00:34<00:00,  6.16it/s]\n"
     ]
    },
    {
     "name": "stdout",
     "output_type": "stream",
     "text": [
      "loss :0.5266971336352615 pos_loss:0.15362740493350685 neg_loss:0.42818939752716273\n",
      "test df length :  2781\n"
     ]
    },
    {
     "name": "stderr",
     "output_type": "stream",
     "text": [
      "100%|██████████| 174/174 [00:30<00:00,  5.64it/s]\n"
     ]
    },
    {
     "name": "stdout",
     "output_type": "stream",
     "text": [
      "loss :0.36747631753933907 pos_loss:0.20957798336401473 neg_loss:0.2504029043605015\n",
      "test df length :  3374\n"
     ]
    },
    {
     "name": "stderr",
     "output_type": "stream",
     "text": [
      "100%|██████████| 211/211 [00:35<00:00,  5.86it/s]\n"
     ]
    },
    {
     "name": "stdout",
     "output_type": "stream",
     "text": [
      "loss :0.3149653926984864 pos_loss:0.2004967312246948 neg_loss:0.3475613733591883\n",
      "test df length :  3081\n"
     ]
    },
    {
     "name": "stderr",
     "output_type": "stream",
     "text": [
      "100%|██████████| 193/193 [00:32<00:00,  5.87it/s]\n"
     ]
    },
    {
     "name": "stdout",
     "output_type": "stream",
     "text": [
      "loss :0.3000814754488672 pos_loss:0.13953102984524912 neg_loss:0.2743743772578273\n",
      "test df length :  3143\n"
     ]
    },
    {
     "name": "stderr",
     "output_type": "stream",
     "text": [
      "100%|██████████| 197/197 [00:31<00:00,  6.31it/s]\n"
     ]
    },
    {
     "name": "stdout",
     "output_type": "stream",
     "text": [
      "loss :0.38588190013507273 pos_loss:0.31662722245577346 neg_loss:0.18794305785615995\n",
      "test df length :  2694\n"
     ]
    },
    {
     "name": "stderr",
     "output_type": "stream",
     "text": [
      "100%|██████████| 169/169 [00:27<00:00,  6.07it/s]\n"
     ]
    },
    {
     "name": "stdout",
     "output_type": "stream",
     "text": [
      "loss :0.4519174434571003 pos_loss:0.08891232135265673 neg_loss:0.41660863469630893\n",
      "test df length :  2647\n"
     ]
    },
    {
     "name": "stderr",
     "output_type": "stream",
     "text": [
      "100%|██████████| 166/166 [00:27<00:00,  6.07it/s]\n"
     ]
    },
    {
     "name": "stdout",
     "output_type": "stream",
     "text": [
      "loss :0.23595063623748477 pos_loss:0.22285980885561474 neg_loss:0.08442370253539092\n",
      "test df length :  2542\n"
     ]
    },
    {
     "name": "stderr",
     "output_type": "stream",
     "text": [
      "100%|██████████| 159/159 [00:27<00:00,  5.69it/s]\n"
     ]
    },
    {
     "name": "stdout",
     "output_type": "stream",
     "text": [
      "loss :0.4071607432540576 pos_loss:0.15257858774741503 neg_loss:0.3689190576911039\n",
      "test df length :  2863\n"
     ]
    },
    {
     "name": "stderr",
     "output_type": "stream",
     "text": [
      "100%|██████████| 179/179 [00:30<00:00,  5.78it/s]\n"
     ]
    },
    {
     "name": "stdout",
     "output_type": "stream",
     "text": [
      "loss :0.23800908540110627 pos_loss:0.20362892105841723 neg_loss:0.12636164033903258\n",
      "test df length :  2231\n"
     ]
    },
    {
     "name": "stderr",
     "output_type": "stream",
     "text": [
      "100%|██████████| 140/140 [00:26<00:00,  5.31it/s]\n"
     ]
    },
    {
     "name": "stdout",
     "output_type": "stream",
     "text": [
      "loss :0.33549375834452216 pos_loss:0.06544972092055269 neg_loss:0.37545261217952985\n",
      "test df length :  2456\n"
     ]
    },
    {
     "name": "stderr",
     "output_type": "stream",
     "text": [
      "100%|██████████| 154/154 [00:28<00:00,  5.50it/s]\n"
     ]
    },
    {
     "name": "stdout",
     "output_type": "stream",
     "text": [
      "loss :0.3033339897247769 pos_loss:0.0008626850903426355 neg_loss:0.3079874507961288\n",
      "test df length :  3110\n"
     ]
    },
    {
     "name": "stderr",
     "output_type": "stream",
     "text": [
      "100%|██████████| 195/195 [00:32<00:00,  5.93it/s]\n"
     ]
    },
    {
     "name": "stdout",
     "output_type": "stream",
     "text": [
      "loss :0.2515355360646967 pos_loss:0.16242118103871542 neg_loss:0.27803030751631314\n",
      "test df length :  2443\n"
     ]
    },
    {
     "name": "stderr",
     "output_type": "stream",
     "text": [
      "100%|██████████| 153/153 [00:28<00:00,  5.46it/s]\n"
     ]
    },
    {
     "name": "stdout",
     "output_type": "stream",
     "text": [
      "loss :0.13984579320822016 pos_loss:0.09353691457035658 neg_loss:0.11695484858256455\n",
      "test df length :  2646\n"
     ]
    },
    {
     "name": "stderr",
     "output_type": "stream",
     "text": [
      "100%|██████████| 166/166 [00:29<00:00,  5.71it/s]\n"
     ]
    },
    {
     "name": "stdout",
     "output_type": "stream",
     "text": [
      "loss :0.2764290790308902 pos_loss:0.19112505387493103 neg_loss:0.24524269509893998\n",
      "test df length :  3181\n"
     ]
    },
    {
     "name": "stderr",
     "output_type": "stream",
     "text": [
      "100%|██████████| 199/199 [00:32<00:00,  6.13it/s]\n"
     ]
    },
    {
     "name": "stdout",
     "output_type": "stream",
     "text": [
      "loss :0.563423903896451 pos_loss:0.4641721273800471 neg_loss:0.28441964922821916\n",
      "test df length :  2323\n"
     ]
    },
    {
     "name": "stderr",
     "output_type": "stream",
     "text": [
      "100%|██████████| 146/146 [00:26<00:00,  5.53it/s]\n"
     ]
    },
    {
     "name": "stdout",
     "output_type": "stream",
     "text": [
      "loss :0.6740388614493991 pos_loss:0.5060807371250207 neg_loss:0.40891318890508455\n",
      "test df length :  3020\n"
     ]
    },
    {
     "name": "stderr",
     "output_type": "stream",
     "text": [
      "100%|██████████| 189/189 [00:31<00:00,  6.03it/s]\n"
     ]
    },
    {
     "name": "stdout",
     "output_type": "stream",
     "text": [
      "loss :0.39823428011429796 pos_loss:0.3809008307051269 neg_loss:0.15178901078967777\n",
      "test df length :  2539\n"
     ]
    },
    {
     "name": "stderr",
     "output_type": "stream",
     "text": [
      "100%|██████████| 159/159 [00:29<00:00,  5.37it/s]\n"
     ]
    },
    {
     "name": "stdout",
     "output_type": "stream",
     "text": [
      "loss :0.6005766727315948 pos_loss:0.28970985308490604 neg_loss:0.45107796552527235\n",
      "test df length :  2618\n"
     ]
    },
    {
     "name": "stderr",
     "output_type": "stream",
     "text": [
      "100%|██████████| 164/164 [00:28<00:00,  5.69it/s]\n"
     ]
    },
    {
     "name": "stdout",
     "output_type": "stream",
     "text": [
      "loss :0.2813140757426511 pos_loss:0.25881651106576764 neg_loss:0.21489729659902926\n",
      "test df length :  2905\n"
     ]
    },
    {
     "name": "stderr",
     "output_type": "stream",
     "text": [
      "100%|██████████| 182/182 [00:32<00:00,  5.57it/s]\n"
     ]
    },
    {
     "name": "stdout",
     "output_type": "stream",
     "text": [
      "loss :0.33100957856877067 pos_loss:0.09944014742795368 neg_loss:0.29222179172571894\n",
      "test df length :  2084\n"
     ]
    },
    {
     "name": "stderr",
     "output_type": "stream",
     "text": [
      "100%|██████████| 131/131 [00:26<00:00,  5.01it/s]\n"
     ]
    },
    {
     "name": "stdout",
     "output_type": "stream",
     "text": [
      "loss :0.33545462269783505 pos_loss:0.07478757644536074 neg_loss:0.36620723781702647\n",
      "test df length :  3213\n"
     ]
    },
    {
     "name": "stderr",
     "output_type": "stream",
     "text": [
      "100%|██████████| 201/201 [00:34<00:00,  5.82it/s]\n"
     ]
    },
    {
     "name": "stdout",
     "output_type": "stream",
     "text": [
      "loss :0.3200895807769319 pos_loss:0.07747726700715775 neg_loss:0.28412136972603413\n",
      "test df length :  2637\n"
     ]
    },
    {
     "name": "stderr",
     "output_type": "stream",
     "text": [
      "100%|██████████| 165/165 [00:30<00:00,  5.46it/s]\n"
     ]
    },
    {
     "name": "stdout",
     "output_type": "stream",
     "text": [
      "loss :0.19311906987767538 pos_loss:0.12410847107871391 neg_loss:0.18787637766002346\n",
      "test df length :  2911\n"
     ]
    },
    {
     "name": "stderr",
     "output_type": "stream",
     "text": [
      "100%|██████████| 182/182 [00:31<00:00,  5.76it/s]\n"
     ]
    },
    {
     "name": "stdout",
     "output_type": "stream",
     "text": [
      "loss :0.1602754113854018 pos_loss:0.06046333419712481 neg_loss:0.13170604253087492\n",
      "test df length :  2732\n"
     ]
    },
    {
     "name": "stderr",
     "output_type": "stream",
     "text": [
      "100%|██████████| 171/171 [00:29<00:00,  5.71it/s]\n"
     ]
    },
    {
     "name": "stdout",
     "output_type": "stream",
     "text": [
      "loss :0.2705869283040374 pos_loss:0.165638530745986 neg_loss:0.23607187578112254\n",
      "test df length :  3081\n"
     ]
    },
    {
     "name": "stderr",
     "output_type": "stream",
     "text": [
      "100%|██████████| 193/193 [00:32<00:00,  5.85it/s]\n"
     ]
    },
    {
     "name": "stdout",
     "output_type": "stream",
     "text": [
      "loss :0.4538708719163479 pos_loss:0.33313134113973275 neg_loss:0.30958794902577563\n",
      "test df length :  2898\n"
     ]
    },
    {
     "name": "stderr",
     "output_type": "stream",
     "text": [
      "100%|██████████| 182/182 [00:30<00:00,  6.01it/s]\n"
     ]
    },
    {
     "name": "stdout",
     "output_type": "stream",
     "text": [
      "loss :0.5258768123258964 pos_loss:0.29063415339301335 neg_loss:0.37872168322735056\n",
      "test df length :  2975\n"
     ]
    },
    {
     "name": "stderr",
     "output_type": "stream",
     "text": [
      "100%|██████████| 186/186 [00:32<00:00,  5.73it/s]\n"
     ]
    },
    {
     "name": "stdout",
     "output_type": "stream",
     "text": [
      "loss :0.21339355655208297 pos_loss:0.0959879005942491 neg_loss:0.29003809252801915\n",
      "test df length :  3123\n"
     ]
    },
    {
     "name": "stderr",
     "output_type": "stream",
     "text": [
      "100%|██████████| 196/196 [00:34<00:00,  5.67it/s]\n"
     ]
    },
    {
     "name": "stdout",
     "output_type": "stream",
     "text": [
      "loss :0.19934805201792893 pos_loss:0.03239423909487767 neg_loss:0.30264564616652084\n",
      "test df length :  3345\n"
     ]
    },
    {
     "name": "stderr",
     "output_type": "stream",
     "text": [
      "100%|██████████| 210/210 [00:37<00:00,  5.67it/s]\n"
     ]
    },
    {
     "name": "stdout",
     "output_type": "stream",
     "text": [
      "loss :0.4901519438619823 pos_loss:0.4574314848728887 neg_loss:0.21889621710242907\n",
      "test df length :  3023\n"
     ]
    },
    {
     "name": "stderr",
     "output_type": "stream",
     "text": [
      "100%|██████████| 189/189 [00:29<00:00,  6.37it/s]\n"
     ]
    },
    {
     "name": "stdout",
     "output_type": "stream",
     "text": [
      "loss :0.37408035078657453 pos_loss:0.0021940041332065715 neg_loss:0.3869475031092662\n",
      "test df length :  2438\n"
     ]
    },
    {
     "name": "stderr",
     "output_type": "stream",
     "text": [
      "100%|██████████| 153/153 [00:27<00:00,  5.47it/s]\n"
     ]
    },
    {
     "name": "stdout",
     "output_type": "stream",
     "text": [
      "loss :0.3310317282236859 pos_loss:0.03908086148777728 neg_loss:0.38638801149038493\n",
      "test df length :  2996\n"
     ]
    },
    {
     "name": "stderr",
     "output_type": "stream",
     "text": [
      "100%|██████████| 188/188 [00:37<00:00,  5.08it/s]\n"
     ]
    },
    {
     "name": "stdout",
     "output_type": "stream",
     "text": [
      "loss :0.470621214876232 pos_loss:0.18615900619191217 neg_loss:0.42331037842959246\n",
      "test df length :  2162\n"
     ]
    },
    {
     "name": "stderr",
     "output_type": "stream",
     "text": [
      "100%|██████████| 136/136 [00:25<00:00,  5.43it/s]\n"
     ]
    },
    {
     "name": "stdout",
     "output_type": "stream",
     "text": [
      "loss :0.4002103764819913 pos_loss:0.20359602857211861 neg_loss:0.3495324637181054\n",
      "test df length :  3255\n"
     ]
    },
    {
     "name": "stderr",
     "output_type": "stream",
     "text": [
      "100%|██████████| 204/204 [00:34<00:00,  5.93it/s]\n"
     ]
    },
    {
     "name": "stdout",
     "output_type": "stream",
     "text": [
      "loss :0.6783295227544804 pos_loss:0.446886805790597 neg_loss:0.5339577205319553\n",
      "test df length :  2700\n"
     ]
    },
    {
     "name": "stderr",
     "output_type": "stream",
     "text": [
      "100%|██████████| 169/169 [00:30<00:00,  5.60it/s]\n"
     ]
    },
    {
     "name": "stdout",
     "output_type": "stream",
     "text": [
      "loss :0.4803820903834688 pos_loss:0.42301618267950614 neg_loss:0.23405893517392834\n",
      "test df length :  3173\n"
     ]
    },
    {
     "name": "stderr",
     "output_type": "stream",
     "text": [
      "100%|██████████| 199/199 [00:35<00:00,  5.67it/s]\n"
     ]
    },
    {
     "name": "stdout",
     "output_type": "stream",
     "text": [
      "loss :0.5641945171127406 pos_loss:0.08789645942697467 neg_loss:0.5794886305036568\n",
      "test df length :  2139\n"
     ]
    },
    {
     "name": "stderr",
     "output_type": "stream",
     "text": [
      "100%|██████████| 134/134 [00:25<00:00,  5.34it/s]\n"
     ]
    },
    {
     "name": "stdout",
     "output_type": "stream",
     "text": [
      "loss :0.19540888385114275 pos_loss:0.1847392526080213 neg_loss:0.11800109840662515\n",
      "test df length :  2647\n"
     ]
    },
    {
     "name": "stderr",
     "output_type": "stream",
     "text": [
      "100%|██████████| 166/166 [00:28<00:00,  5.75it/s]\n"
     ]
    },
    {
     "name": "stdout",
     "output_type": "stream",
     "text": [
      "loss :0.5354914672562381 pos_loss:0.40762387027278996 neg_loss:0.2852288987084742\n",
      "test df length :  2186\n"
     ]
    },
    {
     "name": "stderr",
     "output_type": "stream",
     "text": [
      "100%|██████████| 137/137 [00:23<00:00,  5.79it/s]\n"
     ]
    },
    {
     "name": "stdout",
     "output_type": "stream",
     "text": [
      "loss :0.21671691521179753 pos_loss:0.07825292436848258 neg_loss:0.25889397156604144\n",
      "test df length :  2921\n"
     ]
    },
    {
     "name": "stderr",
     "output_type": "stream",
     "text": [
      "100%|██████████| 183/183 [00:31<00:00,  5.82it/s]\n"
     ]
    },
    {
     "name": "stdout",
     "output_type": "stream",
     "text": [
      "loss :0.19149713227888204 pos_loss:0.11676769050971032 neg_loss:0.12644190785775267\n",
      "test df length :  2493\n"
     ]
    },
    {
     "name": "stderr",
     "output_type": "stream",
     "text": [
      "100%|██████████| 156/156 [00:28<00:00,  5.54it/s]\n"
     ]
    },
    {
     "name": "stdout",
     "output_type": "stream",
     "text": [
      "loss :0.5607749707468999 pos_loss:0.46555504524095076 neg_loss:0.30966617543166525\n",
      "test df length :  2595\n"
     ]
    },
    {
     "name": "stderr",
     "output_type": "stream",
     "text": [
      "100%|██████████| 163/163 [00:28<00:00,  5.72it/s]\n"
     ]
    },
    {
     "name": "stdout",
     "output_type": "stream",
     "text": [
      "loss :0.2527214010967663 pos_loss:0.12956734359165498 neg_loss:0.2024241943489553\n",
      "test df length :  3144\n"
     ]
    },
    {
     "name": "stderr",
     "output_type": "stream",
     "text": [
      "100%|██████████| 197/197 [00:32<00:00,  5.99it/s]\n"
     ]
    },
    {
     "name": "stdout",
     "output_type": "stream",
     "text": [
      "loss :0.3350249560468871 pos_loss:0.0660997521767942 neg_loss:0.4158693567661729\n",
      "test df length :  3156\n"
     ]
    },
    {
     "name": "stderr",
     "output_type": "stream",
     "text": [
      "100%|██████████| 198/198 [00:36<00:00,  5.50it/s]\n"
     ]
    },
    {
     "name": "stdout",
     "output_type": "stream",
     "text": [
      "loss :0.36242012429939363 pos_loss:0.2936788638597232 neg_loss:0.26298092507611553\n",
      "test df length :  3205\n"
     ]
    },
    {
     "name": "stderr",
     "output_type": "stream",
     "text": [
      "100%|██████████| 201/201 [00:35<00:00,  5.74it/s]\n"
     ]
    },
    {
     "name": "stdout",
     "output_type": "stream",
     "text": [
      "loss :0.44282570049617087 pos_loss:0.29735988198189467 neg_loss:0.33279813077541864\n",
      "test df length :  3377\n"
     ]
    },
    {
     "name": "stderr",
     "output_type": "stream",
     "text": [
      "100%|██████████| 212/212 [00:35<00:00,  6.02it/s]\n"
     ]
    },
    {
     "name": "stdout",
     "output_type": "stream",
     "text": [
      "loss :0.2145646752354193 pos_loss:0.018514946101938823 neg_loss:0.23535576669054817\n",
      "test df length :  2944\n"
     ]
    },
    {
     "name": "stderr",
     "output_type": "stream",
     "text": [
      "100%|██████████| 184/184 [00:32<00:00,  5.69it/s]\n"
     ]
    },
    {
     "name": "stdout",
     "output_type": "stream",
     "text": [
      "loss :0.33930102992591504 pos_loss:0.09981387697232365 neg_loss:0.8527826300325015\n",
      "test df length :  3018\n"
     ]
    },
    {
     "name": "stderr",
     "output_type": "stream",
     "text": [
      "100%|██████████| 189/189 [00:33<00:00,  5.72it/s]\n"
     ]
    },
    {
     "name": "stdout",
     "output_type": "stream",
     "text": [
      "loss :0.19961984043419806 pos_loss:0.10773559475826111 neg_loss:0.1316409406703164\n",
      "test df length :  2904\n"
     ]
    },
    {
     "name": "stderr",
     "output_type": "stream",
     "text": [
      "100%|██████████| 182/182 [00:32<00:00,  5.65it/s]\n"
     ]
    },
    {
     "name": "stdout",
     "output_type": "stream",
     "text": [
      "loss :0.29406635912097584 pos_loss:0.17752310609619135 neg_loss:0.20668948636649453\n",
      "test df length :  2686\n"
     ]
    },
    {
     "name": "stderr",
     "output_type": "stream",
     "text": [
      "100%|██████████| 168/168 [00:28<00:00,  5.83it/s]\n"
     ]
    },
    {
     "name": "stdout",
     "output_type": "stream",
     "text": [
      "loss :0.27752459603835167 pos_loss:0.134689793620761 neg_loss:0.2120881151665866\n",
      "test df length :  2926\n"
     ]
    },
    {
     "name": "stderr",
     "output_type": "stream",
     "text": [
      "100%|██████████| 183/183 [00:28<00:00,  6.50it/s]\n"
     ]
    },
    {
     "name": "stdout",
     "output_type": "stream",
     "text": [
      "loss :0.26226463399422295 pos_loss:0.17160126010977184 neg_loss:0.2011612362977886\n",
      "test df length :  2788\n"
     ]
    },
    {
     "name": "stderr",
     "output_type": "stream",
     "text": [
      "100%|██████████| 175/175 [00:29<00:00,  6.02it/s]\n"
     ]
    },
    {
     "name": "stdout",
     "output_type": "stream",
     "text": [
      "loss :0.29216059570748043 pos_loss:0.20249667180367809 neg_loss:0.21219534628811682\n",
      "test df length :  2891\n"
     ]
    },
    {
     "name": "stderr",
     "output_type": "stream",
     "text": [
      "100%|██████████| 181/181 [00:33<00:00,  5.48it/s]\n"
     ]
    },
    {
     "name": "stdout",
     "output_type": "stream",
     "text": [
      "loss :0.3555279364307513 pos_loss:0.15409009149604436 neg_loss:0.3954395505100702\n",
      "test df length :  2955\n"
     ]
    },
    {
     "name": "stderr",
     "output_type": "stream",
     "text": [
      "100%|██████████| 185/185 [00:31<00:00,  5.88it/s]\n"
     ]
    },
    {
     "name": "stdout",
     "output_type": "stream",
     "text": [
      "loss :0.8702982330965883 pos_loss:1.0697727621830972 neg_loss:0.1223641454509593\n",
      "test df length :  2487\n"
     ]
    },
    {
     "name": "stderr",
     "output_type": "stream",
     "text": [
      "100%|██████████| 156/156 [00:26<00:00,  5.80it/s]\n"
     ]
    },
    {
     "name": "stdout",
     "output_type": "stream",
     "text": [
      "loss :0.36978132103843653 pos_loss:0.30351503274290687 neg_loss:0.17239168919594222\n",
      "test df length :  2972\n"
     ]
    },
    {
     "name": "stderr",
     "output_type": "stream",
     "text": [
      "100%|██████████| 186/186 [00:32<00:00,  5.71it/s]\n"
     ]
    },
    {
     "name": "stdout",
     "output_type": "stream",
     "text": [
      "loss :0.34322215021643915 pos_loss:0.2552106885097404 neg_loss:0.2910509016740067\n",
      "test df length :  2328\n"
     ]
    },
    {
     "name": "stderr",
     "output_type": "stream",
     "text": [
      "100%|██████████| 146/146 [00:25<00:00,  5.67it/s]\n"
     ]
    },
    {
     "name": "stdout",
     "output_type": "stream",
     "text": [
      "loss :0.7090043653035439 pos_loss:0.581558297996797 neg_loss:0.5591384297238842\n",
      "test df length :  3025\n"
     ]
    },
    {
     "name": "stderr",
     "output_type": "stream",
     "text": [
      "100%|██████████| 190/190 [00:33<00:00,  5.62it/s]\n"
     ]
    },
    {
     "name": "stdout",
     "output_type": "stream",
     "text": [
      "loss :0.37826265425937705 pos_loss:0.332985841031758 neg_loss:0.16924122377004103\n",
      "test df length :  2467\n"
     ]
    },
    {
     "name": "stderr",
     "output_type": "stream",
     "text": [
      "100%|██████████| 155/155 [00:29<00:00,  5.34it/s]\n"
     ]
    },
    {
     "name": "stdout",
     "output_type": "stream",
     "text": [
      "loss :0.21421102521455157 pos_loss:0.05855846621980354 neg_loss:0.22633143033951597\n",
      "test df length :  3095\n"
     ]
    },
    {
     "name": "stderr",
     "output_type": "stream",
     "text": [
      "100%|██████████| 194/194 [00:32<00:00,  6.02it/s]\n"
     ]
    },
    {
     "name": "stdout",
     "output_type": "stream",
     "text": [
      "loss :0.26182764160057065 pos_loss:0.22310063156300589 neg_loss:0.13114903914547604\n",
      "test df length :  3633\n"
     ]
    },
    {
     "name": "stderr",
     "output_type": "stream",
     "text": [
      "100%|██████████| 228/228 [00:37<00:00,  6.07it/s]\n"
     ]
    },
    {
     "name": "stdout",
     "output_type": "stream",
     "text": [
      "loss :0.46467535942406046 pos_loss:0.36027452902670365 neg_loss:0.33710756791248314\n",
      "test df length :  2677\n"
     ]
    },
    {
     "name": "stderr",
     "output_type": "stream",
     "text": [
      "100%|██████████| 168/168 [00:28<00:00,  5.84it/s]\n"
     ]
    },
    {
     "name": "stdout",
     "output_type": "stream",
     "text": [
      "loss :0.478283164245555 pos_loss:0.06515145060845254 neg_loss:0.46793965574681107\n",
      "test df length :  2988\n"
     ]
    },
    {
     "name": "stderr",
     "output_type": "stream",
     "text": [
      "100%|██████████| 187/187 [00:32<00:00,  5.73it/s]\n"
     ]
    },
    {
     "name": "stdout",
     "output_type": "stream",
     "text": [
      "loss :0.12789210127618605 pos_loss:0.03568731752947398 neg_loss:0.14580764468011184\n",
      "test df length :  3879\n"
     ]
    },
    {
     "name": "stderr",
     "output_type": "stream",
     "text": [
      "100%|██████████| 243/243 [00:38<00:00,  6.39it/s]\n"
     ]
    },
    {
     "name": "stdout",
     "output_type": "stream",
     "text": [
      "loss :0.14055679521283093 pos_loss:0.10334514401682499 neg_loss:0.08720342173489823\n",
      "test df length :  2798\n"
     ]
    },
    {
     "name": "stderr",
     "output_type": "stream",
     "text": [
      "100%|██████████| 175/175 [00:32<00:00,  5.44it/s]\n"
     ]
    },
    {
     "name": "stdout",
     "output_type": "stream",
     "text": [
      "loss :0.5947237085842029 pos_loss:0.4462669225028003 neg_loss:0.32204637681676584\n",
      "test df length :  2975\n"
     ]
    },
    {
     "name": "stderr",
     "output_type": "stream",
     "text": [
      "100%|██████████| 186/186 [00:31<00:00,  5.87it/s]\n"
     ]
    },
    {
     "name": "stdout",
     "output_type": "stream",
     "text": [
      "loss :0.4168533617153042 pos_loss:0.25917424286497304 neg_loss:0.33690637902711307\n",
      "test df length :  2911\n"
     ]
    },
    {
     "name": "stderr",
     "output_type": "stream",
     "text": [
      "100%|██████████| 182/182 [00:30<00:00,  6.01it/s]\n"
     ]
    },
    {
     "name": "stdout",
     "output_type": "stream",
     "text": [
      "loss :0.4746352004396802 pos_loss:0.3889596928832097 neg_loss:0.28716169681614173\n",
      "test df length :  2842\n"
     ]
    },
    {
     "name": "stderr",
     "output_type": "stream",
     "text": [
      "100%|██████████| 178/178 [00:32<00:00,  5.51it/s]\n"
     ]
    },
    {
     "name": "stdout",
     "output_type": "stream",
     "text": [
      "loss :0.27474294729452187 pos_loss:0.14035043570447983 neg_loss:0.26999863335435226\n",
      "test df length :  2844\n"
     ]
    },
    {
     "name": "stderr",
     "output_type": "stream",
     "text": [
      "100%|██████████| 178/178 [00:30<00:00,  5.84it/s]\n"
     ]
    },
    {
     "name": "stdout",
     "output_type": "stream",
     "text": [
      "loss :0.2689534039545482 pos_loss:0.13765761551927497 neg_loss:0.483970037349731\n",
      "test df length :  3057\n"
     ]
    },
    {
     "name": "stderr",
     "output_type": "stream",
     "text": [
      "100%|██████████| 192/192 [00:31<00:00,  6.13it/s]\n"
     ]
    },
    {
     "name": "stdout",
     "output_type": "stream",
     "text": [
      "loss :0.4866581649168745 pos_loss:0.4331167414980444 neg_loss:0.20425248410737634\n",
      "test df length :  2914\n"
     ]
    },
    {
     "name": "stderr",
     "output_type": "stream",
     "text": [
      "100%|██████████| 183/183 [00:31<00:00,  5.87it/s]\n"
     ]
    },
    {
     "name": "stdout",
     "output_type": "stream",
     "text": [
      "loss :0.348758113722456 pos_loss:0.2820122139377379 neg_loss:0.16940955455518267\n",
      "test df length :  2229\n"
     ]
    },
    {
     "name": "stderr",
     "output_type": "stream",
     "text": [
      "100%|██████████| 140/140 [00:24<00:00,  5.66it/s]\n"
     ]
    },
    {
     "name": "stdout",
     "output_type": "stream",
     "text": [
      "loss :0.1287957424906348 pos_loss:0.006868015656718093 neg_loss:0.13742581420529454\n",
      "test df length :  2378\n"
     ]
    },
    {
     "name": "stderr",
     "output_type": "stream",
     "text": [
      "100%|██████████| 149/149 [00:26<00:00,  5.52it/s]\n"
     ]
    },
    {
     "name": "stdout",
     "output_type": "stream",
     "text": [
      "loss :0.48175136853097156 pos_loss:0.4325365749432058 neg_loss:0.20182568004857343\n",
      "test df length :  2465\n"
     ]
    },
    {
     "name": "stderr",
     "output_type": "stream",
     "text": [
      "100%|██████████| 155/155 [00:27<00:00,  5.72it/s]\n"
     ]
    },
    {
     "name": "stdout",
     "output_type": "stream",
     "text": [
      "loss :0.3256021005218246 pos_loss:0.3568855914871823 neg_loss:0.17617831859315597\n",
      "test df length :  2754\n"
     ]
    },
    {
     "name": "stderr",
     "output_type": "stream",
     "text": [
      "100%|██████████| 173/173 [00:28<00:00,  5.99it/s]\n"
     ]
    },
    {
     "name": "stdout",
     "output_type": "stream",
     "text": [
      "loss :0.5106417996571455 pos_loss:0.15004716662588855 neg_loss:0.42745948382334964\n",
      "test df length :  2544\n"
     ]
    },
    {
     "name": "stderr",
     "output_type": "stream",
     "text": [
      "100%|██████████| 159/159 [00:28<00:00,  5.54it/s]\n"
     ]
    },
    {
     "name": "stdout",
     "output_type": "stream",
     "text": [
      "loss :0.3224604849463746 pos_loss:0.2456378444813842 neg_loss:0.3415925100883238\n",
      "test df length :  2676\n"
     ]
    },
    {
     "name": "stderr",
     "output_type": "stream",
     "text": [
      "100%|██████████| 168/168 [00:28<00:00,  5.94it/s]\n"
     ]
    },
    {
     "name": "stdout",
     "output_type": "stream",
     "text": [
      "loss :0.27977582811477725 pos_loss:0.10056515335533857 neg_loss:0.21116377649258866\n",
      "test df length :  3218\n"
     ]
    },
    {
     "name": "stderr",
     "output_type": "stream",
     "text": [
      "100%|██████████| 202/202 [00:34<00:00,  5.80it/s]\n"
     ]
    },
    {
     "name": "stdout",
     "output_type": "stream",
     "text": [
      "loss :0.29937188414252563 pos_loss:0.31889934401265274 neg_loss:0.14684938942548348\n",
      "test df length :  2956\n"
     ]
    },
    {
     "name": "stderr",
     "output_type": "stream",
     "text": [
      "100%|██████████| 185/185 [00:31<00:00,  5.95it/s]\n"
     ]
    },
    {
     "name": "stdout",
     "output_type": "stream",
     "text": [
      "loss :0.23617296686225964 pos_loss:0.1722592864171716 neg_loss:0.2404336672729234\n",
      "test df length :  3525\n"
     ]
    },
    {
     "name": "stderr",
     "output_type": "stream",
     "text": [
      "100%|██████████| 221/221 [00:36<00:00,  5.98it/s]\n"
     ]
    },
    {
     "name": "stdout",
     "output_type": "stream",
     "text": [
      "loss :0.33322625558534613 pos_loss:0.12099147306261664 neg_loss:0.6153519016987689\n",
      "test df length :  3065\n"
     ]
    },
    {
     "name": "stderr",
     "output_type": "stream",
     "text": [
      "100%|██████████| 192/192 [00:33<00:00,  5.76it/s]\n"
     ]
    },
    {
     "name": "stdout",
     "output_type": "stream",
     "text": [
      "loss :0.2064737034462658 pos_loss:0.11225333692735695 neg_loss:0.16796709621401015\n",
      "test df length :  2614\n"
     ]
    },
    {
     "name": "stderr",
     "output_type": "stream",
     "text": [
      "100%|██████████| 164/164 [00:27<00:00,  5.90it/s]\n"
     ]
    },
    {
     "name": "stdout",
     "output_type": "stream",
     "text": [
      "loss :0.15502022811858152 pos_loss:0.08395817674118963 neg_loss:0.14847193952991777\n",
      "test df length :  3034\n"
     ]
    },
    {
     "name": "stderr",
     "output_type": "stream",
     "text": [
      "100%|██████████| 190/190 [00:32<00:00,  5.85it/s]\n"
     ]
    },
    {
     "name": "stdout",
     "output_type": "stream",
     "text": [
      "loss :0.5809222252377902 pos_loss:0.6187095987049239 neg_loss:0.23490134483873512\n",
      "test df length :  2848\n"
     ]
    },
    {
     "name": "stderr",
     "output_type": "stream",
     "text": [
      "100%|██████████| 178/178 [00:29<00:00,  6.06it/s]\n"
     ]
    },
    {
     "name": "stdout",
     "output_type": "stream",
     "text": [
      "loss :0.11031538440455846 pos_loss:0.05057920512364619 neg_loss:0.12208061053306077\n",
      "test df length :  2446\n"
     ]
    },
    {
     "name": "stderr",
     "output_type": "stream",
     "text": [
      "100%|██████████| 153/153 [00:26<00:00,  5.78it/s]\n"
     ]
    },
    {
     "name": "stdout",
     "output_type": "stream",
     "text": [
      "loss :0.3583383016486361 pos_loss:0.36291623956275365 neg_loss:0.3304284086426531\n",
      "test df length :  2829\n"
     ]
    },
    {
     "name": "stderr",
     "output_type": "stream",
     "text": [
      "100%|██████████| 177/177 [00:31<00:00,  5.59it/s]\n"
     ]
    },
    {
     "name": "stdout",
     "output_type": "stream",
     "text": [
      "loss :0.32192835603398384 pos_loss:0.3124641183998763 neg_loss:0.2400408489496967\n",
      "test df length :  3131\n"
     ]
    },
    {
     "name": "stderr",
     "output_type": "stream",
     "text": [
      "100%|██████████| 196/196 [00:30<00:00,  6.35it/s]\n"
     ]
    },
    {
     "name": "stdout",
     "output_type": "stream",
     "text": [
      "loss :0.4401230656499222 pos_loss:0.4796653629519351 neg_loss:0.25289056286536915\n",
      "test df length :  2863\n"
     ]
    },
    {
     "name": "stderr",
     "output_type": "stream",
     "text": [
      "100%|██████████| 179/179 [00:31<00:00,  5.63it/s]\n"
     ]
    },
    {
     "name": "stdout",
     "output_type": "stream",
     "text": [
      "loss :0.2430854622002629 pos_loss:0.14870333988906206 neg_loss:0.2137830704273458\n",
      "test df length :  2296\n"
     ]
    },
    {
     "name": "stderr",
     "output_type": "stream",
     "text": [
      "100%|██████████| 144/144 [00:27<00:00,  5.27it/s]\n"
     ]
    },
    {
     "name": "stdout",
     "output_type": "stream",
     "text": [
      "loss :0.24104837860493292 pos_loss:0.05154808419480765 neg_loss:0.30997846103973903\n",
      "test df length :  2576\n"
     ]
    },
    {
     "name": "stderr",
     "output_type": "stream",
     "text": [
      "100%|██████████| 161/161 [00:30<00:00,  5.35it/s]\n"
     ]
    },
    {
     "name": "stdout",
     "output_type": "stream",
     "text": [
      "loss :0.35061569417699834 pos_loss:0.3452050799753831 neg_loss:0.1666879310298493\n",
      "test df length :  2481\n"
     ]
    },
    {
     "name": "stderr",
     "output_type": "stream",
     "text": [
      "100%|██████████| 156/156 [00:26<00:00,  5.87it/s]\n"
     ]
    },
    {
     "name": "stdout",
     "output_type": "stream",
     "text": [
      "loss :0.4447801009086715 pos_loss:0.40195664169493833 neg_loss:0.27356874289985433\n",
      "test df length :  2435\n"
     ]
    },
    {
     "name": "stderr",
     "output_type": "stream",
     "text": [
      "100%|██████████| 153/153 [00:28<00:00,  5.35it/s]\n"
     ]
    },
    {
     "name": "stdout",
     "output_type": "stream",
     "text": [
      "loss :0.6240571793628923 pos_loss:0.34167918643703066 neg_loss:0.38341278559572023\n",
      "test df length :  2331\n"
     ]
    },
    {
     "name": "stderr",
     "output_type": "stream",
     "text": [
      "100%|██████████| 146/146 [00:28<00:00,  5.15it/s]\n"
     ]
    },
    {
     "name": "stdout",
     "output_type": "stream",
     "text": [
      "loss :0.38464530857201273 pos_loss:0.277864927408614 neg_loss:0.20176800256121893\n",
      "test df length :  3147\n"
     ]
    },
    {
     "name": "stderr",
     "output_type": "stream",
     "text": [
      "100%|██████████| 197/197 [00:34<00:00,  5.66it/s]\n"
     ]
    },
    {
     "name": "stdout",
     "output_type": "stream",
     "text": [
      "loss :0.3220671768352362 pos_loss:0.35797265139314016 neg_loss:0.1002331737511733\n",
      "test df length :  3415\n"
     ]
    },
    {
     "name": "stderr",
     "output_type": "stream",
     "text": [
      "100%|██████████| 214/214 [00:35<00:00,  5.98it/s]\n"
     ]
    },
    {
     "name": "stdout",
     "output_type": "stream",
     "text": [
      "loss :0.44013972874957213 pos_loss:0.2882620472526214 neg_loss:0.3897454852401609\n",
      "test df length :  3226\n"
     ]
    },
    {
     "name": "stderr",
     "output_type": "stream",
     "text": [
      "100%|██████████| 202/202 [00:33<00:00,  5.97it/s]\n"
     ]
    },
    {
     "name": "stdout",
     "output_type": "stream",
     "text": [
      "loss :0.2852816639399316 pos_loss:0.1566484679577111 neg_loss:0.2274379636684734\n",
      "test df length :  3063\n"
     ]
    },
    {
     "name": "stderr",
     "output_type": "stream",
     "text": [
      "100%|██████████| 192/192 [00:34<00:00,  5.52it/s]\n"
     ]
    },
    {
     "name": "stdout",
     "output_type": "stream",
     "text": [
      "loss :0.6475167694753472 pos_loss:0.40185761220768657 neg_loss:0.3915288190980402\n",
      "test df length :  2804\n"
     ]
    },
    {
     "name": "stderr",
     "output_type": "stream",
     "text": [
      "100%|██████████| 176/176 [00:30<00:00,  5.82it/s]\n"
     ]
    },
    {
     "name": "stdout",
     "output_type": "stream",
     "text": [
      "loss :0.6870869520038286 pos_loss:0.724344016966234 neg_loss:0.2937132466378487\n",
      "test df length :  3062\n"
     ]
    },
    {
     "name": "stderr",
     "output_type": "stream",
     "text": [
      "100%|██████████| 192/192 [00:31<00:00,  6.01it/s]\n"
     ]
    },
    {
     "name": "stdout",
     "output_type": "stream",
     "text": [
      "loss :0.25481620257085935 pos_loss:0.13556656368216088 neg_loss:0.2090557248250028\n",
      "test df length :  2891\n"
     ]
    },
    {
     "name": "stderr",
     "output_type": "stream",
     "text": [
      "100%|██████████| 181/181 [00:30<00:00,  5.91it/s]\n"
     ]
    },
    {
     "name": "stdout",
     "output_type": "stream",
     "text": [
      "loss :0.29395868887758947 pos_loss:0.045670605589879495 neg_loss:0.4399948437795217\n",
      "test df length :  2805\n"
     ]
    },
    {
     "name": "stderr",
     "output_type": "stream",
     "text": [
      "100%|██████████| 176/176 [00:29<00:00,  5.98it/s]\n"
     ]
    },
    {
     "name": "stdout",
     "output_type": "stream",
     "text": [
      "loss :0.3160951291693151 pos_loss:0.06460519257451132 neg_loss:0.4831361415538823\n",
      "test df length :  2626\n"
     ]
    },
    {
     "name": "stderr",
     "output_type": "stream",
     "text": [
      "100%|██████████| 165/165 [00:28<00:00,  5.76it/s]\n"
     ]
    },
    {
     "name": "stdout",
     "output_type": "stream",
     "text": [
      "loss :0.278247045880564 pos_loss:0.2853864631909801 neg_loss:0.07040894348797935\n",
      "test df length :  3128\n"
     ]
    },
    {
     "name": "stderr",
     "output_type": "stream",
     "text": [
      "100%|██████████| 196/196 [00:33<00:00,  5.90it/s]\n"
     ]
    },
    {
     "name": "stdout",
     "output_type": "stream",
     "text": [
      "loss :0.3294090241119689 pos_loss:0.1570351222664691 neg_loss:0.3892641730760258\n",
      "test df length :  2806\n"
     ]
    },
    {
     "name": "stderr",
     "output_type": "stream",
     "text": [
      "100%|██████████| 176/176 [00:28<00:00,  6.18it/s]\n"
     ]
    },
    {
     "name": "stdout",
     "output_type": "stream",
     "text": [
      "loss :0.3209875430639764 pos_loss:0.10998982760237697 neg_loss:0.27633640335898896\n",
      "test df length :  2041\n"
     ]
    },
    {
     "name": "stderr",
     "output_type": "stream",
     "text": [
      "100%|██████████| 128/128 [00:23<00:00,  5.34it/s]\n"
     ]
    },
    {
     "name": "stdout",
     "output_type": "stream",
     "text": [
      "loss :0.6861372390783138 pos_loss:0.7550359772977702 neg_loss:0.18405802658535808\n",
      "test df length :  2590\n"
     ]
    },
    {
     "name": "stderr",
     "output_type": "stream",
     "text": [
      "100%|██████████| 162/162 [00:28<00:00,  5.76it/s]\n"
     ]
    },
    {
     "name": "stdout",
     "output_type": "stream",
     "text": [
      "loss :0.8149149218080032 pos_loss:0.39115857186191605 neg_loss:0.633660760349002\n",
      "test df length :  3264\n"
     ]
    },
    {
     "name": "stderr",
     "output_type": "stream",
     "text": [
      "100%|██████████| 204/204 [00:33<00:00,  6.00it/s]\n"
     ]
    },
    {
     "name": "stdout",
     "output_type": "stream",
     "text": [
      "loss :0.8323770747429315 pos_loss:0.09869940857717432 neg_loss:0.8002456181081294\n",
      "test df length :  2515\n"
     ]
    },
    {
     "name": "stderr",
     "output_type": "stream",
     "text": [
      "100%|██████████| 158/158 [00:28<00:00,  5.62it/s]\n"
     ]
    },
    {
     "name": "stdout",
     "output_type": "stream",
     "text": [
      "loss :0.3795880928745965 pos_loss:0.1229651078970618 neg_loss:0.36335533342950144\n",
      "test df length :  2958\n"
     ]
    },
    {
     "name": "stderr",
     "output_type": "stream",
     "text": [
      "100%|██████████| 185/185 [00:33<00:00,  5.49it/s]\n"
     ]
    },
    {
     "name": "stdout",
     "output_type": "stream",
     "text": [
      "loss :0.5304908060358462 pos_loss:0.42753718558029147 neg_loss:0.24934388890895404\n",
      "test df length :  2285\n"
     ]
    },
    {
     "name": "stderr",
     "output_type": "stream",
     "text": [
      "100%|██████████| 143/143 [00:25<00:00,  5.66it/s]\n"
     ]
    },
    {
     "name": "stdout",
     "output_type": "stream",
     "text": [
      "loss :0.6143009125959549 pos_loss:0.6670358279132047 neg_loss:0.14815826179931396\n",
      "test df length :  3003\n"
     ]
    },
    {
     "name": "stderr",
     "output_type": "stream",
     "text": [
      "100%|██████████| 188/188 [00:31<00:00,  5.91it/s]\n"
     ]
    },
    {
     "name": "stdout",
     "output_type": "stream",
     "text": [
      "loss :0.29994039168557174 pos_loss:0.03613543882740195 neg_loss:0.2854004316256188\n",
      "test df length :  2517\n"
     ]
    },
    {
     "name": "stderr",
     "output_type": "stream",
     "text": [
      "100%|██████████| 158/158 [00:29<00:00,  5.36it/s]\n"
     ]
    },
    {
     "name": "stdout",
     "output_type": "stream",
     "text": [
      "loss :0.3669553122344889 pos_loss:0.290368739995764 neg_loss:0.4223594401562028\n",
      "test df length :  2963\n"
     ]
    },
    {
     "name": "stderr",
     "output_type": "stream",
     "text": [
      "100%|██████████| 186/186 [00:32<00:00,  5.77it/s]\n"
     ]
    },
    {
     "name": "stdout",
     "output_type": "stream",
     "text": [
      "loss :0.37329241743086483 pos_loss:0.1801537554763843 neg_loss:0.28254091202407494\n",
      "test df length :  2984\n"
     ]
    },
    {
     "name": "stderr",
     "output_type": "stream",
     "text": [
      "100%|██████████| 187/187 [00:33<00:00,  5.55it/s]\n"
     ]
    },
    {
     "name": "stdout",
     "output_type": "stream",
     "text": [
      "loss :0.11125489028908506 pos_loss:0.010544738964449945 neg_loss:0.24068080363163388\n",
      "test df length :  2684\n"
     ]
    },
    {
     "name": "stderr",
     "output_type": "stream",
     "text": [
      "100%|██████████| 168/168 [00:30<00:00,  5.45it/s]\n"
     ]
    },
    {
     "name": "stdout",
     "output_type": "stream",
     "text": [
      "loss :0.2752300552840877 pos_loss:0.14169292674911316 neg_loss:0.28456888150057047\n",
      "test df length :  2894\n"
     ]
    },
    {
     "name": "stderr",
     "output_type": "stream",
     "text": [
      "100%|██████████| 181/181 [00:31<00:00,  5.70it/s]\n"
     ]
    },
    {
     "name": "stdout",
     "output_type": "stream",
     "text": [
      "loss :0.2652797149874782 pos_loss:0.09815826817136752 neg_loss:0.2685080413269454\n",
      "test df length :  3206\n"
     ]
    },
    {
     "name": "stderr",
     "output_type": "stream",
     "text": [
      "100%|██████████| 201/201 [00:34<00:00,  5.84it/s]\n"
     ]
    },
    {
     "name": "stdout",
     "output_type": "stream",
     "text": [
      "loss :0.43491781392558543 pos_loss:0.4825563797336321 neg_loss:0.15477854068589023\n",
      "test df length :  2743\n"
     ]
    },
    {
     "name": "stderr",
     "output_type": "stream",
     "text": [
      "100%|██████████| 172/172 [00:29<00:00,  5.81it/s]\n"
     ]
    },
    {
     "name": "stdout",
     "output_type": "stream",
     "text": [
      "loss :0.27560755566289313 pos_loss:0.2524642931510204 neg_loss:0.15874738711890463\n",
      "test df length :  2293\n"
     ]
    },
    {
     "name": "stderr",
     "output_type": "stream",
     "text": [
      "100%|██████████| 144/144 [00:26<00:00,  5.43it/s]\n"
     ]
    },
    {
     "name": "stdout",
     "output_type": "stream",
     "text": [
      "loss :0.4311062334665954 pos_loss:0.020203819962938175 neg_loss:0.4368977208546033\n",
      "test df length :  3339\n"
     ]
    },
    {
     "name": "stderr",
     "output_type": "stream",
     "text": [
      "100%|██████████| 209/209 [00:35<00:00,  5.82it/s]\n"
     ]
    },
    {
     "name": "stdout",
     "output_type": "stream",
     "text": [
      "loss :0.3493229955577918 pos_loss:0.30992886289723376 neg_loss:0.3015540406810302\n",
      "test df length :  2318\n"
     ]
    },
    {
     "name": "stderr",
     "output_type": "stream",
     "text": [
      "100%|██████████| 145/145 [00:25<00:00,  5.76it/s]\n"
     ]
    },
    {
     "name": "stdout",
     "output_type": "stream",
     "text": [
      "loss :0.33520432905925046 pos_loss:0.1129241300940673 neg_loss:0.3884822184025104\n",
      "test df length :  3117\n"
     ]
    },
    {
     "name": "stderr",
     "output_type": "stream",
     "text": [
      "100%|██████████| 195/195 [00:31<00:00,  6.16it/s]\n"
     ]
    },
    {
     "name": "stdout",
     "output_type": "stream",
     "text": [
      "loss :0.6521130345427122 pos_loss:0.49426100131000583 neg_loss:0.33354711361227996\n",
      "test df length :  2438\n"
     ]
    },
    {
     "name": "stderr",
     "output_type": "stream",
     "text": [
      "100%|██████████| 153/153 [00:27<00:00,  5.52it/s]\n"
     ]
    },
    {
     "name": "stdout",
     "output_type": "stream",
     "text": [
      "loss :0.20339103924894214 pos_loss:0.0399597813869737 neg_loss:0.23588317508309764\n",
      "test df length :  3184\n"
     ]
    },
    {
     "name": "stderr",
     "output_type": "stream",
     "text": [
      "100%|██████████| 199/199 [00:32<00:00,  6.12it/s]\n"
     ]
    },
    {
     "name": "stdout",
     "output_type": "stream",
     "text": [
      "loss :0.1956873879941992 pos_loss:0.02635144717130124 neg_loss:0.3198670713609256\n",
      "test df length :  2614\n"
     ]
    },
    {
     "name": "stderr",
     "output_type": "stream",
     "text": [
      "100%|██████████| 164/164 [00:27<00:00,  5.99it/s]\n"
     ]
    },
    {
     "name": "stdout",
     "output_type": "stream",
     "text": [
      "loss :0.3572294125031388 pos_loss:0.34778337675165566 neg_loss:0.2252226603630776\n",
      "test df length :  3267\n"
     ]
    },
    {
     "name": "stderr",
     "output_type": "stream",
     "text": [
      "100%|██████████| 205/205 [00:36<00:00,  5.66it/s]\n"
     ]
    },
    {
     "name": "stdout",
     "output_type": "stream",
     "text": [
      "loss :0.7484374776869626 pos_loss:0.869069457931144 neg_loss:0.16636576583717516\n",
      "test df length :  3598\n"
     ]
    },
    {
     "name": "stderr",
     "output_type": "stream",
     "text": [
      "100%|██████████| 225/225 [00:38<00:00,  5.85it/s]\n"
     ]
    },
    {
     "name": "stdout",
     "output_type": "stream",
     "text": [
      "loss :0.4047825216229526 pos_loss:0.08641874248777018 neg_loss:0.47754937810299225\n",
      "test df length :  2984\n"
     ]
    },
    {
     "name": "stderr",
     "output_type": "stream",
     "text": [
      "100%|██████████| 187/187 [00:33<00:00,  5.50it/s]\n"
     ]
    },
    {
     "name": "stdout",
     "output_type": "stream",
     "text": [
      "loss :0.4947947901391917 pos_loss:0.5439627939415621 neg_loss:0.12513879379827103\n",
      "test df length :  2581\n"
     ]
    },
    {
     "name": "stderr",
     "output_type": "stream",
     "text": [
      "100%|██████████| 162/162 [00:28<00:00,  5.64it/s]\n"
     ]
    },
    {
     "name": "stdout",
     "output_type": "stream",
     "text": [
      "loss :0.761335164001865 pos_loss:0.7306831213706637 neg_loss:0.26725532388724343\n",
      "test df length :  2520\n"
     ]
    },
    {
     "name": "stderr",
     "output_type": "stream",
     "text": [
      "100%|██████████| 158/158 [00:27<00:00,  5.64it/s]\n"
     ]
    },
    {
     "name": "stdout",
     "output_type": "stream",
     "text": [
      "loss :0.36706366764272735 pos_loss:0.3851449835864284 neg_loss:0.14110812824815977\n",
      "test df length :  2852\n"
     ]
    },
    {
     "name": "stderr",
     "output_type": "stream",
     "text": [
      "100%|██████████| 179/179 [00:31<00:00,  5.71it/s]\n"
     ]
    },
    {
     "name": "stdout",
     "output_type": "stream",
     "text": [
      "loss :0.6471371408368205 pos_loss:0.5596403385078154 neg_loss:0.2547572305747116\n",
      "test df length :  2650\n"
     ]
    },
    {
     "name": "stderr",
     "output_type": "stream",
     "text": [
      "100%|██████████| 166/166 [00:28<00:00,  5.86it/s]\n"
     ]
    },
    {
     "name": "stdout",
     "output_type": "stream",
     "text": [
      "loss :0.14464573969193134 pos_loss:0.08321178351039892 neg_loss:0.17098816650221466\n",
      "test df length :  2713\n"
     ]
    },
    {
     "name": "stderr",
     "output_type": "stream",
     "text": [
      "100%|██████████| 170/170 [00:29<00:00,  5.84it/s]\n"
     ]
    },
    {
     "name": "stdout",
     "output_type": "stream",
     "text": [
      "loss :0.5300488769730689 pos_loss:0.5158585173068286 neg_loss:0.21232460189820257\n",
      "test df length :  3138\n"
     ]
    },
    {
     "name": "stderr",
     "output_type": "stream",
     "text": [
      "100%|██████████| 197/197 [00:33<00:00,  5.87it/s]\n"
     ]
    },
    {
     "name": "stdout",
     "output_type": "stream",
     "text": [
      "loss :0.20044195165213213 pos_loss:0.10270831754056389 neg_loss:0.14737463991526845\n",
      "test df length :  3804\n"
     ]
    },
    {
     "name": "stderr",
     "output_type": "stream",
     "text": [
      "100%|██████████| 238/238 [00:38<00:00,  6.23it/s]\n"
     ]
    },
    {
     "name": "stdout",
     "output_type": "stream",
     "text": [
      "loss :0.32123149039229537 pos_loss:0.3209539089323006 neg_loss:0.2795832488091237\n",
      "test df length :  3823\n"
     ]
    },
    {
     "name": "stderr",
     "output_type": "stream",
     "text": [
      "100%|██████████| 239/239 [00:39<00:00,  6.00it/s]\n"
     ]
    },
    {
     "name": "stdout",
     "output_type": "stream",
     "text": [
      "loss :0.23381573888472898 pos_loss:0.04012977812858054 neg_loss:0.2876669790021693\n",
      "test df length :  2231\n"
     ]
    },
    {
     "name": "stderr",
     "output_type": "stream",
     "text": [
      "100%|██████████| 140/140 [00:26<00:00,  5.34it/s]\n"
     ]
    },
    {
     "name": "stdout",
     "output_type": "stream",
     "text": [
      "loss :0.8926162641446954 pos_loss:1.0442786235236752 neg_loss:0.18655842752995816\n",
      "test df length :  2217\n"
     ]
    },
    {
     "name": "stderr",
     "output_type": "stream",
     "text": [
      "100%|██████████| 139/139 [00:24<00:00,  5.71it/s]\n"
     ]
    },
    {
     "name": "stdout",
     "output_type": "stream",
     "text": [
      "loss :0.4482211977160498 pos_loss:0.3313744573552704 neg_loss:0.23539655285662892\n",
      "test df length :  2995\n"
     ]
    },
    {
     "name": "stderr",
     "output_type": "stream",
     "text": [
      "100%|██████████| 188/188 [00:33<00:00,  5.54it/s]\n"
     ]
    },
    {
     "name": "stdout",
     "output_type": "stream",
     "text": [
      "loss :0.27574484420160406 pos_loss:0.1911497764795923 neg_loss:0.19765094037197709\n",
      "test df length :  2504\n"
     ]
    },
    {
     "name": "stderr",
     "output_type": "stream",
     "text": [
      "100%|██████████| 157/157 [00:27<00:00,  5.70it/s]\n"
     ]
    },
    {
     "name": "stdout",
     "output_type": "stream",
     "text": [
      "loss :0.2208443831156504 pos_loss:0.19366074798882243 neg_loss:0.11546685049677569\n",
      "test df length :  3065\n"
     ]
    },
    {
     "name": "stderr",
     "output_type": "stream",
     "text": [
      "100%|██████████| 192/192 [00:30<00:00,  6.32it/s]\n"
     ]
    },
    {
     "name": "stdout",
     "output_type": "stream",
     "text": [
      "loss :0.6407292313350654 pos_loss:0.2770224025998351 neg_loss:0.48407739994972043\n",
      "test df length :  2439\n"
     ]
    },
    {
     "name": "stderr",
     "output_type": "stream",
     "text": [
      "100%|██████████| 153/153 [00:26<00:00,  5.79it/s]\n"
     ]
    },
    {
     "name": "stdout",
     "output_type": "stream",
     "text": [
      "loss :0.24191530232768285 pos_loss:0.05030139162822098 neg_loss:0.21869828974077726\n",
      "test df length :  2633\n"
     ]
    },
    {
     "name": "stderr",
     "output_type": "stream",
     "text": [
      "100%|██████████| 165/165 [00:31<00:00,  5.27it/s]\n"
     ]
    },
    {
     "name": "stdout",
     "output_type": "stream",
     "text": [
      "loss :0.45120594521357354 pos_loss:0.19324992781880834 neg_loss:0.6599881197217966\n",
      "test df length :  2145\n"
     ]
    },
    {
     "name": "stderr",
     "output_type": "stream",
     "text": [
      "100%|██████████| 135/135 [00:26<00:00,  5.16it/s]\n"
     ]
    },
    {
     "name": "stdout",
     "output_type": "stream",
     "text": [
      "loss :0.3707431032157551 pos_loss:0.2824094202192946 neg_loss:0.1799908948975476\n",
      "test df length :  3077\n"
     ]
    },
    {
     "name": "stderr",
     "output_type": "stream",
     "text": [
      "100%|██████████| 193/193 [00:34<00:00,  5.61it/s]\n"
     ]
    },
    {
     "name": "stdout",
     "output_type": "stream",
     "text": [
      "loss :0.4061594723219377 pos_loss:0.17745334607773258 neg_loss:0.3287206495208158\n",
      "test df length :  2210\n"
     ]
    },
    {
     "name": "stderr",
     "output_type": "stream",
     "text": [
      "100%|██████████| 139/139 [00:23<00:00,  5.84it/s]\n"
     ]
    },
    {
     "name": "stdout",
     "output_type": "stream",
     "text": [
      "loss :0.42695145705818816 pos_loss:0.38123455563664693 neg_loss:0.17308709020330437\n",
      "test df length :  2335\n"
     ]
    },
    {
     "name": "stderr",
     "output_type": "stream",
     "text": [
      "100%|██████████| 146/146 [00:25<00:00,  5.69it/s]\n"
     ]
    },
    {
     "name": "stdout",
     "output_type": "stream",
     "text": [
      "loss :0.5116053002223172 pos_loss:0.5969031749907374 neg_loss:0.08530968365524148\n",
      "test df length :  2897\n"
     ]
    },
    {
     "name": "stderr",
     "output_type": "stream",
     "text": [
      "100%|██████████| 182/182 [00:30<00:00,  6.04it/s]\n"
     ]
    },
    {
     "name": "stdout",
     "output_type": "stream",
     "text": [
      "loss :0.37524443997579915 pos_loss:0.14469673671605868 neg_loss:0.39466609676433495\n",
      "test df length :  2958\n"
     ]
    },
    {
     "name": "stderr",
     "output_type": "stream",
     "text": [
      "100%|██████████| 185/185 [00:33<00:00,  5.57it/s]\n"
     ]
    },
    {
     "name": "stdout",
     "output_type": "stream",
     "text": [
      "loss :0.3505851558856779 pos_loss:0.26043870557398 neg_loss:0.2689629814124984\n",
      "test df length :  3063\n"
     ]
    },
    {
     "name": "stderr",
     "output_type": "stream",
     "text": [
      "100%|██████████| 192/192 [00:31<00:00,  6.11it/s]\n"
     ]
    },
    {
     "name": "stdout",
     "output_type": "stream",
     "text": [
      "loss :0.5494033716391786 pos_loss:0.3169339556903865 neg_loss:0.5375626737038393\n",
      "test df length :  2416\n"
     ]
    },
    {
     "name": "stderr",
     "output_type": "stream",
     "text": [
      "100%|██████████| 151/151 [00:26<00:00,  5.60it/s]\n"
     ]
    },
    {
     "name": "stdout",
     "output_type": "stream",
     "text": [
      "loss :0.3644072957060359 pos_loss:0.2661058563161408 neg_loss:0.17338022194504837\n",
      "test df length :  2488\n"
     ]
    },
    {
     "name": "stderr",
     "output_type": "stream",
     "text": [
      "100%|██████████| 156/156 [00:27<00:00,  5.62it/s]\n"
     ]
    },
    {
     "name": "stdout",
     "output_type": "stream",
     "text": [
      "loss :0.36437229196665777 pos_loss:0.36894439548099794 neg_loss:0.0891418218770601\n",
      "test df length :  2922\n"
     ]
    },
    {
     "name": "stderr",
     "output_type": "stream",
     "text": [
      "100%|██████████| 183/183 [00:31<00:00,  5.74it/s]\n"
     ]
    },
    {
     "name": "stdout",
     "output_type": "stream",
     "text": [
      "loss :0.35510754307109804 pos_loss:0.18442100975289966 neg_loss:0.37551254109352306\n",
      "test df length :  3422\n"
     ]
    },
    {
     "name": "stderr",
     "output_type": "stream",
     "text": [
      "100%|██████████| 214/214 [00:33<00:00,  6.33it/s]\n"
     ]
    },
    {
     "name": "stdout",
     "output_type": "stream",
     "text": [
      "loss :0.2090102307968078 pos_loss:0.1817637539632926 neg_loss:0.11914295723414836\n",
      "test df length :  2190\n"
     ]
    },
    {
     "name": "stderr",
     "output_type": "stream",
     "text": [
      "100%|██████████| 137/137 [00:25<00:00,  5.31it/s]\n"
     ]
    },
    {
     "name": "stdout",
     "output_type": "stream",
     "text": [
      "loss :0.19251379564053206 pos_loss:0.1429829711219755 neg_loss:0.10188296514069797\n",
      "test df length :  3089\n"
     ]
    },
    {
     "name": "stderr",
     "output_type": "stream",
     "text": [
      "100%|██████████| 194/194 [00:32<00:00,  5.98it/s]\n"
     ]
    },
    {
     "name": "stdout",
     "output_type": "stream",
     "text": [
      "loss :0.31077320710017714 pos_loss:0.07242454038953715 neg_loss:0.2949363976963913\n",
      "test df length :  2990\n"
     ]
    },
    {
     "name": "stderr",
     "output_type": "stream",
     "text": [
      "100%|██████████| 187/187 [00:34<00:00,  5.45it/s]\n"
     ]
    },
    {
     "name": "stdout",
     "output_type": "stream",
     "text": [
      "loss :0.5017077351168899 pos_loss:0.446273209637486 neg_loss:0.3028347681594088\n",
      "test df length :  3026\n"
     ]
    },
    {
     "name": "stderr",
     "output_type": "stream",
     "text": [
      "100%|██████████| 190/190 [00:33<00:00,  5.71it/s]\n"
     ]
    },
    {
     "name": "stdout",
     "output_type": "stream",
     "text": [
      "loss :0.4991211138547976 pos_loss:0.47036343335582786 neg_loss:0.3575921392265336\n",
      "test df length :  3256\n"
     ]
    },
    {
     "name": "stderr",
     "output_type": "stream",
     "text": [
      "100%|██████████| 204/204 [00:35<00:00,  5.75it/s]\n"
     ]
    },
    {
     "name": "stdout",
     "output_type": "stream",
     "text": [
      "loss :0.411044894558031 pos_loss:0.21720781983407073 neg_loss:0.5055898667820156\n",
      "test df length :  2369\n"
     ]
    },
    {
     "name": "stderr",
     "output_type": "stream",
     "text": [
      "100%|██████████| 149/149 [00:26<00:00,  5.68it/s]\n"
     ]
    },
    {
     "name": "stdout",
     "output_type": "stream",
     "text": [
      "loss :0.4119505582492087 pos_loss:0.46070972703006147 neg_loss:0.16085675637519992\n",
      "test df length :  2440\n"
     ]
    },
    {
     "name": "stderr",
     "output_type": "stream",
     "text": [
      "100%|██████████| 153/153 [00:26<00:00,  5.79it/s]\n"
     ]
    },
    {
     "name": "stdout",
     "output_type": "stream",
     "text": [
      "loss :0.2712974024667441 pos_loss:0.13215843913250697 neg_loss:0.27315257230887857\n",
      "test df length :  3280\n"
     ]
    },
    {
     "name": "stderr",
     "output_type": "stream",
     "text": [
      "100%|██████████| 205/205 [00:33<00:00,  6.05it/s]\n"
     ]
    },
    {
     "name": "stdout",
     "output_type": "stream",
     "text": [
      "loss :0.6041208055212602 pos_loss:0.2144723498879757 neg_loss:0.5013474212797835\n",
      "test df length :  2862\n"
     ]
    },
    {
     "name": "stderr",
     "output_type": "stream",
     "text": [
      "100%|██████████| 179/179 [00:29<00:00,  6.04it/s]\n"
     ]
    },
    {
     "name": "stdout",
     "output_type": "stream",
     "text": [
      "loss :0.6367072672592804 pos_loss:0.49155986587144845 neg_loss:0.42312570621474505\n",
      "test df length :  3045\n"
     ]
    },
    {
     "name": "stderr",
     "output_type": "stream",
     "text": [
      "100%|██████████| 191/191 [00:33<00:00,  5.66it/s]\n"
     ]
    },
    {
     "name": "stdout",
     "output_type": "stream",
     "text": [
      "loss :0.446303350433489 pos_loss:0.5001635813388291 neg_loss:0.3388816112322005\n",
      "test df length :  2645\n"
     ]
    },
    {
     "name": "stderr",
     "output_type": "stream",
     "text": [
      "100%|██████████| 166/166 [00:30<00:00,  5.51it/s]\n"
     ]
    },
    {
     "name": "stdout",
     "output_type": "stream",
     "text": [
      "loss :0.2928198185994672 pos_loss:0.234088296729609 neg_loss:0.21403054441983552\n",
      "test df length :  2976\n"
     ]
    },
    {
     "name": "stderr",
     "output_type": "stream",
     "text": [
      "100%|██████████| 186/186 [00:33<00:00,  5.49it/s]\n"
     ]
    },
    {
     "name": "stdout",
     "output_type": "stream",
     "text": [
      "loss :0.2857350244817488 pos_loss:0.03712731952450958 neg_loss:0.5750450509663105\n",
      "test df length :  3339\n"
     ]
    },
    {
     "name": "stderr",
     "output_type": "stream",
     "text": [
      "100%|██████████| 209/209 [00:34<00:00,  6.00it/s]\n"
     ]
    },
    {
     "name": "stdout",
     "output_type": "stream",
     "text": [
      "loss :0.5463176367281887 pos_loss:0.1590485225539294 neg_loss:0.513263100947691\n",
      "test df length :  2095\n"
     ]
    },
    {
     "name": "stderr",
     "output_type": "stream",
     "text": [
      "100%|██████████| 131/131 [00:24<00:00,  5.24it/s]\n"
     ]
    },
    {
     "name": "stdout",
     "output_type": "stream",
     "text": [
      "loss :0.6811474956350072 pos_loss:0.07797718192534897 neg_loss:0.6312634207953347\n",
      "test df length :  3024\n"
     ]
    },
    {
     "name": "stderr",
     "output_type": "stream",
     "text": [
      "100%|██████████| 189/189 [00:29<00:00,  6.32it/s]\n"
     ]
    },
    {
     "name": "stdout",
     "output_type": "stream",
     "text": [
      "loss :0.4735181758666641 pos_loss:0.43031678748795055 neg_loss:0.4149823249788305\n",
      "test df length :  2221\n"
     ]
    },
    {
     "name": "stderr",
     "output_type": "stream",
     "text": [
      "100%|██████████| 139/139 [00:25<00:00,  5.37it/s]\n"
     ]
    },
    {
     "name": "stdout",
     "output_type": "stream",
     "text": [
      "loss :0.24488575599027612 pos_loss:0.1323453363785466 neg_loss:0.19786522239931442\n",
      "test df length :  2984\n"
     ]
    },
    {
     "name": "stderr",
     "output_type": "stream",
     "text": [
      "100%|██████████| 187/187 [00:30<00:00,  6.19it/s]\n"
     ]
    },
    {
     "name": "stdout",
     "output_type": "stream",
     "text": [
      "loss :0.32012611692323667 pos_loss:0.22067932865969372 neg_loss:0.34559435646764713\n",
      "test df length :  3678\n"
     ]
    },
    {
     "name": "stderr",
     "output_type": "stream",
     "text": [
      "100%|██████████| 230/230 [00:36<00:00,  6.24it/s]\n"
     ]
    },
    {
     "name": "stdout",
     "output_type": "stream",
     "text": [
      "loss :0.5034122478026849 pos_loss:0.4330045909680273 neg_loss:0.22432423882338515\n",
      "test df length :  2997\n"
     ]
    },
    {
     "name": "stderr",
     "output_type": "stream",
     "text": [
      "100%|██████████| 188/188 [00:33<00:00,  5.65it/s]\n"
     ]
    },
    {
     "name": "stdout",
     "output_type": "stream",
     "text": [
      "loss :0.34099393505104153 pos_loss:0.274101248459523 neg_loss:0.17680494373304695\n",
      "test df length :  2919\n"
     ]
    },
    {
     "name": "stderr",
     "output_type": "stream",
     "text": [
      "100%|██████████| 183/183 [00:31<00:00,  5.86it/s]\n"
     ]
    },
    {
     "name": "stdout",
     "output_type": "stream",
     "text": [
      "loss :0.25739585257424646 pos_loss:0.07581521174776759 neg_loss:0.22247169210566525\n",
      "test df length :  2619\n"
     ]
    },
    {
     "name": "stderr",
     "output_type": "stream",
     "text": [
      "100%|██████████| 164/164 [00:29<00:00,  5.62it/s]\n"
     ]
    },
    {
     "name": "stdout",
     "output_type": "stream",
     "text": [
      "loss :0.4942061600051447 pos_loss:0.35107375648188777 neg_loss:0.2692521663931305\n",
      "test df length :  2250\n"
     ]
    },
    {
     "name": "stderr",
     "output_type": "stream",
     "text": [
      "100%|██████████| 141/141 [00:26<00:00,  5.27it/s]\n"
     ]
    },
    {
     "name": "stdout",
     "output_type": "stream",
     "text": [
      "loss :0.15757664084863884 pos_loss:0.05285016446975366 neg_loss:0.18422349209259087\n",
      "test df length :  3386\n"
     ]
    },
    {
     "name": "stderr",
     "output_type": "stream",
     "text": [
      "100%|██████████| 212/212 [00:34<00:00,  6.17it/s]\n"
     ]
    },
    {
     "name": "stdout",
     "output_type": "stream",
     "text": [
      "loss :0.3157170084060358 pos_loss:0.26622149851785326 neg_loss:0.29225205062233184\n",
      "test df length :  2331\n"
     ]
    },
    {
     "name": "stderr",
     "output_type": "stream",
     "text": [
      "100%|██████████| 146/146 [00:26<00:00,  5.55it/s]\n"
     ]
    },
    {
     "name": "stdout",
     "output_type": "stream",
     "text": [
      "loss :0.7309043818219307 pos_loss:0.5359112093305829 neg_loss:0.39316845679032486\n",
      "test df length :  3060\n"
     ]
    },
    {
     "name": "stderr",
     "output_type": "stream",
     "text": [
      "100%|██████████| 192/192 [00:34<00:00,  5.56it/s]\n"
     ]
    },
    {
     "name": "stdout",
     "output_type": "stream",
     "text": [
      "loss :0.8778485277691832 pos_loss:1.0246345439000768 neg_loss:0.18354281568786093\n",
      "test df length :  2837\n"
     ]
    },
    {
     "name": "stderr",
     "output_type": "stream",
     "text": [
      "100%|██████████| 178/178 [00:28<00:00,  6.22it/s]\n"
     ]
    },
    {
     "name": "stdout",
     "output_type": "stream",
     "text": [
      "loss :0.12420163560749538 pos_loss:0.06818542970566716 neg_loss:0.12567600610272278\n",
      "test df length :  2455\n"
     ]
    },
    {
     "name": "stderr",
     "output_type": "stream",
     "text": [
      "100%|██████████| 154/154 [00:29<00:00,  5.17it/s]\n"
     ]
    },
    {
     "name": "stdout",
     "output_type": "stream",
     "text": [
      "loss :0.4622210099495083 pos_loss:0.3473586948777573 neg_loss:0.39674516311459496\n",
      "test df length :  2729\n"
     ]
    },
    {
     "name": "stderr",
     "output_type": "stream",
     "text": [
      "100%|██████████| 171/171 [00:28<00:00,  5.97it/s]\n"
     ]
    },
    {
     "name": "stdout",
     "output_type": "stream",
     "text": [
      "loss :0.4999501125999138 pos_loss:0.5870035775457274 neg_loss:0.1060958829488534\n",
      "test df length :  2445\n"
     ]
    },
    {
     "name": "stderr",
     "output_type": "stream",
     "text": [
      "100%|██████████| 153/153 [00:26<00:00,  5.77it/s]\n"
     ]
    },
    {
     "name": "stdout",
     "output_type": "stream",
     "text": [
      "loss :0.3429773144783791 pos_loss:0.33762919900691335 neg_loss:0.13461606641558926\n",
      "test df length :  3122\n"
     ]
    },
    {
     "name": "stderr",
     "output_type": "stream",
     "text": [
      "100%|██████████| 196/196 [00:32<00:00,  5.99it/s]\n"
     ]
    },
    {
     "name": "stdout",
     "output_type": "stream",
     "text": [
      "loss :0.25144482768207255 pos_loss:0.022664429618491806 neg_loss:0.2546637870573864\n",
      "test df length :  2520\n"
     ]
    },
    {
     "name": "stderr",
     "output_type": "stream",
     "text": [
      "100%|██████████| 158/158 [00:27<00:00,  5.80it/s]\n"
     ]
    },
    {
     "name": "stdout",
     "output_type": "stream",
     "text": [
      "loss :0.27056914620899597 pos_loss:0.03481383076918349 neg_loss:0.391290557707874\n",
      "test df length :  2059\n"
     ]
    },
    {
     "name": "stderr",
     "output_type": "stream",
     "text": [
      "100%|██████████| 129/129 [00:24<00:00,  5.23it/s]\n"
     ]
    },
    {
     "name": "stdout",
     "output_type": "stream",
     "text": [
      "loss :0.3829482776780504 pos_loss:0.17257380103738945 neg_loss:0.23911733219483533\n",
      "test df length :  2891\n"
     ]
    },
    {
     "name": "stderr",
     "output_type": "stream",
     "text": [
      "100%|██████████| 181/181 [00:31<00:00,  5.72it/s]\n"
     ]
    },
    {
     "name": "stdout",
     "output_type": "stream",
     "text": [
      "loss :0.6056408358185725 pos_loss:0.41899870483483687 neg_loss:0.5657720235456706\n",
      "test df length :  2454\n"
     ]
    },
    {
     "name": "stderr",
     "output_type": "stream",
     "text": [
      "100%|██████████| 154/154 [00:27<00:00,  5.58it/s]\n"
     ]
    },
    {
     "name": "stdout",
     "output_type": "stream",
     "text": [
      "loss :0.34024297119747215 pos_loss:0.30485291906648004 neg_loss:0.16745563576356426\n",
      "test df length :  2245\n"
     ]
    },
    {
     "name": "stderr",
     "output_type": "stream",
     "text": [
      "100%|██████████| 141/141 [00:26<00:00,  5.39it/s]\n"
     ]
    },
    {
     "name": "stdout",
     "output_type": "stream",
     "text": [
      "loss :0.4287412707253916 pos_loss:0.4595799581792195 neg_loss:0.12716675584682463\n",
      "test df length :  2688\n"
     ]
    },
    {
     "name": "stderr",
     "output_type": "stream",
     "text": [
      "100%|██████████| 168/168 [00:31<00:00,  5.39it/s]\n"
     ]
    },
    {
     "name": "stdout",
     "output_type": "stream",
     "text": [
      "loss :0.7747928849081267 pos_loss:0.19720698496025582 neg_loss:0.6588389747352674\n",
      "test df length :  2599\n"
     ]
    },
    {
     "name": "stderr",
     "output_type": "stream",
     "text": [
      "100%|██████████| 163/163 [00:28<00:00,  5.72it/s]\n"
     ]
    },
    {
     "name": "stdout",
     "output_type": "stream",
     "text": [
      "loss :0.5130169857941507 pos_loss:0.5596658295814347 neg_loss:0.17878759268802988\n",
      "test df length :  2610\n"
     ]
    },
    {
     "name": "stderr",
     "output_type": "stream",
     "text": [
      "100%|██████████| 164/164 [00:29<00:00,  5.56it/s]\n"
     ]
    },
    {
     "name": "stdout",
     "output_type": "stream",
     "text": [
      "loss :0.5862220353314447 pos_loss:0.514179680879284 neg_loss:0.24884272328795876\n",
      "test df length :  2658\n"
     ]
    },
    {
     "name": "stderr",
     "output_type": "stream",
     "text": [
      "100%|██████████| 167/167 [00:29<00:00,  5.65it/s]\n"
     ]
    },
    {
     "name": "stdout",
     "output_type": "stream",
     "text": [
      "loss :0.4410719792497934 pos_loss:0.4907576489318082 neg_loss:0.25238983342935106\n",
      "test df length :  2331\n"
     ]
    },
    {
     "name": "stderr",
     "output_type": "stream",
     "text": [
      "100%|██████████| 146/146 [00:26<00:00,  5.60it/s]\n"
     ]
    },
    {
     "name": "stdout",
     "output_type": "stream",
     "text": [
      "loss :0.6300167449248324 pos_loss:0.5968002653837752 neg_loss:0.26780945330034545\n",
      "test df length :  3121\n"
     ]
    },
    {
     "name": "stderr",
     "output_type": "stream",
     "text": [
      "100%|██████████| 196/196 [00:33<00:00,  5.83it/s]\n"
     ]
    },
    {
     "name": "stdout",
     "output_type": "stream",
     "text": [
      "loss :0.5603734283948426 pos_loss:0.5797046260487723 neg_loss:0.2370121188446559\n",
      "test df length :  2919\n"
     ]
    },
    {
     "name": "stderr",
     "output_type": "stream",
     "text": [
      "100%|██████████| 183/183 [00:30<00:00,  5.93it/s]\n"
     ]
    },
    {
     "name": "stdout",
     "output_type": "stream",
     "text": [
      "loss :0.40557465584746066 pos_loss:0.030710967255699467 neg_loss:0.403105139005246\n",
      "test df length :  3108\n"
     ]
    },
    {
     "name": "stderr",
     "output_type": "stream",
     "text": [
      "100%|██████████| 195/195 [00:34<00:00,  5.70it/s]\n"
     ]
    },
    {
     "name": "stdout",
     "output_type": "stream",
     "text": [
      "loss :0.5344419418185353 pos_loss:0.4637936844930987 neg_loss:0.24416722844565478\n",
      "test df length :  2923\n"
     ]
    },
    {
     "name": "stderr",
     "output_type": "stream",
     "text": [
      "100%|██████████| 183/183 [00:29<00:00,  6.26it/s]\n"
     ]
    },
    {
     "name": "stdout",
     "output_type": "stream",
     "text": [
      "loss :0.5826389705886833 pos_loss:0.3373316603835048 neg_loss:0.3893878215864304\n",
      "test df length :  2802\n"
     ]
    },
    {
     "name": "stderr",
     "output_type": "stream",
     "text": [
      "100%|██████████| 176/176 [00:28<00:00,  6.17it/s]\n"
     ]
    },
    {
     "name": "stdout",
     "output_type": "stream",
     "text": [
      "loss :0.4009426447945381 pos_loss:0.002647896607569773 neg_loss:0.4115090870366254\n",
      "test df length :  2576\n"
     ]
    },
    {
     "name": "stderr",
     "output_type": "stream",
     "text": [
      "100%|██████████| 161/161 [00:29<00:00,  5.42it/s]\n"
     ]
    },
    {
     "name": "stdout",
     "output_type": "stream",
     "text": [
      "loss :0.2991770027976228 pos_loss:0.08687844340215563 neg_loss:0.2511667182896936\n",
      "test df length :  2776\n"
     ]
    },
    {
     "name": "stderr",
     "output_type": "stream",
     "text": [
      "100%|██████████| 174/174 [00:32<00:00,  5.39it/s]\n"
     ]
    },
    {
     "name": "stdout",
     "output_type": "stream",
     "text": [
      "loss :0.25686834067625414 pos_loss:0.17598624873051122 neg_loss:0.28714309604661364\n",
      "test df length :  2672\n"
     ]
    },
    {
     "name": "stderr",
     "output_type": "stream",
     "text": [
      "100%|██████████| 167/167 [00:30<00:00,  5.56it/s]\n"
     ]
    },
    {
     "name": "stdout",
     "output_type": "stream",
     "text": [
      "loss :0.6401059561284577 pos_loss:0.5855241836160505 neg_loss:0.2539075529586473\n",
      "test df length :  1074\n"
     ]
    },
    {
     "name": "stderr",
     "output_type": "stream",
     "text": [
      "100%|██████████| 68/68 [00:14<00:00,  4.60it/s]"
     ]
    },
    {
     "name": "stdout",
     "output_type": "stream",
     "text": [
      "loss :0.41239559832837036 pos_loss:0.24716456437619264 neg_loss:0.4923677391732221\n"
     ]
    },
    {
     "name": "stderr",
     "output_type": "stream",
     "text": [
      "\n"
     ]
    }
   ],
   "source": [
    "start_batch_index = 0\n",
    "for i in range(252):\n",
    "    loss, pos_loss, neg_loss, batch_index = evaluator.evaluate(epoch + i + start_batch_index)\n",
    "    wandb.log({\n",
    "        'val/total_loss': loss,\n",
    "        'val/pos_loss': pos_loss,\n",
    "        'val/neg_loss': neg_loss,\n",
    "        'val/batch_index' : batch_index\n",
    "    })"
   ]
  },
  {
   "cell_type": "code",
   "execution_count": null,
   "metadata": {
    "collapsed": false,
    "jupyter": {
     "outputs_hidden": false
    }
   },
   "outputs": [],
   "source": [
    "for e in range(100):\n",
    "\n",
    "    train_loss = train_one_epoch(epoch, model, train_loader)\n",
    "\n",
    "    epoch += 1    \n",
    "    scheduler.step()\n",
    "    \n",
    "    with torch.no_grad():\n",
    "        loss = evaluator.evaluate(epoch)\n",
    "        wandb.log({\n",
    "            'val/mean_loss': loss,\n",
    "            'epoch' : epoch\n",
    "        })\n",
    "        save_state(epoch)\n",
    "        \n",
    "    \n",
    "        \n",
    "    # if epoch % 10 == 0:\n",
    "    #     save_state(epoch)"
   ]
  },
  {
   "cell_type": "code",
   "execution_count": null,
   "metadata": {
    "collapsed": false,
    "jupyter": {
     "outputs_hidden": false
    }
   },
   "outputs": [],
   "source": [
    "save_state(epoch)"
   ]
  },
  {
   "cell_type": "code",
   "execution_count": null,
   "metadata": {},
   "outputs": [],
   "source": []
  }
 ],
 "metadata": {
  "kernelspec": {
   "display_name": "Python 3 (ipykernel)",
   "language": "python",
   "name": "python3"
  },
  "language_info": {
   "codemirror_mode": {
    "name": "ipython",
    "version": 3
   },
   "file_extension": ".py",
   "mimetype": "text/x-python",
   "name": "python",
   "nbconvert_exporter": "python",
   "pygments_lexer": "ipython3",
   "version": "3.8.10"
  }
 },
 "nbformat": 4,
 "nbformat_minor": 4
}
