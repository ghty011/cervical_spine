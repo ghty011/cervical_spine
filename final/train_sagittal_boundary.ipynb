{
 "cells": [
  {
   "cell_type": "code",
   "execution_count": 1,
   "outputs": [],
   "source": [
    "IMAGE_SIZE = 512"
   ],
   "metadata": {
    "collapsed": false
   }
  },
  {
   "cell_type": "code",
   "execution_count": 2,
   "metadata": {
    "collapsed": true
   },
   "outputs": [],
   "source": [
    "import os\n",
    "import glob\n",
    "import pandas as pd\n",
    "import numpy as np\n",
    "import matplotlib.pyplot as plt\n",
    "import matplotlib.patches as patches\n",
    "\n",
    "from tqdm import tqdm\n",
    "\n",
    "from PIL import Image, ImageOps"
   ]
  },
  {
   "cell_type": "code",
   "execution_count": null,
   "outputs": [],
   "source": [
    "import torch\n",
    "import torch.nn as nn\n",
    "import torch.nn.functional as F\n",
    "import torch.optim as optim\n",
    "from torch.utils.data import Dataset, DataLoader\n",
    "import torchvision\n",
    "from torchvision.io import read_image\n",
    "import torchvision.transforms as T\n",
    "\n",
    "import torchvision.transforms.functional as TF\n",
    "import torchvision.models as models\n",
    "\n",
    "import albumentations as A"
   ],
   "metadata": {
    "collapsed": false,
    "pycharm": {
     "is_executing": true
    }
   }
  },
  {
   "cell_type": "code",
   "execution_count": null,
   "outputs": [],
   "source": [
    "DATA_DIR = \"/Volumes/SSD970/\"\n",
    "IMAGES_DIR = os.path.join(DATA_DIR, \"xray_images\")"
   ],
   "metadata": {
    "collapsed": false
   }
  },
  {
   "cell_type": "code",
   "execution_count": null,
   "outputs": [],
   "source": [
    "bbox_df = pd.read_csv(os.path.join(DATA_DIR, 'segmentation_sagittal_bbox.csv')).set_index('UID')\n",
    "bbox_df.head()"
   ],
   "metadata": {
    "collapsed": false
   }
  },
  {
   "cell_type": "code",
   "execution_count": null,
   "outputs": [],
   "source": [
    "class SagittalBoundaryDataset(Dataset):\n",
    "    def __init__(self, df, image_dir, transform=None):\n",
    "        super().__init__()\n",
    "\n",
    "        self.df = df\n",
    "        self.image_dir = image_dir\n",
    "        self.transform = transform\n",
    "\n",
    "    def __len__(self):\n",
    "        return len(self.df)\n",
    "\n",
    "    def __getitem__(self, idx):\n",
    "        s = self.df.iloc[idx]\n",
    "        UID = s.name\n",
    "        img = Image.open(os.path.join(self.image_dir, UID, f\"{int(s.sagittal_index)}.jpeg\"))\n",
    "\n",
    "        label = s[['xmin','ymin','xmax','ymax']]\n",
    "\n",
    "        if self.transform:\n",
    "            img, label = self.transform(img,  label)\n",
    "\n",
    "        return img, label\n",
    "\n",
    "dataset = SagittalBoundaryDataset(bbox_df, IMAGES_DIR)\n",
    "img, label = dataset[1]\n",
    "print(label)\n",
    "plt.imshow(img)"
   ],
   "metadata": {
    "collapsed": false
   }
  },
  {
   "cell_type": "code",
   "execution_count": null,
   "outputs": [],
   "source": [
    "class DataTransform(nn.Module):\n",
    "    def __init__(self, image_size):\n",
    "        super().__init__()\n",
    "        self.transform = A.Compose([\n",
    "            A.ShiftScaleRotate(p=0.5),\n",
    "            A.RandomBrightnessContrast(p=0.3),\n",
    "        ],\n",
    "            bbox_params=A.BboxParams(format='pascal_voc'),\n",
    "        )\n",
    "\n",
    "    def forward(self, x, label):\n",
    "        x = TF.center_crop(x, max(x.width, x.height))\n",
    "        transformed = self.transform(image=x, bboxes=label)\n",
    "\n",
    "        return transformed[\"image\"], transformed[\"bboxes\"]\n",
    "transform = DataTransform(IMAGE_SIZE)"
   ],
   "metadata": {
    "collapsed": false
   }
  }
 ],
 "metadata": {
  "kernelspec": {
   "display_name": "Python 3",
   "language": "python",
   "name": "python3"
  },
  "language_info": {
   "codemirror_mode": {
    "name": "ipython",
    "version": 2
   },
   "file_extension": ".py",
   "mimetype": "text/x-python",
   "name": "python",
   "nbconvert_exporter": "python",
   "pygments_lexer": "ipython2",
   "version": "2.7.6"
  }
 },
 "nbformat": 4,
 "nbformat_minor": 0
}
