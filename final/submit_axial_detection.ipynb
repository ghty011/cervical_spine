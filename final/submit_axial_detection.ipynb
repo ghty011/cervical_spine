{
 "cells": [
  {
   "cell_type": "code",
   "execution_count": 1,
   "id": "8cc98b36-3b98-46ab-85a5-e418c7fc2147",
   "metadata": {},
   "outputs": [],
   "source": [
    "image_size = 512\n",
    "backbone='efficientdetv2_ds'\n",
    "checkpoint='axial_detection_effdet_134352-epoch-52'"
   ]
  },
  {
   "cell_type": "code",
   "execution_count": 2,
   "id": "3d9f1787-2943-4036-8b92-6f98775df0d4",
   "metadata": {},
   "outputs": [
    {
     "data": {
      "text/plain": [
       "'cuda'"
      ]
     },
     "execution_count": 2,
     "metadata": {},
     "output_type": "execute_result"
    }
   ],
   "source": [
    "import pandas as pd\n",
    "import torch\n",
    "import matplotlib.pyplot as plt\n",
    "import seaborn as sns\n",
    "import ast\n",
    "import sys\n",
    "\n",
    "import pydicom\n",
    "import pylibjpeg\n",
    "\n",
    "effdet_path = \"../third/effdet\"\n",
    "sys.path.append(effdet_path)\n",
    "from effdet import create_model\n",
    "\n",
    "timm_path = \"../third/timm-pytorch-image-models\"\n",
    "sys.path.append(timm_path)\n",
    "import timm\n",
    "from timm.data import IMAGENET_DEFAULT_MEAN, IMAGENET_DEFAULT_STD\n",
    "from matplotlib import patches\n",
    "import sklearn\n",
    "import os\n",
    "from tqdm import tqdm\n",
    "\n",
    "omega_path = \"../third/omegaconf\"\n",
    "sys.path.append(omega_path)\n",
    "from omegaconf import OmegaConf\n",
    "import glob\n",
    "import sklearn\n",
    "import math\n",
    "import random\n",
    "import numpy as np\n",
    "\n",
    "from PIL import Image\n",
    "\n",
    "import cv2\n",
    "import albumentations as A\n",
    "from albumentations.pytorch import ToTensorV2\n",
    "\n",
    "import torch\n",
    "import torch.nn as nn\n",
    "import torch.nn.functional as F\n",
    "from torch.utils.data import Dataset, DataLoader\n",
    "from torch import optim\n",
    "from torchvision import transforms\n",
    "import torchvision.models as models\n",
    "import torchvision.transforms as T\n",
    "import torchvision.transforms.functional as TF\n",
    "# from transformers import get_cosine_schedule_with_warmup\n",
    "\n",
    "import warnings\n",
    "\n",
    "warnings.filterwarnings('ignore')\n",
    "from sklearn import metrics, model_selection, preprocessing\n",
    "\n",
    "# from sklearn.model_selection import GroupKFold\n",
    "\n",
    "\n",
    "# pos_weight = torch.tensor(pos_weight)\n",
    "device = 'cuda' if torch.cuda.is_available() else 'cpu'\n",
    "device"
   ]
  },
  {
   "cell_type": "code",
   "execution_count": 3,
   "id": "1a6704ff-0ffe-4073-8fd5-78bd051cd4ba",
   "metadata": {},
   "outputs": [],
   "source": [
    "DATA_DIR = \"/root/autodl-tmp/cervical_spine/\"\n",
    "\n",
    "IMAGES_DIR = os.path.join(DATA_DIR, 'train_images')"
   ]
  },
  {
   "cell_type": "code",
   "execution_count": 4,
   "id": "6e085bb4-108e-4993-a279-772d389e8a3f",
   "metadata": {},
   "outputs": [
    {
     "data": {
      "text/html": [
       "<div>\n",
       "<style scoped>\n",
       "    .dataframe tbody tr th:only-of-type {\n",
       "        vertical-align: middle;\n",
       "    }\n",
       "\n",
       "    .dataframe tbody tr th {\n",
       "        vertical-align: top;\n",
       "    }\n",
       "\n",
       "    .dataframe thead th {\n",
       "        text-align: right;\n",
       "    }\n",
       "</style>\n",
       "<table border=\"1\" class=\"dataframe\">\n",
       "  <thead>\n",
       "    <tr style=\"text-align: right;\">\n",
       "      <th></th>\n",
       "      <th>row_id</th>\n",
       "      <th>StudyInstanceUID</th>\n",
       "      <th>prediction_type</th>\n",
       "    </tr>\n",
       "  </thead>\n",
       "  <tbody>\n",
       "    <tr>\n",
       "      <th>0</th>\n",
       "      <td>1.2.826.0.1.3680043.10197_C1</td>\n",
       "      <td>1.2.826.0.1.3680043.10197</td>\n",
       "      <td>C1</td>\n",
       "    </tr>\n",
       "    <tr>\n",
       "      <th>1</th>\n",
       "      <td>1.2.826.0.1.3680043.10454_C1</td>\n",
       "      <td>1.2.826.0.1.3680043.10454</td>\n",
       "      <td>C1</td>\n",
       "    </tr>\n",
       "    <tr>\n",
       "      <th>2</th>\n",
       "      <td>1.2.826.0.1.3680043.10690_C1</td>\n",
       "      <td>1.2.826.0.1.3680043.10690</td>\n",
       "      <td>C1</td>\n",
       "    </tr>\n",
       "  </tbody>\n",
       "</table>\n",
       "</div>"
      ],
      "text/plain": [
       "                         row_id           StudyInstanceUID prediction_type\n",
       "0  1.2.826.0.1.3680043.10197_C1  1.2.826.0.1.3680043.10197              C1\n",
       "1  1.2.826.0.1.3680043.10454_C1  1.2.826.0.1.3680043.10454              C1\n",
       "2  1.2.826.0.1.3680043.10690_C1  1.2.826.0.1.3680043.10690              C1"
      ]
     },
     "execution_count": 4,
     "metadata": {},
     "output_type": "execute_result"
    }
   ],
   "source": [
    "test_df = pd.read_csv(os.path.join(DATA_DIR, 'test.csv'))\n",
    "test_df"
   ]
  },
  {
   "cell_type": "markdown",
   "id": "3ba3177f-b148-4c1b-ba44-168e13bf3ae3",
   "metadata": {},
   "source": [
    "## read dcm file\n"
   ]
  },
  {
   "cell_type": "code",
   "execution_count": 5,
   "id": "0edf2b08-0219-47c2-8897-8cf7ac3c7da3",
   "metadata": {},
   "outputs": [],
   "source": [
    "def rescale_img_to_hu(dcm_ds):\n",
    "    \"\"\"Rescales the image to Hounsfield unit.\n",
    "    \"\"\"\n",
    "    return dcm_ds.pixel_array * dcm_ds.RescaleSlope + dcm_ds.RescaleIntercept\n",
    "\n",
    "\n",
    "def read_dcm(patient_dir, num_instance):\n",
    "    dcm_path = os.path.join(patient_dir, f\"{int(num_instance)}.dcm\")\n",
    "    ds = pydicom.dcmread(dcm_path)\n",
    "    img2d = rescale_img_to_hu(ds)\n",
    "    return normalize_hu(img2d)\n",
    "\n",
    "def read_patient_dcm(patient_dir):\n",
    "    \"\"\"\n",
    "    여기서 이미지를 정상적인 순서로 돌려 놓는다\n",
    "    :param patient_dir:\n",
    "    :return:\n",
    "    \"\"\"\n",
    "    num_slices = len(glob.glob(patient_dir + \"/*.dcm\"))\n",
    "    print(f\"total slices {num_slices}\")\n",
    "    imgs = np.zeros((num_slices, 512, 512))\n",
    "    image_positions = np.zeros((num_slices, 3))\n",
    "    image_orientations = np.zeros((num_slices, 6))\n",
    "    pixel_spacings = np.zeros((num_slices, 2))\n",
    "    slice_thicknesses = np.zeros((num_slices, 1))\n",
    "\n",
    "    ignore_count = 1\n",
    "    for i in range(num_slices):\n",
    "        dcm_path = os.path.join(patient_dir, f\"{i+ignore_count}.dcm\")\n",
    "        while os.path.exists(dcm_path) == False:\n",
    "            ignore_count += 1\n",
    "            dcm_path = os.path.join(patient_dir, f\"{i+ignore_count}.dcm\")\n",
    "        ds = pydicom.dcmread(dcm_path)\n",
    "\n",
    "        image_positions[i, :] = ds.ImagePositionPatient\n",
    "        image_orientations[i, :] = ds.ImageOrientationPatient\n",
    "        pixel_spacings[i, :] = ds.PixelSpacing\n",
    "        slice_thicknesses[i, :] = ds.SliceThickness\n",
    "\n",
    "        img2d = rescale_img_to_hu(ds)\n",
    "\n",
    "        imgs[i] = img2d\n",
    "\n",
    "    is_flip = False\n",
    "    # check z is in good direction\n",
    "    if image_positions[0, 2] < image_positions[1, 2]:\n",
    "        is_flip = True\n",
    "        # flip image in z direction\n",
    "        imgs = np.flip(imgs, axis=0)\n",
    "        image_positions = np.flip(image_positions, axis=0)\n",
    "        pixel_spacings = np.flip(pixel_spacings, axis=0)\n",
    "        slice_thicknesses = np.flip(slice_thicknesses, axis=0)\n",
    "\n",
    "    aspect = calculate_aspect(image_positions, pixel_spacings)\n",
    "        \n",
    "    return imgs, aspect\n",
    "\n",
    "\n",
    "def normalize_hu(data):\n",
    "    # normalize to 0-1\n",
    "    # return (data - data.min()) / data.max()\n",
    "    data = np.clip(data, a_min=-2242, a_max=2242) / 4484 + 0.5\n",
    "    return data\n",
    "\n",
    "def calculate_aspect(image_positions, pixel_spacings):\n",
    "    \"\"\"\n",
    "    calculate z aspect, z 를 몇배로 늘여야 하는가야\n",
    "    :param image_positions:\n",
    "    :param pixel_spacings:\n",
    "    :return:\n",
    "    \"\"\"\n",
    "    height = image_positions[0, 2] - image_positions[1, 2]\n",
    "    pixel_spacing = pixel_spacings[0, 0]\n",
    "    aspect = height / pixel_spacing\n",
    "    return aspect"
   ]
  },
  {
   "cell_type": "markdown",
   "id": "5b8d7bbc-ba26-4623-ac44-bddd9f838c4a",
   "metadata": {},
   "source": [
    "## get boundary"
   ]
  },
  {
   "cell_type": "code",
   "execution_count": 6,
   "id": "2b6ce332-6c11-4133-9c87-f48d19ceb956",
   "metadata": {},
   "outputs": [],
   "source": [
    "class BoundaryDataTransform(nn.Module):\n",
    "    def __init__(self, image_size=256):\n",
    "        super().__init__()\n",
    "\n",
    "        self.transform = T.Compose([\n",
    "            T.Resize(image_size),\n",
    "            T.ToTensor(),\n",
    "            T.Normalize(0.5, 0.5)\n",
    "        ])\n",
    "\n",
    "    def forward(self, x):\n",
    "        \n",
    "        x = TF.center_crop(x, max(x.width, x.height))\n",
    "        x = self.transform(x)\n",
    "\n",
    "        return x\n",
    "\n",
    "\n",
    "def get_sagittal_boundary_model():\n",
    "    model = models.efficientnet_v2_m(pretrained=False)\n",
    "    conv1_weight = model.features[0][0].weight\n",
    "    conv1_weight = conv1_weight.mean(dim=1).unsqueeze(1)\n",
    "\n",
    "    model.features[0][0] = nn.Conv2d(1, 64, kernel_size=(7, 7), stride=1, padding='same', bias=False)\n",
    "    model.features[0][0].weight = nn.Parameter(conv1_weight, requires_grad=True)\n",
    "\n",
    "    model.avgpool = nn.Sequential(\n",
    "        nn.MaxPool2d(2, 2),\n",
    "        nn.Flatten()\n",
    "    )\n",
    "    # model.classifier[1] = nn.Linear(1280, 4, bias=True)\n",
    "    model.classifier[1] = nn.Sequential(\n",
    "        nn.Linear(81920, 1024, bias=True),\n",
    "        nn.ReLU(),\n",
    "        nn.Linear(1024, 4, bias=True)\n",
    "    )\n",
    "    state = torch.load(os.path.join(DATA_DIR, 'checkpoint', 'xray_effnet-m_boundary_193121-epoch-300.pth'))\n",
    "    model.load_state_dict(state[\"model\"])\n",
    "    model = model.to(device).eval()\n",
    "    \n",
    "    \n",
    "    transform = BoundaryDataTransform(256)\n",
    "    \n",
    "    return model, transform\n",
    "\n",
    "def get_coronal_boundary_model():\n",
    "    model = models.efficientnet_v2_m(pretrained=False)\n",
    "    conv1_weight = model.features[0][0].weight\n",
    "    conv1_weight = conv1_weight.mean(dim=1).unsqueeze(1)\n",
    "\n",
    "    model.features[0][0] = nn.Conv2d(1, 64, kernel_size=(7, 7), stride=1, padding='same', bias=False)\n",
    "    model.features[0][0].weight = nn.Parameter(conv1_weight, requires_grad=True)\n",
    "\n",
    "    model.avgpool = nn.Sequential(\n",
    "        nn.MaxPool2d(2, 2),\n",
    "        nn.Flatten()\n",
    "    )\n",
    "    # model.classifier[1] = nn.Linear(1280, 4, bias=True)\n",
    "    model.classifier[1] = nn.Sequential(\n",
    "        nn.Linear(81920, 1024, bias=True),\n",
    "        nn.ReLU(),\n",
    "        nn.Linear(1024, 4, bias=True)\n",
    "    )\n",
    "\n",
    "    state = torch.load(os.path.join(DATA_DIR, 'checkpoint', 'coronal_effnet-m_boundary_185858-epoch-300.pth'))\n",
    "    model.load_state_dict(state[\"model\"])\n",
    "    model = model.to(device).eval()\n",
    "    transform = BoundaryDataTransform(256)\n",
    "    \n",
    "    return model, transform\n",
    "\n",
    "\n",
    "sagittal_boundary_model, sb_transform = get_sagittal_boundary_model()\n",
    "coronal_boundary_model, cb_transform = get_coronal_boundary_model()"
   ]
  },
  {
   "cell_type": "code",
   "execution_count": 7,
   "id": "a82efd69-ec1e-44a6-9323-d553cd9d1297",
   "metadata": {},
   "outputs": [
    {
     "data": {
      "text/html": [
       "<div>\n",
       "<style scoped>\n",
       "    .dataframe tbody tr th:only-of-type {\n",
       "        vertical-align: middle;\n",
       "    }\n",
       "\n",
       "    .dataframe tbody tr th {\n",
       "        vertical-align: top;\n",
       "    }\n",
       "\n",
       "    .dataframe thead th {\n",
       "        text-align: right;\n",
       "    }\n",
       "</style>\n",
       "<table border=\"1\" class=\"dataframe\">\n",
       "  <thead>\n",
       "    <tr style=\"text-align: right;\">\n",
       "      <th></th>\n",
       "      <th>StudyInstanceUID</th>\n",
       "      <th>patient_overall</th>\n",
       "      <th>C1</th>\n",
       "      <th>C2</th>\n",
       "      <th>C3</th>\n",
       "      <th>C4</th>\n",
       "      <th>C5</th>\n",
       "      <th>C6</th>\n",
       "      <th>C7</th>\n",
       "    </tr>\n",
       "  </thead>\n",
       "  <tbody>\n",
       "    <tr>\n",
       "      <th>1837</th>\n",
       "      <td>1.2.826.0.1.3680043.10001</td>\n",
       "      <td>0</td>\n",
       "      <td>0</td>\n",
       "      <td>0</td>\n",
       "      <td>0</td>\n",
       "      <td>0</td>\n",
       "      <td>0</td>\n",
       "      <td>0</td>\n",
       "      <td>0</td>\n",
       "    </tr>\n",
       "    <tr>\n",
       "      <th>823</th>\n",
       "      <td>1.2.826.0.1.3680043.10005</td>\n",
       "      <td>0</td>\n",
       "      <td>0</td>\n",
       "      <td>0</td>\n",
       "      <td>0</td>\n",
       "      <td>0</td>\n",
       "      <td>0</td>\n",
       "      <td>0</td>\n",
       "      <td>0</td>\n",
       "    </tr>\n",
       "    <tr>\n",
       "      <th>1021</th>\n",
       "      <td>1.2.826.0.1.3680043.10014</td>\n",
       "      <td>0</td>\n",
       "      <td>0</td>\n",
       "      <td>0</td>\n",
       "      <td>0</td>\n",
       "      <td>0</td>\n",
       "      <td>0</td>\n",
       "      <td>0</td>\n",
       "      <td>0</td>\n",
       "    </tr>\n",
       "    <tr>\n",
       "      <th>667</th>\n",
       "      <td>1.2.826.0.1.3680043.10016</td>\n",
       "      <td>1</td>\n",
       "      <td>0</td>\n",
       "      <td>1</td>\n",
       "      <td>0</td>\n",
       "      <td>0</td>\n",
       "      <td>0</td>\n",
       "      <td>0</td>\n",
       "      <td>0</td>\n",
       "    </tr>\n",
       "    <tr>\n",
       "      <th>322</th>\n",
       "      <td>1.2.826.0.1.3680043.10032</td>\n",
       "      <td>0</td>\n",
       "      <td>0</td>\n",
       "      <td>0</td>\n",
       "      <td>0</td>\n",
       "      <td>0</td>\n",
       "      <td>0</td>\n",
       "      <td>0</td>\n",
       "      <td>0</td>\n",
       "    </tr>\n",
       "  </tbody>\n",
       "</table>\n",
       "</div>"
      ],
      "text/plain": [
       "               StudyInstanceUID  patient_overall  C1  C2  C3  C4  C5  C6  C7\n",
       "1837  1.2.826.0.1.3680043.10001                0   0   0   0   0   0   0   0\n",
       "823   1.2.826.0.1.3680043.10005                0   0   0   0   0   0   0   0\n",
       "1021  1.2.826.0.1.3680043.10014                0   0   0   0   0   0   0   0\n",
       "667   1.2.826.0.1.3680043.10016                1   0   1   0   0   0   0   0\n",
       "322   1.2.826.0.1.3680043.10032                0   0   0   0   0   0   0   0"
      ]
     },
     "execution_count": 7,
     "metadata": {},
     "output_type": "execute_result"
    }
   ],
   "source": [
    "train_df = pd.read_csv(os.path.join(DATA_DIR, 'train.csv')).sort_values('StudyInstanceUID')\n",
    "train_df.head()"
   ]
  },
  {
   "cell_type": "code",
   "execution_count": 1016,
   "id": "13afe671-21ae-4a0d-ace0-9f307e80137b",
   "metadata": {
    "tags": [
     "UID"
    ]
   },
   "outputs": [
    {
     "name": "stdout",
     "output_type": "stream",
     "text": [
      "1.2.826.0.1.3680043.16348\n",
      "[0 0 0 0 0 0 0 0]\n",
      "total slices 478\n",
      "(478, 512, 512)\n",
      "1.2799981795581425\n"
     ]
    }
   ],
   "source": [
    "# UID = '1.2.826.0.1.3680043.15623'\n",
    "# label = np.array([1,1,0,0,0,0,0,0])\n",
    "index = 400\n",
    "UID = train_df.iloc[index]['StudyInstanceUID']\n",
    "print(UID)\n",
    "label = train_df.iloc[index][['patient_overall', 'C1','C2','C3','C4','C5','C6','C7']].values\n",
    "print(label)\n",
    "imgs, aspect = read_patient_dcm(os.path.join(IMAGES_DIR, UID))\n",
    "print(imgs.shape)\n",
    "print(aspect)"
   ]
  },
  {
   "cell_type": "code",
   "execution_count": 1017,
   "id": "aa64395e-6e66-46c2-9b7e-b095e932fe63",
   "metadata": {
    "tags": []
   },
   "outputs": [
    {
     "data": {
      "text/plain": [
       "<matplotlib.image.AxesImage at 0x7f89300482e0>"
      ]
     },
     "execution_count": 1017,
     "metadata": {},
     "output_type": "execute_result"
    },
    {
     "data": {
      "image/png": "[encoded data removed]",
      "text/plain": [
       "<Figure size 432x288 with 2 Axes>"
      ]
     },
     "metadata": {
      "needs_background": "light"
     },
     "output_type": "display_data"
    }
   ],
   "source": [
    "\n",
    "def get_xray_images(imgs):\n",
    "    xray_imgs = np.clip(imgs, a_min=0, a_max=2242)\n",
    "    coronal_xray = xray_imgs.mean(axis=1)\n",
    "    coronal_xray = coronal_xray / coronal_xray.max()\n",
    "    coronal_img = Image.fromarray(np.uint8(coronal_xray * 255), 'L')\n",
    "    coronal_img = coronal_img.resize((coronal_img.width, int(coronal_img.height * aspect)))\n",
    "\n",
    "    sagittal_xray = xray_imgs.mean(axis=2)\n",
    "    sagittal_xray = sagittal_xray / sagittal_xray.max()\n",
    "    sagittal_img = Image.fromarray(np.uint8(sagittal_xray * 255), 'L')\n",
    "    sagittal_img = sagittal_img.resize((sagittal_img.width, int(sagittal_img.height * aspect)))\n",
    "\n",
    "    \n",
    "    return sagittal_img, coronal_img\n",
    "\n",
    "sagittal_img, coronal_img = get_xray_images(imgs)\n",
    "_, axs = plt.subplots(1, 2)\n",
    "axs[0].imshow(sagittal_img, cmap='bone')\n",
    "axs[1].imshow(coronal_img, cmap='bone')"
   ]
  },
  {
   "cell_type": "code",
   "execution_count": 1018,
   "id": "9f0bd631-50c1-4018-ad8d-12a2f77b1248",
   "metadata": {},
   "outputs": [],
   "source": [
    "def square_crop_position(crop_box, image_size=512):\n",
    "    \"\"\"\n",
    "    crop box 를 정방형으로 만들어준다.\n",
    "    :param left:\n",
    "    :param top:\n",
    "    :param right:\n",
    "    :param bottom:\n",
    "    :param image_size:\n",
    "    :return:\n",
    "    \"\"\"\n",
    "    left, top, right, bottom = crop_box\n",
    "    w, h = right - left, bottom - top\n",
    "\n",
    "    if h > w:\n",
    "        left_pad = (h - w) // 2\n",
    "        right_pad = h - w - left_pad\n",
    "        left -= left_pad\n",
    "        right += right_pad\n",
    "\n",
    "        if left < 0:\n",
    "            right -= left\n",
    "            left = 0\n",
    "        elif right > image_size:\n",
    "            left -= right - image_size\n",
    "            right = image_size\n",
    "    else:\n",
    "        top_pad = (w - h) // 2\n",
    "        bottom_pad = w - h - top_pad\n",
    "        top -= top_pad\n",
    "        bottom += bottom_pad\n",
    "\n",
    "        if top < 0:\n",
    "            bottom -= top\n",
    "            top = 0\n",
    "        elif bottom > image_size:\n",
    "            top -= bottom - image_size\n",
    "            bottom = image_size\n",
    "    return left, top, right, bottom"
   ]
  },
  {
   "cell_type": "code",
   "execution_count": 1019,
   "id": "1561cb9a-663d-4cd2-ac5f-98c2481e6949",
   "metadata": {},
   "outputs": [
    {
     "name": "stdout",
     "output_type": "stream",
     "text": [
      "[ 99.689835  23.034586 395.1639   400.3163  ] [117.97781   28.026415 351.36163  382.8932  ]\n",
      "[86, 99, 382, 395]\n",
      "17 312\n"
     ]
    },
    {
     "data": {
      "image/png": "[encoded data removed]",
      "text/plain": [
       "<Figure size 432x288 with 2 Axes>"
      ]
     },
     "metadata": {
      "needs_background": "light"
     },
     "output_type": "display_data"
    }
   ],
   "source": [
    "sagittal_tensor = sb_transform(sagittal_img)\n",
    "coronal_tensor = cb_transform(coronal_img)\n",
    "with torch.no_grad():\n",
    "    sagittal_boundary = sagittal_boundary_model(sagittal_tensor.unsqueeze(0).to(device))[0].sigmoid().cpu().numpy() * 512\n",
    "    coronal_boundary = coronal_boundary_model(coronal_tensor.unsqueeze(0).to(device))[0].sigmoid().cpu().numpy() * 512\n",
    "    print(sagittal_boundary, coronal_boundary)\n",
    "    \n",
    "    _, axs = plt.subplots(1, 2)\n",
    "    \n",
    "    # sagittal_boundary[0] = 100\n",
    "    \n",
    "    axs[0].imshow(sagittal_img, cmap='bone')\n",
    "    axs[0].axvline(sagittal_boundary[0])\n",
    "    axs[0].axvline(sagittal_boundary[2])\n",
    "    axs[0].axhline(sagittal_boundary[1])\n",
    "    axs[0].axhline(sagittal_boundary[3])\n",
    "    \n",
    "    axs[1].imshow(coronal_img, cmap='bone')\n",
    "    axs[1].axvline(coronal_boundary[0])\n",
    "    axs[1].axvline(coronal_boundary[2])\n",
    "    axs[1].axhline(coronal_boundary[1])\n",
    "    axs[1].axhline(coronal_boundary[3])\n",
    "    \n",
    "    axial_boundary = [coronal_boundary[0], sagittal_boundary[0], coronal_boundary[2], sagittal_boundary[2]]\n",
    "    axial_boundary = square_crop_position(axial_boundary)\n",
    "    axial_boundary = [int(num) for num in axial_boundary]\n",
    "    \n",
    "    start_axial_index = int(min(sagittal_boundary[1], coronal_boundary[1]) / aspect)\n",
    "    start_axial_index = max(1, start_axial_index)\n",
    "    \n",
    "    end_axial_index = int(max(sagittal_boundary[3], coronal_boundary[3]) / aspect)\n",
    "    end_axial_index = min(imgs.shape[0]-2, end_axial_index)\n",
    "    \n",
    "    # end_axial_index = imgs.shape[0]-2\n",
    "    \n",
    "    print(axial_boundary)\n",
    "    print(start_axial_index, end_axial_index)\n",
    "    "
   ]
  },
  {
   "cell_type": "markdown",
   "id": "5216c42d-0752-485a-867f-df265dd0d74e",
   "metadata": {},
   "source": [
    "## detection model"
   ]
  },
  {
   "cell_type": "code",
   "execution_count": 1020,
   "id": "4b6a33a9-525d-49d8-ac08-927838389d4b",
   "metadata": {},
   "outputs": [],
   "source": [
    "\n",
    "\n",
    "\n",
    "def get_valid_transforms(target_img_size=512):\n",
    "    return A.Compose(\n",
    "        [\n",
    "            A.Resize(height=target_img_size, width=target_img_size, p=1),\n",
    "            A.Normalize(0.5, 0.5),\n",
    "            ToTensorV2(p=1),\n",
    "        ]\n",
    "    )\n",
    "\n",
    "\n",
    "class DetectionTransform(nn.Module):\n",
    "    def __init__(self, image_size=512):\n",
    "        super().__init__()\n",
    "\n",
    "        self.transform = A.Compose(\n",
    "            [\n",
    "                A.Resize(height=target_img_size, width=target_img_size, p=1),\n",
    "                A.Normalize(0.5, 0.5),\n",
    "                ToTensorV2(p=1),\n",
    "            ]\n",
    "        )\n",
    "\n",
    "    def forward(self, x):\n",
    "        \n",
    "        x = TF.center_crop(x, max(x.width, x.height))\n",
    "        x = self.transform(x)\n",
    "\n",
    "        return x\n",
    "\n",
    "def get_axial_detection_model():\n",
    "    model = create_model(backbone , bench_task='predict' , num_classes= 1 , image_size=(512, 512), bench_labeler=True, pretrained=True)\n",
    "    state = torch.load(os.path.join(DATA_DIR, 'checkpoint',f'{checkpoint}.pth'))\n",
    "    model.load_state_dict(state[\"model\"])\n",
    "    model = model.to(device).eval()\n",
    "    \n",
    "    return model\n",
    "\n",
    "axial_detection_model = get_axial_detection_model()"
   ]
  },
  {
   "cell_type": "code",
   "execution_count": 1021,
   "id": "333a6459-31f4-49dd-b9b1-d021ee8a1099",
   "metadata": {},
   "outputs": [
    {
     "name": "stdout",
     "output_type": "stream",
     "text": [
      "tensor(-0.4567) tensor(0.9975)\n"
     ]
    }
   ],
   "source": [
    "cliped_imgs = np.clip(imgs, a_min=-2242, a_max=2242) / 4484 + 0.5\n",
    "\n",
    "def get_axial_tensor(cliped_imgs):\n",
    "    axial_imgs = cliped_imgs[start_axial_index-1:end_axial_index+2, axial_boundary[1]:axial_boundary[3], axial_boundary[0]:axial_boundary[2]]\n",
    "    # axial_imgs = axial_imgs / axial_imgs.max()\n",
    "    axial_imgs = np.expand_dims(axial_imgs, axis=1)\n",
    "    axial_tensors = torch.tensor(axial_imgs, dtype=torch.float)\n",
    "    axial_tensors = TF.normalize(axial_tensors, 0.5, 0.5)\n",
    "    axial_tensors = TF.resize(axial_tensors, (512, 512))\n",
    "    print(axial_tensors.min(), axial_tensors.max())\n",
    "    axial_tensors.shape\n",
    "    \n",
    "    return axial_tensors\n",
    "\n",
    "axial_tensors = get_axial_tensor(cliped_imgs)"
   ]
  },
  {
   "cell_type": "code",
   "execution_count": 1022,
   "id": "f75e99e7-aec6-40cd-bf7a-36408ae64391",
   "metadata": {},
   "outputs": [],
   "source": [
    "# plt.imshow(axial_imgs[229-start_axial_index, 0, :, :], cmap='bone')"
   ]
  },
  {
   "cell_type": "code",
   "execution_count": 1023,
   "id": "9f7b27d9-16cf-4917-9577-c8831bc25d1d",
   "metadata": {},
   "outputs": [],
   "source": [
    "# axial_tensors[200, :, 200:205, 200:205]"
   ]
  },
  {
   "cell_type": "code",
   "execution_count": 1024,
   "id": "9f04b10c-6a75-4331-b88c-ba1437842d90",
   "metadata": {},
   "outputs": [],
   "source": [
    "# with torch.no_grad():\n",
    "#     r = axial_tensors[[228-start_axial_index], :, :, :]\n",
    "#     g = axial_tensors[[229-start_axial_index], :, :, :]\n",
    "#     b = axial_tensors[[230-start_axial_index], :, :, :]\n",
    "#     print(r.shape, g.shape, b.shape)\n",
    "#     batch_tensor = torch.concat((r, g, b), axis=1)\n",
    "#     plt.imshow(batch_tensor[0, 0, :, :], cmap='bone')\n",
    "#     boxes = axial_detection_model(batch_tensor.to(device))[0, 0, :].cpu().numpy()\n",
    "#     print(boxes)\n",
    "# plt.imshow(batch_tensor[30, :, :, :].permute(1, 2, 0).cpu().numpy())"
   ]
  },
  {
   "cell_type": "code",
   "execution_count": 1025,
   "id": "adc1b250-efb8-4f49-9dd3-b5f9fc9d9d4d",
   "metadata": {},
   "outputs": [
    {
     "name": "stdout",
     "output_type": "stream",
     "text": [
      "torch.Size([32, 1, 512, 512]) torch.Size([32, 1, 512, 512]) torch.Size([32, 1, 512, 512])\n",
      "torch.Size([32, 1, 512, 512]) torch.Size([32, 1, 512, 512]) torch.Size([32, 1, 512, 512])\n",
      "torch.Size([32, 1, 512, 512]) torch.Size([32, 1, 512, 512]) torch.Size([32, 1, 512, 512])\n",
      "torch.Size([32, 1, 512, 512]) torch.Size([32, 1, 512, 512]) torch.Size([32, 1, 512, 512])\n",
      "torch.Size([32, 1, 512, 512]) torch.Size([32, 1, 512, 512]) torch.Size([32, 1, 512, 512])\n",
      "torch.Size([32, 1, 512, 512]) torch.Size([32, 1, 512, 512]) torch.Size([32, 1, 512, 512])\n",
      "torch.Size([32, 1, 512, 512]) torch.Size([32, 1, 512, 512]) torch.Size([32, 1, 512, 512])\n",
      "torch.Size([32, 1, 512, 512]) torch.Size([32, 1, 512, 512]) torch.Size([32, 1, 512, 512])\n",
      "torch.Size([32, 1, 512, 512]) torch.Size([32, 1, 512, 512]) torch.Size([32, 1, 512, 512])\n",
      "torch.Size([8, 1, 512, 512]) torch.Size([8, 1, 512, 512]) torch.Size([8, 1, 512, 512])\n"
     ]
    }
   ],
   "source": [
    "batch_size = 32\n",
    "bbox_list = []\n",
    "\n",
    "with torch.no_grad():\n",
    "    \n",
    "    for i in range(math.ceil((axial_tensors.shape[0]-2) / batch_size)):\n",
    "        \n",
    "        r = axial_tensors[batch_size * i:min(batch_size * (i+1), axial_tensors.shape[0]-2), :, :, :]\n",
    "        g = axial_tensors[batch_size * i+1:min(batch_size * (i+1)+1, axial_tensors.shape[0]-1), :, :, :]\n",
    "        b = axial_tensors[batch_size * i+2:min(batch_size * (i+1)+2, axial_tensors.shape[0]), :, :, :]\n",
    "        print(r.shape, g.shape, b.shape)\n",
    "        batch_tensor = torch.concat((r, g, b), axis=1)\n",
    "        # print(batch_tensor.shape)\n",
    "        bbox = axial_detection_model(batch_tensor.to(device))[:, 0, :].cpu().numpy()\n",
    "\n",
    "        bbox_list.append(bbox)\n",
    "\n",
    "        "
   ]
  },
  {
   "cell_type": "code",
   "execution_count": 1026,
   "id": "14232303-8c80-4ec9-bf2d-69f76fb4a4e9",
   "metadata": {},
   "outputs": [
    {
     "data": {
      "text/plain": [
       "(296, 6)"
      ]
     },
     "execution_count": 1026,
     "metadata": {},
     "output_type": "execute_result"
    }
   ],
   "source": [
    "bbox_list = np.concatenate(bbox_list)\n",
    "bbox_list.shape"
   ]
  },
  {
   "cell_type": "code",
   "execution_count": 1027,
   "id": "e7297380-3ccc-4220-913b-b0bfea8254fa",
   "metadata": {},
   "outputs": [
    {
     "data": {
      "text/plain": [
       "[<matplotlib.lines.Line2D at 0x7f89380f8a60>]"
      ]
     },
     "execution_count": 1027,
     "metadata": {},
     "output_type": "execute_result"
    },
    {
     "data": {
      "image/png": "[encoded data removed]",
      "text/plain": [
       "<Figure size 432x288 with 1 Axes>"
      ]
     },
     "metadata": {
      "needs_background": "light"
     },
     "output_type": "display_data"
    }
   ],
   "source": [
    "plt.plot(bbox_list[:, 4])"
   ]
  },
  {
   "cell_type": "code",
   "execution_count": 1028,
   "id": "04baae76-78ff-45c5-9954-bfc524d8dfa5",
   "metadata": {},
   "outputs": [
    {
     "name": "stdout",
     "output_type": "stream",
     "text": [
      "[]\n",
      "[]\n"
     ]
    },
    {
     "data": {
      "image/png": "[encoded data removed]",
      "text/plain": [
       "<Figure size 432x288 with 1 Axes>"
      ]
     },
     "metadata": {
      "needs_background": "light"
     },
     "output_type": "display_data"
    }
   ],
   "source": [
    "def detected_bbox(bboxes_list, threshold=0.6):\n",
    "    \n",
    "    class_list = np.copy(bboxes_list[:, 4])\n",
    "    class_list[class_list < threshold] = 0\n",
    "    neg_list = 1 - class_list\n",
    "    neg_score = neg_list[0:-2] * neg_list[1:-1] * neg_list[2:]\n",
    "    pos_score = 1 - neg_score\n",
    "    \n",
    "    plt.plot(pos_score)\n",
    "    \n",
    "    detected_slices = pos_score.nonzero()[0]\n",
    "    \n",
    "    nonzero_slices = bboxes_list[detected_slices, 4].nonzero()[0]\n",
    "    detected_slices = detected_slices[nonzero_slices]\n",
    "    \n",
    "    return detected_slices, bboxes_list[detected_slices, :]\n",
    "    \n",
    "detected_slices, detected_boxes = detected_bbox(bbox_list)\n",
    "print(detected_slices)\n",
    "print(detected_boxes)"
   ]
  },
  {
   "cell_type": "code",
   "execution_count": 1029,
   "id": "b626896c-ee40-4264-a45a-20372be4401d",
   "metadata": {},
   "outputs": [],
   "source": [
    "def cal_loss(prob, label):\n",
    "    pos_weight = np.array([14, 2, 2, 2, 2, 2, 2, 2])\n",
    "    neg_weight = np.array([7, 1, 1, 1, 1, 1, 1, 1])\n",
    "    \n",
    "    score = pos_weight * label * np.log(prob) + neg_weight * (1 - label) * np.log(1 - prob)\n",
    "    weight_total = pos_weight * label + neg_weight * (1 - label)\n",
    "    \n",
    "    return -score.sum() / weight_total.sum()"
   ]
  },
  {
   "cell_type": "code",
   "execution_count": 1030,
   "id": "cfd9d203-a1d4-4df3-aaee-a3fc75e2ecaa",
   "metadata": {},
   "outputs": [
    {
     "name": "stdout",
     "output_type": "stream",
     "text": [
      "0.1804063509636929\n"
     ]
    }
   ],
   "source": [
    "if len(detected_boxes) == 0:\n",
    "    prob = np.zeros(8) + 0.01\n",
    "    prob[0] = max(bbox_list[:, 4].max(), 0.01)\n",
    "    # print(prob)\n",
    "    print(cal_loss(prob, label))\n",
    "    "
   ]
  },
  {
   "cell_type": "code",
   "execution_count": 1031,
   "id": "f42e21b7-2004-4ab8-b7e2-17ebb6cb2905",
   "metadata": {},
   "outputs": [],
   "source": [
    "if len(detected_slices) > 0:\n",
    "    detected_slice_index = 0\n",
    "    plt.imshow(axial_tensors[detected_slices[detected_slice_index], 0, :, :], cmap='bone')\n",
    "    plt.axvline(bbox_list[detected_slices[detected_slice_index],0])\n",
    "    plt.axvline(bbox_list[detected_slices[detected_slice_index],2])\n",
    "    plt.axhline(bbox_list[detected_slices[detected_slice_index],1])\n",
    "    plt.axhline(bbox_list[detected_slices[detected_slice_index],3])"
   ]
  },
  {
   "cell_type": "code",
   "execution_count": 1032,
   "id": "c597c937-9e0f-48fa-8c81-ca028cfa9d15",
   "metadata": {},
   "outputs": [
    {
     "data": {
      "text/plain": [
       "(282, 1, 298, 298)"
      ]
     },
     "execution_count": 1032,
     "metadata": {},
     "output_type": "execute_result"
    }
   ],
   "source": [
    "axial_imgs.shape"
   ]
  },
  {
   "cell_type": "code",
   "execution_count": 1033,
   "id": "42bf22a8-7530-4321-8def-0286102821d5",
   "metadata": {},
   "outputs": [
    {
     "data": {
      "text/plain": [
       "[86, 99, 382, 395]"
      ]
     },
     "execution_count": 1033,
     "metadata": {},
     "output_type": "execute_result"
    }
   ],
   "source": [
    "axial_boundary"
   ]
  },
  {
   "cell_type": "code",
   "execution_count": 1034,
   "id": "8d22a672-39e9-42d7-a4c8-ae67b29e4354",
   "metadata": {},
   "outputs": [
    {
     "data": {
      "text/plain": [
       "array([], shape=(0, 6), dtype=float32)"
      ]
     },
     "execution_count": 1034,
     "metadata": {},
     "output_type": "execute_result"
    }
   ],
   "source": [
    "real_boxes = np.copy(detected_boxes)\n",
    "real_boxes[:, :4] =  real_boxes[:, :4] / (512 / axial_imgs.shape[-1])\n",
    "real_boxes[:, [0, 2]] += axial_boundary[0]\n",
    "real_boxes[:, [1, 3]] += axial_boundary[1]\n",
    "real_boxes"
   ]
  },
  {
   "cell_type": "code",
   "execution_count": 1035,
   "id": "81dbeef6-4fde-4a7b-90ac-b9022f3c4487",
   "metadata": {},
   "outputs": [
    {
     "data": {
      "text/plain": [
       "array([], dtype=float32)"
      ]
     },
     "execution_count": 1035,
     "metadata": {},
     "output_type": "execute_result"
    }
   ],
   "source": [
    "frac_prob = real_boxes[:, 4]\n",
    "frac_prob"
   ]
  },
  {
   "cell_type": "code",
   "execution_count": 1036,
   "id": "5d0a6436-e69e-41b7-8326-81cae62e7682",
   "metadata": {},
   "outputs": [
    {
     "data": {
      "text/plain": [
       "array([], dtype=int64)"
      ]
     },
     "execution_count": 1036,
     "metadata": {},
     "output_type": "execute_result"
    }
   ],
   "source": [
    "real_slice_numbers = detected_slices + start_axial_index\n",
    "real_slice_numbers"
   ]
  },
  {
   "cell_type": "code",
   "execution_count": 1037,
   "id": "60b53101-1d5d-4977-99f9-8c3c176de4f6",
   "metadata": {},
   "outputs": [],
   "source": [
    "# plt.imshow(imgs[102])\n",
    "# plt.axvline(real_boxes[7, 0])\n",
    "# plt.axvline(real_boxes[7, 2])\n",
    "# plt.axhline(real_boxes[7, 1])\n",
    "# plt.axhline(real_boxes[7, 3])"
   ]
  },
  {
   "cell_type": "markdown",
   "id": "63c0ee38-cce3-495a-891b-77689f7119d1",
   "metadata": {},
   "source": [
    "## segmentation"
   ]
  },
  {
   "cell_type": "code",
   "execution_count": 1038,
   "id": "24396af1-5d99-4549-945d-9729d25f6074",
   "metadata": {},
   "outputs": [
    {
     "data": {
      "text/plain": [
       "[]"
      ]
     },
     "execution_count": 1038,
     "metadata": {},
     "output_type": "execute_result"
    }
   ],
   "source": [
    "# inference sagittal indices\n",
    "sagittal_indices = (real_boxes[:, 2] + real_boxes[:, 0]) // 2\n",
    "sagittal_indices = [int(x) for x in sagittal_indices]\n",
    "sagittal_indices"
   ]
  },
  {
   "cell_type": "code",
   "execution_count": 1039,
   "id": "197184f7-2026-4f18-9b82-d17b14fb6d25",
   "metadata": {},
   "outputs": [
    {
     "name": "stdout",
     "output_type": "stream",
     "text": [
      "[]\n",
      "[]\n",
      "[]\n",
      "[]\n",
      "[]\n",
      "[]\n"
     ]
    }
   ],
   "source": [
    "def croped_seg_position(left, top, aspect, boundary):\n",
    "    print(left)\n",
    "    \n",
    "    top = top.astype(np.float)\n",
    "    top *= aspect\n",
    "    print(top)\n",
    "    left -= boundary[0]\n",
    "    top -= boundary[1]\n",
    "    bh, bw = boundary[3] - boundary[1], boundary[2] - boundary[0]\n",
    "    if bh > bw:\n",
    "        pad = (bh - bw) // 2\n",
    "        left += pad\n",
    "        scale = bh / 256\n",
    "    else:\n",
    "        pad = (bw - bh) // 2\n",
    "        top += pad\n",
    "        scale = bw / 256\n",
    "    top, left = top // scale, left // scale\n",
    "    return np.stack((left, top), axis=1)\n",
    "\n",
    "sagittal_pos = croped_seg_position((real_boxes[:, 1] + real_boxes[:, 3]) / 2, real_slice_numbers, aspect, sagittal_boundary)\n",
    "coronal_pos = croped_seg_position((real_boxes[:, 0] + real_boxes[:, 2]) / 2, real_slice_numbers, aspect, coronal_boundary)\n",
    "print(sagittal_pos)\n",
    "print(coronal_pos)"
   ]
  },
  {
   "cell_type": "code",
   "execution_count": 1040,
   "id": "07530bf4-7d58-4b16-b0b8-d5e773fd06ae",
   "metadata": {},
   "outputs": [],
   "source": [
    "def transform_seg(tensor, boundary, aspect):\n",
    "    \n",
    "    boundary_width = boundary[2] - boundary[0]\n",
    "    boundary_height = boundary[3] - boundary[1] + 100\n",
    "    \n",
    "    tensor = torch.tensor(tensor, dtype=torch.float)\n",
    "    tensor = TF.resize(tensor, (int(tensor.shape[1] * aspect), int(tensor.shape[2])))\n",
    "   \n",
    "    tensor = TF.crop(tensor, top=int(sagittal_boundary[1]), left=int(boundary[0]), width=int(boundary_width), height=int(boundary_height))\n",
    "  \n",
    "    tensor = TF.center_crop(tensor, max(tensor.shape[-1], tensor.shape[-2]))\n",
    "    tensor = TF.resize(tensor, 256)\n",
    "    tensor = TF.normalize(tensor, 0.5, 0.5)\n",
    "    \n",
    "    return tensor.unsqueeze(1)"
   ]
  },
  {
   "cell_type": "code",
   "execution_count": 1041,
   "id": "605b05a1-6971-4d9d-bead-43d35d688133",
   "metadata": {},
   "outputs": [],
   "source": [
    "sagittal_img = cliped_imgs[:, :, sagittal_indices].transpose(2, 0, 1)"
   ]
  },
  {
   "cell_type": "code",
   "execution_count": 1042,
   "id": "64f7ba17-ebc9-42f1-b5c1-0cc1f3b03811",
   "metadata": {},
   "outputs": [
    {
     "ename": "IndexError",
     "evalue": "index 0 is out of bounds for axis 0 with size 0",
     "output_type": "error",
     "traceback": [
      "\u001b[0;31m---------------------------------------------------------------------------\u001b[0m",
      "\u001b[0;31mIndexError\u001b[0m                                Traceback (most recent call last)",
      "\u001b[0;32m/tmp/ipykernel_1157/2134726102.py\u001b[0m in \u001b[0;36m<module>\u001b[0;34m\u001b[0m\n\u001b[1;32m      1\u001b[0m \u001b[0m_\u001b[0m\u001b[0;34m,\u001b[0m \u001b[0max\u001b[0m \u001b[0;34m=\u001b[0m \u001b[0mplt\u001b[0m\u001b[0;34m.\u001b[0m\u001b[0msubplots\u001b[0m\u001b[0;34m(\u001b[0m\u001b[0;36m1\u001b[0m\u001b[0;34m)\u001b[0m\u001b[0;34m\u001b[0m\u001b[0;34m\u001b[0m\u001b[0m\n\u001b[0;32m----> 2\u001b[0;31m \u001b[0max\u001b[0m\u001b[0;34m.\u001b[0m\u001b[0mimshow\u001b[0m\u001b[0;34m(\u001b[0m\u001b[0msagittal_img\u001b[0m\u001b[0;34m[\u001b[0m\u001b[0;36m0\u001b[0m\u001b[0;34m]\u001b[0m\u001b[0;34m)\u001b[0m\u001b[0;34m\u001b[0m\u001b[0;34m\u001b[0m\u001b[0m\n\u001b[0m\u001b[1;32m      3\u001b[0m \u001b[0;34m\u001b[0m\u001b[0m\n\u001b[1;32m      4\u001b[0m \u001b[0max\u001b[0m\u001b[0;34m.\u001b[0m\u001b[0maxvline\u001b[0m\u001b[0;34m(\u001b[0m\u001b[0msagittal_pos\u001b[0m\u001b[0;34m[\u001b[0m\u001b[0;36m0\u001b[0m\u001b[0;34m,\u001b[0m\u001b[0;36m0\u001b[0m\u001b[0;34m]\u001b[0m\u001b[0;34m)\u001b[0m\u001b[0;34m\u001b[0m\u001b[0;34m\u001b[0m\u001b[0m\n\u001b[1;32m      5\u001b[0m \u001b[0max\u001b[0m\u001b[0;34m.\u001b[0m\u001b[0maxhline\u001b[0m\u001b[0;34m(\u001b[0m\u001b[0msagittal_pos\u001b[0m\u001b[0;34m[\u001b[0m\u001b[0;36m0\u001b[0m\u001b[0;34m,\u001b[0m\u001b[0;36m1\u001b[0m\u001b[0;34m]\u001b[0m\u001b[0;34m)\u001b[0m\u001b[0;34m\u001b[0m\u001b[0;34m\u001b[0m\u001b[0m\n",
      "\u001b[0;31mIndexError\u001b[0m: index 0 is out of bounds for axis 0 with size 0"
     ]
    },
    {
     "data": {
      "image/png": "[encoded data removed]",
      "text/plain": [
       "<Figure size 432x288 with 1 Axes>"
      ]
     },
     "metadata": {
      "needs_background": "light"
     },
     "output_type": "display_data"
    }
   ],
   "source": [
    "_, ax = plt.subplots(1)\n",
    "ax.imshow(sagittal_img[0])\n",
    "\n",
    "ax.axvline(sagittal_pos[0,0])\n",
    "ax.axhline(sagittal_pos[0,1])\n",
    "ax.set_aspect(aspect)"
   ]
  },
  {
   "cell_type": "code",
   "execution_count": null,
   "id": "d621d2e8-a75c-424b-b6cd-762b635222f3",
   "metadata": {},
   "outputs": [],
   "source": [
    "sagittal_tensor = transform_seg(sagittal_img, sagittal_boundary, aspect)\n",
    "print(sagittal_tensor.min(), sagittal_tensor.max())\n",
    "print(sagittal_tensor.shape)\n",
    "plt.imshow(sagittal_tensor[0, 0])\n",
    "# plt.axvline(56)\n",
    "# plt.axhline(112)"
   ]
  },
  {
   "cell_type": "code",
   "execution_count": null,
   "id": "27189489-911b-4fba-9504-147a8d3db026",
   "metadata": {},
   "outputs": [],
   "source": []
  },
  {
   "cell_type": "code",
   "execution_count": null,
   "id": "11d3e6de-6e46-4ee2-90b2-6d2f34ef4bdc",
   "metadata": {},
   "outputs": [],
   "source": [
    "coronal_indices = (real_boxes[:, 3] - real_boxes[:, 1]) // 2\n",
    "coronal_indices = [int(x) for x in coronal_indices]\n",
    "coronal_indices"
   ]
  },
  {
   "cell_type": "code",
   "execution_count": null,
   "id": "55552248-d4ed-484b-9f86-6a035f5290bd",
   "metadata": {},
   "outputs": [],
   "source": [
    "coronal_img = cliped_imgs[:, coronal_indices, :].transpose(1, 0, 2)\n",
    "coronal_tensor = transform_seg(coronal_img, coronal_boundary, aspect)\n",
    "print(coronal_tensor.min(), coronal_tensor.max())\n",
    "print(coronal_tensor.shape)\n",
    "plt.imshow(coronal_tensor[0, 0])\n",
    "# plt.axvline(56)\n",
    "# plt.axhline(112)"
   ]
  },
  {
   "cell_type": "code",
   "execution_count": null,
   "id": "1217197c-7aec-4da1-bef4-c505710438e2",
   "metadata": {},
   "outputs": [],
   "source": [
    "class DetectionModel(nn.Module):\n",
    "    def __init__(self, backbone, channels, deep=4, out_channels=64, n_features=1):\n",
    "        super().__init__()\n",
    "\n",
    "        self.backbone = backbone\n",
    "        self.deep = deep\n",
    "        self.channels = channels\n",
    "        self.out_channels = out_channels\n",
    "        self.n_features = n_features\n",
    "\n",
    "        self.init_layers()\n",
    "\n",
    "    def init_layers(self):\n",
    "        self.parallel_modules = self.make_parallel_modules()\n",
    "        self.upsampling_modules = self.make_upsampling_modules()\n",
    "\n",
    "        self.downsampling_modules = self.make_downsampling_modules()\n",
    "        self.classification_modules = self.make_classification_modules()\n",
    "\n",
    "    def make_classification_modules(self):\n",
    "        # the last layer\n",
    "        return nn.Sequential(\n",
    "            nn.ReLU(inplace=True),\n",
    "            nn.Conv2d(self.out_channels, 2 * self.out_channels, kernel_size=3, padding='same'),\n",
    "            nn.ReLU(inplace=True),\n",
    "            nn.Conv2d(2 * self.out_channels, self.n_features, kernel_size=1, padding='same'),\n",
    "        )\n",
    "\n",
    "    def make_parallel_modules(self):\n",
    "        parallel_modules = nn.ModuleList()\n",
    "\n",
    "        for i in range(self.deep):\n",
    "            module = nn.Sequential(\n",
    "                nn.ReLU(),\n",
    "                nn.Conv2d(self.channels[i], self.channels[i], kernel_size=3, padding='same'),\n",
    "                nn.ReLU(inplace=True),\n",
    "                nn.Conv2d(self.channels[i], self.channels[i], kernel_size=1, padding='same'),\n",
    "            )\n",
    "            parallel_modules.append(module)\n",
    "\n",
    "\n",
    "        return parallel_modules\n",
    "\n",
    "    def make_downsampling_modules(self):\n",
    "        return nn.ModuleList([\n",
    "            nn.Sequential(\n",
    "                self.backbone.conv1,\n",
    "                self.backbone.bn1,\n",
    "                self.backbone.relu,\n",
    "                self.backbone.maxpool),\n",
    "            nn.Sequential(\n",
    "                self.backbone.layer1,\n",
    "                self.backbone.layer2,\n",
    "            ),\n",
    "            self.backbone.layer3,\n",
    "            self.backbone.layer4\n",
    "        ])\n",
    "\n",
    "    def make_upsampling_modules(self):\n",
    "        upsampling_modules = nn.ModuleList()\n",
    "\n",
    "        for i in range(self.deep):\n",
    "            module = nn.Sequential(\n",
    "                nn.ReLU(inplace=True),\n",
    "                nn.Conv2d(self.channels[i], self.channels[i] // 2, kernel_size=3, padding='same'),\n",
    "                nn.ReLU(inplace=True),\n",
    "                nn.Conv2d(self.channels[i] // 2, self.channels[i-1] if i > 0 else self.out_channels, kernel_size=1),\n",
    "                nn.Upsample(scale_factor=2)\n",
    "            )\n",
    "            upsampling_modules.append(module)\n",
    "\n",
    "        return upsampling_modules\n",
    "\n",
    "\n",
    "\n",
    "    def forward(self, x):\n",
    "\n",
    "        downsampling_outputs = []\n",
    "        out = x\n",
    "        for module in self.downsampling_modules:\n",
    "            out = module(out)\n",
    "            downsampling_outputs.append(out)\n",
    "\n",
    "        parallel_outputs = []\n",
    "        for i in range(len(self.parallel_modules)):\n",
    "            module = self.parallel_modules[i]\n",
    "            out = module(downsampling_outputs[i])\n",
    "            parallel_outputs.append(out)\n",
    "\n",
    "        out = 0\n",
    "        for i in range(len(self.upsampling_modules)):\n",
    "            module = self.upsampling_modules[-(i+1)]\n",
    "            parallel_output = parallel_outputs[-(i+1)]\n",
    "\n",
    "            up_input = out + parallel_output\n",
    "            out = module(up_input)\n",
    "\n",
    "        out = self.classification_modules(out)\n",
    "\n",
    "        return out\n",
    "\n",
    "    \n",
    "def get_sagittal_segmentation_model():\n",
    "    backbone = models.resnet50(pretrained=False)\n",
    "    conv1_weight = backbone.conv1.weight\n",
    "    conv1_weight = conv1_weight.mean(dim=1).unsqueeze(1)\n",
    "\n",
    "    backbone.conv1 = nn.Conv2d(1, 64, kernel_size=(7, 7), stride=1, padding='same', bias=False)\n",
    "    backbone.conv1.weight = nn.Parameter(conv1_weight, requires_grad=True)\n",
    "\n",
    "    channels = [64, 512, 1024, 2048]\n",
    "    \n",
    "    model = DetectionModel(backbone, channels=channels, out_channels=channels[0], n_features=2).to(device)\n",
    "    \n",
    "    sagittal_checkpoint = 'sagittal_segmentation_detection_095730-epoch-20.pth'\n",
    "    state = torch.load(os.path.join(DATA_DIR, 'checkpoint', sagittal_checkpoint))\n",
    "    model.load_state_dict(state[\"model\"])\n",
    "    model = model.eval()\n",
    "    \n",
    "    return model\n",
    "\n",
    "def get_coronal_segmentation_model():\n",
    "    backbone = models.resnet50(pretrained=False)\n",
    "    conv1_weight = backbone.conv1.weight\n",
    "    conv1_weight = conv1_weight.mean(dim=1).unsqueeze(1)\n",
    "\n",
    "    backbone.conv1 = nn.Conv2d(1, 64, kernel_size=(7, 7), stride=1, padding='same', bias=False)\n",
    "    backbone.conv1.weight = nn.Parameter(conv1_weight, requires_grad=True)\n",
    "\n",
    "    channels = [64, 512, 1024, 2048]\n",
    "    \n",
    "    model = DetectionModel(backbone, channels=channels, out_channels=channels[0], n_features=2).to(device)\n",
    "    \n",
    "    coronal_checkpoint = 'coronal_segmentation_detection_142529-epoch-20.pth'\n",
    "    state = torch.load(os.path.join(DATA_DIR, 'checkpoint', coronal_checkpoint))\n",
    "    model.load_state_dict(state[\"model\"])\n",
    "    model = model.eval()\n",
    "    \n",
    "    return model\n",
    "\n",
    "sagittal_seg_model = get_sagittal_segmentation_model()\n",
    "coronal_seg_model = get_coronal_segmentation_model()"
   ]
  },
  {
   "cell_type": "code",
   "execution_count": null,
   "id": "dadafc17-0c2f-4cc5-aaac-b8a9ede9d3ba",
   "metadata": {},
   "outputs": [],
   "source": [
    "def predict_segmentation(model, x):\n",
    "    x = x.to(device)\n",
    "    classification_prob, mse_score = model(x).sigmoid().chunk(2, dim=1)\n",
    "    mse_score = torch.round(mse_score * 8.) / 8.\n",
    "    pred = classification_prob.gt(0.5).float() * mse_score\n",
    "    return pred"
   ]
  },
  {
   "cell_type": "code",
   "execution_count": null,
   "id": "c09d74d6-27bf-4ba1-9965-b655c08861e9",
   "metadata": {},
   "outputs": [],
   "source": [
    "with torch.no_grad():\n",
    "    sagittal_seg = predict_segmentation(sagittal_seg_model, sagittal_tensor)\n",
    "    print(sagittal_seg.shape)\n",
    "    # print(sagittal_seg[7, 0, 56, 112])\n",
    "    sagittal_classes = sagittal_seg[np.arange(sagittal_pos.shape[0]), 0, sagittal_pos[:, 0], sagittal_pos[:, 1]] // 0.125\n",
    "    sagittal_classes = sagittal_classes.cpu().numpy()\n",
    "    print(sagittal_classes)\n",
    "    plt.imshow(sagittal_seg[0, 0].cpu().numpy(), cmap='bone')"
   ]
  },
  {
   "cell_type": "code",
   "execution_count": null,
   "id": "6cbccfbd-b4b9-4b83-a473-f667ae9071e6",
   "metadata": {},
   "outputs": [],
   "source": [
    "with torch.no_grad():\n",
    "    coronal_seg = predict_segmentation(coronal_seg_model, coronal_tensor)\n",
    "    print(coronal_seg.shape)\n",
    "    # print(coronal_seg[7, 0, 56, 112])\n",
    "    coronal_classes = coronal_seg[np.arange(coronal_pos.shape[0]), 0, coronal_pos[:, 0], coronal_pos[:, 1]] // 0.125\n",
    "    coronal_classes = coronal_classes.cpu().numpy()\n",
    "    print(coronal_classes)\n",
    "    plt.imshow(coronal_seg[0, 0].cpu().numpy(), cmap='bone')"
   ]
  },
  {
   "cell_type": "code",
   "execution_count": null,
   "id": "67b3f547-66b3-45b4-a92a-dbdee9c91ad4",
   "metadata": {},
   "outputs": [],
   "source": [
    "frac_classes = np.max((sagittal_classes, coronal_classes), axis=0)\n",
    "\n",
    "frac_result = np.zeros(8) + 0.01\n",
    "for i in range(frac_classes.shape[0]):\n",
    "    if frac_classes[i] == 0:\n",
    "        continue\n",
    "    class_index = int(frac_classes[i])\n",
    "    frac_result[class_index] = max(frac_result[class_index], frac_prob[i])\n",
    "\n",
    "frac_result[0] = max(frac_prob)\n",
    "frac_result"
   ]
  },
  {
   "cell_type": "code",
   "execution_count": null,
   "id": "bc6bf1af-8029-4c0f-982c-71d14991847c",
   "metadata": {},
   "outputs": [],
   "source": [
    "\n",
    "    \n",
    "cal_loss(frac_result, label)"
   ]
  }
 ],
 "metadata": {
  "kernelspec": {
   "display_name": "Python 3 (ipykernel)",
   "language": "python",
   "name": "python3"
  },
  "language_info": {
   "codemirror_mode": {
    "name": "ipython",
    "version": 3
   },
   "file_extension": ".py",
   "mimetype": "text/x-python",
   "name": "python",
   "nbconvert_exporter": "python",
   "pygments_lexer": "ipython3",
   "version": "3.8.10"
  }
 },
 "nbformat": 4,
 "nbformat_minor": 5
}
