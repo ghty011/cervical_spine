{
 "cells": [
  {
   "cell_type": "code",
   "execution_count": 1,
   "id": "abca8e28",
   "metadata": {
    "_cell_guid": "b1076dfc-b9ad-4769-8c92-a6c4dae69d19",
    "_uuid": "8f2839f25d086af736a60e9eeb907d3b93b6e0e5",
    "execution": {
     "iopub.execute_input": "2022-09-09T12:31:51.227912Z",
     "iopub.status.busy": "2022-09-09T12:31:51.227078Z",
     "iopub.status.idle": "2022-09-09T12:31:51.238520Z",
     "shell.execute_reply": "2022-09-09T12:31:51.237594Z"
    },
    "papermill": {
     "duration": 0.019029,
     "end_time": "2022-09-09T12:31:51.241162",
     "exception": false,
     "start_time": "2022-09-09T12:31:51.222133",
     "status": "completed"
    },
    "tags": []
   },
   "outputs": [],
   "source": [
    "import os\n",
    "import pandas as pd"
   ]
  },
  {
   "cell_type": "code",
   "execution_count": 2,
   "id": "64a31d85",
   "metadata": {
    "execution": {
     "iopub.execute_input": "2022-09-09T12:31:51.248733Z",
     "iopub.status.busy": "2022-09-09T12:31:51.247874Z",
     "iopub.status.idle": "2022-09-09T12:31:51.263742Z",
     "shell.execute_reply": "2022-09-09T12:31:51.262511Z"
    },
    "papermill": {
     "duration": 0.023268,
     "end_time": "2022-09-09T12:31:51.266816",
     "exception": false,
     "start_time": "2022-09-09T12:31:51.243548",
     "status": "completed"
    },
    "tags": []
   },
   "outputs": [],
   "source": [
    "PATH = \"../input/rsna-2022-cervical-spine-fracture-detection\"\n",
    "test = pd.read_csv(os.path.join(PATH, 'test.csv'))\n"
   ]
  },
  {
   "cell_type": "code",
   "execution_count": 3,
   "id": "182b63ed",
   "metadata": {
    "execution": {
     "iopub.execute_input": "2022-09-09T12:31:51.272894Z",
     "iopub.status.busy": "2022-09-09T12:31:51.272447Z",
     "iopub.status.idle": "2022-09-09T12:31:51.277084Z",
     "shell.execute_reply": "2022-09-09T12:31:51.276021Z"
    },
    "papermill": {
     "duration": 0.010379,
     "end_time": "2022-09-09T12:31:51.279444",
     "exception": false,
     "start_time": "2022-09-09T12:31:51.269065",
     "status": "completed"
    },
    "tags": []
   },
   "outputs": [],
   "source": [
    "# train = pd.read_csv(os.path.join(PATH, 'train.csv'))\n",
    "# means = train.mean(numeric_only=True).to_dict()\n",
    "# means"
   ]
  },
  {
   "cell_type": "code",
   "execution_count": 4,
   "id": "0456a4d5",
   "metadata": {
    "execution": {
     "iopub.execute_input": "2022-09-09T12:31:51.285661Z",
     "iopub.status.busy": "2022-09-09T12:31:51.285023Z",
     "iopub.status.idle": "2022-09-09T12:31:51.307276Z",
     "shell.execute_reply": "2022-09-09T12:31:51.306047Z"
    },
    "papermill": {
     "duration": 0.028537,
     "end_time": "2022-09-09T12:31:51.310168",
     "exception": false,
     "start_time": "2022-09-09T12:31:51.281631",
     "status": "completed"
    },
    "tags": []
   },
   "outputs": [],
   "source": [
    "scores = {\n",
    "    'patient_overall' : 0.645,\n",
    "    'C1' : 0.1349,\n",
    "    'C2' : 0.2474,\n",
    "    'C3' : 0.0698,\n",
    "    'C4' : 0.1016,\n",
    "    'C5' : 0.1485,\n",
    "    'C6' : 0.2413,\n",
    "    'C7' : 0.3259,\n",
    "}\n",
    "test['fractured'] = test['prediction_type'].map(scores)\n",
    "test[['row_id','fractured']].to_csv('submission.csv', index=False)"
   ]
  }
 ],
 "metadata": {
  "kernelspec": {
   "display_name": "Python 3 (ipykernel)",
   "language": "python",
   "name": "python3"
  },
  "language_info": {
   "codemirror_mode": {
    "name": "ipython",
    "version": 3
   },
   "file_extension": ".py",
   "mimetype": "text/x-python",
   "name": "python",
   "nbconvert_exporter": "python",
   "pygments_lexer": "ipython3",
   "version": "3.8.10"
  },
  "papermill": {
   "default_parameters": {},
   "duration": 10.311151,
   "end_time": "2022-09-09T12:31:51.934473",
   "environment_variables": {},
   "exception": null,
   "input_path": "__notebook__.ipynb",
   "output_path": "__notebook__.ipynb",
   "parameters": {},
   "start_time": "2022-09-09T12:31:41.623322",
   "version": "2.3.4"
  }
 },
 "nbformat": 4,
 "nbformat_minor": 5
}
