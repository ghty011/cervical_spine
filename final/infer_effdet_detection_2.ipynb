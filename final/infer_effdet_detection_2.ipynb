{
 "cells": [
  {
   "cell_type": "code",
   "execution_count": null,
   "id": "ae7ac1b7-208e-4253-8a42-aa58e72e994e",
   "metadata": {},
   "outputs": [],
   "source": [
    "import wandb\n",
    "from datetime import datetime"
   ]
  },
  {
   "cell_type": "code",
   "execution_count": null,
   "id": "cd5690a7-f0dc-4fa6-a12e-d1f2307c8a58",
   "metadata": {},
   "outputs": [],
   "source": [
    "mask_model_ver = '095521'\n",
    "lr = 5e-4\n",
    "batch_size = 32\n",
    "wd = 1e-5\n",
    "IMAGE_SIZE = 768\n",
    "backbone='efficientdetv2_dt'\n",
    "vertical_type = \"axial\"\n",
    "train_portion = 0.5\n",
    "milestones = [10,20,30,40]\n",
    "model_name = \"effdet\"\n",
    "epochs =50\n",
    "\n"
   ]
  },
  {
   "cell_type": "code",
   "execution_count": null,
   "id": "fbc65e04-a886-4e32-b897-0e7fa93766f1",
   "metadata": {},
   "outputs": [],
   "source": [
    "wandb_entity='longyi'\n",
    "model_name = \"effdet\"\n",
    "wandb.init(project=\"YOLOR\", entity=wandb_entity, config={\n",
    "    \"model\":model_name,\n",
    "    \"batch_size\":batch_size,\n",
    "    \"lr\" : lr,\n",
    "    \"wd\" : wd,\n",
    "    \"backbone\" : backbone,\n",
    "    \"image_size\" : IMAGE_SIZE,\n",
    "})\n",
    "wandb.run.name = f'axial_detection_{model_name}_' + datetime.now().strftime(\"%H%M%S\")\n",
    "wandb.run.name"
   ]
  },
  {
   "cell_type": "code",
   "execution_count": null,
   "id": "45124425-8378-422f-9bce-6cd89fd2d0ae",
   "metadata": {},
   "outputs": [],
   "source": [
    "import numpy as np\n",
    "import pandas as pd\n",
    "import torch\n",
    "import matplotlib.pyplot as plt\n",
    "import seaborn as sns\n",
    "import ast\n",
    "import sys\n",
    "\n",
    "effdet_path = \"../third/effdet\"\n",
    "sys.path.append(effdet_path)\n",
    "timm_path = \"../third/timm-pytorch-image-models\"\n",
    "sys.path.append(timm_path)\n",
    "import timm\n",
    "from timm.data import IMAGENET_DEFAULT_MEAN, IMAGENET_DEFAULT_STD\n",
    "from matplotlib import patches\n",
    "import sklearn\n",
    "import os\n",
    "from tqdm import tqdm\n",
    "\n",
    "omega_path = \"../third/omegaconf\"\n",
    "sys.path.append(omega_path)\n",
    "from omegaconf import OmegaConf\n",
    "import glob\n",
    "import sklearn\n",
    "import math\n",
    "import random\n",
    "\n",
    "from PIL import Image\n",
    "\n",
    "import cv2\n",
    "import albumentations as A\n",
    "from albumentations.pytorch import ToTensorV2\n",
    "\n",
    "import torch\n",
    "import torch.nn as nn\n",
    "import torch.nn.functional as F\n",
    "from torch.utils.data import Dataset, DataLoader\n",
    "from torch import optim\n",
    "import torchvision.transforms as T\n",
    "import torchvision.transforms.functional as TF\n",
    "\n",
    "from effdet import create_model\n",
    "from effdet import DetBenchPredict\n",
    "# from transformers import get_cosine_schedule_with_warmup\n",
    "\n",
    "import warnings\n",
    "\n",
    "warnings.filterwarnings('ignore')\n",
    "from sklearn import metrics, model_selection, preprocessing\n",
    "\n",
    "import json\n",
    "# from sklearn.model_selection import GroupKFold\n",
    "\n",
    "%load_ext autoreload\n",
    "%autoreload 2\n",
    "\n",
    "# pos_weight = torch.tensor(pos_weight)\n",
    "device = 'cuda' if torch.cuda.is_available() else 'cpu'\n",
    "device"
   ]
  },
  {
   "cell_type": "code",
   "execution_count": null,
   "id": "aa92f9ce-6bf9-47f4-8890-592b907a703a",
   "metadata": {},
   "outputs": [],
   "source": [
    "DATA_DIR = \"/root/autodl-tmp/cervical_spine/\"\n",
    "IMAGES_DIR = os.path.join(DATA_DIR, f'train_axial_images_jpeg95_croped_{mask_model_ver}')\n",
    "MASK_DIR = os.path.join(DATA_DIR, f'segmentation_axial_results_{mask_model_ver}')\n",
    "\n",
    "\n",
    "checkpoint = os.path.join(DATA_DIR, 'checkpoint', 'axial_detection_effdet_151039-epoch-60.pth')"
   ]
  },
  {
   "cell_type": "code",
   "execution_count": null,
   "id": "22b39e80-b9cd-4660-8f0a-29b55ac98d42",
   "metadata": {},
   "outputs": [],
   "source": [
    "def get_det_model(image_size, checkpoint=None):\n",
    "    if checkpoint is None:\n",
    "\n",
    "        model = create_model(backbone , bench_task='train' , num_classes= 1 , image_size=(image_size, image_size), bench_labeler=True, pretrained=True)\n",
    "        model = model.to(device)\n",
    "        return model\n",
    "    else:\n",
    "        model = create_model(backbone , bench_task='train' , num_classes= 1 , image_size=(image_size, image_size), bench_labeler=True, pretrained=True)\n",
    "        state = torch.load(os.path.join(DATA_DIR, 'checkpoint', checkpoint), map_location=torch.device(device))\n",
    "        model.load_state_dict(state[\"model\"])\n",
    "        model = model.to(device)\n",
    "        return model\n",
    "\n",
    "model = get_det_model(IMAGE_SIZE, checkpoint)"
   ]
  },
  {
   "cell_type": "code",
   "execution_count": null,
   "id": "2c2fb990-4d82-47dd-822f-eb093759824c",
   "metadata": {},
   "outputs": [],
   "source": [
    "from evaluate import *\n",
    "evaluator = Evaluate(model.model, os.path.join(DATA_DIR, 'predictions', wandb.run.name), IMAGE_SIZE, IMAGES_DIR, MASK_DIR)"
   ]
  },
  {
   "cell_type": "code",
   "execution_count": null,
   "id": "57e0341f-6543-41d9-845f-26184da1349e",
   "metadata": {},
   "outputs": [],
   "source": [
    "start_batch_index = 0\n",
    "epoch=0\n",
    "for i in range(252):\n",
    "    loss, pos_loss, neg_loss, batch_index = evaluator.evaluate(epoch + i + start_batch_index)\n",
    "    wandb.log({\n",
    "        'val/total_loss': loss,\n",
    "        'val/pos_loss': pos_loss,\n",
    "        'val/neg_loss': neg_loss,\n",
    "        'val/batch_index' : batch_index\n",
    "    })"
   ]
  },
  {
   "cell_type": "code",
   "execution_count": null,
   "id": "b4049e4a-96df-4b00-acc9-aee845cbf057",
   "metadata": {},
   "outputs": [],
   "source": []
  },
  {
   "cell_type": "code",
   "execution_count": null,
   "id": "9753df31-1a8f-403b-a3b0-3ce49210d194",
   "metadata": {},
   "outputs": [],
   "source": []
  }
 ],
 "metadata": {
  "kernelspec": {
   "display_name": "Python 3 (ipykernel)",
   "language": "python",
   "name": "python3"
  },
  "language_info": {
   "codemirror_mode": {
    "name": "ipython",
    "version": 3
   },
   "file_extension": ".py",
   "mimetype": "text/x-python",
   "name": "python",
   "nbconvert_exporter": "python",
   "pygments_lexer": "ipython3",
   "version": "3.8.10"
  }
 },
 "nbformat": 4,
 "nbformat_minor": 5
}
