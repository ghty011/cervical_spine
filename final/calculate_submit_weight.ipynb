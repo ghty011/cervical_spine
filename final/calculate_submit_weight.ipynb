{
 "cells": [
  {
   "cell_type": "code",
   "execution_count": 1,
   "id": "a327317e-f26c-44cd-a65e-e52c11e56ea7",
   "metadata": {},
   "outputs": [],
   "source": [
    "import pandas as pd\n",
    "import numpy as np\n",
    "import os\n",
    "import matplotlib.pyplot as plt\n",
    "from tqdm import tqdm"
   ]
  },
  {
   "cell_type": "code",
   "execution_count": 2,
   "id": "33f11e71-f2e7-4759-9e99-ca0d7785174c",
   "metadata": {},
   "outputs": [],
   "source": [
    "DATA_DIR = \"/root/autodl-tmp/cervical_spine/\"\n",
    "\n",
    "prediction_path = '/root/autodl-tmp/cervical_spine/predictions/df_patient_pred_114942.csv'"
   ]
  },
  {
   "cell_type": "code",
   "execution_count": 3,
   "id": "40cd8056-1984-4cca-9d64-4d87c3951100",
   "metadata": {},
   "outputs": [],
   "source": [
    "# patient_pred_df = pd.read_csv('/root/autodl-tmp/cervical_spine/predictions/df_patient_pred_114942.csv')\n",
    "# patient_pred_df.head()"
   ]
  },
  {
   "cell_type": "code",
   "execution_count": 4,
   "id": "bf5f5108-3720-42e7-9f73-886f1b50a2b6",
   "metadata": {},
   "outputs": [
    {
     "data": {
      "text/html": [
       "<div>\n",
       "<style scoped>\n",
       "    .dataframe tbody tr th:only-of-type {\n",
       "        vertical-align: middle;\n",
       "    }\n",
       "\n",
       "    .dataframe tbody tr th {\n",
       "        vertical-align: top;\n",
       "    }\n",
       "\n",
       "    .dataframe thead th {\n",
       "        text-align: right;\n",
       "    }\n",
       "</style>\n",
       "<table border=\"1\" class=\"dataframe\">\n",
       "  <thead>\n",
       "    <tr style=\"text-align: right;\">\n",
       "      <th></th>\n",
       "      <th>P0</th>\n",
       "      <th>P1</th>\n",
       "      <th>P2</th>\n",
       "      <th>P3</th>\n",
       "      <th>P4</th>\n",
       "      <th>P5</th>\n",
       "      <th>P6</th>\n",
       "      <th>P7</th>\n",
       "      <th>C0</th>\n",
       "      <th>C1</th>\n",
       "      <th>C2</th>\n",
       "      <th>C3</th>\n",
       "      <th>C4</th>\n",
       "      <th>C5</th>\n",
       "      <th>C6</th>\n",
       "      <th>C7</th>\n",
       "    </tr>\n",
       "    <tr>\n",
       "      <th>StudyInstanceUID</th>\n",
       "      <th></th>\n",
       "      <th></th>\n",
       "      <th></th>\n",
       "      <th></th>\n",
       "      <th></th>\n",
       "      <th></th>\n",
       "      <th></th>\n",
       "      <th></th>\n",
       "      <th></th>\n",
       "      <th></th>\n",
       "      <th></th>\n",
       "      <th></th>\n",
       "      <th></th>\n",
       "      <th></th>\n",
       "      <th></th>\n",
       "      <th></th>\n",
       "    </tr>\n",
       "  </thead>\n",
       "  <tbody>\n",
       "    <tr>\n",
       "      <th>1.2.826.0.1.3680043.10001</th>\n",
       "      <td>0.277993</td>\n",
       "      <td>0.010000</td>\n",
       "      <td>0.010000</td>\n",
       "      <td>0.010000</td>\n",
       "      <td>0.010000</td>\n",
       "      <td>0.277993</td>\n",
       "      <td>0.017261</td>\n",
       "      <td>0.010000</td>\n",
       "      <td>0</td>\n",
       "      <td>0</td>\n",
       "      <td>0</td>\n",
       "      <td>0</td>\n",
       "      <td>0</td>\n",
       "      <td>0</td>\n",
       "      <td>0</td>\n",
       "      <td>0</td>\n",
       "    </tr>\n",
       "    <tr>\n",
       "      <th>1.2.826.0.1.3680043.10005</th>\n",
       "      <td>0.909159</td>\n",
       "      <td>0.081598</td>\n",
       "      <td>0.023682</td>\n",
       "      <td>0.036645</td>\n",
       "      <td>0.023904</td>\n",
       "      <td>0.112568</td>\n",
       "      <td>0.909159</td>\n",
       "      <td>0.263304</td>\n",
       "      <td>0</td>\n",
       "      <td>0</td>\n",
       "      <td>0</td>\n",
       "      <td>0</td>\n",
       "      <td>0</td>\n",
       "      <td>0</td>\n",
       "      <td>0</td>\n",
       "      <td>0</td>\n",
       "    </tr>\n",
       "    <tr>\n",
       "      <th>1.2.826.0.1.3680043.10014</th>\n",
       "      <td>0.939342</td>\n",
       "      <td>0.010000</td>\n",
       "      <td>0.010000</td>\n",
       "      <td>0.010000</td>\n",
       "      <td>0.875282</td>\n",
       "      <td>0.939342</td>\n",
       "      <td>0.014269</td>\n",
       "      <td>0.010000</td>\n",
       "      <td>0</td>\n",
       "      <td>0</td>\n",
       "      <td>0</td>\n",
       "      <td>0</td>\n",
       "      <td>0</td>\n",
       "      <td>0</td>\n",
       "      <td>0</td>\n",
       "      <td>0</td>\n",
       "    </tr>\n",
       "    <tr>\n",
       "      <th>1.2.826.0.1.3680043.10016</th>\n",
       "      <td>0.554091</td>\n",
       "      <td>0.390641</td>\n",
       "      <td>0.062937</td>\n",
       "      <td>0.010000</td>\n",
       "      <td>0.010000</td>\n",
       "      <td>0.011762</td>\n",
       "      <td>0.042546</td>\n",
       "      <td>0.554091</td>\n",
       "      <td>1</td>\n",
       "      <td>0</td>\n",
       "      <td>1</td>\n",
       "      <td>0</td>\n",
       "      <td>0</td>\n",
       "      <td>0</td>\n",
       "      <td>0</td>\n",
       "      <td>0</td>\n",
       "    </tr>\n",
       "    <tr>\n",
       "      <th>1.2.826.0.1.3680043.10032</th>\n",
       "      <td>0.398840</td>\n",
       "      <td>0.280659</td>\n",
       "      <td>0.042830</td>\n",
       "      <td>0.010000</td>\n",
       "      <td>0.010000</td>\n",
       "      <td>0.367138</td>\n",
       "      <td>0.039941</td>\n",
       "      <td>0.398840</td>\n",
       "      <td>0</td>\n",
       "      <td>0</td>\n",
       "      <td>0</td>\n",
       "      <td>0</td>\n",
       "      <td>0</td>\n",
       "      <td>0</td>\n",
       "      <td>0</td>\n",
       "      <td>0</td>\n",
       "    </tr>\n",
       "    <tr>\n",
       "      <th>...</th>\n",
       "      <td>...</td>\n",
       "      <td>...</td>\n",
       "      <td>...</td>\n",
       "      <td>...</td>\n",
       "      <td>...</td>\n",
       "      <td>...</td>\n",
       "      <td>...</td>\n",
       "      <td>...</td>\n",
       "      <td>...</td>\n",
       "      <td>...</td>\n",
       "      <td>...</td>\n",
       "      <td>...</td>\n",
       "      <td>...</td>\n",
       "      <td>...</td>\n",
       "      <td>...</td>\n",
       "      <td>...</td>\n",
       "    </tr>\n",
       "    <tr>\n",
       "      <th>1.2.826.0.1.3680043.9926</th>\n",
       "      <td>0.970284</td>\n",
       "      <td>0.060180</td>\n",
       "      <td>0.970284</td>\n",
       "      <td>0.022860</td>\n",
       "      <td>0.153319</td>\n",
       "      <td>0.010000</td>\n",
       "      <td>0.010000</td>\n",
       "      <td>0.037407</td>\n",
       "      <td>1</td>\n",
       "      <td>0</td>\n",
       "      <td>1</td>\n",
       "      <td>0</td>\n",
       "      <td>0</td>\n",
       "      <td>0</td>\n",
       "      <td>0</td>\n",
       "      <td>0</td>\n",
       "    </tr>\n",
       "    <tr>\n",
       "      <th>1.2.826.0.1.3680043.9940</th>\n",
       "      <td>0.983749</td>\n",
       "      <td>0.078357</td>\n",
       "      <td>0.010000</td>\n",
       "      <td>0.010000</td>\n",
       "      <td>0.983749</td>\n",
       "      <td>0.047424</td>\n",
       "      <td>0.022098</td>\n",
       "      <td>0.022042</td>\n",
       "      <td>1</td>\n",
       "      <td>0</td>\n",
       "      <td>0</td>\n",
       "      <td>0</td>\n",
       "      <td>1</td>\n",
       "      <td>1</td>\n",
       "      <td>0</td>\n",
       "      <td>0</td>\n",
       "    </tr>\n",
       "    <tr>\n",
       "      <th>1.2.826.0.1.3680043.9994</th>\n",
       "      <td>0.716757</td>\n",
       "      <td>0.264916</td>\n",
       "      <td>0.023961</td>\n",
       "      <td>0.105340</td>\n",
       "      <td>0.010000</td>\n",
       "      <td>0.010000</td>\n",
       "      <td>0.032360</td>\n",
       "      <td>0.716757</td>\n",
       "      <td>0</td>\n",
       "      <td>0</td>\n",
       "      <td>0</td>\n",
       "      <td>0</td>\n",
       "      <td>0</td>\n",
       "      <td>0</td>\n",
       "      <td>0</td>\n",
       "      <td>0</td>\n",
       "    </tr>\n",
       "    <tr>\n",
       "      <th>1.2.826.0.1.3680043.9996</th>\n",
       "      <td>0.714929</td>\n",
       "      <td>0.714929</td>\n",
       "      <td>0.519058</td>\n",
       "      <td>0.010000</td>\n",
       "      <td>0.019374</td>\n",
       "      <td>0.010000</td>\n",
       "      <td>0.010000</td>\n",
       "      <td>0.287985</td>\n",
       "      <td>1</td>\n",
       "      <td>0</td>\n",
       "      <td>1</td>\n",
       "      <td>0</td>\n",
       "      <td>0</td>\n",
       "      <td>0</td>\n",
       "      <td>0</td>\n",
       "      <td>0</td>\n",
       "    </tr>\n",
       "    <tr>\n",
       "      <th>1.2.826.0.1.3680043.9997</th>\n",
       "      <td>0.019219</td>\n",
       "      <td>0.019219</td>\n",
       "      <td>0.010000</td>\n",
       "      <td>0.010000</td>\n",
       "      <td>0.010000</td>\n",
       "      <td>0.010000</td>\n",
       "      <td>0.010000</td>\n",
       "      <td>0.010000</td>\n",
       "      <td>0</td>\n",
       "      <td>0</td>\n",
       "      <td>0</td>\n",
       "      <td>0</td>\n",
       "      <td>0</td>\n",
       "      <td>0</td>\n",
       "      <td>0</td>\n",
       "      <td>0</td>\n",
       "    </tr>\n",
       "  </tbody>\n",
       "</table>\n",
       "<p>2012 rows × 16 columns</p>\n",
       "</div>"
      ],
      "text/plain": [
       "                                 P0        P1        P2        P3        P4  \\\n",
       "StudyInstanceUID                                                              \n",
       "1.2.826.0.1.3680043.10001  0.277993  0.010000  0.010000  0.010000  0.010000   \n",
       "1.2.826.0.1.3680043.10005  0.909159  0.081598  0.023682  0.036645  0.023904   \n",
       "1.2.826.0.1.3680043.10014  0.939342  0.010000  0.010000  0.010000  0.875282   \n",
       "1.2.826.0.1.3680043.10016  0.554091  0.390641  0.062937  0.010000  0.010000   \n",
       "1.2.826.0.1.3680043.10032  0.398840  0.280659  0.042830  0.010000  0.010000   \n",
       "...                             ...       ...       ...       ...       ...   \n",
       "1.2.826.0.1.3680043.9926   0.970284  0.060180  0.970284  0.022860  0.153319   \n",
       "1.2.826.0.1.3680043.9940   0.983749  0.078357  0.010000  0.010000  0.983749   \n",
       "1.2.826.0.1.3680043.9994   0.716757  0.264916  0.023961  0.105340  0.010000   \n",
       "1.2.826.0.1.3680043.9996   0.714929  0.714929  0.519058  0.010000  0.019374   \n",
       "1.2.826.0.1.3680043.9997   0.019219  0.019219  0.010000  0.010000  0.010000   \n",
       "\n",
       "                                 P5        P6        P7  C0  C1  C2  C3  C4  \\\n",
       "StudyInstanceUID                                                              \n",
       "1.2.826.0.1.3680043.10001  0.277993  0.017261  0.010000   0   0   0   0   0   \n",
       "1.2.826.0.1.3680043.10005  0.112568  0.909159  0.263304   0   0   0   0   0   \n",
       "1.2.826.0.1.3680043.10014  0.939342  0.014269  0.010000   0   0   0   0   0   \n",
       "1.2.826.0.1.3680043.10016  0.011762  0.042546  0.554091   1   0   1   0   0   \n",
       "1.2.826.0.1.3680043.10032  0.367138  0.039941  0.398840   0   0   0   0   0   \n",
       "...                             ...       ...       ...  ..  ..  ..  ..  ..   \n",
       "1.2.826.0.1.3680043.9926   0.010000  0.010000  0.037407   1   0   1   0   0   \n",
       "1.2.826.0.1.3680043.9940   0.047424  0.022098  0.022042   1   0   0   0   1   \n",
       "1.2.826.0.1.3680043.9994   0.010000  0.032360  0.716757   0   0   0   0   0   \n",
       "1.2.826.0.1.3680043.9996   0.010000  0.010000  0.287985   1   0   1   0   0   \n",
       "1.2.826.0.1.3680043.9997   0.010000  0.010000  0.010000   0   0   0   0   0   \n",
       "\n",
       "                           C5  C6  C7  \n",
       "StudyInstanceUID                       \n",
       "1.2.826.0.1.3680043.10001   0   0   0  \n",
       "1.2.826.0.1.3680043.10005   0   0   0  \n",
       "1.2.826.0.1.3680043.10014   0   0   0  \n",
       "1.2.826.0.1.3680043.10016   0   0   0  \n",
       "1.2.826.0.1.3680043.10032   0   0   0  \n",
       "...                        ..  ..  ..  \n",
       "1.2.826.0.1.3680043.9926    0   0   0  \n",
       "1.2.826.0.1.3680043.9940    1   0   0  \n",
       "1.2.826.0.1.3680043.9994    0   0   0  \n",
       "1.2.826.0.1.3680043.9996    0   0   0  \n",
       "1.2.826.0.1.3680043.9997    0   0   0  \n",
       "\n",
       "[2012 rows x 16 columns]"
      ]
     },
     "execution_count": 4,
     "metadata": {},
     "output_type": "execute_result"
    }
   ],
   "source": [
    "patient_pred_df = pd.read_csv(prediction_path,header = 0, names=['StudyInstanceUID'] + [f'P{i}' for i in range(8)]).set_index('StudyInstanceUID')\n",
    "label_df = pd.read_csv(os.path.join(DATA_DIR, 'train.csv')).set_index('StudyInstanceUID')\n",
    "# patient_pred_df.rename(columns = {\"patient_overall\" : \"UID\"}, inplace = True)\n",
    "\n",
    "label_df.rename(columns = {\"patient_overall\" : \"C0\"}, inplace = True)\n",
    "patient_pred_df = pd.concat((patient_pred_df, label_df), axis=1)\n",
    "patient_pred_df = patient_pred_df[~pd.isna(patient_pred_df['P0'])]\n",
    "patient_pred_df"
   ]
  },
  {
   "cell_type": "code",
   "execution_count": 5,
   "id": "c52e18ca-e4e6-4e12-916e-b0cef7d53aee",
   "metadata": {},
   "outputs": [],
   "source": [
    "def cal_loss(prob, label):\n",
    "    \n",
    "    pos_weight = np.array([14, 2, 2, 2, 2, 2, 2, 2])\n",
    "    neg_weight = np.array([7, 1, 1, 1, 1, 1, 1, 1])\n",
    "    \n",
    "    score = pos_weight * label * np.log(prob) + neg_weight * (1 - label) * np.log(1 - prob)\n",
    "    \n",
    "    weight_total = pos_weight * label + neg_weight * (1 - label)\n",
    "    \n",
    "    return -score.sum() / weight_total.sum()"
   ]
  },
  {
   "cell_type": "code",
   "execution_count": 6,
   "id": "1232fca3-db17-4128-a4a1-993f82c32cad",
   "metadata": {},
   "outputs": [],
   "source": [
    "prob = patient_pred_df[[f'P{i}' for i in range(8)]].values\n",
    "label = patient_pred_df[[f'C{i}' for i in range(8)]].values"
   ]
  },
  {
   "cell_type": "code",
   "execution_count": 7,
   "id": "bc39f086-fa32-445f-8964-d4d11a983747",
   "metadata": {},
   "outputs": [
    {
     "name": "stdout",
     "output_type": "stream",
     "text": [
      "baseline: 0.4341260826490653\n"
     ]
    }
   ],
   "source": [
    "loss = cal_loss(prob, label)\n",
    "print('baseline:', loss)"
   ]
  },
  {
   "cell_type": "code",
   "execution_count": 8,
   "id": "28e41634-0491-45c3-95c5-284f0c92c4a2",
   "metadata": {},
   "outputs": [
    {
     "name": "stdout",
     "output_type": "stream",
     "text": [
      "min loss: 0.42137992280978154\n"
     ]
    },
    {
     "data": {
      "text/plain": [
       "[<matplotlib.lines.Line2D at 0x7f79ab3b2d90>]"
      ]
     },
     "execution_count": 8,
     "metadata": {},
     "output_type": "execute_result"
    },
    {
     "data": {
      "image/png": "[encoded data removed]",
      "text/plain": [
       "<Figure size 432x288 with 1 Axes>"
      ]
     },
     "metadata": {
      "needs_background": "light"
     },
     "output_type": "display_data"
    }
   ],
   "source": [
    "# only clip lower bound\n",
    "losses = []\n",
    "\n",
    "clips = np.linspace(0.001, 0.2, 1000)\n",
    "for clip in clips:\n",
    "    new_prob = np.clip(prob, a_min=clip, a_max=1)\n",
    "    loss= cal_loss(new_prob, label)\n",
    "    \n",
    "    losses.append(loss)\n",
    "print('min loss:', np.min(losses))\n",
    "plt.plot(clips, losses)"
   ]
  },
  {
   "cell_type": "code",
   "execution_count": 9,
   "id": "ecac34e0-004f-4aec-82bd-7cbc4cbc343a",
   "metadata": {},
   "outputs": [
    {
     "name": "stdout",
     "output_type": "stream",
     "text": [
      "min loss: 0.4341260826490653\n"
     ]
    },
    {
     "data": {
      "text/plain": [
       "[<matplotlib.lines.Line2D at 0x7f79a92ca2e0>]"
      ]
     },
     "execution_count": 9,
     "metadata": {},
     "output_type": "execute_result"
    },
    {
     "data": {
      "image/png": "[encoded data removed]",
      "text/plain": [
       "<Figure size 432x288 with 1 Axes>"
      ]
     },
     "metadata": {
      "needs_background": "light"
     },
     "output_type": "display_data"
    }
   ],
   "source": [
    "# clip upper\n",
    "losses = []\n",
    "\n",
    "clips = np.linspace(0.001, 0.2, 1000)\n",
    "for clip in clips:\n",
    "    new_prob = np.clip(prob, a_min=0, a_max=1-clip)\n",
    "    loss= cal_loss(new_prob, label)\n",
    "    \n",
    "    losses.append(loss)\n",
    "print('min loss:', np.min(losses))\n",
    "plt.plot(clips, losses)"
   ]
  },
  {
   "cell_type": "code",
   "execution_count": 10,
   "id": "7a2e0df8-a763-49d8-9f00-ff2c9af9113e",
   "metadata": {},
   "outputs": [
    {
     "name": "stderr",
     "output_type": "stream",
     "text": [
      "100%|██████████| 200/200 [00:07<00:00, 25.26it/s]"
     ]
    },
    {
     "name": "stdout",
     "output_type": "stream",
     "text": [
      "min loss: 0.4213799718440178\n"
     ]
    },
    {
     "name": "stderr",
     "output_type": "stream",
     "text": [
      "\n"
     ]
    }
   ],
   "source": [
    "# clip both\n",
    "losses = []\n",
    "\n",
    "min_clips = np.linspace(0.001, 0.2, 200)\n",
    "max_clips = np.linspace(0.001, 0.2, 200)\n",
    "\n",
    "for min_clip in tqdm(min_clips):\n",
    "    \n",
    "    for max_clip in max_clips:\n",
    "        new_prob = np.clip(prob, a_min=min_clip, a_max=1-max_clip)\n",
    "        loss= cal_loss(new_prob, label)\n",
    "    \n",
    "        losses.append(loss)\n",
    "print('min loss:', np.min(losses))\n",
    "# plt.plot(clips, losses)"
   ]
  },
  {
   "cell_type": "code",
   "execution_count": null,
   "id": "c1277dd2-c82a-4c65-9661-9e4a75174cb3",
   "metadata": {},
   "outputs": [],
   "source": []
  },
  {
   "cell_type": "code",
   "execution_count": null,
   "id": "525eb042-4931-490d-aa2c-a4af7bfeb3fd",
   "metadata": {},
   "outputs": [],
   "source": []
  }
 ],
 "metadata": {
  "kernelspec": {
   "display_name": "Python 3 (ipykernel)",
   "language": "python",
   "name": "python3"
  },
  "language_info": {
   "codemirror_mode": {
    "name": "ipython",
    "version": 3
   },
   "file_extension": ".py",
   "mimetype": "text/x-python",
   "name": "python",
   "nbconvert_exporter": "python",
   "pygments_lexer": "ipython3",
   "version": "3.8.10"
  }
 },
 "nbformat": 4,
 "nbformat_minor": 5
}
