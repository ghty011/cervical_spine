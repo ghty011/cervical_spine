{
 "cells": [
  {
   "cell_type": "code",
   "execution_count": 1,
   "id": "0a641e3d-4b38-4d70-9fa0-e80ed1f32d96",
   "metadata": {},
   "outputs": [],
   "source": [
    "checkpoint = 'axial_segmentation_deeplab_192205-epoch-21.pth'"
   ]
  },
  {
   "cell_type": "code",
   "execution_count": 2,
   "id": "c4a4aafb-f48b-4801-ade7-4e8a21d00e5b",
   "metadata": {},
   "outputs": [],
   "source": [
    "import os\n",
    "import glob\n",
    "import pandas as pd\n",
    "import numpy as np\n",
    "import matplotlib.pyplot as plt\n",
    "import matplotlib.patches as patches\n",
    "import seaborn as sns\n",
    "import math\n",
    "from tqdm import tqdm\n",
    "\n",
    "from PIL import Image, ImageOps"
   ]
  },
  {
   "cell_type": "code",
   "execution_count": 3,
   "id": "763e8b50-fa90-4bd6-a22e-25c84608ca85",
   "metadata": {},
   "outputs": [
    {
     "data": {
      "text/plain": [
       "'cuda'"
      ]
     },
     "execution_count": 3,
     "metadata": {},
     "output_type": "execute_result"
    }
   ],
   "source": [
    "import torch\n",
    "import torch.nn as nn\n",
    "import torch.nn.functional as F\n",
    "import torch.optim as optim\n",
    "from torch.utils.data import Dataset, DataLoader\n",
    "import torchvision\n",
    "from torchvision.io import read_image\n",
    "import torchvision.transforms as T\n",
    "from torchvision.transforms import Compose, ToTensor, Normalize, Resize, CenterCrop\n",
    "import torchvision.transforms.functional as TF\n",
    "import torchvision.models as models\n",
    "\n",
    "import albumentations as A\n",
    "from albumentations.pytorch import ToTensorV2\n",
    "\n",
    "from sklearn.model_selection import train_test_split\n",
    "\n",
    "device = 'cuda' if torch.cuda.is_available() else 'cpu'\n",
    "device"
   ]
  },
  {
   "cell_type": "code",
   "execution_count": 4,
   "id": "406541a8-f01a-4fdb-84d7-aca3ac79a375",
   "metadata": {},
   "outputs": [],
   "source": [
    "DATA_DIR = \"/root/autodl-tmp/cervical_spine/\"\n",
    "IMAGES_DIR = os.path.join(DATA_DIR, f\"train_axial_images_jpeg95\")\n",
    "LABEL_DIR = os.path.join(DATA_DIR, f\"segmentation_axial_labels\")"
   ]
  },
  {
   "cell_type": "code",
   "execution_count": 5,
   "id": "a5b96797-cd44-4b27-8364-a59c63fa3dd2",
   "metadata": {},
   "outputs": [],
   "source": [
    "class DetectionModel(nn.Module):\n",
    "    def __init__(self, backbone, channels, deep=4, out_channels=64, n_features=1):\n",
    "        super().__init__()\n",
    "\n",
    "        self.backbone = backbone\n",
    "        self.deep = deep\n",
    "        self.channels = channels\n",
    "        self.out_channels = out_channels\n",
    "        self.n_features = n_features\n",
    "\n",
    "        self.init_layers()\n",
    "\n",
    "    def init_layers(self):\n",
    "        self.parallel_modules = self.make_parallel_modules()\n",
    "        self.upsampling_modules = self.make_upsampling_modules()\n",
    "\n",
    "        self.downsampling_modules = self.make_downsampling_modules()\n",
    "        self.classification_modules = self.make_classification_modules()\n",
    "\n",
    "    def make_classification_modules(self):\n",
    "        # the last layer\n",
    "        return nn.Sequential(\n",
    "            nn.ReLU(inplace=True),\n",
    "            nn.Conv2d(self.out_channels, 2 * self.out_channels, kernel_size=3, padding='same'),\n",
    "            nn.ReLU(inplace=True),\n",
    "            nn.Conv2d(2 * self.out_channels, self.n_features, kernel_size=1, padding='same'),\n",
    "        )\n",
    "\n",
    "    def make_parallel_modules(self):\n",
    "        parallel_modules = nn.ModuleList()\n",
    "\n",
    "        for i in range(self.deep):\n",
    "            module = nn.Sequential(\n",
    "                nn.ReLU(),\n",
    "                nn.Conv2d(self.channels[i], self.channels[i], kernel_size=3, padding='same'),\n",
    "                nn.ReLU(inplace=True),\n",
    "                nn.Conv2d(self.channels[i], self.channels[i], kernel_size=1, padding='same'),\n",
    "            )\n",
    "            parallel_modules.append(module)\n",
    "\n",
    "\n",
    "        return parallel_modules\n",
    "\n",
    "    def make_downsampling_modules(self):\n",
    "        return nn.ModuleList([\n",
    "            nn.Sequential(\n",
    "                self.backbone.conv1,\n",
    "                self.backbone.bn1,\n",
    "                self.backbone.relu,\n",
    "                self.backbone.maxpool),\n",
    "            nn.Sequential(\n",
    "                self.backbone.layer1,\n",
    "                self.backbone.layer2,\n",
    "            ),\n",
    "            self.backbone.layer3,\n",
    "            self.backbone.layer4\n",
    "        ])\n",
    "\n",
    "    def make_upsampling_modules(self):\n",
    "        upsampling_modules = nn.ModuleList()\n",
    "\n",
    "        for i in range(self.deep):\n",
    "            module = nn.Sequential(\n",
    "                nn.ReLU(inplace=True),\n",
    "                nn.Conv2d(self.channels[i], self.channels[i] // 2, kernel_size=3, padding='same'),\n",
    "                nn.ReLU(inplace=True),\n",
    "                nn.Conv2d(self.channels[i] // 2, self.channels[i-1] if i > 0 else self.out_channels, kernel_size=1),\n",
    "                nn.Upsample(scale_factor=2)\n",
    "            )\n",
    "            upsampling_modules.append(module)\n",
    "\n",
    "        return upsampling_modules\n",
    "\n",
    "\n",
    "\n",
    "    def forward(self, x):\n",
    "\n",
    "        downsampling_outputs = []\n",
    "        out = x\n",
    "        for module in self.downsampling_modules:\n",
    "            out = module(out)\n",
    "            downsampling_outputs.append(out)\n",
    "\n",
    "        parallel_outputs = []\n",
    "        for i in range(len(self.parallel_modules)):\n",
    "            module = self.parallel_modules[i]\n",
    "            out = module(downsampling_outputs[i])\n",
    "            parallel_outputs.append(out)\n",
    "\n",
    "        out = 0\n",
    "        for i in range(len(self.upsampling_modules)):\n",
    "            module = self.upsampling_modules[-(i+1)]\n",
    "            parallel_output = parallel_outputs[-(i+1)]\n",
    "\n",
    "            up_input = out + parallel_output\n",
    "            out = module(up_input)\n",
    "\n",
    "        out = self.classification_modules(out)\n",
    "\n",
    "        return out\n",
    "\n",
    "\n",
    "def resnet50_gray():\n",
    "    model = models.resnet50(pretrained=False)\n",
    "    conv1_weight = model.conv1.weight\n",
    "    conv1_weight = conv1_weight.mean(dim=1).unsqueeze(1)\n",
    "\n",
    "    model.conv1 = nn.Conv2d(1, 64, kernel_size=(7, 7), stride=1, padding='same', bias=False)\n",
    "    model.conv1.weight = nn.Parameter(conv1_weight, requires_grad=True)\n",
    "\n",
    "    return model\n",
    "\n",
    "# def get_axial_segmentation_model(checkpoint):\n",
    "#     backbone = resnet50_gray()\n",
    "#     channels = [64, 512, 1024, 2048]\n",
    "#     model = DetectionModel(backbone, channels=channels, out_channels=channels[0], n_features=2).to(device)\n",
    "    \n",
    "#     state = torch.load(os.path.join(DATA_DIR, 'checkpoint', checkpoint))\n",
    "#     model.load_state_dict(state[\"model\"])\n",
    "#     model.eval()\n",
    "#     return model\n",
    "\n",
    "\n",
    "# def get_axial_segmentation_model(checkpoint):\n",
    "#     model = get_efficientunet_b5(out_channels=2, concat_input=True, pretrained=True)\n",
    "    \n",
    "#     state = torch.load(os.path.join(DATA_DIR, 'checkpoint', checkpoint))\n",
    "#     model.load_state_dict(state[\"model\"])\n",
    "#     model.eval()\n",
    "#     return model.to(device)\n",
    "    \n",
    "# model = get_axial_segmentation_model(checkpoint)\n"
   ]
  },
  {
   "cell_type": "code",
   "execution_count": 6,
   "id": "ea5e047e-b44a-45e2-8269-83e8580b5104",
   "metadata": {},
   "outputs": [],
   "source": [
    "from efficientunet import *\n",
    "\n",
    "def get_axial_segmentation_model(checkpoint):\n",
    "    model = get_efficientunet_b5(out_channels=2, concat_input=True, pretrained=True)\n",
    "    \n",
    "    state = torch.load(os.path.join(DATA_DIR, 'checkpoint', checkpoint))\n",
    "    model.load_state_dict(state[\"model\"])\n",
    "    model.eval()\n",
    "    return model.to(device)\n",
    "    \n",
    "model = get_axial_segmentation_model(checkpoint)"
   ]
  },
  {
   "cell_type": "code",
   "execution_count": 7,
   "id": "98d4a60f-8f25-4fa5-80be-662b72694aa4",
   "metadata": {},
   "outputs": [
    {
     "name": "stdout",
     "output_type": "stream",
     "text": [
      "0.0 0.875\n"
     ]
    }
   ],
   "source": [
    "UID = '1.2.826.0.1.3680043.1573'\n",
    "axial_index = 205\n",
    "label = Image.open(os.path.join(LABEL_DIR, UID, f\"{axial_index}.png\"))\n",
    "label = np.array(label) / 256\n",
    "\n",
    "print(label.min(), label.max())"
   ]
  },
  {
   "cell_type": "code",
   "execution_count": 8,
   "id": "d3184c36-4b4a-4015-97c5-9ed9be7c7450",
   "metadata": {},
   "outputs": [
    {
     "data": {
      "text/plain": [
       "6.0"
      ]
     },
     "execution_count": 8,
     "metadata": {},
     "output_type": "execute_result"
    },
    {
     "data": {
      "image/png": "[encoded data removed]",
      "text/plain": [
       "<Figure size 432x288 with 1 Axes>"
      ]
     },
     "metadata": {
      "needs_background": "light"
     },
     "output_type": "display_data"
    }
   ],
   "source": [
    "def get_bbox_class(label, bbox):\n",
    "    \"\"\"\n",
    "    label 은 0.125 의 단위로, \n",
    "    bbox: [xmin, ymin, xmax, ymax]\n",
    "    \"\"\"\n",
    "    xmin, ymin, xmax, ymax = bbox\n",
    "    area = label[ymin:ymax, xmin:xmax]\n",
    "    \n",
    "    plt.imshow(label)\n",
    "    plt.axvline(xmin)\n",
    "    plt.axvline(xmax)\n",
    "    plt.axhline(ymin)\n",
    "    plt.axhline(ymax)\n",
    "    # print(area)\n",
    "    result = np.mean(area[area>0])\n",
    "    result = np.round(result / 0.125)\n",
    "    \n",
    "    return result\n",
    "\n",
    "get_bbox_class(label, [270, 180, 320, 190])"
   ]
  },
  {
   "cell_type": "code",
   "execution_count": 9,
   "id": "26f509c8-4d48-42d4-8ef4-39a0d515e3fb",
   "metadata": {},
   "outputs": [],
   "source": [
    "def get_axial_boundary(seg, pixel_spacing, throw=100, tol=0.2, max_mm=100):\n",
    "    image_size = seg.shape[0]\n",
    "    min_size = min(image_size, max_mm / pixel_spacing)\n",
    "    \n",
    "    rows, columns = seg.nonzero()\n",
    "    rows.sort()\n",
    "    columns.sort()\n",
    "    \n",
    "    throw = min(len(rows) // 2, throw)\n",
    "    \n",
    "    if(len(rows)) == 0:\n",
    "        return 0, 0, image_size, image_size\n",
    "    \n",
    "    xmin, xmax = columns[throw], columns[-throw]\n",
    "    ymin, ymax = rows[throw], rows[-throw]\n",
    "    \n",
    "    w = (xmax - xmin) * (1 + tol)\n",
    "    h = (ymax - ymax) * (1 + tol)\n",
    "    new_size = max(w, h, min_size)\n",
    "    new_size = min(image_size, new_size)\n",
    "    \n",
    "    xcenter, ycenter = (xmax + xmin) / 2, (ymax + ymin) / 2\n",
    "    \n",
    "    xmin = min(image_size - new_size, xcenter - new_size / 2)\n",
    "    xmin = max(0, xmin)\n",
    "    \n",
    "    ymin = min(image_size - new_size, ycenter - new_size / 2)\n",
    "    ymin = max(0, ymin)\n",
    "    \n",
    "    return xmin, ymin, xmin + new_size, ymin + new_size\n",
    "\n",
    "# UID = '1.2.826.0.1.3680043.10062'\n",
    "\n",
    "\n",
    "# _, axs = plt.subplots(28, 10, figsize=(100, 280))\n",
    "\n",
    "# for i in range(280):\n",
    "    \n",
    "#     axial_index = i\n",
    "#     label = Image.open(os.path.join(LABEL_DIR, UID, f\"{axial_index}.png\"))\n",
    "#     label = np.array(label) / 256\n",
    "#     xmin, ymin, xmax, ymax = get_axial_boundary(label, 0.2539)\n",
    "#     axs[i//10, i % 10].imshow(label)\n",
    "#     axs[i//10, i % 10].axvline(xmin)\n",
    "#     axs[i//10, i % 10].axvline(xmax)\n",
    "#     axs[i//10, i % 10].axhline(ymin)\n",
    "#     axs[i//10, i % 10].axhline(ymax)"
   ]
  },
  {
   "cell_type": "code",
   "execution_count": 10,
   "id": "688173f0-3dfe-4aff-a28f-ae03fb0fdde1",
   "metadata": {},
   "outputs": [],
   "source": [
    "class DataTransform(nn.Module):\n",
    "    def __init__(self, image_size):\n",
    "        super().__init__()\n",
    "\n",
    "        self.image_size = image_size\n",
    "\n",
    "        \n",
    "        self.transform = A.Compose([\n",
    "            A.Resize(image_size, image_size),\n",
    "            ToTensorV2(p=1),\n",
    "        ])\n",
    "\n",
    "        self.normalize = T.Normalize(255 * 0.5, 255 * 0.5)\n",
    "\n",
    "    def forward(self, x):\n",
    "        augmented = self.transform(image=np.asarray(x))\n",
    "        x= augmented['image']\n",
    "\n",
    "        x = self.normalize(x.float())\n",
    "\n",
    "        return torch.cat((x, x, x), dim=0)\n",
    "    \n",
    "transform = DataTransform(256)"
   ]
  },
  {
   "cell_type": "code",
   "execution_count": 11,
   "id": "c046fe3f-20ce-44a6-84e3-2c17d877ce91",
   "metadata": {},
   "outputs": [],
   "source": [
    "@torch.no_grad()\n",
    "def predict(x, model):\n",
    "    x = x.to(device)\n",
    "    logits = model(x)\n",
    "\n",
    "    classification_score, mse_score = logits.sigmoid().chunk(2, dim=1)\n",
    "    classification_pred = classification_score.gt(0.5).float()\n",
    "    pred = (classification_pred * mse_score).cpu().numpy()\n",
    "    \n",
    "    return pred"
   ]
  },
  {
   "cell_type": "code",
   "execution_count": 12,
   "id": "a4a9e578-76b8-472b-93e3-c91fb74726c9",
   "metadata": {},
   "outputs": [
    {
     "name": "stdout",
     "output_type": "stream",
     "text": [
      "tensor(-0.9216, device='cuda:0') tensor(0.9922, device='cuda:0')\n",
      "torch.Size([1, 3, 256, 256])\n",
      "0.0 0.6318262\n"
     ]
    },
    {
     "data": {
      "text/plain": [
       "(40.5474006116208, 16.5474006116208, 193.4525993883792, 169.4525993883792)"
      ]
     },
     "execution_count": 12,
     "metadata": {},
     "output_type": "execute_result"
    },
    {
     "data": {
      "image/png": "[encoded data removed]",
      "text/plain": [
       "<Figure size 432x288 with 1 Axes>"
      ]
     },
     "metadata": {
      "needs_background": "light"
     },
     "output_type": "display_data"
    }
   ],
   "source": [
    "img = Image.open(os.path.join(IMAGES_DIR, UID, '156.jpeg'))\n",
    "x = transform(img).unsqueeze(0).to(device)\n",
    "print(x.min(), x.max())\n",
    "print(x.shape)\n",
    "label = predict(x, model)\n",
    "print(label.min(), label.max())\n",
    "\n",
    "plt.imshow(label.squeeze())\n",
    "get_axial_boundary(label.squeeze(), 0.327, throw=50, tol=0.2, max_mm=50)"
   ]
  },
  {
   "cell_type": "code",
   "execution_count": 13,
   "id": "38c48840-b084-4dd1-b189-d2ff1f0fdbbb",
   "metadata": {},
   "outputs": [
    {
     "name": "stdout",
     "output_type": "stream",
     "text": [
      "1983\n"
     ]
    },
    {
     "data": {
      "text/html": [
       "<div>\n",
       "<style scoped>\n",
       "    .dataframe tbody tr th:only-of-type {\n",
       "        vertical-align: middle;\n",
       "    }\n",
       "\n",
       "    .dataframe tbody tr th {\n",
       "        vertical-align: top;\n",
       "    }\n",
       "\n",
       "    .dataframe thead th {\n",
       "        text-align: right;\n",
       "    }\n",
       "</style>\n",
       "<table border=\"1\" class=\"dataframe\">\n",
       "  <thead>\n",
       "    <tr style=\"text-align: right;\">\n",
       "      <th></th>\n",
       "      <th>z_spacing</th>\n",
       "      <th>pixel_spacing</th>\n",
       "      <th>aspect</th>\n",
       "      <th>is_flip</th>\n",
       "      <th>z_height</th>\n",
       "    </tr>\n",
       "    <tr>\n",
       "      <th>UID</th>\n",
       "      <th></th>\n",
       "      <th></th>\n",
       "      <th></th>\n",
       "      <th></th>\n",
       "      <th></th>\n",
       "    </tr>\n",
       "  </thead>\n",
       "  <tbody>\n",
       "    <tr>\n",
       "      <th>1.2.826.0.1.3680043.10001</th>\n",
       "      <td>0.625</td>\n",
       "      <td>0.253906</td>\n",
       "      <td>2.461540885209487</td>\n",
       "      <td>0</td>\n",
       "      <td>268</td>\n",
       "    </tr>\n",
       "    <tr>\n",
       "      <th>1.2.826.0.1.3680043.10005</th>\n",
       "      <td>0.625</td>\n",
       "      <td>0.298828</td>\n",
       "      <td>2.0915041428514063</td>\n",
       "      <td>0</td>\n",
       "      <td>259</td>\n",
       "    </tr>\n",
       "    <tr>\n",
       "      <th>1.2.826.0.1.3680043.10014</th>\n",
       "      <td>0.8000000000000114</td>\n",
       "      <td>0.234</td>\n",
       "      <td>3.418803418803467</td>\n",
       "      <td>0</td>\n",
       "      <td>258</td>\n",
       "    </tr>\n",
       "    <tr>\n",
       "      <th>1.2.826.0.1.3680043.10016</th>\n",
       "      <td>0.3130000000000024</td>\n",
       "      <td>0.275391</td>\n",
       "      <td>1.136565828222427</td>\n",
       "      <td>0</td>\n",
       "      <td>645</td>\n",
       "    </tr>\n",
       "    <tr>\n",
       "      <th>1.2.826.0.1.3680043.10032</th>\n",
       "      <td>0.625</td>\n",
       "      <td>0.320313</td>\n",
       "      <td>1.9512164663938085</td>\n",
       "      <td>0</td>\n",
       "      <td>321</td>\n",
       "    </tr>\n",
       "  </tbody>\n",
       "</table>\n",
       "</div>"
      ],
      "text/plain": [
       "                                    z_spacing pixel_spacing  \\\n",
       "UID                                                           \n",
       "1.2.826.0.1.3680043.10001               0.625      0.253906   \n",
       "1.2.826.0.1.3680043.10005               0.625      0.298828   \n",
       "1.2.826.0.1.3680043.10014  0.8000000000000114         0.234   \n",
       "1.2.826.0.1.3680043.10016  0.3130000000000024      0.275391   \n",
       "1.2.826.0.1.3680043.10032               0.625      0.320313   \n",
       "\n",
       "                                       aspect is_flip z_height  \n",
       "UID                                                             \n",
       "1.2.826.0.1.3680043.10001   2.461540885209487       0      268  \n",
       "1.2.826.0.1.3680043.10005  2.0915041428514063       0      259  \n",
       "1.2.826.0.1.3680043.10014   3.418803418803467       0      258  \n",
       "1.2.826.0.1.3680043.10016   1.136565828222427       0      645  \n",
       "1.2.826.0.1.3680043.10032  1.9512164663938085       0      321  "
      ]
     },
     "execution_count": 13,
     "metadata": {},
     "output_type": "execute_result"
    }
   ],
   "source": [
    "train_3d_df = pd.read_csv(os.path.join(DATA_DIR, 'meta_train_3d.csv')).set_index('UID')\n",
    "print(len(train_3d_df))\n",
    "train_3d_df.head()"
   ]
  },
  {
   "cell_type": "code",
   "execution_count": null,
   "id": "ee0c0895-5c00-4418-a673-303a4c36f581",
   "metadata": {},
   "outputs": [
    {
     "name": "stderr",
     "output_type": "stream",
     "text": [
      "100%|██████████| 280/280 [00:14<00:00, 19.08it/s]\n"
     ]
    }
   ],
   "source": [
    "UID = '1.2.826.0.1.3680043.15206'\n",
    "pixel_spacing = float(train_3d_df.loc[UID, 'pixel_spacing'])\n",
    "\n",
    "_, axs = plt.subplots(28, 10, figsize=(100, 280))\n",
    "\n",
    "class_label_list = []\n",
    "\n",
    "for i in tqdm(range(280)):\n",
    "    axial_index = i\n",
    "    img = Image.open(os.path.join(IMAGES_DIR, UID, f'{i}.jpeg'))\n",
    "    x = transform(img).unsqueeze(0).to(device)\n",
    "    label = predict(x, model)\n",
    "    label = np.round(label / 0.125) * 0.125\n",
    "    label = label.squeeze()\n",
    "    class_label = np.mean(label[label > 0])\n",
    "    class_label_list.append(class_label)\n",
    "    xmin, ymin, xmax, ymax = get_axial_boundary(label, pixel_spacing, throw=50, tol=0.2, max_mm=50)\n",
    "    axs[i//10, i % 10].imshow(label, cmap='nipy_spectral')\n",
    "    axs[i//10, i % 10].axvline(xmin)\n",
    "    axs[i//10, i % 10].axvline(xmax)\n",
    "    axs[i//10, i % 10].axhline(ymin)\n",
    "    axs[i//10, i % 10].axhline(ymax)\n",
    "    axs[i//10, i % 10].set_title(class_label)"
   ]
  },
  {
   "cell_type": "code",
   "execution_count": null,
   "id": "4107ea9d-f65f-47cb-9f3c-ba00cb4182cf",
   "metadata": {},
   "outputs": [],
   "source": [
    "plt.plot(class_label_list)"
   ]
  }
 ],
 "metadata": {
  "kernelspec": {
   "display_name": "Python 3 (ipykernel)",
   "language": "python",
   "name": "python3"
  },
  "language_info": {
   "codemirror_mode": {
    "name": "ipython",
    "version": 3
   },
   "file_extension": ".py",
   "mimetype": "text/x-python",
   "name": "python",
   "nbconvert_exporter": "python",
   "pygments_lexer": "ipython3",
   "version": "3.8.10"
  }
 },
 "nbformat": 4,
 "nbformat_minor": 5
}
