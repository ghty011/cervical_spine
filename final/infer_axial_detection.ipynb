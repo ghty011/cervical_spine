{
 "cells": [
  {
   "cell_type": "code",
   "execution_count": 12,
   "metadata": {
    "collapsed": false,
    "jupyter": {
     "outputs_hidden": false
    }
   },
   "outputs": [],
   "source": [
    "image_size = 512\n",
    "backbone='efficientdetv2_ds'\n",
    "checkpoint='axial_detection_effdet_134352-epoch-52'"
   ]
  },
  {
   "cell_type": "code",
   "execution_count": 2,
   "metadata": {},
   "outputs": [
    {
     "data": {
      "text/plain": [
       "'cuda'"
      ]
     },
     "execution_count": 2,
     "metadata": {},
     "output_type": "execute_result"
    }
   ],
   "source": [
    "import numpy as np\n",
    "import pandas as pd\n",
    "import torch\n",
    "import matplotlib.pyplot as plt\n",
    "import seaborn as sns\n",
    "import ast\n",
    "import sys\n",
    "\n",
    "effdet_path = \"../third/effdet\"\n",
    "sys.path.append(effdet_path)\n",
    "timm_path = \"../third/timm-pytorch-image-models\"\n",
    "sys.path.append(timm_path)\n",
    "import timm\n",
    "from timm.data import IMAGENET_DEFAULT_MEAN, IMAGENET_DEFAULT_STD\n",
    "from matplotlib import patches\n",
    "import sklearn\n",
    "import os\n",
    "from tqdm import tqdm\n",
    "\n",
    "omega_path = \"../third/omegaconf\"\n",
    "sys.path.append(omega_path)\n",
    "from omegaconf import OmegaConf\n",
    "import glob\n",
    "import sklearn\n",
    "import math\n",
    "import random\n",
    "\n",
    "from PIL import Image\n",
    "\n",
    "import cv2\n",
    "import albumentations as A\n",
    "from albumentations.pytorch import ToTensorV2\n",
    "\n",
    "import torch\n",
    "import torch.nn as nn\n",
    "import torch.nn.functional as F\n",
    "from torch.utils.data import Dataset, DataLoader\n",
    "from torch import optim\n",
    "from torchvision import transforms\n",
    "\n",
    "# from transformers import get_cosine_schedule_with_warmup\n",
    "\n",
    "import warnings\n",
    "\n",
    "warnings.filterwarnings('ignore')\n",
    "from sklearn import metrics, model_selection, preprocessing\n",
    "\n",
    "# from sklearn.model_selection import GroupKFold\n",
    "\n",
    "\n",
    "# pos_weight = torch.tensor(pos_weight)\n",
    "device = 'cuda' if torch.cuda.is_available() else 'cpu'\n",
    "device"
   ]
  },
  {
   "cell_type": "code",
   "execution_count": 3,
   "metadata": {
    "collapsed": false,
    "jupyter": {
     "outputs_hidden": false
    }
   },
   "outputs": [],
   "source": [
    "DATA_DIR = \"/root/autodl-tmp/cervical_spine/\"\n",
    "IMAGES_DIR = os.path.join(DATA_DIR, 'train_axial_images_jpeg95')"
   ]
  },
  {
   "cell_type": "code",
   "execution_count": 4,
   "metadata": {
    "collapsed": false,
    "jupyter": {
     "outputs_hidden": false
    }
   },
   "outputs": [
    {
     "name": "stdout",
     "output_type": "stream",
     "text": [
      "2012\n"
     ]
    },
    {
     "data": {
      "text/html": [
       "<div>\n",
       "<style scoped>\n",
       "    .dataframe tbody tr th:only-of-type {\n",
       "        vertical-align: middle;\n",
       "    }\n",
       "\n",
       "    .dataframe tbody tr th {\n",
       "        vertical-align: top;\n",
       "    }\n",
       "\n",
       "    .dataframe thead th {\n",
       "        text-align: right;\n",
       "    }\n",
       "</style>\n",
       "<table border=\"1\" class=\"dataframe\">\n",
       "  <thead>\n",
       "    <tr style=\"text-align: right;\">\n",
       "      <th></th>\n",
       "      <th>aspect</th>\n",
       "      <th>xmin</th>\n",
       "      <th>ymin</th>\n",
       "      <th>xmax</th>\n",
       "      <th>ymax</th>\n",
       "    </tr>\n",
       "    <tr>\n",
       "      <th>UID</th>\n",
       "      <th></th>\n",
       "      <th></th>\n",
       "      <th></th>\n",
       "      <th></th>\n",
       "      <th></th>\n",
       "    </tr>\n",
       "  </thead>\n",
       "  <tbody>\n",
       "    <tr>\n",
       "      <th>1.2.826.0.1.3680043.10001</th>\n",
       "      <td>2.461541</td>\n",
       "      <td>78.849180</td>\n",
       "      <td>47.024193</td>\n",
       "      <td>453.30298</td>\n",
       "      <td>420.97748</td>\n",
       "    </tr>\n",
       "    <tr>\n",
       "      <th>1.2.826.0.1.3680043.10005</th>\n",
       "      <td>2.091504</td>\n",
       "      <td>93.988910</td>\n",
       "      <td>63.075333</td>\n",
       "      <td>373.98172</td>\n",
       "      <td>460.40836</td>\n",
       "    </tr>\n",
       "    <tr>\n",
       "      <th>1.2.826.0.1.3680043.10014</th>\n",
       "      <td>3.418803</td>\n",
       "      <td>22.234573</td>\n",
       "      <td>11.231842</td>\n",
       "      <td>500.32007</td>\n",
       "      <td>506.54834</td>\n",
       "    </tr>\n",
       "    <tr>\n",
       "      <th>1.2.826.0.1.3680043.10016</th>\n",
       "      <td>1.136566</td>\n",
       "      <td>73.564575</td>\n",
       "      <td>27.175400</td>\n",
       "      <td>444.91382</td>\n",
       "      <td>438.84436</td>\n",
       "    </tr>\n",
       "    <tr>\n",
       "      <th>1.2.826.0.1.3680043.10032</th>\n",
       "      <td>1.951216</td>\n",
       "      <td>85.200000</td>\n",
       "      <td>30.145882</td>\n",
       "      <td>420.28073</td>\n",
       "      <td>443.24400</td>\n",
       "    </tr>\n",
       "  </tbody>\n",
       "</table>\n",
       "</div>"
      ],
      "text/plain": [
       "                             aspect       xmin       ymin       xmax  \\\n",
       "UID                                                                    \n",
       "1.2.826.0.1.3680043.10001  2.461541  78.849180  47.024193  453.30298   \n",
       "1.2.826.0.1.3680043.10005  2.091504  93.988910  63.075333  373.98172   \n",
       "1.2.826.0.1.3680043.10014  3.418803  22.234573  11.231842  500.32007   \n",
       "1.2.826.0.1.3680043.10016  1.136566  73.564575  27.175400  444.91382   \n",
       "1.2.826.0.1.3680043.10032  1.951216  85.200000  30.145882  420.28073   \n",
       "\n",
       "                                ymax  \n",
       "UID                                   \n",
       "1.2.826.0.1.3680043.10001  420.97748  \n",
       "1.2.826.0.1.3680043.10005  460.40836  \n",
       "1.2.826.0.1.3680043.10014  506.54834  \n",
       "1.2.826.0.1.3680043.10016  438.84436  \n",
       "1.2.826.0.1.3680043.10032  443.24400  "
      ]
     },
     "execution_count": 4,
     "metadata": {},
     "output_type": "execute_result"
    }
   ],
   "source": [
    "boundary_df = pd.read_csv(os.path.join(DATA_DIR, 'train_axial_boundary.csv')).set_index('UID')\n",
    "print(len(boundary_df))\n",
    "boundary_df.head()"
   ]
  },
  {
   "cell_type": "code",
   "execution_count": 5,
   "metadata": {
    "collapsed": false,
    "jupyter": {
     "outputs_hidden": false
    }
   },
   "outputs": [
    {
     "data": {
      "text/plain": [
       "(0, 1, 3, 4)"
      ]
     },
     "execution_count": 5,
     "metadata": {},
     "output_type": "execute_result"
    }
   ],
   "source": [
    "def square_crop_position(crop_box, image_size=512):\n",
    "    \"\"\"\n",
    "    crop box 를 정방형으로 만들어준다.\n",
    "    :param left:\n",
    "    :param top:\n",
    "    :param right:\n",
    "    :param bottom:\n",
    "    :param image_size:\n",
    "    :return:\n",
    "    \"\"\"\n",
    "    left, top, right, bottom = crop_box\n",
    "    w, h = right - left, bottom - top\n",
    "\n",
    "    if h > w:\n",
    "        left_pad = (h - w) // 2\n",
    "        right_pad = h - w - left_pad\n",
    "        left -= left_pad\n",
    "        right += right_pad\n",
    "\n",
    "        if left < 0:\n",
    "            right -= left\n",
    "            left = 0\n",
    "        elif right > image_size:\n",
    "            left -= right - image_size\n",
    "            right = image_size\n",
    "    else:\n",
    "        top_pad = (w - h) // 2\n",
    "        bottom_pad = w - h - top_pad\n",
    "        top -= top_pad\n",
    "        bottom += bottom_pad\n",
    "\n",
    "        if top < 0:\n",
    "            bottom -= top\n",
    "            top = 0\n",
    "        elif bottom > image_size:\n",
    "            top -= bottom - image_size\n",
    "            bottom = image_size\n",
    "    return left, top, right, bottom\n",
    "\n",
    "\n",
    "square_crop_position([0, 1, 2, 4], image_size=5)"
   ]
  },
  {
   "cell_type": "code",
   "execution_count": 6,
   "metadata": {
    "collapsed": false,
    "jupyter": {
     "outputs_hidden": false
    }
   },
   "outputs": [
    {
     "name": "stdout",
     "output_type": "stream",
     "text": [
      "2012\n"
     ]
    },
    {
     "data": {
      "text/html": [
       "<div>\n",
       "<style scoped>\n",
       "    .dataframe tbody tr th:only-of-type {\n",
       "        vertical-align: middle;\n",
       "    }\n",
       "\n",
       "    .dataframe tbody tr th {\n",
       "        vertical-align: top;\n",
       "    }\n",
       "\n",
       "    .dataframe thead th {\n",
       "        text-align: right;\n",
       "    }\n",
       "</style>\n",
       "<table border=\"1\" class=\"dataframe\">\n",
       "  <thead>\n",
       "    <tr style=\"text-align: right;\">\n",
       "      <th></th>\n",
       "      <th>aspect</th>\n",
       "      <th>xmin</th>\n",
       "      <th>ymin</th>\n",
       "      <th>xmax</th>\n",
       "      <th>ymax</th>\n",
       "    </tr>\n",
       "    <tr>\n",
       "      <th>UID</th>\n",
       "      <th></th>\n",
       "      <th></th>\n",
       "      <th></th>\n",
       "      <th></th>\n",
       "      <th></th>\n",
       "    </tr>\n",
       "  </thead>\n",
       "  <tbody>\n",
       "    <tr>\n",
       "      <th>1.2.826.0.1.3680043.10001</th>\n",
       "      <td>2.461541</td>\n",
       "      <td>78.849180</td>\n",
       "      <td>47.024193</td>\n",
       "      <td>453.302980</td>\n",
       "      <td>421.477993</td>\n",
       "    </tr>\n",
       "    <tr>\n",
       "      <th>1.2.826.0.1.3680043.10005</th>\n",
       "      <td>2.091504</td>\n",
       "      <td>35.988910</td>\n",
       "      <td>63.075333</td>\n",
       "      <td>433.321937</td>\n",
       "      <td>460.408360</td>\n",
       "    </tr>\n",
       "    <tr>\n",
       "      <th>1.2.826.0.1.3680043.10014</th>\n",
       "      <td>3.418803</td>\n",
       "      <td>14.234573</td>\n",
       "      <td>11.231842</td>\n",
       "      <td>509.551071</td>\n",
       "      <td>506.548340</td>\n",
       "    </tr>\n",
       "    <tr>\n",
       "      <th>1.2.826.0.1.3680043.10016</th>\n",
       "      <td>1.136566</td>\n",
       "      <td>53.564575</td>\n",
       "      <td>27.175400</td>\n",
       "      <td>465.233535</td>\n",
       "      <td>438.844360</td>\n",
       "    </tr>\n",
       "    <tr>\n",
       "      <th>1.2.826.0.1.3680043.10032</th>\n",
       "      <td>1.951216</td>\n",
       "      <td>46.200000</td>\n",
       "      <td>30.145882</td>\n",
       "      <td>459.298118</td>\n",
       "      <td>443.244000</td>\n",
       "    </tr>\n",
       "  </tbody>\n",
       "</table>\n",
       "</div>"
      ],
      "text/plain": [
       "                             aspect       xmin       ymin        xmax  \\\n",
       "UID                                                                     \n",
       "1.2.826.0.1.3680043.10001  2.461541  78.849180  47.024193  453.302980   \n",
       "1.2.826.0.1.3680043.10005  2.091504  35.988910  63.075333  433.321937   \n",
       "1.2.826.0.1.3680043.10014  3.418803  14.234573  11.231842  509.551071   \n",
       "1.2.826.0.1.3680043.10016  1.136566  53.564575  27.175400  465.233535   \n",
       "1.2.826.0.1.3680043.10032  1.951216  46.200000  30.145882  459.298118   \n",
       "\n",
       "                                 ymax  \n",
       "UID                                    \n",
       "1.2.826.0.1.3680043.10001  421.477993  \n",
       "1.2.826.0.1.3680043.10005  460.408360  \n",
       "1.2.826.0.1.3680043.10014  506.548340  \n",
       "1.2.826.0.1.3680043.10016  438.844360  \n",
       "1.2.826.0.1.3680043.10032  443.244000  "
      ]
     },
     "execution_count": 6,
     "metadata": {},
     "output_type": "execute_result"
    }
   ],
   "source": [
    "for i in range(len(boundary_df)):\n",
    "    boundary = boundary_df.iloc[i]\n",
    "    boundary_df.loc[boundary.name, ['xmin','ymin','xmax','ymax']] = square_crop_position(boundary[['xmin','ymin','xmax','ymax']].values, image_size)\n",
    "print(len(boundary_df))\n",
    "boundary_df.head()"
   ]
  },
  {
   "cell_type": "code",
   "execution_count": 7,
   "metadata": {
    "collapsed": false,
    "jupyter": {
     "outputs_hidden": false
    }
   },
   "outputs": [],
   "source": [
    "def get_image_and_labels_by_idx(image_dir, boundary_df, UID, slice):\n",
    "\n",
    "    r = Image.open(os.path.join(image_dir, UID, f\"{slice - 1}.jpeg\"))\n",
    "    g = Image.open(os.path.join(image_dir, UID, f\"{slice - 0}.jpeg\"))\n",
    "    b = Image.open(os.path.join(image_dir, UID, f\"{slice + 1}.jpeg\"))\n",
    "    img = Image.merge('RGB', (r, g, b))\n",
    "\n",
    "    s = boundary_df.loc[UID]\n",
    "\n",
    "    crop_box = s[['xmin', 'ymin', 'xmax', 'ymax']].values\n",
    "    return img, crop_box"
   ]
  },
  {
   "cell_type": "code",
   "execution_count": 8,
   "metadata": {
    "collapsed": false,
    "jupyter": {
     "outputs_hidden": false
    }
   },
   "outputs": [],
   "source": [
    "def get_valid_transforms(target_img_size=512):\n",
    "    return A.Compose(\n",
    "        [\n",
    "            A.Resize(height=target_img_size, width=target_img_size, p=1),\n",
    "            A.Normalize(0.5, 0.5),\n",
    "            ToTensorV2(p=1),\n",
    "        ]\n",
    "    )\n",
    "transform = get_valid_transforms()\n"
   ]
  },
  {
   "cell_type": "markdown",
   "metadata": {},
   "source": [
    "## Model"
   ]
  },
  {
   "cell_type": "code",
   "execution_count": 43,
   "metadata": {
    "tags": []
   },
   "outputs": [],
   "source": [
    "from effdet import create_model\n",
    "model = create_model(backbone , bench_task='predict' , num_classes= 1 , image_size=(image_size, image_size), bench_labeler=True, pretrained=True, \n",
    "                     max_det_per_image=1)\n",
    "model = model.to(device)\n",
    "model.max_detection_points = 1\n",
    "mdoel = model.eval()"
   ]
  },
  {
   "cell_type": "code",
   "execution_count": 44,
   "metadata": {
    "collapsed": false,
    "jupyter": {
     "outputs_hidden": false
    }
   },
   "outputs": [
    {
     "data": {
      "text/plain": [
       "<All keys matched successfully>"
      ]
     },
     "execution_count": 44,
     "metadata": {},
     "output_type": "execute_result"
    }
   ],
   "source": [
    "state = torch.load(os.path.join(DATA_DIR, 'checkpoint',f'{checkpoint}.pth'))\n",
    "model.load_state_dict(state[\"model\"])"
   ]
  },
  {
   "cell_type": "code",
   "execution_count": 17,
   "metadata": {},
   "outputs": [],
   "source": [
    "eff_model = model.model\n",
    "input = torch.randn(3, 3, 512, 512).to(device)\n",
    "a, b = eff_model(input)"
   ]
  },
  {
   "cell_type": "code",
   "execution_count": 20,
   "metadata": {},
   "outputs": [
    {
     "data": {
      "text/plain": [
       "5"
      ]
     },
     "execution_count": 20,
     "metadata": {},
     "output_type": "execute_result"
    }
   ],
   "source": [
    "len(a)"
   ]
  },
  {
   "cell_type": "code",
   "execution_count": 25,
   "metadata": {},
   "outputs": [],
   "source": [
    "UID, axial_index = '1.2.826.0.1.3680043.14405', 229\n",
    "\n",
    "image, crop_box = get_image_and_labels_by_idx(IMAGES_DIR, boundary_df, UID, axial_index)\n",
    "image = image.crop(crop_box)\n",
    "transformed = transform(image=np.array(image, dtype=np.float32))\n",
    "image = transformed[\"image\"]\n",
    "image = image.to(device)"
   ]
  },
  {
   "cell_type": "code",
   "execution_count": 76,
   "metadata": {},
   "outputs": [],
   "source": [
    "class_out, box_out = eff_model(image.unsqueeze(0))"
   ]
  },
  {
   "cell_type": "code",
   "execution_count": 46,
   "metadata": {},
   "outputs": [
    {
     "name": "stdout",
     "output_type": "stream",
     "text": [
      "torch.Size([1, 9, 64, 64]) tensor(-16.8337, device='cuda:0', grad_fn=<MinBackward1>) tensor(-5.7904, device='cuda:0', grad_fn=<MaxBackward1>)\n",
      "torch.Size([1, 9, 32, 32]) tensor(-13.1751, device='cuda:0', grad_fn=<MinBackward1>) tensor(-5.1744, device='cuda:0', grad_fn=<MaxBackward1>)\n",
      "torch.Size([1, 9, 16, 16]) tensor(-11.5066, device='cuda:0', grad_fn=<MinBackward1>) tensor(0.2716, device='cuda:0', grad_fn=<MaxBackward1>)\n",
      "torch.Size([1, 9, 8, 8]) tensor(-10.0342, device='cuda:0', grad_fn=<MinBackward1>) tensor(-2.1584, device='cuda:0', grad_fn=<MaxBackward1>)\n",
      "torch.Size([1, 9, 4, 4]) tensor(-10.2382, device='cuda:0', grad_fn=<MinBackward1>) tensor(-5.4523, device='cuda:0', grad_fn=<MaxBackward1>)\n"
     ]
    }
   ],
   "source": [
    "for class_item in class_list:\n",
    "    print(class_item.shape, class_item.min(), class_item.max())"
   ]
  },
  {
   "cell_type": "code",
   "execution_count": 47,
   "metadata": {},
   "outputs": [
    {
     "name": "stdout",
     "output_type": "stream",
     "text": [
      "torch.Size([1, 36, 64, 64]) tensor(-1.4957, device='cuda:0', grad_fn=<MinBackward1>) tensor(0.7595, device='cuda:0', grad_fn=<MaxBackward1>)\n",
      "torch.Size([1, 36, 32, 32]) tensor(-1.0492, device='cuda:0', grad_fn=<MinBackward1>) tensor(0.7999, device='cuda:0', grad_fn=<MaxBackward1>)\n",
      "torch.Size([1, 36, 16, 16]) tensor(-0.8388, device='cuda:0', grad_fn=<MinBackward1>) tensor(0.6310, device='cuda:0', grad_fn=<MaxBackward1>)\n",
      "torch.Size([1, 36, 8, 8]) tensor(-0.6459, device='cuda:0', grad_fn=<MinBackward1>) tensor(0.3623, device='cuda:0', grad_fn=<MaxBackward1>)\n",
      "torch.Size([1, 36, 4, 4]) tensor(-0.4420, device='cuda:0', grad_fn=<MinBackward1>) tensor(0.6590, device='cuda:0', grad_fn=<MaxBackward1>)\n"
     ]
    }
   ],
   "source": [
    "for box_item in box_list:\n",
    "    print(box_item.shape, box_item.min(), box_item.max())"
   ]
  },
  {
   "cell_type": "code",
   "execution_count": 33,
   "metadata": {},
   "outputs": [],
   "source": [
    "from effdet.bench import _post_process"
   ]
  },
  {
   "cell_type": "code",
   "execution_count": 94,
   "metadata": {},
   "outputs": [
    {
     "name": "stdout",
     "output_type": "stream",
     "text": [
      "torch.Size([49104, 4])\n"
     ]
    }
   ],
   "source": [
    "# _batch_detection(\n",
    "#             x.shape[0], class_out, box_out, self.anchors.boxes, indices, classes,\n",
    "#             img_scale, img_size, max_det_per_image=self.max_det_per_image, soft_nms=self.soft_nms\n",
    "#         )\n",
    "from effdet.anchors import Anchors, decode_box_outputs\n",
    "\n",
    "anchors = Anchors.from_config(model.model.config).to(device)\n",
    "print(anchors.boxes.shape)"
   ]
  },
  {
   "cell_type": "code",
   "execution_count": 97,
   "metadata": {},
   "outputs": [
    {
     "name": "stdout",
     "output_type": "stream",
     "text": [
      "tensor([[149.8633, 125.6938, 428.7382, 245.9655]], device='cuda:0') tensor([[[0.5675]]], device='cuda:0')\n"
     ]
    }
   ],
   "source": [
    "with torch.no_grad():\n",
    "    class_out, box_out = eff_model(image.unsqueeze(0))\n",
    "    class_out, box_out, indices, classes = _post_process(\n",
    "                class_out, box_out, num_levels=model.config.num_levels, num_classes=1,\n",
    "                max_detection_points=1)\n",
    "    anchor_boxes = anchors.boxes[indices, :]\n",
    "    box_outputs = box_out[0]\n",
    "    boxes = decode_box_outputs(box_outputs.float(), anchor_boxes[0], output_xyxy=True)\n",
    "    scores = class_out.sigmoid()\n",
    "    \n",
    "    print(boxes, scores)"
   ]
  },
  {
   "cell_type": "code",
   "execution_count": 108,
   "metadata": {},
   "outputs": [],
   "source": [
    "def decode_model_outputs(class_out, box_out, anchors):\n",
    "    class_out, box_out, indices, classes = _post_process(\n",
    "                class_out, box_out, num_levels=model.config.num_levels, num_classes=1,\n",
    "                max_detection_points=1)\n",
    "    anchor_boxes = anchors.boxes[indices, :]\n",
    "    \n",
    "    box_list = []\n",
    "    score_list = []\n",
    "    \n",
    "    for i in range(class_out.shape[0]):\n",
    "        box_outputs = box_out[i]\n",
    "        boxes = decode_box_outputs(box_outputs.float(), anchor_boxes[i], output_xyxy=True)\n",
    "        scores = class_out[i].sigmoid()\n",
    "        \n",
    "        box_list.append(boxes)\n",
    "        score_list.append(scores)\n",
    "    boxes = torch.cat(box_list, axis=0)\n",
    "    scores = torch.cat(score_list, axis=0)\n",
    "    \n",
    "    # print(boxes.shape)\n",
    "    # print(scores.shape)\n",
    "    \n",
    "    return torch.cat((boxes, scores.sigmoid()), axis=1)"
   ]
  },
  {
   "cell_type": "code",
   "execution_count": 49,
   "metadata": {},
   "outputs": [
    {
     "name": "stdout",
     "output_type": "stream",
     "text": [
      "tensor([[[0.2716]]], device='cuda:0', grad_fn=<GatherBackward0>) tensor([[[-0.1543,  0.0602, -0.1778, -0.0299]]], device='cuda:0',\n",
      "       grad_fn=<GatherBackward0>) tensor([[47023]], device='cuda:0') tensor([[0]], device='cuda:0')\n"
     ]
    }
   ],
   "source": [
    "print(class_out, box_out, indices, classes)"
   ]
  },
  {
   "cell_type": "code",
   "execution_count": 106,
   "metadata": {
    "collapsed": false,
    "jupyter": {
     "outputs_hidden": false
    }
   },
   "outputs": [
    {
     "name": "stdout",
     "output_type": "stream",
     "text": [
      "0.08037734031677246\n"
     ]
    },
    {
     "data": {
      "image/png": "[encoded data removed]",
      "text/plain": [
       "<Figure size 432x288 with 1 Axes>"
      ]
     },
     "metadata": {
      "needs_background": "light"
     },
     "output_type": "display_data"
    }
   ],
   "source": [
    "from torchvision.utils import draw_bounding_boxes\n",
    "from time import time\n",
    "\n",
    "def infer_slice(UID, axial_index):\n",
    "    image, crop_box = get_image_and_labels_by_idx(IMAGES_DIR, boundary_df, UID, axial_index)\n",
    "    image = image.crop(crop_box)\n",
    "    transformed = transform(image=np.array(image, dtype=np.float32))\n",
    "    image = transformed[\"image\"]\n",
    "\n",
    "    bboxes = model(image.to(device).unsqueeze(0))\n",
    "    # print(bboxes.shape)\n",
    "    bboxes = bboxes[0]\n",
    "\n",
    "    image = (image * 0.5 + 0.5) * 255\n",
    "    image = image.to(torch.uint8)\n",
    "    # print(list(bboxes[:1, :5]))\n",
    "    bbox_image = draw_bounding_boxes(image, boxes=bboxes[:1, :4], colors='white')\n",
    "    plt.imshow(bbox_image.permute(1, 2, 0).cpu().numpy(), cmap='bone')\n",
    "\n",
    "with torch.no_grad():\n",
    "    start_time = time()\n",
    "    model.eval()\n",
    "    # model.max_detection_points = 1\n",
    "    infer_slice('1.2.826.0.1.3680043.100', 229)\n",
    "    \n",
    "    print(time() - start_time)"
   ]
  },
  {
   "cell_type": "code",
   "execution_count": 112,
   "metadata": {},
   "outputs": [
    {
     "name": "stderr",
     "output_type": "stream",
     "text": [
      "100%|██████████| 83/83 [00:07<00:00, 11.27it/s]"
     ]
    },
    {
     "name": "stdout",
     "output_type": "stream",
     "text": [
      "7.374016523361206\n"
     ]
    },
    {
     "name": "stderr",
     "output_type": "stream",
     "text": [
      "\n"
     ]
    }
   ],
   "source": [
    "infer_result = []\n",
    "\n",
    "def read_batch_image(UID, slice, batch_size):\n",
    "    image_list = []\n",
    "    for i in range(batch_size):\n",
    "        image, crop_box = get_image_and_labels_by_idx(IMAGES_DIR, boundary_df, UID, slice + i)\n",
    "        image = image.crop(crop_box)\n",
    "        transformed = transform(image=np.array(image, dtype=np.float32))\n",
    "        image = transformed[\"image\"]\n",
    "        image_list.append(image)\n",
    "    return torch.stack(image_list, dim=0)\n",
    "\n",
    "def infer_patient_axial(UID):\n",
    "    image_paths = glob.glob(os.path.join(IMAGES_DIR, UID) + '/*.jpeg')\n",
    "\n",
    "    slice = 1\n",
    "    end_slice = len(image_paths) - 2\n",
    "\n",
    "    batch_size = 4\n",
    "\n",
    "    bboxes_list = []\n",
    "\n",
    "    for i in tqdm(range(math.ceil((end_slice-1) / batch_size))):\n",
    "        batch_size = min(end_slice - slice, batch_size)\n",
    "        images = read_batch_image(UID, slice, batch_size)\n",
    "        images = images.to(device)\n",
    "        class_out, box_out = model.model(images)\n",
    "        # bboxes = decode_model_outputs(class_out, box_out, anchors)\n",
    "        \n",
    "        # bboxes = model(images)[0]\n",
    "        \n",
    "        # bboxes_list.extend(bboxes.cpu().numpy())\n",
    "        \n",
    "        slice += batch_size\n",
    "\n",
    "    return np.array(bboxes_list)\n",
    "\n",
    "with torch.no_grad():\n",
    "    start_time = time()\n",
    "    model.eval()\n",
    "    model.max_detection_points = 1\n",
    "    bboxes_list = infer_patient_axial('1.2.826.0.1.3680043.14405')\n",
    "    \n",
    "    print(time() - start_time)\n",
    "    # plt.plot(bboxes_list[:, 4])\n",
    "    # plt.show()\n",
    "    # print(np.argmax(bboxes_list[:, 4]))"
   ]
  },
  {
   "cell_type": "code",
   "execution_count": 67,
   "metadata": {},
   "outputs": [
    {
     "data": {
      "text/plain": [
       "5000"
      ]
     },
     "execution_count": 67,
     "metadata": {},
     "output_type": "execute_result"
    }
   ],
   "source": [
    "model.model.config.max_detection_points"
   ]
  },
  {
   "cell_type": "code",
   "execution_count": 15,
   "metadata": {},
   "outputs": [
    {
     "name": "stdout",
     "output_type": "stream",
     "text": [
      "0.9834901\n"
     ]
    },
    {
     "data": {
      "text/plain": [
       "[<matplotlib.lines.Line2D at 0x7f9cd719dee0>]"
      ]
     },
     "execution_count": 15,
     "metadata": {},
     "output_type": "execute_result"
    },
    {
     "data": {
      "image/png": "[encoded data removed]",
      "text/plain": [
       "<Figure size 432x288 with 1 Axes>"
      ]
     },
     "metadata": {
      "needs_background": "light"
     },
     "output_type": "display_data"
    }
   ],
   "source": [
    "threshold = 0.6\n",
    "class_list = bboxes_list[:, 4]\n",
    "class_list[class_list < threshold] = 0\n",
    "neg_list = 1 - class_list\n",
    "neg_score = neg_list[0:-2] * neg_list[1:-1] * neg_list[2:]\n",
    "pos_score = 1 - neg_score\n",
    "print(pos_score.max())\n",
    "plt.plot(pos_score)"
   ]
  },
  {
   "cell_type": "code",
   "execution_count": null,
   "metadata": {},
   "outputs": [],
   "source": [
    "# plt.show()"
   ]
  },
  {
   "cell_type": "code",
   "execution_count": null,
   "metadata": {
    "collapsed": false,
    "jupyter": {
     "outputs_hidden": false
    }
   },
   "outputs": [],
   "source": [
    "# bboxes_list"
   ]
  },
  {
   "cell_type": "code",
   "execution_count": null,
   "metadata": {
    "collapsed": false,
    "jupyter": {
     "outputs_hidden": false
    }
   },
   "outputs": [],
   "source": [
    "# bboxes_list[96:105]"
   ]
  },
  {
   "cell_type": "code",
   "execution_count": null,
   "metadata": {
    "collapsed": false,
    "jupyter": {
     "outputs_hidden": false
    }
   },
   "outputs": [],
   "source": [
    "# plt.plot(bboxes_list)"
   ]
  },
  {
   "cell_type": "code",
   "execution_count": null,
   "metadata": {},
   "outputs": [],
   "source": []
  }
 ],
 "metadata": {
  "kernelspec": {
   "display_name": "Python 3 (ipykernel)",
   "language": "python",
   "name": "python3"
  },
  "language_info": {
   "codemirror_mode": {
    "name": "ipython",
    "version": 3
   },
   "file_extension": ".py",
   "mimetype": "text/x-python",
   "name": "python",
   "nbconvert_exporter": "python",
   "pygments_lexer": "ipython3",
   "version": "3.8.10"
  }
 },
 "nbformat": 4,
 "nbformat_minor": 4
}
