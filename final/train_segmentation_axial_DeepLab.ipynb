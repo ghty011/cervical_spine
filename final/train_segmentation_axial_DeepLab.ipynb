{
 "cells": [
  {
   "cell_type": "code",
   "execution_count": 1,
   "metadata": {},
   "outputs": [],
   "source": [
    "import wandb\n",
    "from datetime import datetime"
   ]
  },
  {
   "cell_type": "code",
   "execution_count": 2,
   "metadata": {
    "collapsed": false,
    "jupyter": {
     "outputs_hidden": false
    }
   },
   "outputs": [],
   "source": [
    "lr = 1e-3\n",
    "batch_size = 128\n",
    "wd = 5e-5\n",
    "pos_weight = 20\n",
    "mse_weight = 500  # relative to classification error\n",
    "image_size = 256\n",
    "# backbone=\"resnet50\"\n",
    "vertical_type = \"axial\"\n",
    "milestones=[10,20,30,40, 50]\n",
    "epochs=50"
   ]
  },
  {
   "cell_type": "code",
   "execution_count": 3,
   "metadata": {
    "collapsed": false,
    "jupyter": {
     "outputs_hidden": false
    }
   },
   "outputs": [
    {
     "name": "stderr",
     "output_type": "stream",
     "text": [
      "Failed to detect the name of this notebook, you can set it manually with the WANDB_NOTEBOOK_NAME environment variable to enable code saving.\n",
      "\u001b[34m\u001b[1mwandb\u001b[0m: Currently logged in as: \u001b[33mlongyi\u001b[0m. Use \u001b[1m`wandb login --relogin`\u001b[0m to force relogin\n"
     ]
    },
    {
     "data": {
      "text/html": [
       "Tracking run with wandb version 0.13.3"
      ],
      "text/plain": [
       "<IPython.core.display.HTML object>"
      ]
     },
     "metadata": {},
     "output_type": "display_data"
    },
    {
     "data": {
      "text/html": [
       "Run data is saved locally in <code>/root/cervical_spine/final/wandb/run-20221014_212619-3jqibrci</code>"
      ],
      "text/plain": [
       "<IPython.core.display.HTML object>"
      ]
     },
     "metadata": {},
     "output_type": "display_data"
    },
    {
     "data": {
      "text/html": [
       "Syncing run <strong><a href=\"http://8.210.101.57:8081/longyi/cervical-spine/runs/3jqibrci\" target=\"_blank\">proud-music-177</a></strong> to <a href=\"http://8.210.101.57:8081/longyi/cervical-spine\" target=\"_blank\">Weights & Biases</a> (<a href=\"https://wandb.me/run\" target=\"_blank\">docs</a>)<br/>"
      ],
      "text/plain": [
       "<IPython.core.display.HTML object>"
      ]
     },
     "metadata": {},
     "output_type": "display_data"
    },
    {
     "data": {
      "text/plain": [
       "'axial_segmentation_effseg_212625'"
      ]
     },
     "execution_count": 3,
     "metadata": {},
     "output_type": "execute_result"
    }
   ],
   "source": [
    "wandb_entity='longyi'\n",
    "model_name = \"effseg\"\n",
    "wandb.init(project=\"cervical-spine\", entity=wandb_entity, config={\n",
    "    \"model\":model_name,\n",
    "    \"batch_size\":batch_size,\n",
    "    \"lr\" : lr,\n",
    "    \"wd\" : wd,\n",
    "    \"pos_weight\" : pos_weight,\n",
    "    \"mse_weight\" : mse_weight,\n",
    "    \"image_size\" : image_size,\n",
    "})\n",
    "wandb.run.name = f'axial_segmentation_{model_name}_' + datetime.now().strftime(\"%H%M%S\")\n",
    "wandb.run.name"
   ]
  },
  {
   "cell_type": "code",
   "execution_count": 4,
   "metadata": {
    "collapsed": false,
    "jupyter": {
     "outputs_hidden": false
    }
   },
   "outputs": [],
   "source": [
    "import os\n",
    "import glob\n",
    "import pandas as pd\n",
    "import numpy as np\n",
    "import matplotlib.pyplot as plt\n",
    "import matplotlib.patches as patches\n",
    "import seaborn as sns\n",
    "import math\n",
    "from tqdm import tqdm\n",
    "\n",
    "from PIL import Image, ImageOps"
   ]
  },
  {
   "cell_type": "code",
   "execution_count": 5,
   "metadata": {
    "collapsed": false,
    "jupyter": {
     "outputs_hidden": false
    }
   },
   "outputs": [
    {
     "data": {
      "text/plain": [
       "'cuda'"
      ]
     },
     "execution_count": 5,
     "metadata": {},
     "output_type": "execute_result"
    }
   ],
   "source": [
    "import torch\n",
    "import torch.nn as nn\n",
    "import torch.nn.functional as F\n",
    "import torch.optim as optim\n",
    "from torch.utils.data import Dataset, DataLoader\n",
    "import torchvision\n",
    "from torchvision.io import read_image\n",
    "import torchvision.transforms as T\n",
    "from torchvision.transforms import Compose, ToTensor, Normalize, Resize, CenterCrop\n",
    "import torchvision.transforms.functional as TF\n",
    "import torchvision.models as models\n",
    "\n",
    "import albumentations as A\n",
    "from albumentations.pytorch import ToTensorV2\n",
    "\n",
    "from sklearn.model_selection import train_test_split\n",
    "\n",
    "device = 'cuda' if torch.cuda.is_available() else 'cpu'\n",
    "device"
   ]
  },
  {
   "cell_type": "code",
   "execution_count": 6,
   "metadata": {
    "collapsed": false,
    "jupyter": {
     "outputs_hidden": false
    }
   },
   "outputs": [],
   "source": [
    "DATA_DIR = \"/root/autodl-tmp/cervical_spine/\"\n",
    "IMAGES_DIR = os.path.join(DATA_DIR, f\"train_axial_images_jpeg95\")\n",
    "LABEL_DIR = os.path.join(DATA_DIR, f\"segmentation_axial_labels\")"
   ]
  },
  {
   "cell_type": "code",
   "execution_count": 7,
   "metadata": {
    "collapsed": false,
    "jupyter": {
     "outputs_hidden": false
    }
   },
   "outputs": [
    {
     "name": "stdout",
     "output_type": "stream",
     "text": [
      "29832\n"
     ]
    },
    {
     "data": {
      "text/html": [
       "<div>\n",
       "<style scoped>\n",
       "    .dataframe tbody tr th:only-of-type {\n",
       "        vertical-align: middle;\n",
       "    }\n",
       "\n",
       "    .dataframe tbody tr th {\n",
       "        vertical-align: top;\n",
       "    }\n",
       "\n",
       "    .dataframe thead th {\n",
       "        text-align: right;\n",
       "    }\n",
       "</style>\n",
       "<table border=\"1\" class=\"dataframe\">\n",
       "  <thead>\n",
       "    <tr style=\"text-align: right;\">\n",
       "      <th></th>\n",
       "      <th>axial_index</th>\n",
       "    </tr>\n",
       "    <tr>\n",
       "      <th>UID</th>\n",
       "      <th></th>\n",
       "    </tr>\n",
       "  </thead>\n",
       "  <tbody>\n",
       "    <tr>\n",
       "      <th>1.2.826.0.1.3680043.10633</th>\n",
       "      <td>0</td>\n",
       "    </tr>\n",
       "    <tr>\n",
       "      <th>1.2.826.0.1.3680043.10633</th>\n",
       "      <td>1</td>\n",
       "    </tr>\n",
       "    <tr>\n",
       "      <th>1.2.826.0.1.3680043.10633</th>\n",
       "      <td>2</td>\n",
       "    </tr>\n",
       "    <tr>\n",
       "      <th>1.2.826.0.1.3680043.10633</th>\n",
       "      <td>3</td>\n",
       "    </tr>\n",
       "    <tr>\n",
       "      <th>1.2.826.0.1.3680043.10633</th>\n",
       "      <td>4</td>\n",
       "    </tr>\n",
       "  </tbody>\n",
       "</table>\n",
       "</div>"
      ],
      "text/plain": [
       "                           axial_index\n",
       "UID                                   \n",
       "1.2.826.0.1.3680043.10633            0\n",
       "1.2.826.0.1.3680043.10633            1\n",
       "1.2.826.0.1.3680043.10633            2\n",
       "1.2.826.0.1.3680043.10633            3\n",
       "1.2.826.0.1.3680043.10633            4"
      ]
     },
     "execution_count": 7,
     "metadata": {},
     "output_type": "execute_result"
    }
   ],
   "source": [
    "df = pd.read_csv(os.path.join(DATA_DIR, 'axial_segmentation_index_table.csv')).set_index('UID')\n",
    "print(len(df))\n",
    "df.head()"
   ]
  },
  {
   "cell_type": "markdown",
   "metadata": {},
   "source": [
    "## Dataset\n"
   ]
  },
  {
   "cell_type": "code",
   "execution_count": 8,
   "metadata": {
    "collapsed": false,
    "jupyter": {
     "outputs_hidden": false
    }
   },
   "outputs": [],
   "source": [
    "class SegDataset(Dataset):\n",
    "    def __init__(self, df, image_dir, seg_dir, transform=None):\n",
    "        self.df = df\n",
    "        self.image_dir = image_dir\n",
    "        self.seg_dir = seg_dir\n",
    "        self.transform = transform\n",
    "\n",
    "    def __len__(self):\n",
    "        return len(self.df)\n",
    "\n",
    "\n",
    "    def __getitem__(self, idx):\n",
    "        s = self.df.iloc[idx]\n",
    "        UID = s.name\n",
    "\n",
    "        index = int(s[f\"axial_index\"])\n",
    "\n",
    "        slice_img = Image.open(os.path.join(self.image_dir, UID, f\"{index}.jpeg\"))\n",
    "        label_img = Image.open(os.path.join(self.seg_dir, UID, f\"{index}.png\"))\n",
    "\n",
    "        if self.transform:\n",
    "            slice_img, label_img= self.transform(slice_img, label_img)\n",
    "\n",
    "        return slice_img, label_img\n"
   ]
  },
  {
   "cell_type": "code",
   "execution_count": 9,
   "metadata": {
    "collapsed": false,
    "jupyter": {
     "outputs_hidden": false
    }
   },
   "outputs": [
    {
     "name": "stdout",
     "output_type": "stream",
     "text": [
      "512 512\n"
     ]
    },
    {
     "data": {
      "text/plain": [
       "<matplotlib.image.AxesImage at 0x7f77acf47160>"
      ]
     },
     "execution_count": 9,
     "metadata": {},
     "output_type": "execute_result"
    },
    {
     "data": {
      "image/png": "[encoded data removed]",
      "text/plain": [
       "<Figure size 864x864 with 2 Axes>"
      ]
     },
     "metadata": {
      "needs_background": "light"
     },
     "output_type": "display_data"
    }
   ],
   "source": [
    "train_df, val_df = train_test_split(df, test_size=0.2)\n",
    "\n",
    "train_dataset = SegDataset(train_df, IMAGES_DIR, LABEL_DIR)\n",
    "\n",
    "slice, label = train_dataset[150]\n",
    "print(slice.width, slice.height)\n",
    "\n",
    "_, axs = plt.subplots(1, 2, figsize=(12, 12))\n",
    "axs[0].imshow(slice)\n",
    "axs[1].imshow(label)"
   ]
  },
  {
   "cell_type": "markdown",
   "metadata": {},
   "source": [
    "## Transform"
   ]
  },
  {
   "cell_type": "code",
   "execution_count": 10,
   "metadata": {
    "collapsed": false,
    "jupyter": {
     "outputs_hidden": false
    }
   },
   "outputs": [],
   "source": [
    "# aug = A.Compose([\n",
    "#     A.ShiftScaleRotate(p=1, rotate_limit=45),\n",
    "#     A.RandomBrightnessContrast(p=0.5),\n",
    "#     A.Resize(256, 256),\n",
    "# ])\n",
    "\n",
    "# augmented = aug(image=np.asarray(slice), masks=[np.asarray(label), np.asarray(indication)])\n",
    "\n",
    "# image_heavy = augmented['image']\n",
    "# mask_heavy = augmented['masks']\n",
    "\n",
    "# _, axs = plt.subplots(1, 3)\n",
    "# axs[0].imshow(image_heavy)\n",
    "# axs[1].imshow(mask_heavy[0])\n",
    "# axs[2].imshow(mask_heavy[1])"
   ]
  },
  {
   "cell_type": "code",
   "execution_count": 11,
   "metadata": {
    "collapsed": false,
    "jupyter": {
     "outputs_hidden": false
    }
   },
   "outputs": [
    {
     "name": "stderr",
     "output_type": "stream",
     "text": [
      "Clipping input data to the valid range for imshow with RGB data ([0..1] for floats or [0..255] for integers).\n"
     ]
    },
    {
     "name": "stdout",
     "output_type": "stream",
     "text": [
      "torch.Size([3, 256, 256]) torch.Size([1, 256, 256])\n",
      "tensor(-1.) tensor(0.6627)\n",
      "tensor(0.) tensor(0.)\n"
     ]
    },
    {
     "data": {
      "text/plain": [
       "<matplotlib.image.AxesImage at 0x7f77ac5ebc10>"
      ]
     },
     "execution_count": 11,
     "metadata": {},
     "output_type": "execute_result"
    },
    {
     "data": {
      "image/png": "[encoded data removed]",
      "text/plain": [
       "<Figure size 432x288 with 2 Axes>"
      ]
     },
     "metadata": {
      "needs_background": "light"
     },
     "output_type": "display_data"
    }
   ],
   "source": [
    "class DataTransform(nn.Module):\n",
    "    def __init__(self, image_size, train=True):\n",
    "        super().__init__()\n",
    "\n",
    "        self.image_size = image_size\n",
    "\n",
    "        if train:\n",
    "            self.transform = A.Compose([\n",
    "                A.HorizontalFlip(p=0.5),\n",
    "                A.ShiftScaleRotate(p=0.5, rotate_limit=45),\n",
    "                A.RandomBrightnessContrast(p=0.5),\n",
    "                A.Resize(image_size, image_size),\n",
    "                ToTensorV2(p=1),\n",
    "            ])\n",
    "        else:\n",
    "            self.transform = A.Compose([\n",
    "                A.Resize(image_size, image_size),\n",
    "                ToTensorV2(p=1),\n",
    "            ])\n",
    "\n",
    "        self.normalize = T.Normalize(255 * 0.5, 255 * 0.5)\n",
    "\n",
    "    def forward(self, x, label):\n",
    "        augmented = self.transform(image=np.asarray(x), mask=np.asarray(label) / 256.)\n",
    "        x, label= augmented['image'],  augmented['mask']\n",
    "\n",
    "        x = self.normalize(x.float())\n",
    "\n",
    "        return torch.cat((x, x, x), dim=0), label.unsqueeze(0).float()\n",
    "\n",
    "\n",
    "train_dataset = SegDataset(df, IMAGES_DIR, LABEL_DIR, DataTransform(image_size))\n",
    "val_dataset = SegDataset(val_df, IMAGES_DIR, LABEL_DIR, DataTransform(image_size, train=False))\n",
    "slice, label = train_dataset[700]\n",
    "print(slice.shape, label.shape)\n",
    "print(slice.min(), slice.max())\n",
    "print(label.min(), label.max())\n",
    "\n",
    "_, axs = plt.subplots(1, 2)\n",
    "axs[0].imshow(slice.permute(1, 2, 0).squeeze())\n",
    "axs[1].imshow(label.squeeze())"
   ]
  },
  {
   "cell_type": "markdown",
   "metadata": {},
   "source": [
    "## Model"
   ]
  },
  {
   "cell_type": "code",
   "execution_count": 2,
   "metadata": {},
   "outputs": [],
   "source": [
    "from efficientunet import *\n",
    "\n",
    "# model = get_efficientunet_b5(out_channels=2, concat_input=True, pretrained=True)"
   ]
  },
  {
   "cell_type": "code",
   "execution_count": 13,
   "metadata": {
    "tags": []
   },
   "outputs": [],
   "source": [
    "# model"
   ]
  },
  {
   "cell_type": "code",
   "execution_count": 3,
   "metadata": {},
   "outputs": [
    {
     "ename": "NameError",
     "evalue": "name 'device' is not defined",
     "output_type": "error",
     "traceback": [
      "\u001b[0;31m---------------------------------------------------------------------------\u001b[0m",
      "\u001b[0;31mNameError\u001b[0m                                 Traceback (most recent call last)",
      "\u001b[0;32m/tmp/ipykernel_155529/1648511559.py\u001b[0m in \u001b[0;36m<module>\u001b[0;34m\u001b[0m\n\u001b[1;32m     12\u001b[0m     \u001b[0;32mreturn\u001b[0m \u001b[0mmodel\u001b[0m\u001b[0;34m.\u001b[0m\u001b[0mto\u001b[0m\u001b[0;34m(\u001b[0m\u001b[0mdevice\u001b[0m\u001b[0;34m)\u001b[0m\u001b[0;34m\u001b[0m\u001b[0;34m\u001b[0m\u001b[0m\n\u001b[1;32m     13\u001b[0m \u001b[0;34m\u001b[0m\u001b[0m\n\u001b[0;32m---> 14\u001b[0;31m \u001b[0mmodel\u001b[0m \u001b[0;34m=\u001b[0m \u001b[0mget_model\u001b[0m\u001b[0;34m(\u001b[0m\u001b[0;34m)\u001b[0m\u001b[0;34m\u001b[0m\u001b[0;34m\u001b[0m\u001b[0m\n\u001b[0m\u001b[1;32m     15\u001b[0m \u001b[0;34m\u001b[0m\u001b[0m\n\u001b[1;32m     16\u001b[0m \u001b[0mtotal_params\u001b[0m \u001b[0;34m=\u001b[0m \u001b[0msum\u001b[0m\u001b[0;34m(\u001b[0m\u001b[0mp\u001b[0m\u001b[0;34m.\u001b[0m\u001b[0mnumel\u001b[0m\u001b[0;34m(\u001b[0m\u001b[0;34m)\u001b[0m \u001b[0;32mfor\u001b[0m \u001b[0mp\u001b[0m \u001b[0;32min\u001b[0m \u001b[0mmodel\u001b[0m\u001b[0;34m.\u001b[0m\u001b[0mparameters\u001b[0m\u001b[0;34m(\u001b[0m\u001b[0;34m)\u001b[0m \u001b[0;32mif\u001b[0m \u001b[0mp\u001b[0m\u001b[0;34m.\u001b[0m\u001b[0mrequires_grad\u001b[0m\u001b[0;34m)\u001b[0m\u001b[0;34m\u001b[0m\u001b[0;34m\u001b[0m\u001b[0m\n",
      "\u001b[0;32m/tmp/ipykernel_155529/1648511559.py\u001b[0m in \u001b[0;36mget_model\u001b[0;34m()\u001b[0m\n\u001b[1;32m     10\u001b[0m     \u001b[0;31m# model.aux_classifier[0] = nn.Conv2d(256, 1, kernel_size=(1, 1), stride=1)\u001b[0m\u001b[0;34m\u001b[0m\u001b[0;34m\u001b[0m\u001b[0;34m\u001b[0m\u001b[0m\n\u001b[1;32m     11\u001b[0m \u001b[0;34m\u001b[0m\u001b[0m\n\u001b[0;32m---> 12\u001b[0;31m     \u001b[0;32mreturn\u001b[0m \u001b[0mmodel\u001b[0m\u001b[0;34m.\u001b[0m\u001b[0mto\u001b[0m\u001b[0;34m(\u001b[0m\u001b[0mdevice\u001b[0m\u001b[0;34m)\u001b[0m\u001b[0;34m\u001b[0m\u001b[0;34m\u001b[0m\u001b[0m\n\u001b[0m\u001b[1;32m     13\u001b[0m \u001b[0;34m\u001b[0m\u001b[0m\n\u001b[1;32m     14\u001b[0m \u001b[0mmodel\u001b[0m \u001b[0;34m=\u001b[0m \u001b[0mget_model\u001b[0m\u001b[0;34m(\u001b[0m\u001b[0;34m)\u001b[0m\u001b[0;34m\u001b[0m\u001b[0;34m\u001b[0m\u001b[0m\n",
      "\u001b[0;31mNameError\u001b[0m: name 'device' is not defined"
     ]
    }
   ],
   "source": [
    "def get_model():\n",
    "    model = get_efficientunet_b5(out_channels=2, concat_input=True, pretrained=True)\n",
    "#     conv1_weight = model.encoder.stem_conv.weight\n",
    "#     conv1_weight = conv1_weight.mean(dim=1).unsqueeze(1)\n",
    "\n",
    "#     model.encoder.stem_conv = nn.Conv2d(1, 48, kernel_size=(3, 3), stride=2, bias=False)\n",
    "#     model.encoder.stem_conv.weight = nn.Parameter(conv1_weight, requires_grad=True)\n",
    "    \n",
    "    # model.classifier[4] = nn.Conv2d(256, 1, kernel_size=(1, 1), stride=1)\n",
    "    # model.aux_classifier[0] = nn.Conv2d(256, 1, kernel_size=(1, 1), stride=1)\n",
    "\n",
    "    return model.to(device)\n",
    "\n",
    "model = get_model()\n",
    "\n",
    "total_params = sum(p.numel() for p in model.parameters() if p.requires_grad)\n",
    "total_params"
   ]
  },
  {
   "cell_type": "code",
   "execution_count": 15,
   "metadata": {},
   "outputs": [
    {
     "data": {
      "text/plain": [
       "torch.Size([1, 2, 224, 224])"
      ]
     },
     "execution_count": 15,
     "metadata": {},
     "output_type": "execute_result"
    }
   ],
   "source": [
    "input = torch.randn(1, 3, 224, 224).to(device)\n",
    "model(input).shape"
   ]
  },
  {
   "cell_type": "code",
   "execution_count": 16,
   "metadata": {
    "collapsed": false,
    "jupyter": {
     "outputs_hidden": false
    }
   },
   "outputs": [],
   "source": [
    "def loss_fn(logits, y, pos_weight=1, mse_weight=1):\n",
    "\n",
    "    classification_logits, mse_score = logits.chunk(2, dim=1)\n",
    "\n",
    "    classification_y = y.gt(0).float()\n",
    "\n",
    "    classification_loss = F.binary_cross_entropy_with_logits(classification_logits, classification_y, pos_weight=torch.tensor(pos_weight))\n",
    "\n",
    "    mse_loss = classification_y * F.mse_loss(mse_score.sigmoid(), y, reduction='none')\n",
    "    mse_loss = mse_weight * mse_loss.mean()\n",
    "\n",
    "    return classification_loss, mse_loss"
   ]
  },
  {
   "cell_type": "code",
   "execution_count": 17,
   "metadata": {
    "collapsed": false,
    "jupyter": {
     "outputs_hidden": false
    }
   },
   "outputs": [],
   "source": [
    "train_loader = DataLoader(train_dataset, batch_size=batch_size, shuffle=True, pin_memory=True, num_workers=min(16, batch_size), drop_last=True)\n",
    "val_loader = DataLoader(val_dataset, batch_size=batch_size, shuffle=False, pin_memory=True, num_workers=min(16, batch_size), drop_last=True)\n"
   ]
  },
  {
   "cell_type": "code",
   "execution_count": 18,
   "metadata": {
    "collapsed": false,
    "jupyter": {
     "outputs_hidden": false
    }
   },
   "outputs": [],
   "source": [
    "# x, y, indication = next(iter(train_loader))\n",
    "#\n",
    "#\n",
    "# x = x.to(device)\n",
    "# y = y.to(device)\n",
    "# indication = indication.to(device)\n",
    "#\n",
    "# model(x, indication).shape"
   ]
  },
  {
   "cell_type": "code",
   "execution_count": 19,
   "metadata": {
    "collapsed": false,
    "jupyter": {
     "outputs_hidden": false
    }
   },
   "outputs": [],
   "source": [
    "optimizer = optim.AdamW(model.parameters(), lr=lr, weight_decay=wd)\n",
    "scaler = torch.cuda.amp.GradScaler(enabled=(device == 'cuda'))"
   ]
  },
  {
   "cell_type": "code",
   "execution_count": 20,
   "metadata": {
    "collapsed": false,
    "jupyter": {
     "outputs_hidden": false
    }
   },
   "outputs": [],
   "source": [
    "scheduler = optim.lr_scheduler.MultiStepLR(optimizer, milestones=milestones, gamma=0.5)\n"
   ]
  },
  {
   "cell_type": "code",
   "execution_count": 21,
   "metadata": {
    "collapsed": false,
    "jupyter": {
     "outputs_hidden": false
    }
   },
   "outputs": [],
   "source": [
    "def train_one_epoch(e, model, dataloader):\n",
    "\n",
    "    model.train()\n",
    "    train_iter = tqdm(dataloader)\n",
    "    losses = []\n",
    "    epoch_iteration = len(dataloader)\n",
    "\n",
    "    for i, (x, y) in enumerate(train_iter):\n",
    "        x = x.to(device)\n",
    "        y = y.to(device)\n",
    "\n",
    "        with torch.cuda.amp.autocast(device == 'cuda'):\n",
    "            logits = model(x)\n",
    "            c_loss, m_loss = loss_fn(logits, y, pos_weight=pos_weight, mse_weight=mse_weight)\n",
    "            loss = c_loss + m_loss\n",
    "\n",
    "        optimizer.zero_grad()\n",
    "        scaler.scale(loss).backward()\n",
    "        nn.utils.clip_grad_norm_(model.parameters(), 1.)\n",
    "        scaler.step(optimizer)\n",
    "        scaler.update()\n",
    "        \n",
    "        train_iter.set_description(f\"t {e} loss {loss.item():.4f} c {c_loss.item():.4f} m {m_loss.item():.4f}\")\n",
    "\n",
    "        losses.append(loss.item())\n",
    "\n",
    "        if wandb.run is not None:\n",
    "            lr_logs = {f\"last_lr_{i}\": float(v) for i, v in enumerate(scheduler.get_last_lr())}\n",
    "            wandb.log({\n",
    "                'train_loss' : loss.item(),\n",
    "                'train_classification_loss' : c_loss.item(),\n",
    "                'train_mse_loss' : m_loss.item(),\n",
    "                'epoch' : e,\n",
    "                'train_iteration' : i + e * epoch_iteration,\n",
    "                **lr_logs,\n",
    "            }) \n",
    "\n",
    "        # if i % 100 == 0:\n",
    "        #     with torch.no_grad():\n",
    "        #         inference(model, val_dataset)\n",
    "        #     model.train()\n",
    "\n",
    "    return np.mean(losses)"
   ]
  },
  {
   "cell_type": "code",
   "execution_count": 22,
   "metadata": {
    "collapsed": false,
    "jupyter": {
     "outputs_hidden": false
    }
   },
   "outputs": [],
   "source": [
    "@torch.no_grad()\n",
    "def evaluate(e, model, dataloader):\n",
    "    model.eval()\n",
    "    eval_iter = tqdm(dataloader)\n",
    "    losses = []\n",
    "    epoch_iteration = len(dataloader)\n",
    "\n",
    "    for i, (x, y) in enumerate(eval_iter):\n",
    "        x = x.to(device)\n",
    "        y = y.to(device)\n",
    "\n",
    "        logits = model(x)\n",
    "        c_loss, m_loss = loss_fn(logits, y)\n",
    "        loss = c_loss + m_loss\n",
    "\n",
    "        eval_iter.set_description(f\"e {e} loss {loss.item():.4f}\")\n",
    "\n",
    "        losses.append(loss.item())\n",
    "\n",
    "        if wandb.run is not None:\n",
    "            wandb.log({\n",
    "                'val_loss': loss.item(),\n",
    "                'val_classification_loss': c_loss.item(),\n",
    "                'val_mse_loss': m_loss.item(),\n",
    "                'epoch': e,\n",
    "                'val_iteration': i + e * epoch_iteration,\n",
    "            })\n",
    "\n",
    "    return np.mean(losses)"
   ]
  },
  {
   "cell_type": "code",
   "execution_count": 23,
   "metadata": {
    "collapsed": false,
    "jupyter": {
     "outputs_hidden": false
    }
   },
   "outputs": [],
   "source": [
    "def color_image(gray_img, cmap='bone'):\n",
    "    # 'nipy_spectral'\n",
    "    cm = plt.get_cmap(cmap)\n",
    "    colored_image = cm(gray_img)\n",
    "    return colored_image"
   ]
  },
  {
   "cell_type": "code",
   "execution_count": 24,
   "metadata": {
    "collapsed": false,
    "jupyter": {
     "outputs_hidden": false
    }
   },
   "outputs": [],
   "source": [
    "@torch.no_grad()\n",
    "def inference(model, dataset, i_list=None, wandb_log=True):\n",
    "    model.eval()\n",
    "    if i_list is None:\n",
    "        i_list = np.random.choice(len(dataset) - 1, 4)\n",
    "    x_list = []\n",
    "    y_list = []\n",
    "    \n",
    "    for i in i_list:\n",
    "        x, y = dataset[i]\n",
    "        x_list.append(x)\n",
    "        y_list.append(y)\n",
    "    x, y= torch.stack(x_list), torch.stack(y_list)\n",
    "\n",
    "    x = x.to(device)\n",
    "    logits = model(x)\n",
    "\n",
    "    classification_logits, mse_score = logits.chunk(2, dim=1)\n",
    "    classification_pred = classification_logits.sigmoid().gt(0.5).float()\n",
    "    mse_pred = (classification_pred * mse_score.sigmoid()).squeeze().cpu().numpy()\n",
    "\n",
    "    img = x * 0.5 + 0.5\n",
    "\n",
    "    img = color_image(img[:, 0, :, :].squeeze().cpu().numpy())\n",
    "    classification_pred = color_image(classification_pred.squeeze().cpu().numpy())\n",
    "\n",
    "    mse_pred = np.round(mse_pred * 8) / 8\n",
    "    mse_pred = color_image(mse_pred, cmap='nipy_spectral')\n",
    "\n",
    "    y = color_image(y.squeeze().cpu().numpy(), cmap='nipy_spectral')\n",
    "\n",
    "    combined_img = np.concatenate((img, classification_pred, mse_pred, y), axis=2)\n",
    "    combined_img = combined_img.reshape(-1, combined_img.shape[2], combined_img.shape[3])\n",
    "\n",
    "    if wandb_log is True and wandb.run is not None:\n",
    "        wandb.log({\n",
    "            'val_img_pred_label': wandb.Image(combined_img),\n",
    "        })\n",
    "    if wandb_log is False:\n",
    "        plt.imshow(combined_img)\n",
    "        plt.show()\n",
    "\n",
    "# with torch.no_grad():\n",
    "#     inference(model, val_dataset, wandb_log=False)"
   ]
  },
  {
   "cell_type": "code",
   "execution_count": 25,
   "metadata": {
    "collapsed": false,
    "jupyter": {
     "outputs_hidden": false
    }
   },
   "outputs": [],
   "source": [
    "def infer_sample(model, UIDs, indices, wandb_log=False):\n",
    "    model.eval()\n",
    "\n",
    "    x_list = []\n",
    "    for UID, index in zip(UIDs, indices):\n",
    "        x, _ = get_inference_input(UID, index, infer_transform)\n",
    "        x_list.append(x)\n",
    "\n",
    "    x = torch.stack(x_list)\n",
    "\n",
    "    x = x.to(device)\n",
    "    logits = model(x)\n",
    "    classification_logits, mse_score = logits.chunk(2, dim=1)\n",
    "    classification_pred = classification_logits.sigmoid().gt(0.5).float()\n",
    "    mse_pred = (classification_pred * mse_score.sigmoid()).squeeze().cpu().numpy()\n",
    "\n",
    "    img = x * 0.5 + 0.5\n",
    "\n",
    "    img = color_image(img.squeeze().cpu().numpy())\n",
    "    classification_pred = color_image(classification_pred.squeeze().cpu().numpy())\n",
    "\n",
    "    mse_pred = np.round(mse_pred * 8) / 8\n",
    "    mse_pred = color_image(mse_pred, cmap='nipy_spectral')\n",
    "\n",
    "    combined_img = np.concatenate((img, classification_pred, mse_pred), axis=2)\n",
    "\n",
    "    combined_img = combined_img.reshape(-1, combined_img.shape[2], combined_img.shape[3])\n",
    "\n",
    "    if wandb_log is True and wandb.run is not None:\n",
    "        wandb.log({\n",
    "            'img_pred': wandb.Image(combined_img),\n",
    "        })\n",
    "    if wandb_log is False:\n",
    "        plt.imshow(combined_img)\n",
    "        plt.show()\n",
    "\n",
    "\n",
    "@torch.no_grad()\n",
    "def infer_bad_sample(wandb_log=False):\n",
    "    sample_UIDs = [\"1.2.826.0.1.3680043.16935\", \"1.2.826.0.1.3680043.32754\", \"1.2.826.0.1.3680043.575\"]\n",
    "    indices = [247, 252, 326]\n",
    "    infer_sample(model, sample_UIDs, indices, wandb_log=wandb_log)\n",
    "\n",
    "\n",
    "# infer_bad_sample()"
   ]
  },
  {
   "cell_type": "markdown",
   "metadata": {},
   "source": [
    "## Train"
   ]
  },
  {
   "cell_type": "code",
   "execution_count": 26,
   "metadata": {},
   "outputs": [],
   "source": [
    "with torch.no_grad():\n",
    "    inference(model, val_dataset)"
   ]
  },
  {
   "cell_type": "code",
   "execution_count": 27,
   "metadata": {},
   "outputs": [],
   "source": [
    "epoch = 0"
   ]
  },
  {
   "cell_type": "code",
   "execution_count": 28,
   "metadata": {},
   "outputs": [],
   "source": [
    "def save_state(epoch):\n",
    "    state = {\n",
    "        \"model\": model.state_dict(),\n",
    "        \"optimizer\": optimizer.state_dict(),\n",
    "        \"scheduler\": scheduler.state_dict(),\n",
    "        \"epoch\": epoch,\n",
    "    }\n",
    "    torch.save(state, os.path.join(DATA_DIR, f'checkpoint/{wandb.run.name}-epoch-{epoch}.pth'))"
   ]
  },
  {
   "cell_type": "code",
   "execution_count": null,
   "metadata": {
    "collapsed": false,
    "jupyter": {
     "outputs_hidden": false
    }
   },
   "outputs": [],
   "source": []
  },
  {
   "cell_type": "code",
   "execution_count": 29,
   "metadata": {
    "collapsed": false,
    "jupyter": {
     "outputs_hidden": false
    }
   },
   "outputs": [
    {
     "name": "stderr",
     "output_type": "stream",
     "text": [
      "t 0 loss 0.1236 c 0.0825 m 0.0411: 100%|██████████| 233/233 [03:41<00:00,  1.05it/s]\n",
      "t 1 loss 0.0611 c 0.0336 m 0.0275: 100%|██████████| 233/233 [03:37<00:00,  1.07it/s]\n",
      "t 2 loss 0.0536 c 0.0314 m 0.0223: 100%|██████████| 233/233 [03:36<00:00,  1.08it/s]\n",
      "t 3 loss 0.0380 c 0.0235 m 0.0146: 100%|██████████| 233/233 [03:37<00:00,  1.07it/s]\n",
      "t 4 loss 0.0515 c 0.0282 m 0.0233: 100%|██████████| 233/233 [03:36<00:00,  1.08it/s]\n",
      "t 5 loss 0.0978 c 0.0210 m 0.0768: 100%|██████████| 233/233 [03:37<00:00,  1.07it/s]\n",
      "t 6 loss 0.0280 c 0.0223 m 0.0057: 100%|██████████| 233/233 [03:37<00:00,  1.07it/s]\n",
      "t 7 loss 0.0341 c 0.0206 m 0.0135: 100%|██████████| 233/233 [03:37<00:00,  1.07it/s]\n",
      "t 8 loss 0.0499 c 0.0217 m 0.0282: 100%|██████████| 233/233 [03:37<00:00,  1.07it/s]\n",
      "t 9 loss 0.0221 c 0.0169 m 0.0052: 100%|██████████| 233/233 [03:37<00:00,  1.07it/s]\n",
      "t 10 loss 0.0252 c 0.0201 m 0.0051: 100%|██████████| 233/233 [03:36<00:00,  1.08it/s]\n",
      "t 11 loss 0.0260 c 0.0210 m 0.0049: 100%|██████████| 233/233 [03:37<00:00,  1.07it/s]\n",
      "t 12 loss 0.0218 c 0.0138 m 0.0080: 100%|██████████| 233/233 [03:36<00:00,  1.07it/s]\n",
      "t 13 loss 0.0196 c 0.0145 m 0.0051: 100%|██████████| 233/233 [03:37<00:00,  1.07it/s]\n",
      "t 14 loss 0.0221 c 0.0156 m 0.0065: 100%|██████████| 233/233 [03:36<00:00,  1.08it/s]\n",
      "t 15 loss 0.0202 c 0.0171 m 0.0032: 100%|██████████| 233/233 [03:37<00:00,  1.07it/s]\n",
      "t 16 loss 0.0211 c 0.0179 m 0.0031: 100%|██████████| 233/233 [03:37<00:00,  1.07it/s]\n",
      "t 17 loss 0.0189 c 0.0150 m 0.0039: 100%|██████████| 233/233 [03:36<00:00,  1.08it/s]\n",
      "t 18 loss 0.0201 c 0.0162 m 0.0038: 100%|██████████| 233/233 [03:36<00:00,  1.07it/s]\n",
      "t 19 loss 0.0194 c 0.0166 m 0.0028: 100%|██████████| 233/233 [03:37<00:00,  1.07it/s]\n",
      "t 20 loss 0.0207 c 0.0171 m 0.0036: 100%|██████████| 233/233 [03:36<00:00,  1.07it/s]\n",
      "t 21 loss 0.0231 c 0.0192 m 0.0039: 100%|██████████| 233/233 [03:36<00:00,  1.07it/s]\n",
      "t 22 loss 0.0183 c 0.0154 m 0.0029: 100%|██████████| 233/233 [03:37<00:00,  1.07it/s]\n",
      "t 23 loss 0.0182 c 0.0159 m 0.0024: 100%|██████████| 233/233 [03:36<00:00,  1.08it/s]\n",
      "t 24 loss 0.0161 c 0.0143 m 0.0018: 100%|██████████| 233/233 [03:36<00:00,  1.08it/s]\n",
      "t 25 loss 0.0196 c 0.0160 m 0.0036: 100%|██████████| 233/233 [03:36<00:00,  1.07it/s]\n",
      "t 26 loss 0.0210 c 0.0161 m 0.0049: 100%|██████████| 233/233 [03:38<00:00,  1.07it/s]\n",
      "t 27 loss 0.0169 c 0.0151 m 0.0018: 100%|██████████| 233/233 [03:37<00:00,  1.07it/s]\n",
      "t 28 loss 0.0194 c 0.0160 m 0.0034: 100%|██████████| 233/233 [03:38<00:00,  1.07it/s]\n",
      "t 29 loss 0.0160 c 0.0141 m 0.0019: 100%|██████████| 233/233 [03:38<00:00,  1.07it/s]\n",
      "  0%|          | 0/233 [00:00<?, ?it/s]wandb: Network error (ConnectTimeout), entering retry loop.\n",
      "t 30 loss 0.0207 c 0.0183 m 0.0024: 100%|██████████| 233/233 [03:37<00:00,  1.07it/s]\n",
      "t 31 loss 0.0157 c 0.0138 m 0.0019: 100%|██████████| 233/233 [03:38<00:00,  1.07it/s]\n",
      "t 32 loss 0.0165 c 0.0143 m 0.0022: 100%|██████████| 233/233 [03:39<00:00,  1.06it/s]\n",
      "t 33 loss 0.0185 c 0.0156 m 0.0028: 100%|██████████| 233/233 [03:38<00:00,  1.06it/s]\n",
      "t 34 loss 0.0140 c 0.0125 m 0.0015: 100%|██████████| 233/233 [03:38<00:00,  1.06it/s]\n",
      "t 35 loss 0.0193 c 0.0161 m 0.0032: 100%|██████████| 233/233 [03:38<00:00,  1.06it/s]\n",
      "t 36 loss 0.0174 c 0.0155 m 0.0020: 100%|██████████| 233/233 [03:39<00:00,  1.06it/s]\n",
      "t 37 loss 0.0194 c 0.0163 m 0.0031: 100%|██████████| 233/233 [03:38<00:00,  1.06it/s]\n",
      "t 38 loss 0.0161 c 0.0140 m 0.0021: 100%|██████████| 233/233 [03:38<00:00,  1.07it/s]\n",
      "t 39 loss 0.0138 c 0.0126 m 0.0012: 100%|██████████| 233/233 [03:38<00:00,  1.06it/s]\n",
      "t 40 loss 0.0169 c 0.0153 m 0.0016: 100%|██████████| 233/233 [03:38<00:00,  1.06it/s]\n",
      "t 41 loss 0.0163 c 0.0140 m 0.0023: 100%|██████████| 233/233 [03:38<00:00,  1.07it/s]\n",
      "t 42 loss 0.0159 c 0.0143 m 0.0015: 100%|██████████| 233/233 [03:39<00:00,  1.06it/s]\n",
      "t 43 loss 0.0209 c 0.0181 m 0.0028: 100%|██████████| 233/233 [03:38<00:00,  1.07it/s]\n",
      "t 44 loss 0.0191 c 0.0172 m 0.0019: 100%|██████████| 233/233 [03:38<00:00,  1.07it/s]\n",
      "t 45 loss 0.0145 c 0.0129 m 0.0016: 100%|██████████| 233/233 [03:38<00:00,  1.06it/s]\n",
      "t 46 loss 0.0142 c 0.0128 m 0.0014: 100%|██████████| 233/233 [03:38<00:00,  1.06it/s]\n",
      "t 47 loss 0.0178 c 0.0158 m 0.0020: 100%|██████████| 233/233 [03:39<00:00,  1.06it/s]\n",
      "t 48 loss 0.0156 c 0.0139 m 0.0018: 100%|██████████| 233/233 [03:39<00:00,  1.06it/s]\n",
      "t 49 loss 0.0210 c 0.0186 m 0.0023: 100%|██████████| 233/233 [03:38<00:00,  1.06it/s]\n"
     ]
    }
   ],
   "source": [
    "for e in range(epochs):\n",
    "\n",
    "    train_loss = train_one_epoch(epoch, model, train_loader)\n",
    "\n",
    "    # with torch.no_grad():\n",
    "    #     evaluate(epoch, model, val_loader)\n",
    "    \n",
    "\n",
    "    epoch += 1\n",
    "    scheduler.step()\n",
    "    \n",
    "    if e % 10 == 0:\n",
    "        save_state(epoch)"
   ]
  },
  {
   "cell_type": "code",
   "execution_count": 30,
   "metadata": {
    "collapsed": false,
    "jupyter": {
     "outputs_hidden": false
    }
   },
   "outputs": [],
   "source": [
    "save_state(epoch)"
   ]
  }
 ],
 "metadata": {
  "kernelspec": {
   "display_name": "Python 3 (ipykernel)",
   "language": "python",
   "name": "python3"
  },
  "language_info": {
   "codemirror_mode": {
    "name": "ipython",
    "version": 3
   },
   "file_extension": ".py",
   "mimetype": "text/x-python",
   "name": "python",
   "nbconvert_exporter": "python",
   "pygments_lexer": "ipython3",
   "version": "3.8.10"
  }
 },
 "nbformat": 4,
 "nbformat_minor": 4
}
