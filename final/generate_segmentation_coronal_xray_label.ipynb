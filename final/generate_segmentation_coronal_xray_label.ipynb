{
 "cells": [
  {
   "cell_type": "code",
   "execution_count": 1,
   "metadata": {
    "collapsed": true
   },
   "outputs": [],
   "source": [
    "import os\n",
    "import glob\n",
    "import nibabel as nib\n",
    "import pandas as pd\n",
    "import numpy as np\n",
    "import matplotlib.pyplot as plt\n",
    "import matplotlib.patches as patches\n",
    "\n",
    "from PIL import Image\n",
    "from tqdm import tqdm\n",
    "\n",
    "import csv"
   ]
  },
  {
   "cell_type": "code",
   "execution_count": 2,
   "outputs": [],
   "source": [
    "DATA_DIR = \"/Volumes/SSD970/\"\n",
    "\n",
    "SEG_DIR = os.path.join(DATA_DIR, \"segmentations\")\n",
    "LABEL_DIR = os.path.join(DATA_DIR, \"segmentation_coronal_xray_labels\")"
   ],
   "metadata": {
    "collapsed": false
   }
  },
  {
   "cell_type": "code",
   "execution_count": 3,
   "outputs": [],
   "source": [
    "def read_patient_nii_mask(UID, seg_dir):\n",
    "    nii_path = os.path.join(seg_dir, f\"{UID}.nii\")\n",
    "    seg_mask = nib.load(nii_path).get_fdata()\n",
    "    seg_mask = np.rot90(seg_mask, axes=(0, 1))\n",
    "    seg_mask = seg_mask.transpose((2, 0, 1))\n",
    "    seg_mask = np.flip(seg_mask, axis=0)\n",
    "    seg_mask[seg_mask > 7] = 0\n",
    "    return seg_mask"
   ],
   "metadata": {
    "collapsed": false
   }
  },
  {
   "cell_type": "code",
   "execution_count": 3,
   "outputs": [],
   "source": [],
   "metadata": {
    "collapsed": false
   }
  },
  {
   "cell_type": "code",
   "execution_count": 4,
   "outputs": [
    {
     "data": {
      "text/plain": "                           direction  z_spacing  pixel_spacing    aspect  \\\nUID                                                                        \n1.2.826.0.1.3680043.10005          0      0.625       0.298828  2.091504   \n1.2.826.0.1.3680043.10005          1      0.625       0.298828  2.091504   \n1.2.826.0.1.3680043.10005          2      0.625       0.298828  2.091504   \n1.2.826.0.1.3680043.10014          0      0.800       0.234000  3.418803   \n1.2.826.0.1.3680043.10014          1      0.800       0.234000  3.418803   \n\n                           width  height  \nUID                                       \n1.2.826.0.1.3680043.10005    512     512  \n1.2.826.0.1.3680043.10005    512     541  \n1.2.826.0.1.3680043.10005    512     541  \n1.2.826.0.1.3680043.10014    512     512  \n1.2.826.0.1.3680043.10014    512     882  ",
      "text/html": "<div>\n<style scoped>\n    .dataframe tbody tr th:only-of-type {\n        vertical-align: middle;\n    }\n\n    .dataframe tbody tr th {\n        vertical-align: top;\n    }\n\n    .dataframe thead th {\n        text-align: right;\n    }\n</style>\n<table border=\"1\" class=\"dataframe\">\n  <thead>\n    <tr style=\"text-align: right;\">\n      <th></th>\n      <th>direction</th>\n      <th>z_spacing</th>\n      <th>pixel_spacing</th>\n      <th>aspect</th>\n      <th>width</th>\n      <th>height</th>\n    </tr>\n    <tr>\n      <th>UID</th>\n      <th></th>\n      <th></th>\n      <th></th>\n      <th></th>\n      <th></th>\n      <th></th>\n    </tr>\n  </thead>\n  <tbody>\n    <tr>\n      <th>1.2.826.0.1.3680043.10005</th>\n      <td>0</td>\n      <td>0.625</td>\n      <td>0.298828</td>\n      <td>2.091504</td>\n      <td>512</td>\n      <td>512</td>\n    </tr>\n    <tr>\n      <th>1.2.826.0.1.3680043.10005</th>\n      <td>1</td>\n      <td>0.625</td>\n      <td>0.298828</td>\n      <td>2.091504</td>\n      <td>512</td>\n      <td>541</td>\n    </tr>\n    <tr>\n      <th>1.2.826.0.1.3680043.10005</th>\n      <td>2</td>\n      <td>0.625</td>\n      <td>0.298828</td>\n      <td>2.091504</td>\n      <td>512</td>\n      <td>541</td>\n    </tr>\n    <tr>\n      <th>1.2.826.0.1.3680043.10014</th>\n      <td>0</td>\n      <td>0.800</td>\n      <td>0.234000</td>\n      <td>3.418803</td>\n      <td>512</td>\n      <td>512</td>\n    </tr>\n    <tr>\n      <th>1.2.826.0.1.3680043.10014</th>\n      <td>1</td>\n      <td>0.800</td>\n      <td>0.234000</td>\n      <td>3.418803</td>\n      <td>512</td>\n      <td>882</td>\n    </tr>\n  </tbody>\n</table>\n</div>"
     },
     "execution_count": 4,
     "metadata": {},
     "output_type": "execute_result"
    }
   ],
   "source": [
    "xray_df = pd.read_csv(os.path.join(DATA_DIR, 'meta_xray.csv')).set_index('UID')\n",
    "xray_df.head()"
   ],
   "metadata": {
    "collapsed": false
   }
  },
  {
   "cell_type": "code",
   "execution_count": 5,
   "outputs": [
    {
     "data": {
      "text/plain": "(199, 512, 512)"
     },
     "execution_count": 5,
     "metadata": {},
     "output_type": "execute_result"
    }
   ],
   "source": [
    "UID = \"1.2.826.0.1.3680043.1363\"\n",
    "masks = read_patient_nii_mask(UID, SEG_DIR)\n",
    "masks.shape"
   ],
   "metadata": {
    "collapsed": false
   }
  },
  {
   "cell_type": "code",
   "execution_count": 6,
   "outputs": [],
   "source": [
    "xray_seg = masks.max(axis=1)\n",
    "aspect = xray_df.loc[UID].iloc[0].aspect"
   ],
   "metadata": {
    "collapsed": false
   }
  },
  {
   "cell_type": "code",
   "execution_count": 7,
   "outputs": [],
   "source": [
    "seg_label = Image.fromarray(np.uint8(xray_seg / 8 * 256) , 'L')"
   ],
   "metadata": {
    "collapsed": false
   }
  },
  {
   "cell_type": "code",
   "execution_count": 8,
   "outputs": [
    {
     "data": {
      "text/plain": "<PIL.Image.Image image mode=L size=512x340 at 0x7FC7295B53A0>",
      "image/png": "[encoded data removed]"
     },
     "execution_count": 8,
     "metadata": {},
     "output_type": "execute_result"
    }
   ],
   "source": [
    "resized = seg_label.resize((seg_label.width, int(seg_label.height * aspect)), resample=Image.NEAREST)\n",
    "resized"
   ],
   "metadata": {
    "collapsed": false
   }
  },
  {
   "cell_type": "code",
   "execution_count": 9,
   "outputs": [],
   "source": [
    "resized.save(os.path.join(LABEL_DIR, f\"{UID}.png\"))"
   ],
   "metadata": {
    "collapsed": false
   }
  },
  {
   "cell_type": "code",
   "execution_count": 11,
   "outputs": [
    {
     "name": "stderr",
     "output_type": "stream",
     "text": [
      "100%|██████████| 87/87 [01:38<00:00,  1.13s/it]\n"
     ]
    }
   ],
   "source": [
    "nii_paths = glob.glob(os.path.join(DATA_DIR, 'segmentations') + '/*.nii')\n",
    "for nii_path in tqdm(nii_paths):\n",
    "    UID = nii_path.split(\"/\")[-1].replace(\".nii\",\"\")\n",
    "    masks = read_patient_nii_mask(UID, SEG_DIR)\n",
    "    xray_seg = masks.max(axis=1)\n",
    "    aspect = xray_df.loc[UID].iloc[0].aspect\n",
    "    seg_label = Image.fromarray(np.uint8(xray_seg / 8 * 256) , 'L')\n",
    "    resized = seg_label.resize((seg_label.width, int(seg_label.height * aspect)), resample=Image.NEAREST)\n",
    "    resized.save(os.path.join(LABEL_DIR, f\"{UID}.png\"))"
   ],
   "metadata": {
    "collapsed": false
   }
  },
  {
   "cell_type": "code",
   "execution_count": null,
   "outputs": [],
   "source": [],
   "metadata": {
    "collapsed": false
   }
  }
 ],
 "metadata": {
  "kernelspec": {
   "display_name": "Python 3",
   "language": "python",
   "name": "python3"
  },
  "language_info": {
   "codemirror_mode": {
    "name": "ipython",
    "version": 2
   },
   "file_extension": ".py",
   "mimetype": "text/x-python",
   "name": "python",
   "nbconvert_exporter": "python",
   "pygments_lexer": "ipython2",
   "version": "2.7.6"
  }
 },
 "nbformat": 4,
 "nbformat_minor": 0
}
