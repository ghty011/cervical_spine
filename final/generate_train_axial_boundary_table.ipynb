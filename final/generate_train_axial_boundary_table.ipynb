{
 "cells": [
  {
   "cell_type": "code",
   "execution_count": 1,
   "metadata": {
    "collapsed": false,
    "jupyter": {
     "outputs_hidden": false
    }
   },
   "outputs": [],
   "source": [
    "import os\n",
    "import glob\n",
    "import pandas as pd\n",
    "import numpy as np\n",
    "import matplotlib.pyplot as plt\n",
    "import matplotlib.patches as patches\n",
    "import seaborn as sns\n",
    "import math\n",
    "from tqdm import tqdm\n",
    "\n",
    "from PIL import Image, ImageOps"
   ]
  },
  {
   "cell_type": "code",
   "execution_count": 2,
   "metadata": {
    "collapsed": true,
    "jupyter": {
     "outputs_hidden": true
    }
   },
   "outputs": [],
   "source": [
    "DATA_DIR = \"/root/autodl-tmp/cervical_spine/\"\n",
    "# DATA_DIR = \"/Volumes/SSD970/\"\n"
   ]
  },
  {
   "cell_type": "markdown",
   "metadata": {},
   "source": [
    "## Axial boundary"
   ]
  },
  {
   "cell_type": "code",
   "execution_count": 3,
   "metadata": {
    "collapsed": false,
    "jupyter": {
     "outputs_hidden": false
    }
   },
   "outputs": [
    {
     "name": "stdout",
     "output_type": "stream",
     "text": [
      "2011\n"
     ]
    },
    {
     "data": {
      "text/plain": [
       "UID\n",
       "1.2.826.0.1.3680043.10001    2.461541\n",
       "1.2.826.0.1.3680043.10005    2.091504\n",
       "1.2.826.0.1.3680043.10014    3.418803\n",
       "1.2.826.0.1.3680043.10016    1.136566\n",
       "1.2.826.0.1.3680043.10032    1.951216\n",
       "Name: aspect, dtype: float64"
      ]
     },
     "execution_count": 3,
     "metadata": {},
     "output_type": "execute_result"
    }
   ],
   "source": [
    "xray_df = pd.read_csv(os.path.join(DATA_DIR, 'meta_xray.csv')).drop_duplicates(subset='UID').set_index('UID')\n",
    "xray_df = xray_df[\"aspect\"]\n",
    "print(len(xray_df))\n",
    "xray_df.head()"
   ]
  },
  {
   "cell_type": "code",
   "execution_count": 4,
   "metadata": {
    "collapsed": false,
    "jupyter": {
     "outputs_hidden": false
    }
   },
   "outputs": [
    {
     "name": "stdout",
     "output_type": "stream",
     "text": [
      "2012\n"
     ]
    },
    {
     "data": {
      "text/html": [
       "<div>\n",
       "<style scoped>\n",
       "    .dataframe tbody tr th:only-of-type {\n",
       "        vertical-align: middle;\n",
       "    }\n",
       "\n",
       "    .dataframe tbody tr th {\n",
       "        vertical-align: top;\n",
       "    }\n",
       "\n",
       "    .dataframe thead th {\n",
       "        text-align: right;\n",
       "    }\n",
       "</style>\n",
       "<table border=\"1\" class=\"dataframe\">\n",
       "  <thead>\n",
       "    <tr style=\"text-align: right;\">\n",
       "      <th></th>\n",
       "      <th>sagittal_xmin</th>\n",
       "      <th>sagittal_xmax</th>\n",
       "    </tr>\n",
       "    <tr>\n",
       "      <th>UID</th>\n",
       "      <th></th>\n",
       "      <th></th>\n",
       "    </tr>\n",
       "  </thead>\n",
       "  <tbody>\n",
       "    <tr>\n",
       "      <th>1.2.826.0.1.3680043.9926</th>\n",
       "      <td>81.474365</td>\n",
       "      <td>330.13700</td>\n",
       "    </tr>\n",
       "    <tr>\n",
       "      <th>1.2.826.0.1.3680043.9940</th>\n",
       "      <td>43.931564</td>\n",
       "      <td>433.26350</td>\n",
       "    </tr>\n",
       "    <tr>\n",
       "      <th>1.2.826.0.1.3680043.9994</th>\n",
       "      <td>132.359540</td>\n",
       "      <td>419.59164</td>\n",
       "    </tr>\n",
       "    <tr>\n",
       "      <th>1.2.826.0.1.3680043.9996</th>\n",
       "      <td>11.594978</td>\n",
       "      <td>377.10385</td>\n",
       "    </tr>\n",
       "    <tr>\n",
       "      <th>1.2.826.0.1.3680043.9997</th>\n",
       "      <td>6.481827</td>\n",
       "      <td>415.57568</td>\n",
       "    </tr>\n",
       "  </tbody>\n",
       "</table>\n",
       "</div>"
      ],
      "text/plain": [
       "                          sagittal_xmin  sagittal_xmax\n",
       "UID                                                   \n",
       "1.2.826.0.1.3680043.9926      81.474365      330.13700\n",
       "1.2.826.0.1.3680043.9940      43.931564      433.26350\n",
       "1.2.826.0.1.3680043.9994     132.359540      419.59164\n",
       "1.2.826.0.1.3680043.9996      11.594978      377.10385\n",
       "1.2.826.0.1.3680043.9997       6.481827      415.57568"
      ]
     },
     "execution_count": 4,
     "metadata": {},
     "output_type": "execute_result"
    }
   ],
   "source": [
    "sagittal_df = pd.read_csv(os.path.join(DATA_DIR, 'infer_sagittal_boundary.csv')).set_index('UID')\n",
    "sagittal_df = sagittal_df[['xmin','xmax']]\n",
    "sagittal_df = sagittal_df.add_prefix('sagittal_')\n",
    "print(len(sagittal_df))\n",
    "sagittal_df.tail()"
   ]
  },
  {
   "cell_type": "code",
   "execution_count": 5,
   "metadata": {
    "collapsed": false,
    "jupyter": {
     "outputs_hidden": false
    }
   },
   "outputs": [
    {
     "name": "stdout",
     "output_type": "stream",
     "text": [
      "2012\n"
     ]
    },
    {
     "data": {
      "text/html": [
       "<div>\n",
       "<style scoped>\n",
       "    .dataframe tbody tr th:only-of-type {\n",
       "        vertical-align: middle;\n",
       "    }\n",
       "\n",
       "    .dataframe tbody tr th {\n",
       "        vertical-align: top;\n",
       "    }\n",
       "\n",
       "    .dataframe thead th {\n",
       "        text-align: right;\n",
       "    }\n",
       "</style>\n",
       "<table border=\"1\" class=\"dataframe\">\n",
       "  <thead>\n",
       "    <tr style=\"text-align: right;\">\n",
       "      <th></th>\n",
       "      <th>coronal_xmin</th>\n",
       "      <th>coronal_xmax</th>\n",
       "    </tr>\n",
       "    <tr>\n",
       "      <th>UID</th>\n",
       "      <th></th>\n",
       "      <th></th>\n",
       "    </tr>\n",
       "  </thead>\n",
       "  <tbody>\n",
       "    <tr>\n",
       "      <th>1.2.826.0.1.3680043.9926</th>\n",
       "      <td>103.523580</td>\n",
       "      <td>379.67520</td>\n",
       "    </tr>\n",
       "    <tr>\n",
       "      <th>1.2.826.0.1.3680043.9940</th>\n",
       "      <td>68.295395</td>\n",
       "      <td>476.78656</td>\n",
       "    </tr>\n",
       "    <tr>\n",
       "      <th>1.2.826.0.1.3680043.9994</th>\n",
       "      <td>144.880840</td>\n",
       "      <td>375.04407</td>\n",
       "    </tr>\n",
       "    <tr>\n",
       "      <th>1.2.826.0.1.3680043.9996</th>\n",
       "      <td>103.145035</td>\n",
       "      <td>406.66434</td>\n",
       "    </tr>\n",
       "    <tr>\n",
       "      <th>1.2.826.0.1.3680043.9997</th>\n",
       "      <td>52.653015</td>\n",
       "      <td>453.41766</td>\n",
       "    </tr>\n",
       "  </tbody>\n",
       "</table>\n",
       "</div>"
      ],
      "text/plain": [
       "                          coronal_xmin  coronal_xmax\n",
       "UID                                                 \n",
       "1.2.826.0.1.3680043.9926    103.523580     379.67520\n",
       "1.2.826.0.1.3680043.9940     68.295395     476.78656\n",
       "1.2.826.0.1.3680043.9994    144.880840     375.04407\n",
       "1.2.826.0.1.3680043.9996    103.145035     406.66434\n",
       "1.2.826.0.1.3680043.9997     52.653015     453.41766"
      ]
     },
     "execution_count": 5,
     "metadata": {},
     "output_type": "execute_result"
    }
   ],
   "source": [
    "coronal_df = pd.read_csv(os.path.join(DATA_DIR, 'infer_coronal_boundary.csv')).set_index('UID')\n",
    "coronal_df = coronal_df[['xmin','xmax']]\n",
    "coronal_df = coronal_df.add_prefix('coronal_')\n",
    "print(len(coronal_df))\n",
    "coronal_df.tail()"
   ]
  },
  {
   "cell_type": "code",
   "execution_count": 6,
   "metadata": {
    "collapsed": false,
    "jupyter": {
     "outputs_hidden": false
    }
   },
   "outputs": [
    {
     "name": "stdout",
     "output_type": "stream",
     "text": [
      "2012\n"
     ]
    },
    {
     "data": {
      "text/html": [
       "<div>\n",
       "<style scoped>\n",
       "    .dataframe tbody tr th:only-of-type {\n",
       "        vertical-align: middle;\n",
       "    }\n",
       "\n",
       "    .dataframe tbody tr th {\n",
       "        vertical-align: top;\n",
       "    }\n",
       "\n",
       "    .dataframe thead th {\n",
       "        text-align: right;\n",
       "    }\n",
       "</style>\n",
       "<table border=\"1\" class=\"dataframe\">\n",
       "  <thead>\n",
       "    <tr style=\"text-align: right;\">\n",
       "      <th></th>\n",
       "      <th>sagittal_xmin</th>\n",
       "      <th>sagittal_xmax</th>\n",
       "      <th>coronal_xmin</th>\n",
       "      <th>coronal_xmax</th>\n",
       "      <th>aspect</th>\n",
       "    </tr>\n",
       "    <tr>\n",
       "      <th>UID</th>\n",
       "      <th></th>\n",
       "      <th></th>\n",
       "      <th></th>\n",
       "      <th></th>\n",
       "      <th></th>\n",
       "    </tr>\n",
       "  </thead>\n",
       "  <tbody>\n",
       "    <tr>\n",
       "      <th>1.2.826.0.1.3680043.9926</th>\n",
       "      <td>81.474365</td>\n",
       "      <td>330.13700</td>\n",
       "      <td>103.523580</td>\n",
       "      <td>379.67520</td>\n",
       "      <td>2.844444</td>\n",
       "    </tr>\n",
       "    <tr>\n",
       "      <th>1.2.826.0.1.3680043.9940</th>\n",
       "      <td>43.931564</td>\n",
       "      <td>433.26350</td>\n",
       "      <td>68.295395</td>\n",
       "      <td>476.78656</td>\n",
       "      <td>2.666667</td>\n",
       "    </tr>\n",
       "    <tr>\n",
       "      <th>1.2.826.0.1.3680043.9994</th>\n",
       "      <td>132.359540</td>\n",
       "      <td>419.59164</td>\n",
       "      <td>144.880840</td>\n",
       "      <td>375.04407</td>\n",
       "      <td>1.886792</td>\n",
       "    </tr>\n",
       "    <tr>\n",
       "      <th>1.2.826.0.1.3680043.9996</th>\n",
       "      <td>11.594978</td>\n",
       "      <td>377.10385</td>\n",
       "      <td>103.145035</td>\n",
       "      <td>406.66434</td>\n",
       "      <td>1.916167</td>\n",
       "    </tr>\n",
       "    <tr>\n",
       "      <th>1.2.826.0.1.3680043.9997</th>\n",
       "      <td>6.481827</td>\n",
       "      <td>415.57568</td>\n",
       "      <td>52.653015</td>\n",
       "      <td>453.41766</td>\n",
       "      <td>2.782613</td>\n",
       "    </tr>\n",
       "  </tbody>\n",
       "</table>\n",
       "</div>"
      ],
      "text/plain": [
       "                          sagittal_xmin  sagittal_xmax  coronal_xmin  \\\n",
       "UID                                                                    \n",
       "1.2.826.0.1.3680043.9926      81.474365      330.13700    103.523580   \n",
       "1.2.826.0.1.3680043.9940      43.931564      433.26350     68.295395   \n",
       "1.2.826.0.1.3680043.9994     132.359540      419.59164    144.880840   \n",
       "1.2.826.0.1.3680043.9996      11.594978      377.10385    103.145035   \n",
       "1.2.826.0.1.3680043.9997       6.481827      415.57568     52.653015   \n",
       "\n",
       "                          coronal_xmax    aspect  \n",
       "UID                                               \n",
       "1.2.826.0.1.3680043.9926     379.67520  2.844444  \n",
       "1.2.826.0.1.3680043.9940     476.78656  2.666667  \n",
       "1.2.826.0.1.3680043.9994     375.04407  1.886792  \n",
       "1.2.826.0.1.3680043.9996     406.66434  1.916167  \n",
       "1.2.826.0.1.3680043.9997     453.41766  2.782613  "
      ]
     },
     "execution_count": 6,
     "metadata": {},
     "output_type": "execute_result"
    }
   ],
   "source": [
    "boundary_df = pd.concat((sagittal_df, coronal_df, xray_df), axis=1)\n",
    "print(len(boundary_df))\n",
    "boundary_df.tail()"
   ]
  },
  {
   "cell_type": "code",
   "execution_count": 7,
   "metadata": {
    "collapsed": false,
    "jupyter": {
     "outputs_hidden": false
    }
   },
   "outputs": [
    {
     "name": "stdout",
     "output_type": "stream",
     "text": [
      "2012\n"
     ]
    },
    {
     "data": {
      "text/html": [
       "<div>\n",
       "<style scoped>\n",
       "    .dataframe tbody tr th:only-of-type {\n",
       "        vertical-align: middle;\n",
       "    }\n",
       "\n",
       "    .dataframe tbody tr th {\n",
       "        vertical-align: top;\n",
       "    }\n",
       "\n",
       "    .dataframe thead th {\n",
       "        text-align: right;\n",
       "    }\n",
       "</style>\n",
       "<table border=\"1\" class=\"dataframe\">\n",
       "  <thead>\n",
       "    <tr style=\"text-align: right;\">\n",
       "      <th></th>\n",
       "      <th>sagittal_xmin</th>\n",
       "      <th>sagittal_xmax</th>\n",
       "      <th>coronal_xmin</th>\n",
       "      <th>coronal_xmax</th>\n",
       "      <th>aspect</th>\n",
       "      <th>xmin</th>\n",
       "      <th>ymin</th>\n",
       "      <th>xmax</th>\n",
       "      <th>ymax</th>\n",
       "    </tr>\n",
       "    <tr>\n",
       "      <th>UID</th>\n",
       "      <th></th>\n",
       "      <th></th>\n",
       "      <th></th>\n",
       "      <th></th>\n",
       "      <th></th>\n",
       "      <th></th>\n",
       "      <th></th>\n",
       "      <th></th>\n",
       "      <th></th>\n",
       "    </tr>\n",
       "  </thead>\n",
       "  <tbody>\n",
       "    <tr>\n",
       "      <th>1.2.826.0.1.3680043.9926</th>\n",
       "      <td>81.474365</td>\n",
       "      <td>330.13700</td>\n",
       "      <td>103.523580</td>\n",
       "      <td>379.67520</td>\n",
       "      <td>2.844444</td>\n",
       "      <td>103.523580</td>\n",
       "      <td>81.474365</td>\n",
       "      <td>379.67520</td>\n",
       "      <td>330.13700</td>\n",
       "    </tr>\n",
       "    <tr>\n",
       "      <th>1.2.826.0.1.3680043.9940</th>\n",
       "      <td>43.931564</td>\n",
       "      <td>433.26350</td>\n",
       "      <td>68.295395</td>\n",
       "      <td>476.78656</td>\n",
       "      <td>2.666667</td>\n",
       "      <td>68.295395</td>\n",
       "      <td>43.931564</td>\n",
       "      <td>476.78656</td>\n",
       "      <td>433.26350</td>\n",
       "    </tr>\n",
       "    <tr>\n",
       "      <th>1.2.826.0.1.3680043.9994</th>\n",
       "      <td>132.359540</td>\n",
       "      <td>419.59164</td>\n",
       "      <td>144.880840</td>\n",
       "      <td>375.04407</td>\n",
       "      <td>1.886792</td>\n",
       "      <td>144.880840</td>\n",
       "      <td>132.359540</td>\n",
       "      <td>375.04407</td>\n",
       "      <td>419.59164</td>\n",
       "    </tr>\n",
       "    <tr>\n",
       "      <th>1.2.826.0.1.3680043.9996</th>\n",
       "      <td>11.594978</td>\n",
       "      <td>377.10385</td>\n",
       "      <td>103.145035</td>\n",
       "      <td>406.66434</td>\n",
       "      <td>1.916167</td>\n",
       "      <td>103.145035</td>\n",
       "      <td>11.594978</td>\n",
       "      <td>406.66434</td>\n",
       "      <td>377.10385</td>\n",
       "    </tr>\n",
       "    <tr>\n",
       "      <th>1.2.826.0.1.3680043.9997</th>\n",
       "      <td>6.481827</td>\n",
       "      <td>415.57568</td>\n",
       "      <td>52.653015</td>\n",
       "      <td>453.41766</td>\n",
       "      <td>2.782613</td>\n",
       "      <td>52.653015</td>\n",
       "      <td>6.481827</td>\n",
       "      <td>453.41766</td>\n",
       "      <td>415.57568</td>\n",
       "    </tr>\n",
       "  </tbody>\n",
       "</table>\n",
       "</div>"
      ],
      "text/plain": [
       "                          sagittal_xmin  sagittal_xmax  coronal_xmin  \\\n",
       "UID                                                                    \n",
       "1.2.826.0.1.3680043.9926      81.474365      330.13700    103.523580   \n",
       "1.2.826.0.1.3680043.9940      43.931564      433.26350     68.295395   \n",
       "1.2.826.0.1.3680043.9994     132.359540      419.59164    144.880840   \n",
       "1.2.826.0.1.3680043.9996      11.594978      377.10385    103.145035   \n",
       "1.2.826.0.1.3680043.9997       6.481827      415.57568     52.653015   \n",
       "\n",
       "                          coronal_xmax    aspect        xmin        ymin  \\\n",
       "UID                                                                        \n",
       "1.2.826.0.1.3680043.9926     379.67520  2.844444  103.523580   81.474365   \n",
       "1.2.826.0.1.3680043.9940     476.78656  2.666667   68.295395   43.931564   \n",
       "1.2.826.0.1.3680043.9994     375.04407  1.886792  144.880840  132.359540   \n",
       "1.2.826.0.1.3680043.9996     406.66434  1.916167  103.145035   11.594978   \n",
       "1.2.826.0.1.3680043.9997     453.41766  2.782613   52.653015    6.481827   \n",
       "\n",
       "                               xmax       ymax  \n",
       "UID                                             \n",
       "1.2.826.0.1.3680043.9926  379.67520  330.13700  \n",
       "1.2.826.0.1.3680043.9940  476.78656  433.26350  \n",
       "1.2.826.0.1.3680043.9994  375.04407  419.59164  \n",
       "1.2.826.0.1.3680043.9996  406.66434  377.10385  \n",
       "1.2.826.0.1.3680043.9997  453.41766  415.57568  "
      ]
     },
     "execution_count": 7,
     "metadata": {},
     "output_type": "execute_result"
    }
   ],
   "source": [
    "boundary_df[\"xmin\"] = boundary_df[\"coronal_xmin\"].clip(lower=0)\n",
    "boundary_df[\"ymin\"] = boundary_df[\"sagittal_xmin\"].clip(lower=0)\n",
    "boundary_df[\"xmax\"] = boundary_df[\"coronal_xmax\"].clip(upper=512)\n",
    "boundary_df[\"ymax\"] = boundary_df[\"sagittal_xmax\"].clip(upper=512)\n",
    "print(len(boundary_df))\n",
    "boundary_df.tail()"
   ]
  },
  {
   "cell_type": "code",
   "execution_count": 9,
   "metadata": {
    "collapsed": false,
    "jupyter": {
     "outputs_hidden": false
    }
   },
   "outputs": [
    {
     "name": "stdout",
     "output_type": "stream",
     "text": [
      "1.2.826.0.1.3680043.10136\n"
     ]
    },
    {
     "data": {
      "text/plain": [
       "<matplotlib.lines.Line2D at 0x7f7393bfea90>"
      ]
     },
     "execution_count": 9,
     "metadata": {},
     "output_type": "execute_result"
    },
    {
     "data": {
      "image/png": "[encoded data removed]",
      "text/plain": [
       "<Figure size 432x288 with 1 Axes>"
      ]
     },
     "metadata": {},
     "output_type": "display_data"
    }
   ],
   "source": [
    "s = boundary_df.iloc[10]\n",
    "print(s.name)\n",
    "img = Image.open(os.path.join(DATA_DIR, 'train_axial_images_jpeg95', s.name, '247.jpeg'))\n",
    "plt.axis('off')\n",
    "plt.imshow(img, cmap='bone')\n",
    "plt.axvline(s.xmin)\n",
    "plt.axvline(s.xmax)\n",
    "plt.axhline(s.ymin)\n",
    "plt.axhline(s.ymax)"
   ]
  },
  {
   "cell_type": "code",
   "execution_count": 10,
   "metadata": {
    "collapsed": false,
    "jupyter": {
     "outputs_hidden": false
    }
   },
   "outputs": [],
   "source": [
    "df = boundary_df[['aspect','xmin','ymin','xmax','ymax']]\n",
    "df.to_csv(os.path.join(DATA_DIR, 'train_axial_boundary.csv'))"
   ]
  },
  {
   "cell_type": "markdown",
   "metadata": {},
   "source": [
    "## axial bbox table"
   ]
  },
  {
   "cell_type": "code",
   "execution_count": null,
   "metadata": {
    "collapsed": false,
    "jupyter": {
     "outputs_hidden": false
    }
   },
   "outputs": [],
   "source": []
  },
  {
   "cell_type": "code",
   "execution_count": null,
   "metadata": {
    "collapsed": false,
    "jupyter": {
     "outputs_hidden": false
    }
   },
   "outputs": [],
   "source": [
    "# train_df = pd.read_csv(os.path.join(DATA_DIR, 'train_df_with_slices.csv')).set_index('StudyInstanceUID')\n",
    "# train_df.head()"
   ]
  },
  {
   "cell_type": "code",
   "execution_count": null,
   "metadata": {
    "collapsed": false,
    "jupyter": {
     "outputs_hidden": false
    }
   },
   "outputs": [],
   "source": [
    "# df = pd.DataFrame()\n",
    "# for i in tqdm(range(len(boundary_df))):\n",
    "#     s = boundary_df.iloc[i]\n",
    "#     UID = s.name\n",
    "#     num_slices = train_df.loc[UID, 'num_slices']\n",
    "#     new_df = boundary_df.loc[[UID] * num_slices, ['xmin','ymin','xmax','ymax', 'aspect']]\n",
    "#     new_df['axial_index'] = np.arange(num_slices)\n",
    "#     df = pd.concat([df, new_df])\n",
    "#\n",
    "# print(len(df))\n",
    "# df.tail()"
   ]
  },
  {
   "cell_type": "code",
   "execution_count": null,
   "metadata": {
    "collapsed": false,
    "jupyter": {
     "outputs_hidden": false
    }
   },
   "outputs": [],
   "source": [
    "# df.to_csv(os.path.join(DATA_DIR, 'train_axial_boundary.csv'))"
   ]
  }
 ],
 "metadata": {
  "kernelspec": {
   "display_name": "Python 3 (ipykernel)",
   "language": "python",
   "name": "python3"
  },
  "language_info": {
   "codemirror_mode": {
    "name": "ipython",
    "version": 3
   },
   "file_extension": ".py",
   "mimetype": "text/x-python",
   "name": "python",
   "nbconvert_exporter": "python",
   "pygments_lexer": "ipython3",
   "version": "3.8.10"
  }
 },
 "nbformat": 4,
 "nbformat_minor": 4
}
