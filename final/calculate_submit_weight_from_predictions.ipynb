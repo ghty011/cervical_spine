{
 "cells": [
  {
   "cell_type": "code",
   "execution_count": 1,
   "id": "a327317e-f26c-44cd-a65e-e52c11e56ea7",
   "metadata": {},
   "outputs": [],
   "source": [
    "import pandas as pd\n",
    "import numpy as np\n",
    "import os\n",
    "import matplotlib.pyplot as plt\n",
    "from tqdm import tqdm\n"
   ]
  },
  {
   "cell_type": "code",
   "execution_count": 2,
   "id": "33f11e71-f2e7-4759-9e99-ca0d7785174c",
   "metadata": {},
   "outputs": [],
   "source": [
    "DATA_DIR = \"/root/autodl-tmp/cervical_spine/\"\n",
    "prediction_path = '/root/autodl-tmp/cervical_spine/predictions/axial_detection_effdet_081553_predictions.csv'"
   ]
  },
  {
   "cell_type": "code",
   "execution_count": 3,
   "id": "40cd8056-1984-4cca-9d64-4d87c3951100",
   "metadata": {},
   "outputs": [
    {
     "data": {
      "text/html": [
       "<div>\n",
       "<style scoped>\n",
       "    .dataframe tbody tr th:only-of-type {\n",
       "        vertical-align: middle;\n",
       "    }\n",
       "\n",
       "    .dataframe tbody tr th {\n",
       "        vertical-align: top;\n",
       "    }\n",
       "\n",
       "    .dataframe thead th {\n",
       "        text-align: right;\n",
       "    }\n",
       "</style>\n",
       "<table border=\"1\" class=\"dataframe\">\n",
       "  <thead>\n",
       "    <tr style=\"text-align: right;\">\n",
       "      <th></th>\n",
       "      <th>UID</th>\n",
       "      <th>P0</th>\n",
       "      <th>P1</th>\n",
       "      <th>P2</th>\n",
       "      <th>P3</th>\n",
       "      <th>P4</th>\n",
       "      <th>P5</th>\n",
       "      <th>P6</th>\n",
       "      <th>P7</th>\n",
       "      <th>loss</th>\n",
       "      <th>loss_pos</th>\n",
       "      <th>loss_neg</th>\n",
       "      <th>C0</th>\n",
       "      <th>C1</th>\n",
       "      <th>C2</th>\n",
       "      <th>C3</th>\n",
       "      <th>C4</th>\n",
       "      <th>C5</th>\n",
       "      <th>C6</th>\n",
       "      <th>C7</th>\n",
       "    </tr>\n",
       "  </thead>\n",
       "  <tbody>\n",
       "    <tr>\n",
       "      <th>0</th>\n",
       "      <td>1.2.826.0.1.3680043.10001</td>\n",
       "      <td>0.160988</td>\n",
       "      <td>0.017133</td>\n",
       "      <td>0.160988</td>\n",
       "      <td>0.040924</td>\n",
       "      <td>0.010000</td>\n",
       "      <td>0.010000</td>\n",
       "      <td>0.043105</td>\n",
       "      <td>0.020319</td>\n",
       "      <td>0.110571</td>\n",
       "      <td>0.000000</td>\n",
       "      <td>0.110571</td>\n",
       "      <td>0</td>\n",
       "      <td>0</td>\n",
       "      <td>0</td>\n",
       "      <td>0</td>\n",
       "      <td>0</td>\n",
       "      <td>0</td>\n",
       "      <td>0</td>\n",
       "      <td>0</td>\n",
       "    </tr>\n",
       "    <tr>\n",
       "      <th>1</th>\n",
       "      <td>1.2.826.0.1.3680043.10005</td>\n",
       "      <td>0.274719</td>\n",
       "      <td>0.020440</td>\n",
       "      <td>0.042654</td>\n",
       "      <td>0.030749</td>\n",
       "      <td>0.025184</td>\n",
       "      <td>0.051258</td>\n",
       "      <td>0.061614</td>\n",
       "      <td>0.274719</td>\n",
       "      <td>0.200483</td>\n",
       "      <td>0.000000</td>\n",
       "      <td>0.200483</td>\n",
       "      <td>0</td>\n",
       "      <td>0</td>\n",
       "      <td>0</td>\n",
       "      <td>0</td>\n",
       "      <td>0</td>\n",
       "      <td>0</td>\n",
       "      <td>0</td>\n",
       "      <td>0</td>\n",
       "    </tr>\n",
       "    <tr>\n",
       "      <th>2</th>\n",
       "      <td>1.2.826.0.1.3680043.10014</td>\n",
       "      <td>0.314104</td>\n",
       "      <td>0.010000</td>\n",
       "      <td>0.010000</td>\n",
       "      <td>0.010000</td>\n",
       "      <td>0.010000</td>\n",
       "      <td>0.314104</td>\n",
       "      <td>0.049468</td>\n",
       "      <td>0.042793</td>\n",
       "      <td>0.225065</td>\n",
       "      <td>0.000000</td>\n",
       "      <td>0.225065</td>\n",
       "      <td>0</td>\n",
       "      <td>0</td>\n",
       "      <td>0</td>\n",
       "      <td>0</td>\n",
       "      <td>0</td>\n",
       "      <td>0</td>\n",
       "      <td>0</td>\n",
       "      <td>0</td>\n",
       "    </tr>\n",
       "    <tr>\n",
       "      <th>3</th>\n",
       "      <td>1.2.826.0.1.3680043.10016</td>\n",
       "      <td>0.148235</td>\n",
       "      <td>0.035814</td>\n",
       "      <td>0.027754</td>\n",
       "      <td>0.030204</td>\n",
       "      <td>0.010000</td>\n",
       "      <td>0.112619</td>\n",
       "      <td>0.148235</td>\n",
       "      <td>0.031190</td>\n",
       "      <td>1.558315</td>\n",
       "      <td>2.118383</td>\n",
       "      <td>0.064800</td>\n",
       "      <td>1</td>\n",
       "      <td>0</td>\n",
       "      <td>1</td>\n",
       "      <td>0</td>\n",
       "      <td>0</td>\n",
       "      <td>0</td>\n",
       "      <td>0</td>\n",
       "      <td>0</td>\n",
       "    </tr>\n",
       "    <tr>\n",
       "      <th>4</th>\n",
       "      <td>1.2.826.0.1.3680043.10032</td>\n",
       "      <td>0.359564</td>\n",
       "      <td>0.031287</td>\n",
       "      <td>0.024039</td>\n",
       "      <td>0.010000</td>\n",
       "      <td>0.359564</td>\n",
       "      <td>0.010000</td>\n",
       "      <td>0.084875</td>\n",
       "      <td>0.169044</td>\n",
       "      <td>0.279638</td>\n",
       "      <td>0.000000</td>\n",
       "      <td>0.279638</td>\n",
       "      <td>0</td>\n",
       "      <td>0</td>\n",
       "      <td>0</td>\n",
       "      <td>0</td>\n",
       "      <td>0</td>\n",
       "      <td>0</td>\n",
       "      <td>0</td>\n",
       "      <td>0</td>\n",
       "    </tr>\n",
       "    <tr>\n",
       "      <th>...</th>\n",
       "      <td>...</td>\n",
       "      <td>...</td>\n",
       "      <td>...</td>\n",
       "      <td>...</td>\n",
       "      <td>...</td>\n",
       "      <td>...</td>\n",
       "      <td>...</td>\n",
       "      <td>...</td>\n",
       "      <td>...</td>\n",
       "      <td>...</td>\n",
       "      <td>...</td>\n",
       "      <td>...</td>\n",
       "      <td>...</td>\n",
       "      <td>...</td>\n",
       "      <td>...</td>\n",
       "      <td>...</td>\n",
       "      <td>...</td>\n",
       "      <td>...</td>\n",
       "      <td>...</td>\n",
       "      <td>...</td>\n",
       "    </tr>\n",
       "    <tr>\n",
       "      <th>2007</th>\n",
       "      <td>1.2.826.0.1.3680043.9926</td>\n",
       "      <td>0.998806</td>\n",
       "      <td>0.977110</td>\n",
       "      <td>0.998806</td>\n",
       "      <td>0.041930</td>\n",
       "      <td>0.303998</td>\n",
       "      <td>0.205648</td>\n",
       "      <td>0.356305</td>\n",
       "      <td>0.076501</td>\n",
       "      <td>0.225081</td>\n",
       "      <td>0.001195</td>\n",
       "      <td>0.822109</td>\n",
       "      <td>1</td>\n",
       "      <td>0</td>\n",
       "      <td>1</td>\n",
       "      <td>0</td>\n",
       "      <td>0</td>\n",
       "      <td>0</td>\n",
       "      <td>0</td>\n",
       "      <td>0</td>\n",
       "    </tr>\n",
       "    <tr>\n",
       "      <th>2008</th>\n",
       "      <td>1.2.826.0.1.3680043.9940</td>\n",
       "      <td>0.999000</td>\n",
       "      <td>0.028908</td>\n",
       "      <td>0.016485</td>\n",
       "      <td>0.999000</td>\n",
       "      <td>0.999000</td>\n",
       "      <td>0.398760</td>\n",
       "      <td>0.014402</td>\n",
       "      <td>0.068597</td>\n",
       "      <td>0.386699</td>\n",
       "      <td>0.103044</td>\n",
       "      <td>1.407856</td>\n",
       "      <td>1</td>\n",
       "      <td>0</td>\n",
       "      <td>0</td>\n",
       "      <td>0</td>\n",
       "      <td>1</td>\n",
       "      <td>1</td>\n",
       "      <td>0</td>\n",
       "      <td>0</td>\n",
       "    </tr>\n",
       "    <tr>\n",
       "      <th>2009</th>\n",
       "      <td>1.2.826.0.1.3680043.9994</td>\n",
       "      <td>0.521198</td>\n",
       "      <td>0.521198</td>\n",
       "      <td>0.405718</td>\n",
       "      <td>0.027770</td>\n",
       "      <td>0.016820</td>\n",
       "      <td>0.061861</td>\n",
       "      <td>0.118498</td>\n",
       "      <td>0.067926</td>\n",
       "      <td>0.479829</td>\n",
       "      <td>0.000000</td>\n",
       "      <td>0.479829</td>\n",
       "      <td>0</td>\n",
       "      <td>0</td>\n",
       "      <td>0</td>\n",
       "      <td>0</td>\n",
       "      <td>0</td>\n",
       "      <td>0</td>\n",
       "      <td>0</td>\n",
       "      <td>0</td>\n",
       "    </tr>\n",
       "    <tr>\n",
       "      <th>2010</th>\n",
       "      <td>1.2.826.0.1.3680043.9996</td>\n",
       "      <td>0.477006</td>\n",
       "      <td>0.046066</td>\n",
       "      <td>0.477006</td>\n",
       "      <td>0.059835</td>\n",
       "      <td>0.020712</td>\n",
       "      <td>0.144561</td>\n",
       "      <td>0.225421</td>\n",
       "      <td>0.064564</td>\n",
       "      <td>0.565988</td>\n",
       "      <td>0.740227</td>\n",
       "      <td>0.101352</td>\n",
       "      <td>1</td>\n",
       "      <td>0</td>\n",
       "      <td>1</td>\n",
       "      <td>0</td>\n",
       "      <td>0</td>\n",
       "      <td>0</td>\n",
       "      <td>0</td>\n",
       "      <td>0</td>\n",
       "    </tr>\n",
       "    <tr>\n",
       "      <th>2011</th>\n",
       "      <td>1.2.826.0.1.3680043.9997</td>\n",
       "      <td>0.193044</td>\n",
       "      <td>0.010000</td>\n",
       "      <td>0.021672</td>\n",
       "      <td>0.010000</td>\n",
       "      <td>0.028642</td>\n",
       "      <td>0.047365</td>\n",
       "      <td>0.193044</td>\n",
       "      <td>0.024386</td>\n",
       "      <td>0.132869</td>\n",
       "      <td>0.000000</td>\n",
       "      <td>0.132869</td>\n",
       "      <td>0</td>\n",
       "      <td>0</td>\n",
       "      <td>0</td>\n",
       "      <td>0</td>\n",
       "      <td>0</td>\n",
       "      <td>0</td>\n",
       "      <td>0</td>\n",
       "      <td>0</td>\n",
       "    </tr>\n",
       "  </tbody>\n",
       "</table>\n",
       "<p>2012 rows × 20 columns</p>\n",
       "</div>"
      ],
      "text/plain": [
       "                            UID        P0        P1        P2        P3  \\\n",
       "0     1.2.826.0.1.3680043.10001  0.160988  0.017133  0.160988  0.040924   \n",
       "1     1.2.826.0.1.3680043.10005  0.274719  0.020440  0.042654  0.030749   \n",
       "2     1.2.826.0.1.3680043.10014  0.314104  0.010000  0.010000  0.010000   \n",
       "3     1.2.826.0.1.3680043.10016  0.148235  0.035814  0.027754  0.030204   \n",
       "4     1.2.826.0.1.3680043.10032  0.359564  0.031287  0.024039  0.010000   \n",
       "...                         ...       ...       ...       ...       ...   \n",
       "2007   1.2.826.0.1.3680043.9926  0.998806  0.977110  0.998806  0.041930   \n",
       "2008   1.2.826.0.1.3680043.9940  0.999000  0.028908  0.016485  0.999000   \n",
       "2009   1.2.826.0.1.3680043.9994  0.521198  0.521198  0.405718  0.027770   \n",
       "2010   1.2.826.0.1.3680043.9996  0.477006  0.046066  0.477006  0.059835   \n",
       "2011   1.2.826.0.1.3680043.9997  0.193044  0.010000  0.021672  0.010000   \n",
       "\n",
       "            P4        P5        P6        P7      loss  loss_pos  loss_neg  \\\n",
       "0     0.010000  0.010000  0.043105  0.020319  0.110571  0.000000  0.110571   \n",
       "1     0.025184  0.051258  0.061614  0.274719  0.200483  0.000000  0.200483   \n",
       "2     0.010000  0.314104  0.049468  0.042793  0.225065  0.000000  0.225065   \n",
       "3     0.010000  0.112619  0.148235  0.031190  1.558315  2.118383  0.064800   \n",
       "4     0.359564  0.010000  0.084875  0.169044  0.279638  0.000000  0.279638   \n",
       "...        ...       ...       ...       ...       ...       ...       ...   \n",
       "2007  0.303998  0.205648  0.356305  0.076501  0.225081  0.001195  0.822109   \n",
       "2008  0.999000  0.398760  0.014402  0.068597  0.386699  0.103044  1.407856   \n",
       "2009  0.016820  0.061861  0.118498  0.067926  0.479829  0.000000  0.479829   \n",
       "2010  0.020712  0.144561  0.225421  0.064564  0.565988  0.740227  0.101352   \n",
       "2011  0.028642  0.047365  0.193044  0.024386  0.132869  0.000000  0.132869   \n",
       "\n",
       "      C0  C1  C2  C3  C4  C5  C6  C7  \n",
       "0      0   0   0   0   0   0   0   0  \n",
       "1      0   0   0   0   0   0   0   0  \n",
       "2      0   0   0   0   0   0   0   0  \n",
       "3      1   0   1   0   0   0   0   0  \n",
       "4      0   0   0   0   0   0   0   0  \n",
       "...   ..  ..  ..  ..  ..  ..  ..  ..  \n",
       "2007   1   0   1   0   0   0   0   0  \n",
       "2008   1   0   0   0   1   1   0   0  \n",
       "2009   0   0   0   0   0   0   0   0  \n",
       "2010   1   0   1   0   0   0   0   0  \n",
       "2011   0   0   0   0   0   0   0   0  \n",
       "\n",
       "[2012 rows x 20 columns]"
      ]
     },
     "execution_count": 3,
     "metadata": {},
     "output_type": "execute_result"
    }
   ],
   "source": [
    "columns = ['UID'] + [f'P{i}' for i in range(8)] + ['loss','loss_pos','loss_neg'] + [f'C{i}' for i in range(8)] \n",
    "patient_pred_df = pd.read_csv(prediction_path, names=columns)\n",
    "\n",
    "patient_pred_df"
   ]
  },
  {
   "cell_type": "code",
   "execution_count": 4,
   "id": "bf5f5108-3720-42e7-9f73-886f1b50a2b6",
   "metadata": {},
   "outputs": [],
   "source": [
    "# patient_pred_df = pd.read_csv('/root/autodl-tmp/df_patient_pred_7945.csv',header = 0, names=['StudyInstanceUID'] + [f'P{i}' for i in range(8)]).set_index('StudyInstanceUID')\n",
    "# label_df = pd.read_csv(os.path.join(DATA_DIR, 'train.csv')).set_index('StudyInstanceUID')\n",
    "# # patient_pred_df.rename(columns = {\"patient_overall\" : \"UID\"}, inplace = True)\n",
    "\n",
    "# label_df.rename(columns = {\"patient_overall\" : \"C0\"}, inplace = True)\n",
    "# patient_pred_df = pd.concat((patient_pred_df, label_df), axis=1)\n",
    "# patient_pred_df = patient_pred_df[~pd.isna(patient_pred_df['P0'])]\n",
    "# patient_pred_df"
   ]
  },
  {
   "cell_type": "code",
   "execution_count": 11,
   "id": "c52e18ca-e4e6-4e12-916e-b0cef7d53aee",
   "metadata": {},
   "outputs": [],
   "source": [
    "def cal_loss(prob, label):\n",
    "    \n",
    "    pos_weight = np.array([14, 2, 2, 2, 2, 2, 2, 2])\n",
    "    neg_weight = np.array([7, 1, 1, 1, 1, 1, 1, 1])\n",
    "    \n",
    "    score = pos_weight * label * np.log(prob) + neg_weight * (1 - label) * np.log(1 - prob)\n",
    "    \n",
    "    weight_total = pos_weight * label + neg_weight * (1 - label)\n",
    "    \n",
    "    scores = -score.sum(axis=1) / weight_total.sum(axis=1)\n",
    "    return np.mean(scores)"
   ]
  },
  {
   "cell_type": "code",
   "execution_count": 12,
   "id": "1232fca3-db17-4128-a4a1-993f82c32cad",
   "metadata": {},
   "outputs": [],
   "source": [
    "prob = patient_pred_df[[f'P{i}' for i in range(8)]].values\n",
    "label = patient_pred_df[[f'C{i}' for i in range(8)]].values"
   ]
  },
  {
   "cell_type": "code",
   "execution_count": 13,
   "id": "bc39f086-fa32-445f-8964-d4d11a983747",
   "metadata": {},
   "outputs": [
    {
     "name": "stdout",
     "output_type": "stream",
     "text": [
      "baseline: 0.31456759655005884\n"
     ]
    }
   ],
   "source": [
    "loss = cal_loss(prob, label)\n",
    "print('baseline:', loss)"
   ]
  },
  {
   "cell_type": "code",
   "execution_count": 14,
   "id": "28e41634-0491-45c3-95c5-284f0c92c4a2",
   "metadata": {},
   "outputs": [
    {
     "name": "stdout",
     "output_type": "stream",
     "text": [
      "min loss: 0.31456759655005884\n"
     ]
    },
    {
     "data": {
      "text/plain": [
       "[<matplotlib.lines.Line2D at 0x7f93ecfc78e0>]"
      ]
     },
     "execution_count": 14,
     "metadata": {},
     "output_type": "execute_result"
    },
    {
     "data": {
      "image/png": "[encoded data removed]",
      "text/plain": [
       "<Figure size 432x288 with 1 Axes>"
      ]
     },
     "metadata": {
      "needs_background": "light"
     },
     "output_type": "display_data"
    }
   ],
   "source": [
    "# only clip lower bound\n",
    "losses = []\n",
    "\n",
    "clips = np.linspace(0.001, 0.2, 1000)\n",
    "for clip in clips:\n",
    "    new_prob = np.clip(prob, a_min=clip, a_max=1)\n",
    "    loss= cal_loss(new_prob, label)\n",
    "    \n",
    "    losses.append(loss)\n",
    "print('min loss:', np.min(losses))\n",
    "plt.plot(clips, losses)"
   ]
  },
  {
   "cell_type": "code",
   "execution_count": 23,
   "id": "ecac34e0-004f-4aec-82bd-7cbc4cbc343a",
   "metadata": {},
   "outputs": [
    {
     "name": "stdout",
     "output_type": "stream",
     "text": [
      "min loss: 0.3108030917823775 index: 118 clip: 0.02450550550550551\n"
     ]
    },
    {
     "data": {
      "text/plain": [
       "[<matplotlib.lines.Line2D at 0x7f93ec49c2b0>]"
      ]
     },
     "execution_count": 23,
     "metadata": {},
     "output_type": "execute_result"
    },
    {
     "data": {
      "image/png": "[encoded data removed]",
      "text/plain": [
       "<Figure size 432x288 with 1 Axes>"
      ]
     },
     "metadata": {
      "needs_background": "light"
     },
     "output_type": "display_data"
    }
   ],
   "source": [
    "# clip upper\n",
    "losses = []\n",
    "\n",
    "clips = np.linspace(0.001, 0.2, 1000)\n",
    "for clip in clips:\n",
    "    new_prob = np.clip(prob, a_min=0, a_max=1-clip)\n",
    "    loss= cal_loss(new_prob, label)\n",
    "    \n",
    "    losses.append(loss)\n",
    "print('min loss:', np.min(losses), 'index:', np.argmin(losses), 'clip:', clips[np.argmin(losses)])\n",
    "plt.plot(clips, losses)"
   ]
  },
  {
   "cell_type": "code",
   "execution_count": 25,
   "id": "7dfffbb2-8df6-4f07-84a6-fd360b61dfc5",
   "metadata": {},
   "outputs": [],
   "source": [
    "# clip both\n",
    "losses = []\n",
    "\n",
    "lin_count=1000\n",
    "min_clips = np.linspace(0.001, 0.2, lin_count)\n",
    "max_clips = np.linspace(0.001, 0.2, lin_count)\n",
    "\n",
    "for min_clip in tqdm(min_clips):\n",
    "    \n",
    "    for max_clip in max_clips:\n",
    "        new_prob = np.clip(prob, a_min=min_clip, a_max=1-max_clip)\n",
    "        loss= cal_loss(new_prob, label)\n",
    "    \n",
    "        losses.append(loss)\n",
    "print('min loss:', np.min(losses))"
   ]
  },
  {
   "cell_type": "code",
   "execution_count": 29,
   "id": "bf77962a-3090-4de8-becf-b943da06d9d4",
   "metadata": {},
   "outputs": [
    {
     "data": {
      "text/plain": [
       "118"
      ]
     },
     "execution_count": 29,
     "metadata": {},
     "output_type": "execute_result"
    }
   ],
   "source": [
    "argmin = np.asarray(losses).argmin()\n",
    "argmin"
   ]
  },
  {
   "cell_type": "code",
   "execution_count": 31,
   "id": "3ef9d5a5-6421-4369-a642-22b86974e234",
   "metadata": {},
   "outputs": [
    {
     "name": "stdout",
     "output_type": "stream",
     "text": [
      "min clip index:0 value:0.001 max clip index:118 value:0.02450550550550551\n"
     ]
    }
   ],
   "source": [
    "lin_count=1000\n",
    "argmin = np.asarray(losses).argmin()\n",
    "min_index = argmin // lin_count\n",
    "max_index = argmin % lin_count\n",
    "print(f'min clip index:{min_index} value:{min_clips[min_index]} max clip index:{max_index} value:{max_clips[max_index]}')\n",
    "# plt.plot(clips, losses)"
   ]
  },
  {
   "cell_type": "code",
   "execution_count": 26,
   "id": "d5d20a13-0186-4c30-b2b2-e027b98ff57a",
   "metadata": {},
   "outputs": [
    {
     "name": "stdout",
     "output_type": "stream",
     "text": [
      "optimal: 0.3108030917823775\n"
     ]
    }
   ],
   "source": [
    "new_prob = np.clip(prob, a_min=min_clips[min_index], a_max=1-max_clips[max_index])\n",
    "loss= cal_loss(new_prob, label)\n",
    "print(\"optimal:\", loss)"
   ]
  },
  {
   "cell_type": "code",
   "execution_count": null,
   "id": "b499876d-6b42-42ce-8c0e-26839b159244",
   "metadata": {},
   "outputs": [],
   "source": []
  }
 ],
 "metadata": {
  "kernelspec": {
   "display_name": "Python 3 (ipykernel)",
   "language": "python",
   "name": "python3"
  },
  "language_info": {
   "codemirror_mode": {
    "name": "ipython",
    "version": 3
   },
   "file_extension": ".py",
   "mimetype": "text/x-python",
   "name": "python",
   "nbconvert_exporter": "python",
   "pygments_lexer": "ipython3",
   "version": "3.8.10"
  }
 },
 "nbformat": 4,
 "nbformat_minor": 5
}
