{
 "cells": [
  {
   "cell_type": "code",
   "execution_count": 1,
   "id": "a327317e-f26c-44cd-a65e-e52c11e56ea7",
   "metadata": {},
   "outputs": [],
   "source": [
    "import pandas as pd\n",
    "import numpy as np\n",
    "import os\n",
    "import matplotlib.pyplot as plt\n",
    "from tqdm import tqdm"
   ]
  },
  {
   "cell_type": "code",
   "execution_count": 2,
   "id": "33f11e71-f2e7-4759-9e99-ca0d7785174c",
   "metadata": {},
   "outputs": [],
   "source": [
    "DATA_DIR = \"/root/autodl-tmp/cervical_spine/\"\n",
    "prediction_path = '/root/autodl-tmp/cervical_spine/predictions/axial_detection_effdet_193536_predictions.csv'\n",
    "\n",
    "# prediction_path = '/root/autodl-tmp/cervical_spine/predictions/predictions-135654-baseline.csv'"
   ]
  },
  {
   "cell_type": "code",
   "execution_count": 3,
   "id": "40cd8056-1984-4cca-9d64-4d87c3951100",
   "metadata": {},
   "outputs": [
    {
     "data": {
      "text/html": [
       "<div>\n",
       "<style scoped>\n",
       "    .dataframe tbody tr th:only-of-type {\n",
       "        vertical-align: middle;\n",
       "    }\n",
       "\n",
       "    .dataframe tbody tr th {\n",
       "        vertical-align: top;\n",
       "    }\n",
       "\n",
       "    .dataframe thead th {\n",
       "        text-align: right;\n",
       "    }\n",
       "</style>\n",
       "<table border=\"1\" class=\"dataframe\">\n",
       "  <thead>\n",
       "    <tr style=\"text-align: right;\">\n",
       "      <th></th>\n",
       "      <th>UID</th>\n",
       "      <th>P0</th>\n",
       "      <th>P1</th>\n",
       "      <th>P2</th>\n",
       "      <th>P3</th>\n",
       "      <th>P4</th>\n",
       "      <th>P5</th>\n",
       "      <th>P6</th>\n",
       "      <th>P7</th>\n",
       "      <th>loss</th>\n",
       "      <th>loss_pos</th>\n",
       "      <th>loss_neg</th>\n",
       "      <th>C0</th>\n",
       "      <th>C1</th>\n",
       "      <th>C2</th>\n",
       "      <th>C3</th>\n",
       "      <th>C4</th>\n",
       "      <th>C5</th>\n",
       "      <th>C6</th>\n",
       "      <th>C7</th>\n",
       "    </tr>\n",
       "  </thead>\n",
       "  <tbody>\n",
       "    <tr>\n",
       "      <th>0</th>\n",
       "      <td>1.2.826.0.1.3680043.10001</td>\n",
       "      <td>0.059850</td>\n",
       "      <td>0.031841</td>\n",
       "      <td>0.030763</td>\n",
       "      <td>0.014647</td>\n",
       "      <td>0.016467</td>\n",
       "      <td>0.022044</td>\n",
       "      <td>0.059850</td>\n",
       "      <td>0.045987</td>\n",
       "      <td>0.047004</td>\n",
       "      <td>0.000000</td>\n",
       "      <td>0.047004</td>\n",
       "      <td>0</td>\n",
       "      <td>0</td>\n",
       "      <td>0</td>\n",
       "      <td>0</td>\n",
       "      <td>0</td>\n",
       "      <td>0</td>\n",
       "      <td>0</td>\n",
       "      <td>0</td>\n",
       "    </tr>\n",
       "    <tr>\n",
       "      <th>1</th>\n",
       "      <td>1.2.826.0.1.3680043.10005</td>\n",
       "      <td>0.983275</td>\n",
       "      <td>0.025593</td>\n",
       "      <td>0.176114</td>\n",
       "      <td>0.022742</td>\n",
       "      <td>0.049382</td>\n",
       "      <td>0.081991</td>\n",
       "      <td>0.983275</td>\n",
       "      <td>0.426683</td>\n",
       "      <td>2.404410</td>\n",
       "      <td>0.000000</td>\n",
       "      <td>2.404410</td>\n",
       "      <td>0</td>\n",
       "      <td>0</td>\n",
       "      <td>0</td>\n",
       "      <td>0</td>\n",
       "      <td>0</td>\n",
       "      <td>0</td>\n",
       "      <td>0</td>\n",
       "      <td>0</td>\n",
       "    </tr>\n",
       "    <tr>\n",
       "      <th>2</th>\n",
       "      <td>1.2.826.0.1.3680043.10014</td>\n",
       "      <td>0.996666</td>\n",
       "      <td>0.023232</td>\n",
       "      <td>0.020748</td>\n",
       "      <td>0.012816</td>\n",
       "      <td>0.996666</td>\n",
       "      <td>0.991646</td>\n",
       "      <td>0.034294</td>\n",
       "      <td>0.071286</td>\n",
       "      <td>3.612771</td>\n",
       "      <td>0.000000</td>\n",
       "      <td>3.612771</td>\n",
       "      <td>0</td>\n",
       "      <td>0</td>\n",
       "      <td>0</td>\n",
       "      <td>0</td>\n",
       "      <td>0</td>\n",
       "      <td>0</td>\n",
       "      <td>0</td>\n",
       "      <td>0</td>\n",
       "    </tr>\n",
       "    <tr>\n",
       "      <th>3</th>\n",
       "      <td>1.2.826.0.1.3680043.10016</td>\n",
       "      <td>0.131940</td>\n",
       "      <td>0.020525</td>\n",
       "      <td>0.100800</td>\n",
       "      <td>0.031782</td>\n",
       "      <td>0.018828</td>\n",
       "      <td>0.046879</td>\n",
       "      <td>0.033397</td>\n",
       "      <td>0.131940</td>\n",
       "      <td>1.510932</td>\n",
       "      <td>2.059061</td>\n",
       "      <td>0.049253</td>\n",
       "      <td>1</td>\n",
       "      <td>0</td>\n",
       "      <td>1</td>\n",
       "      <td>0</td>\n",
       "      <td>0</td>\n",
       "      <td>0</td>\n",
       "      <td>0</td>\n",
       "      <td>0</td>\n",
       "    </tr>\n",
       "    <tr>\n",
       "      <th>4</th>\n",
       "      <td>1.2.826.0.1.3680043.10032</td>\n",
       "      <td>0.060200</td>\n",
       "      <td>0.036914</td>\n",
       "      <td>0.026288</td>\n",
       "      <td>0.018631</td>\n",
       "      <td>0.060200</td>\n",
       "      <td>0.030131</td>\n",
       "      <td>0.053698</td>\n",
       "      <td>0.046556</td>\n",
       "      <td>0.050945</td>\n",
       "      <td>0.000000</td>\n",
       "      <td>0.050945</td>\n",
       "      <td>0</td>\n",
       "      <td>0</td>\n",
       "      <td>0</td>\n",
       "      <td>0</td>\n",
       "      <td>0</td>\n",
       "      <td>0</td>\n",
       "      <td>0</td>\n",
       "      <td>0</td>\n",
       "    </tr>\n",
       "    <tr>\n",
       "      <th>...</th>\n",
       "      <td>...</td>\n",
       "      <td>...</td>\n",
       "      <td>...</td>\n",
       "      <td>...</td>\n",
       "      <td>...</td>\n",
       "      <td>...</td>\n",
       "      <td>...</td>\n",
       "      <td>...</td>\n",
       "      <td>...</td>\n",
       "      <td>...</td>\n",
       "      <td>...</td>\n",
       "      <td>...</td>\n",
       "      <td>...</td>\n",
       "      <td>...</td>\n",
       "      <td>...</td>\n",
       "      <td>...</td>\n",
       "      <td>...</td>\n",
       "      <td>...</td>\n",
       "      <td>...</td>\n",
       "      <td>...</td>\n",
       "    </tr>\n",
       "    <tr>\n",
       "      <th>2007</th>\n",
       "      <td>1.2.826.0.1.3680043.9926</td>\n",
       "      <td>0.999000</td>\n",
       "      <td>0.999000</td>\n",
       "      <td>0.999000</td>\n",
       "      <td>0.017852</td>\n",
       "      <td>0.030503</td>\n",
       "      <td>0.018810</td>\n",
       "      <td>0.010598</td>\n",
       "      <td>0.067950</td>\n",
       "      <td>0.321489</td>\n",
       "      <td>0.001001</td>\n",
       "      <td>1.176126</td>\n",
       "      <td>1</td>\n",
       "      <td>0</td>\n",
       "      <td>1</td>\n",
       "      <td>0</td>\n",
       "      <td>0</td>\n",
       "      <td>0</td>\n",
       "      <td>0</td>\n",
       "      <td>0</td>\n",
       "    </tr>\n",
       "    <tr>\n",
       "      <th>2008</th>\n",
       "      <td>1.2.826.0.1.3680043.9940</td>\n",
       "      <td>0.999000</td>\n",
       "      <td>0.015636</td>\n",
       "      <td>0.024689</td>\n",
       "      <td>0.999000</td>\n",
       "      <td>0.999000</td>\n",
       "      <td>0.019737</td>\n",
       "      <td>0.018560</td>\n",
       "      <td>0.011139</td>\n",
       "      <td>0.645433</td>\n",
       "      <td>0.437029</td>\n",
       "      <td>1.395690</td>\n",
       "      <td>1</td>\n",
       "      <td>0</td>\n",
       "      <td>0</td>\n",
       "      <td>0</td>\n",
       "      <td>1</td>\n",
       "      <td>1</td>\n",
       "      <td>0</td>\n",
       "      <td>0</td>\n",
       "    </tr>\n",
       "    <tr>\n",
       "      <th>2009</th>\n",
       "      <td>1.2.826.0.1.3680043.9994</td>\n",
       "      <td>0.932973</td>\n",
       "      <td>0.018851</td>\n",
       "      <td>0.018009</td>\n",
       "      <td>0.012359</td>\n",
       "      <td>0.026139</td>\n",
       "      <td>0.022178</td>\n",
       "      <td>0.932973</td>\n",
       "      <td>0.029827</td>\n",
       "      <td>1.553583</td>\n",
       "      <td>0.000000</td>\n",
       "      <td>1.553583</td>\n",
       "      <td>0</td>\n",
       "      <td>0</td>\n",
       "      <td>0</td>\n",
       "      <td>0</td>\n",
       "      <td>0</td>\n",
       "      <td>0</td>\n",
       "      <td>0</td>\n",
       "      <td>0</td>\n",
       "    </tr>\n",
       "    <tr>\n",
       "      <th>2010</th>\n",
       "      <td>1.2.826.0.1.3680043.9996</td>\n",
       "      <td>0.405173</td>\n",
       "      <td>0.079041</td>\n",
       "      <td>0.082199</td>\n",
       "      <td>0.013886</td>\n",
       "      <td>0.031234</td>\n",
       "      <td>0.010471</td>\n",
       "      <td>0.405173</td>\n",
       "      <td>0.035053</td>\n",
       "      <td>0.833598</td>\n",
       "      <td>1.102838</td>\n",
       "      <td>0.115624</td>\n",
       "      <td>1</td>\n",
       "      <td>0</td>\n",
       "      <td>1</td>\n",
       "      <td>0</td>\n",
       "      <td>0</td>\n",
       "      <td>0</td>\n",
       "      <td>0</td>\n",
       "      <td>0</td>\n",
       "    </tr>\n",
       "    <tr>\n",
       "      <th>2011</th>\n",
       "      <td>1.2.826.0.1.3680043.9997</td>\n",
       "      <td>0.036757</td>\n",
       "      <td>0.023995</td>\n",
       "      <td>0.036757</td>\n",
       "      <td>0.010612</td>\n",
       "      <td>0.016453</td>\n",
       "      <td>0.017371</td>\n",
       "      <td>0.014037</td>\n",
       "      <td>0.022023</td>\n",
       "      <td>0.028934</td>\n",
       "      <td>0.000000</td>\n",
       "      <td>0.028934</td>\n",
       "      <td>0</td>\n",
       "      <td>0</td>\n",
       "      <td>0</td>\n",
       "      <td>0</td>\n",
       "      <td>0</td>\n",
       "      <td>0</td>\n",
       "      <td>0</td>\n",
       "      <td>0</td>\n",
       "    </tr>\n",
       "  </tbody>\n",
       "</table>\n",
       "<p>2012 rows × 20 columns</p>\n",
       "</div>"
      ],
      "text/plain": [
       "                            UID        P0        P1        P2        P3  \\\n",
       "0     1.2.826.0.1.3680043.10001  0.059850  0.031841  0.030763  0.014647   \n",
       "1     1.2.826.0.1.3680043.10005  0.983275  0.025593  0.176114  0.022742   \n",
       "2     1.2.826.0.1.3680043.10014  0.996666  0.023232  0.020748  0.012816   \n",
       "3     1.2.826.0.1.3680043.10016  0.131940  0.020525  0.100800  0.031782   \n",
       "4     1.2.826.0.1.3680043.10032  0.060200  0.036914  0.026288  0.018631   \n",
       "...                         ...       ...       ...       ...       ...   \n",
       "2007   1.2.826.0.1.3680043.9926  0.999000  0.999000  0.999000  0.017852   \n",
       "2008   1.2.826.0.1.3680043.9940  0.999000  0.015636  0.024689  0.999000   \n",
       "2009   1.2.826.0.1.3680043.9994  0.932973  0.018851  0.018009  0.012359   \n",
       "2010   1.2.826.0.1.3680043.9996  0.405173  0.079041  0.082199  0.013886   \n",
       "2011   1.2.826.0.1.3680043.9997  0.036757  0.023995  0.036757  0.010612   \n",
       "\n",
       "            P4        P5        P6        P7      loss  loss_pos  loss_neg  \\\n",
       "0     0.016467  0.022044  0.059850  0.045987  0.047004  0.000000  0.047004   \n",
       "1     0.049382  0.081991  0.983275  0.426683  2.404410  0.000000  2.404410   \n",
       "2     0.996666  0.991646  0.034294  0.071286  3.612771  0.000000  3.612771   \n",
       "3     0.018828  0.046879  0.033397  0.131940  1.510932  2.059061  0.049253   \n",
       "4     0.060200  0.030131  0.053698  0.046556  0.050945  0.000000  0.050945   \n",
       "...        ...       ...       ...       ...       ...       ...       ...   \n",
       "2007  0.030503  0.018810  0.010598  0.067950  0.321489  0.001001  1.176126   \n",
       "2008  0.999000  0.019737  0.018560  0.011139  0.645433  0.437029  1.395690   \n",
       "2009  0.026139  0.022178  0.932973  0.029827  1.553583  0.000000  1.553583   \n",
       "2010  0.031234  0.010471  0.405173  0.035053  0.833598  1.102838  0.115624   \n",
       "2011  0.016453  0.017371  0.014037  0.022023  0.028934  0.000000  0.028934   \n",
       "\n",
       "      C0  C1  C2  C3  C4  C5  C6  C7  \n",
       "0      0   0   0   0   0   0   0   0  \n",
       "1      0   0   0   0   0   0   0   0  \n",
       "2      0   0   0   0   0   0   0   0  \n",
       "3      1   0   1   0   0   0   0   0  \n",
       "4      0   0   0   0   0   0   0   0  \n",
       "...   ..  ..  ..  ..  ..  ..  ..  ..  \n",
       "2007   1   0   1   0   0   0   0   0  \n",
       "2008   1   0   0   0   1   1   0   0  \n",
       "2009   0   0   0   0   0   0   0   0  \n",
       "2010   1   0   1   0   0   0   0   0  \n",
       "2011   0   0   0   0   0   0   0   0  \n",
       "\n",
       "[2012 rows x 20 columns]"
      ]
     },
     "execution_count": 3,
     "metadata": {},
     "output_type": "execute_result"
    }
   ],
   "source": [
    "columns = ['UID'] + [f'P{i}' for i in range(8)] + ['loss','loss_pos','loss_neg'] + [f'C{i}' for i in range(8)] \n",
    "patient_pred_df = pd.read_csv(prediction_path, names=columns)\n",
    "\n",
    "patient_pred_df"
   ]
  },
  {
   "cell_type": "code",
   "execution_count": 4,
   "id": "bf5f5108-3720-42e7-9f73-886f1b50a2b6",
   "metadata": {},
   "outputs": [],
   "source": [
    "# patient_pred_df = pd.read_csv('/root/autodl-tmp/df_patient_pred_7945.csv',header = 0, names=['StudyInstanceUID'] + [f'P{i}' for i in range(8)]).set_index('StudyInstanceUID')\n",
    "# label_df = pd.read_csv(os.path.join(DATA_DIR, 'train.csv')).set_index('StudyInstanceUID')\n",
    "# # patient_pred_df.rename(columns = {\"patient_overall\" : \"UID\"}, inplace = True)\n",
    "\n",
    "# label_df.rename(columns = {\"patient_overall\" : \"C0\"}, inplace = True)\n",
    "# patient_pred_df = pd.concat((patient_pred_df, label_df), axis=1)\n",
    "# patient_pred_df = patient_pred_df[~pd.isna(patient_pred_df['P0'])]\n",
    "# patient_pred_df"
   ]
  },
  {
   "cell_type": "code",
   "execution_count": 5,
   "id": "c52e18ca-e4e6-4e12-916e-b0cef7d53aee",
   "metadata": {},
   "outputs": [],
   "source": [
    "def cal_loss(prob, label):\n",
    "    \n",
    "    pos_weight = np.array([14, 2, 2, 2, 2, 2, 2, 2])\n",
    "    neg_weight = np.array([7, 1, 1, 1, 1, 1, 1, 1])\n",
    "    \n",
    "    score = pos_weight * label * np.log(prob) + neg_weight * (1 - label) * np.log(1 - prob)\n",
    "    \n",
    "    weight_total = pos_weight * label + neg_weight * (1 - label)\n",
    "    \n",
    "    return -score.sum() / weight_total.sum()"
   ]
  },
  {
   "cell_type": "code",
   "execution_count": 6,
   "id": "1232fca3-db17-4128-a4a1-993f82c32cad",
   "metadata": {},
   "outputs": [],
   "source": [
    "prob = patient_pred_df[[f'P{i}' for i in range(8)]].values\n",
    "label = patient_pred_df[[f'C{i}' for i in range(8)]].values"
   ]
  },
  {
   "cell_type": "code",
   "execution_count": 7,
   "id": "bc39f086-fa32-445f-8964-d4d11a983747",
   "metadata": {},
   "outputs": [
    {
     "name": "stdout",
     "output_type": "stream",
     "text": [
      "baseline: 0.4487373458900019\n"
     ]
    }
   ],
   "source": [
    "loss = cal_loss(prob, label)\n",
    "print('baseline:', loss)"
   ]
  },
  {
   "cell_type": "code",
   "execution_count": 8,
   "id": "28e41634-0491-45c3-95c5-284f0c92c4a2",
   "metadata": {},
   "outputs": [
    {
     "name": "stdout",
     "output_type": "stream",
     "text": [
      "min loss: 0.42860349214861837\n"
     ]
    },
    {
     "data": {
      "text/plain": [
       "[<matplotlib.lines.Line2D at 0x7fb8a381a8b0>]"
      ]
     },
     "execution_count": 8,
     "metadata": {},
     "output_type": "execute_result"
    },
    {
     "data": {
      "image/png": "[encoded data removed]",
      "text/plain": [
       "<Figure size 432x288 with 1 Axes>"
      ]
     },
     "metadata": {
      "needs_background": "light"
     },
     "output_type": "display_data"
    }
   ],
   "source": [
    "# only clip lower bound\n",
    "losses = []\n",
    "\n",
    "clips = np.linspace(0.001, 0.2, 1000)\n",
    "for clip in clips:\n",
    "    new_prob = np.clip(prob, a_min=clip, a_max=1)\n",
    "    loss= cal_loss(new_prob, label)\n",
    "    \n",
    "    losses.append(loss)\n",
    "print('min loss:', np.min(losses))\n",
    "plt.plot(clips, losses)"
   ]
  },
  {
   "cell_type": "code",
   "execution_count": 9,
   "id": "ecac34e0-004f-4aec-82bd-7cbc4cbc343a",
   "metadata": {},
   "outputs": [
    {
     "name": "stdout",
     "output_type": "stream",
     "text": [
      "min loss: 0.4303821987749776\n"
     ]
    },
    {
     "data": {
      "text/plain": [
       "[<matplotlib.lines.Line2D at 0x7fb8a1726850>]"
      ]
     },
     "execution_count": 9,
     "metadata": {},
     "output_type": "execute_result"
    },
    {
     "data": {
      "image/png": "[encoded data removed]",
      "text/plain": [
       "<Figure size 432x288 with 1 Axes>"
      ]
     },
     "metadata": {
      "needs_background": "light"
     },
     "output_type": "display_data"
    }
   ],
   "source": [
    "# clip upper\n",
    "losses = []\n",
    "\n",
    "clips = np.linspace(0.001, 0.2, 1000)\n",
    "for clip in clips:\n",
    "    new_prob = np.clip(prob, a_min=0, a_max=1-clip)\n",
    "    loss= cal_loss(new_prob, label)\n",
    "    \n",
    "    losses.append(loss)\n",
    "print('min loss:', np.min(losses))\n",
    "plt.plot(clips, losses)"
   ]
  },
  {
   "cell_type": "code",
   "execution_count": 10,
   "id": "7a2e0df8-a763-49d8-9f00-ff2c9af9113e",
   "metadata": {},
   "outputs": [
    {
     "name": "stderr",
     "output_type": "stream",
     "text": [
      "100%|██████████| 200/200 [00:13<00:00, 14.81it/s]"
     ]
    },
    {
     "name": "stdout",
     "output_type": "stream",
     "text": [
      "min loss: 0.4102483544653668\n"
     ]
    },
    {
     "name": "stderr",
     "output_type": "stream",
     "text": [
      "\n"
     ]
    }
   ],
   "source": [
    "# clip both\n",
    "losses = []\n",
    "\n",
    "min_clips = np.linspace(0.001, 0.2, 200)\n",
    "max_clips = np.linspace(0.001, 0.2, 200)\n",
    "\n",
    "for min_clip in tqdm(min_clips):\n",
    "    \n",
    "    for max_clip in max_clips:\n",
    "        new_prob = np.clip(prob, a_min=min_clip, a_max=1-max_clip)\n",
    "        loss= cal_loss(new_prob, label)\n",
    "    \n",
    "        losses.append(loss)\n",
    "print('min loss:', np.min(losses))\n",
    "\n",
    "\n",
    "# plt.plot(clips, losses)"
   ]
  },
  {
   "cell_type": "code",
   "execution_count": 11,
   "id": "d5d20a13-0186-4c30-b2b2-e027b98ff57a",
   "metadata": {},
   "outputs": [
    {
     "name": "stdout",
     "output_type": "stream",
     "text": [
      "min value 0.133, max value 0.05\n"
     ]
    }
   ],
   "source": [
    "min_index = np.argmin(losses)\n",
    "min_clip_index = min_index // len(min_clips)\n",
    "max_clip_index = min_index % len(max_clips)\n",
    "\n",
    "print(f'min value {min_clips[min_clip_index]}, max value {max_clips[max_clip_index]}')"
   ]
  }
 ],
 "metadata": {
  "kernelspec": {
   "display_name": "Python 3 (ipykernel)",
   "language": "python",
   "name": "python3"
  },
  "language_info": {
   "codemirror_mode": {
    "name": "ipython",
    "version": 3
   },
   "file_extension": ".py",
   "mimetype": "text/x-python",
   "name": "python",
   "nbconvert_exporter": "python",
   "pygments_lexer": "ipython3",
   "version": "3.8.10"
  }
 },
 "nbformat": 4,
 "nbformat_minor": 5
}
