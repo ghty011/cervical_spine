{
 "cells": [
  {
   "cell_type": "code",
   "execution_count": 1,
   "id": "05dce49d",
   "metadata": {
    "collapsed": false,
    "jupyter": {
     "outputs_hidden": false
    }
   },
   "outputs": [],
   "source": [
    "model_ver = '095521'\n",
    "epoch_ver = 21\n",
    "checkpoint = f'axial_segmentation_effseg_{model_ver}-epoch-{epoch_ver}.pth'"
   ]
  },
  {
   "cell_type": "code",
   "execution_count": 2,
   "id": "bf851060",
   "metadata": {
    "collapsed": false,
    "jupyter": {
     "outputs_hidden": false
    }
   },
   "outputs": [],
   "source": [
    "import os\n",
    "import glob\n",
    "import pandas as pd\n",
    "import numpy as np\n",
    "import matplotlib.pyplot as plt\n",
    "import matplotlib.patches as patches\n",
    "import seaborn as sns\n",
    "import math\n",
    "from tqdm import tqdm\n",
    "import re\n",
    "from PIL import Image, ImageOps"
   ]
  },
  {
   "cell_type": "code",
   "execution_count": 3,
   "id": "f50c6ac8",
   "metadata": {
    "collapsed": false,
    "jupyter": {
     "outputs_hidden": false
    }
   },
   "outputs": [
    {
     "data": {
      "text/plain": [
       "'cuda'"
      ]
     },
     "execution_count": 3,
     "metadata": {},
     "output_type": "execute_result"
    }
   ],
   "source": [
    "import torch\n",
    "import torch.nn as nn\n",
    "import torch.nn.functional as F\n",
    "import torch.optim as optim\n",
    "from torch.utils.data import Dataset, DataLoader\n",
    "import torchvision\n",
    "from torchvision.io import read_image\n",
    "import torchvision.transforms as T\n",
    "from torchvision.transforms import Compose, ToTensor, Normalize, Resize, CenterCrop\n",
    "import torchvision.transforms.functional as TF\n",
    "import torchvision.models as models\n",
    "\n",
    "import albumentations as A\n",
    "from albumentations.pytorch import ToTensorV2\n",
    "\n",
    "from sklearn.model_selection import train_test_split\n",
    "\n",
    "device = 'cuda' if torch.cuda.is_available() else 'cpu'\n",
    "device"
   ]
  },
  {
   "cell_type": "code",
   "execution_count": 4,
   "id": "85b3579b",
   "metadata": {
    "collapsed": false,
    "jupyter": {
     "outputs_hidden": false
    }
   },
   "outputs": [],
   "source": [
    "DATA_DIR = \"/root/autodl-tmp/cervical_spine/\"\n",
    "IMAGES_DIR = os.path.join(DATA_DIR, f\"train_axial_images_jpeg95\")\n",
    "TARGET_DIR = os.path.join(DATA_DIR, f\"segmentation_axial_results_{model_ver}\")\n",
    "LABEL_DIR = os.path.join(DATA_DIR, f\"segmentation_axial_labels\")"
   ]
  },
  {
   "cell_type": "code",
   "execution_count": 5,
   "id": "91ef4128-4f43-408e-938c-9ef8bc337cd4",
   "metadata": {},
   "outputs": [
    {
     "data": {
      "text/html": [
       "<div>\n",
       "<style scoped>\n",
       "    .dataframe tbody tr th:only-of-type {\n",
       "        vertical-align: middle;\n",
       "    }\n",
       "\n",
       "    .dataframe tbody tr th {\n",
       "        vertical-align: top;\n",
       "    }\n",
       "\n",
       "    .dataframe thead th {\n",
       "        text-align: right;\n",
       "    }\n",
       "</style>\n",
       "<table border=\"1\" class=\"dataframe\">\n",
       "  <thead>\n",
       "    <tr style=\"text-align: right;\">\n",
       "      <th></th>\n",
       "      <th>StudyInstanceUID</th>\n",
       "      <th>Slice</th>\n",
       "    </tr>\n",
       "  </thead>\n",
       "  <tbody>\n",
       "    <tr>\n",
       "      <th>0</th>\n",
       "      <td>1.2.826.0.1.3680043.10001</td>\n",
       "      <td>153</td>\n",
       "    </tr>\n",
       "    <tr>\n",
       "      <th>1</th>\n",
       "      <td>1.2.826.0.1.3680043.10001</td>\n",
       "      <td>0</td>\n",
       "    </tr>\n",
       "    <tr>\n",
       "      <th>2</th>\n",
       "      <td>1.2.826.0.1.3680043.10001</td>\n",
       "      <td>154</td>\n",
       "    </tr>\n",
       "    <tr>\n",
       "      <th>3</th>\n",
       "      <td>1.2.826.0.1.3680043.10001</td>\n",
       "      <td>1</td>\n",
       "    </tr>\n",
       "    <tr>\n",
       "      <th>4</th>\n",
       "      <td>1.2.826.0.1.3680043.10001</td>\n",
       "      <td>155</td>\n",
       "    </tr>\n",
       "    <tr>\n",
       "      <th>...</th>\n",
       "      <td>...</td>\n",
       "      <td>...</td>\n",
       "    </tr>\n",
       "    <tr>\n",
       "      <th>708774</th>\n",
       "      <td>1.2.826.0.1.3680043.9997</td>\n",
       "      <td>95</td>\n",
       "    </tr>\n",
       "    <tr>\n",
       "      <th>708775</th>\n",
       "      <td>1.2.826.0.1.3680043.9997</td>\n",
       "      <td>96</td>\n",
       "    </tr>\n",
       "    <tr>\n",
       "      <th>708776</th>\n",
       "      <td>1.2.826.0.1.3680043.9997</td>\n",
       "      <td>97</td>\n",
       "    </tr>\n",
       "    <tr>\n",
       "      <th>708777</th>\n",
       "      <td>1.2.826.0.1.3680043.9997</td>\n",
       "      <td>98</td>\n",
       "    </tr>\n",
       "    <tr>\n",
       "      <th>708778</th>\n",
       "      <td>1.2.826.0.1.3680043.9997</td>\n",
       "      <td>99</td>\n",
       "    </tr>\n",
       "  </tbody>\n",
       "</table>\n",
       "<p>708779 rows × 2 columns</p>\n",
       "</div>"
      ],
      "text/plain": [
       "                 StudyInstanceUID  Slice\n",
       "0       1.2.826.0.1.3680043.10001    153\n",
       "1       1.2.826.0.1.3680043.10001      0\n",
       "2       1.2.826.0.1.3680043.10001    154\n",
       "3       1.2.826.0.1.3680043.10001      1\n",
       "4       1.2.826.0.1.3680043.10001    155\n",
       "...                           ...    ...\n",
       "708774   1.2.826.0.1.3680043.9997     95\n",
       "708775   1.2.826.0.1.3680043.9997     96\n",
       "708776   1.2.826.0.1.3680043.9997     97\n",
       "708777   1.2.826.0.1.3680043.9997     98\n",
       "708778   1.2.826.0.1.3680043.9997     99\n",
       "\n",
       "[708779 rows x 2 columns]"
      ]
     },
     "execution_count": 5,
     "metadata": {},
     "output_type": "execute_result"
    }
   ],
   "source": [
    "# train_df = pd.read_csv('../input/rsna-2022-cervical-spine-fracture-detection/train.csv').set_index('StudyInstanceUID')\n",
    "# train_df.head()\n",
    "\n",
    "test_slices = glob.glob(f'{IMAGES_DIR}/*/*')\n",
    "test_slices = [re.findall(f'{IMAGES_DIR}/(.*)/(.*).jpeg', s)[0] for s in test_slices]\n",
    "df_test_slices = pd.DataFrame(data=test_slices, columns=['StudyInstanceUID', 'Slice']).astype({'Slice': int})\n",
    "\n",
    "df_test_slices"
   ]
  },
  {
   "cell_type": "code",
   "execution_count": 6,
   "id": "a799f06a",
   "metadata": {
    "collapsed": false,
    "jupyter": {
     "outputs_hidden": false
    }
   },
   "outputs": [],
   "source": [
    "# test_slices = glob.glob(f'{IMAGES_DIR}/*/*')\n",
    "# test_slices = [re.findall(f'{IMAGES_DIR}/(.*)/(.*).jpeg', s)[0] for s in test_slices]\n",
    "# df_test_slices = pd.DataFrame(data=test_slices, columns=['StudyInstanceUID', 'Slice']).astype({'Slice': int}).sort_values(['StudyInstanceUID', 'Slice']).reset_index(drop=True)\n",
    "# df_test_slices"
   ]
  },
  {
   "cell_type": "code",
   "execution_count": 7,
   "id": "69168396-0a2b-45ed-92b6-3fdd83a3399a",
   "metadata": {},
   "outputs": [
    {
     "data": {
      "text/html": [
       "<div>\n",
       "<style scoped>\n",
       "    .dataframe tbody tr th:only-of-type {\n",
       "        vertical-align: middle;\n",
       "    }\n",
       "\n",
       "    .dataframe tbody tr th {\n",
       "        vertical-align: top;\n",
       "    }\n",
       "\n",
       "    .dataframe thead th {\n",
       "        text-align: right;\n",
       "    }\n",
       "</style>\n",
       "<table border=\"1\" class=\"dataframe\">\n",
       "  <thead>\n",
       "    <tr style=\"text-align: right;\">\n",
       "      <th></th>\n",
       "      <th>StudyInstanceUID</th>\n",
       "      <th>Slice</th>\n",
       "      <th>Start</th>\n",
       "    </tr>\n",
       "  </thead>\n",
       "  <tbody>\n",
       "    <tr>\n",
       "      <th>0</th>\n",
       "      <td>1.2.826.0.1.3680043.10001</td>\n",
       "      <td>0</td>\n",
       "      <td>0</td>\n",
       "    </tr>\n",
       "    <tr>\n",
       "      <th>1</th>\n",
       "      <td>1.2.826.0.1.3680043.10001</td>\n",
       "      <td>1</td>\n",
       "      <td>0</td>\n",
       "    </tr>\n",
       "    <tr>\n",
       "      <th>2</th>\n",
       "      <td>1.2.826.0.1.3680043.10001</td>\n",
       "      <td>2</td>\n",
       "      <td>0</td>\n",
       "    </tr>\n",
       "    <tr>\n",
       "      <th>3</th>\n",
       "      <td>1.2.826.0.1.3680043.10001</td>\n",
       "      <td>3</td>\n",
       "      <td>0</td>\n",
       "    </tr>\n",
       "    <tr>\n",
       "      <th>4</th>\n",
       "      <td>1.2.826.0.1.3680043.10001</td>\n",
       "      <td>4</td>\n",
       "      <td>0</td>\n",
       "    </tr>\n",
       "  </tbody>\n",
       "</table>\n",
       "</div>"
      ],
      "text/plain": [
       "            StudyInstanceUID  Slice  Start\n",
       "0  1.2.826.0.1.3680043.10001      0      0\n",
       "1  1.2.826.0.1.3680043.10001      1      0\n",
       "2  1.2.826.0.1.3680043.10001      2      0\n",
       "3  1.2.826.0.1.3680043.10001      3      0\n",
       "4  1.2.826.0.1.3680043.10001      4      0"
      ]
     },
     "execution_count": 7,
     "metadata": {},
     "output_type": "execute_result"
    }
   ],
   "source": [
    "df_test_slices = df_test_slices.set_index('StudyInstanceUID')\n",
    "df_test_slices[\"Start\"] = df_test_slices.groupby('StudyInstanceUID').apply(lambda df: df.Slice.min())\n",
    "# df_test_slices[\"End\"] = df_test_slices.groupby('StudyInstanceUID').apply(lambda df: df.Slice.max())\n",
    "df_test_slices = df_test_slices.sort_values(['StudyInstanceUID', 'Slice']).reset_index(drop=False)\n",
    "df_test_slices.head()"
   ]
  },
  {
   "cell_type": "code",
   "execution_count": 8,
   "id": "5cc626ea-3e20-47c2-9c40-5d5afc782cf9",
   "metadata": {},
   "outputs": [
    {
     "data": {
      "text/plain": [
       "2012"
      ]
     },
     "execution_count": 8,
     "metadata": {},
     "output_type": "execute_result"
    }
   ],
   "source": [
    "len(df_test_slices.StudyInstanceUID.unique())"
   ]
  },
  {
   "cell_type": "code",
   "execution_count": 9,
   "id": "d906d82a-54ae-444c-92b8-7935d18b1ef1",
   "metadata": {},
   "outputs": [
    {
     "name": "stdout",
     "output_type": "stream",
     "text": [
      "2012\n"
     ]
    },
    {
     "data": {
      "text/html": [
       "<div>\n",
       "<style scoped>\n",
       "    .dataframe tbody tr th:only-of-type {\n",
       "        vertical-align: middle;\n",
       "    }\n",
       "\n",
       "    .dataframe tbody tr th {\n",
       "        vertical-align: top;\n",
       "    }\n",
       "\n",
       "    .dataframe thead th {\n",
       "        text-align: right;\n",
       "    }\n",
       "</style>\n",
       "<table border=\"1\" class=\"dataframe\">\n",
       "  <thead>\n",
       "    <tr style=\"text-align: right;\">\n",
       "      <th></th>\n",
       "      <th>z_spacing</th>\n",
       "      <th>pixel_spacing</th>\n",
       "      <th>aspect</th>\n",
       "      <th>is_flip</th>\n",
       "    </tr>\n",
       "    <tr>\n",
       "      <th>UID</th>\n",
       "      <th></th>\n",
       "      <th></th>\n",
       "      <th></th>\n",
       "      <th></th>\n",
       "    </tr>\n",
       "  </thead>\n",
       "  <tbody>\n",
       "    <tr>\n",
       "      <th>1.2.826.0.1.3680043.10001</th>\n",
       "      <td>0.625</td>\n",
       "      <td>0.253906</td>\n",
       "      <td>2.461541</td>\n",
       "      <td>0</td>\n",
       "    </tr>\n",
       "    <tr>\n",
       "      <th>1.2.826.0.1.3680043.10005</th>\n",
       "      <td>0.625</td>\n",
       "      <td>0.298828</td>\n",
       "      <td>2.091504</td>\n",
       "      <td>0</td>\n",
       "    </tr>\n",
       "    <tr>\n",
       "      <th>1.2.826.0.1.3680043.10014</th>\n",
       "      <td>0.800</td>\n",
       "      <td>0.234000</td>\n",
       "      <td>3.418803</td>\n",
       "      <td>0</td>\n",
       "    </tr>\n",
       "    <tr>\n",
       "      <th>1.2.826.0.1.3680043.10016</th>\n",
       "      <td>0.313</td>\n",
       "      <td>0.275391</td>\n",
       "      <td>1.136566</td>\n",
       "      <td>0</td>\n",
       "    </tr>\n",
       "    <tr>\n",
       "      <th>1.2.826.0.1.3680043.10032</th>\n",
       "      <td>0.625</td>\n",
       "      <td>0.320313</td>\n",
       "      <td>1.951216</td>\n",
       "      <td>0</td>\n",
       "    </tr>\n",
       "  </tbody>\n",
       "</table>\n",
       "</div>"
      ],
      "text/plain": [
       "                           z_spacing  pixel_spacing    aspect  is_flip\n",
       "UID                                                                   \n",
       "1.2.826.0.1.3680043.10001      0.625       0.253906  2.461541        0\n",
       "1.2.826.0.1.3680043.10005      0.625       0.298828  2.091504        0\n",
       "1.2.826.0.1.3680043.10014      0.800       0.234000  3.418803        0\n",
       "1.2.826.0.1.3680043.10016      0.313       0.275391  1.136566        0\n",
       "1.2.826.0.1.3680043.10032      0.625       0.320313  1.951216        0"
      ]
     },
     "execution_count": 9,
     "metadata": {},
     "output_type": "execute_result"
    }
   ],
   "source": [
    "train_3d_df = pd.read_csv(os.path.join(DATA_DIR, 'meta_train_3d.csv')).set_index('UID')\n",
    "print(len(train_3d_df))\n",
    "train_3d_df.head()"
   ]
  },
  {
   "cell_type": "code",
   "execution_count": 10,
   "id": "bde96894-8d01-4e7c-b5a0-3f200123dcce",
   "metadata": {},
   "outputs": [
    {
     "data": {
      "text/html": [
       "<div>\n",
       "<style scoped>\n",
       "    .dataframe tbody tr th:only-of-type {\n",
       "        vertical-align: middle;\n",
       "    }\n",
       "\n",
       "    .dataframe tbody tr th {\n",
       "        vertical-align: top;\n",
       "    }\n",
       "\n",
       "    .dataframe thead th {\n",
       "        text-align: right;\n",
       "    }\n",
       "</style>\n",
       "<table border=\"1\" class=\"dataframe\">\n",
       "  <thead>\n",
       "    <tr style=\"text-align: right;\">\n",
       "      <th></th>\n",
       "      <th>StudyInstanceUID</th>\n",
       "      <th>Slice</th>\n",
       "      <th>Start</th>\n",
       "      <th>pixel_spacing</th>\n",
       "    </tr>\n",
       "  </thead>\n",
       "  <tbody>\n",
       "    <tr>\n",
       "      <th>0</th>\n",
       "      <td>1.2.826.0.1.3680043.10001</td>\n",
       "      <td>0</td>\n",
       "      <td>0</td>\n",
       "      <td>0.253906</td>\n",
       "    </tr>\n",
       "    <tr>\n",
       "      <th>1</th>\n",
       "      <td>1.2.826.0.1.3680043.10001</td>\n",
       "      <td>1</td>\n",
       "      <td>0</td>\n",
       "      <td>0.253906</td>\n",
       "    </tr>\n",
       "    <tr>\n",
       "      <th>2</th>\n",
       "      <td>1.2.826.0.1.3680043.10001</td>\n",
       "      <td>2</td>\n",
       "      <td>0</td>\n",
       "      <td>0.253906</td>\n",
       "    </tr>\n",
       "    <tr>\n",
       "      <th>3</th>\n",
       "      <td>1.2.826.0.1.3680043.10001</td>\n",
       "      <td>3</td>\n",
       "      <td>0</td>\n",
       "      <td>0.253906</td>\n",
       "    </tr>\n",
       "    <tr>\n",
       "      <th>4</th>\n",
       "      <td>1.2.826.0.1.3680043.10001</td>\n",
       "      <td>4</td>\n",
       "      <td>0</td>\n",
       "      <td>0.253906</td>\n",
       "    </tr>\n",
       "  </tbody>\n",
       "</table>\n",
       "</div>"
      ],
      "text/plain": [
       "            StudyInstanceUID  Slice  Start  pixel_spacing\n",
       "0  1.2.826.0.1.3680043.10001      0      0       0.253906\n",
       "1  1.2.826.0.1.3680043.10001      1      0       0.253906\n",
       "2  1.2.826.0.1.3680043.10001      2      0       0.253906\n",
       "3  1.2.826.0.1.3680043.10001      3      0       0.253906\n",
       "4  1.2.826.0.1.3680043.10001      4      0       0.253906"
      ]
     },
     "execution_count": 10,
     "metadata": {},
     "output_type": "execute_result"
    }
   ],
   "source": [
    "df_test_slices[\"pixel_spacing\"] = train_3d_df.loc[df_test_slices.StudyInstanceUID, 'pixel_spacing'].values\n",
    "df_test_slices.head()"
   ]
  },
  {
   "cell_type": "code",
   "execution_count": 11,
   "id": "48c71941-9fca-448e-967d-e61872058ce1",
   "metadata": {},
   "outputs": [
    {
     "name": "stdout",
     "output_type": "stream",
     "text": [
      "tensor(-1.) tensor(0.8196)\n",
      "torch.Size([1, 512, 512])\n",
      "0.253906 False 1.2.826.0.1.3680043.10001 150\n"
     ]
    }
   ],
   "source": [
    "class ImageDataSet(torch.utils.data.Dataset):\n",
    "    def __init__(self, df, path, transforms=None):\n",
    "        super().__init__()\n",
    "        self.df = df\n",
    "        self.path = path\n",
    "        self.transforms = transforms\n",
    "\n",
    "        self.len = len(self.df)\n",
    "\n",
    "    def __getitem__(self, i):\n",
    "\n",
    "        try:\n",
    "            s = self.df.iloc[i]\n",
    "            img = Image.open(os.path.join(self.path, s.StudyInstanceUID, f'{s.Slice}.jpeg'))\n",
    "\n",
    "            if self.transforms is not None:\n",
    "                img = self.transforms(img)\n",
    "        except Exception as ex:\n",
    "            print(ex)\n",
    "            return None, None\n",
    "\n",
    "        return img, s.pixel_spacing, s.Slice == s.Start, s.StudyInstanceUID, s.Slice\n",
    "\n",
    "    def __len__(self):\n",
    "        return self.len\n",
    "\n",
    "class DataTransform(nn.Module):\n",
    "    def __init__(self, image_size=512):\n",
    "        super().__init__()\n",
    "\n",
    "        self.image_size = image_size\n",
    "\n",
    "        self.transform = T.Compose([\n",
    "            T.Resize((image_size, image_size)),\n",
    "            T.ToTensor(),\n",
    "            T.Normalize(0.5, 0.5),\n",
    "        ])\n",
    "\n",
    "    def forward(self, x):\n",
    "        x = self.transform(x)\n",
    "\n",
    "        return x\n",
    "    \n",
    "ds = ImageDataSet(df_test_slices, IMAGES_DIR, DataTransform())\n",
    "img, pixel_spacing, is_end, UID, Slice = ds[150]\n",
    "print(img.min(), img.max())\n",
    "print(img.shape)\n",
    "print(pixel_spacing, is_end, UID, Slice)"
   ]
  },
  {
   "cell_type": "code",
   "execution_count": 12,
   "id": "f0f7a5a3-8db6-4e4c-a618-fdf8335bb0b5",
   "metadata": {},
   "outputs": [],
   "source": [
    "batch_size = 32\n",
    "dl = DataLoader(ds, batch_size=batch_size, shuffle=False, num_workers=min(16, batch_size))\n",
    "\n",
    "# x, pixel_spacings, is_start = next(iter(dl))\n",
    "# print(x.min(), x.max())\n",
    "# print(x.shape)\n",
    "# print(pixel_spacings)"
   ]
  },
  {
   "cell_type": "code",
   "execution_count": 13,
   "id": "f972d7d2",
   "metadata": {
    "collapsed": false,
    "jupyter": {
     "outputs_hidden": false
    }
   },
   "outputs": [],
   "source": [
    "from efficientunet import *\n",
    "\n",
    "def get_axial_segmentation_model(checkpoint):\n",
    "    model = get_efficientunet_b5(out_channels=2, concat_input=True, pretrained=True)\n",
    "\n",
    "    state = torch.load(os.path.join(DATA_DIR, 'checkpoint', checkpoint))\n",
    "    model.load_state_dict(state[\"model\"])\n",
    "    model.eval()\n",
    "    return model.to(device)\n",
    "\n",
    "seg_model = get_axial_segmentation_model(checkpoint)"
   ]
  },
  {
   "cell_type": "code",
   "execution_count": 14,
   "id": "ce6743c7",
   "metadata": {
    "collapsed": false,
    "jupyter": {
     "outputs_hidden": false
    }
   },
   "outputs": [],
   "source": [
    "def get_axial_boundary_from_segmentation(seg, pixel_spacing, throw=100, tol=0.2, max_mm=100):\n",
    "    \"\"\"\n",
    "    seg : H x W\n",
    "    \"\"\"\n",
    "    image_size = seg.shape[0]\n",
    "    min_size = min(image_size, max_mm / pixel_spacing)\n",
    "\n",
    "    rows, columns = seg.nonzero(as_tuple=True)\n",
    "    rows.sort()\n",
    "    columns.sort()\n",
    "\n",
    "    throw = min(len(rows) // 2, throw)\n",
    "\n",
    "    if(len(rows)) == 0:\n",
    "        return torch.tensor([0, 0, image_size, image_size]).to(device)\n",
    "\n",
    "    xmin, xmax = columns[throw], columns[-throw]\n",
    "    ymin, ymax = rows[throw], rows[-throw]\n",
    "\n",
    "    w = (xmax - xmin) * (1 + tol)\n",
    "    h = (ymax - ymax) * (1 + tol)\n",
    "    new_size = max(w, h, min_size)\n",
    "    new_size = min(image_size, new_size)\n",
    "\n",
    "    xcenter, ycenter = (xmax + xmin) / 2, (ymax + ymin) / 2\n",
    "\n",
    "    xmin = torch.min(torch.tensor(image_size - new_size), xcenter - new_size / 2)\n",
    "    xmin = xmin.clip(min=0)\n",
    "\n",
    "    ymin = torch.min(torch.tensor(image_size - new_size), ycenter - new_size / 2)\n",
    "    ymin = ymin.clip(min=0)\n",
    "\n",
    "    return torch.stack([xmin, ymin, xmin + new_size, ymin + new_size])"
   ]
  },
  {
   "cell_type": "code",
   "execution_count": 15,
   "id": "574af04b-ff21-4c26-a77f-77338b00b027",
   "metadata": {},
   "outputs": [],
   "source": [
    "def get_axial_boundary(segs, pixel_spacings, seg_img_size=256):\n",
    "    boundary_list = []\n",
    "    for i in range(segs.shape[0]):\n",
    "        seg = segs[i, 0, :, :]\n",
    "        \n",
    "        boundary = get_axial_boundary_from_segmentation(seg, pixel_spacings[i], throw=int(100 / 512 * seg_img_size), tol=0.2, max_mm=100 / 512 * seg_img_size)\n",
    "        boundary_list.append(boundary)\n",
    "    boundary_list = torch.stack(boundary_list, axis=0) * (512. / seg_img_size)\n",
    "    return boundary_list"
   ]
  },
  {
   "cell_type": "code",
   "execution_count": 16,
   "id": "89a1a714",
   "metadata": {
    "collapsed": false,
    "jupyter": {
     "outputs_hidden": false
    }
   },
   "outputs": [],
   "source": [
    "def predict_seg(x, model, img_size=256):\n",
    "    \"\"\"\n",
    "    return: N x 1 x H x W\n",
    "    \"\"\"\n",
    "    x = TF.resize(x, (img_size, img_size))\n",
    "    logits = model(x)\n",
    "\n",
    "    classification_score, mse_score = logits.sigmoid().chunk(2, dim=1)\n",
    "    classification_pred = classification_score.gt(0.5).float()\n",
    "    pred = (classification_pred * mse_score)\n",
    "\n",
    "    return pred"
   ]
  },
  {
   "cell_type": "code",
   "execution_count": 17,
   "id": "2290947f",
   "metadata": {
    "collapsed": false,
    "jupyter": {
     "outputs_hidden": false
    }
   },
   "outputs": [],
   "source": [
    "def save_pred_img(pred, UIDs, axial_indices):\n",
    "    for i in range(pred.shape[0]):\n",
    "        \n",
    "        save_dir = os.path.join(TARGET_DIR, UIDs[i])\n",
    "        if os.path.exists(save_dir) is False:\n",
    "            os.mkdir(save_dir)\n",
    "        \n",
    "        img = pred[i, 0, :, :]\n",
    "        \n",
    "        Image.fromarray(np.uint8(img * 256), 'L').save(os.path.join(save_dir, f'{int(axial_indices[i])}.png'))\n",
    "    "
   ]
  },
  {
   "cell_type": "code",
   "execution_count": 18,
   "id": "b71573a7",
   "metadata": {
    "collapsed": false,
    "jupyter": {
     "outputs_hidden": false
    }
   },
   "outputs": [
    {
     "name": "stderr",
     "output_type": "stream",
     "text": [
      "  0%|          | 0/22150 [00:00<?, ?it/s]/tmp/ipykernel_610012/2737962734.py:27: UserWarning: To copy construct from a tensor, it is recommended to use sourceTensor.clone().detach() or sourceTensor.clone().detach().requires_grad_(True), rather than torch.tensor(sourceTensor).\n",
      "  xmin = torch.min(torch.tensor(image_size - new_size), xcenter - new_size / 2)\n",
      "/tmp/ipykernel_610012/2737962734.py:30: UserWarning: To copy construct from a tensor, it is recommended to use sourceTensor.clone().detach() or sourceTensor.clone().detach().requires_grad_(True), rather than torch.tensor(sourceTensor).\n",
      "  ymin = torch.min(torch.tensor(image_size - new_size), ycenter - new_size / 2)\n",
      "100%|██████████| 22150/22150 [1:18:45<00:00,  4.69it/s]\n"
     ]
    }
   ],
   "source": [
    "\n",
    "def infer():\n",
    "\n",
    "    with torch.no_grad():\n",
    "\n",
    "        boundary_list = []\n",
    "\n",
    "        x0, _, _, _, _ = ds[0]\n",
    "        x1, _, _, _, _ = ds[1]\n",
    "        x0, x1 = x0.to(device), x1.to(device)\n",
    "        prev2 = torch.stack((x0, x1))\n",
    "\n",
    "        for x, pixel_spacings, is_starts, UIDs, axial_indices in tqdm(dl):\n",
    "            x = x.to(device)\n",
    "\n",
    "            # x : N x 1 x 512 x 512\n",
    "            x = x.to(device)\n",
    "\n",
    "            # (N+2), 1, 512, 512\n",
    "            x = torch.cat((prev2, x), dim=0)\n",
    "\n",
    "            r = x[:-2, :, :, :]\n",
    "            g = x[1:-1, :, :, :]\n",
    "            b = x[2:, :, :, :]\n",
    "\n",
    "            start_indices = torch.argwhere(is_starts)\n",
    "            r[start_indices, :, :, :] = b[start_indices, :, :, :]\n",
    "            g[start_indices, :, :, :] = b[start_indices, :, :, :]\n",
    "\n",
    "            prev2 = b[-2:, :, :, :]\n",
    "\n",
    "            x = torch.cat((r, g, b), dim=1)\n",
    "\n",
    "            seg_result = predict_seg(x, seg_model)  # N x 1 x 256 x 256\n",
    "\n",
    "            save_pred_img(seg_result.cpu().numpy(), UIDs, axial_indices)\n",
    "\n",
    "            axial_boundary = get_axial_boundary(seg_result, pixel_spacings, seg_img_size=256)\n",
    "\n",
    "            boundary_list.append(axial_boundary.cpu().numpy())\n",
    "        \n",
    "        return boundary_list\n",
    "    \n",
    "boundarys = infer()"
   ]
  },
  {
   "cell_type": "code",
   "execution_count": 19,
   "id": "e5b6639a-913a-4869-8706-e60cb7cc01e8",
   "metadata": {},
   "outputs": [
    {
     "data": {
      "text/html": [
       "<div>\n",
       "<style scoped>\n",
       "    .dataframe tbody tr th:only-of-type {\n",
       "        vertical-align: middle;\n",
       "    }\n",
       "\n",
       "    .dataframe tbody tr th {\n",
       "        vertical-align: top;\n",
       "    }\n",
       "\n",
       "    .dataframe thead th {\n",
       "        text-align: right;\n",
       "    }\n",
       "</style>\n",
       "<table border=\"1\" class=\"dataframe\">\n",
       "  <thead>\n",
       "    <tr style=\"text-align: right;\">\n",
       "      <th></th>\n",
       "      <th>Slice</th>\n",
       "      <th>Start</th>\n",
       "      <th>pixel_spacing</th>\n",
       "      <th>xmin</th>\n",
       "      <th>ymin</th>\n",
       "      <th>xmax</th>\n",
       "      <th>ymax</th>\n",
       "    </tr>\n",
       "    <tr>\n",
       "      <th>StudyInstanceUID</th>\n",
       "      <th></th>\n",
       "      <th></th>\n",
       "      <th></th>\n",
       "      <th></th>\n",
       "      <th></th>\n",
       "      <th></th>\n",
       "      <th></th>\n",
       "    </tr>\n",
       "  </thead>\n",
       "  <tbody>\n",
       "    <tr>\n",
       "      <th>1.2.826.0.1.3680043.10001</th>\n",
       "      <td>0</td>\n",
       "      <td>0</td>\n",
       "      <td>0.253906</td>\n",
       "      <td>54.076729</td>\n",
       "      <td>0.0</td>\n",
       "      <td>447.923271</td>\n",
       "      <td>393.846542</td>\n",
       "    </tr>\n",
       "    <tr>\n",
       "      <th>1.2.826.0.1.3680043.10001</th>\n",
       "      <td>1</td>\n",
       "      <td>0</td>\n",
       "      <td>0.253906</td>\n",
       "      <td>0.000000</td>\n",
       "      <td>0.0</td>\n",
       "      <td>512.000000</td>\n",
       "      <td>512.000000</td>\n",
       "    </tr>\n",
       "    <tr>\n",
       "      <th>1.2.826.0.1.3680043.10001</th>\n",
       "      <td>2</td>\n",
       "      <td>0</td>\n",
       "      <td>0.253906</td>\n",
       "      <td>0.000000</td>\n",
       "      <td>0.0</td>\n",
       "      <td>512.000000</td>\n",
       "      <td>512.000000</td>\n",
       "    </tr>\n",
       "    <tr>\n",
       "      <th>1.2.826.0.1.3680043.10001</th>\n",
       "      <td>3</td>\n",
       "      <td>0</td>\n",
       "      <td>0.253906</td>\n",
       "      <td>0.000000</td>\n",
       "      <td>0.0</td>\n",
       "      <td>512.000000</td>\n",
       "      <td>512.000000</td>\n",
       "    </tr>\n",
       "    <tr>\n",
       "      <th>1.2.826.0.1.3680043.10001</th>\n",
       "      <td>4</td>\n",
       "      <td>0</td>\n",
       "      <td>0.253906</td>\n",
       "      <td>0.000000</td>\n",
       "      <td>0.0</td>\n",
       "      <td>512.000000</td>\n",
       "      <td>512.000000</td>\n",
       "    </tr>\n",
       "  </tbody>\n",
       "</table>\n",
       "</div>"
      ],
      "text/plain": [
       "                           Slice  Start  pixel_spacing       xmin  ymin  \\\n",
       "StudyInstanceUID                                                          \n",
       "1.2.826.0.1.3680043.10001      0      0       0.253906  54.076729   0.0   \n",
       "1.2.826.0.1.3680043.10001      1      0       0.253906   0.000000   0.0   \n",
       "1.2.826.0.1.3680043.10001      2      0       0.253906   0.000000   0.0   \n",
       "1.2.826.0.1.3680043.10001      3      0       0.253906   0.000000   0.0   \n",
       "1.2.826.0.1.3680043.10001      4      0       0.253906   0.000000   0.0   \n",
       "\n",
       "                                 xmax        ymax  \n",
       "StudyInstanceUID                                   \n",
       "1.2.826.0.1.3680043.10001  447.923271  393.846542  \n",
       "1.2.826.0.1.3680043.10001  512.000000  512.000000  \n",
       "1.2.826.0.1.3680043.10001  512.000000  512.000000  \n",
       "1.2.826.0.1.3680043.10001  512.000000  512.000000  \n",
       "1.2.826.0.1.3680043.10001  512.000000  512.000000  "
      ]
     },
     "execution_count": 19,
     "metadata": {},
     "output_type": "execute_result"
    }
   ],
   "source": [
    "boundary_df = pd.DataFrame(data=np.concatenate(boundarys), columns=['xmin','ymin','xmax','ymax'])\n",
    "boundary_df = pd.concat((df_test_slices, boundary_df), axis=1).set_index('StudyInstanceUID')\n",
    "boundary_df.head()"
   ]
  },
  {
   "cell_type": "code",
   "execution_count": 20,
   "id": "0b9caf64-e634-4cf4-bcf4-352a16ff25d2",
   "metadata": {},
   "outputs": [],
   "source": [
    "boundary_df.to_csv(os.path.join(DATA_DIR, f'infered_boundary_{model_ver}_2.csv'))"
   ]
  }
 ],
 "metadata": {
  "kernelspec": {
   "display_name": "Python 3 (ipykernel)",
   "language": "python",
   "name": "python3"
  },
  "language_info": {
   "codemirror_mode": {
    "name": "ipython",
    "version": 3
   },
   "file_extension": ".py",
   "mimetype": "text/x-python",
   "name": "python",
   "nbconvert_exporter": "python",
   "pygments_lexer": "ipython3",
   "version": "3.8.10"
  }
 },
 "nbformat": 4,
 "nbformat_minor": 5
}
