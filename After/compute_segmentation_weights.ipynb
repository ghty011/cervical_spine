{
 "cells": [
  {
   "cell_type": "code",
   "execution_count": 26,
   "id": "68266fdc-3fd1-499f-afc9-b7e8e36c5663",
   "metadata": {},
   "outputs": [],
   "source": [
    "import os\n",
    "import glob\n",
    "import pandas as pd\n",
    "import numpy as np\n",
    "import matplotlib.pyplot as plt\n",
    "import re\n",
    "from tqdm import tqdm\n",
    "import math\n",
    "\n",
    "import torch\n",
    "import torch.nn as nn\n",
    "import torch.nn.functional as F"
   ]
  },
  {
   "cell_type": "code",
   "execution_count": 2,
   "id": "4169986d-1c4a-41fe-845e-149c36d0c632",
   "metadata": {},
   "outputs": [],
   "source": [
    "DATA_DIR = \"/root/autodl-tmp/cervical_spine/\"\n",
    "TRAIN_IMAGE_DIR = os.path.join(DATA_DIR, \"train_images_npy_croped\")\n",
    "TRAIN_SEG_DIR = os.path.join(DATA_DIR, \"segmentations_npy_croped\")"
   ]
  },
  {
   "cell_type": "code",
   "execution_count": 3,
   "id": "0f5ac35b-bdfc-4c07-bdde-2256488b2cb3",
   "metadata": {},
   "outputs": [],
   "source": [
    "nii_files = glob.glob(TRAIN_SEG_DIR + \"/*.npy\")"
   ]
  },
  {
   "cell_type": "markdown",
   "id": "4d15f86f-e718-4f8b-98fa-a81ff77fe1a2",
   "metadata": {},
   "source": [
    "### Class frequency weights"
   ]
  },
  {
   "cell_type": "code",
   "execution_count": 12,
   "id": "02d537c9-1903-4240-ab12-a27ed36a4351",
   "metadata": {},
   "outputs": [],
   "source": [
    "def count_frequency(mask):\n",
    "    return np.bincount(mask.reshape(-1)) / (128*128*128)"
   ]
  },
  {
   "cell_type": "code",
   "execution_count": 13,
   "id": "34cb03cb-e20a-4137-b888-af58cf2c2fd5",
   "metadata": {},
   "outputs": [
    {
     "data": {
      "text/plain": [
       "array([9.92038727e-01, 1.22547150e-03, 1.43861771e-03, 9.30309296e-04,\n",
       "       9.76085663e-04, 9.35077667e-04, 1.16062164e-03, 1.29508972e-03])"
      ]
     },
     "execution_count": 13,
     "metadata": {},
     "output_type": "execute_result"
    }
   ],
   "source": [
    "a = np.load(nii_files[0]).reshape(-1)\n",
    "count_frequency(a)"
   ]
  },
  {
   "cell_type": "code",
   "execution_count": 16,
   "id": "084b21a2-15e0-4afa-854b-14609fb45fb4",
   "metadata": {},
   "outputs": [
    {
     "name": "stderr",
     "output_type": "stream",
     "text": [
      "100%|██████████| 87/87 [00:00<00:00, 116.80it/s]\n"
     ]
    }
   ],
   "source": [
    "total_freq = 0\n",
    "for nii_path in tqdm(nii_files):\n",
    "    freq = count_frequency(np.load(nii_path))\n",
    "    total_freq += freq\n",
    "    \n",
    "total_freq /= len(nii_files)\n"
   ]
  },
  {
   "cell_type": "code",
   "execution_count": 17,
   "id": "c09382b4-c44d-436d-84e6-2248751120c0",
   "metadata": {},
   "outputs": [
    {
     "data": {
      "text/plain": [
       "array([0.98830485, 0.00163332, 0.0020629 , 0.00138122, 0.00139588,\n",
       "       0.00150409, 0.00165557, 0.00206217])"
      ]
     },
     "execution_count": 17,
     "metadata": {},
     "output_type": "execute_result"
    }
   ],
   "source": [
    "total_freq"
   ]
  },
  {
   "cell_type": "markdown",
   "id": "acb49bf8-cf29-4685-9b94-3bf570a3e3a4",
   "metadata": {},
   "source": [
    "### Border weights\n",
    "apply mean pooling to the binary mask"
   ]
  },
  {
   "cell_type": "code",
   "execution_count": 24,
   "id": "5f2f017b-531c-4700-b583-885d8aa7c02f",
   "metadata": {},
   "outputs": [
    {
     "name": "stdout",
     "output_type": "stream",
     "text": [
      "(1, 128, 128, 128)\n"
     ]
    },
    {
     "data": {
      "text/plain": [
       "<matplotlib.image.AxesImage at 0x7f163cc63a90>"
      ]
     },
     "execution_count": 24,
     "metadata": {},
     "output_type": "execute_result"
    },
    {
     "data": {
      "image/png": "[encoded data removed]",
      "text/plain": [
       "<Figure size 432x288 with 1 Axes>"
      ]
     },
     "metadata": {
      "needs_background": "light"
     },
     "output_type": "display_data"
    }
   ],
   "source": [
    "mask = np.load(nii_files[0])\n",
    "mask[mask > 7] = 0\n",
    "mask[mask > 0] = 1\n",
    "print(mask.shape)\n",
    "plt.imshow(mask[0, :, :, 64], cmap='nipy_spectral')"
   ]
  },
  {
   "cell_type": "code",
   "execution_count": 27,
   "id": "b7b91dfd-5516-4dd4-abe4-1ed24c9c5df1",
   "metadata": {},
   "outputs": [
    {
     "data": {
      "text/plain": [
       "torch.Size([1, 128, 128, 128])"
      ]
     },
     "execution_count": 27,
     "metadata": {},
     "output_type": "execute_result"
    }
   ],
   "source": [
    "mask_tensor = torch.tensor(mask, dtype=torch.float)\n",
    "mask_tensor.shape"
   ]
  },
  {
   "cell_type": "code",
   "execution_count": 30,
   "id": "1c3c72e1-9115-4ced-884c-b81277bcd8aa",
   "metadata": {},
   "outputs": [
    {
     "data": {
      "text/plain": [
       "torch.Size([1, 128, 128, 128])"
      ]
     },
     "execution_count": 30,
     "metadata": {},
     "output_type": "execute_result"
    }
   ],
   "source": [
    "pool_out = F.avg_pool3d(mask_tensor.unsqueeze(0), kernel_size=9, padding=4, stride=1).squeeze(0)\n",
    "pool_out.shape"
   ]
  },
  {
   "cell_type": "code",
   "execution_count": 32,
   "id": "619f80c6-745e-4e0d-8532-a74008c7a5df",
   "metadata": {},
   "outputs": [
    {
     "name": "stdout",
     "output_type": "stream",
     "text": [
      "tensor(0.) tensor(0.8807)\n"
     ]
    }
   ],
   "source": [
    "print(pool_out.min(), pool_out.max())"
   ]
  },
  {
   "cell_type": "code",
   "execution_count": 31,
   "id": "2f6bac30-ce05-4a92-934d-2509e14e48c5",
   "metadata": {},
   "outputs": [
    {
     "data": {
      "text/plain": [
       "<matplotlib.image.AxesImage at 0x7f15a6012b50>"
      ]
     },
     "execution_count": 31,
     "metadata": {},
     "output_type": "execute_result"
    },
    {
     "data": {
      "image/png": "[encoded data removed]",
      "text/plain": [
       "<Figure size 432x288 with 1 Axes>"
      ]
     },
     "metadata": {
      "needs_background": "light"
     },
     "output_type": "display_data"
    }
   ],
   "source": [
    "plt.imshow(pool_out[0, :, :, 64])"
   ]
  },
  {
   "cell_type": "code",
   "execution_count": 34,
   "id": "ab6329e5-9640-4e9b-a3b6-fa519c07bc3d",
   "metadata": {},
   "outputs": [
    {
     "data": {
      "text/plain": [
       "<matplotlib.image.AxesImage at 0x7f15a5ffa1c0>"
      ]
     },
     "execution_count": 34,
     "metadata": {},
     "output_type": "execute_result"
    },
    {
     "data": {
      "image/png": "[encoded data removed]",
      "text/plain": [
       "<Figure size 432x288 with 1 Axes>"
      ]
     },
     "metadata": {
      "needs_background": "light"
     },
     "output_type": "display_data"
    }
   ],
   "source": [
    "border_weight = pool_out * (1 - mask_tensor)\n",
    "plt.imshow(border_weight[0, :, :, 64])"
   ]
  }
 ],
 "metadata": {
  "kernelspec": {
   "display_name": "Python 3 (ipykernel)",
   "language": "python",
   "name": "python3"
  },
  "language_info": {
   "codemirror_mode": {
    "name": "ipython",
    "version": 3
   },
   "file_extension": ".py",
   "mimetype": "text/x-python",
   "name": "python",
   "nbconvert_exporter": "python",
   "pygments_lexer": "ipython3",
   "version": "3.8.10"
  }
 },
 "nbformat": 4,
 "nbformat_minor": 5
}
