{
 "cells": [
  {
   "cell_type": "code",
   "execution_count": 5,
   "id": "a1398fb2-3201-4d2c-940d-2df461788e77",
   "metadata": {},
   "outputs": [],
   "source": [
    "import os\n",
    "import glob\n",
    "import numpy as np\n",
    "\n",
    "from tqdm import tqdm"
   ]
  },
  {
   "cell_type": "code",
   "execution_count": 2,
   "id": "3a21a61c-a832-48db-a1f3-8e44487749b0",
   "metadata": {},
   "outputs": [],
   "source": [
    "DATA_DIR = \"/root/autodl-tmp/cervical_spine/\"\n",
    "SEG_DIR = os.path.join(DATA_DIR, 'segmentations_npy')"
   ]
  },
  {
   "cell_type": "code",
   "execution_count": 6,
   "id": "972dad0b-1903-4305-89d1-96fdc7b755a2",
   "metadata": {},
   "outputs": [
    {
     "name": "stderr",
     "output_type": "stream",
     "text": [
      "100%|██████████| 87/87 [07:43<00:00,  5.33s/it]\n"
     ]
    }
   ],
   "source": [
    "paths = glob.glob(SEG_DIR+ '/*.npy')\n",
    "\n",
    "for path in tqdm(paths):\n",
    "    data = np.load(path)\n",
    "    data = np.flip(data, axis=0)\n",
    "    np.save(path, data)"
   ]
  },
  {
   "cell_type": "code",
   "execution_count": null,
   "id": "b034adfc-7103-4cda-af07-9f9d385d69e1",
   "metadata": {},
   "outputs": [],
   "source": []
  }
 ],
 "metadata": {
  "kernelspec": {
   "display_name": "Python 3 (ipykernel)",
   "language": "python",
   "name": "python3"
  },
  "language_info": {
   "codemirror_mode": {
    "name": "ipython",
    "version": 3
   },
   "file_extension": ".py",
   "mimetype": "text/x-python",
   "name": "python",
   "nbconvert_exporter": "python",
   "pygments_lexer": "ipython3",
   "version": "3.8.10"
  }
 },
 "nbformat": 4,
 "nbformat_minor": 5
}
