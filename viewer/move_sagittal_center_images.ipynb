{
 "cells": [
  {
   "cell_type": "code",
   "execution_count": 1,
   "metadata": {
    "collapsed": true
   },
   "outputs": [],
   "source": [
    "import os\n",
    "import glob\n",
    "import pandas as pd\n",
    "from tqdm import tqdm"
   ]
  },
  {
   "cell_type": "code",
   "execution_count": 2,
   "outputs": [],
   "source": [
    "DATA_DIR = \"/Volumes/SSD9701/\"\n",
    "# DATA_DIR = \"/root/autodl-tmp/cervical_spine/\"\n",
    "SAGITTAL_IMAGES_DIR = os.path.join(DATA_DIR, 'train_sagittal_images_jpeg95')"
   ],
   "metadata": {
    "collapsed": false
   }
  },
  {
   "cell_type": "code",
   "execution_count": 3,
   "outputs": [
    {
     "data": {
      "text/plain": "     UID  sagittal_center_slice  label_scale\n0  10001                    281           32\n1  10005                    255           32\n2  10014                    261           32\n3  10016                    278           32\n4  10032                    250           32",
      "text/html": "<div>\n<style scoped>\n    .dataframe tbody tr th:only-of-type {\n        vertical-align: middle;\n    }\n\n    .dataframe tbody tr th {\n        vertical-align: top;\n    }\n\n    .dataframe thead th {\n        text-align: right;\n    }\n</style>\n<table border=\"1\" class=\"dataframe\">\n  <thead>\n    <tr style=\"text-align: right;\">\n      <th></th>\n      <th>UID</th>\n      <th>sagittal_center_slice</th>\n      <th>label_scale</th>\n    </tr>\n  </thead>\n  <tbody>\n    <tr>\n      <th>0</th>\n      <td>10001</td>\n      <td>281</td>\n      <td>32</td>\n    </tr>\n    <tr>\n      <th>1</th>\n      <td>10005</td>\n      <td>255</td>\n      <td>32</td>\n    </tr>\n    <tr>\n      <th>2</th>\n      <td>10014</td>\n      <td>261</td>\n      <td>32</td>\n    </tr>\n    <tr>\n      <th>3</th>\n      <td>10016</td>\n      <td>278</td>\n      <td>32</td>\n    </tr>\n    <tr>\n      <th>4</th>\n      <td>10032</td>\n      <td>250</td>\n      <td>32</td>\n    </tr>\n  </tbody>\n</table>\n</div>"
     },
     "execution_count": 3,
     "metadata": {},
     "output_type": "execute_result"
    }
   ],
   "source": [
    "center_df = pd.read_csv('../dataset/sagittal_center_slice.csv')\n",
    "center_df.head()"
   ],
   "metadata": {
    "collapsed": false
   }
  },
  {
   "cell_type": "code",
   "execution_count": 5,
   "outputs": [],
   "source": [
    "UID = 10005\n",
    "center_slice = 255\n",
    "file_path = os.path.join(SAGITTAL_IMAGES_DIR, \"1.2.826.0.1.3680043.\" + str(UID), f\"{str(center_slice)}.jpeg\")\n",
    "target_path = f\"../dataset/sagittal_center/{UID}-{str(center_slice)}.jpeg\"\n",
    "!cp $file_path $target_path"
   ],
   "metadata": {
    "collapsed": false
   }
  },
  {
   "cell_type": "code",
   "execution_count": null,
   "outputs": [],
   "source": [
    "train_df = pd.read_csv(os.path.join(DATA_DIR, 'train.csv'))\n",
    "train_df.head()"
   ],
   "metadata": {
    "collapsed": false
   }
  },
  {
   "cell_type": "code",
   "execution_count": null,
   "outputs": [],
   "source": [
    "c2_df = train_df[train_df.C2 == 1]\n",
    "c2_df.head()"
   ],
   "metadata": {
    "collapsed": false
   }
  },
  {
   "cell_type": "code",
   "execution_count": null,
   "outputs": [],
   "source": [],
   "metadata": {
    "collapsed": false
   }
  },
  {
   "cell_type": "code",
   "execution_count": null,
   "outputs": [],
   "source": [
    "train_df[\"UID\"] = train_df[\"StudyInstanceUID\"].split(\".\")[-1]\n",
    "train_df.head()"
   ],
   "metadata": {
    "collapsed": false
   }
  },
  {
   "cell_type": "code",
   "execution_count": 6,
   "outputs": [
    {
     "name": "stderr",
     "output_type": "stream",
     "text": [
      "100%|██████████| 2011/2011 [04:13<00:00,  7.93it/s]\n"
     ]
    }
   ],
   "source": [
    "for i in tqdm(range(len(center_df))):\n",
    "    s = center_df.iloc[i]\n",
    "    UID = s.UID\n",
    "    center_slice = s.sagittal_center_slice\n",
    "    file_path = os.path.join(SAGITTAL_IMAGES_DIR, \"1.2.826.0.1.3680043.\" + str(UID), f\"{center_slice}.jpeg\")\n",
    "    target_path = f\"../dataset/sagittal_center/{UID}-{center_slice}.jpeg\"\n",
    "    !cp $file_path $target_path"
   ],
   "metadata": {
    "collapsed": false
   }
  }
 ],
 "metadata": {
  "kernelspec": {
   "display_name": "Python 3",
   "language": "python",
   "name": "python3"
  },
  "language_info": {
   "codemirror_mode": {
    "name": "ipython",
    "version": 2
   },
   "file_extension": ".py",
   "mimetype": "text/x-python",
   "name": "python",
   "nbconvert_exporter": "python",
   "pygments_lexer": "ipython2",
   "version": "2.7.6"
  }
 },
 "nbformat": 4,
 "nbformat_minor": 0
}
