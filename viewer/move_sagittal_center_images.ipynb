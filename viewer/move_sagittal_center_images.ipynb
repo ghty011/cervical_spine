{
 "cells": [
  {
   "cell_type": "code",
   "execution_count": 1,
   "metadata": {
    "collapsed": true
   },
   "outputs": [],
   "source": [
    "import os\n",
    "import glob\n",
    "import pandas as pd\n",
    "from tqdm import tqdm"
   ]
  },
  {
   "cell_type": "code",
   "execution_count": 2,
   "outputs": [],
   "source": [
    "DATA_DIR = \"/Volumes/SSD9701/\"\n",
    "# DATA_DIR = \"/root/autodl-tmp/cervical_spine/\"\n",
    "SAGITTAL_IMAGES_DIR = os.path.join(DATA_DIR, 'train_sagittal_images_jpeg95')"
   ],
   "metadata": {
    "collapsed": false
   }
  },
  {
   "cell_type": "code",
   "execution_count": 3,
   "outputs": [
    {
     "name": "stdout",
     "output_type": "stream",
     "text": [
      "2011\n"
     ]
    },
    {
     "data": {
      "text/plain": "                           sagittal_center_slice  label_scale\nUID                                                          \n1.2.826.0.1.3680043.10001                    281           32\n1.2.826.0.1.3680043.10005                    255           32\n1.2.826.0.1.3680043.10014                    261           32\n1.2.826.0.1.3680043.10016                    278           32\n1.2.826.0.1.3680043.10032                    250           32",
      "text/html": "<div>\n<style scoped>\n    .dataframe tbody tr th:only-of-type {\n        vertical-align: middle;\n    }\n\n    .dataframe tbody tr th {\n        vertical-align: top;\n    }\n\n    .dataframe thead th {\n        text-align: right;\n    }\n</style>\n<table border=\"1\" class=\"dataframe\">\n  <thead>\n    <tr style=\"text-align: right;\">\n      <th></th>\n      <th>sagittal_center_slice</th>\n      <th>label_scale</th>\n    </tr>\n    <tr>\n      <th>UID</th>\n      <th></th>\n      <th></th>\n    </tr>\n  </thead>\n  <tbody>\n    <tr>\n      <th>1.2.826.0.1.3680043.10001</th>\n      <td>281</td>\n      <td>32</td>\n    </tr>\n    <tr>\n      <th>1.2.826.0.1.3680043.10005</th>\n      <td>255</td>\n      <td>32</td>\n    </tr>\n    <tr>\n      <th>1.2.826.0.1.3680043.10014</th>\n      <td>261</td>\n      <td>32</td>\n    </tr>\n    <tr>\n      <th>1.2.826.0.1.3680043.10016</th>\n      <td>278</td>\n      <td>32</td>\n    </tr>\n    <tr>\n      <th>1.2.826.0.1.3680043.10032</th>\n      <td>250</td>\n      <td>32</td>\n    </tr>\n  </tbody>\n</table>\n</div>"
     },
     "execution_count": 3,
     "metadata": {},
     "output_type": "execute_result"
    }
   ],
   "source": [
    "center_df = pd.read_csv(os.path.join(DATA_DIR, 'sagittal_center_slice.csv'))\n",
    "center_df = center_df.astype({'UID':'string'})\n",
    "for i in range(len(center_df)):\n",
    "    center_df.at[i, \"UID\"] = f\"1.2.826.0.1.3680043.{center_df.iloc[i].UID}\"\n",
    "\n",
    "center_df = center_df.set_index('UID')\n",
    "print(len(center_df))\n",
    "center_df.head()"
   ],
   "metadata": {
    "collapsed": false
   }
  },
  {
   "cell_type": "code",
   "execution_count": 4,
   "outputs": [],
   "source": [
    "# UID = 10005\n",
    "# center_slice = 255\n",
    "# file_path = os.path.join(SAGITTAL_IMAGES_DIR, \"1.2.826.0.1.3680043.\" + str(UID), f\"{str(center_slice)}.jpeg\")\n",
    "# target_path = f\"../dataset/sagittal_center/{UID}-{str(center_slice)}.jpeg\"\n",
    "# !cp $file_path $target_path"
   ],
   "metadata": {
    "collapsed": false
   }
  },
  {
   "cell_type": "code",
   "execution_count": 5,
   "outputs": [
    {
     "name": "stdout",
     "output_type": "stream",
     "text": [
      "2011\n"
     ]
    },
    {
     "data": {
      "text/plain": "                                    StudyInstanceUID  patient_overall  C1  C2  \\\nUID                                                                             \n1.2.826.0.1.3680043.10001  1.2.826.0.1.3680043.10001                0   0   0   \n1.2.826.0.1.3680043.10005  1.2.826.0.1.3680043.10005                0   0   0   \n1.2.826.0.1.3680043.10014  1.2.826.0.1.3680043.10014                0   0   0   \n1.2.826.0.1.3680043.10016  1.2.826.0.1.3680043.10016                1   0   1   \n1.2.826.0.1.3680043.10032  1.2.826.0.1.3680043.10032                0   0   0   \n\n                           C3  C4  C5  C6  C7  \nUID                                            \n1.2.826.0.1.3680043.10001   0   0   0   0   0  \n1.2.826.0.1.3680043.10005   0   0   0   0   0  \n1.2.826.0.1.3680043.10014   0   0   0   0   0  \n1.2.826.0.1.3680043.10016   0   0   0   0   0  \n1.2.826.0.1.3680043.10032   0   0   0   0   0  ",
      "text/html": "<div>\n<style scoped>\n    .dataframe tbody tr th:only-of-type {\n        vertical-align: middle;\n    }\n\n    .dataframe tbody tr th {\n        vertical-align: top;\n    }\n\n    .dataframe thead th {\n        text-align: right;\n    }\n</style>\n<table border=\"1\" class=\"dataframe\">\n  <thead>\n    <tr style=\"text-align: right;\">\n      <th></th>\n      <th>StudyInstanceUID</th>\n      <th>patient_overall</th>\n      <th>C1</th>\n      <th>C2</th>\n      <th>C3</th>\n      <th>C4</th>\n      <th>C5</th>\n      <th>C6</th>\n      <th>C7</th>\n    </tr>\n    <tr>\n      <th>UID</th>\n      <th></th>\n      <th></th>\n      <th></th>\n      <th></th>\n      <th></th>\n      <th></th>\n      <th></th>\n      <th></th>\n      <th></th>\n    </tr>\n  </thead>\n  <tbody>\n    <tr>\n      <th>1.2.826.0.1.3680043.10001</th>\n      <td>1.2.826.0.1.3680043.10001</td>\n      <td>0</td>\n      <td>0</td>\n      <td>0</td>\n      <td>0</td>\n      <td>0</td>\n      <td>0</td>\n      <td>0</td>\n      <td>0</td>\n    </tr>\n    <tr>\n      <th>1.2.826.0.1.3680043.10005</th>\n      <td>1.2.826.0.1.3680043.10005</td>\n      <td>0</td>\n      <td>0</td>\n      <td>0</td>\n      <td>0</td>\n      <td>0</td>\n      <td>0</td>\n      <td>0</td>\n      <td>0</td>\n    </tr>\n    <tr>\n      <th>1.2.826.0.1.3680043.10014</th>\n      <td>1.2.826.0.1.3680043.10014</td>\n      <td>0</td>\n      <td>0</td>\n      <td>0</td>\n      <td>0</td>\n      <td>0</td>\n      <td>0</td>\n      <td>0</td>\n      <td>0</td>\n    </tr>\n    <tr>\n      <th>1.2.826.0.1.3680043.10016</th>\n      <td>1.2.826.0.1.3680043.10016</td>\n      <td>1</td>\n      <td>0</td>\n      <td>1</td>\n      <td>0</td>\n      <td>0</td>\n      <td>0</td>\n      <td>0</td>\n      <td>0</td>\n    </tr>\n    <tr>\n      <th>1.2.826.0.1.3680043.10032</th>\n      <td>1.2.826.0.1.3680043.10032</td>\n      <td>0</td>\n      <td>0</td>\n      <td>0</td>\n      <td>0</td>\n      <td>0</td>\n      <td>0</td>\n      <td>0</td>\n      <td>0</td>\n    </tr>\n  </tbody>\n</table>\n</div>"
     },
     "execution_count": 5,
     "metadata": {},
     "output_type": "execute_result"
    }
   ],
   "source": [
    "train_df = pd.read_csv(os.path.join(DATA_DIR, 'train.csv'))\n",
    "train_df[\"UID\"] = train_df[\"StudyInstanceUID\"]\n",
    "train_df = train_df.set_index('UID')\n",
    "train_df = train_df.loc[center_df.index]\n",
    "print(len(train_df))\n",
    "train_df.head()"
   ],
   "metadata": {
    "collapsed": false
   }
  },
  {
   "cell_type": "code",
   "execution_count": 6,
   "outputs": [
    {
     "data": {
      "text/plain": "                                    StudyInstanceUID  patient_overall  C1  C2  \\\nUID                                                                             \n1.2.826.0.1.3680043.10016  1.2.826.0.1.3680043.10016                1   0   1   \n1.2.826.0.1.3680043.10204  1.2.826.0.1.3680043.10204                1   1   1   \n1.2.826.0.1.3680043.10261  1.2.826.0.1.3680043.10261                1   1   1   \n1.2.826.0.1.3680043.10443  1.2.826.0.1.3680043.10443                1   0   1   \n1.2.826.0.1.3680043.10673  1.2.826.0.1.3680043.10673                1   0   1   \n\n                           C3  C4  C5  C6  C7  \nUID                                            \n1.2.826.0.1.3680043.10016   0   0   0   0   0  \n1.2.826.0.1.3680043.10204   0   0   0   0   0  \n1.2.826.0.1.3680043.10261   0   0   0   0   0  \n1.2.826.0.1.3680043.10443   0   0   0   0   0  \n1.2.826.0.1.3680043.10673   0   0   0   0   0  ",
      "text/html": "<div>\n<style scoped>\n    .dataframe tbody tr th:only-of-type {\n        vertical-align: middle;\n    }\n\n    .dataframe tbody tr th {\n        vertical-align: top;\n    }\n\n    .dataframe thead th {\n        text-align: right;\n    }\n</style>\n<table border=\"1\" class=\"dataframe\">\n  <thead>\n    <tr style=\"text-align: right;\">\n      <th></th>\n      <th>StudyInstanceUID</th>\n      <th>patient_overall</th>\n      <th>C1</th>\n      <th>C2</th>\n      <th>C3</th>\n      <th>C4</th>\n      <th>C5</th>\n      <th>C6</th>\n      <th>C7</th>\n    </tr>\n    <tr>\n      <th>UID</th>\n      <th></th>\n      <th></th>\n      <th></th>\n      <th></th>\n      <th></th>\n      <th></th>\n      <th></th>\n      <th></th>\n      <th></th>\n    </tr>\n  </thead>\n  <tbody>\n    <tr>\n      <th>1.2.826.0.1.3680043.10016</th>\n      <td>1.2.826.0.1.3680043.10016</td>\n      <td>1</td>\n      <td>0</td>\n      <td>1</td>\n      <td>0</td>\n      <td>0</td>\n      <td>0</td>\n      <td>0</td>\n      <td>0</td>\n    </tr>\n    <tr>\n      <th>1.2.826.0.1.3680043.10204</th>\n      <td>1.2.826.0.1.3680043.10204</td>\n      <td>1</td>\n      <td>1</td>\n      <td>1</td>\n      <td>0</td>\n      <td>0</td>\n      <td>0</td>\n      <td>0</td>\n      <td>0</td>\n    </tr>\n    <tr>\n      <th>1.2.826.0.1.3680043.10261</th>\n      <td>1.2.826.0.1.3680043.10261</td>\n      <td>1</td>\n      <td>1</td>\n      <td>1</td>\n      <td>0</td>\n      <td>0</td>\n      <td>0</td>\n      <td>0</td>\n      <td>0</td>\n    </tr>\n    <tr>\n      <th>1.2.826.0.1.3680043.10443</th>\n      <td>1.2.826.0.1.3680043.10443</td>\n      <td>1</td>\n      <td>0</td>\n      <td>1</td>\n      <td>0</td>\n      <td>0</td>\n      <td>0</td>\n      <td>0</td>\n      <td>0</td>\n    </tr>\n    <tr>\n      <th>1.2.826.0.1.3680043.10673</th>\n      <td>1.2.826.0.1.3680043.10673</td>\n      <td>1</td>\n      <td>0</td>\n      <td>1</td>\n      <td>0</td>\n      <td>0</td>\n      <td>0</td>\n      <td>0</td>\n      <td>0</td>\n    </tr>\n  </tbody>\n</table>\n</div>"
     },
     "execution_count": 6,
     "metadata": {},
     "output_type": "execute_result"
    }
   ],
   "source": [
    "c2_df = train_df[train_df.C2 == 1]\n",
    "c2_df.head()"
   ],
   "metadata": {
    "collapsed": false
   }
  },
  {
   "cell_type": "code",
   "execution_count": 7,
   "outputs": [
    {
     "name": "stdout",
     "output_type": "stream",
     "text": [
      "281\n"
     ]
    },
    {
     "data": {
      "text/plain": "                           sagittal_center_slice  label_scale\nUID                                                          \n1.2.826.0.1.3680043.10016                    278           32\n1.2.826.0.1.3680043.10204                    236           32\n1.2.826.0.1.3680043.10261                    254           32\n1.2.826.0.1.3680043.10443                    252           32\n1.2.826.0.1.3680043.10673                    231           32",
      "text/html": "<div>\n<style scoped>\n    .dataframe tbody tr th:only-of-type {\n        vertical-align: middle;\n    }\n\n    .dataframe tbody tr th {\n        vertical-align: top;\n    }\n\n    .dataframe thead th {\n        text-align: right;\n    }\n</style>\n<table border=\"1\" class=\"dataframe\">\n  <thead>\n    <tr style=\"text-align: right;\">\n      <th></th>\n      <th>sagittal_center_slice</th>\n      <th>label_scale</th>\n    </tr>\n    <tr>\n      <th>UID</th>\n      <th></th>\n      <th></th>\n    </tr>\n  </thead>\n  <tbody>\n    <tr>\n      <th>1.2.826.0.1.3680043.10016</th>\n      <td>278</td>\n      <td>32</td>\n    </tr>\n    <tr>\n      <th>1.2.826.0.1.3680043.10204</th>\n      <td>236</td>\n      <td>32</td>\n    </tr>\n    <tr>\n      <th>1.2.826.0.1.3680043.10261</th>\n      <td>254</td>\n      <td>32</td>\n    </tr>\n    <tr>\n      <th>1.2.826.0.1.3680043.10443</th>\n      <td>252</td>\n      <td>32</td>\n    </tr>\n    <tr>\n      <th>1.2.826.0.1.3680043.10673</th>\n      <td>231</td>\n      <td>32</td>\n    </tr>\n  </tbody>\n</table>\n</div>"
     },
     "execution_count": 7,
     "metadata": {},
     "output_type": "execute_result"
    }
   ],
   "source": [
    "df = center_df.loc[c2_df.index]\n",
    "print(len(df))\n",
    "df.head()"
   ],
   "metadata": {
    "collapsed": false
   }
  },
  {
   "cell_type": "code",
   "execution_count": 8,
   "outputs": [
    {
     "name": "stderr",
     "output_type": "stream",
     "text": [
      "100%|██████████| 281/281 [00:35<00:00,  7.86it/s]\n"
     ]
    }
   ],
   "source": [
    "for i in tqdm(range(len(df))):\n",
    "    s = df.iloc[i]\n",
    "    UID = s.name\n",
    "    center_slice = s.sagittal_center_slice\n",
    "    file_path = os.path.join(SAGITTAL_IMAGES_DIR, UID, f\"{center_slice}.jpeg\")\n",
    "    target_path = os.path.join(DATA_DIR, \"train_sagittal_images_c2_center\", f\"{UID}-{center_slice}.jpeg\")\n",
    "    !cp $file_path $target_path"
   ],
   "metadata": {
    "collapsed": false
   }
  }
 ],
 "metadata": {
  "kernelspec": {
   "display_name": "Python 3",
   "language": "python",
   "name": "python3"
  },
  "language_info": {
   "codemirror_mode": {
    "name": "ipython",
    "version": 2
   },
   "file_extension": ".py",
   "mimetype": "text/x-python",
   "name": "python",
   "nbconvert_exporter": "python",
   "pygments_lexer": "ipython2",
   "version": "2.7.6"
  }
 },
 "nbformat": 4,
 "nbformat_minor": 0
}
