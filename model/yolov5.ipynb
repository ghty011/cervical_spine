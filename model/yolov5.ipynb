{
 "cells": [
  {
   "cell_type": "code",
   "execution_count": 1,
   "metadata": {
    "collapsed": true
   },
   "outputs": [],
   "source": [
    "import torch\n"
   ]
  },
  {
   "cell_type": "code",
   "execution_count": 2,
   "outputs": [
    {
     "name": "stderr",
     "output_type": "stream",
     "text": [
      "/Users/longyikim/anaconda3/envs/pytorch/lib/python3.9/site-packages/torch/hub.py:266: UserWarning: You are about to download and run code from an untrusted repository. In a future release, this won't be allowed. To add the repository to your trusted list, change the command to {calling_fn}(..., trust_repo=False) and a command prompt will appear asking for an explicit confirmation of trust, or load(..., trust_repo=True), which will assume that the prompt is to be answered with 'yes'. You can also use load(..., trust_repo='check') which will only prompt for confirmation if the repo is not already trusted. This will eventually be the default behaviour\n",
      "  warnings.warn(\n",
      "Downloading: \"https://github.com/ultralytics/yolov5/zipball/master\" to /Users/longyikim/.cache/torch/hub/master.zip\n",
      "/Users/longyikim/anaconda3/envs/pytorch/lib/python3.9/site-packages/scipy/__init__.py:146: UserWarning: A NumPy version >=1.16.5 and <1.23.0 is required for this version of SciPy (detected version 1.23.2\n",
      "  warnings.warn(f\"A NumPy version >={np_minversion} and <{np_maxversion}\"\n",
      "\u001B[31m\u001B[1mrequirements:\u001B[0m YOLOv5 requirements \"scipy>=1.4.1\" \"tqdm>=4.64.0\" \"seaborn>=0.11.0\" not found, attempting AutoUpdate...\n",
      "Requirement already satisfied: scipy>=1.4.1 in /Users/longyikim/anaconda3/envs/pytorch/lib/python3.9/site-packages (1.7.3)\n",
      "Collecting tqdm>=4.64.0\n",
      "  Downloading tqdm-4.64.1-py2.py3-none-any.whl (78 kB)\n",
      "Requirement already satisfied: seaborn>=0.11.0 in /Users/longyikim/anaconda3/envs/pytorch/lib/python3.9/site-packages (0.11.2)\n",
      "Collecting numpy<1.23.0,>=1.16.5\n",
      "  Downloading numpy-1.22.4-cp39-cp39-macosx_10_15_x86_64.whl (17.7 MB)\n",
      "Requirement already satisfied: pandas>=0.23 in /Users/longyikim/anaconda3/envs/pytorch/lib/python3.9/site-packages (from seaborn>=0.11.0) (1.3.5)\n",
      "Requirement already satisfied: matplotlib>=2.2 in /Users/longyikim/anaconda3/envs/pytorch/lib/python3.9/site-packages (from seaborn>=0.11.0) (3.5.1)\n",
      "Requirement already satisfied: kiwisolver>=1.0.1 in /Users/longyikim/anaconda3/envs/pytorch/lib/python3.9/site-packages (from matplotlib>=2.2->seaborn>=0.11.0) (1.3.2)\n",
      "Requirement already satisfied: packaging>=20.0 in /Users/longyikim/anaconda3/envs/pytorch/lib/python3.9/site-packages (from matplotlib>=2.2->seaborn>=0.11.0) (21.3)\n",
      "Requirement already satisfied: pillow>=6.2.0 in /Users/longyikim/anaconda3/envs/pytorch/lib/python3.9/site-packages (from matplotlib>=2.2->seaborn>=0.11.0) (8.4.0)\n",
      "Requirement already satisfied: cycler>=0.10 in /Users/longyikim/anaconda3/envs/pytorch/lib/python3.9/site-packages (from matplotlib>=2.2->seaborn>=0.11.0) (0.11.0)\n",
      "Requirement already satisfied: fonttools>=4.22.0 in /Users/longyikim/anaconda3/envs/pytorch/lib/python3.9/site-packages (from matplotlib>=2.2->seaborn>=0.11.0) (4.29.1)\n",
      "Requirement already satisfied: python-dateutil>=2.7 in /Users/longyikim/anaconda3/envs/pytorch/lib/python3.9/site-packages (from matplotlib>=2.2->seaborn>=0.11.0) (2.8.2)\n",
      "Requirement already satisfied: pyparsing>=2.2.1 in /Users/longyikim/anaconda3/envs/pytorch/lib/python3.9/site-packages (from matplotlib>=2.2->seaborn>=0.11.0) (3.0.4)\n",
      "Requirement already satisfied: pytz>=2017.3 in /Users/longyikim/anaconda3/envs/pytorch/lib/python3.9/site-packages (from pandas>=0.23->seaborn>=0.11.0) (2021.3)\n",
      "Requirement already satisfied: six>=1.5 in /Users/longyikim/anaconda3/envs/pytorch/lib/python3.9/site-packages (from python-dateutil>=2.7->matplotlib>=2.2->seaborn>=0.11.0) (1.16.0)\n",
      "Installing collected packages: numpy, tqdm\n",
      "  Attempting uninstall: numpy\n",
      "    Found existing installation: numpy 1.23.2\n",
      "    Uninstalling numpy-1.23.2:\n",
      "      Successfully uninstalled numpy-1.23.2\n",
      "  Attempting uninstall: tqdm\n",
      "    Found existing installation: tqdm 4.62.3\n",
      "    Uninstalling tqdm-4.62.3:\n",
      "      Successfully uninstalled tqdm-4.62.3\n",
      "Successfully installed numpy-1.22.4 tqdm-4.64.1\n",
      "\n",
      "\u001B[31m\u001B[1mrequirements:\u001B[0m 3 packages updated per /Users/longyikim/.cache/torch/hub/ultralytics_yolov5_master/requirements.txt\n",
      "\u001B[31m\u001B[1mrequirements:\u001B[0m ⚠️ \u001B[1mRestart runtime or rerun command for updates to take effect\u001B[0m\n",
      "\n",
      "YOLOv5 🚀 2022-10-3 Python-3.9.7 torch-1.12.1 CPU\n",
      "\n",
      "Downloading https://github.com/ultralytics/yolov5/releases/download/v6.2/yolov5s.pt to yolov5s.pt...\n"
     ]
    },
    {
     "data": {
      "text/plain": "  0%|          | 0.00/14.1M [00:00<?, ?B/s]",
      "application/vnd.jupyter.widget-view+json": {
       "version_major": 2,
       "version_minor": 0,
       "model_id": "4b719e2af1764cb886a640a0222e233a"
      }
     },
     "metadata": {},
     "output_type": "display_data"
    },
    {
     "name": "stderr",
     "output_type": "stream",
     "text": [
      "\n",
      "Fusing layers... \n",
      "YOLOv5s summary: 213 layers, 7225885 parameters, 0 gradients\n",
      "Adding AutoShape... \n"
     ]
    }
   ],
   "source": [
    "model = torch.hub.load('ultralytics/yolov5', 'yolov5s', pretrained=True)"
   ],
   "metadata": {
    "collapsed": false
   }
  },
  {
   "cell_type": "code",
   "execution_count": 12,
   "outputs": [
    {
     "name": "stderr",
     "output_type": "stream",
     "text": [
      "Using cache found in /Users/longyikim/.cache/torch/hub/ultralytics_yolov5_master\n",
      "\u001B[31m\u001B[1mrequirements:\u001B[0m YOLOv5 requirements \"scipy>=1.4.1\" \"tqdm>=4.64.0\" \"seaborn>=0.11.0\" not found, attempting AutoUpdate...\n",
      "Requirement already satisfied: scipy>=1.4.1 in /Users/longyikim/anaconda3/envs/pytorch/lib/python3.9/site-packages (1.7.3)\n",
      "Requirement already satisfied: tqdm>=4.64.0 in /Users/longyikim/anaconda3/envs/pytorch/lib/python3.9/site-packages (4.64.1)\n",
      "Requirement already satisfied: seaborn>=0.11.0 in /Users/longyikim/anaconda3/envs/pytorch/lib/python3.9/site-packages (0.11.2)\n",
      "Requirement already satisfied: numpy<1.23.0,>=1.16.5 in /Users/longyikim/anaconda3/envs/pytorch/lib/python3.9/site-packages (from scipy>=1.4.1) (1.22.4)\n",
      "Requirement already satisfied: matplotlib>=2.2 in /Users/longyikim/anaconda3/envs/pytorch/lib/python3.9/site-packages (from seaborn>=0.11.0) (3.5.1)\n",
      "Requirement already satisfied: pandas>=0.23 in /Users/longyikim/anaconda3/envs/pytorch/lib/python3.9/site-packages (from seaborn>=0.11.0) (1.3.5)\n",
      "Requirement already satisfied: pyparsing>=2.2.1 in /Users/longyikim/anaconda3/envs/pytorch/lib/python3.9/site-packages (from matplotlib>=2.2->seaborn>=0.11.0) (3.0.4)\n",
      "Requirement already satisfied: pillow>=6.2.0 in /Users/longyikim/anaconda3/envs/pytorch/lib/python3.9/site-packages (from matplotlib>=2.2->seaborn>=0.11.0) (8.4.0)\n",
      "Requirement already satisfied: fonttools>=4.22.0 in /Users/longyikim/anaconda3/envs/pytorch/lib/python3.9/site-packages (from matplotlib>=2.2->seaborn>=0.11.0) (4.29.1)\n",
      "Requirement already satisfied: python-dateutil>=2.7 in /Users/longyikim/anaconda3/envs/pytorch/lib/python3.9/site-packages (from matplotlib>=2.2->seaborn>=0.11.0) (2.8.2)\n",
      "Requirement already satisfied: kiwisolver>=1.0.1 in /Users/longyikim/anaconda3/envs/pytorch/lib/python3.9/site-packages (from matplotlib>=2.2->seaborn>=0.11.0) (1.3.2)\n",
      "Requirement already satisfied: packaging>=20.0 in /Users/longyikim/anaconda3/envs/pytorch/lib/python3.9/site-packages (from matplotlib>=2.2->seaborn>=0.11.0) (21.3)\n",
      "Requirement already satisfied: cycler>=0.10 in /Users/longyikim/anaconda3/envs/pytorch/lib/python3.9/site-packages (from matplotlib>=2.2->seaborn>=0.11.0) (0.11.0)\n",
      "Requirement already satisfied: pytz>=2017.3 in /Users/longyikim/anaconda3/envs/pytorch/lib/python3.9/site-packages (from pandas>=0.23->seaborn>=0.11.0) (2021.3)\n",
      "Requirement already satisfied: six>=1.5 in /Users/longyikim/anaconda3/envs/pytorch/lib/python3.9/site-packages (from python-dateutil>=2.7->matplotlib>=2.2->seaborn>=0.11.0) (1.16.0)\n",
      "\n",
      "\u001B[31m\u001B[1mrequirements:\u001B[0m 3 packages updated per /Users/longyikim/.cache/torch/hub/ultralytics_yolov5_master/requirements.txt\n",
      "\u001B[31m\u001B[1mrequirements:\u001B[0m ⚠️ \u001B[1mRestart runtime or rerun command for updates to take effect\u001B[0m\n",
      "\n",
      "YOLOv5 🚀 2022-10-3 Python-3.9.7 torch-1.12.1 CPU\n",
      "\n",
      "Overriding model.yaml nc=80 with nc=1\n",
      "\n",
      "                 from  n    params  module                                  arguments                     \n",
      "  0                -1  1      3520  models.common.Conv                      [3, 32, 6, 2, 2]              \n",
      "  1                -1  1     18560  models.common.Conv                      [32, 64, 3, 2]                \n",
      "  2                -1  1     18816  models.common.C3                        [64, 64, 1]                   \n",
      "  3                -1  1     73984  models.common.Conv                      [64, 128, 3, 2]               \n",
      "  4                -1  2    115712  models.common.C3                        [128, 128, 2]                 \n",
      "  5                -1  1    295424  models.common.Conv                      [128, 256, 3, 2]              \n",
      "  6                -1  3    625152  models.common.C3                        [256, 256, 3]                 \n",
      "  7                -1  1   1180672  models.common.Conv                      [256, 512, 3, 2]              \n",
      "  8                -1  1   1182720  models.common.C3                        [512, 512, 1]                 \n",
      "  9                -1  1    656896  models.common.SPPF                      [512, 512, 5]                 \n",
      " 10                -1  1    131584  models.common.Conv                      [512, 256, 1, 1]              \n",
      " 11                -1  1         0  torch.nn.modules.upsampling.Upsample    [None, 2, 'nearest']          \n",
      " 12           [-1, 6]  1         0  models.common.Concat                    [1]                           \n",
      " 13                -1  1    361984  models.common.C3                        [512, 256, 1, False]          \n",
      " 14                -1  1     33024  models.common.Conv                      [256, 128, 1, 1]              \n",
      " 15                -1  1         0  torch.nn.modules.upsampling.Upsample    [None, 2, 'nearest']          \n",
      " 16           [-1, 4]  1         0  models.common.Concat                    [1]                           \n",
      " 17                -1  1     90880  models.common.C3                        [256, 128, 1, False]          \n",
      " 18                -1  1    147712  models.common.Conv                      [128, 128, 3, 2]              \n",
      " 19          [-1, 14]  1         0  models.common.Concat                    [1]                           \n",
      " 20                -1  1    296448  models.common.C3                        [256, 256, 1, False]          \n",
      " 21                -1  1    590336  models.common.Conv                      [256, 256, 3, 2]              \n",
      " 22          [-1, 10]  1         0  models.common.Concat                    [1]                           \n",
      " 23                -1  1   1182720  models.common.C3                        [512, 512, 1, False]          \n",
      " 24      [17, 20, 23]  1     16182  models.yolo.Detect                      [1, [[10, 13, 16, 30, 33, 23], [30, 61, 62, 45, 59, 119], [116, 90, 156, 198, 373, 326]], [128, 256, 512]]\n",
      "YOLOv5s summary: 214 layers, 7022326 parameters, 7022326 gradients\n",
      "\n"
     ]
    }
   ],
   "source": [
    "model = torch.hub.load('ultralytics/yolov5', 'yolov5s', autoshape=False, pretrained=True, classes=1)"
   ],
   "metadata": {
    "collapsed": false
   }
  },
  {
   "cell_type": "code",
   "execution_count": 14,
   "outputs": [
    {
     "name": "stdout",
     "output_type": "stream",
     "text": [
      "torch.Size([2, 3, 64, 64, 6])\n",
      "torch.Size([2, 3, 32, 32, 6])\n",
      "torch.Size([2, 3, 16, 16, 6])\n"
     ]
    }
   ],
   "source": [
    "# im = 'https://ultralytics.com/images/zidane.jpg'\n",
    "im = torch.randn(2, 3, 512, 512)\n",
    "results = model(im)\n",
    "for r in results:\n",
    "    print(r.shape)\n",
    "# results.pandas().xyxy[0]"
   ],
   "metadata": {
    "collapsed": false
   }
  }
 ],
 "metadata": {
  "kernelspec": {
   "display_name": "Python 3",
   "language": "python",
   "name": "python3"
  },
  "language_info": {
   "codemirror_mode": {
    "name": "ipython",
    "version": 2
   },
   "file_extension": ".py",
   "mimetype": "text/x-python",
   "name": "python",
   "nbconvert_exporter": "python",
   "pygments_lexer": "ipython2",
   "version": "2.7.6"
  }
 },
 "nbformat": 4,
 "nbformat_minor": 0
}
