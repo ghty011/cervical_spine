{
 "cells": [
  {
   "cell_type": "code",
   "execution_count": 1,
   "metadata": {
    "collapsed": true
   },
   "outputs": [],
   "source": [
    "import os\n",
    "import glob\n",
    "import pydicom\n",
    "import nibabel as nib\n",
    "import pandas as pd\n",
    "import numpy as np\n",
    "from pydicom.pixel_data_handlers.util import apply_voi_lut\n",
    "import matplotlib.pyplot as plt\n",
    "import matplotlib.patches as patches\n",
    "import seaborn as sns\n",
    "\n",
    "import pylibjpeg\n",
    "from tqdm import tqdm\n",
    "\n",
    "%load_ext autoreload\n",
    "%autoreload 2\n",
    "\n",
    "import sys\n",
    "sys.path.append(\"..\")\n",
    "\n",
    "from utils.dcm_utils import *\n",
    "from utils.nii_utils import *\n",
    "from utils.train_utils import *\n",
    "\n",
    "from PIL import Image"
   ]
  },
  {
   "cell_type": "code",
   "execution_count": 2,
   "metadata": {
    "collapsed": false
   },
   "outputs": [],
   "source": [
    "import torch\n",
    "import torch.nn as nn\n",
    "import torch.nn.functional as F\n",
    "import torch.optim as optim\n",
    "from torch.utils.data import Dataset, DataLoader\n",
    "import torchvision\n",
    "from torchvision.io import read_image\n",
    "import torchvision.transforms as T\n",
    "from torchvision.transforms import Compose, ToTensor, Normalize, Resize, CenterCrop\n",
    "import torchvision.transforms.functional as TF"
   ]
  },
  {
   "cell_type": "code",
   "execution_count": 3,
   "metadata": {
    "collapsed": false
   },
   "outputs": [],
   "source": [
    "DATA_DIR = \"/media/longyi/SSD9701/\"\n",
    "TRAIN_IMAGES_DIR = os.path.join(DATA_DIR, \"train_images\")\n",
    "XRAY_IMAGES_DIR = os.path.join(DATA_DIR, \"xray_images\")\n",
    "SEG_IMAGES_DIR = os.path.join(DATA_DIR, \"segmentation_images\")"
   ]
  },
  {
   "cell_type": "markdown",
   "metadata": {
    "collapsed": false
   },
   "source": [
    "### Transform"
   ]
  },
  {
   "cell_type": "code",
   "execution_count": 4,
   "metadata": {
    "collapsed": false
   },
   "outputs": [],
   "source": [
    "class DataTransform(nn.Module):\n",
    "    def __init__(self):\n",
    "        super().__init__()\n",
    "\n",
    "        self.transform = T.Compose([\n",
    "            T.Resize(256),\n",
    "            T.RandomAutocontrast(),\n",
    "            T.ToTensor(),\n",
    "            T.Normalize(0.5, 0.5)\n",
    "        ])\n",
    "\n",
    "        self.target_transform = T.Compose([\n",
    "            T.Resize(256),\n",
    "            T.ToTensor(),\n",
    "        ])\n",
    "\n",
    "    def forward(self, x, y):\n",
    "        x = self.transform(x)\n",
    "\n",
    "        y = self.target_transform(y)\n",
    "        y = y.gt(0).float()\n",
    "\n",
    "        return x, y\n",
    "\n",
    "transform = DataTransform()"
   ]
  },
  {
   "cell_type": "code",
   "execution_count": 5,
   "metadata": {
    "collapsed": false
   },
   "outputs": [],
   "source": [
    "import torchvision.models as models\n",
    "\n",
    "\n",
    "def resnet18_gray():\n",
    "    model = models.resnet18(pretrained=True)\n",
    "    conv1_weight = model.conv1.weight\n",
    "    conv1_weight = conv1_weight.mean(dim=1).unsqueeze(1)\n",
    "\n",
    "    model.conv1 = nn.Conv2d(1, 64, kernel_size=(7, 7), stride=1, padding='same', bias=False)\n",
    "    model.conv1.weight = nn.Parameter(conv1_weight, requires_grad=True)\n",
    "\n",
    "    return model\n",
    "\n",
    "\n",
    "class DetectionModel(nn.Module):\n",
    "    def __init__(self, backbone, channels, deep=4, out_channels=64, n_features=1):\n",
    "        super().__init__()\n",
    "\n",
    "        self.backbone = backbone\n",
    "        self.deep = deep\n",
    "        self.channels = channels\n",
    "        self.out_channels = out_channels\n",
    "        self.n_features = n_features\n",
    "\n",
    "        self.init_layers()\n",
    "\n",
    "    def init_layers(self):\n",
    "        self.parallel_modules = self.make_parallel_modules()\n",
    "        self.upsampling_modules = self.make_upsampling_modules()\n",
    "\n",
    "        self.downsampling_modules = self.make_downsampling_modules()\n",
    "        self.classification_modules = self.make_classification_modules()\n",
    "\n",
    "    def make_classification_modules(self):\n",
    "        # the last layer\n",
    "        return nn.Sequential(\n",
    "            nn.Conv2d(self.out_channels, self.n_features, kernel_size=1),\n",
    "            #             nn.AdaptiveMaxPool2d(output_size=(None, 1))\n",
    "        )\n",
    "\n",
    "    def make_parallel_modules(self):\n",
    "        parallel_modules = nn.ModuleList()\n",
    "\n",
    "        for i in range(self.deep):\n",
    "            module = nn.Conv2d(self.channels[i], self.channels[i], kernel_size=3, padding='same')\n",
    "            parallel_modules.append(module)\n",
    "\n",
    "        return parallel_modules\n",
    "\n",
    "    def make_downsampling_modules(self):\n",
    "        return nn.ModuleList([\n",
    "            nn.Sequential(\n",
    "                self.backbone.conv1,\n",
    "                self.backbone.bn1,\n",
    "                self.backbone.relu,\n",
    "                self.backbone.maxpool),\n",
    "            nn.Sequential(\n",
    "                self.backbone.layer1,\n",
    "                self.backbone.layer2,\n",
    "            ),\n",
    "\n",
    "            self.backbone.layer3,\n",
    "            self.backbone.layer4\n",
    "        ])\n",
    "\n",
    "    def make_upsampling_modules(self):\n",
    "        upsampling_modules = nn.ModuleList()\n",
    "\n",
    "        for i in range(self.deep):\n",
    "            module = nn.Sequential(\n",
    "                nn.ReLU(inplace=True),\n",
    "                nn.Conv2d(self.channels[i], self.channels[i - 1] if i > 0 else self.out_channels, kernel_size=1),\n",
    "                nn.ReLU(inplace=True),\n",
    "                nn.Upsample(scale_factor=2)\n",
    "            )\n",
    "            upsampling_modules.append(module)\n",
    "\n",
    "        return upsampling_modules\n",
    "\n",
    "    def forward(self, x):\n",
    "\n",
    "        downsampling_outputs = []\n",
    "        out = x\n",
    "        for module in self.downsampling_modules:\n",
    "            out = module(out)\n",
    "            downsampling_outputs.append(out)\n",
    "\n",
    "        parallel_outputs = []\n",
    "        for i in range(len(self.parallel_modules)):\n",
    "            module = self.parallel_modules[i]\n",
    "            out = module(downsampling_outputs[i])\n",
    "            parallel_outputs.append(out)\n",
    "\n",
    "        out = 0\n",
    "        for i in range(len(self.upsampling_modules)):\n",
    "            module = self.upsampling_modules[-(i + 1)]\n",
    "            parallel_output = parallel_outputs[-(i + 1)]\n",
    "\n",
    "            up_input = out + parallel_output\n",
    "            out = module(up_input)\n",
    "\n",
    "        out = self.classification_modules(out)\n",
    "\n",
    "        return out\n"
   ]
  },
  {
   "cell_type": "code",
   "execution_count": 6,
   "metadata": {
    "collapsed": false
   },
   "outputs": [],
   "source": [
    "device = 'cuda' if torch.cuda.is_available() else 'cpu'"
   ]
  },
  {
   "cell_type": "code",
   "execution_count": 7,
   "metadata": {
    "collapsed": false
   },
   "outputs": [
    {
     "data": {
      "text/plain": [
       "14994345"
      ]
     },
     "execution_count": 7,
     "metadata": {},
     "output_type": "execute_result"
    }
   ],
   "source": [
    "backbone = resnet18_gray()\n",
    "model = DetectionModel(backbone, channels=[64, 128, 256, 512], out_channels=64, n_features=1).to(device)\n",
    "\n",
    "total_params = sum(p.numel() for p in model.parameters() if p.requires_grad)\n",
    "total_params"
   ]
  },
  {
   "cell_type": "code",
   "execution_count": 8,
   "metadata": {
    "collapsed": false
   },
   "outputs": [
    {
     "data": {
      "text/plain": [
       "<All keys matched successfully>"
      ]
     },
     "execution_count": 8,
     "metadata": {},
     "output_type": "execute_result"
    }
   ],
   "source": [
    "model.load_state_dict(torch.load('../train/checkpoint/brief_segmentation_detection_231937.pth'))"
   ]
  },
  {
   "cell_type": "code",
   "execution_count": null,
   "metadata": {
    "collapsed": false
   },
   "outputs": [],
   "source": [
    "header = [\n",
    "    'UID', 'slice',\n",
    "    'x0','x1','y0','y1'\n",
    "]\n",
    "# f = open('tmp_','w',newline='')\n",
    "# writer = csv.writer(f)\n",
    "# writer.writerow(header)"
   ]
  },
  {
   "cell_type": "code",
   "execution_count": null,
   "metadata": {
    "collapsed": false
   },
   "outputs": [],
   "source": [
    "def write_row(pred, slice, UID):\n",
    "    nonzero = pred.cpu().squeeze().nonzero()\n",
    "    min_values, _ = nonzero.min(dim=0)\n",
    "    max_values, _ = nonzero.max(dim=0)\n",
    "\n",
    "    min_row, min_column = min_values[0], min_values[1]\n",
    "    max_row, max_column = max_values[0], max_values[1]\n",
    "\n"
   ]
  },
  {
   "cell_type": "code",
   "execution_count": 70,
   "metadata": {
    "collapsed": false
   },
   "outputs": [
    {
     "name": "stdout",
     "output_type": "stream",
     "text": [
      "total slices 241\n"
     ]
    },
    {
     "name": "stderr",
     "output_type": "stream",
     "text": [
      "100%|██████████| 241/241 [00:01<00:00, 161.32it/s]\n"
     ]
    },
    {
     "data": {
      "text/plain": [
       "array([[169.84210205, 194.47367859],\n",
       "       [165.        , 185.        ],\n",
       "       [  0.        ,   0.        ],\n",
       "       [  0.        ,   0.        ],\n",
       "       [  0.        ,   0.        ],\n",
       "       [  0.        ,   0.        ],\n",
       "       [  0.        ,   0.        ],\n",
       "       [  0.        ,   0.        ],\n",
       "       [  0.        ,   0.        ],\n",
       "       [  0.        ,   0.        ],\n",
       "       [  0.        ,   0.        ],\n",
       "       [  0.        ,   0.        ],\n",
       "       [  0.        ,   0.        ],\n",
       "       [  0.        ,   0.        ],\n",
       "       [  0.        ,   0.        ],\n",
       "       [  0.        ,   0.        ],\n",
       "       [  0.        ,   0.        ],\n",
       "       [  0.        ,   0.        ],\n",
       "       [  0.        ,   0.        ],\n",
       "       [  0.        ,   0.        ],\n",
       "       [  0.        ,   0.        ],\n",
       "       [  0.        ,   0.        ],\n",
       "       [  0.        ,   0.        ],\n",
       "       [  0.        ,   0.        ],\n",
       "       [  0.        ,   0.        ],\n",
       "       [  0.        ,   0.        ],\n",
       "       [  0.        ,   0.        ],\n",
       "       [  0.        ,   0.        ],\n",
       "       [  0.        ,   0.        ],\n",
       "       [  0.        ,   0.        ],\n",
       "       [  0.        ,   0.        ],\n",
       "       [  0.        ,   0.        ],\n",
       "       [  0.        ,   0.        ],\n",
       "       [  0.        ,   0.        ],\n",
       "       [  0.        ,   0.        ],\n",
       "       [  0.        ,   0.        ],\n",
       "       [  0.        ,   0.        ],\n",
       "       [  0.        ,   0.        ],\n",
       "       [  0.        ,   0.        ],\n",
       "       [  0.        ,   0.        ],\n",
       "       [  0.        ,   0.        ],\n",
       "       [  0.        ,   0.        ],\n",
       "       [  0.        ,   0.        ],\n",
       "       [  0.        ,   0.        ],\n",
       "       [  0.        ,   0.        ],\n",
       "       [  0.        ,   0.        ],\n",
       "       [  0.        ,   0.        ],\n",
       "       [  0.        ,   0.        ],\n",
       "       [  0.        ,   0.        ],\n",
       "       [  0.        ,   0.        ],\n",
       "       [  0.        ,   0.        ],\n",
       "       [  0.        ,   0.        ],\n",
       "       [  0.        ,   0.        ],\n",
       "       [  0.        ,   0.        ],\n",
       "       [  0.        ,   0.        ],\n",
       "       [  0.        ,   0.        ],\n",
       "       [  0.        ,   0.        ],\n",
       "       [  0.        ,   0.        ],\n",
       "       [  0.        ,   0.        ],\n",
       "       [205.        , 273.        ],\n",
       "       [207.33332825, 272.        ],\n",
       "       [205.57142639, 266.90475464],\n",
       "       [208.        , 269.8888855 ],\n",
       "       [205.45283508, 273.07546997],\n",
       "       [209.05970764, 273.4776001 ],\n",
       "       [208.5       , 266.96154785],\n",
       "       [209.97999573, 252.33999634],\n",
       "       [210.76959229, 249.46083069],\n",
       "       [211.8117218 , 247.84518433],\n",
       "       [212.22779846, 244.16601562],\n",
       "       [212.38360596, 239.63606262],\n",
       "       [219.15383911, 239.49572754],\n",
       "       [223.37373352, 239.60606384],\n",
       "       [223.7434082 , 241.08633423],\n",
       "       [224.20535278, 243.66964722],\n",
       "       [227.29495239, 243.26261902],\n",
       "       [227.59608459, 243.76863098],\n",
       "       [227.921875  , 244.296875  ],\n",
       "       [228.56335449, 243.60429382],\n",
       "       [229.38787842, 241.69494629],\n",
       "       [230.6000061 , 238.95744324],\n",
       "       [230.84410095, 233.86413574],\n",
       "       [230.23434448, 230.35499573],\n",
       "       [229.88996887, 228.66748047],\n",
       "       [228.54872131, 226.58973694],\n",
       "       [226.93902588, 225.28048706],\n",
       "       [224.47825623, 229.53416443],\n",
       "       [217.94198608, 231.02047729],\n",
       "       [215.14736938, 232.11578369],\n",
       "       [216.80000305, 232.57142639],\n",
       "       [223.74890137, 241.33480835],\n",
       "       [223.71244812, 240.14163208],\n",
       "       [223.98712158, 239.43777466],\n",
       "       [225.71255493, 239.91497803],\n",
       "       [227.53968811, 238.98413086],\n",
       "       [230.77122498, 239.25830078],\n",
       "       [237.21656799, 239.56051636],\n",
       "       [239.48942566, 240.77038574],\n",
       "       [241.51396179, 240.49720764],\n",
       "       [242.73626709, 240.07691956],\n",
       "       [245.25274658, 239.73626709],\n",
       "       [246.36639404, 239.92010498],\n",
       "       [247.4480896 , 239.64480591],\n",
       "       [249.02285767, 238.41714478],\n",
       "       [249.86045837, 237.81394958],\n",
       "       [250.27999878, 238.27999878],\n",
       "       [251.2040863 , 238.64431763],\n",
       "       [251.92173767, 238.8666687 ],\n",
       "       [251.81355286, 238.62712097],\n",
       "       [250.92433167, 239.15135193],\n",
       "       [248.42707825, 238.875     ],\n",
       "       [246.32322693, 238.76766968],\n",
       "       [242.4155426 , 238.7694397 ],\n",
       "       [241.02139282, 238.3368988 ],\n",
       "       [240.2401123 , 238.57255554],\n",
       "       [238.42391968, 239.35868835],\n",
       "       [238.03868103, 239.49723816],\n",
       "       [237.80899048, 239.40449524],\n",
       "       [238.30659485, 239.05157471],\n",
       "       [238.8888855 , 239.83950806],\n",
       "       [239.15873718, 239.53968811],\n",
       "       [239.508255  , 239.42904663],\n",
       "       [238.75999451, 238.72000122],\n",
       "       [237.31614685, 237.97595215],\n",
       "       [236.09896851, 237.92832947],\n",
       "       [234.84191895, 238.292099  ],\n",
       "       [233.650177  , 236.95759583],\n",
       "       [230.07392883, 237.21789551],\n",
       "       [231.05714417, 237.54286194],\n",
       "       [232.34519958, 237.9964447 ],\n",
       "       [231.74919128, 237.19543457],\n",
       "       [231.24331665, 237.28486633],\n",
       "       [232.65908813, 237.4886322 ],\n",
       "       [233.28108215, 237.30270386],\n",
       "       [234.69792175, 237.69792175],\n",
       "       [235.88421631, 237.56842041],\n",
       "       [236.72117615, 238.17962646],\n",
       "       [237.95953369, 238.2947998 ],\n",
       "       [238.47879028, 239.06060791],\n",
       "       [239.61889648, 240.12702942],\n",
       "       [239.52055359, 237.82191467],\n",
       "       [238.78245544, 237.74386597],\n",
       "       [236.51373291, 238.11372375],\n",
       "       [232.00854492, 236.40170288],\n",
       "       [232.57894897, 237.17544556],\n",
       "       [236.1111145 , 236.61685181],\n",
       "       [238.03596497, 236.03596497],\n",
       "       [238.29936218, 234.97451782],\n",
       "       [240.50561523, 234.73033142],\n",
       "       [241.87728882, 234.61880493],\n",
       "       [243.48843384, 234.47044373],\n",
       "       [244.36386108, 234.77349854],\n",
       "       [244.67289734, 234.58879089],\n",
       "       [244.76147461, 235.30274963],\n",
       "       [244.96287537, 234.98608398],\n",
       "       [245.32458496, 234.18377686],\n",
       "       [245.63157654, 234.65412903],\n",
       "       [246.5806427 , 234.21505737],\n",
       "       [239.70063782, 233.72612   ],\n",
       "       [240.45645142, 233.33448792],\n",
       "       [241.29066467, 233.81660461],\n",
       "       [243.44816589, 236.13043213],\n",
       "       [245.51177979, 236.12457275],\n",
       "       [251.33430481, 235.47506714],\n",
       "       [252.51820374, 235.64425659],\n",
       "       [253.04243469, 235.42970276],\n",
       "       [255.20581055, 235.93403625],\n",
       "       [254.48628235, 236.01246643],\n",
       "       [254.31718445, 236.46731567],\n",
       "       [253.27488708, 235.81517029],\n",
       "       [251.94174194, 235.78640747],\n",
       "       [250.67463684, 235.85166931],\n",
       "       [249.04890442, 236.62835693],\n",
       "       [247.25564575, 238.20300293],\n",
       "       [248.19796753, 239.27410889],\n",
       "       [253.77958679, 237.22273254],\n",
       "       [257.22674561, 236.41043091],\n",
       "       [261.27523804, 234.42201233],\n",
       "       [265.11254883, 234.93074036],\n",
       "       [267.4833374 , 235.80833435],\n",
       "       [269.04623413, 237.80154419],\n",
       "       [270.20947266, 239.20036316],\n",
       "       [271.80627441, 238.94065857],\n",
       "       [272.2013855 , 238.45954895],\n",
       "       [273.40689087, 237.69654846],\n",
       "       [272.84793091, 237.21818542],\n",
       "       [271.09179688, 237.29507446],\n",
       "       [268.82550049, 237.04698181],\n",
       "       [268.45947266, 235.97297668],\n",
       "       [268.3059082 , 234.55992126],\n",
       "       [269.52886963, 234.81750488],\n",
       "       [271.24060059, 235.51879883],\n",
       "       [273.03860474, 236.2895813 ],\n",
       "       [276.71899414, 232.3636322 ],\n",
       "       [277.59957886, 233.64065552],\n",
       "       [280.34399414, 235.5039978 ],\n",
       "       [283.7557373 , 237.00762939],\n",
       "       [286.88748169, 237.13067627],\n",
       "       [289.58157349, 236.80851746],\n",
       "       [291.83215332, 235.46153259],\n",
       "       [294.18881226, 235.3636322 ],\n",
       "       [297.33093262, 234.82733154],\n",
       "       [298.20578003, 234.40794373],\n",
       "       [299.88598633, 233.44111633],\n",
       "       [299.75656128, 232.73033142],\n",
       "       [300.44689941, 232.28657532],\n",
       "       [298.59515381, 232.31983948],\n",
       "       [297.47698975, 232.34727478],\n",
       "       [294.55157471, 232.21076965],\n",
       "       [297.23632812, 232.29103088],\n",
       "       [299.79071045, 231.06343079],\n",
       "       [300.86721802, 230.68464661],\n",
       "       [304.83364868, 230.90098572],\n",
       "       [305.19454956, 230.57199097],\n",
       "       [305.99206543, 231.        ],\n",
       "       [307.62991333, 231.69291687],\n",
       "       [308.21737671, 231.78260803],\n",
       "       [312.5625    , 234.1953125 ],\n",
       "       [314.3465271 , 235.3049469 ],\n",
       "       [317.35726929, 234.16505432],\n",
       "       [319.93032837, 233.76835632],\n",
       "       [323.29220581, 233.82733154],\n",
       "       [326.08880615, 234.4594574 ],\n",
       "       [328.12103271, 234.41526794],\n",
       "       [331.14041138, 234.37380981],\n",
       "       [330.90188599, 234.79621887],\n",
       "       [329.96835327, 234.89944458],\n",
       "       [329.23660278, 235.91311646],\n",
       "       [327.962677  , 236.35075378],\n",
       "       [326.20825195, 236.30957031],\n",
       "       [325.45135498, 236.34629822],\n",
       "       [325.41903687, 235.35427856],\n",
       "       [326.46008301, 234.84030151],\n",
       "       [327.39544678, 234.37641907],\n",
       "       [328.18252563, 233.60317993],\n",
       "       [329.64001465, 232.70399475],\n",
       "       [330.84680176, 233.60424805],\n",
       "       [330.87036133, 235.87962341],\n",
       "       [332.03088379, 236.00238037],\n",
       "       [335.20785522, 237.73902893],\n",
       "       [340.40270996, 242.06787109]])"
      ]
     },
     "execution_count": 70,
     "metadata": {},
     "output_type": "execute_result"
    }
   ],
   "source": [
    "def inference(model, UID):\n",
    "    model.eval()\n",
    "\n",
    "    imgs, image_positions, image_orientations, pixel_spacings, slice_thicknesses, is_flip = read_patient_dcm(os.path.join(TRAIN_IMAGES_DIR, UID))\n",
    "\n",
    "    imgs = normalize_hu(imgs)\n",
    "\n",
    "    # x0, x1, y0, y1\n",
    "    # pos = np.zeros((imgs.shape[0], 4))\n",
    "    centers = np.zeros((imgs.shape[0], 2))\n",
    "    for i in tqdm(range(imgs.shape[0])):\n",
    "\n",
    "        x = Image.fromarray(np.uint8(imgs[i, :, :] * 255), 'L')\n",
    "\n",
    "        transform = T.Compose([\n",
    "            T.Resize(256),\n",
    "            T.ToTensor(),\n",
    "            T.Normalize(0.5, 0.5)\n",
    "        ])\n",
    "\n",
    "        x = transform(x).unsqueeze(0)\n",
    "\n",
    "        # x, y = torch.stack(x_list), torch.stack(y_list)\n",
    "\n",
    "        x = x.to(device)\n",
    "        logits = model(x)\n",
    "        pred = logits.sigmoid().gt(0.5).float()\n",
    "\n",
    "        nonzero = pred.cpu().squeeze().nonzero().float()\n",
    "\n",
    "        if len(nonzero) == 0:\n",
    "            continue\n",
    "        centers[i, :] = torch.mean(nonzero, dim=0)\n",
    "        # min_values, _ = nonzero.min(dim=0)\n",
    "        # max_values, _ = nonzero.max(dim=0)\n",
    "        #\n",
    "        # min_row, min_column = min_values[0], min_values[1]\n",
    "        # max_row, max_column = max_values[0], max_values[1]\n",
    "        #\n",
    "        # pos[i] = [min_column, max_column, min_row, max_row]\n",
    "        # x = x * 0.5 + 0.5\n",
    "        #\n",
    "        # combined = torch.cat((x, pred), dim=-1)\n",
    "        # torchvision.utils.save_image(combined, f\"./tmp/{i}.jpeg\")\n",
    "\n",
    "    return centers * 2\n",
    "with torch.no_grad():\n",
    "    centers = inference(model, \"1.2.826.0.1.3680043.3882\")\n",
    "centers"
   ]
  },
  {
   "cell_type": "code",
   "execution_count": 50,
   "metadata": {
    "collapsed": false
   },
   "outputs": [
    {
     "data": {
      "text/plain": [
       "array([[180., 206., 160., 182.],\n",
       "       [184., 186., 164., 166.],\n",
       "       [  0.,   0.,   0.,   0.],\n",
       "       [  0.,   0.,   0.,   0.],\n",
       "       [  0.,   0.,   0.,   0.],\n",
       "       [  0.,   0.,   0.,   0.],\n",
       "       [  0.,   0.,   0.,   0.],\n",
       "       [  0.,   0.,   0.,   0.],\n",
       "       [  0.,   0.,   0.,   0.],\n",
       "       [  0.,   0.,   0.,   0.],\n",
       "       [  0.,   0.,   0.,   0.],\n",
       "       [  0.,   0.,   0.,   0.],\n",
       "       [  0.,   0.,   0.,   0.],\n",
       "       [  0.,   0.,   0.,   0.],\n",
       "       [  0.,   0.,   0.,   0.],\n",
       "       [  0.,   0.,   0.,   0.],\n",
       "       [  0.,   0.,   0.,   0.],\n",
       "       [  0.,   0.,   0.,   0.],\n",
       "       [  0.,   0.,   0.,   0.],\n",
       "       [  0.,   0.,   0.,   0.],\n",
       "       [  0.,   0.,   0.,   0.],\n",
       "       [  0.,   0.,   0.,   0.],\n",
       "       [  0.,   0.,   0.,   0.],\n",
       "       [  0.,   0.,   0.,   0.],\n",
       "       [  0.,   0.,   0.,   0.],\n",
       "       [  0.,   0.,   0.,   0.],\n",
       "       [  0.,   0.,   0.,   0.],\n",
       "       [  0.,   0.,   0.,   0.],\n",
       "       [  0.,   0.,   0.,   0.],\n",
       "       [  0.,   0.,   0.,   0.],\n",
       "       [  0.,   0.,   0.,   0.],\n",
       "       [  0.,   0.,   0.,   0.],\n",
       "       [  0.,   0.,   0.,   0.],\n",
       "       [  0.,   0.,   0.,   0.],\n",
       "       [  0.,   0.,   0.,   0.],\n",
       "       [  0.,   0.,   0.,   0.],\n",
       "       [  0.,   0.,   0.,   0.],\n",
       "       [  0.,   0.,   0.,   0.],\n",
       "       [  0.,   0.,   0.,   0.],\n",
       "       [  0.,   0.,   0.,   0.],\n",
       "       [  0.,   0.,   0.,   0.],\n",
       "       [  0.,   0.,   0.,   0.],\n",
       "       [  0.,   0.,   0.,   0.],\n",
       "       [  0.,   0.,   0.,   0.],\n",
       "       [  0.,   0.,   0.,   0.],\n",
       "       [  0.,   0.,   0.,   0.],\n",
       "       [  0.,   0.,   0.,   0.],\n",
       "       [  0.,   0.,   0.,   0.],\n",
       "       [  0.,   0.,   0.,   0.],\n",
       "       [  0.,   0.,   0.,   0.],\n",
       "       [  0.,   0.,   0.,   0.],\n",
       "       [  0.,   0.,   0.,   0.],\n",
       "       [  0.,   0.,   0.,   0.],\n",
       "       [  0.,   0.,   0.,   0.],\n",
       "       [  0.,   0.,   0.,   0.],\n",
       "       [  0.,   0.,   0.,   0.],\n",
       "       [  0.,   0.,   0.,   0.],\n",
       "       [  0.,   0.,   0.,   0.],\n",
       "       [  0.,   0.,   0.,   0.],\n",
       "       [272., 274., 204., 206.],\n",
       "       [256., 286., 196., 222.],\n",
       "       [252., 282., 196., 222.],\n",
       "       [204., 286., 196., 222.],\n",
       "       [204., 294., 192., 222.],\n",
       "       [196., 294., 184., 238.],\n",
       "       [196., 294., 176., 242.],\n",
       "       [188., 294., 180., 250.],\n",
       "       [188., 298., 180., 250.],\n",
       "       [188., 298., 180., 254.],\n",
       "       [184., 302., 180., 250.],\n",
       "       [180., 302., 176., 250.],\n",
       "       [180., 306., 176., 286.],\n",
       "       [180., 306., 176., 286.],\n",
       "       [164., 310., 176., 286.],\n",
       "       [160., 314., 176., 282.],\n",
       "       [160., 322., 176., 286.],\n",
       "       [180., 322., 176., 286.],\n",
       "       [180., 322., 180., 286.],\n",
       "       [160., 322., 184., 286.],\n",
       "       [176., 318., 184., 290.],\n",
       "       [172., 318., 188., 290.],\n",
       "       [172., 314., 188., 290.],\n",
       "       [168., 314., 192., 290.],\n",
       "       [164., 286., 192., 286.],\n",
       "       [164., 286., 192., 278.],\n",
       "       [160., 278., 192., 274.],\n",
       "       [164., 286.,  24., 278.],\n",
       "       [164., 286.,  20., 278.],\n",
       "       [164., 286.,  24., 250.],\n",
       "       [164., 286.,  24., 250.],\n",
       "       [196., 286., 196., 250.],\n",
       "       [196., 286., 196., 254.],\n",
       "       [196., 290., 196., 254.],\n",
       "       [192., 290., 196., 262.],\n",
       "       [192., 290., 200., 262.],\n",
       "       [192., 290., 200., 274.],\n",
       "       [192., 294., 200., 286.],\n",
       "       [188., 298., 200., 294.],\n",
       "       [184., 298., 200., 298.],\n",
       "       [180., 298., 200., 302.],\n",
       "       [180., 298., 200., 302.],\n",
       "       [180., 302., 200., 306.],\n",
       "       [180., 302., 196., 306.],\n",
       "       [180., 298., 196., 306.],\n",
       "       [180., 298., 196., 306.],\n",
       "       [180., 294., 196., 306.],\n",
       "       [184., 290., 196., 306.],\n",
       "       [184., 290., 196., 306.],\n",
       "       [184., 290., 196., 306.],\n",
       "       [188., 290., 200., 306.],\n",
       "       [188., 290., 204., 306.],\n",
       "       [188., 290., 200., 306.],\n",
       "       [188., 290., 200., 306.],\n",
       "       [188., 290., 200., 306.],\n",
       "       [188., 290., 196., 306.],\n",
       "       [184., 294., 196., 306.],\n",
       "       [180., 294., 196., 302.],\n",
       "       [180., 298., 196., 290.],\n",
       "       [180., 298., 196., 290.],\n",
       "       [180., 298., 196., 290.],\n",
       "       [184., 294., 196., 290.],\n",
       "       [184., 294., 196., 290.],\n",
       "       [184., 294., 196., 294.],\n",
       "       [184., 290., 196., 282.],\n",
       "       [184., 294., 196., 282.],\n",
       "       [184., 294., 196., 278.],\n",
       "       [184., 290., 196., 278.],\n",
       "       [184., 290., 196., 262.],\n",
       "       [188., 290., 196., 270.],\n",
       "       [188., 290., 200., 270.],\n",
       "       [188., 290., 200., 274.],\n",
       "       [184., 290., 200., 278.],\n",
       "       [184., 290., 200., 282.],\n",
       "       [180., 294., 200., 286.],\n",
       "       [180., 294., 196., 290.],\n",
       "       [180., 294., 200., 290.],\n",
       "       [180., 294., 200., 290.],\n",
       "       [184., 294., 200., 290.],\n",
       "       [184., 294., 200., 290.],\n",
       "       [184., 294., 200., 290.],\n",
       "       [184., 294., 200., 286.],\n",
       "       [184., 294., 200., 286.],\n",
       "       [184., 294., 200., 286.],\n",
       "       [180., 290., 200., 278.],\n",
       "       [180., 290., 200., 266.],\n",
       "       [180., 290., 200., 274.],\n",
       "       [180., 290., 200., 278.],\n",
       "       [180., 290., 200., 290.],\n",
       "       [180., 290., 200., 306.],\n",
       "       [180., 294., 200., 310.],\n",
       "       [176., 294., 200., 310.],\n",
       "       [176., 298., 200., 310.],\n",
       "       [176., 298., 200., 310.],\n",
       "       [176., 298., 204., 310.],\n",
       "       [176., 298., 204., 306.],\n",
       "       [176., 294., 204., 306.],\n",
       "       [176., 294., 204., 306.],\n",
       "       [176., 294., 204., 306.],\n",
       "       [176., 294., 204., 278.],\n",
       "       [176., 294., 204., 282.],\n",
       "       [180., 294., 204., 286.],\n",
       "       [180., 294., 204., 290.],\n",
       "       [180., 294., 204., 294.],\n",
       "       [180., 294., 204., 322.],\n",
       "       [180., 294., 204., 322.],\n",
       "       [176., 294., 204., 322.],\n",
       "       [172., 294., 204., 326.],\n",
       "       [172., 298., 208., 326.],\n",
       "       [172., 298., 212., 326.],\n",
       "       [172., 298., 212., 322.],\n",
       "       [172., 294., 212., 322.],\n",
       "       [172., 294., 212., 318.],\n",
       "       [176., 294., 212., 306.],\n",
       "       [180., 306., 212., 298.],\n",
       "       [176., 306., 212., 310.],\n",
       "       [168., 306., 212., 334.],\n",
       "       [164., 310., 212., 342.],\n",
       "       [164., 310., 212., 342.],\n",
       "       [164., 310., 212., 346.],\n",
       "       [164., 314., 212., 346.],\n",
       "       [160., 314., 212., 350.],\n",
       "       [152., 318., 212., 350.],\n",
       "       [152., 318., 212., 350.],\n",
       "       [148., 318., 212., 350.],\n",
       "       [148., 318., 216., 346.],\n",
       "       [148., 322., 228., 346.],\n",
       "       [148., 322., 224., 342.],\n",
       "       [148., 322., 220., 326.],\n",
       "       [148., 322., 220., 318.],\n",
       "       [148., 322., 220., 318.],\n",
       "       [148., 318., 220., 326.],\n",
       "       [148., 318., 220., 330.],\n",
       "       [152., 318., 220., 330.],\n",
       "       [148., 318., 224., 338.],\n",
       "       [152., 310., 224., 342.],\n",
       "       [160., 306., 224., 346.],\n",
       "       [160., 306., 224., 366.],\n",
       "       [160., 306., 224., 370.],\n",
       "       [156., 318., 228., 374.],\n",
       "       [156., 306., 228., 374.],\n",
       "       [156., 306., 228., 374.],\n",
       "       [156., 310., 228., 374.],\n",
       "       [156., 306., 228., 374.],\n",
       "       [156., 306., 232., 370.],\n",
       "       [156., 306., 232., 370.],\n",
       "       [156., 302., 240., 366.],\n",
       "       [156., 302., 240., 358.],\n",
       "       [156., 302., 240., 350.],\n",
       "       [156., 302., 236., 338.],\n",
       "       [160., 298., 240., 350.],\n",
       "       [160., 294., 240., 370.],\n",
       "       [160., 294., 240., 370.],\n",
       "       [160., 290., 240., 398.],\n",
       "       [164., 290., 240., 398.],\n",
       "       [168., 286., 244., 398.],\n",
       "       [168., 282., 240., 402.],\n",
       "       [168., 282., 244., 402.],\n",
       "       [176., 302., 248., 406.],\n",
       "       [180., 302., 248., 406.],\n",
       "       [164., 302., 248., 406.],\n",
       "       [164., 306., 248., 406.],\n",
       "       [164., 306., 248., 410.],\n",
       "       [164., 306., 252., 410.],\n",
       "       [164., 306., 252., 410.],\n",
       "       [164., 310., 264., 410.],\n",
       "       [164., 310., 264., 410.],\n",
       "       [160., 310., 260., 410.],\n",
       "       [160., 310., 260., 406.],\n",
       "       [160., 310., 256., 398.],\n",
       "       [164., 306., 256., 394.],\n",
       "       [164., 306., 264., 378.],\n",
       "       [168., 306., 264., 378.],\n",
       "       [164., 302., 264., 386.],\n",
       "       [168., 302., 264., 394.],\n",
       "       [164., 298., 264., 394.],\n",
       "       [160., 294., 264., 398.],\n",
       "       [168., 290., 272., 402.],\n",
       "       [184., 286., 272., 406.],\n",
       "       [188., 282., 272., 410.],\n",
       "       [192., 298., 272., 414.],\n",
       "       [172., 510., 272., 446.]])"
      ]
     },
     "execution_count": 50,
     "metadata": {},
     "output_type": "execute_result"
    }
   ],
   "source": [
    "pos"
   ]
  },
  {
   "cell_type": "code",
   "execution_count": 51,
   "metadata": {
    "collapsed": false
   },
   "outputs": [
    {
     "data": {
      "text/plain": [
       "[<matplotlib.lines.Line2D at 0x7f29c034e4f0>]"
      ]
     },
     "execution_count": 51,
     "metadata": {},
     "output_type": "execute_result"
    },
    {
     "data": {
      "image/png": "[encoded data removed]",
      "text/plain": [
       "<Figure size 432x288 with 1 Axes>"
      ]
     },
     "metadata": {},
     "output_type": "display_data"
    }
   ],
   "source": [
    "x0 = pos[:, 0]\n",
    "nonzero_x0 = x0[x0 > 0]\n",
    "plt.plot(nonzero_x0)"
   ]
  },
  {
   "cell_type": "code",
   "execution_count": 52,
   "metadata": {
    "collapsed": false
   },
   "outputs": [
    {
     "data": {
      "text/plain": [
       "poly1d([-0.22348279, 68.97078968])"
      ]
     },
     "execution_count": 52,
     "metadata": {},
     "output_type": "execute_result"
    }
   ],
   "source": [
    "p = np.poly1d(z)\n",
    "p"
   ]
  },
  {
   "cell_type": "code",
   "execution_count": 54,
   "metadata": {
    "collapsed": false
   },
   "outputs": [
    {
     "data": {
      "text/plain": [
       "174.69565217391303"
      ]
     },
     "execution_count": 54,
     "metadata": {},
     "output_type": "execute_result"
    }
   ],
   "source": [
    "np.mean(nonzero_x0)"
   ]
  },
  {
   "cell_type": "code",
   "execution_count": 55,
   "metadata": {
    "collapsed": false
   },
   "outputs": [
    {
     "data": {
      "text/plain": [
       "16.91522283935698"
      ]
     },
     "execution_count": 55,
     "metadata": {},
     "output_type": "execute_result"
    }
   ],
   "source": [
    "np.std(nonzero_x0)"
   ]
  },
  {
   "cell_type": "code",
   "execution_count": 56,
   "metadata": {
    "collapsed": false
   },
   "outputs": [
    {
     "data": {
      "text/plain": [
       "<matplotlib.lines.Line2D at 0x7f29c0375790>"
      ]
     },
     "execution_count": 56,
     "metadata": {},
     "output_type": "execute_result"
    },
    {
     "data": {
      "image/png": "[encoded data removed]",
      "text/plain": [
       "<Figure size 432x288 with 1 Axes>"
      ]
     },
     "metadata": {},
     "output_type": "display_data"
    }
   ],
   "source": [
    "plt.plot(nonzero_x0)\n",
    "plt.axhline(np.mean(nonzero_x0) - np.std(nonzero_x0))"
   ]
  },
  {
   "cell_type": "markdown",
   "metadata": {
    "collapsed": false
   },
   "source": [
    "가운데 80% 에서 가장 작은 수치, 굳이 엄청 정확할 필요는 없다.\n",
    "이 부분의 데이터의 sagittal 를 C 의 classification 에 쓰겠다.\n",
    "너무 뭐가 없으면 판단하기 어렵기 때문에 대략 가운데 놓인 sagittal 이미지를 갖고 판단하는게 좋을것 같다."
   ]
  },
  {
   "cell_type": "code",
   "execution_count": 62,
   "metadata": {
    "collapsed": false
   },
   "outputs": [
    {
     "data": {
      "text/plain": [
       "<matplotlib.lines.Line2D at 0x7f29add6d910>"
      ]
     },
     "execution_count": 62,
     "metadata": {},
     "output_type": "execute_result"
    },
    {
     "data": {
      "image/png": "[encoded data removed]",
      "text/plain": [
       "<Figure size 432x288 with 1 Axes>"
      ]
     },
     "metadata": {},
     "output_type": "display_data"
    }
   ],
   "source": [
    "threshold = 0.8\n",
    "len_nonzero = len(nonzero_x0)\n",
    "min_nonzero = np.sort(nonzero_x0)[int(len_nonzero * threshold)]\n",
    "plt.plot(nonzero_x0)\n",
    "plt.axhline(min_nonzero)"
   ]
  },
  {
   "cell_type": "markdown",
   "metadata": {
    "collapsed": false
   },
   "source": [
    "center 가 어느정도인가 보자\n"
   ]
  },
  {
   "cell_type": "code",
   "execution_count": 64,
   "metadata": {
    "collapsed": false
   },
   "outputs": [
    {
     "data": {
      "text/plain": [
       "[<matplotlib.lines.Line2D at 0x7f29ad9be400>]"
      ]
     },
     "execution_count": 64,
     "metadata": {},
     "output_type": "execute_result"
    },
    {
     "data": {
      "image/png": "[encoded data removed]",
      "text/plain": [
       "<Figure size 432x288 with 1 Axes>"
      ]
     },
     "metadata": {},
     "output_type": "display_data"
    }
   ],
   "source": [
    "x_center = np.mean(pos, axis=1)\n",
    "x_center = x_center[x_center > 0]\n",
    "plt.plot(x_center)"
   ]
  }
 ],
 "metadata": {
  "kernelspec": {
   "display_name": "Python 3",
   "language": "python",
   "name": "python3"
  },
  "language_info": {
   "codemirror_mode": {
    "name": "ipython",
    "version": 2
   },
   "file_extension": ".py",
   "mimetype": "text/x-python",
   "name": "python",
   "nbconvert_exporter": "python",
   "pygments_lexer": "ipython2",
   "version": "2.7.6"
  }
 },
 "nbformat": 4,
 "nbformat_minor": 0
}
