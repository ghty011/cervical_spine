{
 "cells": [
  {
   "cell_type": "code",
   "execution_count": 1,
   "metadata": {
    "collapsed": true,
    "pycharm": {
     "name": "#%%\n"
    }
   },
   "outputs": [],
   "source": [
    "import pandas as pd\n"
   ]
  },
  {
   "cell_type": "code",
   "execution_count": 2,
   "outputs": [
    {
     "data": {
      "text/plain": "                         row_id           StudyInstanceUID  prediction_type\n0  1.2.826.0.1.3680043.10197_C1  1.2.826.0.1.3680043.10197               C1\n1  1.2.826.0.1.3680043.10197_C1  1.2.826.0.1.3680043.10197  patient_overall\n2  1.2.826.0.1.3680043.10454_C1  1.2.826.0.1.3680043.10454               C2\n3  1.2.826.0.1.3680043.10690_C1  1.2.826.0.1.3680043.10690               C1",
      "text/html": "<div>\n<style scoped>\n    .dataframe tbody tr th:only-of-type {\n        vertical-align: middle;\n    }\n\n    .dataframe tbody tr th {\n        vertical-align: top;\n    }\n\n    .dataframe thead th {\n        text-align: right;\n    }\n</style>\n<table border=\"1\" class=\"dataframe\">\n  <thead>\n    <tr style=\"text-align: right;\">\n      <th></th>\n      <th>row_id</th>\n      <th>StudyInstanceUID</th>\n      <th>prediction_type</th>\n    </tr>\n  </thead>\n  <tbody>\n    <tr>\n      <th>0</th>\n      <td>1.2.826.0.1.3680043.10197_C1</td>\n      <td>1.2.826.0.1.3680043.10197</td>\n      <td>C1</td>\n    </tr>\n    <tr>\n      <th>1</th>\n      <td>1.2.826.0.1.3680043.10197_C1</td>\n      <td>1.2.826.0.1.3680043.10197</td>\n      <td>patient_overall</td>\n    </tr>\n    <tr>\n      <th>2</th>\n      <td>1.2.826.0.1.3680043.10454_C1</td>\n      <td>1.2.826.0.1.3680043.10454</td>\n      <td>C2</td>\n    </tr>\n    <tr>\n      <th>3</th>\n      <td>1.2.826.0.1.3680043.10690_C1</td>\n      <td>1.2.826.0.1.3680043.10690</td>\n      <td>C1</td>\n    </tr>\n  </tbody>\n</table>\n</div>"
     },
     "execution_count": 2,
     "metadata": {},
     "output_type": "execute_result"
    }
   ],
   "source": [
    "test = pd.read_csv('../../dataset/test_clean.csv')\n",
    "test"
   ],
   "metadata": {
    "collapsed": false,
    "pycharm": {
     "name": "#%%\n"
    }
   }
  },
  {
   "cell_type": "markdown",
   "source": [
    "Test score 0.56"
   ],
   "metadata": {
    "collapsed": false,
    "pycharm": {
     "name": "#%% md\n"
    }
   }
  },
  {
   "cell_type": "code",
   "execution_count": 3,
   "outputs": [
    {
     "data": {
      "text/plain": "                         row_id           StudyInstanceUID  prediction_type  \\\n0  1.2.826.0.1.3680043.10197_C1  1.2.826.0.1.3680043.10197               C1   \n1  1.2.826.0.1.3680043.10197_C1  1.2.826.0.1.3680043.10197  patient_overall   \n2  1.2.826.0.1.3680043.10454_C1  1.2.826.0.1.3680043.10454               C2   \n3  1.2.826.0.1.3680043.10690_C1  1.2.826.0.1.3680043.10690               C1   \n\n   fractured  \n0     0.8651  \n1     0.3550  \n2     0.7526  \n3     0.8651  ",
      "text/html": "<div>\n<style scoped>\n    .dataframe tbody tr th:only-of-type {\n        vertical-align: middle;\n    }\n\n    .dataframe tbody tr th {\n        vertical-align: top;\n    }\n\n    .dataframe thead th {\n        text-align: right;\n    }\n</style>\n<table border=\"1\" class=\"dataframe\">\n  <thead>\n    <tr style=\"text-align: right;\">\n      <th></th>\n      <th>row_id</th>\n      <th>StudyInstanceUID</th>\n      <th>prediction_type</th>\n      <th>fractured</th>\n    </tr>\n  </thead>\n  <tbody>\n    <tr>\n      <th>0</th>\n      <td>1.2.826.0.1.3680043.10197_C1</td>\n      <td>1.2.826.0.1.3680043.10197</td>\n      <td>C1</td>\n      <td>0.8651</td>\n    </tr>\n    <tr>\n      <th>1</th>\n      <td>1.2.826.0.1.3680043.10197_C1</td>\n      <td>1.2.826.0.1.3680043.10197</td>\n      <td>patient_overall</td>\n      <td>0.3550</td>\n    </tr>\n    <tr>\n      <th>2</th>\n      <td>1.2.826.0.1.3680043.10454_C1</td>\n      <td>1.2.826.0.1.3680043.10454</td>\n      <td>C2</td>\n      <td>0.7526</td>\n    </tr>\n    <tr>\n      <th>3</th>\n      <td>1.2.826.0.1.3680043.10690_C1</td>\n      <td>1.2.826.0.1.3680043.10690</td>\n      <td>C1</td>\n      <td>0.8651</td>\n    </tr>\n  </tbody>\n</table>\n</div>"
     },
     "execution_count": 3,
     "metadata": {},
     "output_type": "execute_result"
    }
   ],
   "source": [
    "scores = {\n",
    "    'patient_overall' : 0.645,\n",
    "    'C1' : 0.1349,\n",
    "    'C2' : 0.2474,\n",
    "    'C3' : 0.0698,\n",
    "    'C4' : 0.1016,\n",
    "    'C5' : 0.1485,\n",
    "    'C6' : 0.2413,\n",
    "    'C7' : 0.3259,\n",
    "}\n",
    "test['fractured'] = test['prediction_type'].map(scores)\n",
    "test[['row_id','fractured']].to_csv('submission.csv', index=False)\n",
    "test"
   ],
   "metadata": {
    "collapsed": false,
    "pycharm": {
     "name": "#%%\n"
    }
   }
  }
 ],
 "metadata": {
  "kernelspec": {
   "display_name": "Python 3",
   "language": "python",
   "name": "python3"
  },
  "language_info": {
   "codemirror_mode": {
    "name": "ipython",
    "version": 2
   },
   "file_extension": ".py",
   "mimetype": "text/x-python",
   "name": "python",
   "nbconvert_exporter": "python",
   "pygments_lexer": "ipython2",
   "version": "2.7.6"
  }
 },
 "nbformat": 4,
 "nbformat_minor": 0
}