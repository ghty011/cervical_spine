{
 "metadata": {
  "kernelspec": {
   "language": "python",
   "display_name": "Python 3",
   "name": "python3"
  },
  "language_info": {
   "name": "python",
   "version": "3.7.12",
   "mimetype": "text/x-python",
   "codemirror_mode": {
    "name": "ipython",
    "version": 3
   },
   "pygments_lexer": "ipython3",
   "nbconvert_exporter": "python",
   "file_extension": ".py"
  }
 },
 "nbformat_minor": 4,
 "nbformat": 4,
 "cells": [
  {
   "cell_type": "code",
   "source": [
    "import os\n",
    "import glob\n",
    "import pydicom\n",
    "import nibabel as nib\n",
    "import pandas as pd\n",
    "import numpy as np\n",
    "from pydicom.pixel_data_handlers.util import apply_voi_lut\n",
    "import matplotlib.pyplot as plt\n",
    "import matplotlib.patches as patches\n",
    "import seaborn as sns\n",
    "import cv2\n",
    "\n",
    "from tqdm import tqdm"
   ],
   "metadata": {
    "_uuid": "8f2839f25d086af736a60e9eeb907d3b93b6e0e5",
    "_cell_guid": "b1076dfc-b9ad-4769-8c92-a6c4dae69d19",
    "execution": {
     "iopub.status.busy": "2022-09-02T10:26:54.121604Z",
     "iopub.execute_input": "2022-09-02T10:26:54.122242Z",
     "iopub.status.idle": "2022-09-02T10:26:55.341209Z",
     "shell.execute_reply.started": "2022-09-02T10:26:54.122112Z",
     "shell.execute_reply": "2022-09-02T10:26:55.339722Z"
    },
    "trusted": true,
    "pycharm": {
     "name": "#%%\n"
    }
   },
   "execution_count": 2,
   "outputs": []
  },
  {
   "cell_type": "code",
   "source": [
    "DATA_DIR = \"/Volumes/SSD970/\"\n",
    "TRAIN_IMAGE_DIR = os.path.join(DATA_DIR, \"train_images\")"
   ],
   "metadata": {
    "execution": {
     "iopub.status.busy": "2022-09-02T10:26:57.967290Z",
     "iopub.execute_input": "2022-09-02T10:26:57.967819Z",
     "iopub.status.idle": "2022-09-02T10:26:57.975026Z",
     "shell.execute_reply.started": "2022-09-02T10:26:57.967777Z",
     "shell.execute_reply": "2022-09-02T10:26:57.973480Z"
    },
    "trusted": true,
    "pycharm": {
     "name": "#%%\n"
    }
   },
   "execution_count": 3,
   "outputs": []
  },
  {
   "cell_type": "code",
   "source": [
    "def read_patient_z(patient_id):\n",
    "    patient_dir = os.path.join(TRAIN_IMAGE_DIR, patient_id)\n",
    "    num_slices = len(glob.glob(patient_dir + f\"/*\"))\n",
    "    \n",
    "    z_positions = np.zeros(num_slices)\n",
    "    pass_count = 1\n",
    "    for i in range(num_slices):\n",
    "        # dicom filenames start from 1\n",
    "        dcm_path = os.path.join(patient_dir, f\"{i+pass_count}.dcm\")\n",
    "        while os.path.exists(dcm_path) is False:\n",
    "            print(f\"pass {dcm_path}\")\n",
    "            pass_count += 1\n",
    "            dcm_path = os.path.join(patient_dir, f\"{i+pass_count}.dcm\")\n",
    "        ds = pydicom.dcmread(dcm_path)\n",
    "        z_positions[i] = ds.ImagePositionPatient[2]\n",
    "        \n",
    "    return z_positions\n"
   ],
   "metadata": {
    "execution": {
     "iopub.status.busy": "2022-09-02T10:27:16.743663Z",
     "iopub.execute_input": "2022-09-02T10:27:16.744104Z",
     "iopub.status.idle": "2022-09-02T10:27:16.752863Z",
     "shell.execute_reply.started": "2022-09-02T10:27:16.744070Z",
     "shell.execute_reply": "2022-09-02T10:27:16.751566Z"
    },
    "trusted": true,
    "pycharm": {
     "name": "#%%\n"
    }
   },
   "execution_count": 4,
   "outputs": []
  },
  {
   "cell_type": "code",
   "execution_count": 14,
   "outputs": [
    {
     "name": "stdout",
     "output_type": "stream",
     "text": [
      "pass /Volumes/SSD970/train_images/1.2.826.0.1.3680043.29630/1.dcm\n",
      "not equal -0.9703 != -0.963 at 1.2.826.0.1.3680043.29630\n"
     ]
    },
    {
     "data": {
      "text/plain": "array([-0.96300147, -0.961998  , -0.963002  , -0.96199762, -0.962     ,\n       -0.9630009 , -0.96200148, -0.962     , -0.963     , -0.962     ,\n       -0.963     , -0.96199853, -0.96200147, -0.963     , -0.962     ,\n       -0.962     , -0.963     , -0.962     , -0.963     , -0.96199853,\n       -0.96200147, -0.963     , -0.962     , -0.96200051, -0.96299962,\n       -0.96200039, -0.96299988, -0.96199961, -0.96200012, -0.9630004 ,\n       -0.96200014, -0.96200109, -0.963     , -0.96199704, -0.96300149,\n       -0.99692979, -0.9988397 , -0.99883914, -0.99784001, -0.99883745,\n       -0.99883633, -0.9978352 , -0.99883551, -0.99883408, -0.99883187,\n       -0.99783396, -0.99883022, -0.99883078, -0.99783055, -0.99882822,\n       -0.99882773, -0.99882865, -0.99782336, -0.99882549, -0.99882401,\n       -0.96849312, -0.96399962, -0.96300038, -0.96399962, -0.96300146,\n       -1.13496736, -1.16919285, -1.167797  , -1.16740057, -1.16799504,\n       -1.16759173, -1.16718357, -1.16578086, -1.1663663 , -1.16695448,\n       -1.16554059, -1.16512437, -1.16570428, -1.16428175, -1.15627448,\n       -0.95699855, -0.956     , -0.957     , -0.956     , -0.96226224,\n       -1.12498587, -1.12481642, -1.12465052, -1.12448351, -1.12431385,\n       -1.12515136, -1.1239757 , -1.12380759, -1.12463706, -1.12346557,\n       -1.12329211, -1.12412323, -1.12394836, -1.12277229, -0.99249968,\n       -0.95099908, -0.95200202, -0.95099981, -0.9520001 , -0.93002977,\n       -0.92431966, -0.92425772, -0.92319002, -0.92413037, -0.92406747,\n       -0.92399943, -0.92394021, -0.92387723, -0.92381859, -0.92375654,\n       -0.92369565, -0.92363589, -0.94165273, -0.94500276, -0.94599763,\n       -0.946     , -0.94500275, -1.17584147, -1.23711348, -1.2358894 ,\n       -1.23466828, -1.23239908, -1.23212379, -1.2298479 , -1.22853081,\n       -1.22720781, -1.22488402, -1.22452341, -1.22215785, -1.22179258,\n       -1.21939914, -0.9997089 , -0.908     , -0.908     , -0.908     ,\n       -0.90800249, -1.0584533 , -1.12319398, -1.12149457, -1.12075841,\n       -1.11998832, -1.11817553, -1.11731774, -1.11641654, -1.1144704 ,\n       -1.11349422, -1.11247359, -1.11140616, -1.11032472, -1.10817358,\n       -1.02180285, -0.84999812, -0.85000188, -0.84999832, -0.84899981,\n       -0.83588814, -0.80662358, -0.80611318, -0.80562306, -0.80612603,\n       -0.80462838, -0.80514159, -0.8046587 , -0.80418653, -0.80370776,\n       -0.80423093, -0.80376616, -0.80229893, -0.80284159, -0.80238585,\n       -0.80292575, -0.80148619, -0.80203392, -0.84928938, -0.88699899,\n       -0.88699876, -0.88800245, -0.88699879, -0.81783311, -0.76460698,\n       -0.76556536, -0.7645152 , -0.76446309, -0.76442457, -0.76437084,\n       -0.76532825, -0.76428356, -0.76423514, -0.76518928, -0.76414489,\n       -0.76410323, -0.76505795, -0.76400884, -0.7649699 , -0.76391968,\n       -0.78845029, -0.895     , -0.895     , -0.895     , -0.89500022,\n       -0.88344407, -0.83197944, -0.83196795, -0.83096706, -0.83195906,\n       -0.83195156, -0.83194618, -0.83094032, -0.83193099, -0.83193203,\n       -0.83192453, -0.83191443, -0.83191856, -0.83090728, -0.83191993])"
     },
     "execution_count": 14,
     "metadata": {},
     "output_type": "execute_result"
    }
   ],
   "source": [
    "patient_id = \"1.2.826.0.1.3680043.29630\"\n",
    "z_positions = read_patient_z(patient_id)\n",
    "z_spacing = z_positions[1:] - z_positions[:-1]\n",
    "mean_spacing = np.round(np.mean(z_spacing), decimals=4)\n",
    "first_spacing = np.round(z_spacing[0], decimals=4)\n",
    "if mean_spacing != first_spacing:\n",
    "    print(f'not equal {mean_spacing} != {first_spacing} at {patient_id}')\n",
    "else:\n",
    "    print('is equal')\n",
    "z_spacing"
   ],
   "metadata": {
    "collapsed": false,
    "pycharm": {
     "name": "#%%\n"
    }
   }
  },
  {
   "cell_type": "code",
   "execution_count": 8,
   "outputs": [
    {
     "data": {
      "text/plain": "array([-0.625, -0.625, -0.625, -0.625, -0.625, -0.625, -0.625, -0.625,\n       -0.625, -0.625, -0.625, -0.625, -0.625, -0.625, -0.625, -0.625,\n       -0.625, -0.625, -0.625, -0.625, -0.625, -0.625, -0.625, -0.625,\n       -0.625, -0.625, -0.625, -0.625, -0.625, -0.625, -0.625, -0.625,\n       -0.625, -0.625, -0.625, -0.625, -0.625, -0.625, -0.625, -0.625,\n       -0.625, -0.625, -0.625, -0.625, -0.625, -0.625, -0.625, -0.625,\n       -0.625, -0.625, -0.625, -0.625, -0.625, -0.625, -0.625, -0.625,\n       -0.625, -0.625, -0.625, -0.625, -0.625, -0.625, -0.625, -0.625,\n       -0.625, -0.625, -0.625, -0.625, -0.625, -0.625, -0.625, -0.625,\n       -0.625, -0.625, -0.625, -0.625, -0.625, -0.625, -0.625, -0.625,\n       -0.625, -0.625, -0.625, -0.625, -0.625, -0.625, -0.625, -0.625,\n       -0.625, -0.625, -0.625, -0.625, -0.625, -0.625, -0.625, -0.625,\n       -0.625, -0.625, -0.625, -0.625, -0.625, -0.625, -0.625, -0.625,\n       -0.625, -0.625, -0.625, -0.625, -0.625, -0.625, -0.625, -0.625,\n       -0.625, -0.625, -0.625, -0.625, -0.625, -0.625, -0.625, -0.625,\n       -0.625, -0.625, -0.625, -0.625, -0.625, -0.625, -0.625, -0.625,\n       -0.625, -0.625, -0.625, -0.625, -0.625, -0.625, -0.625, -0.625,\n       -0.625, -0.625, -0.625, -0.625, -0.625, -0.625, -0.625, -0.625,\n       -0.625, -0.625, -0.625, -0.625, -0.625, -0.625, -0.625, -0.625,\n       -0.625, -0.625, -0.625, -0.625, -0.625, -0.625, -0.625, -0.625,\n       -0.625, -0.625, -0.625, -0.625, -0.625, -0.625, -0.625, -0.625,\n       -0.625, -0.625, -0.625, -0.625, -0.625, -0.625, -0.625, -0.625,\n       -0.625, -0.625, -0.625, -0.625, -0.625, -0.625, -0.625, -0.625,\n       -0.625, -0.625, -0.625, -0.625, -0.625, -0.625, -0.625, -0.625,\n       -0.625, -0.625, -0.625, -0.625, -0.625, -0.625, -0.625, -0.625,\n       -0.625, -0.625, -0.625, -0.625, -0.625, -0.625, -0.625, -0.625,\n       -0.625, -0.625, -0.625, -0.625, -0.625, -0.625, -0.625, -0.625,\n       -0.625, -0.625, -0.625, -0.625, -0.625, -0.625, -0.625, -0.625,\n       -0.625, -0.625, -0.625, -0.625, -0.625, -0.625, -0.625, -0.625,\n       -0.625, -0.625, -0.625, -0.625, -0.625, -0.625, -0.625, -0.625,\n       -0.625, -0.625, -0.625, -0.625, -0.625, -0.625])"
     },
     "execution_count": 8,
     "metadata": {},
     "output_type": "execute_result"
    }
   ],
   "source": [],
   "metadata": {
    "collapsed": false,
    "pycharm": {
     "name": "#%%\n"
    }
   }
  },
  {
   "cell_type": "code",
   "source": [
    "patient_paths = glob.glob(TRAIN_IMAGE_DIR + f\"/**\")\n",
    "for path in tqdm(patient_paths):\n",
    "    patient_id = path.split(\"/\")[-1]\n",
    "    \n",
    "    z_positions = read_patient_z(patient_id)\n",
    "    z_spacing = z_positions[1:] - z_positions[:-1]\n",
    "    mean_spacing = np.round(np.mean(z_spacing), decimals=4)\n",
    "    first_spacing = np.round(z_spacing[0], decimals=4)\n",
    "    if mean_spacing != first_spacing:\n",
    "        print(f'not equal {mean_spacing} != {first_spacing} at {patient_id}')"
   ],
   "metadata": {
    "execution": {
     "iopub.status.busy": "2022-09-02T10:27:55.116251Z",
     "iopub.execute_input": "2022-09-02T10:27:55.117845Z"
    },
    "trusted": true,
    "pycharm": {
     "name": "#%%\n"
    }
   },
   "execution_count": 12,
   "outputs": [
    {
     "name": "stderr",
     "output_type": "stream",
     "text": [
      "  0%|          | 4/2019 [00:03<29:08,  1.15it/s]"
     ]
    },
    {
     "name": "stdout",
     "output_type": "stream",
     "text": [
      "not equal -0.3125 != -0.313 at 1.2.826.0.1.3680043.10016\n"
     ]
    },
    {
     "name": "stderr",
     "output_type": "stream",
     "text": [
      "  0%|          | 10/2019 [00:07<25:27,  1.32it/s]\n"
     ]
    },
    {
     "ename": "KeyboardInterrupt",
     "evalue": "",
     "output_type": "error",
     "traceback": [
      "\u001B[0;31m---------------------------------------------------------------------------\u001B[0m",
      "\u001B[0;31mKeyboardInterrupt\u001B[0m                         Traceback (most recent call last)",
      "\u001B[0;32m/var/folders/3l/2d1zfhx90z18_kvtkwwz9xtw0000gn/T/ipykernel_52066/3713054167.py\u001B[0m in \u001B[0;36m<module>\u001B[0;34m\u001B[0m\n\u001B[1;32m      3\u001B[0m     \u001B[0mpatient_id\u001B[0m \u001B[0;34m=\u001B[0m \u001B[0mpath\u001B[0m\u001B[0;34m.\u001B[0m\u001B[0msplit\u001B[0m\u001B[0;34m(\u001B[0m\u001B[0;34m\"/\"\u001B[0m\u001B[0;34m)\u001B[0m\u001B[0;34m[\u001B[0m\u001B[0;34m-\u001B[0m\u001B[0;36m1\u001B[0m\u001B[0;34m]\u001B[0m\u001B[0;34m\u001B[0m\u001B[0;34m\u001B[0m\u001B[0m\n\u001B[1;32m      4\u001B[0m \u001B[0;34m\u001B[0m\u001B[0m\n\u001B[0;32m----> 5\u001B[0;31m     \u001B[0mz_positions\u001B[0m \u001B[0;34m=\u001B[0m \u001B[0mread_patient_z\u001B[0m\u001B[0;34m(\u001B[0m\u001B[0mpatient_id\u001B[0m\u001B[0;34m)\u001B[0m\u001B[0;34m\u001B[0m\u001B[0;34m\u001B[0m\u001B[0m\n\u001B[0m\u001B[1;32m      6\u001B[0m     \u001B[0mz_spacing\u001B[0m \u001B[0;34m=\u001B[0m \u001B[0mz_positions\u001B[0m\u001B[0;34m[\u001B[0m\u001B[0;36m1\u001B[0m\u001B[0;34m:\u001B[0m\u001B[0;34m]\u001B[0m \u001B[0;34m-\u001B[0m \u001B[0mz_positions\u001B[0m\u001B[0;34m[\u001B[0m\u001B[0;34m:\u001B[0m\u001B[0;34m-\u001B[0m\u001B[0;36m1\u001B[0m\u001B[0;34m]\u001B[0m\u001B[0;34m\u001B[0m\u001B[0;34m\u001B[0m\u001B[0m\n\u001B[1;32m      7\u001B[0m     \u001B[0mmean_spacing\u001B[0m \u001B[0;34m=\u001B[0m \u001B[0mnp\u001B[0m\u001B[0;34m.\u001B[0m\u001B[0mround\u001B[0m\u001B[0;34m(\u001B[0m\u001B[0mnp\u001B[0m\u001B[0;34m.\u001B[0m\u001B[0mmean\u001B[0m\u001B[0;34m(\u001B[0m\u001B[0mz_spacing\u001B[0m\u001B[0;34m)\u001B[0m\u001B[0;34m,\u001B[0m \u001B[0mdecimals\u001B[0m\u001B[0;34m=\u001B[0m\u001B[0;36m4\u001B[0m\u001B[0;34m)\u001B[0m\u001B[0;34m\u001B[0m\u001B[0;34m\u001B[0m\u001B[0m\n",
      "\u001B[0;32m/var/folders/3l/2d1zfhx90z18_kvtkwwz9xtw0000gn/T/ipykernel_52066/3542176100.py\u001B[0m in \u001B[0;36mread_patient_z\u001B[0;34m(patient_id)\u001B[0m\n\u001B[1;32m     12\u001B[0m             \u001B[0mpass_count\u001B[0m \u001B[0;34m+=\u001B[0m \u001B[0;36m1\u001B[0m\u001B[0;34m\u001B[0m\u001B[0;34m\u001B[0m\u001B[0m\n\u001B[1;32m     13\u001B[0m             \u001B[0mdcm_path\u001B[0m \u001B[0;34m=\u001B[0m \u001B[0mos\u001B[0m\u001B[0;34m.\u001B[0m\u001B[0mpath\u001B[0m\u001B[0;34m.\u001B[0m\u001B[0mjoin\u001B[0m\u001B[0;34m(\u001B[0m\u001B[0mpatient_dir\u001B[0m\u001B[0;34m,\u001B[0m \u001B[0;34mf\"{i+pass_count}.dcm\"\u001B[0m\u001B[0;34m)\u001B[0m\u001B[0;34m\u001B[0m\u001B[0;34m\u001B[0m\u001B[0m\n\u001B[0;32m---> 14\u001B[0;31m         \u001B[0mds\u001B[0m \u001B[0;34m=\u001B[0m \u001B[0mpydicom\u001B[0m\u001B[0;34m.\u001B[0m\u001B[0mdcmread\u001B[0m\u001B[0;34m(\u001B[0m\u001B[0mdcm_path\u001B[0m\u001B[0;34m)\u001B[0m\u001B[0;34m\u001B[0m\u001B[0;34m\u001B[0m\u001B[0m\n\u001B[0m\u001B[1;32m     15\u001B[0m         \u001B[0mz_positions\u001B[0m\u001B[0;34m[\u001B[0m\u001B[0mi\u001B[0m\u001B[0;34m]\u001B[0m \u001B[0;34m=\u001B[0m \u001B[0mds\u001B[0m\u001B[0;34m.\u001B[0m\u001B[0mImagePositionPatient\u001B[0m\u001B[0;34m[\u001B[0m\u001B[0;36m2\u001B[0m\u001B[0;34m]\u001B[0m\u001B[0;34m\u001B[0m\u001B[0;34m\u001B[0m\u001B[0m\n\u001B[1;32m     16\u001B[0m \u001B[0;34m\u001B[0m\u001B[0m\n",
      "\u001B[0;32m~/anaconda3/envs/pytorch/lib/python3.9/site-packages/pydicom/filereader.py\u001B[0m in \u001B[0;36mdcmread\u001B[0;34m(fp, defer_size, stop_before_pixels, force, specific_tags)\u001B[0m\n\u001B[1;32m   1019\u001B[0m         \u001B[0mstop_when\u001B[0m \u001B[0;34m=\u001B[0m \u001B[0m_at_pixel_data\u001B[0m\u001B[0;34m\u001B[0m\u001B[0;34m\u001B[0m\u001B[0m\n\u001B[1;32m   1020\u001B[0m     \u001B[0;32mtry\u001B[0m\u001B[0;34m:\u001B[0m\u001B[0;34m\u001B[0m\u001B[0;34m\u001B[0m\u001B[0m\n\u001B[0;32m-> 1021\u001B[0;31m         dataset = read_partial(\n\u001B[0m\u001B[1;32m   1022\u001B[0m             \u001B[0mfp\u001B[0m\u001B[0;34m,\u001B[0m\u001B[0;34m\u001B[0m\u001B[0;34m\u001B[0m\u001B[0m\n\u001B[1;32m   1023\u001B[0m             \u001B[0mstop_when\u001B[0m\u001B[0;34m,\u001B[0m\u001B[0;34m\u001B[0m\u001B[0;34m\u001B[0m\u001B[0m\n",
      "\u001B[0;32m~/anaconda3/envs/pytorch/lib/python3.9/site-packages/pydicom/filereader.py\u001B[0m in \u001B[0;36mread_partial\u001B[0;34m(fileobj, stop_when, defer_size, force, specific_tags)\u001B[0m\n\u001B[1;32m    850\u001B[0m     \u001B[0;31m#   the transfer syntax (whether read from the file meta or guessed at)\u001B[0m\u001B[0;34m\u001B[0m\u001B[0;34m\u001B[0m\u001B[0m\n\u001B[1;32m    851\u001B[0m     \u001B[0;32mtry\u001B[0m\u001B[0;34m:\u001B[0m\u001B[0;34m\u001B[0m\u001B[0;34m\u001B[0m\u001B[0m\n\u001B[0;32m--> 852\u001B[0;31m         dataset = read_dataset(\n\u001B[0m\u001B[1;32m    853\u001B[0m             \u001B[0mfileobj\u001B[0m\u001B[0;34m,\u001B[0m\u001B[0;34m\u001B[0m\u001B[0;34m\u001B[0m\u001B[0m\n\u001B[1;32m    854\u001B[0m             \u001B[0mis_implicit_VR\u001B[0m\u001B[0;34m,\u001B[0m\u001B[0;34m\u001B[0m\u001B[0;34m\u001B[0m\u001B[0m\n",
      "\u001B[0;32m~/anaconda3/envs/pytorch/lib/python3.9/site-packages/pydicom/filereader.py\u001B[0m in \u001B[0;36mread_dataset\u001B[0;34m(fp, is_implicit_VR, is_little_endian, bytelength, stop_when, defer_size, parent_encoding, specific_tags, at_top_level)\u001B[0m\n\u001B[1;32m    425\u001B[0m     \u001B[0;32mtry\u001B[0m\u001B[0;34m:\u001B[0m\u001B[0;34m\u001B[0m\u001B[0;34m\u001B[0m\u001B[0m\n\u001B[1;32m    426\u001B[0m         \u001B[0;32mwhile\u001B[0m \u001B[0;34m(\u001B[0m\u001B[0mbytelength\u001B[0m \u001B[0;32mis\u001B[0m \u001B[0;32mNone\u001B[0m\u001B[0;34m)\u001B[0m \u001B[0;32mor\u001B[0m \u001B[0;34m(\u001B[0m\u001B[0mfp\u001B[0m\u001B[0;34m.\u001B[0m\u001B[0mtell\u001B[0m\u001B[0;34m(\u001B[0m\u001B[0;34m)\u001B[0m \u001B[0;34m-\u001B[0m \u001B[0mfp_start\u001B[0m \u001B[0;34m<\u001B[0m \u001B[0mbytelength\u001B[0m\u001B[0;34m)\u001B[0m\u001B[0;34m:\u001B[0m\u001B[0;34m\u001B[0m\u001B[0;34m\u001B[0m\u001B[0m\n\u001B[0;32m--> 427\u001B[0;31m             \u001B[0mraw_data_element\u001B[0m \u001B[0;34m=\u001B[0m \u001B[0mnext\u001B[0m\u001B[0;34m(\u001B[0m\u001B[0mde_gen\u001B[0m\u001B[0;34m)\u001B[0m\u001B[0;34m\u001B[0m\u001B[0;34m\u001B[0m\u001B[0m\n\u001B[0m\u001B[1;32m    428\u001B[0m             \u001B[0;31m# Read data elements. Stop on some errors, but return what was read\u001B[0m\u001B[0;34m\u001B[0m\u001B[0;34m\u001B[0m\u001B[0m\n\u001B[1;32m    429\u001B[0m             \u001B[0mtag\u001B[0m \u001B[0;34m=\u001B[0m \u001B[0mraw_data_element\u001B[0m\u001B[0;34m.\u001B[0m\u001B[0mtag\u001B[0m\u001B[0;34m\u001B[0m\u001B[0;34m\u001B[0m\u001B[0m\n",
      "\u001B[0;32m~/anaconda3/envs/pytorch/lib/python3.9/site-packages/pydicom/filereader.py\u001B[0m in \u001B[0;36mdata_element_generator\u001B[0;34m(fp, is_implicit_VR, is_little_endian, stop_when, defer_size, encoding, specific_tags)\u001B[0m\n\u001B[1;32m    205\u001B[0m             \u001B[0;32melse\u001B[0m\u001B[0;34m:\u001B[0m\u001B[0;34m\u001B[0m\u001B[0;34m\u001B[0m\u001B[0m\n\u001B[1;32m    206\u001B[0m                 value = (\n\u001B[0;32m--> 207\u001B[0;31m                     \u001B[0mfp_read\u001B[0m\u001B[0;34m(\u001B[0m\u001B[0mlength\u001B[0m\u001B[0;34m)\u001B[0m \u001B[0;32mif\u001B[0m \u001B[0mlength\u001B[0m \u001B[0;34m>\u001B[0m \u001B[0;36m0\u001B[0m\u001B[0;34m\u001B[0m\u001B[0;34m\u001B[0m\u001B[0m\n\u001B[0m\u001B[1;32m    208\u001B[0m                     else cast(\n\u001B[1;32m    209\u001B[0m                         \u001B[0mOptional\u001B[0m\u001B[0;34m[\u001B[0m\u001B[0mbytes\u001B[0m\u001B[0;34m]\u001B[0m\u001B[0;34m,\u001B[0m \u001B[0mempty_value_for_VR\u001B[0m\u001B[0;34m(\u001B[0m\u001B[0mvr\u001B[0m\u001B[0;34m,\u001B[0m \u001B[0mraw\u001B[0m\u001B[0;34m=\u001B[0m\u001B[0;32mTrue\u001B[0m\u001B[0;34m)\u001B[0m\u001B[0;34m\u001B[0m\u001B[0;34m\u001B[0m\u001B[0m\n",
      "\u001B[0;31mKeyboardInterrupt\u001B[0m: "
     ]
    }
   ]
  },
  {
   "cell_type": "markdown",
   "source": [
    "glob.glob 를 쓰면 파일 순서가 개판된다는거\n",
    "그래서 range(num_slices) 를 썼다. "
   ],
   "metadata": {
    "pycharm": {
     "name": "#%% md\n"
    }
   }
  },
  {
   "cell_type": "code",
   "source": [],
   "metadata": {
    "pycharm": {
     "name": "#%%\n"
    }
   },
   "execution_count": null,
   "outputs": []
  },
  {
   "cell_type": "code",
   "source": [
    "glob.glob(TRAIN_IMAGE_DIR + f\"/1.2.826.0.1.3680043.29872/*\")"
   ],
   "metadata": {
    "execution": {
     "iopub.status.busy": "2022-09-02T10:17:08.613257Z",
     "iopub.execute_input": "2022-09-02T10:17:08.613759Z",
     "iopub.status.idle": "2022-09-02T10:17:08.669754Z",
     "shell.execute_reply.started": "2022-09-02T10:17:08.613721Z",
     "shell.execute_reply": "2022-09-02T10:17:08.668475Z"
    },
    "collapsed": true,
    "jupyter": {
     "outputs_hidden": true
    },
    "trusted": true,
    "pycharm": {
     "name": "#%%\n"
    }
   },
   "execution_count": null,
   "outputs": []
  },
  {
   "cell_type": "code",
   "source": [
    "os.path.exists(TRAIN_IMAGE_DIR + f\"/1.2.826.0.1.3680043.29872/2.dcm\")"
   ],
   "metadata": {
    "execution": {
     "iopub.status.busy": "2022-09-02T10:21:22.078802Z",
     "iopub.execute_input": "2022-09-02T10:21:22.079217Z",
     "iopub.status.idle": "2022-09-02T10:21:22.119655Z",
     "shell.execute_reply.started": "2022-09-02T10:21:22.079181Z",
     "shell.execute_reply": "2022-09-02T10:21:22.118711Z"
    },
    "trusted": true,
    "pycharm": {
     "name": "#%%\n"
    }
   },
   "execution_count": null,
   "outputs": []
  }
 ]
}