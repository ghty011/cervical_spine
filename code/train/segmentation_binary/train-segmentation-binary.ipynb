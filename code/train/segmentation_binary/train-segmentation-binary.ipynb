{
 "metadata": {
  "kernelspec": {
   "display_name": "Python 3",
   "language": "python",
   "name": "python3"
  },
  "language_info": {
   "name": "python",
   "version": "3.7.12",
   "mimetype": "text/x-python",
   "codemirror_mode": {
    "name": "ipython",
    "version": 3
   },
   "pygments_lexer": "ipython3",
   "nbconvert_exporter": "python",
   "file_extension": ".py"
  }
 },
 "nbformat_minor": 4,
 "nbformat": 4,
 "cells": [
  {
   "cell_type": "code",
   "source": [
    "! pip install python-gdcm\n",
    "! pip install pylibjpeg pylibjpeg-libjpeg pydicom pylibjpeg-openjpeg"
   ],
   "metadata": {
    "collapsed": false,
    "jupyter": {
     "outputs_hidden": false
    },
    "trusted": true
   },
   "execution_count": null,
   "outputs": []
  },
  {
   "cell_type": "code",
   "source": [
    "import wandb\n",
    "from datetime import datetime"
   ],
   "metadata": {
    "collapsed": false,
    "jupyter": {
     "outputs_hidden": false
    },
    "trusted": true
   },
   "execution_count": null,
   "outputs": []
  },
  {
   "cell_type": "code",
   "source": [
    "from kaggle_secrets import UserSecretsClient\n",
    "\n",
    "user_secrets = UserSecretsClient()\n",
    "\n",
    "# I have saved my API token with \"wandb_api\" as Label. \n",
    "# If you use some other Label make sure to change the same below. \n",
    "wandb_api_key_local = user_secrets.get_secret(\"wandb_api_key_local\") \n",
    "\n",
    "wandb.login(key=wandb_api_key_local, host=\"http://8.219.189.100:8081\")"
   ],
   "metadata": {
    "trusted": true
   },
   "execution_count": null,
   "outputs": []
  },
  {
   "cell_type": "code",
   "source": [
    "lr = 1e-4\n",
    "batch_size = 8\n",
    "wd = 1e-5\n",
    "pos_weight=20\n",
    "backbone=\"resnet50\""
   ],
   "metadata": {
    "collapsed": false,
    "jupyter": {
     "outputs_hidden": false
    },
    "trusted": true
   },
   "execution_count": null,
   "outputs": []
  },
  {
   "cell_type": "code",
   "source": [
    "wandb_entity='longyi'\n",
    "model_name = \"detection\"\n",
    "wandb.init(project=\"cervical-spine\", entity=wandb_entity, config={\n",
    "    \"model\":model_name,\n",
    "    \"batch_size\":batch_size,\n",
    "    \"lr\" : lr,\n",
    "    \"wd\" : wd,\n",
    "    \"pos_weight\" : pos_weight,\n",
    "    \"backbone\" : backbone\n",
    "})\n",
    "wandb.run.name = f'brief_segmentation_{model_name}_' + datetime.now().strftime(\"%H%M%S\")"
   ],
   "metadata": {
    "collapsed": false,
    "jupyter": {
     "outputs_hidden": false
    },
    "trusted": true
   },
   "execution_count": null,
   "outputs": []
  },
  {
   "cell_type": "code",
   "source": [
    "import os\n",
    "import glob\n",
    "import pydicom\n",
    "import nibabel as nib\n",
    "import pandas as pd\n",
    "import numpy as np\n",
    "from pydicom.pixel_data_handlers.util import apply_voi_lut\n",
    "import matplotlib.pyplot as plt\n",
    "import matplotlib.patches as patches\n",
    "import seaborn as sns\n",
    "\n",
    "import pylibjpeg\n",
    "from tqdm import tqdm"
   ],
   "metadata": {
    "trusted": true
   },
   "execution_count": null,
   "outputs": []
  },
  {
   "cell_type": "code",
   "source": [
    "import torch\n",
    "import torch.nn as nn\n",
    "import torch.nn.functional as F\n",
    "import torch.optim as optim\n",
    "from torch.utils.data import Dataset, DataLoader\n",
    "import torchvision\n",
    "from torchvision.io import read_image\n",
    "import torchvision.transforms as T\n",
    "from torchvision.transforms import Compose, ToTensor, Normalize, Resize, CenterCrop\n",
    "import torchvision.transforms.functional as TF"
   ],
   "metadata": {
    "collapsed": false,
    "jupyter": {
     "outputs_hidden": false
    },
    "trusted": true
   },
   "execution_count": null,
   "outputs": []
  },
  {
   "cell_type": "code",
   "source": [
    "def rescale_img_to_hu(dcm_ds):\n",
    "    \"\"\"Rescales the image to Hounsfield unit.\n",
    "    \"\"\"\n",
    "    return dcm_ds.pixel_array * dcm_ds.RescaleSlope + dcm_ds.RescaleIntercept\n",
    "\n",
    "\n",
    "def read_dcm(patient_dir, num_instance):\n",
    "    dcm_path = os.path.join(patient_dir, f\"{int(num_instance)}.dcm\")\n",
    "    ds = pydicom.dcmread(dcm_path)\n",
    "    img2d = rescale_img_to_hu(ds)\n",
    "    return normalize_hu(img2d)\n",
    "\n",
    "def read_patient_dcm(patient_dir):\n",
    "\n",
    "    num_slices = len(glob.glob(patient_dir + \"/*.dcm\"))\n",
    "    print(f\"total slices {num_slices}\")\n",
    "    imgs = np.zeros((num_slices, 512, 512))\n",
    "    image_positions = np.zeros((num_slices, 3))\n",
    "    image_orientations = np.zeros((num_slices, 6))\n",
    "    pixel_spacings = np.zeros((num_slices, 2))\n",
    "    slice_thicknesses = np.zeros((num_slices, 1))\n",
    "\n",
    "    ignore_count = 1\n",
    "    for i in range(num_slices):\n",
    "        dcm_path = os.path.join(patient_dir, f\"{i+ignore_count}.dcm\")\n",
    "        while os.path.exists(dcm_path) == False:\n",
    "            ignore_count += 1\n",
    "            dcm_path = os.path.join(patient_dir, f\"{i+ignore_count}.dcm\")\n",
    "        ds = pydicom.dcmread(dcm_path)\n",
    "\n",
    "        image_positions[i, :] = ds.ImagePositionPatient\n",
    "        image_orientations[i, :] = ds.ImageOrientationPatient\n",
    "        pixel_spacings[i, :] = ds.PixelSpacing\n",
    "        slice_thicknesses[i, :] = ds.SliceThickness\n",
    "\n",
    "        img2d = rescale_img_to_hu(ds)\n",
    "\n",
    "        imgs[i] = img2d\n",
    "\n",
    "    is_flip = False\n",
    "    # check z is in good direction\n",
    "    if image_positions[0, 2] < image_positions[1, 2]:\n",
    "        is_flip = True\n",
    "        # flip image in z direction\n",
    "        imgs = np.flip(imgs, axis=0)\n",
    "        image_positions = np.flip(image_positions, axis=0)\n",
    "        pixel_spacings = np.flip(pixel_spacings, axis=0)\n",
    "        slice_thicknesses = np.flip(slice_thicknesses, axis=0)\n",
    "\n",
    "    return imgs, image_positions, image_orientations, pixel_spacings, slice_thicknesses, is_flip\n",
    "\n",
    "\n",
    "def normalize_hu(data):\n",
    "    # return (data - data.min()) / data.max()\n",
    "    data = np.clip(data, a_min=-2242, a_max=2242) / 4484 + 0.5\n",
    "    return data\n",
    "\n",
    "def calculate_aspect(image_positions, pixel_spacings):\n",
    "    \"\"\"\n",
    "    calculate z aspect, z 를 몇배로 늘여야 하는가야\n",
    "    :param image_positions:\n",
    "    :param pixel_spacings:\n",
    "    :return:\n",
    "    \"\"\"\n",
    "    height = image_positions[0, 2] - image_positions[1, 2]\n",
    "    pixel_spacing = pixel_spacings[0, 0]\n",
    "    aspect = height / pixel_spacing\n",
    "    return aspect"
   ],
   "metadata": {
    "trusted": true
   },
   "execution_count": null,
   "outputs": []
  },
  {
   "cell_type": "code",
   "source": [
    "DATA_DIR = \"../input/cervicalspine\"\n",
    "TRAIN_IMAGES_DIR = \"../input/rsna-2022-cervical-spine-fracture-detection/train_images\"\n",
    "SEG_IMAGES_DIR = \"../input/cervicalspine/segmentation_images/segmentation_images\""
   ],
   "metadata": {
    "collapsed": false,
    "jupyter": {
     "outputs_hidden": false
    },
    "trusted": true
   },
   "execution_count": null,
   "outputs": []
  },
  {
   "cell_type": "code",
   "source": [
    "seg_df = pd.read_csv(os.path.join(DATA_DIR, 'meta_segment_idx.csv')).set_index('StudyInstanceUID')\n",
    "seg_df.head()"
   ],
   "metadata": {
    "collapsed": false,
    "jupyter": {
     "outputs_hidden": false
    },
    "trusted": true
   },
   "execution_count": null,
   "outputs": []
  },
  {
   "cell_type": "code",
   "source": [
    "from PIL import Image\n",
    "\n",
    "class SegDataset(Dataset):\n",
    "    def __init__(self, df, image_dir, seg_dir, transform=None):\n",
    "        self.df = df\n",
    "        self.image_dir = image_dir\n",
    "        self.seg_dir = seg_dir\n",
    "        self.transform = transform\n",
    "\n",
    "    def __len__(self):\n",
    "        return len(self.df)\n",
    "\n",
    "    def __getitem__(self, idx):\n",
    "        slice_df = self.df.iloc[idx]\n",
    "        UID = slice_df.name\n",
    "\n",
    "        slice_img = read_dcm(os.path.join(TRAIN_IMAGES_DIR, UID), slice_df.InstanceNumber)\n",
    "        slice_img = Image.fromarray(np.uint8(slice_img * 255), 'L')\n",
    "\n",
    "        label_img = Image.open(os.path.join(self.seg_dir, UID, f\"{int(slice_df.seg_idx)}.png\"))\n",
    "        # label_img = np.round(np.asarray(label_img, np.uint8) // 32)\n",
    "        if self.transform:\n",
    "            slice_img, label_img = self.transform(slice_img, label_img)\n",
    "\n",
    "        return slice_img, label_img"
   ],
   "metadata": {
    "collapsed": false,
    "jupyter": {
     "outputs_hidden": false
    },
    "trusted": true
   },
   "execution_count": null,
   "outputs": []
  },
  {
   "cell_type": "code",
   "source": [
    "total_slices = np.arange(len(seg_df))\n",
    "np.random.shuffle(total_slices)\n",
    "train_indices, val_indices = total_slices[:-3000], total_slices[-3000:]\n",
    "train_df = seg_df.iloc[train_indices]\n",
    "val_df = seg_df.iloc[val_indices]\n",
    "train_df.head()"
   ],
   "metadata": {
    "collapsed": false,
    "jupyter": {
     "outputs_hidden": false
    },
    "trusted": true
   },
   "execution_count": null,
   "outputs": []
  },
  {
   "cell_type": "code",
   "source": [
    "class DataTransform(nn.Module):\n",
    "    def __init__(self):\n",
    "        super().__init__()\n",
    "\n",
    "        self.transform = T.Compose([\n",
    "            T.Resize(256),\n",
    "            T.RandomAutocontrast(),\n",
    "            T.ToTensor(),\n",
    "            T.Normalize(0.5, 0.5)\n",
    "        ])\n",
    "\n",
    "        self.target_transform = T.Compose([\n",
    "            T.Resize(256),\n",
    "            T.ToTensor(),\n",
    "        ])\n",
    "\n",
    "    def forward(self, x, y):\n",
    "        x = self.transform(x)\n",
    "\n",
    "        y = self.target_transform(y)\n",
    "        y = y.gt(0).float()\n",
    "\n",
    "        return x, y\n",
    "\n",
    "transform = DataTransform()"
   ],
   "metadata": {
    "collapsed": false,
    "jupyter": {
     "outputs_hidden": false
    },
    "trusted": true
   },
   "execution_count": null,
   "outputs": []
  },
  {
   "cell_type": "code",
   "source": [
    "train_dataset = SegDataset(train_df, TRAIN_IMAGES_DIR, SEG_IMAGES_DIR, transform=transform)\n",
    "val_dataset = SegDataset(val_df, TRAIN_IMAGES_DIR, SEG_IMAGES_DIR, transform=transform)"
   ],
   "metadata": {
    "collapsed": false,
    "jupyter": {
     "outputs_hidden": false
    },
    "trusted": true
   },
   "execution_count": null,
   "outputs": []
  },
  {
   "cell_type": "code",
   "source": [
    "train_loader = DataLoader(train_dataset, batch_size=batch_size, shuffle=True, pin_memory=True, num_workers=os.cpu_count())\n",
    "val_loader = DataLoader(val_dataset, batch_size=batch_size, shuffle=False, pin_memory=True, num_workers=os.cpu_count())"
   ],
   "metadata": {
    "collapsed": false,
    "jupyter": {
     "outputs_hidden": false
    },
    "trusted": true
   },
   "execution_count": null,
   "outputs": []
  },
  {
   "cell_type": "markdown",
   "source": [
    "Check small datasets"
   ],
   "metadata": {}
  },
  {
   "cell_type": "code",
   "source": [
    "\n",
    "x, y = val_dataset[0]\n",
    "_, axs = plt.subplots(1, 2)\n",
    "axs[0].imshow(x.squeeze(), cmap='bone')\n",
    "axs[1].imshow(y.squeeze(), cmap='bone')\n",
    "print(y.mean())"
   ],
   "metadata": {
    "collapsed": false,
    "jupyter": {
     "outputs_hidden": false
    },
    "trusted": true
   },
   "execution_count": null,
   "outputs": []
  },
  {
   "cell_type": "code",
   "source": [
    "print(x.min())\n",
    "print(x.max())\n",
    "print(y.min())\n",
    "print(y.max())"
   ],
   "metadata": {
    "collapsed": false,
    "jupyter": {
     "outputs_hidden": false
    },
    "trusted": true
   },
   "execution_count": null,
   "outputs": []
  },
  {
   "cell_type": "markdown",
   "source": [
    "## Model"
   ],
   "metadata": {}
  },
  {
   "cell_type": "code",
   "source": [
    "class ResidualBlock(nn.Module):\n",
    "    def __init__(self, h):\n",
    "        super().__init__()\n",
    "\n",
    "        self.layers = nn.Sequential(\n",
    "            nn.ReLU(inplace=True),\n",
    "            nn.Conv2d(2*h, h, kernel_size=1),\n",
    "            nn.ReLU(inplace=True),\n",
    "            nn.Conv2d(h, h, kernel_size=3, padding='same'),\n",
    "            nn.ReLU(inplace=True),\n",
    "            nn.Conv2d(h, 2*h, kernel_size=1)\n",
    "        )\n",
    "    def forward(self, x):\n",
    "        out = self.layers(x)\n",
    "        out += x\n",
    "        return out\n",
    "\n",
    "class SegModel(nn.Module):\n",
    "    def __init__(self, h, num_residual=8):\n",
    "        super().__init__()\n",
    "\n",
    "        self.layers = nn.Sequential(\n",
    "            nn.Conv2d(1, 2*h, kernel_size=3, padding='same'),\n",
    "            *[\n",
    "                ResidualBlock(h) for _ in range(num_residual)\n",
    "            ],\n",
    "            nn.ReLU(inplace=True),\n",
    "            nn.Conv2d(2*h, 1, kernel_size=1)\n",
    "        )\n",
    "\n",
    "    def forward(self, x):\n",
    "        return self.layers(x)"
   ],
   "metadata": {
    "collapsed": false,
    "jupyter": {
     "outputs_hidden": false
    },
    "trusted": true
   },
   "execution_count": null,
   "outputs": []
  },
  {
   "cell_type": "code",
   "source": [
    "import torchvision.models as models\n",
    "\n",
    "def resnet18_gray():\n",
    "    model = models.resnet18(pretrained=True)\n",
    "    conv1_weight = model.conv1.weight\n",
    "    conv1_weight = conv1_weight.mean(dim=1).unsqueeze(1)\n",
    "\n",
    "    model.conv1 = nn.Conv2d(1, 64, kernel_size=(7, 7), stride=1, padding='same', bias=False)\n",
    "    model.conv1.weight = nn.Parameter(conv1_weight, requires_grad=True)\n",
    "\n",
    "    return model\n",
    "\n",
    "def resnet50_gray():\n",
    "    model = models.resnet50(pretrained=True)\n",
    "    conv1_weight = model.conv1.weight\n",
    "    conv1_weight = conv1_weight.mean(dim=1).unsqueeze(1)\n",
    "\n",
    "    model.conv1 = nn.Conv2d(1, 64, kernel_size=(7, 7), stride=1, padding='same', bias=False)\n",
    "    model.conv1.weight = nn.Parameter(conv1_weight, requires_grad=True)\n",
    "\n",
    "    return model"
   ],
   "metadata": {
    "trusted": true
   },
   "execution_count": null,
   "outputs": []
  },
  {
   "cell_type": "code",
   "source": [
    "class DetectionModel(nn.Module):\n",
    "    def __init__(self, backbone, channels, deep=4, out_channels=64, n_features=1):\n",
    "        super().__init__()\n",
    "\n",
    "        self.backbone = backbone\n",
    "        self.deep = deep\n",
    "        self.channels = channels\n",
    "        self.out_channels = out_channels\n",
    "        self.n_features = n_features\n",
    "\n",
    "        self.init_layers()\n",
    "\n",
    "    def init_layers(self):\n",
    "        self.parallel_modules = self.make_parallel_modules()\n",
    "        self.upsampling_modules = self.make_upsampling_modules()\n",
    "\n",
    "        self.downsampling_modules = self.make_downsampling_modules()\n",
    "        self.classification_modules = self.make_classification_modules()\n",
    "\n",
    "    def make_classification_modules(self):\n",
    "        # the last layer\n",
    "        return nn.Sequential(\n",
    "            nn.Conv2d(self.out_channels, self.n_features, kernel_size=1),\n",
    "#             nn.AdaptiveMaxPool2d(output_size=(None, 1))\n",
    "        )\n",
    "\n",
    "    def make_parallel_modules(self):\n",
    "        parallel_modules = nn.ModuleList()\n",
    "\n",
    "        for i in range(self.deep):\n",
    "            module = nn.Conv2d(self.channels[i], self.channels[i], kernel_size=3, padding='same')\n",
    "            parallel_modules.append(module)\n",
    "\n",
    "\n",
    "        return parallel_modules\n",
    "\n",
    "    def make_downsampling_modules(self):\n",
    "        return nn.ModuleList([\n",
    "            nn.Sequential(\n",
    "                self.backbone.conv1,\n",
    "                self.backbone.bn1,\n",
    "                self.backbone.relu,\n",
    "                self.backbone.maxpool),\n",
    "            nn.Sequential(\n",
    "                self.backbone.layer1,\n",
    "                self.backbone.layer2,\n",
    "            ),\n",
    "            self.backbone.layer3,\n",
    "            self.backbone.layer4\n",
    "        ])\n",
    "\n",
    "    def make_upsampling_modules(self):\n",
    "        upsampling_modules = nn.ModuleList()\n",
    "\n",
    "        for i in range(self.deep):\n",
    "            module = nn.Sequential(\n",
    "                nn.ReLU(inplace=True),\n",
    "                nn.Conv2d(self.channels[i], self.channels[i-1] if i > 0 else self.out_channels, kernel_size=1),\n",
    "                nn.ReLU(inplace=True),\n",
    "                nn.Upsample(scale_factor=2)\n",
    "            )\n",
    "            upsampling_modules.append(module)\n",
    "\n",
    "        return upsampling_modules\n",
    "\n",
    "\n",
    "\n",
    "    def forward(self, x):\n",
    "\n",
    "        downsampling_outputs = []\n",
    "        out = x\n",
    "        for module in self.downsampling_modules:\n",
    "            out = module(out)\n",
    "            downsampling_outputs.append(out)\n",
    "\n",
    "        parallel_outputs = []\n",
    "        for i in range(len(self.parallel_modules)):\n",
    "            module = self.parallel_modules[i]\n",
    "            out = module(downsampling_outputs[i])\n",
    "            parallel_outputs.append(out)\n",
    "\n",
    "        out = 0\n",
    "        for i in range(len(self.upsampling_modules)):\n",
    "            module = self.upsampling_modules[-(i+1)]\n",
    "            parallel_output = parallel_outputs[-(i+1)]\n",
    "\n",
    "            up_input = out + parallel_output\n",
    "            out = module(up_input)\n",
    "\n",
    "        out = self.classification_modules(out)\n",
    "\n",
    "        return out\n",
    "\n",
    "# backbone = resnet18_gray()\n",
    "# model = DetectionModel(backbone, channels=[64, 128, 256, 512], out_channels=64, n_features=1)\n",
    "\n",
    "# input = torch.randn(1, 1, 512, 512)\n",
    "# model(input).shape"
   ],
   "metadata": {
    "collapsed": false,
    "jupyter": {
     "outputs_hidden": false
    },
    "trusted": true
   },
   "execution_count": null,
   "outputs": []
  },
  {
   "cell_type": "code",
   "execution_count": null,
   "outputs": [],
   "source": [
    "device = 'cuda' if torch.cuda.is_available() else 'cpu'"
   ],
   "metadata": {
    "collapsed": false
   }
  },
  {
   "cell_type": "markdown",
   "source": [
    "## Model"
   ],
   "metadata": {
    "collapsed": false
   }
  },
  {
   "cell_type": "code",
   "source": [
    "# model = SegModel(256, num_residual=8).to(device)\n",
    "# total_params = sum(p.numel() for p in model.parameters() if p.requires_grad)\n",
    "# total_params"
   ],
   "metadata": {
    "trusted": true
   },
   "execution_count": null,
   "outputs": []
  },
  {
   "cell_type": "code",
   "source": [
    "if backbone == 'resnet18':\n",
    "    backbone = resnet18_gray()\n",
    "    channels = [64, 128, 256, 512]\n",
    "    \n",
    "elif backbone == 'resnet50':\n",
    "    backbone = resnet50_gray()\n",
    "    channels = [64, 512, 1024, 2048]\n",
    "    \n",
    "    \n",
    "model = DetectionModel(backbone, channels=channels, out_channels=channels[0], n_features=1).to(device)\n",
    "\n",
    "total_params = sum(p.numel() for p in model.parameters() if p.requires_grad)\n",
    "total_params"
   ],
   "metadata": {
    "collapsed": false,
    "jupyter": {
     "outputs_hidden": false
    },
    "trusted": true
   },
   "execution_count": null,
   "outputs": []
  },
  {
   "cell_type": "code",
   "source": [
    "optimizer = optim.AdamW(model.parameters(), lr=lr, weight_decay=wd)\n",
    "scaler = torch.cuda.amp.GradScaler(enabled=(device == 'cuda'))"
   ],
   "metadata": {
    "collapsed": false,
    "jupyter": {
     "outputs_hidden": false
    },
    "trusted": true
   },
   "execution_count": null,
   "outputs": []
  },
  {
   "cell_type": "code",
   "source": [
    "def loss_fn(logits, y, pos_weight=10):\n",
    "    loss = F.binary_cross_entropy_with_logits(logits, y, pos_weight=torch.tensor(pos_weight))\n",
    "    return loss"
   ],
   "metadata": {
    "collapsed": false,
    "jupyter": {
     "outputs_hidden": false
    },
    "trusted": true
   },
   "execution_count": null,
   "outputs": []
  },
  {
   "cell_type": "code",
   "source": [
    "def train_one_epoch(e, model, dataloader):\n",
    "\n",
    "    model.train()\n",
    "    train_iter = tqdm(dataloader)\n",
    "    losses = []\n",
    "\n",
    "    for i, (x, y) in enumerate(train_iter):\n",
    "        x = x.to(device)\n",
    "        y = y.to(device)\n",
    "\n",
    "        with torch.cuda.amp.autocast(device == 'cuda'):\n",
    "            logits = model(x)\n",
    "            loss = loss_fn(logits, y, pos_weight=pos_weight)\n",
    "\n",
    "\n",
    "        optimizer.zero_grad()\n",
    "        scaler.scale(loss).backward()\n",
    "        scaler.step(optimizer)\n",
    "        scaler.update()\n",
    "        # nn.utils.clip_grad_norm_(model.parameters(), 1.)\n",
    "        # optimizer.step()\n",
    "\n",
    "        train_iter.set_description(f\"t {e} loss {loss.item():.4f}\")\n",
    "\n",
    "        losses.append(loss.item())\n",
    "\n",
    "        if i % 100 == 0:\n",
    "            with torch.no_grad():\n",
    "                inference(model, val_dataset)\n",
    "            model.train()\n",
    "\n",
    "        if wandb.run is not None:\n",
    "            wandb.log({\n",
    "                'train_loss' : loss.item(),\n",
    "                'epoch' : e\n",
    "            })\n",
    "\n",
    "    return np.mean(losses)"
   ],
   "metadata": {
    "collapsed": false,
    "jupyter": {
     "outputs_hidden": false
    },
    "trusted": true
   },
   "execution_count": null,
   "outputs": []
  },
  {
   "cell_type": "code",
   "source": [
    "def evaluate(e, model, dataloader):\n",
    "\n",
    "    model.eval()\n",
    "    eval_iter = tqdm(dataloader)\n",
    "    losses = []\n",
    "\n",
    "    for i, (x, y) in enumerate(eval_iter):\n",
    "        x = x.to(device)\n",
    "        y = y.to(device)\n",
    "\n",
    "        logits = model(x)\n",
    "        loss = loss_fn(logits, y, pos_weight=pos_weight)\n",
    "\n",
    "        eval_iter.set_description(f\"e {e} loss {loss.item():.4f}\")\n",
    "\n",
    "        losses.append(loss.item())\n",
    "\n",
    "        if wandb.run is not None:\n",
    "            wandb.log({\n",
    "                'val_loss' : loss.item(),\n",
    "                'epoch' : e\n",
    "            })\n",
    "\n",
    "    return np.mean(losses)"
   ],
   "metadata": {
    "collapsed": false,
    "jupyter": {
     "outputs_hidden": false
    },
    "trusted": true
   },
   "execution_count": null,
   "outputs": []
  },
  {
   "cell_type": "code",
   "source": [
    "def inference(model, dataset, i_list=None, wandb_log=True):\n",
    "    model.eval()\n",
    "    if i_list is None:\n",
    "        i_list = np.random.choice(len(dataset) - 1, 4)\n",
    "    x_list = []\n",
    "    y_list = []\n",
    "    for i in i_list:\n",
    "        x, y = dataset[i]\n",
    "        x_list.append(x)\n",
    "        y_list.append(y)\n",
    "    x, y = torch.stack(x_list), torch.stack(y_list)\n",
    "\n",
    "    x = x.to(device)\n",
    "    logits = model(x)\n",
    "    pred = logits.sigmoid().gt(0.5).float()\n",
    "\n",
    "    img = x * 0.5 + 0.5\n",
    "    \n",
    "    combined_img = np.concatenate((img.squeeze().cpu().numpy(), pred.squeeze().cpu().numpy(), y.squeeze().cpu().numpy()), axis=-1)\n",
    "\n",
    "    combined_img = combined_img.reshape(-1, combined_img.shape[-1])\n",
    "    if wandb.run is not None and wandb_log is True:\n",
    "        wandb.log({\n",
    "            'val_img_pred_label' : wandb.Image(combined_img),\n",
    "        })\n",
    "\n",
    "#     plt.imshow(combined_img, cmap='bone')\n",
    "    # _, axs = plt.subplots(1, 2)\n",
    "    # axs[0].imshow(img.squeeze().cpu(), cmap='bone')\n",
    "    # axs[1].imshow(pred.squeeze().cpu())\n",
    "\n",
    "# with torch.no_grad():\n",
    "#     inference(model, val_dataset, i_list=None, wandb_log=False)"
   ],
   "metadata": {
    "collapsed": false,
    "jupyter": {
     "outputs_hidden": false
    },
    "trusted": true
   },
   "execution_count": null,
   "outputs": []
  },
  {
   "cell_type": "code",
   "source": [
    "epochs = 10\n",
    "\n",
    "for epoch in range(epochs):\n",
    "\n",
    "    train_loss = train_one_epoch(epoch, model, train_loader)\n",
    "\n",
    "    with torch.no_grad():\n",
    "        eval_loss = evaluate(epoch, model, val_loader)\n",
    "        inference(model, val_dataset)\n",
    "\n",
    "    print(f\"epoch {epoch} train_loss {train_loss} eval_loss {eval_loss}\")\n",
    "\n",
    "    # if wandb.run is not None:\n",
    "    #     wandb.log({\n",
    "    #         'average_train_loss' : train_loss,\n",
    "    #         'average_eval_loss' : eval_loss,\n",
    "    #     })"
   ],
   "metadata": {
    "trusted": true
   },
   "execution_count": null,
   "outputs": []
  },
  {
   "cell_type": "code",
   "execution_count": null,
   "outputs": [],
   "source": [
    "torch.save(model.state_dict(), f'{wandb.run.name}.pth')"
   ],
   "metadata": {
    "collapsed": false
   }
  }
 ]
}
