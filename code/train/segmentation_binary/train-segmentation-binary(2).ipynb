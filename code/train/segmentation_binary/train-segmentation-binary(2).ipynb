{
 "metadata": {
  "kernelspec": {
   "display_name": "Python 3",
   "language": "python",
   "name": "python3"
  },
  "language_info": {
   "name": "python",
   "version": "3.7.12",
   "mimetype": "text/x-python",
   "codemirror_mode": {
    "name": "ipython",
    "version": 3
   },
   "pygments_lexer": "ipython3",
   "nbconvert_exporter": "python",
   "file_extension": ".py"
  }
 },
 "nbformat_minor": 4,
 "nbformat": 4,
 "cells": [
  {
   "cell_type": "code",
   "source": [
    "! pip install python-gdcm\n",
    "! pip install pylibjpeg pylibjpeg-libjpeg pydicom pylibjpeg-openjpeg"
   ],
   "metadata": {
    "collapsed": false,
    "jupyter": {
     "outputs_hidden": false
    },
    "execution": {
     "iopub.status.busy": "2022-09-19T11:26:03.090240Z",
     "iopub.execute_input": "2022-09-19T11:26:03.090721Z",
     "iopub.status.idle": "2022-09-19T11:26:21.938164Z",
     "shell.execute_reply.started": "2022-09-19T11:26:03.090626Z",
     "shell.execute_reply": "2022-09-19T11:26:21.936836Z"
    },
    "trusted": true
   },
   "execution_count": 1,
   "outputs": [
    {
     "name": "stdout",
     "text": "Requirement already satisfied: python-gdcm in /opt/conda/lib/python3.7/site-packages (3.0.17.1)\n\u001B[33mWARNING: Running pip as the 'root' user can result in broken permissions and conflicting behaviour with the system package manager. It is recommended to use a virtual environment instead: https://pip.pypa.io/warnings/venv\u001B[0m\u001B[33m\n\u001B[0mRequirement already satisfied: pylibjpeg in /opt/conda/lib/python3.7/site-packages (1.4.0)\nRequirement already satisfied: pylibjpeg-libjpeg in /opt/conda/lib/python3.7/site-packages (1.3.1)\nRequirement already satisfied: pydicom in /opt/conda/lib/python3.7/site-packages (2.3.0)\nRequirement already satisfied: pylibjpeg-openjpeg in /opt/conda/lib/python3.7/site-packages (1.2.1)\nRequirement already satisfied: numpy in /opt/conda/lib/python3.7/site-packages (from pylibjpeg) (1.21.6)\n\u001B[33mWARNING: Running pip as the 'root' user can result in broken permissions and conflicting behaviour with the system package manager. It is recommended to use a virtual environment instead: https://pip.pypa.io/warnings/venv\u001B[0m\u001B[33m\n\u001B[0m",
     "output_type": "stream"
    }
   ]
  },
  {
   "cell_type": "code",
   "source": [
    "import wandb\n",
    "from datetime import datetime"
   ],
   "metadata": {
    "collapsed": false,
    "jupyter": {
     "outputs_hidden": false
    },
    "execution": {
     "iopub.status.busy": "2022-09-19T11:26:21.945204Z",
     "iopub.execute_input": "2022-09-19T11:26:21.947566Z",
     "iopub.status.idle": "2022-09-19T11:26:22.469186Z",
     "shell.execute_reply.started": "2022-09-19T11:26:21.947522Z",
     "shell.execute_reply": "2022-09-19T11:26:22.467967Z"
    },
    "trusted": true
   },
   "execution_count": 2,
   "outputs": []
  },
  {
   "cell_type": "code",
   "source": [
    "from kaggle_secrets import UserSecretsClient\n",
    "\n",
    "user_secrets = UserSecretsClient()\n",
    "\n",
    "# I have saved my API token with \"wandb_api\" as Label. \n",
    "# If you use some other Label make sure to change the same below. \n",
    "wandb_api_key_local = user_secrets.get_secret(\"wandb_api_key_local\") \n",
    "\n",
    "wandb.login(key=wandb_api_key_local, host=\"http://8.210.101.57:8081\")"
   ],
   "metadata": {
    "execution": {
     "iopub.status.busy": "2022-09-19T11:26:22.474451Z",
     "iopub.execute_input": "2022-09-19T11:26:22.477051Z",
     "iopub.status.idle": "2022-09-19T11:26:24.588269Z",
     "shell.execute_reply.started": "2022-09-19T11:26:22.477009Z",
     "shell.execute_reply": "2022-09-19T11:26:24.587150Z"
    },
    "trusted": true
   },
   "execution_count": 3,
   "outputs": [
    {
     "name": "stderr",
     "text": "\u001B[34m\u001B[1mwandb\u001B[0m: Currently logged in as: \u001B[33mlongyi\u001B[0m. Use \u001B[1m`wandb login --relogin`\u001B[0m to force relogin\n\u001B[34m\u001B[1mwandb\u001B[0m: \u001B[33mWARNING\u001B[0m If you're specifying your api key in code, ensure this code is not shared publicly.\n\u001B[34m\u001B[1mwandb\u001B[0m: \u001B[33mWARNING\u001B[0m Consider setting the WANDB_API_KEY environment variable, or running `wandb login` from the command line.\n\u001B[34m\u001B[1mwandb\u001B[0m: Appending key for 8.210.101.57 to your netrc file: /root/.netrc\n",
     "output_type": "stream"
    },
    {
     "execution_count": 3,
     "output_type": "execute_result",
     "data": {
      "text/plain": "True"
     },
     "metadata": {}
    }
   ]
  },
  {
   "cell_type": "code",
   "source": [
    "lr = 5e-4\n",
    "batch_size = 32\n",
    "wd = 1e-5\n",
    "pos_weight = 20\n",
    "backbone=\"resnet50\""
   ],
   "metadata": {
    "collapsed": false,
    "jupyter": {
     "outputs_hidden": false
    },
    "execution": {
     "iopub.status.busy": "2022-09-19T11:26:24.589769Z",
     "iopub.execute_input": "2022-09-19T11:26:24.590231Z",
     "iopub.status.idle": "2022-09-19T11:26:24.596098Z",
     "shell.execute_reply.started": "2022-09-19T11:26:24.590194Z",
     "shell.execute_reply": "2022-09-19T11:26:24.594738Z"
    },
    "trusted": true
   },
   "execution_count": 4,
   "outputs": []
  },
  {
   "cell_type": "code",
   "source": [
    "wandb_entity='longyi'\n",
    "model_name = \"detection\"\n",
    "wandb.init(project=\"cervical-spine\", entity=wandb_entity, config={\n",
    "    \"model\":model_name,\n",
    "    \"batch_size\":batch_size,\n",
    "    \"lr\" : lr,\n",
    "    \"wd\" : wd,\n",
    "    \"pos_weight\" : pos_weight,\n",
    "    \"backbone\" : backbone\n",
    "})\n",
    "wandb.run.name = f'brief_segmentation_{model_name}_' + datetime.now().strftime(\"%H%M%S\")\n",
    "wandb.run.name"
   ],
   "metadata": {
    "collapsed": false,
    "jupyter": {
     "outputs_hidden": false
    },
    "execution": {
     "iopub.status.busy": "2022-09-19T11:26:24.600174Z",
     "iopub.execute_input": "2022-09-19T11:26:24.600523Z",
     "iopub.status.idle": "2022-09-19T11:26:32.354822Z",
     "shell.execute_reply.started": "2022-09-19T11:26:24.600489Z",
     "shell.execute_reply": "2022-09-19T11:26:32.353533Z"
    },
    "trusted": true
   },
   "execution_count": 5,
   "outputs": [
    {
     "output_type": "display_data",
     "data": {
      "text/plain": "<IPython.core.display.HTML object>",
      "text/html": "wandb version 0.13.3 is available!  To upgrade, please run:\n $ pip install wandb --upgrade"
     },
     "metadata": {}
    },
    {
     "output_type": "display_data",
     "data": {
      "text/plain": "<IPython.core.display.HTML object>",
      "text/html": "Tracking run with wandb version 0.12.21"
     },
     "metadata": {}
    },
    {
     "output_type": "display_data",
     "data": {
      "text/plain": "<IPython.core.display.HTML object>",
      "text/html": "Run data is saved locally in <code>/kaggle/working/wandb/run-20220919_112624-x1kt4w8n</code>"
     },
     "metadata": {}
    },
    {
     "output_type": "display_data",
     "data": {
      "text/plain": "<IPython.core.display.HTML object>",
      "text/html": "Syncing run <strong><a href=\"http://8.210.101.57:8081/longyi/cervical-spine/runs/x1kt4w8n\" target=\"_blank\">dauntless-vortex-3</a></strong> to <a href=\"http://8.210.101.57:8081/longyi/cervical-spine\" target=\"_blank\">Weights & Biases</a> (<a href=\"https://wandb.me/run\" target=\"_blank\">docs</a>)<br/>"
     },
     "metadata": {}
    },
    {
     "execution_count": 5,
     "output_type": "execute_result",
     "data": {
      "text/plain": "'brief_segmentation_detection_112631'"
     },
     "metadata": {}
    }
   ]
  },
  {
   "cell_type": "code",
   "source": [
    "import os\n",
    "import glob\n",
    "import pydicom\n",
    "import nibabel as nib\n",
    "import pandas as pd\n",
    "import numpy as np\n",
    "from pydicom.pixel_data_handlers.util import apply_voi_lut\n",
    "import matplotlib.pyplot as plt\n",
    "import matplotlib.patches as patches\n",
    "import seaborn as sns\n",
    "\n",
    "import pylibjpeg\n",
    "from tqdm import tqdm"
   ],
   "metadata": {
    "execution": {
     "iopub.status.busy": "2022-09-19T11:26:32.359858Z",
     "iopub.execute_input": "2022-09-19T11:26:32.362822Z",
     "iopub.status.idle": "2022-09-19T11:26:34.015209Z",
     "shell.execute_reply.started": "2022-09-19T11:26:32.362780Z",
     "shell.execute_reply": "2022-09-19T11:26:34.014088Z"
    },
    "trusted": true
   },
   "execution_count": 6,
   "outputs": []
  },
  {
   "cell_type": "code",
   "source": [
    "import torch\n",
    "import torch.nn as nn\n",
    "import torch.nn.functional as F\n",
    "import torch.optim as optim\n",
    "from torch.utils.data import Dataset, DataLoader\n",
    "import torchvision\n",
    "from torchvision.io import read_image\n",
    "import torchvision.transforms as T\n",
    "from torchvision.transforms import Compose, ToTensor, Normalize, Resize, CenterCrop\n",
    "import torchvision.transforms.functional as TF"
   ],
   "metadata": {
    "collapsed": false,
    "jupyter": {
     "outputs_hidden": false
    },
    "execution": {
     "iopub.status.busy": "2022-09-19T11:26:34.020294Z",
     "iopub.execute_input": "2022-09-19T11:26:34.022765Z",
     "iopub.status.idle": "2022-09-19T11:26:35.854373Z",
     "shell.execute_reply.started": "2022-09-19T11:26:34.022722Z",
     "shell.execute_reply": "2022-09-19T11:26:35.853276Z"
    },
    "trusted": true
   },
   "execution_count": 7,
   "outputs": []
  },
  {
   "cell_type": "code",
   "source": [
    "def rescale_img_to_hu(dcm_ds):\n",
    "    \"\"\"Rescales the image to Hounsfield unit.\n",
    "    \"\"\"\n",
    "    return dcm_ds.pixel_array * dcm_ds.RescaleSlope + dcm_ds.RescaleIntercept\n",
    "\n",
    "\n",
    "def read_dcm(patient_dir, num_instance):\n",
    "    dcm_path = os.path.join(patient_dir, f\"{int(num_instance)}.dcm\")\n",
    "    ds = pydicom.dcmread(dcm_path)\n",
    "    img2d = rescale_img_to_hu(ds)\n",
    "    return normalize_hu(img2d)\n",
    "\n",
    "def read_patient_dcm(patient_dir):\n",
    "\n",
    "    num_slices = len(glob.glob(patient_dir + \"/*.dcm\"))\n",
    "    print(f\"total slices {num_slices}\")\n",
    "    imgs = np.zeros((num_slices, 512, 512))\n",
    "    image_positions = np.zeros((num_slices, 3))\n",
    "    image_orientations = np.zeros((num_slices, 6))\n",
    "    pixel_spacings = np.zeros((num_slices, 2))\n",
    "    slice_thicknesses = np.zeros((num_slices, 1))\n",
    "\n",
    "    ignore_count = 1\n",
    "    for i in range(num_slices):\n",
    "        dcm_path = os.path.join(patient_dir, f\"{i+ignore_count}.dcm\")\n",
    "        while os.path.exists(dcm_path) == False:\n",
    "            ignore_count += 1\n",
    "            dcm_path = os.path.join(patient_dir, f\"{i+ignore_count}.dcm\")\n",
    "        ds = pydicom.dcmread(dcm_path)\n",
    "\n",
    "        image_positions[i, :] = ds.ImagePositionPatient\n",
    "        image_orientations[i, :] = ds.ImageOrientationPatient\n",
    "        pixel_spacings[i, :] = ds.PixelSpacing\n",
    "        slice_thicknesses[i, :] = ds.SliceThickness\n",
    "\n",
    "        img2d = rescale_img_to_hu(ds)\n",
    "\n",
    "        imgs[i] = img2d\n",
    "\n",
    "    is_flip = False\n",
    "    # check z is in good direction\n",
    "    if image_positions[0, 2] < image_positions[1, 2]:\n",
    "        is_flip = True\n",
    "        # flip image in z direction\n",
    "        imgs = np.flip(imgs, axis=0)\n",
    "        image_positions = np.flip(image_positions, axis=0)\n",
    "        pixel_spacings = np.flip(pixel_spacings, axis=0)\n",
    "        slice_thicknesses = np.flip(slice_thicknesses, axis=0)\n",
    "\n",
    "    return imgs, image_positions, image_orientations, pixel_spacings, slice_thicknesses, is_flip\n",
    "\n",
    "\n",
    "def normalize_hu(data):\n",
    "    # return (data - data.min()) / data.max()\n",
    "    data = np.clip(data, a_min=-2242, a_max=2242) / 4484 + 0.5\n",
    "    return data\n",
    "\n",
    "def calculate_aspect(image_positions, pixel_spacings):\n",
    "    \"\"\"\n",
    "    calculate z aspect, z 를 몇배로 늘여야 하는가야\n",
    "    :param image_positions:\n",
    "    :param pixel_spacings:\n",
    "    :return:\n",
    "    \"\"\"\n",
    "    height = image_positions[0, 2] - image_positions[1, 2]\n",
    "    pixel_spacing = pixel_spacings[0, 0]\n",
    "    aspect = height / pixel_spacing\n",
    "    return aspect"
   ],
   "metadata": {
    "execution": {
     "iopub.status.busy": "2022-09-19T11:26:35.859626Z",
     "iopub.execute_input": "2022-09-19T11:26:35.862184Z",
     "iopub.status.idle": "2022-09-19T11:26:36.882416Z",
     "shell.execute_reply.started": "2022-09-19T11:26:35.862144Z",
     "shell.execute_reply": "2022-09-19T11:26:36.881501Z"
    },
    "trusted": true
   },
   "execution_count": 8,
   "outputs": []
  },
  {
   "cell_type": "code",
   "source": [
    "DATA_DIR = \"../input/cervicalspine\"\n",
    "TRAIN_IMAGES_DIR = \"../input/rsna-2022-cervical-spine-fracture-detection/train_images\"\n",
    "SEG_IMAGES_DIR = \"../input/cervicalspine/segmentation_images/segmentation_images\""
   ],
   "metadata": {
    "collapsed": false,
    "jupyter": {
     "outputs_hidden": false
    },
    "execution": {
     "iopub.status.busy": "2022-09-19T11:26:36.887123Z",
     "iopub.execute_input": "2022-09-19T11:26:36.889326Z",
     "iopub.status.idle": "2022-09-19T11:26:38.059497Z",
     "shell.execute_reply.started": "2022-09-19T11:26:36.889288Z",
     "shell.execute_reply": "2022-09-19T11:26:38.058456Z"
    },
    "trusted": true
   },
   "execution_count": 9,
   "outputs": []
  },
  {
   "cell_type": "code",
   "source": [
    "seg_df = pd.read_csv(os.path.join(DATA_DIR, 'meta_segment_idx.csv')).set_index('StudyInstanceUID')\n",
    "seg_df.head()"
   ],
   "metadata": {
    "collapsed": false,
    "jupyter": {
     "outputs_hidden": false
    },
    "execution": {
     "iopub.status.busy": "2022-09-19T11:26:38.064346Z",
     "iopub.execute_input": "2022-09-19T11:26:38.066784Z",
     "iopub.status.idle": "2022-09-19T11:26:39.048882Z",
     "shell.execute_reply.started": "2022-09-19T11:26:38.066744Z",
     "shell.execute_reply": "2022-09-19T11:26:39.047832Z"
    },
    "trusted": true
   },
   "execution_count": 10,
   "outputs": [
    {
     "execution_count": 10,
     "output_type": "execute_result",
     "data": {
      "text/plain": "                           InstanceNumber  seg_idx  ImagePositionPatientZ\nStudyInstanceUID                                                         \n1.2.826.0.1.3680043.10633               1      428             314.099976\n1.2.826.0.1.3680043.10633               2      427             313.599976\n1.2.826.0.1.3680043.10633               3      426             313.099976\n1.2.826.0.1.3680043.10633               4      425             312.599976\n1.2.826.0.1.3680043.10633               5      424             312.099976",
      "text/html": "<div>\n<style scoped>\n    .dataframe tbody tr th:only-of-type {\n        vertical-align: middle;\n    }\n\n    .dataframe tbody tr th {\n        vertical-align: top;\n    }\n\n    .dataframe thead th {\n        text-align: right;\n    }\n</style>\n<table border=\"1\" class=\"dataframe\">\n  <thead>\n    <tr style=\"text-align: right;\">\n      <th></th>\n      <th>InstanceNumber</th>\n      <th>seg_idx</th>\n      <th>ImagePositionPatientZ</th>\n    </tr>\n    <tr>\n      <th>StudyInstanceUID</th>\n      <th></th>\n      <th></th>\n      <th></th>\n    </tr>\n  </thead>\n  <tbody>\n    <tr>\n      <th>1.2.826.0.1.3680043.10633</th>\n      <td>1</td>\n      <td>428</td>\n      <td>314.099976</td>\n    </tr>\n    <tr>\n      <th>1.2.826.0.1.3680043.10633</th>\n      <td>2</td>\n      <td>427</td>\n      <td>313.599976</td>\n    </tr>\n    <tr>\n      <th>1.2.826.0.1.3680043.10633</th>\n      <td>3</td>\n      <td>426</td>\n      <td>313.099976</td>\n    </tr>\n    <tr>\n      <th>1.2.826.0.1.3680043.10633</th>\n      <td>4</td>\n      <td>425</td>\n      <td>312.599976</td>\n    </tr>\n    <tr>\n      <th>1.2.826.0.1.3680043.10633</th>\n      <td>5</td>\n      <td>424</td>\n      <td>312.099976</td>\n    </tr>\n  </tbody>\n</table>\n</div>"
     },
     "metadata": {}
    }
   ]
  },
  {
   "cell_type": "code",
   "source": [
    "from PIL import Image\n",
    "\n",
    "class SegDataset(Dataset):\n",
    "    def __init__(self, df, image_dir, seg_dir, transform=None):\n",
    "        self.df = df\n",
    "        self.image_dir = image_dir\n",
    "        self.seg_dir = seg_dir\n",
    "        self.transform = transform\n",
    "\n",
    "    def __len__(self):\n",
    "        return len(self.df)\n",
    "\n",
    "    def __getitem__(self, idx):\n",
    "        slice_df = self.df.iloc[idx]\n",
    "        UID = slice_df.name\n",
    "\n",
    "        slice_img = read_dcm(os.path.join(TRAIN_IMAGES_DIR, UID), slice_df.InstanceNumber)\n",
    "        slice_img = Image.fromarray(np.uint8(slice_img * 255), 'L')\n",
    "\n",
    "        label_img = Image.open(os.path.join(self.seg_dir, UID, f\"{int(slice_df.seg_idx)}.png\"))\n",
    "        # label_img = np.round(np.asarray(label_img, np.uint8) // 32)\n",
    "        if self.transform:\n",
    "            slice_img, label_img = self.transform(slice_img, label_img)\n",
    "\n",
    "        return slice_img, label_img"
   ],
   "metadata": {
    "collapsed": false,
    "jupyter": {
     "outputs_hidden": false
    },
    "execution": {
     "iopub.status.busy": "2022-09-19T11:26:39.053720Z",
     "iopub.execute_input": "2022-09-19T11:26:39.056237Z",
     "iopub.status.idle": "2022-09-19T11:26:39.992791Z",
     "shell.execute_reply.started": "2022-09-19T11:26:39.056197Z",
     "shell.execute_reply": "2022-09-19T11:26:39.991789Z"
    },
    "trusted": true
   },
   "execution_count": 11,
   "outputs": []
  },
  {
   "cell_type": "code",
   "source": [
    "total_slices = np.arange(len(seg_df))\n",
    "np.random.shuffle(total_slices)\n",
    "train_indices, val_indices = total_slices[:-3000], total_slices[-3000:]\n",
    "train_df = seg_df.iloc[train_indices]\n",
    "val_df = seg_df.iloc[val_indices]\n",
    "train_df.head()"
   ],
   "metadata": {
    "collapsed": false,
    "jupyter": {
     "outputs_hidden": false
    },
    "execution": {
     "iopub.status.busy": "2022-09-19T11:26:39.997732Z",
     "iopub.execute_input": "2022-09-19T11:26:40.000031Z",
     "iopub.status.idle": "2022-09-19T11:26:41.007372Z",
     "shell.execute_reply.started": "2022-09-19T11:26:39.999991Z",
     "shell.execute_reply": "2022-09-19T11:26:41.006206Z"
    },
    "trusted": true
   },
   "execution_count": 12,
   "outputs": [
    {
     "execution_count": 12,
     "output_type": "execute_result",
     "data": {
      "text/plain": "                           InstanceNumber  seg_idx  ImagePositionPatientZ\nStudyInstanceUID                                                         \n1.2.826.0.1.3680043.24606             215      214                -91.000\n1.2.826.0.1.3680043.26442             260      109               -211.875\n1.2.826.0.1.3680043.5002              397        2                 44.500\n1.2.826.0.1.3680043.5782              555       14              -1156.600\n1.2.826.0.1.3680043.17960              25      246                164.250",
      "text/html": "<div>\n<style scoped>\n    .dataframe tbody tr th:only-of-type {\n        vertical-align: middle;\n    }\n\n    .dataframe tbody tr th {\n        vertical-align: top;\n    }\n\n    .dataframe thead th {\n        text-align: right;\n    }\n</style>\n<table border=\"1\" class=\"dataframe\">\n  <thead>\n    <tr style=\"text-align: right;\">\n      <th></th>\n      <th>InstanceNumber</th>\n      <th>seg_idx</th>\n      <th>ImagePositionPatientZ</th>\n    </tr>\n    <tr>\n      <th>StudyInstanceUID</th>\n      <th></th>\n      <th></th>\n      <th></th>\n    </tr>\n  </thead>\n  <tbody>\n    <tr>\n      <th>1.2.826.0.1.3680043.24606</th>\n      <td>215</td>\n      <td>214</td>\n      <td>-91.000</td>\n    </tr>\n    <tr>\n      <th>1.2.826.0.1.3680043.26442</th>\n      <td>260</td>\n      <td>109</td>\n      <td>-211.875</td>\n    </tr>\n    <tr>\n      <th>1.2.826.0.1.3680043.5002</th>\n      <td>397</td>\n      <td>2</td>\n      <td>44.500</td>\n    </tr>\n    <tr>\n      <th>1.2.826.0.1.3680043.5782</th>\n      <td>555</td>\n      <td>14</td>\n      <td>-1156.600</td>\n    </tr>\n    <tr>\n      <th>1.2.826.0.1.3680043.17960</th>\n      <td>25</td>\n      <td>246</td>\n      <td>164.250</td>\n    </tr>\n  </tbody>\n</table>\n</div>"
     },
     "metadata": {}
    }
   ]
  },
  {
   "cell_type": "code",
   "source": [
    "class DataTransform(nn.Module):\n",
    "    def __init__(self):\n",
    "        super().__init__()\n",
    "\n",
    "        self.transform = T.Compose([\n",
    "            T.Resize(256),\n",
    "            T.RandomAutocontrast(),\n",
    "            T.ToTensor(),\n",
    "            T.Normalize(0.5, 0.5)\n",
    "        ])\n",
    "\n",
    "        self.target_transform = T.Compose([\n",
    "            T.Resize(256),\n",
    "            T.ToTensor(),\n",
    "        ])\n",
    "\n",
    "    def forward(self, x, y):\n",
    "        x = self.transform(x)\n",
    "\n",
    "        y = self.target_transform(y)\n",
    "        y = y.gt(0).float()\n",
    "\n",
    "        return x, y\n",
    "\n",
    "transform = DataTransform()"
   ],
   "metadata": {
    "collapsed": false,
    "jupyter": {
     "outputs_hidden": false
    },
    "execution": {
     "iopub.status.busy": "2022-09-19T11:26:41.012497Z",
     "iopub.execute_input": "2022-09-19T11:26:41.015083Z",
     "iopub.status.idle": "2022-09-19T11:26:42.056916Z",
     "shell.execute_reply.started": "2022-09-19T11:26:41.015039Z",
     "shell.execute_reply": "2022-09-19T11:26:42.055856Z"
    },
    "trusted": true
   },
   "execution_count": 13,
   "outputs": []
  },
  {
   "cell_type": "code",
   "source": [
    "train_dataset = SegDataset(train_df, TRAIN_IMAGES_DIR, SEG_IMAGES_DIR, transform=transform)\n",
    "val_dataset = SegDataset(val_df, TRAIN_IMAGES_DIR, SEG_IMAGES_DIR, transform=transform)"
   ],
   "metadata": {
    "collapsed": false,
    "jupyter": {
     "outputs_hidden": false
    },
    "execution": {
     "iopub.status.busy": "2022-09-19T11:26:42.065997Z",
     "iopub.execute_input": "2022-09-19T11:26:42.068539Z",
     "iopub.status.idle": "2022-09-19T11:26:42.942087Z",
     "shell.execute_reply.started": "2022-09-19T11:26:42.068499Z",
     "shell.execute_reply": "2022-09-19T11:26:42.941034Z"
    },
    "trusted": true
   },
   "execution_count": 14,
   "outputs": []
  },
  {
   "cell_type": "code",
   "source": [
    "train_loader = DataLoader(train_dataset, batch_size=batch_size, shuffle=True, pin_memory=True)\n",
    "val_loader = DataLoader(val_dataset, batch_size=batch_size, shuffle=False, pin_memory=True)"
   ],
   "metadata": {
    "collapsed": false,
    "jupyter": {
     "outputs_hidden": false
    },
    "execution": {
     "iopub.status.busy": "2022-09-19T11:26:42.947332Z",
     "iopub.execute_input": "2022-09-19T11:26:42.949862Z",
     "iopub.status.idle": "2022-09-19T11:26:43.814685Z",
     "shell.execute_reply.started": "2022-09-19T11:26:42.949822Z",
     "shell.execute_reply": "2022-09-19T11:26:43.813543Z"
    },
    "trusted": true
   },
   "execution_count": 15,
   "outputs": []
  },
  {
   "cell_type": "markdown",
   "source": [
    "Check small datasets"
   ],
   "metadata": {}
  },
  {
   "cell_type": "code",
   "source": [
    "\n",
    "x, y = val_dataset[0]\n",
    "_, axs = plt.subplots(1, 2)\n",
    "axs[0].imshow(x.squeeze(), cmap='bone')\n",
    "axs[1].imshow(y.squeeze(), cmap='bone')\n",
    "print(y.mean())"
   ],
   "metadata": {
    "collapsed": false,
    "jupyter": {
     "outputs_hidden": false
    },
    "execution": {
     "iopub.status.busy": "2022-09-19T11:26:43.819821Z",
     "iopub.execute_input": "2022-09-19T11:26:43.822313Z",
     "iopub.status.idle": "2022-09-19T11:26:45.113809Z",
     "shell.execute_reply.started": "2022-09-19T11:26:43.822272Z",
     "shell.execute_reply": "2022-09-19T11:26:45.112795Z"
    },
    "trusted": true
   },
   "execution_count": 16,
   "outputs": [
    {
     "name": "stdout",
     "text": "tensor(0.0892)\n",
     "output_type": "stream"
    },
    {
     "output_type": "display_data",
     "data": {
      "text/plain": "<Figure size 432x288 with 2 Axes>",
      "image/png": "[encoded data removed]"
     },
     "metadata": {
      "needs_background": "light"
     }
    }
   ]
  },
  {
   "cell_type": "code",
   "source": [
    "print(x.min())\n",
    "print(x.max())\n",
    "print(y.min())\n",
    "print(y.max())"
   ],
   "metadata": {
    "collapsed": false,
    "jupyter": {
     "outputs_hidden": false
    },
    "execution": {
     "iopub.status.busy": "2022-09-19T11:26:45.118747Z",
     "iopub.execute_input": "2022-09-19T11:26:45.121077Z",
     "iopub.status.idle": "2022-09-19T11:26:46.005671Z",
     "shell.execute_reply.started": "2022-09-19T11:26:45.121037Z",
     "shell.execute_reply": "2022-09-19T11:26:46.004603Z"
    },
    "trusted": true
   },
   "execution_count": 17,
   "outputs": [
    {
     "name": "stdout",
     "text": "tensor(-1.)\ntensor(0.7804)\ntensor(0.)\ntensor(1.)\n",
     "output_type": "stream"
    }
   ]
  },
  {
   "cell_type": "markdown",
   "source": [
    "## Model"
   ],
   "metadata": {}
  },
  {
   "cell_type": "code",
   "source": [
    "class ResidualBlock(nn.Module):\n",
    "    def __init__(self, h):\n",
    "        super().__init__()\n",
    "\n",
    "        self.layers = nn.Sequential(\n",
    "            nn.ReLU(inplace=True),\n",
    "            nn.Conv2d(2*h, h, kernel_size=1),\n",
    "            nn.ReLU(inplace=True),\n",
    "            nn.Conv2d(h, h, kernel_size=3, padding='same'),\n",
    "            nn.ReLU(inplace=True),\n",
    "            nn.Conv2d(h, 2*h, kernel_size=1)\n",
    "        )\n",
    "    def forward(self, x):\n",
    "        out = self.layers(x)\n",
    "        out += x\n",
    "        return out\n",
    "\n",
    "class SegModel(nn.Module):\n",
    "    def __init__(self, h, num_residual=8):\n",
    "        super().__init__()\n",
    "\n",
    "        self.layers = nn.Sequential(\n",
    "            nn.Conv2d(1, 2*h, kernel_size=3, padding='same'),\n",
    "            *[\n",
    "                ResidualBlock(h) for _ in range(num_residual)\n",
    "            ],\n",
    "            nn.ReLU(inplace=True),\n",
    "            nn.Conv2d(2*h, 1, kernel_size=1)\n",
    "        )\n",
    "\n",
    "    def forward(self, x):\n",
    "        return self.layers(x)"
   ],
   "metadata": {
    "collapsed": false,
    "jupyter": {
     "outputs_hidden": false
    },
    "execution": {
     "iopub.status.busy": "2022-09-19T11:26:46.010247Z",
     "iopub.execute_input": "2022-09-19T11:26:46.012823Z",
     "iopub.status.idle": "2022-09-19T11:26:46.861255Z",
     "shell.execute_reply.started": "2022-09-19T11:26:46.012782Z",
     "shell.execute_reply": "2022-09-19T11:26:46.860161Z"
    },
    "trusted": true
   },
   "execution_count": 18,
   "outputs": []
  },
  {
   "cell_type": "code",
   "source": [
    "import torchvision.models as models\n",
    "\n",
    "def resnet18_gray():\n",
    "    model = models.resnet18(pretrained=True)\n",
    "    conv1_weight = model.conv1.weight\n",
    "    conv1_weight = conv1_weight.mean(dim=1).unsqueeze(1)\n",
    "\n",
    "    model.conv1 = nn.Conv2d(1, 64, kernel_size=(7, 7), stride=1, padding='same', bias=False)\n",
    "    model.conv1.weight = nn.Parameter(conv1_weight, requires_grad=True)\n",
    "\n",
    "    return model\n",
    "\n",
    "def resnet50_gray():\n",
    "    model = models.resnet50(pretrained=True)\n",
    "    conv1_weight = model.conv1.weight\n",
    "    conv1_weight = conv1_weight.mean(dim=1).unsqueeze(1)\n",
    "\n",
    "    model.conv1 = nn.Conv2d(1, 64, kernel_size=(7, 7), stride=1, padding='same', bias=False)\n",
    "    model.conv1.weight = nn.Parameter(conv1_weight, requires_grad=True)\n",
    "\n",
    "    return model"
   ],
   "metadata": {
    "execution": {
     "iopub.status.busy": "2022-09-19T11:26:46.866950Z",
     "iopub.execute_input": "2022-09-19T11:26:46.869281Z",
     "iopub.status.idle": "2022-09-19T11:26:47.937882Z",
     "shell.execute_reply.started": "2022-09-19T11:26:46.869239Z",
     "shell.execute_reply": "2022-09-19T11:26:47.936701Z"
    },
    "trusted": true
   },
   "execution_count": 19,
   "outputs": []
  },
  {
   "cell_type": "code",
   "source": [
    "class DetectionModel(nn.Module):\n",
    "    def __init__(self, backbone, channels, deep=4, out_channels=64, n_features=1):\n",
    "        super().__init__()\n",
    "\n",
    "        self.backbone = backbone\n",
    "        self.deep = deep\n",
    "        self.channels = channels\n",
    "        self.out_channels = out_channels\n",
    "        self.n_features = n_features\n",
    "\n",
    "        self.init_layers()\n",
    "\n",
    "    def init_layers(self):\n",
    "        self.parallel_modules = self.make_parallel_modules()\n",
    "        self.upsampling_modules = self.make_upsampling_modules()\n",
    "\n",
    "        self.downsampling_modules = self.make_downsampling_modules()\n",
    "        self.classification_modules = self.make_classification_modules()\n",
    "\n",
    "    def make_classification_modules(self):\n",
    "        # the last layer\n",
    "        return nn.Sequential(\n",
    "            nn.Conv2d(self.out_channels, self.out_channels, kernel_size=3, padding='same'),\n",
    "            nn.ReLU(inplace=True),\n",
    "            nn.Conv2d(self.out_channels, self.n_features, kernel_size=1, padding='same'),\n",
    "#             nn.AdaptiveMaxPool2d(output_size=(None, 1))\n",
    "        )\n",
    "\n",
    "    def make_parallel_modules(self):\n",
    "        parallel_modules = nn.ModuleList()\n",
    "\n",
    "        for i in range(self.deep):\n",
    "            module = nn.Conv2d(self.channels[i], self.channels[i], kernel_size=3, padding='same')\n",
    "            parallel_modules.append(module)\n",
    "\n",
    "\n",
    "        return parallel_modules\n",
    "\n",
    "    def make_downsampling_modules(self):\n",
    "        return nn.ModuleList([\n",
    "            nn.Sequential(\n",
    "                self.backbone.conv1,\n",
    "                self.backbone.bn1,\n",
    "                self.backbone.relu,\n",
    "                self.backbone.maxpool),\n",
    "            nn.Sequential(\n",
    "                self.backbone.layer1,\n",
    "                self.backbone.layer2,\n",
    "            ),\n",
    "            self.backbone.layer3,\n",
    "            self.backbone.layer4\n",
    "        ])\n",
    "\n",
    "    def make_upsampling_modules(self):\n",
    "        upsampling_modules = nn.ModuleList()\n",
    "\n",
    "        for i in range(self.deep):\n",
    "            module = nn.Sequential(\n",
    "                nn.ReLU(inplace=True),\n",
    "                nn.Conv2d(self.channels[i], self.channels[i-1] if i > 0 else self.out_channels, kernel_size=1),\n",
    "                nn.ReLU(inplace=True),\n",
    "                nn.Upsample(scale_factor=2)\n",
    "            )\n",
    "            upsampling_modules.append(module)\n",
    "\n",
    "        return upsampling_modules\n",
    "\n",
    "\n",
    "\n",
    "    def forward(self, x):\n",
    "\n",
    "        downsampling_outputs = []\n",
    "        out = x\n",
    "        for module in self.downsampling_modules:\n",
    "            out = module(out)\n",
    "            downsampling_outputs.append(out)\n",
    "\n",
    "        parallel_outputs = []\n",
    "        for i in range(len(self.parallel_modules)):\n",
    "            module = self.parallel_modules[i]\n",
    "            out = module(downsampling_outputs[i])\n",
    "            parallel_outputs.append(out)\n",
    "\n",
    "        out = 0\n",
    "        for i in range(len(self.upsampling_modules)):\n",
    "            module = self.upsampling_modules[-(i+1)]\n",
    "            parallel_output = parallel_outputs[-(i+1)]\n",
    "\n",
    "            up_input = out + parallel_output\n",
    "            out = module(up_input)\n",
    "\n",
    "        out = self.classification_modules(out)\n",
    "\n",
    "        return out\n",
    "\n",
    "# backbone = resnet18_gray()\n",
    "# model = DetectionModel(backbone, channels=[64, 128, 256, 512], out_channels=64, n_features=1)\n",
    "\n",
    "# input = torch.randn(1, 1, 512, 512)\n",
    "# model(input).shape"
   ],
   "metadata": {
    "collapsed": false,
    "jupyter": {
     "outputs_hidden": false
    },
    "execution": {
     "iopub.status.busy": "2022-09-19T11:26:47.939386Z",
     "iopub.execute_input": "2022-09-19T11:26:47.939736Z",
     "iopub.status.idle": "2022-09-19T11:26:48.957606Z",
     "shell.execute_reply.started": "2022-09-19T11:26:47.939700Z",
     "shell.execute_reply": "2022-09-19T11:26:48.956651Z"
    },
    "trusted": true
   },
   "execution_count": 20,
   "outputs": []
  },
  {
   "cell_type": "code",
   "execution_count": null,
   "outputs": [],
   "source": [
    "device = 'cuda' if torch.cuda.is_available() else 'cpu'"
   ],
   "metadata": {
    "collapsed": false
   }
  },
  {
   "cell_type": "markdown",
   "source": [
    "## Model"
   ],
   "metadata": {
    "collapsed": false
   }
  },
  {
   "cell_type": "code",
   "source": [
    "# model = SegModel(256, num_residual=8).to(device)\n",
    "# total_params = sum(p.numel() for p in model.parameters() if p.requires_grad)\n",
    "# total_params"
   ],
   "metadata": {
    "execution": {
     "iopub.status.busy": "2022-09-19T11:26:50.132964Z",
     "iopub.execute_input": "2022-09-19T11:26:50.135420Z",
     "iopub.status.idle": "2022-09-19T11:26:55.560950Z",
     "shell.execute_reply.started": "2022-09-19T11:26:50.135375Z",
     "shell.execute_reply": "2022-09-19T11:26:55.559935Z"
    },
    "trusted": true
   },
   "execution_count": 22,
   "outputs": [
    {
     "execution_count": 22,
     "output_type": "execute_result",
     "data": {
      "text/plain": "77833449"
     },
     "metadata": {}
    }
   ]
  },
  {
   "cell_type": "code",
   "source": [
    "if backbone == 'resnet18':\n",
    "    backbone = resnet18_gray()\n",
    "    channels = [64, 128, 256, 512]\n",
    "    \n",
    "elif backbone == 'resnet50':\n",
    "    backbone = resnet50_gray()\n",
    "    channels = [64, 512, 1024, 2048]\n",
    "    \n",
    "    \n",
    "model = DetectionModel(backbone, channels=channels, out_channels=channels[0], n_features=1).to(device)\n",
    "\n",
    "total_params = sum(p.numel() for p in model.parameters() if p.requires_grad)\n",
    "total_params"
   ],
   "metadata": {
    "collapsed": false,
    "jupyter": {
     "outputs_hidden": false
    },
    "execution": {
     "iopub.status.busy": "2022-09-19T11:26:55.565770Z",
     "iopub.execute_input": "2022-09-19T11:26:55.568163Z",
     "iopub.status.idle": "2022-09-19T11:26:56.431915Z",
     "shell.execute_reply.started": "2022-09-19T11:26:55.568125Z",
     "shell.execute_reply": "2022-09-19T11:26:56.430945Z"
    },
    "trusted": true
   },
   "execution_count": 23,
   "outputs": []
  },
  {
   "cell_type": "code",
   "source": [
    "optimizer = optim.AdamW(model.parameters(), lr=lr, weight_decay=wd)\n",
    "scaler = torch.cuda.amp.GradScaler(enabled=(device == 'cuda'))"
   ],
   "metadata": {
    "execution": {
     "iopub.status.busy": "2022-09-19T11:26:56.436779Z",
     "iopub.execute_input": "2022-09-19T11:26:56.439437Z",
     "iopub.status.idle": "2022-09-19T11:26:57.386770Z",
     "shell.execute_reply.started": "2022-09-19T11:26:56.439397Z",
     "shell.execute_reply": "2022-09-19T11:26:57.384823Z"
    },
    "trusted": true
   },
   "execution_count": 24,
   "outputs": []
  },
  {
   "cell_type": "code",
   "source": [
    "scheduler = optim.lr_scheduler.MultiStepLR(optimizer, milestones=[5, 10, 15, 20], gamma=0.5)"
   ],
   "metadata": {
    "collapsed": false,
    "jupyter": {
     "outputs_hidden": false
    },
    "execution": {
     "iopub.status.busy": "2022-09-19T11:26:57.396510Z",
     "iopub.execute_input": "2022-09-19T11:26:57.401343Z",
     "iopub.status.idle": "2022-09-19T11:26:58.297735Z",
     "shell.execute_reply.started": "2022-09-19T11:26:57.401261Z",
     "shell.execute_reply": "2022-09-19T11:26:58.296740Z"
    },
    "trusted": true
   },
   "execution_count": 25,
   "outputs": []
  },
  {
   "cell_type": "code",
   "source": [
    "def loss_fn(logits, y, pos_weight=10):\n",
    "    loss = F.binary_cross_entropy_with_logits(logits, y, pos_weight=torch.tensor(pos_weight))\n",
    "    return loss"
   ],
   "metadata": {
    "collapsed": false,
    "jupyter": {
     "outputs_hidden": false
    },
    "execution": {
     "iopub.status.busy": "2022-09-19T11:26:58.302453Z",
     "iopub.execute_input": "2022-09-19T11:26:58.304775Z",
     "iopub.status.idle": "2022-09-19T11:26:59.344637Z",
     "shell.execute_reply.started": "2022-09-19T11:26:58.304736Z",
     "shell.execute_reply": "2022-09-19T11:26:59.343647Z"
    },
    "trusted": true
   },
   "execution_count": 26,
   "outputs": []
  },
  {
   "cell_type": "code",
   "source": [
    "def train_one_epoch(e, model, dataloader):\n",
    "\n",
    "    model.train()\n",
    "    train_iter = tqdm(dataloader)\n",
    "    losses = []\n",
    "    epoch_iteration = len(dataloader)\n",
    "    \n",
    "    for i, (x, y) in enumerate(train_iter):\n",
    "        x = x.to(device)\n",
    "        y = y.to(device)\n",
    "\n",
    "        with torch.cuda.amp.autocast(device == 'cuda'):\n",
    "            logits = model(x)\n",
    "            loss = loss_fn(logits, y, pos_weight=pos_weight)\n",
    "\n",
    "\n",
    "        optimizer.zero_grad()\n",
    "        scaler.scale(loss).backward()\n",
    "        scaler.step(optimizer)\n",
    "        scaler.update()\n",
    "        # nn.utils.clip_grad_norm_(model.parameters(), 1.)\n",
    "        # optimizer.step()\n",
    "\n",
    "        train_iter.set_description(f\"t {e} loss {loss.item():.4f}\")\n",
    "\n",
    "        losses.append(loss.item())\n",
    "\n",
    "        \n",
    "        if wandb.run is not None:\n",
    "            lr_logs = {f\"last_lr_{i}\": float(v) for i, v in enumerate(scheduler.get_last_lr())}\n",
    "            wandb.log({\n",
    "                'train_loss' : loss.item(),\n",
    "                'epoch' : e,\n",
    "                'train_iteration' : i + epoch * epoch_iteration,\n",
    "                **lr_logs,\n",
    "            })\n",
    "            \n",
    "        if i % 100 == 0:\n",
    "            with torch.no_grad():\n",
    "                inference(model, val_dataset)\n",
    "            model.train()\n",
    "\n",
    "    return np.mean(losses)"
   ],
   "metadata": {
    "collapsed": false,
    "jupyter": {
     "outputs_hidden": false
    },
    "execution": {
     "iopub.status.busy": "2022-09-19T11:26:59.349564Z",
     "iopub.execute_input": "2022-09-19T11:26:59.351901Z",
     "iopub.status.idle": "2022-09-19T11:27:00.245483Z",
     "shell.execute_reply.started": "2022-09-19T11:26:59.351851Z",
     "shell.execute_reply": "2022-09-19T11:27:00.244514Z"
    },
    "trusted": true
   },
   "execution_count": 27,
   "outputs": []
  },
  {
   "cell_type": "code",
   "source": [
    "def evaluate(e, model, dataloader):\n",
    "\n",
    "    model.eval()\n",
    "    eval_iter = tqdm(dataloader)\n",
    "    losses = []\n",
    "    epoch_iteration = len(dataloader)\n",
    "    \n",
    "    for i, (x, y) in enumerate(eval_iter):\n",
    "        x = x.to(device)\n",
    "        y = y.to(device)\n",
    "\n",
    "        logits = model(x)\n",
    "        loss = loss_fn(logits, y, pos_weight=pos_weight)\n",
    "\n",
    "        eval_iter.set_description(f\"e {e} loss {loss.item():.4f}\")\n",
    "\n",
    "        losses.append(loss.item())\n",
    "\n",
    "        if wandb.run is not None:\n",
    "            wandb.log({\n",
    "                'val_loss' : loss.item(),\n",
    "                'epoch' : e,\n",
    "                'val_iteration' : i + e * epoch_iteration,\n",
    "            })\n",
    "\n",
    "    return np.mean(losses)"
   ],
   "metadata": {
    "collapsed": false,
    "jupyter": {
     "outputs_hidden": false
    },
    "execution": {
     "iopub.status.busy": "2022-09-19T11:27:00.250443Z",
     "iopub.execute_input": "2022-09-19T11:27:00.252771Z",
     "iopub.status.idle": "2022-09-19T11:27:01.248374Z",
     "shell.execute_reply.started": "2022-09-19T11:27:00.252731Z",
     "shell.execute_reply": "2022-09-19T11:27:01.247389Z"
    },
    "trusted": true
   },
   "execution_count": 28,
   "outputs": []
  },
  {
   "cell_type": "code",
   "source": [
    "def inference(model, dataset, i_list=None, wandb_log=True):\n",
    "    model.eval()\n",
    "    if i_list is None:\n",
    "        i_list = np.random.choice(len(dataset) - 1, 4)\n",
    "    x_list = []\n",
    "    y_list = []\n",
    "    for i in i_list:\n",
    "        x, y = dataset[i]\n",
    "        x_list.append(x)\n",
    "        y_list.append(y)\n",
    "    x, y = torch.stack(x_list), torch.stack(y_list)\n",
    "\n",
    "    x = x.to(device)\n",
    "    logits = model(x)\n",
    "    pred = logits.sigmoid().gt(0.5).float()\n",
    "\n",
    "    img = x * 0.5 + 0.5\n",
    "    \n",
    "    combined_img = np.concatenate((img.squeeze().cpu().numpy(), pred.squeeze().cpu().numpy(), y.squeeze().cpu().numpy()), axis=-1)\n",
    "\n",
    "    combined_img = combined_img.reshape(-1, combined_img.shape[-1])\n",
    "    if wandb.run is not None and wandb_log is True:\n",
    "        wandb.log({\n",
    "            'val_img_pred_label' : wandb.Image(combined_img),\n",
    "        })\n",
    "\n",
    "#     plt.imshow(combined_img, cmap='bone')\n",
    "    # _, axs = plt.subplots(1, 2)\n",
    "    # axs[0].imshow(img.squeeze().cpu(), cmap='bone')\n",
    "    # axs[1].imshow(pred.squeeze().cpu())\n",
    "\n",
    "# with torch.no_grad():\n",
    "#     inference(model, val_dataset, i_list=None, wandb_log=False)"
   ],
   "metadata": {
    "execution": {
     "iopub.status.busy": "2022-09-19T11:27:01.253097Z",
     "iopub.execute_input": "2022-09-19T11:27:01.255388Z",
     "iopub.status.idle": "2022-09-19T11:27:02.094837Z",
     "shell.execute_reply.started": "2022-09-19T11:27:01.255338Z",
     "shell.execute_reply": "2022-09-19T11:27:02.093876Z"
    },
    "trusted": true
   },
   "execution_count": 29,
   "outputs": []
  },
  {
   "cell_type": "code",
   "source": [
    "epoch = 0"
   ],
   "metadata": {
    "collapsed": false,
    "jupyter": {
     "outputs_hidden": false
    },
    "execution": {
     "iopub.status.busy": "2022-09-19T11:27:02.099722Z",
     "iopub.execute_input": "2022-09-19T11:27:02.102003Z"
    },
    "trusted": true
   },
   "execution_count": null,
   "outputs": [
    {
     "name": "stderr",
     "text": "t 0 loss 0.0276: 100%|██████████| 839/839 [30:38<00:00,  2.19s/it]\ne 0 loss 0.0306: 100%|██████████| 94/94 [02:07<00:00,  1.35s/it]\n",
     "output_type": "stream"
    },
    {
     "name": "stdout",
     "text": "epoch 0 train_loss 0.06767463143715131 eval_loss 0.03660994462985942\n",
     "output_type": "stream"
    },
    {
     "name": "stderr",
     "text": "t 1 loss 0.0374: 100%|██████████| 839/839 [26:40<00:00,  1.91s/it]\ne 1 loss 0.0292: 100%|██████████| 94/94 [01:49<00:00,  1.16s/it]\n",
     "output_type": "stream"
    },
    {
     "name": "stdout",
     "text": "epoch 1 train_loss 0.03715925819337084 eval_loss 0.03270094181866722\n",
     "output_type": "stream"
    },
    {
     "name": "stderr",
     "text": "t 2 loss 0.0683: 100%|██████████| 839/839 [26:30<00:00,  1.90s/it]\ne 2 loss 0.0514: 100%|██████████| 94/94 [01:23<00:00,  1.13it/s]\n",
     "output_type": "stream"
    },
    {
     "name": "stdout",
     "text": "epoch 2 train_loss 0.02978325054089453 eval_loss 0.06028260928677752\n",
     "output_type": "stream"
    },
    {
     "name": "stderr",
     "text": "t 3 loss 0.0338: 100%|██████████| 839/839 [26:41<00:00,  1.91s/it]\ne 3 loss 0.0244: 100%|██████████| 94/94 [02:01<00:00,  1.29s/it]\n",
     "output_type": "stream"
    },
    {
     "name": "stdout",
     "text": "epoch 3 train_loss 0.030678514695334492 eval_loss 0.03024190628623709\n",
     "output_type": "stream"
    },
    {
     "name": "stderr",
     "text": "t 4 loss 0.0174: 100%|██████████| 839/839 [26:26<00:00,  1.89s/it]\ne 4 loss 0.0319: 100%|██████████| 94/94 [01:23<00:00,  1.13it/s]\n",
     "output_type": "stream"
    },
    {
     "name": "stdout",
     "text": "epoch 4 train_loss 0.03833412198978115 eval_loss 0.03074718482713116\n",
     "output_type": "stream"
    },
    {
     "name": "stderr",
     "text": "t 5 loss 0.0240: 100%|██████████| 839/839 [26:10<00:00,  1.87s/it]\ne 5 loss 0.0207: 100%|██████████| 94/94 [01:23<00:00,  1.12it/s]\n",
     "output_type": "stream"
    },
    {
     "name": "stdout",
     "text": "epoch 5 train_loss 0.02499683832592099 eval_loss 0.024087660272229226\n",
     "output_type": "stream"
    },
    {
     "name": "stderr",
     "text": "t 6 loss 0.0189: 100%|██████████| 839/839 [25:37<00:00,  1.83s/it]\ne 6 loss 0.0196: 100%|██████████| 94/94 [01:59<00:00,  1.27s/it]\n",
     "output_type": "stream"
    },
    {
     "name": "stdout",
     "text": "epoch 6 train_loss 0.023781751684347197 eval_loss 0.02362622595094937\n",
     "output_type": "stream"
    },
    {
     "name": "stderr",
     "text": "t 7 loss 0.0163: 100%|██████████| 839/839 [25:41<00:00,  1.84s/it]\ne 7 loss 0.0239:  44%|████▎     | 41/94 [00:35<00:48,  1.09it/s]",
     "output_type": "stream"
    }
   ]
  },
  {
   "cell_type": "code",
   "source": [
    "epochs = 20\n",
    "\n",
    "for e in range(epochs):\n",
    "\n",
    "    train_loss = train_one_epoch(epoch, model, train_loader)\n",
    "\n",
    "    with torch.no_grad():\n",
    "        eval_loss = evaluate(epoch, model, val_loader)\n",
    "        inference(model, val_dataset)\n",
    "\n",
    "    print(f\"epoch {epoch} train_loss {train_loss} eval_loss {eval_loss}\")\n",
    "    \n",
    "    epoch += 1\n",
    "    scheduler.step()\n",
    "    # if wandb.run is not None:\n",
    "    #     wandb.log({\n",
    "    #         'average_train_loss' : train_loss,\n",
    "    #         'average_eval_loss' : eval_loss,\n",
    "    #     })"
   ],
   "metadata": {
    "trusted": true
   },
   "execution_count": null,
   "outputs": []
  },
  {
   "cell_type": "code",
   "source": [
    "state = {\n",
    "    \"model\": model.state_dict(),\n",
    "    \"optimizer\": optimizer.state_dict(),\n",
    "    \"scheduler\": scheduler.state_dict(),\n",
    "    \"epoch\": epoch,\n",
    "}\n",
    "torch.save(state, f'{wandb.run.name}-epoch-{epoch}.pth')"
   ],
   "metadata": {},
   "execution_count": null,
   "outputs": []
  },
  {
   "cell_type": "code",
   "execution_count": null,
   "outputs": [],
   "source": [],
   "metadata": {
    "collapsed": false
   }
  }
 ]
}
