{
 "cells": [
  {
   "cell_type": "code",
   "execution_count": null,
   "metadata": {
    "collapsed": false
   },
   "outputs": [],
   "source": [
    "import wandb\n",
    "from datetime import datetime\n",
    "\n"
   ]
  },
  {
   "cell_type": "code",
   "execution_count": null,
   "metadata": {
    "collapsed": false
   },
   "outputs": [],
   "source": [
    "batch_size = 32\n",
    "lr = 1e-3\n",
    "wd = 1e-5"
   ]
  },
  {
   "cell_type": "code",
   "execution_count": null,
   "metadata": {
    "collapsed": false
   },
   "outputs": [],
   "source": [
    "wandb_entity='longyi'\n",
    "model_name = \"resnet50\"\n",
    "wandb.init(project=\"cervical-spine\", entity=wandb_entity, config={\n",
    "    \"model\":model_name,\n",
    "    \"batch_size\":batch_size,\n",
    "    \"lr\" : lr,\n",
    "    \"wd\" : wd\n",
    "})\n",
    "wandb.run.name = f'sagittal_256_{model_name}_' + datetime.now().strftime(\"%H%M%S\")\n"
   ]
  },
  {
   "cell_type": "code",
   "execution_count": null,
   "metadata": {
    "collapsed": false
   },
   "outputs": [],
   "source": [
    "import os\n",
    "import glob\n",
    "import pydicom\n",
    "import nibabel as nib\n",
    "import pandas as pd\n",
    "import numpy as np\n",
    "from pydicom.pixel_data_handlers.util import apply_voi_lut\n",
    "import matplotlib.pyplot as plt\n",
    "import matplotlib.patches as patches\n",
    "import seaborn as sns\n",
    "\n",
    "from tqdm import tqdm\n",
    "\n",
    "%load_ext autoreload\n",
    "%autoreload 2\n",
    "\n",
    "import sys\n",
    "sys.path.append(\"..\")\n",
    "\n",
    "from utils.dcm_utils import *\n",
    "from utils.nii_utils import *\n",
    "\n",
    "from PIL import Image"
   ]
  },
  {
   "cell_type": "code",
   "execution_count": null,
   "metadata": {
    "collapsed": false
   },
   "outputs": [],
   "source": [
    "import torch\n",
    "import torch.nn as nn\n",
    "import torch.nn.functional as F\n",
    "import torch.optim as optim\n",
    "from torch.utils.data import Dataset, DataLoader\n",
    "import torchvision\n",
    "from torchvision.io import read_image\n",
    "from torchvision.transforms import Compose, ToTensor, Normalize, Resize, CenterCrop\n",
    "import torchvision.transforms.functional as TF"
   ]
  },
  {
   "cell_type": "code",
   "execution_count": null,
   "metadata": {
    "collapsed": false
   },
   "outputs": [],
   "source": [
    "# DATA_DIR = \"/Volumes/SSD970/\"\n",
    "DATA_DIR = \"/media/longyi/SSD9701/\"\n",
    "TRAIN_SAGITTAL_DIR = os.path.join(DATA_DIR, \"sagittal_images\")\n",
    "TRAIN_IMAGE_DIR = os.path.join(DATA_DIR, \"train_images\")"
   ]
  },
  {
   "cell_type": "code",
   "execution_count": null,
   "metadata": {
    "collapsed": false
   },
   "outputs": [],
   "source": [
    "class Sagittal256Dataset(Dataset):\n",
    "    def __init__(self, sagittal_dir, label_df, transform=None, target_transform=None):\n",
    "        self.sagittal_dir = sagittal_dir\n",
    "        self.label_df = label_df\n",
    "\n",
    "        self.transform = transform\n",
    "        self.target_transform = target_transform\n",
    "\n",
    "    def __len__(self):\n",
    "        return len(self.label_df)\n",
    "\n",
    "    def __getitem__(self, idx):\n",
    "        row = self.label_df.iloc[idx]\n",
    "        UID = row.name\n",
    "        label = torch.tensor(row[['patient_overall', 'C1','C2','C3','C4','C5','C6','C7']])\n",
    "\n",
    "        image = read_image(os.path.join(self.sagittal_dir, UID, '256.jpeg'))\n",
    "        image = image.float() / 255.\n",
    "\n",
    "        if self.transform:\n",
    "            image = self.transform(image)\n",
    "        if self.target_transform:\n",
    "            label = self.target_transform(label)\n",
    "        return image, label"
   ]
  },
  {
   "cell_type": "code",
   "execution_count": null,
   "metadata": {
    "collapsed": false
   },
   "outputs": [],
   "source": [
    "df = pd.read_csv(os.path.join(DATA_DIR, 'train.csv'))\n",
    "len(df)"
   ]
  },
  {
   "cell_type": "code",
   "execution_count": null,
   "metadata": {
    "collapsed": false
   },
   "outputs": [],
   "source": [
    "df.head()"
   ]
  },
  {
   "cell_type": "code",
   "execution_count": null,
   "metadata": {
    "collapsed": false
   },
   "outputs": [],
   "source": [
    "df = df.set_index('StudyInstanceUID')"
   ]
  },
  {
   "cell_type": "code",
   "execution_count": null,
   "metadata": {
    "collapsed": false
   },
   "outputs": [],
   "source": [
    "ignore_patients = [\n",
    "    '1.2.826.0.1.3680043.8858',\n",
    "    '1.2.826.0.1.3680043.20574',\n",
    "    '1.2.826.0.1.3680043.20756',\n",
    "    '1.2.826.0.1.3680043.22678',\n",
    "    '1.2.826.0.1.3680043.23400',\n",
    "    '1.2.826.0.1.3680043.29630',\n",
    "    '1.2.826.0.1.3680043.29952'\n",
    "]\n",
    "df = df.drop(ignore_patients)\n",
    "len(df)"
   ]
  },
  {
   "cell_type": "code",
   "execution_count": null,
   "metadata": {
    "collapsed": false
   },
   "outputs": [],
   "source": [
    "total_len = len(df)\n",
    "train_to = int(total_len * 0.8)\n",
    "train_df = df.iloc[:train_to]\n",
    "eval_df = df.iloc[train_to:]\n",
    "\n",
    "print(f\"train {len(train_df)} eval {len(eval_df)}\")"
   ]
  },
  {
   "cell_type": "code",
   "execution_count": null,
   "metadata": {
    "collapsed": false
   },
   "outputs": [],
   "source": [
    "class ImageTransform:\n",
    "    \"\"\"Rotate by one of the given angles.\"\"\"\n",
    "\n",
    "    def __init__(self, wh):\n",
    "        self.wh = wh\n",
    "\n",
    "    def __call__(self, x):\n",
    "        h, w = float(x.shape[1]), float(x.shape[2])\n",
    "\n",
    "        if h > w:\n",
    "            x = TF.resize(x, [int(self.wh), int(self.wh * w / h)])\n",
    "        else:\n",
    "            x = TF.resize(x, [int(self.wh * h / w), int(self.wh)])\n",
    "\n",
    "        x = TF.center_crop(x, self.wh)\n",
    "\n",
    "        return x"
   ]
  },
  {
   "cell_type": "code",
   "execution_count": null,
   "metadata": {
    "collapsed": false
   },
   "outputs": [],
   "source": [
    "transform = Compose([\n",
    "    Normalize(0.5, 0.5),\n",
    "    ImageTransform(224.)\n",
    "])\n",
    "target_transform = None\n",
    "train_dataset = Sagittal256Dataset(TRAIN_SAGITTAL_DIR, train_df, transform=transform, target_transform=target_transform)\n",
    "eval_dataset = Sagittal256Dataset(TRAIN_SAGITTAL_DIR, eval_df, transform=transform, target_transform=target_transform)\n",
    "train_dataset[0]"
   ]
  },
  {
   "cell_type": "code",
   "execution_count": null,
   "metadata": {
    "collapsed": false
   },
   "outputs": [],
   "source": [
    "train_loader = DataLoader(train_dataset, batch_size=batch_size, shuffle=True, pin_memory=True, num_workers=6)\n",
    "eval_loader = DataLoader(eval_dataset, batch_size=batch_size, shuffle=False, pin_memory=True, num_workers=6)\n"
   ]
  },
  {
   "cell_type": "code",
   "execution_count": null,
   "metadata": {
    "collapsed": false
   },
   "outputs": [],
   "source": [
    "model = torchvision.models.resnet50(pretrained=True)\n",
    "model"
   ]
  },
  {
   "cell_type": "markdown",
   "metadata": {
    "collapsed": false
   },
   "source": [
    "Change layers"
   ]
  },
  {
   "cell_type": "code",
   "execution_count": null,
   "metadata": {
    "collapsed": false
   },
   "outputs": [],
   "source": [
    "conv1_weight = model.conv1.weight\n",
    "conv1_weight.shape"
   ]
  },
  {
   "cell_type": "code",
   "execution_count": null,
   "metadata": {
    "collapsed": false
   },
   "outputs": [],
   "source": [
    "new_conv1_weight = conv1_weight.mean(dim=1).unsqueeze(1)\n",
    "new_conv1_weight.shape"
   ]
  },
  {
   "cell_type": "code",
   "execution_count": null,
   "metadata": {
    "collapsed": false
   },
   "outputs": [],
   "source": []
  },
  {
   "cell_type": "code",
   "execution_count": null,
   "metadata": {
    "collapsed": false
   },
   "outputs": [],
   "source": [
    "\n",
    "model.conv1 = nn.Conv2d(1, 64, kernel_size=(7, 7), stride=2, padding=3, bias=False)\n",
    "model.conv1.weight = nn.Parameter(new_conv1_weight, requires_grad=True)\n",
    "model.fc = nn.Linear(2048, 8, bias=True)\n"
   ]
  },
  {
   "cell_type": "markdown",
   "metadata": {
    "collapsed": false
   },
   "source": [
    "## Train"
   ]
  },
  {
   "cell_type": "code",
   "execution_count": null,
   "metadata": {
    "collapsed": false
   },
   "outputs": [],
   "source": [
    "device = 'cuda' if torch.cuda.is_available() else 'cpu'\n",
    "device"
   ]
  },
  {
   "cell_type": "code",
   "execution_count": null,
   "metadata": {
    "collapsed": false
   },
   "outputs": [],
   "source": [
    "model = model.to(device)"
   ]
  },
  {
   "cell_type": "code",
   "execution_count": null,
   "metadata": {
    "collapsed": false
   },
   "outputs": [],
   "source": [
    "optimizer = optim.AdamW(model.parameters(), lr=lr, weight_decay=wd)\n"
   ]
  },
  {
   "cell_type": "code",
   "execution_count": null,
   "metadata": {
    "collapsed": false
   },
   "outputs": [],
   "source": [
    "def calculate_weights(labels):\n",
    "    weight_positive = torch.zeros_like(labels)\n",
    "    weight_positive[:, :] = 2\n",
    "    weight_positive[:, 0] = 14\n",
    "    weights = labels * weight_positive + (1 - labels) * weight_positive * 0.5\n",
    "    return weights"
   ]
  },
  {
   "cell_type": "code",
   "execution_count": null,
   "metadata": {
    "collapsed": false
   },
   "outputs": [],
   "source": [
    "def loss_fn(logits, labels):\n",
    "    # logits N x 8\n",
    "    # labels N x 8\n",
    "    weights = calculate_weights(labels)\n",
    "    loss = F.binary_cross_entropy_with_logits(logits, labels.to(torch.float), reduction='none')\n",
    "    loss = weights * loss\n",
    "\n",
    "    weights_sum = weights.sum(dim=1)\n",
    "    overall_loss = loss[:, 0] / weights_sum\n",
    "    c_loss = loss[:, 1:].sum(dim=1) / weights_sum\n",
    "\n",
    "    return overall_loss.mean(), c_loss.mean()"
   ]
  },
  {
   "cell_type": "code",
   "execution_count": null,
   "metadata": {
    "collapsed": false
   },
   "outputs": [],
   "source": [
    "def evaluate(epoch):\n",
    "    model.eval()\n",
    "    eval_iter = tqdm(eval_loader)\n",
    "\n",
    "    losses = []\n",
    "    for i, (x, y) in enumerate(eval_iter):\n",
    "        x, y = x.to(device), y.to(device=device)\n",
    "\n",
    "        logits = model(x)\n",
    "        overall_loss, c_loss = loss_fn(logits, y)\n",
    "        loss = overall_loss + c_loss\n",
    "\n",
    "        losses.append(loss.item())\n",
    "\n",
    "        # accuracy\n",
    "        pred = logits.sigmoid().ge(0.5).int()\n",
    "        correct = (y == pred).float().mean(dim=0)\n",
    "        overall_acc = correct[0]\n",
    "        c_acc = correct[1:].mean()\n",
    "\n",
    "        eval_iter.set_description(f\"e {epoch} loss {loss.item():.4f} overall_acc {overall_acc.item():.4f} c_acc {c_acc.item():.4f}\")\n",
    "\n",
    "        if wandb.run is not None:\n",
    "            wandb.log({\n",
    "                'eval_overall_loss' : overall_loss.item(),\n",
    "                'eval_c_loss' : c_loss.item(),\n",
    "                'eval_loss': loss.item(),\n",
    "                'eval_overall_acc' : overall_acc.item(),\n",
    "                'eval_c_acc' : c_acc.item(),\n",
    "                'epoch' : epoch\n",
    "            })\n",
    "    return np.mean(losses)"
   ]
  },
  {
   "cell_type": "code",
   "execution_count": null,
   "metadata": {
    "collapsed": false
   },
   "outputs": [],
   "source": [
    "def train_one_epoch(epoch):\n",
    "    model.train()\n",
    "    train_iter = tqdm(train_loader)\n",
    "    losses = []\n",
    "    for i, (x, y) in enumerate(train_iter):\n",
    "        x, y = x.to(device), y.to(device)\n",
    "\n",
    "        logits = model(x)\n",
    "        overall_loss, c_loss = loss_fn(logits, y)\n",
    "        loss = overall_loss + c_loss\n",
    "\n",
    "        optimizer.zero_grad()\n",
    "        loss.backward()\n",
    "        optimizer.step()\n",
    "\n",
    "        losses.append(loss.item())\n",
    "        train_iter.set_description(f\"t {epoch} loss {loss.item():.4f}\")\n",
    "\n",
    "        if wandb.run is not None:\n",
    "            wandb.log({\n",
    "                'train_overall_loss' : overall_loss.item(),\n",
    "                'train_c_loss' : c_loss.item(),\n",
    "                'train_loss': loss.item(),\n",
    "                'epoch': epoch\n",
    "            })\n",
    "    return np.mean(losses)"
   ]
  },
  {
   "cell_type": "code",
   "execution_count": null,
   "metadata": {
    "collapsed": false
   },
   "outputs": [],
   "source": [
    "evaluate(0)"
   ]
  },
  {
   "cell_type": "code",
   "execution_count": null,
   "metadata": {
    "collapsed": false
   },
   "outputs": [],
   "source": [
    "epochs = 5\n",
    "\n",
    "for epoch in range(epochs):\n",
    "\n",
    "    train_loss = train_one_epoch(epoch)\n",
    "\n",
    "    with torch.no_grad():\n",
    "        eval_loss = evaluate(epoch)\n",
    "\n",
    "    print(f\"epoch {epoch} train_loss {train_loss} eval_loss {eval_loss}\")\n",
    "\n",
    "    if wandb.run is not None:\n",
    "        wandb.log({\n",
    "            'average_train_loss' : train_loss,\n",
    "            'average_eval_loss' : eval_loss,\n",
    "        })"
   ]
  },
  {
   "cell_type": "code",
   "execution_count": null,
   "metadata": {
    "collapsed": false
   },
   "outputs": [],
   "source": []
  },
  {
   "cell_type": "code",
   "execution_count": 20,
   "metadata": {
    "collapsed": false
   },
   "outputs": [],
   "source": [
    "\n",
    "model.conv1 = nn.Conv2d(1, 64, kernel_size=(7, 7), stride=2, padding=3, bias=False)\n",
    "model.conv1.weight = nn.Parameter(new_conv1_weight, requires_grad=True)\n",
    "model.fc = nn.Linear(2048, 8, bias=True)\n"
   ]
  },
  {
   "cell_type": "markdown",
   "metadata": {
    "collapsed": false
   },
   "source": [
    "## Train"
   ]
  },
  {
   "cell_type": "code",
   "execution_count": 21,
   "metadata": {
    "collapsed": false
   },
   "outputs": [
    {
     "data": {
      "text/plain": [
       "'cuda'"
      ]
     },
     "execution_count": 21,
     "metadata": {},
     "output_type": "execute_result"
    }
   ],
   "source": [
    "device = 'cuda' if torch.cuda.is_available() else 'cpu'\n",
    "device"
   ]
  },
  {
   "cell_type": "code",
   "execution_count": 22,
   "metadata": {
    "collapsed": false
   },
   "outputs": [],
   "source": [
    "model = model.to(device)"
   ]
  },
  {
   "cell_type": "code",
   "execution_count": 23,
   "metadata": {
    "collapsed": false
   },
   "outputs": [],
   "source": [
    "optimizer = optim.AdamW(model.parameters(), lr=lr, weight_decay=wd)\n"
   ]
  },
  {
   "cell_type": "code",
   "execution_count": 24,
   "metadata": {
    "collapsed": false
   },
   "outputs": [],
   "source": [
    "def calculate_weights(labels):\n",
    "    weight_positive = torch.zeros_like(labels)\n",
    "    weight_positive[:, :] = 2\n",
    "    weight_positive[:, 0] = 14\n",
    "    weights = labels * weight_positive + (1 - labels) * weight_positive * 0.5\n",
    "    return weights"
   ]
  },
  {
   "cell_type": "code",
   "execution_count": 25,
   "metadata": {
    "collapsed": false
   },
   "outputs": [],
   "source": [
    "def loss_fn(logits, labels):\n",
    "    # logits N x 8\n",
    "    # labels N x 8\n",
    "    weights = calculate_weights(labels)\n",
    "    loss = F.binary_cross_entropy_with_logits(logits, labels.to(torch.float), reduction='none')\n",
    "    loss = weights * loss\n",
    "\n",
    "    weights_sum = weights.sum(dim=1)\n",
    "    overall_loss = loss[:, 0] / weights_sum\n",
    "    c_loss = loss[:, 1:].sum(dim=1) / weights_sum\n",
    "\n",
    "    return overall_loss.mean(), c_loss.mean()"
   ]
  },
  {
   "cell_type": "code",
   "execution_count": 26,
   "metadata": {
    "collapsed": false
   },
   "outputs": [],
   "source": [
    "def evaluate(epoch):\n",
    "    model.eval()\n",
    "    eval_iter = tqdm(eval_loader)\n",
    "\n",
    "    losses = []\n",
    "    for i, (x, y) in enumerate(eval_iter):\n",
    "        x, y = x.to(device), y.to(device=device)\n",
    "\n",
    "        logits = model(x)\n",
    "        overall_loss, c_loss = loss_fn(logits, y)\n",
    "        loss = overall_loss + c_loss\n",
    "\n",
    "        losses.append(loss.item())\n",
    "\n",
    "        # accuracy\n",
    "        pred = logits.sigmoid().ge(0.5).int()\n",
    "        correct = (y == pred).float().mean(dim=0)\n",
    "        overall_acc = correct[0]\n",
    "        c_acc = correct[1:].mean()\n",
    "\n",
    "        eval_iter.set_description(f\"e {epoch} loss {loss.item():.4f} overall_acc {overall_acc.item():.4f} c_acc {c_acc.item():.4f}\")\n",
    "\n",
    "        if wandb.run is not None:\n",
    "            wandb.log({\n",
    "                'eval_overall_loss' : overall_loss.item(),\n",
    "                'eval_c_loss' : c_loss.item(),\n",
    "                'eval_loss': loss.item(),\n",
    "                'eval_overall_acc' : overall_acc.item(),\n",
    "                'eval_c_acc' : c_acc.item(),\n",
    "                'epoch' : epoch\n",
    "            })\n",
    "    return np.mean(losses)"
   ]
  },
  {
   "cell_type": "code",
   "execution_count": 27,
   "metadata": {
    "collapsed": false
   },
   "outputs": [],
   "source": [
    "def train_one_epoch(epoch):\n",
    "    model.train()\n",
    "    train_iter = tqdm(train_loader)\n",
    "    losses = []\n",
    "    for i, (x, y) in enumerate(train_iter):\n",
    "        x, y = x.to(device), y.to(device)\n",
    "\n",
    "        logits = model(x)\n",
    "        overall_loss, c_loss = loss_fn(logits, y)\n",
    "        loss = overall_loss + c_loss\n",
    "\n",
    "        optimizer.zero_grad()\n",
    "        loss.backward()\n",
    "        optimizer.step()\n",
    "\n",
    "        losses.append(loss.item())\n",
    "        train_iter.set_description(f\"t {epoch} loss {loss.item():.4f}\")\n",
    "\n",
    "        if wandb.run is not None:\n",
    "            wandb.log({\n",
    "                'train_overall_loss' : overall_loss.item(),\n",
    "                'train_c_loss' : c_loss.item(),\n",
    "                'train_loss': loss.item(),\n",
    "                'epoch': epoch\n",
    "            })\n",
    "    return np.mean(losses)"
   ]
  },
  {
   "cell_type": "code",
   "execution_count": 28,
   "metadata": {
    "collapsed": false
   },
   "outputs": [
    {
     "name": "stderr",
     "output_type": "stream",
     "text": [
      "e 0 loss 0.7017 overall_acc 0.5789 c_acc 0.5414: 100%|██████████| 13/13 [00:01<00:00,  6.56it/s]\n"
     ]
    },
    {
     "data": {
      "text/plain": [
       "0.7079191162036016"
      ]
     },
     "execution_count": 28,
     "metadata": {},
     "output_type": "execute_result"
    }
   ],
   "source": [
    "evaluate(0)"
   ]
  },
  {
   "cell_type": "code",
   "execution_count": 29,
   "metadata": {
    "collapsed": false
   },
   "outputs": [
    {
     "name": "stderr",
     "output_type": "stream",
     "text": [
      "t 0 loss 0.4221: 100%|██████████| 51/51 [00:10<00:00,  5.08it/s]\n",
      "e 0 loss 0.8375 overall_acc 0.5789 c_acc 0.9098: 100%|██████████| 13/13 [00:01<00:00, 12.76it/s]\n"
     ]
    },
    {
     "name": "stdout",
     "output_type": "stream",
     "text": [
      "epoch 0 train_loss 0.5793590738492853 eval_loss 0.773301532635322\n"
     ]
    },
    {
     "name": "stderr",
     "output_type": "stream",
     "text": [
      "t 1 loss 0.4672: 100%|██████████| 51/51 [00:09<00:00,  5.11it/s]\n",
      "e 1 loss 0.5633 overall_acc 0.5789 c_acc 0.9098: 100%|██████████| 13/13 [00:01<00:00, 12.73it/s]\n"
     ]
    },
    {
     "name": "stdout",
     "output_type": "stream",
     "text": [
      "epoch 1 train_loss 0.5351955242016736 eval_loss 0.5559046314312861\n"
     ]
    },
    {
     "name": "stderr",
     "output_type": "stream",
     "text": [
      "t 2 loss 0.6551: 100%|██████████| 51/51 [00:10<00:00,  5.10it/s]\n",
      "e 2 loss 0.6192 overall_acc 0.4211 c_acc 0.9098: 100%|██████████| 13/13 [00:01<00:00, 12.83it/s]\n"
     ]
    },
    {
     "name": "stdout",
     "output_type": "stream",
     "text": [
      "epoch 2 train_loss 0.5208413034093147 eval_loss 0.5691713965856112\n"
     ]
    },
    {
     "name": "stderr",
     "output_type": "stream",
     "text": [
      "t 3 loss 0.4350: 100%|██████████| 51/51 [00:10<00:00,  5.09it/s]\n",
      "e 3 loss 0.5319 overall_acc 0.6316 c_acc 0.9098: 100%|██████████| 13/13 [00:01<00:00, 12.07it/s]\n"
     ]
    },
    {
     "name": "stdout",
     "output_type": "stream",
     "text": [
      "epoch 3 train_loss 0.5189362536458408 eval_loss 0.5776658906386449\n"
     ]
    },
    {
     "name": "stderr",
     "output_type": "stream",
     "text": [
      "t 4 loss 0.4860: 100%|██████████| 51/51 [00:10<00:00,  5.10it/s]\n",
      "e 4 loss 0.6107 overall_acc 0.3684 c_acc 0.9098: 100%|██████████| 13/13 [00:01<00:00, 12.61it/s]"
     ]
    },
    {
     "name": "stdout",
     "output_type": "stream",
     "text": [
      "epoch 4 train_loss 0.5050313063696319 eval_loss 0.5827649602523217\n"
     ]
    },
    {
     "name": "stderr",
     "output_type": "stream",
     "text": [
      "\n"
     ]
    }
   ],
   "source": [
    "epochs = 5\n",
    "\n",
    "for epoch in range(epochs):\n",
    "\n",
    "    train_loss = train_one_epoch(epoch)\n",
    "\n",
    "    with torch.no_grad():\n",
    "        eval_loss = evaluate(epoch)\n",
    "\n",
    "    print(f\"epoch {epoch} train_loss {train_loss} eval_loss {eval_loss}\")\n",
    "\n",
    "    if wandb.run is not None:\n",
    "        wandb.log({\n",
    "            'average_train_loss' : train_loss,\n",
    "            'average_eval_loss' : eval_loss,\n",
    "        })"
   ]
  },
  {
   "cell_type": "code",
   "execution_count": 29,
   "metadata": {
    "collapsed": false
   },
   "outputs": [],
   "source": []
  }
 ],
 "metadata": {
  "kernelspec": {
   "display_name": "Python 3",
   "language": "python",
   "name": "python3"
  },
  "language_info": {
   "codemirror_mode": {
    "name": "ipython",
    "version": 2
   },
   "file_extension": ".py",
   "mimetype": "text/x-python",
   "name": "python",
   "nbconvert_exporter": "python",
   "pygments_lexer": "ipython2",
   "version": "2.7.6"
  }
 },
 "nbformat": 4,
 "nbformat_minor": 0
}
