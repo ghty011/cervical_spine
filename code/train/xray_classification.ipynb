{
 "cells": [
  {
   "cell_type": "code",
   "execution_count": 1,
   "metadata": {
    "collapsed": true
   },
   "outputs": [],
   "source": [
    "import wandb\n",
    "from datetime import datetime"
   ]
  },
  {
   "cell_type": "code",
   "execution_count": 1,
   "metadata": {
    "collapsed": false
   },
   "outputs": [],
   "source": [
    "batch_size = 1\n",
    "lr = 1e-3\n",
    "wd = 1e-5"
   ]
  },
  {
   "cell_type": "code",
   "execution_count": null,
   "metadata": {
    "collapsed": false
   },
   "outputs": [],
   "source": [
    "wandb_entity='longyi'\n",
    "model_name = \"resnet50\"\n",
    "wandb.init(project=\"cervical-spine\", entity=wandb_entity, config={\n",
    "    \"model\":model_name,\n",
    "    \"batch_size\":batch_size,\n",
    "    \"lr\" : lr,\n",
    "    \"wd\" : wd\n",
    "})\n",
    "wandb.run.name = f'xray_{model_name}_' + datetime.now().strftime(\"%H%M%S\")"
   ]
  },
  {
   "cell_type": "code",
   "execution_count": 2,
   "metadata": {
    "collapsed": false
   },
   "outputs": [],
   "source": [
    "import os\n",
    "import glob\n",
    "import pydicom\n",
    "import nibabel as nib\n",
    "import pandas as pd\n",
    "import numpy as np\n",
    "from pydicom.pixel_data_handlers.util import apply_voi_lut\n",
    "import matplotlib.pyplot as plt\n",
    "import matplotlib.patches as patches\n",
    "import seaborn as sns\n",
    "\n",
    "from tqdm import tqdm\n",
    "\n",
    "%load_ext autoreload\n",
    "%autoreload 2\n",
    "\n",
    "import sys\n",
    "sys.path.append(\"..\")\n",
    "\n",
    "from utils.dcm_utils import *\n",
    "from utils.nii_utils import *\n",
    "from utils.train_utils import *"
   ]
  },
  {
   "cell_type": "code",
   "execution_count": 3,
   "metadata": {
    "collapsed": false
   },
   "outputs": [],
   "source": [
    "import torch\n",
    "import torch.nn as nn\n",
    "import torch.nn.functional as F\n",
    "import torch.optim as optim\n",
    "from torch.utils.data import Dataset, DataLoader\n",
    "import torchvision\n",
    "from torchvision.io import read_image\n",
    "import torchvision.transforms as T\n",
    "from torchvision.transforms import Compose, ToTensor, Normalize, Resize, CenterCrop\n",
    "import torchvision.transforms.functional as TF"
   ]
  },
  {
   "cell_type": "code",
   "execution_count": 4,
   "metadata": {
    "collapsed": false
   },
   "outputs": [],
   "source": [
    "from models.backbone import resnet18_gray"
   ]
  },
  {
   "cell_type": "code",
   "execution_count": 5,
   "metadata": {
    "collapsed": false
   },
   "outputs": [],
   "source": [
    "DATA_DIR = \"/media/longyi/SSD9701/\"\n",
    "TRAIN_XRAY_DIR = os.path.join(DATA_DIR, \"xray_images\")\n",
    "TRAIN_IMAGE_DIR = os.path.join(DATA_DIR, \"train_images\")"
   ]
  },
  {
   "cell_type": "code",
   "execution_count": 6,
   "metadata": {
    "collapsed": false
   },
   "outputs": [
    {
     "data": {
      "text/html": [
       "<div>\n",
       "<style scoped>\n",
       "    .dataframe tbody tr th:only-of-type {\n",
       "        vertical-align: middle;\n",
       "    }\n",
       "\n",
       "    .dataframe tbody tr th {\n",
       "        vertical-align: top;\n",
       "    }\n",
       "\n",
       "    .dataframe thead th {\n",
       "        text-align: right;\n",
       "    }\n",
       "</style>\n",
       "<table border=\"1\" class=\"dataframe\">\n",
       "  <thead>\n",
       "    <tr style=\"text-align: right;\">\n",
       "      <th></th>\n",
       "      <th>PatientID</th>\n",
       "      <th>slice_number</th>\n",
       "      <th>C1</th>\n",
       "      <th>C2</th>\n",
       "      <th>C3</th>\n",
       "      <th>C4</th>\n",
       "      <th>C5</th>\n",
       "      <th>C6</th>\n",
       "      <th>C7</th>\n",
       "      <th>min_row</th>\n",
       "      <th>max_row</th>\n",
       "      <th>min_column</th>\n",
       "      <th>max_column</th>\n",
       "      <th>width</th>\n",
       "      <th>height</th>\n",
       "      <th>width_mm</th>\n",
       "      <th>height_mm</th>\n",
       "    </tr>\n",
       "    <tr>\n",
       "      <th>id</th>\n",
       "      <th></th>\n",
       "      <th></th>\n",
       "      <th></th>\n",
       "      <th></th>\n",
       "      <th></th>\n",
       "      <th></th>\n",
       "      <th></th>\n",
       "      <th></th>\n",
       "      <th></th>\n",
       "      <th></th>\n",
       "      <th></th>\n",
       "      <th></th>\n",
       "      <th></th>\n",
       "      <th></th>\n",
       "      <th></th>\n",
       "      <th></th>\n",
       "      <th></th>\n",
       "    </tr>\n",
       "  </thead>\n",
       "  <tbody>\n",
       "    <tr>\n",
       "      <th>7800001</th>\n",
       "      <td>780</td>\n",
       "      <td>1</td>\n",
       "      <td>0</td>\n",
       "      <td>0</td>\n",
       "      <td>0</td>\n",
       "      <td>0</td>\n",
       "      <td>0</td>\n",
       "      <td>0</td>\n",
       "      <td>0</td>\n",
       "      <td>0</td>\n",
       "      <td>0</td>\n",
       "      <td>0</td>\n",
       "      <td>0</td>\n",
       "      <td>0</td>\n",
       "      <td>0</td>\n",
       "      <td>0.0</td>\n",
       "      <td>0.0</td>\n",
       "    </tr>\n",
       "    <tr>\n",
       "      <th>7800002</th>\n",
       "      <td>780</td>\n",
       "      <td>2</td>\n",
       "      <td>0</td>\n",
       "      <td>0</td>\n",
       "      <td>0</td>\n",
       "      <td>0</td>\n",
       "      <td>0</td>\n",
       "      <td>0</td>\n",
       "      <td>0</td>\n",
       "      <td>0</td>\n",
       "      <td>0</td>\n",
       "      <td>0</td>\n",
       "      <td>0</td>\n",
       "      <td>0</td>\n",
       "      <td>0</td>\n",
       "      <td>0.0</td>\n",
       "      <td>0.0</td>\n",
       "    </tr>\n",
       "    <tr>\n",
       "      <th>7800003</th>\n",
       "      <td>780</td>\n",
       "      <td>3</td>\n",
       "      <td>0</td>\n",
       "      <td>0</td>\n",
       "      <td>0</td>\n",
       "      <td>0</td>\n",
       "      <td>0</td>\n",
       "      <td>0</td>\n",
       "      <td>0</td>\n",
       "      <td>0</td>\n",
       "      <td>0</td>\n",
       "      <td>0</td>\n",
       "      <td>0</td>\n",
       "      <td>0</td>\n",
       "      <td>0</td>\n",
       "      <td>0.0</td>\n",
       "      <td>0.0</td>\n",
       "    </tr>\n",
       "    <tr>\n",
       "      <th>7800004</th>\n",
       "      <td>780</td>\n",
       "      <td>4</td>\n",
       "      <td>0</td>\n",
       "      <td>0</td>\n",
       "      <td>0</td>\n",
       "      <td>0</td>\n",
       "      <td>0</td>\n",
       "      <td>0</td>\n",
       "      <td>0</td>\n",
       "      <td>0</td>\n",
       "      <td>0</td>\n",
       "      <td>0</td>\n",
       "      <td>0</td>\n",
       "      <td>0</td>\n",
       "      <td>0</td>\n",
       "      <td>0.0</td>\n",
       "      <td>0.0</td>\n",
       "    </tr>\n",
       "    <tr>\n",
       "      <th>7800005</th>\n",
       "      <td>780</td>\n",
       "      <td>5</td>\n",
       "      <td>0</td>\n",
       "      <td>0</td>\n",
       "      <td>0</td>\n",
       "      <td>0</td>\n",
       "      <td>0</td>\n",
       "      <td>0</td>\n",
       "      <td>0</td>\n",
       "      <td>0</td>\n",
       "      <td>0</td>\n",
       "      <td>0</td>\n",
       "      <td>0</td>\n",
       "      <td>0</td>\n",
       "      <td>0</td>\n",
       "      <td>0.0</td>\n",
       "      <td>0.0</td>\n",
       "    </tr>\n",
       "  </tbody>\n",
       "</table>\n",
       "</div>"
      ],
      "text/plain": [
       "         PatientID  slice_number  C1  C2  C3  C4  C5  C6  C7  min_row  \\\n",
       "id                                                                      \n",
       "7800001        780             1   0   0   0   0   0   0   0        0   \n",
       "7800002        780             2   0   0   0   0   0   0   0        0   \n",
       "7800003        780             3   0   0   0   0   0   0   0        0   \n",
       "7800004        780             4   0   0   0   0   0   0   0        0   \n",
       "7800005        780             5   0   0   0   0   0   0   0        0   \n",
       "\n",
       "         max_row  min_column  max_column  width  height  width_mm  height_mm  \n",
       "id                                                                            \n",
       "7800001        0           0           0      0       0       0.0        0.0  \n",
       "7800002        0           0           0      0       0       0.0        0.0  \n",
       "7800003        0           0           0      0       0       0.0        0.0  \n",
       "7800004        0           0           0      0       0       0.0        0.0  \n",
       "7800005        0           0           0      0       0       0.0        0.0  "
      ]
     },
     "execution_count": 6,
     "metadata": {},
     "output_type": "execute_result"
    }
   ],
   "source": [
    "df = pd.read_csv(os.path.join(DATA_DIR, 'meta_segmentation.csv')).set_index('id')\n",
    "df.head()"
   ]
  },
  {
   "cell_type": "markdown",
   "metadata": {
    "collapsed": false
   },
   "source": [
    "### Dataset"
   ]
  },
  {
   "cell_type": "code",
   "execution_count": 7,
   "metadata": {
    "collapsed": false
   },
   "outputs": [],
   "source": [
    "class XraySpineDataset(Dataset):\n",
    "    def __init__(self, xray_dir, label_df, transform=None, target_transform=None):\n",
    "        self.xray_dir = xray_dir\n",
    "        self.patient_dict = self.group_by_patient(label_df)\n",
    "        self.patient_ids = list(self.patient_dict.keys())\n",
    "\n",
    "        self.transform = transform\n",
    "        self.target_transform = target_transform\n",
    "\n",
    "    def group_by_patient(self, label_df):\n",
    "        df = label_df.sort_index()\n",
    "        patient_id = None\n",
    "        patient_label = None\n",
    "        patient_dict = {}\n",
    "\n",
    "        len_df = len(df)\n",
    "        for i in tqdm(range(len_df)):\n",
    "            row = df.iloc[i]\n",
    "            PatientID = int(row[\"PatientID\"])\n",
    "            if patient_id != PatientID:\n",
    "                if patient_label is not None:\n",
    "                    patient_dict[patient_id] = np.stack(patient_label)\n",
    "                patient_id = PatientID\n",
    "                patient_label = []\n",
    "            patient_label.append(row[['C1','C2','C3','C4','C5','C6','C7']].values)\n",
    "\n",
    "            if (i + 1) == len_df:\n",
    "                patient_dict[patient_id] = np.stack(patient_label)\n",
    "        return patient_dict\n",
    "\n",
    "    def __len__(self):\n",
    "        return len(self.patient_ids)\n",
    "\n",
    "\n",
    "    def __getitem__(self, idx):\n",
    "        patient_id = self.patient_ids[idx]\n",
    "        UID = \"1.2.826.0.1.3680043.\" + str(patient_id)\n",
    "\n",
    "        # axial = read_image(os.path.join(self.xray_dir, UID, 'axial.jpeg')).float()\n",
    "        sagittal = read_image(os.path.join(self.xray_dir, UID, 'sagittal.jpeg')).float()\n",
    "        coronal = read_image(os.path.join(self.xray_dir, UID, 'coronal.jpeg')).float()\n",
    "\n",
    "        label = self.patient_dict[patient_id]\n",
    "\n",
    "        if self.transform:\n",
    "            # axial = self.transform(axial)\n",
    "            sagittal = self.transform(sagittal)\n",
    "            coronal = self.transform(coronal)\n",
    "\n",
    "\n",
    "        if self.target_transform:\n",
    "            label = self.target_transform(label)\n",
    "\n",
    "        return (sagittal, coronal), label\n"
   ]
  },
  {
   "cell_type": "code",
   "execution_count": 31,
   "metadata": {
    "collapsed": false
   },
   "outputs": [
    {
     "name": "stderr",
     "output_type": "stream",
     "text": [
      "100%|██████████| 29832/29832 [00:06<00:00, 4377.67it/s]\n"
     ]
    },
    {
     "data": {
      "text/plain": [
       "87"
      ]
     },
     "execution_count": 31,
     "metadata": {},
     "output_type": "execute_result"
    }
   ],
   "source": [
    "transform = Compose([\n",
    "    T.RandomAutocontrast(0.5),\n",
    "    Normalize(255 * 0.5, 255 * 0.5),\n",
    "])\n",
    "target_transform = Compose([\n",
    "    ToTensor(),\n",
    "])\n",
    "dataset = XraySpineDataset(TRAIN_XRAY_DIR, df, transform=transform, target_transform=target_transform)\n",
    "len(dataset)"
   ]
  },
  {
   "cell_type": "code",
   "execution_count": 9,
   "metadata": {
    "collapsed": false
   },
   "outputs": [],
   "source": [
    "def print_list_shapes(list):\n",
    "    for item in list:\n",
    "        print(item.shape)"
   ]
  },
  {
   "cell_type": "code",
   "execution_count": 11,
   "metadata": {
    "collapsed": false
   },
   "outputs": [],
   "source": [
    "class XrayFeatureExtractModel(nn.Module):\n",
    "    def __init__(self, backbone, channels, deep=4, out_channels=64, n_features=7):\n",
    "        super().__init__()\n",
    "\n",
    "        self.backbone = backbone\n",
    "        self.deep = deep\n",
    "        self.channels = channels\n",
    "        self.out_channels = out_channels\n",
    "        self.n_features = n_features\n",
    "\n",
    "        self.init_layers()\n",
    "\n",
    "    def init_layers(self):\n",
    "        self.parallel_modules = self.make_parallel_modules()\n",
    "        self.upsampling_modules = self.make_upsampling_modules()\n",
    "\n",
    "        self.downsampling_modules = self.make_downsampling_modules()\n",
    "        self.classification_modules = self.make_classification_modules()\n",
    "\n",
    "    def make_classification_modules(self):\n",
    "        # the last layer\n",
    "        return nn.Sequential(\n",
    "            nn.Conv2d(self.out_channels, self.n_features, kernel_size=1),\n",
    "            nn.AdaptiveMaxPool2d(output_size=(None, 1))\n",
    "        )\n",
    "\n",
    "    def make_parallel_modules(self):\n",
    "        parallel_modules = nn.ModuleList()\n",
    "\n",
    "        for i in range(self.deep):\n",
    "            module = nn.Conv2d(self.channels[i], self.channels[i], kernel_size=3, padding='same')\n",
    "            parallel_modules.append(module)\n",
    "\n",
    "\n",
    "        return parallel_modules\n",
    "\n",
    "    def make_downsampling_modules(self):\n",
    "        return nn.ModuleList([\n",
    "            nn.Sequential(\n",
    "                self.backbone.conv1,\n",
    "                self.backbone.bn1,\n",
    "                self.backbone.relu,\n",
    "                self.backbone.maxpool),\n",
    "            nn.Sequential(\n",
    "                self.backbone.layer1,\n",
    "                self.backbone.layer2,\n",
    "            ),\n",
    "\n",
    "            self.backbone.layer3,\n",
    "            self.backbone.layer4\n",
    "        ])\n",
    "\n",
    "    def make_upsampling_modules(self):\n",
    "        upsampling_modules = nn.ModuleList()\n",
    "\n",
    "        for i in range(self.deep):\n",
    "            module = nn.Sequential(\n",
    "                nn.ReLU(inplace=True),\n",
    "                nn.Conv2d(self.channels[i], self.channels[i-1] if i > 0 else self.out_channels, kernel_size=1),\n",
    "                nn.ReLU(inplace=True),\n",
    "                nn.Upsample(scale_factor=2)\n",
    "            )\n",
    "            upsampling_modules.append(module)\n",
    "\n",
    "        return upsampling_modules\n",
    "\n",
    "\n",
    "\n",
    "    def forward(self, x):\n",
    "\n",
    "        downsampling_outputs = []\n",
    "        out = x\n",
    "        for module in self.downsampling_modules:\n",
    "            out = module(out)\n",
    "            downsampling_outputs.append(out)\n",
    "\n",
    "        parallel_outputs = []\n",
    "        for i in range(len(self.parallel_modules)):\n",
    "            module = self.parallel_modules[i]\n",
    "            out = module(downsampling_outputs[i])\n",
    "            parallel_outputs.append(out)\n",
    "\n",
    "        out = 0\n",
    "        for i in range(len(self.upsampling_modules)):\n",
    "            module = self.upsampling_modules[-(i+1)]\n",
    "            parallel_output = parallel_outputs[-(i+1)]\n",
    "\n",
    "            up_input = out + parallel_output\n",
    "            out = module(up_input)\n",
    "\n",
    "        out = self.classification_modules(out)\n",
    "\n",
    "        return out\n",
    "\n",
    "\n",
    "# feature_module = XrayFeatureExtractModel(backbone, channels=[64, 128, 256, 512], out_channels=64, n_features=64)\n",
    "# # print(model)\n",
    "# input = torch.randn(1, 1, 618, 512)\n",
    "# height = int(np.ceil(input.shape[2] / 16) * 16)\n",
    "# print(height)\n",
    "# input = TF.pad(input, (0, int(np.ceil((height - input.shape[2]) / 2)), 0, (height - input.shape[2]) // 2))\n",
    "# print(input.shape)\n",
    "# out = feature_module(input)\n",
    "# out.shape"
   ]
  },
  {
   "cell_type": "code",
   "execution_count": 12,
   "metadata": {
    "collapsed": false
   },
   "outputs": [],
   "source": [
    "class XrayClassificationModel(nn.Module):\n",
    "    def __init__(self, feature_module, in_channels, n_labels=7):\n",
    "        super().__init__()\n",
    "\n",
    "        self.feature_module = feature_module\n",
    "        self.n_labels = n_labels\n",
    "\n",
    "        self.classification_module = nn.Sequential(\n",
    "            nn.Conv1d(in_channels * 2, in_channels, kernel_size=3, padding='same'),\n",
    "            nn.ReLU(inplace=True),\n",
    "            nn.Conv1d(in_channels, n_labels, kernel_size=1)\n",
    "        )\n",
    "\n",
    "    def forward(self, x):\n",
    "\n",
    "        feature = self.feature_module(x)    # 2 x C x H x 1\n",
    "        # print(feature.shape)\n",
    "        feature = feature.reshape(1, -1, feature.shape[2])\n",
    "\n",
    "        out = self.classification_module(feature)\n",
    "        return out\n",
    "\n",
    "# model = XrayClassificationModel(feature_module, 64, n_labels=7)\n",
    "# input = torch.randn(2, 1, 624, 512)\n",
    "# out = model(input)\n",
    "# out.shape"
   ]
  },
  {
   "cell_type": "code",
   "execution_count": 13,
   "metadata": {
    "collapsed": false
   },
   "outputs": [],
   "source": [
    "def pad_dataset(x, y, deep=4):\n",
    "    unit = np.power(2, deep)\n",
    "    height = int(np.ceil(x.shape[2] / unit) * unit)\n",
    "    left, top, right, bottom = 0, int(np.ceil((height - x.shape[2]) / 2)), 0, (height - x.shape[2]) // 2\n",
    "    x = TF.pad(x, [left, top, right, bottom])\n",
    "    y = F.pad(y, (top, bottom)) if y is not None else None\n",
    "\n",
    "    return x, y"
   ]
  },
  {
   "cell_type": "markdown",
   "metadata": {
    "collapsed": false
   },
   "source": [
    "## Train"
   ]
  },
  {
   "cell_type": "code",
   "execution_count": 14,
   "metadata": {
    "collapsed": false
   },
   "outputs": [],
   "source": [
    "dataloader = DataLoader(dataset, batch_size=1, shuffle=True, pin_memory=True)"
   ]
  },
  {
   "cell_type": "code",
   "execution_count": 15,
   "metadata": {
    "collapsed": false
   },
   "outputs": [
    {
     "data": {
      "text/plain": [
       "'cuda'"
      ]
     },
     "execution_count": 15,
     "metadata": {},
     "output_type": "execute_result"
    }
   ],
   "source": [
    "device = 'cuda' if torch.cuda.is_available() else 'cpu'\n",
    "device"
   ]
  },
  {
   "cell_type": "code",
   "execution_count": 38,
   "metadata": {
    "collapsed": false
   },
   "outputs": [],
   "source": [
    "def test_sample(model, xray_dir, transform=None, UID=\"1.2.826.0.1.3680043.3882\"):\n",
    "    model.eval()\n",
    "    # axial = read_image(os.path.join(xray_dir, UID, 'axial.jpeg')).float()\n",
    "    sagittal = read_image(os.path.join(xray_dir, UID, 'sagittal.jpeg')).float()\n",
    "    coronal = read_image(os.path.join(xray_dir, UID, 'coronal.jpeg')).float()\n",
    "\n",
    "    if transform:\n",
    "        # axial = transform(axial)\n",
    "        sagittal = transform(sagittal)\n",
    "        coronal = transform(coronal)\n",
    "\n",
    "    x = torch.stack((sagittal, coronal), dim=0).to(device)\n",
    "    x, _ = pad_dataset(x, None, 4)\n",
    "\n",
    "    logits = model(x)\n",
    "\n",
    "    pred = torch.sigmoid(logits).float()\n",
    "\n",
    "    pred = pred.detach().squeeze().t().cpu().numpy()\n",
    "    plt.imshow(pred, aspect=0.01)\n",
    "    plt.show()\n",
    "\n",
    "# test_sample(model, TRAIN_XRAY_DIR)"
   ]
  },
  {
   "cell_type": "code",
   "execution_count": 79,
   "metadata": {
    "collapsed": false
   },
   "outputs": [],
   "source": [
    "backbone = resnet18_gray()\n",
    "for param in backbone.parameters():\n",
    "    param.requires_grad = False\n",
    "\n",
    "feature_module = XrayFeatureExtractModel(backbone, channels=[64, 128, 256, 512], out_channels=64, n_features=64)\n",
    "model = XrayClassificationModel(feature_module, 64, n_labels=7)\n",
    "model = model.to(device)\n",
    "optimizer = optim.AdamW(model.parameters(), lr=lr * 0.1, weight_decay=wd)"
   ]
  },
  {
   "cell_type": "code",
   "execution_count": 24,
   "metadata": {
    "collapsed": false
   },
   "outputs": [],
   "source": [
    "def train_one_epoch(epoch, model, dataloader):\n",
    "    model.train()\n",
    "    train_iter = tqdm(dataloader)\n",
    "\n",
    "    total_loss = 0\n",
    "    for i, ((sagittal, coronal), y) in enumerate(train_iter):\n",
    "\n",
    "        x = torch.cat((sagittal, coronal), dim=0).to(device)\n",
    "        y = TF.resize(y, size=[x.shape[2], y.shape[-1]]).permute((0, 2, 1)).to(device)\n",
    "        x, y = pad_dataset(x, y, 4)\n",
    "\n",
    "        logits = model(x)\n",
    "        loss = F.binary_cross_entropy_with_logits(logits, y, reduction='none')\n",
    "        # print(loss.shape)\n",
    "        portion = y.mean()\n",
    "        loss = (1 - portion) * y * loss + portion * (1 - y) * loss\n",
    "        loss = loss.mean()\n",
    "\n",
    "        optimizer.zero_grad()\n",
    "        loss.backward()\n",
    "        nn.utils.clip_grad_norm_(model.parameters(), 1.)\n",
    "        optimizer.step()\n",
    "\n",
    "        total_loss += loss.item()\n",
    "        train_iter.set_description(f\"t {epoch} loss {total_loss / (i + 1):.4f}\")\n"
   ]
  },
  {
   "cell_type": "code",
   "execution_count": 32,
   "metadata": {
    "collapsed": false
   },
   "outputs": [
    {
     "data": {
      "text/plain": [
       "tensor([[[0., 0., 0.,  ..., 0., 0., 0.],\n",
       "         [0., 0., 0.,  ..., 0., 0., 0.],\n",
       "         [0., 0., 0.,  ..., 0., 0., 0.],\n",
       "         ...,\n",
       "         [0., 0., 0.,  ..., 0., 0., 0.],\n",
       "         [0., 0., 0.,  ..., 0., 0., 0.],\n",
       "         [0., 0., 0.,  ..., 0., 0., 0.]]], dtype=torch.float64)"
      ]
     },
     "execution_count": 32,
     "metadata": {},
     "output_type": "execute_result"
    }
   ],
   "source": [
    "(sagittal, coronal), y = dataset[0]\n",
    "y"
   ]
  },
  {
   "cell_type": "code",
   "execution_count": 104,
   "metadata": {
    "collapsed": false
   },
   "outputs": [
    {
     "name": "stdout",
     "output_type": "stream",
     "text": [
      "0.0682254249617535\n",
      "0.08738406882263733\n",
      "0.08150264749422582\n",
      "0.0806877877824446\n",
      "0.06469390826635633\n",
      "0.1737902352954768\n",
      "0.08180525278368173\n",
      "0.0980642795793647\n",
      "0.16191254436819458\n",
      "0.08706029915843894\n"
     ]
    },
    {
     "data": {
      "image/png": "[encoded data removed]",
      "text/plain": [
       "<Figure size 432x288 with 1 Axes>"
      ]
     },
     "metadata": {},
     "output_type": "display_data"
    }
   ],
   "source": [
    "for i in range(10):\n",
    "    (sagittal, coronal), y = dataset[i]\n",
    "    x = torch.stack((sagittal, coronal)).to(device)\n",
    "    y = TF.resize(y, size=[x.shape[2], y.shape[-1]]).permute((0, 2, 1)).to(device)\n",
    "    x, y = pad_dataset(x, y, 4)\n",
    "\n",
    "    logits = model(x)\n",
    "    loss = F.binary_cross_entropy_with_logits(logits, y, reduction='none')\n",
    "    # print(loss.shape)\n",
    "    portion = y.mean()\n",
    "    loss = (1 - portion) * y * loss + portion * (1 - y) * loss\n",
    "    loss = loss.mean()\n",
    "\n",
    "    optimizer.zero_grad()\n",
    "    loss.backward()\n",
    "    nn.utils.clip_grad_norm_(model.parameters(), 1.)\n",
    "    optimizer.step()\n",
    "\n",
    "    print(loss.item())\n",
    "test_sample(model, TRAIN_XRAY_DIR, UID=\"1.2.826.0.1.3680043.780\")"
   ]
  },
  {
   "cell_type": "code",
   "execution_count": 25,
   "metadata": {
    "collapsed": false
   },
   "outputs": [
    {
     "name": "stderr",
     "output_type": "stream",
     "text": [
      "t 0 loss 0.1629: 100%|██████████| 87/87 [00:05<00:00, 15.75it/s]\n"
     ]
    },
    {
     "data": {
      "image/png": "[encoded data removed]",
      "text/plain": [
       "<Figure size 432x288 with 1 Axes>"
      ]
     },
     "metadata": {},
     "output_type": "display_data"
    },
    {
     "name": "stderr",
     "output_type": "stream",
     "text": [
      "t 1 loss 0.1442: 100%|██████████| 87/87 [00:05<00:00, 15.93it/s]\n"
     ]
    },
    {
     "data": {
      "image/png": "[encoded data removed]",
      "text/plain": [
       "<Figure size 432x288 with 1 Axes>"
      ]
     },
     "metadata": {},
     "output_type": "display_data"
    },
    {
     "name": "stderr",
     "output_type": "stream",
     "text": [
      "t 2 loss 0.1294: 100%|██████████| 87/87 [00:05<00:00, 15.98it/s]\n"
     ]
    },
    {
     "data": {
      "image/png": "[encoded data removed]",
      "text/plain": [
       "<Figure size 432x288 with 1 Axes>"
      ]
     },
     "metadata": {},
     "output_type": "display_data"
    },
    {
     "name": "stderr",
     "output_type": "stream",
     "text": [
      "t 3 loss 0.1231: 100%|██████████| 87/87 [00:05<00:00, 15.89it/s]\n"
     ]
    },
    {
     "data": {
      "image/png": "[encoded data removed]",
      "text/plain": [
       "<Figure size 432x288 with 1 Axes>"
      ]
     },
     "metadata": {},
     "output_type": "display_data"
    },
    {
     "name": "stderr",
     "output_type": "stream",
     "text": [
      "t 4 loss 0.1108: 100%|██████████| 87/87 [00:05<00:00, 15.92it/s]\n"
     ]
    },
    {
     "data": {
      "image/png": "[encoded data removed]",
      "text/plain": [
       "<Figure size 432x288 with 1 Axes>"
      ]
     },
     "metadata": {},
     "output_type": "display_data"
    },
    {
     "name": "stderr",
     "output_type": "stream",
     "text": [
      "t 5 loss 0.1084: 100%|██████████| 87/87 [00:05<00:00, 16.00it/s]\n"
     ]
    },
    {
     "data": {
      "image/png": "[encoded data removed]",
      "text/plain": [
       "<Figure size 432x288 with 1 Axes>"
      ]
     },
     "metadata": {},
     "output_type": "display_data"
    },
    {
     "name": "stderr",
     "output_type": "stream",
     "text": [
      "t 6 loss 0.1063: 100%|██████████| 87/87 [00:05<00:00, 16.05it/s]\n"
     ]
    },
    {
     "data": {
      "image/png": "[encoded data removed]",
      "text/plain": [
       "<Figure size 432x288 with 1 Axes>"
      ]
     },
     "metadata": {},
     "output_type": "display_data"
    },
    {
     "name": "stderr",
     "output_type": "stream",
     "text": [
      "t 7 loss 0.0986: 100%|██████████| 87/87 [00:05<00:00, 16.04it/s]\n"
     ]
    },
    {
     "data": {
      "image/png": "[encoded data removed]",
      "text/plain": [
       "<Figure size 432x288 with 1 Axes>"
      ]
     },
     "metadata": {},
     "output_type": "display_data"
    },
    {
     "name": "stderr",
     "output_type": "stream",
     "text": [
      "t 8 loss 0.1001: 100%|██████████| 87/87 [00:05<00:00, 16.03it/s]\n"
     ]
    },
    {
     "data": {
      "image/png": "[encoded data removed]",
      "text/plain": [
       "<Figure size 432x288 with 1 Axes>"
      ]
     },
     "metadata": {},
     "output_type": "display_data"
    },
    {
     "name": "stderr",
     "output_type": "stream",
     "text": [
      "t 9 loss 0.0966: 100%|██████████| 87/87 [00:05<00:00, 16.07it/s]\n"
     ]
    },
    {
     "data": {
      "image/png": "[encoded data removed]",
      "text/plain": [
       "<Figure size 432x288 with 1 Axes>"
      ]
     },
     "metadata": {},
     "output_type": "display_data"
    }
   ],
   "source": [
    "for epoch in range(10):\n",
    "    train_one_epoch(epoch, model, dataloader)\n",
    "    test_sample(model, TRAIN_XRAY_DIR)"
   ]
  },
  {
   "cell_type": "code",
   "execution_count": null,
   "metadata": {
    "collapsed": false
   },
   "outputs": [],
   "source": []
  }
 ],
 "metadata": {
  "kernelspec": {
   "display_name": "Python 3",
   "language": "python",
   "name": "python3"
  },
  "language_info": {
   "codemirror_mode": {
    "name": "ipython",
    "version": 2
   },
   "file_extension": ".py",
   "mimetype": "text/x-python",
   "name": "python",
   "nbconvert_exporter": "python",
   "pygments_lexer": "ipython2",
   "version": "2.7.6"
  }
 },
 "nbformat": 4,
 "nbformat_minor": 0
}
