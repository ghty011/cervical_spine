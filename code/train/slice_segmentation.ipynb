{
 "cells": [
  {
   "cell_type": "code",
   "execution_count": 2,
   "metadata": {
    "collapsed": true
   },
   "outputs": [],
   "source": [
    "import os\n",
    "import glob\n",
    "import pydicom\n",
    "import nibabel as nib\n",
    "import pandas as pd\n",
    "import numpy as np\n",
    "from pydicom.pixel_data_handlers.util import apply_voi_lut\n",
    "import matplotlib.pyplot as plt\n",
    "import matplotlib.patches as patches\n",
    "import seaborn as sns\n",
    "\n",
    "from tqdm import tqdm\n",
    "\n",
    "%load_ext autoreload\n",
    "%autoreload 2\n",
    "\n",
    "import sys\n",
    "sys.path.append(\"..\")\n",
    "\n",
    "from utils.dcm_utils import *\n",
    "from utils.nii_utils import *\n",
    "from utils.train_utils import *\n",
    "from utils.xray_utils import *\n",
    "\n",
    "from PIL import Image"
   ]
  },
  {
   "cell_type": "code",
   "execution_count": 3,
   "metadata": {
    "collapsed": false
   },
   "outputs": [],
   "source": [
    "import torch\n",
    "import torch.nn as nn\n",
    "import torch.nn.functional as F\n",
    "import torch.optim as optim\n",
    "from torch.utils.data import Dataset, DataLoader\n",
    "import torchvision\n",
    "from torchvision.io import read_image\n",
    "import torchvision.transforms as T\n",
    "from torchvision.transforms import Compose, ToTensor, Normalize, Resize, CenterCrop\n",
    "import torchvision.transforms.functional as TF"
   ]
  },
  {
   "cell_type": "code",
   "execution_count": 8,
   "metadata": {
    "collapsed": false
   },
   "outputs": [],
   "source": [
    "# DATA_DIR = \"/media/longyi/SSD9701/\"\n",
    "DATA_DIR = \"/Volumes/SSD970/\"\n",
    "TRAIN_IMAGES_DIR = os.path.join(DATA_DIR, \"train_images\")\n",
    "XRAY_IMAGES_DIR = os.path.join(DATA_DIR, \"xray_images\")\n",
    "SEG_IMAGES_DIR = os.path.join(DATA_DIR, \"segmentation_images\")"
   ]
  },
  {
   "cell_type": "code",
   "execution_count": 9,
   "metadata": {
    "collapsed": false
   },
   "outputs": [
    {
     "data": {
      "text/plain": [
       "['/Volumes/SSD970/segmentation_images/1.2.826.0.1.3680043.10633',\n",
       " '/Volumes/SSD970/segmentation_images/1.2.826.0.1.3680043.10921',\n",
       " '/Volumes/SSD970/segmentation_images/1.2.826.0.1.3680043.11827',\n",
       " '/Volumes/SSD970/segmentation_images/1.2.826.0.1.3680043.11988',\n",
       " '/Volumes/SSD970/segmentation_images/1.2.826.0.1.3680043.12281',\n",
       " '/Volumes/SSD970/segmentation_images/1.2.826.0.1.3680043.12292',\n",
       " '/Volumes/SSD970/segmentation_images/1.2.826.0.1.3680043.12833',\n",
       " '/Volumes/SSD970/segmentation_images/1.2.826.0.1.3680043.1363',\n",
       " '/Volumes/SSD970/segmentation_images/1.2.826.0.1.3680043.14267',\n",
       " '/Volumes/SSD970/segmentation_images/1.2.826.0.1.3680043.1480',\n",
       " '/Volumes/SSD970/segmentation_images/1.2.826.0.1.3680043.15206',\n",
       " '/Volumes/SSD970/segmentation_images/1.2.826.0.1.3680043.1542',\n",
       " '/Volumes/SSD970/segmentation_images/1.2.826.0.1.3680043.1573',\n",
       " '/Volumes/SSD970/segmentation_images/1.2.826.0.1.3680043.16092',\n",
       " '/Volumes/SSD970/segmentation_images/1.2.826.0.1.3680043.16919',\n",
       " '/Volumes/SSD970/segmentation_images/1.2.826.0.1.3680043.17481',\n",
       " '/Volumes/SSD970/segmentation_images/1.2.826.0.1.3680043.17960',\n",
       " '/Volumes/SSD970/segmentation_images/1.2.826.0.1.3680043.18480',\n",
       " '/Volumes/SSD970/segmentation_images/1.2.826.0.1.3680043.1868',\n",
       " '/Volumes/SSD970/segmentation_images/1.2.826.0.1.3680043.18906',\n",
       " '/Volumes/SSD970/segmentation_images/1.2.826.0.1.3680043.18935',\n",
       " '/Volumes/SSD970/segmentation_images/1.2.826.0.1.3680043.18968',\n",
       " '/Volumes/SSD970/segmentation_images/1.2.826.0.1.3680043.19021',\n",
       " '/Volumes/SSD970/segmentation_images/1.2.826.0.1.3680043.19333',\n",
       " '/Volumes/SSD970/segmentation_images/1.2.826.0.1.3680043.19388',\n",
       " '/Volumes/SSD970/segmentation_images/1.2.826.0.1.3680043.20120',\n",
       " '/Volumes/SSD970/segmentation_images/1.2.826.0.1.3680043.20647',\n",
       " '/Volumes/SSD970/segmentation_images/1.2.826.0.1.3680043.20928',\n",
       " '/Volumes/SSD970/segmentation_images/1.2.826.0.1.3680043.21321',\n",
       " '/Volumes/SSD970/segmentation_images/1.2.826.0.1.3680043.21651',\n",
       " '/Volumes/SSD970/segmentation_images/1.2.826.0.1.3680043.2243',\n",
       " '/Volumes/SSD970/segmentation_images/1.2.826.0.1.3680043.23904',\n",
       " '/Volumes/SSD970/segmentation_images/1.2.826.0.1.3680043.24140',\n",
       " '/Volumes/SSD970/segmentation_images/1.2.826.0.1.3680043.24606',\n",
       " '/Volumes/SSD970/segmentation_images/1.2.826.0.1.3680043.24617',\n",
       " '/Volumes/SSD970/segmentation_images/1.2.826.0.1.3680043.24891',\n",
       " '/Volumes/SSD970/segmentation_images/1.2.826.0.1.3680043.25704',\n",
       " '/Volumes/SSD970/segmentation_images/1.2.826.0.1.3680043.25833',\n",
       " '/Volumes/SSD970/segmentation_images/1.2.826.0.1.3680043.26068',\n",
       " '/Volumes/SSD970/segmentation_images/1.2.826.0.1.3680043.26110',\n",
       " '/Volumes/SSD970/segmentation_images/1.2.826.0.1.3680043.26442',\n",
       " '/Volumes/SSD970/segmentation_images/1.2.826.0.1.3680043.26492',\n",
       " '/Volumes/SSD970/segmentation_images/1.2.826.0.1.3680043.26498',\n",
       " '/Volumes/SSD970/segmentation_images/1.2.826.0.1.3680043.26740',\n",
       " '/Volumes/SSD970/segmentation_images/1.2.826.0.1.3680043.26898',\n",
       " '/Volumes/SSD970/segmentation_images/1.2.826.0.1.3680043.26979',\n",
       " '/Volumes/SSD970/segmentation_images/1.2.826.0.1.3680043.26990',\n",
       " '/Volumes/SSD970/segmentation_images/1.2.826.0.1.3680043.27016',\n",
       " '/Volumes/SSD970/segmentation_images/1.2.826.0.1.3680043.27292',\n",
       " '/Volumes/SSD970/segmentation_images/1.2.826.0.1.3680043.27752',\n",
       " '/Volumes/SSD970/segmentation_images/1.2.826.0.1.3680043.28025',\n",
       " '/Volumes/SSD970/segmentation_images/1.2.826.0.1.3680043.28327',\n",
       " '/Volumes/SSD970/segmentation_images/1.2.826.0.1.3680043.28665',\n",
       " '/Volumes/SSD970/segmentation_images/1.2.826.0.1.3680043.29425',\n",
       " '/Volumes/SSD970/segmentation_images/1.2.826.0.1.3680043.30067',\n",
       " '/Volumes/SSD970/segmentation_images/1.2.826.0.1.3680043.30487',\n",
       " '/Volumes/SSD970/segmentation_images/1.2.826.0.1.3680043.30524',\n",
       " '/Volumes/SSD970/segmentation_images/1.2.826.0.1.3680043.30565',\n",
       " '/Volumes/SSD970/segmentation_images/1.2.826.0.1.3680043.30640',\n",
       " '/Volumes/SSD970/segmentation_images/1.2.826.0.1.3680043.31077',\n",
       " '/Volumes/SSD970/segmentation_images/1.2.826.0.1.3680043.3168',\n",
       " '/Volumes/SSD970/segmentation_images/1.2.826.0.1.3680043.32071',\n",
       " '/Volumes/SSD970/segmentation_images/1.2.826.0.1.3680043.32280',\n",
       " '/Volumes/SSD970/segmentation_images/1.2.826.0.1.3680043.32370',\n",
       " '/Volumes/SSD970/segmentation_images/1.2.826.0.1.3680043.32434',\n",
       " '/Volumes/SSD970/segmentation_images/1.2.826.0.1.3680043.32436',\n",
       " '/Volumes/SSD970/segmentation_images/1.2.826.0.1.3680043.32590',\n",
       " '/Volumes/SSD970/segmentation_images/1.2.826.0.1.3680043.32658',\n",
       " '/Volumes/SSD970/segmentation_images/1.2.826.0.1.3680043.3376',\n",
       " '/Volumes/SSD970/segmentation_images/1.2.826.0.1.3680043.3882',\n",
       " '/Volumes/SSD970/segmentation_images/1.2.826.0.1.3680043.3992',\n",
       " '/Volumes/SSD970/segmentation_images/1.2.826.0.1.3680043.4202',\n",
       " '/Volumes/SSD970/segmentation_images/1.2.826.0.1.3680043.4769',\n",
       " '/Volumes/SSD970/segmentation_images/1.2.826.0.1.3680043.5002',\n",
       " '/Volumes/SSD970/segmentation_images/1.2.826.0.1.3680043.5671',\n",
       " '/Volumes/SSD970/segmentation_images/1.2.826.0.1.3680043.5782',\n",
       " '/Volumes/SSD970/segmentation_images/1.2.826.0.1.3680043.5783',\n",
       " '/Volumes/SSD970/segmentation_images/1.2.826.0.1.3680043.6078',\n",
       " '/Volumes/SSD970/segmentation_images/1.2.826.0.1.3680043.6125',\n",
       " '/Volumes/SSD970/segmentation_images/1.2.826.0.1.3680043.6376',\n",
       " '/Volumes/SSD970/segmentation_images/1.2.826.0.1.3680043.780',\n",
       " '/Volumes/SSD970/segmentation_images/1.2.826.0.1.3680043.8024',\n",
       " '/Volumes/SSD970/segmentation_images/1.2.826.0.1.3680043.8330',\n",
       " '/Volumes/SSD970/segmentation_images/1.2.826.0.1.3680043.8574',\n",
       " '/Volumes/SSD970/segmentation_images/1.2.826.0.1.3680043.8744',\n",
       " '/Volumes/SSD970/segmentation_images/1.2.826.0.1.3680043.8884',\n",
       " '/Volumes/SSD970/segmentation_images/1.2.826.0.1.3680043.9926']"
      ]
     },
     "execution_count": 9,
     "metadata": {},
     "output_type": "execute_result"
    }
   ],
   "source": [
    "seg_image_dirs = glob.glob(SEG_IMAGES_DIR + f\"/**\")\n",
    "seg_image_dirs"
   ]
  },
  {
   "cell_type": "code",
   "execution_count": 46,
   "metadata": {
    "collapsed": false
   },
   "outputs": [
    {
     "data": {
      "text/plain": [
       "['1.2.826.0.1.3680043.10633',\n",
       " '1.2.826.0.1.3680043.10921',\n",
       " '1.2.826.0.1.3680043.11827',\n",
       " '1.2.826.0.1.3680043.11988',\n",
       " '1.2.826.0.1.3680043.12281',\n",
       " '1.2.826.0.1.3680043.12292',\n",
       " '1.2.826.0.1.3680043.12833',\n",
       " '1.2.826.0.1.3680043.1363',\n",
       " '1.2.826.0.1.3680043.14267',\n",
       " '1.2.826.0.1.3680043.1480',\n",
       " '1.2.826.0.1.3680043.15206',\n",
       " '1.2.826.0.1.3680043.1542',\n",
       " '1.2.826.0.1.3680043.1573',\n",
       " '1.2.826.0.1.3680043.16092',\n",
       " '1.2.826.0.1.3680043.16919',\n",
       " '1.2.826.0.1.3680043.17481',\n",
       " '1.2.826.0.1.3680043.17960',\n",
       " '1.2.826.0.1.3680043.18480',\n",
       " '1.2.826.0.1.3680043.1868',\n",
       " '1.2.826.0.1.3680043.18906',\n",
       " '1.2.826.0.1.3680043.18935',\n",
       " '1.2.826.0.1.3680043.18968',\n",
       " '1.2.826.0.1.3680043.19021',\n",
       " '1.2.826.0.1.3680043.19333',\n",
       " '1.2.826.0.1.3680043.19388',\n",
       " '1.2.826.0.1.3680043.20120',\n",
       " '1.2.826.0.1.3680043.20647',\n",
       " '1.2.826.0.1.3680043.20928',\n",
       " '1.2.826.0.1.3680043.21321',\n",
       " '1.2.826.0.1.3680043.21651',\n",
       " '1.2.826.0.1.3680043.2243',\n",
       " '1.2.826.0.1.3680043.23904',\n",
       " '1.2.826.0.1.3680043.24140',\n",
       " '1.2.826.0.1.3680043.24606',\n",
       " '1.2.826.0.1.3680043.24617',\n",
       " '1.2.826.0.1.3680043.24891',\n",
       " '1.2.826.0.1.3680043.25704',\n",
       " '1.2.826.0.1.3680043.25833',\n",
       " '1.2.826.0.1.3680043.26068',\n",
       " '1.2.826.0.1.3680043.26110',\n",
       " '1.2.826.0.1.3680043.26442',\n",
       " '1.2.826.0.1.3680043.26492',\n",
       " '1.2.826.0.1.3680043.26498',\n",
       " '1.2.826.0.1.3680043.26740',\n",
       " '1.2.826.0.1.3680043.26898',\n",
       " '1.2.826.0.1.3680043.26979',\n",
       " '1.2.826.0.1.3680043.26990',\n",
       " '1.2.826.0.1.3680043.27016',\n",
       " '1.2.826.0.1.3680043.27292',\n",
       " '1.2.826.0.1.3680043.27752',\n",
       " '1.2.826.0.1.3680043.28025',\n",
       " '1.2.826.0.1.3680043.28327',\n",
       " '1.2.826.0.1.3680043.28665',\n",
       " '1.2.826.0.1.3680043.29425',\n",
       " '1.2.826.0.1.3680043.30067',\n",
       " '1.2.826.0.1.3680043.30487',\n",
       " '1.2.826.0.1.3680043.30524',\n",
       " '1.2.826.0.1.3680043.30565',\n",
       " '1.2.826.0.1.3680043.30640',\n",
       " '1.2.826.0.1.3680043.31077',\n",
       " '1.2.826.0.1.3680043.3168',\n",
       " '1.2.826.0.1.3680043.32071',\n",
       " '1.2.826.0.1.3680043.32280',\n",
       " '1.2.826.0.1.3680043.32370',\n",
       " '1.2.826.0.1.3680043.32434',\n",
       " '1.2.826.0.1.3680043.32436',\n",
       " '1.2.826.0.1.3680043.32590',\n",
       " '1.2.826.0.1.3680043.32658',\n",
       " '1.2.826.0.1.3680043.3376',\n",
       " '1.2.826.0.1.3680043.3882',\n",
       " '1.2.826.0.1.3680043.3992',\n",
       " '1.2.826.0.1.3680043.4202',\n",
       " '1.2.826.0.1.3680043.4769',\n",
       " '1.2.826.0.1.3680043.5002',\n",
       " '1.2.826.0.1.3680043.5671',\n",
       " '1.2.826.0.1.3680043.5782',\n",
       " '1.2.826.0.1.3680043.5783',\n",
       " '1.2.826.0.1.3680043.6078',\n",
       " '1.2.826.0.1.3680043.6125',\n",
       " '1.2.826.0.1.3680043.6376',\n",
       " '1.2.826.0.1.3680043.780',\n",
       " '1.2.826.0.1.3680043.8024',\n",
       " '1.2.826.0.1.3680043.8330',\n",
       " '1.2.826.0.1.3680043.8574',\n",
       " '1.2.826.0.1.3680043.8744',\n",
       " '1.2.826.0.1.3680043.8884',\n",
       " '1.2.826.0.1.3680043.9926']"
      ]
     },
     "execution_count": 46,
     "metadata": {},
     "output_type": "execute_result"
    }
   ],
   "source": [
    "patient_ids = [path.split(\"/\")[-1] for path in seg_image_dirs]\n",
    "patient_ids"
   ]
  },
  {
   "cell_type": "code",
   "execution_count": 119,
   "metadata": {
    "collapsed": false
   },
   "outputs": [
    {
     "data": {
      "text/html": [
       "<div>\n",
       "<style scoped>\n",
       "    .dataframe tbody tr th:only-of-type {\n",
       "        vertical-align: middle;\n",
       "    }\n",
       "\n",
       "    .dataframe tbody tr th {\n",
       "        vertical-align: top;\n",
       "    }\n",
       "\n",
       "    .dataframe thead th {\n",
       "        text-align: right;\n",
       "    }\n",
       "</style>\n",
       "<table border=\"1\" class=\"dataframe\">\n",
       "  <thead>\n",
       "    <tr style=\"text-align: right;\">\n",
       "      <th></th>\n",
       "      <th>InstanceNumber</th>\n",
       "      <th>ImagePositionPatientZ</th>\n",
       "    </tr>\n",
       "    <tr>\n",
       "      <th>StudyInstanceUID</th>\n",
       "      <th></th>\n",
       "      <th></th>\n",
       "    </tr>\n",
       "  </thead>\n",
       "  <tbody>\n",
       "    <tr>\n",
       "      <th>1.2.826.0.1.3680043.17625</th>\n",
       "      <td>12</td>\n",
       "      <td>-36.480</td>\n",
       "    </tr>\n",
       "    <tr>\n",
       "      <th>1.2.826.0.1.3680043.17625</th>\n",
       "      <td>210</td>\n",
       "      <td>-160.230</td>\n",
       "    </tr>\n",
       "    <tr>\n",
       "      <th>1.2.826.0.1.3680043.17625</th>\n",
       "      <td>120</td>\n",
       "      <td>-103.980</td>\n",
       "    </tr>\n",
       "    <tr>\n",
       "      <th>1.2.826.0.1.3680043.17625</th>\n",
       "      <td>208</td>\n",
       "      <td>-158.980</td>\n",
       "    </tr>\n",
       "    <tr>\n",
       "      <th>1.2.826.0.1.3680043.17625</th>\n",
       "      <td>141</td>\n",
       "      <td>-117.105</td>\n",
       "    </tr>\n",
       "  </tbody>\n",
       "</table>\n",
       "</div>"
      ],
      "text/plain": [
       "                           InstanceNumber  ImagePositionPatientZ\n",
       "StudyInstanceUID                                                \n",
       "1.2.826.0.1.3680043.17625              12                -36.480\n",
       "1.2.826.0.1.3680043.17625             210               -160.230\n",
       "1.2.826.0.1.3680043.17625             120               -103.980\n",
       "1.2.826.0.1.3680043.17625             208               -158.980\n",
       "1.2.826.0.1.3680043.17625             141               -117.105"
      ]
     },
     "execution_count": 119,
     "metadata": {},
     "output_type": "execute_result"
    }
   ],
   "source": [
    "dcm_df = pd.read_csv(os.path.join(DATA_DIR, 'meta_dcm_dataset.csv'))\n",
    "dcm_df = dcm_df.set_index(['StudyInstanceUID'])\n",
    "dcm_df = dcm_df[[\"InstanceNumber\", \"ImagePositionPatientZ\"]]\n",
    "dcm_df.head()"
   ]
  },
  {
   "cell_type": "code",
   "execution_count": 120,
   "metadata": {
    "collapsed": false
   },
   "outputs": [
    {
     "data": {
      "text/html": [
       "<div>\n",
       "<style scoped>\n",
       "    .dataframe tbody tr th:only-of-type {\n",
       "        vertical-align: middle;\n",
       "    }\n",
       "\n",
       "    .dataframe tbody tr th {\n",
       "        vertical-align: top;\n",
       "    }\n",
       "\n",
       "    .dataframe thead th {\n",
       "        text-align: right;\n",
       "    }\n",
       "</style>\n",
       "<table border=\"1\" class=\"dataframe\">\n",
       "  <thead>\n",
       "    <tr style=\"text-align: right;\">\n",
       "      <th></th>\n",
       "      <th>InstanceNumber</th>\n",
       "      <th>seg_idx</th>\n",
       "      <th>ImagePositionPatientZ</th>\n",
       "    </tr>\n",
       "    <tr>\n",
       "      <th>StudyInstanceUID</th>\n",
       "      <th></th>\n",
       "      <th></th>\n",
       "      <th></th>\n",
       "    </tr>\n",
       "  </thead>\n",
       "  <tbody>\n",
       "  </tbody>\n",
       "</table>\n",
       "</div>"
      ],
      "text/plain": [
       "Empty DataFrame\n",
       "Columns: [InstanceNumber, seg_idx, ImagePositionPatientZ]\n",
       "Index: []"
      ]
     },
     "execution_count": 120,
     "metadata": {},
     "output_type": "execute_result"
    }
   ],
   "source": [
    "seg_df = pd.DataFrame(columns=[\"StudyInstanceUID\",\"InstanceNumber\", \"seg_idx\", \"ImagePositionPatientZ\"]).set_index(\"StudyInstanceUID\")\n",
    "seg_df.head()"
   ]
  },
  {
   "cell_type": "code",
   "execution_count": 121,
   "metadata": {
    "collapsed": false
   },
   "outputs": [
    {
     "data": {
      "text/html": [
       "<div>\n",
       "<style scoped>\n",
       "    .dataframe tbody tr th:only-of-type {\n",
       "        vertical-align: middle;\n",
       "    }\n",
       "\n",
       "    .dataframe tbody tr th {\n",
       "        vertical-align: top;\n",
       "    }\n",
       "\n",
       "    .dataframe thead th {\n",
       "        text-align: right;\n",
       "    }\n",
       "</style>\n",
       "<table border=\"1\" class=\"dataframe\">\n",
       "  <thead>\n",
       "    <tr style=\"text-align: right;\">\n",
       "      <th></th>\n",
       "      <th>InstanceNumber</th>\n",
       "      <th>ImagePositionPatientZ</th>\n",
       "    </tr>\n",
       "    <tr>\n",
       "      <th>StudyInstanceUID</th>\n",
       "      <th></th>\n",
       "      <th></th>\n",
       "    </tr>\n",
       "  </thead>\n",
       "  <tbody>\n",
       "    <tr>\n",
       "      <th>1.2.826.0.1.3680043.1363</th>\n",
       "      <td>1</td>\n",
       "      <td>54.0</td>\n",
       "    </tr>\n",
       "    <tr>\n",
       "      <th>1.2.826.0.1.3680043.1363</th>\n",
       "      <td>2</td>\n",
       "      <td>55.0</td>\n",
       "    </tr>\n",
       "    <tr>\n",
       "      <th>1.2.826.0.1.3680043.1363</th>\n",
       "      <td>3</td>\n",
       "      <td>56.0</td>\n",
       "    </tr>\n",
       "    <tr>\n",
       "      <th>1.2.826.0.1.3680043.1363</th>\n",
       "      <td>4</td>\n",
       "      <td>57.0</td>\n",
       "    </tr>\n",
       "    <tr>\n",
       "      <th>1.2.826.0.1.3680043.1363</th>\n",
       "      <td>5</td>\n",
       "      <td>58.0</td>\n",
       "    </tr>\n",
       "    <tr>\n",
       "      <th>...</th>\n",
       "      <td>...</td>\n",
       "      <td>...</td>\n",
       "    </tr>\n",
       "    <tr>\n",
       "      <th>1.2.826.0.1.3680043.1363</th>\n",
       "      <td>195</td>\n",
       "      <td>248.0</td>\n",
       "    </tr>\n",
       "    <tr>\n",
       "      <th>1.2.826.0.1.3680043.1363</th>\n",
       "      <td>196</td>\n",
       "      <td>249.0</td>\n",
       "    </tr>\n",
       "    <tr>\n",
       "      <th>1.2.826.0.1.3680043.1363</th>\n",
       "      <td>197</td>\n",
       "      <td>250.0</td>\n",
       "    </tr>\n",
       "    <tr>\n",
       "      <th>1.2.826.0.1.3680043.1363</th>\n",
       "      <td>198</td>\n",
       "      <td>251.0</td>\n",
       "    </tr>\n",
       "    <tr>\n",
       "      <th>1.2.826.0.1.3680043.1363</th>\n",
       "      <td>199</td>\n",
       "      <td>252.0</td>\n",
       "    </tr>\n",
       "  </tbody>\n",
       "</table>\n",
       "<p>199 rows × 2 columns</p>\n",
       "</div>"
      ],
      "text/plain": [
       "                          InstanceNumber  ImagePositionPatientZ\n",
       "StudyInstanceUID                                               \n",
       "1.2.826.0.1.3680043.1363               1                   54.0\n",
       "1.2.826.0.1.3680043.1363               2                   55.0\n",
       "1.2.826.0.1.3680043.1363               3                   56.0\n",
       "1.2.826.0.1.3680043.1363               4                   57.0\n",
       "1.2.826.0.1.3680043.1363               5                   58.0\n",
       "...                                  ...                    ...\n",
       "1.2.826.0.1.3680043.1363             195                  248.0\n",
       "1.2.826.0.1.3680043.1363             196                  249.0\n",
       "1.2.826.0.1.3680043.1363             197                  250.0\n",
       "1.2.826.0.1.3680043.1363             198                  251.0\n",
       "1.2.826.0.1.3680043.1363             199                  252.0\n",
       "\n",
       "[199 rows x 2 columns]"
      ]
     },
     "execution_count": 121,
     "metadata": {},
     "output_type": "execute_result"
    }
   ],
   "source": [
    "patient_df = dcm_df.loc[\"1.2.826.0.1.3680043.1363\", [\"InstanceNumber\",\"ImagePositionPatientZ\"]].sort_values(by='InstanceNumber')\n",
    "patient_df"
   ]
  },
  {
   "cell_type": "code",
   "execution_count": 122,
   "metadata": {
    "collapsed": false
   },
   "outputs": [
    {
     "name": "stderr",
     "output_type": "stream",
     "text": [
      "100%|██████████| 87/87 [00:01<00:00, 69.58it/s]\n"
     ]
    },
    {
     "data": {
      "text/html": [
       "<div>\n",
       "<style scoped>\n",
       "    .dataframe tbody tr th:only-of-type {\n",
       "        vertical-align: middle;\n",
       "    }\n",
       "\n",
       "    .dataframe tbody tr th {\n",
       "        vertical-align: top;\n",
       "    }\n",
       "\n",
       "    .dataframe thead th {\n",
       "        text-align: right;\n",
       "    }\n",
       "</style>\n",
       "<table border=\"1\" class=\"dataframe\">\n",
       "  <thead>\n",
       "    <tr style=\"text-align: right;\">\n",
       "      <th></th>\n",
       "      <th>InstanceNumber</th>\n",
       "      <th>seg_idx</th>\n",
       "      <th>ImagePositionPatientZ</th>\n",
       "    </tr>\n",
       "    <tr>\n",
       "      <th>StudyInstanceUID</th>\n",
       "      <th></th>\n",
       "      <th></th>\n",
       "      <th></th>\n",
       "    </tr>\n",
       "  </thead>\n",
       "  <tbody>\n",
       "    <tr>\n",
       "      <th>1.2.826.0.1.3680043.10633</th>\n",
       "      <td>1</td>\n",
       "      <td>428</td>\n",
       "      <td>314.099976</td>\n",
       "    </tr>\n",
       "    <tr>\n",
       "      <th>1.2.826.0.1.3680043.10633</th>\n",
       "      <td>2</td>\n",
       "      <td>427</td>\n",
       "      <td>313.599976</td>\n",
       "    </tr>\n",
       "    <tr>\n",
       "      <th>1.2.826.0.1.3680043.10633</th>\n",
       "      <td>3</td>\n",
       "      <td>426</td>\n",
       "      <td>313.099976</td>\n",
       "    </tr>\n",
       "    <tr>\n",
       "      <th>1.2.826.0.1.3680043.10633</th>\n",
       "      <td>4</td>\n",
       "      <td>425</td>\n",
       "      <td>312.599976</td>\n",
       "    </tr>\n",
       "    <tr>\n",
       "      <th>1.2.826.0.1.3680043.10633</th>\n",
       "      <td>5</td>\n",
       "      <td>424</td>\n",
       "      <td>312.099976</td>\n",
       "    </tr>\n",
       "  </tbody>\n",
       "</table>\n",
       "</div>"
      ],
      "text/plain": [
       "                          InstanceNumber seg_idx  ImagePositionPatientZ\n",
       "StudyInstanceUID                                                       \n",
       "1.2.826.0.1.3680043.10633              1     428             314.099976\n",
       "1.2.826.0.1.3680043.10633              2     427             313.599976\n",
       "1.2.826.0.1.3680043.10633              3     426             313.099976\n",
       "1.2.826.0.1.3680043.10633              4     425             312.599976\n",
       "1.2.826.0.1.3680043.10633              5     424             312.099976"
      ]
     },
     "execution_count": 122,
     "metadata": {},
     "output_type": "execute_result"
    }
   ],
   "source": [
    "for patient_id in tqdm(patient_ids):\n",
    "    patient_df = dcm_df.loc[patient_id, [\"InstanceNumber\",\"ImagePositionPatientZ\"]].sort_values(by='InstanceNumber')\n",
    "    slice_total = len(patient_df)\n",
    "    is_flip = (patient_df.iloc[1]['ImagePositionPatientZ'] - patient_df.iloc[0]['ImagePositionPatientZ']) < 0\n",
    "    seg_idx = np.arange(slice_total)\n",
    "    if is_flip:\n",
    "        seg_idx = slice_total - seg_idx - 1\n",
    "    patient_df['seg_idx'] = seg_idx\n",
    "    seg_df = pd.concat([seg_df, patient_df])\n",
    "seg_df.head()"
   ]
  },
  {
   "cell_type": "code",
   "execution_count": 125,
   "metadata": {
    "collapsed": false
   },
   "outputs": [
    {
     "data": {
      "text/plain": [
       "29832"
      ]
     },
     "execution_count": 125,
     "metadata": {},
     "output_type": "execute_result"
    }
   ],
   "source": [
    "len(seg_df)"
   ]
  },
  {
   "cell_type": "code",
   "execution_count": 138,
   "metadata": {
    "collapsed": false
   },
   "outputs": [
    {
     "data": {
      "text/plain": [
       "InstanceNumber                    1\n",
       "seg_idx                         428\n",
       "ImagePositionPatientZ    314.099976\n",
       "Name: 1.2.826.0.1.3680043.10633, dtype: object"
      ]
     },
     "execution_count": 138,
     "metadata": {},
     "output_type": "execute_result"
    }
   ],
   "source": [
    "slice_df = seg_df.iloc[0]\n",
    "slice_df"
   ]
  },
  {
   "cell_type": "code",
   "execution_count": 139,
   "metadata": {
    "collapsed": false
   },
   "outputs": [
    {
     "data": {
      "text/plain": [
       "'1.2.826.0.1.3680043.10633'"
      ]
     },
     "execution_count": 139,
     "metadata": {},
     "output_type": "execute_result"
    }
   ],
   "source": [
    "slice_df.name"
   ]
  },
  {
   "cell_type": "code",
   "execution_count": 140,
   "metadata": {
    "collapsed": false
   },
   "outputs": [
    {
     "data": {
      "text/plain": [
       "1"
      ]
     },
     "execution_count": 140,
     "metadata": {},
     "output_type": "execute_result"
    }
   ],
   "source": [
    "slice_df.InstanceNumber"
   ]
  },
  {
   "cell_type": "code",
   "execution_count": 126,
   "metadata": {
    "collapsed": false
   },
   "outputs": [],
   "source": [
    "seg_df.to_csv(\"meta_segment_idx.csv\")"
   ]
  },
  {
   "cell_type": "code",
   "execution_count": 41,
   "metadata": {
    "collapsed": false
   },
   "outputs": [
    {
     "data": {
      "text/plain": [
       "<matplotlib.image.AxesImage at 0x7faf81f3de20>"
      ]
     },
     "execution_count": 41,
     "metadata": {},
     "output_type": "execute_result"
    },
    {
     "data": {
      "image/png": "[encoded data removed]",
      "text/plain": [
       "<Figure size 432x288 with 1 Axes>"
      ]
     },
     "metadata": {},
     "output_type": "display_data"
    }
   ],
   "source": [
    "dcm_img = read_dcm(os.path.join(TRAIN_IMAGES_DIR, UID), 328)\n",
    "plt.imshow(dcm_img, cmap='bone')"
   ]
  },
  {
   "cell_type": "code",
   "execution_count": 10,
   "metadata": {
    "collapsed": false
   },
   "outputs": [
    {
     "data": {
      "text/plain": [
       "'/Volumes/SSD970/segmentation_images/1.2.826.0.1.3680043.10633'"
      ]
     },
     "execution_count": 10,
     "metadata": {},
     "output_type": "execute_result"
    }
   ],
   "source": [
    "seg_img_dir = seg_image_dirs[0]\n",
    "seg_img_dir"
   ]
  },
  {
   "cell_type": "code",
   "execution_count": 147,
   "metadata": {
    "collapsed": false
   },
   "outputs": [],
   "source": [
    "from utils.dcm_utils import read_dcm\n",
    "class SegDataset(Dataset):\n",
    "    def __init__(self, df, image_dir, seg_dir, transform=None, target_transform=None):\n",
    "        self.df = df\n",
    "        self.image_dir = image_dir\n",
    "        self.seg_dir = seg_dir\n",
    "        self.transform = transform\n",
    "        self.target_transform = target_transform\n",
    "\n",
    "    def __len__(self):\n",
    "        return len(self.df)\n",
    "\n",
    "    def __getitem__(self, idx):\n",
    "        slice_df = self.df.iloc[idx]\n",
    "        UID = slice_df.name\n",
    "\n",
    "        slice_img = read_dcm(os.path.join(TRAIN_IMAGES_DIR, UID), slice_df.InstanceNumber)\n",
    "        label_img = Image.open(os.path.join(self.seg_dir, UID, f\"{slice_df.seg_idx}.png\"))\n",
    "        label_img = np.round(np.asarray(label_img, np.uint8) // 32)\n",
    "        if self.transform:\n",
    "            slice_img = self.transform(slice_img)\n",
    "        if self.target_transform:\n",
    "            label_img = self.target_transform(label_img)\n",
    "\n",
    "        return slice_img, label_img\n",
    "\n",
    "dataset = SegDataset(seg_df, TRAIN_IMAGES_DIR, SEG_IMAGES_DIR)\n"
   ]
  },
  {
   "cell_type": "code",
   "execution_count": 155,
   "metadata": {
    "collapsed": false
   },
   "outputs": [
    {
     "name": "stdout",
     "output_type": "stream",
     "text": [
      "47075\n",
      "(512, 512)\n",
      "0\n",
      "5\n"
     ]
    },
    {
     "data": {
      "text/plain": [
       "<matplotlib.image.AxesImage at 0x7faf25664160>"
      ]
     },
     "execution_count": 155,
     "metadata": {},
     "output_type": "execute_result"
    },
    {
     "data": {
      "image/png": "[encoded data removed]",
      "text/plain": [
       "<Figure size 432x288 with 1 Axes>"
      ]
     },
     "metadata": {},
     "output_type": "display_data"
    }
   ],
   "source": [
    "img, label = dataset[250]\n",
    "print(label.sum())\n",
    "print(img.shape)\n",
    "print(label.min())\n",
    "print(label.max())\n",
    "plt.imshow(label)\n"
   ]
  },
  {
   "cell_type": "code",
   "execution_count": 156,
   "metadata": {
    "collapsed": false
   },
   "outputs": [],
   "source": [
    "class ResidualBlock(nn.Module):\n",
    "    def __init__(self, h):\n",
    "        super().__init__()\n",
    "\n",
    "        self.layers = nn.Sequential(\n",
    "            nn.ReLU(inplace=True),\n",
    "            nn.Conv2d(2*h, h, kernel_size=1),\n",
    "            nn.ReLU(inplace=True),\n",
    "            nn.Conv2d(h, h, kernel_size=3, padding='same'),\n",
    "            nn.ReLU(inplace=True),\n",
    "            nn.Conv2d(h, 2*h, kernel_size=1)\n",
    "        )\n",
    "    def forward(self, x):\n",
    "        out = self.layers(x)\n",
    "        out += x\n",
    "        return out"
   ]
  },
  {
   "cell_type": "code",
   "execution_count": 157,
   "metadata": {
    "collapsed": false
   },
   "outputs": [],
   "source": [
    "class SegModel(nn.Module):\n",
    "    def __init__(self, h, num_residual=8):\n",
    "        super().__init__()\n",
    "\n",
    "        self.layers = nn.Sequential(\n",
    "            nn.Conv2d(1, 2*h, kernel_size=3, padding='same'),\n",
    "            *[\n",
    "                ResidualBlock(h) for _ in range(num_residual)\n",
    "            ],\n",
    "            nn.ReLU(inplace=True),\n",
    "            nn.Conv2d(2*h, 1, kernel_size=1)\n",
    "        )\n",
    "\n",
    "    def forward(self, x):\n",
    "        return self.layers(x)\n"
   ]
  },
  {
   "cell_type": "code",
   "execution_count": 158,
   "metadata": {
    "collapsed": false
   },
   "outputs": [
    {
     "data": {
      "text/plain": [
       "torch.Size([1, 1, 512, 512])"
      ]
     },
     "execution_count": 158,
     "metadata": {},
     "output_type": "execute_result"
    }
   ],
   "source": [
    "model = SegModel(128, num_residual=8)\n",
    "\n",
    "input = torch.randn(1, 1, 512, 512)\n",
    "model(input).shape"
   ]
  },
  {
   "cell_type": "code",
   "execution_count": null,
   "metadata": {
    "collapsed": false
   },
   "outputs": [],
   "source": []
  },
  {
   "cell_type": "code",
   "execution_count": null,
   "metadata": {
    "collapsed": false
   },
   "outputs": [],
   "source": [
    "dataloader = DataLoader(dataset, )"
   ]
  }
 ],
 "metadata": {
  "kernelspec": {
   "display_name": "Python 3",
   "language": "python",
   "name": "python3"
  },
  "language_info": {
   "codemirror_mode": {
    "name": "ipython",
    "version": 2
   },
   "file_extension": ".py",
   "mimetype": "text/x-python",
   "name": "python",
   "nbconvert_exporter": "python",
   "pygments_lexer": "ipython2",
   "version": "2.7.6"
  }
 },
 "nbformat": 4,
 "nbformat_minor": 0
}
