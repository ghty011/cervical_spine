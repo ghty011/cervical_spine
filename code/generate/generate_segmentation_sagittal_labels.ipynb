{
 "cells": [
  {
   "cell_type": "code",
   "execution_count": 1,
   "metadata": {
    "collapsed": true
   },
   "outputs": [],
   "source": [
    "import os\n",
    "import glob\n",
    "import pydicom\n",
    "import nibabel as nib\n",
    "import pandas as pd\n",
    "import numpy as np\n",
    "from pydicom.pixel_data_handlers.util import apply_voi_lut\n",
    "import matplotlib.pyplot as plt\n",
    "import matplotlib.patches as patches\n",
    "import seaborn as sns\n",
    "\n",
    "from tqdm import tqdm\n",
    "\n",
    "%load_ext autoreload\n",
    "%autoreload 2\n",
    "\n",
    "import sys\n",
    "sys.path.append(\"..\")\n",
    "\n",
    "from utils.dcm_utils import *\n",
    "from utils.nii_utils import *\n",
    "from utils.train_utils import *\n",
    "from utils.xray_utils import *\n",
    "\n",
    "from PIL import Image"
   ]
  },
  {
   "cell_type": "code",
   "execution_count": 2,
   "metadata": {
    "collapsed": false
   },
   "outputs": [],
   "source": [
    "DATA_DIR = \"/Volumes/SSD970/\"\n",
    "\n",
    "TRAIN_SEG_DIR = os.path.join(DATA_DIR, \"segmentations\")\n",
    "TRAIN_IMAGE_DIR = os.path.join(DATA_DIR, \"train_images\")\n",
    "SEG_IMAGES_DIR = os.path.join(DATA_DIR, \"segmentation_images\")\n",
    "SEG_AXIAL_LABELS_DIR = os.path.join(DATA_DIR, \"segmentation_axial_labels\")\n",
    "SEG_SAGITTAL_LABELS_DIR = os.path.join(DATA_DIR, \"segmentation_sagittal_labels\")\n",
    "SEG_CORONAL_LABELS_DIR = os.path.join(DATA_DIR, \"segmentation_coronal_labels\")"
   ]
  },
  {
   "cell_type": "code",
   "execution_count": 3,
   "outputs": [],
   "source": [
    "nii_files = glob.glob(TRAIN_SEG_DIR + \"/**\")"
   ],
   "metadata": {
    "collapsed": false
   }
  },
  {
   "cell_type": "code",
   "execution_count": 4,
   "outputs": [
    {
     "data": {
      "text/plain": "                           sagittal_index  z_spacing  pixel_spacing    aspect  \\\nUID                                                                             \n1.2.826.0.1.3680043.10633               0        0.5       0.285156  1.753425   \n1.2.826.0.1.3680043.10633               1        0.5       0.285156  1.753425   \n1.2.826.0.1.3680043.10633               2        0.5       0.285156  1.753425   \n1.2.826.0.1.3680043.10633               3        0.5       0.285156  1.753425   \n1.2.826.0.1.3680043.10633               4        0.5       0.285156  1.753425   \n\n                           width  height  is_flip  \nUID                                                \n1.2.826.0.1.3680043.10633    512     752        0  \n1.2.826.0.1.3680043.10633    512     752        0  \n1.2.826.0.1.3680043.10633    512     752        0  \n1.2.826.0.1.3680043.10633    512     752        0  \n1.2.826.0.1.3680043.10633    512     752        0  ",
      "text/html": "<div>\n<style scoped>\n    .dataframe tbody tr th:only-of-type {\n        vertical-align: middle;\n    }\n\n    .dataframe tbody tr th {\n        vertical-align: top;\n    }\n\n    .dataframe thead th {\n        text-align: right;\n    }\n</style>\n<table border=\"1\" class=\"dataframe\">\n  <thead>\n    <tr style=\"text-align: right;\">\n      <th></th>\n      <th>sagittal_index</th>\n      <th>z_spacing</th>\n      <th>pixel_spacing</th>\n      <th>aspect</th>\n      <th>width</th>\n      <th>height</th>\n      <th>is_flip</th>\n    </tr>\n    <tr>\n      <th>UID</th>\n      <th></th>\n      <th></th>\n      <th></th>\n      <th></th>\n      <th></th>\n      <th></th>\n      <th></th>\n    </tr>\n  </thead>\n  <tbody>\n    <tr>\n      <th>1.2.826.0.1.3680043.10633</th>\n      <td>0</td>\n      <td>0.5</td>\n      <td>0.285156</td>\n      <td>1.753425</td>\n      <td>512</td>\n      <td>752</td>\n      <td>0</td>\n    </tr>\n    <tr>\n      <th>1.2.826.0.1.3680043.10633</th>\n      <td>1</td>\n      <td>0.5</td>\n      <td>0.285156</td>\n      <td>1.753425</td>\n      <td>512</td>\n      <td>752</td>\n      <td>0</td>\n    </tr>\n    <tr>\n      <th>1.2.826.0.1.3680043.10633</th>\n      <td>2</td>\n      <td>0.5</td>\n      <td>0.285156</td>\n      <td>1.753425</td>\n      <td>512</td>\n      <td>752</td>\n      <td>0</td>\n    </tr>\n    <tr>\n      <th>1.2.826.0.1.3680043.10633</th>\n      <td>3</td>\n      <td>0.5</td>\n      <td>0.285156</td>\n      <td>1.753425</td>\n      <td>512</td>\n      <td>752</td>\n      <td>0</td>\n    </tr>\n    <tr>\n      <th>1.2.826.0.1.3680043.10633</th>\n      <td>4</td>\n      <td>0.5</td>\n      <td>0.285156</td>\n      <td>1.753425</td>\n      <td>512</td>\n      <td>752</td>\n      <td>0</td>\n    </tr>\n  </tbody>\n</table>\n</div>"
     },
     "execution_count": 4,
     "metadata": {},
     "output_type": "execute_result"
    }
   ],
   "source": [
    "df = pd.read_csv(os.path.join(DATA_DIR, 'meta_segmentation_sagittal.csv'))\n",
    "df = df.set_index('UID')\n",
    "df.head()"
   ],
   "metadata": {
    "collapsed": false
   }
  },
  {
   "cell_type": "code",
   "execution_count": 5,
   "outputs": [
    {
     "ename": "NameError",
     "evalue": "name 'save_sagittal_labels' is not defined",
     "output_type": "error",
     "traceback": [
      "\u001B[0;31m---------------------------------------------------------------------------\u001B[0m",
      "\u001B[0;31mNameError\u001B[0m                                 Traceback (most recent call last)",
      "\u001B[0;32m/var/folders/3l/2d1zfhx90z18_kvtkwwz9xtw0000gn/T/ipykernel_14303/4036922309.py\u001B[0m in \u001B[0;36m<module>\u001B[0;34m\u001B[0m\n\u001B[1;32m      7\u001B[0m \u001B[0mseg_mask\u001B[0m\u001B[0;34m[\u001B[0m\u001B[0mseg_mask\u001B[0m \u001B[0;34m>\u001B[0m \u001B[0;36m7\u001B[0m\u001B[0;34m]\u001B[0m \u001B[0;34m=\u001B[0m \u001B[0;36m0\u001B[0m\u001B[0;34m\u001B[0m\u001B[0;34m\u001B[0m\u001B[0m\n\u001B[1;32m      8\u001B[0m \u001B[0mUID\u001B[0m \u001B[0;34m=\u001B[0m \u001B[0mget_uid_from_niipath\u001B[0m\u001B[0;34m(\u001B[0m\u001B[0mnii_path\u001B[0m\u001B[0;34m)\u001B[0m\u001B[0;34m\u001B[0m\u001B[0;34m\u001B[0m\u001B[0m\n\u001B[0;32m----> 9\u001B[0;31m \u001B[0msave_sagittal_labels\u001B[0m\u001B[0;34m(\u001B[0m\u001B[0mUID\u001B[0m\u001B[0;34m,\u001B[0m \u001B[0mseg_mask\u001B[0m\u001B[0;34m)\u001B[0m\u001B[0;34m\u001B[0m\u001B[0;34m\u001B[0m\u001B[0m\n\u001B[0m",
      "\u001B[0;31mNameError\u001B[0m: name 'save_sagittal_labels' is not defined"
     ]
    }
   ],
   "source": [
    "# nii_path = nii_files[0]\n",
    "# seg_mask = nib.load(nii_path).get_fdata()\n",
    "# seg_mask = np.rot90(seg_mask, axes=(0, 1))\n",
    "# seg_mask = seg_mask.transpose((2, 0, 1))\n",
    "# seg_mask = np.flip(seg_mask, axis=0)\n",
    "#\n",
    "# seg_mask[seg_mask > 7] = 0\n",
    "# UID = get_uid_from_niipath(nii_path)\n",
    "# save_sagittal_labels(UID, seg_mask)"
   ],
   "metadata": {
    "collapsed": false
   }
  },
  {
   "cell_type": "code",
   "execution_count": null,
   "outputs": [],
   "source": [
    "# plt.imshow(seg_mask[:, :, 245])"
   ],
   "metadata": {
    "collapsed": false
   }
  },
  {
   "cell_type": "code",
   "execution_count": 6,
   "outputs": [],
   "source": [
    "def save_sagittal_labels(patient_id, imgs):\n",
    "    file_dir = os.path.join(SEG_SAGITTAL_LABELS_DIR, patient_id)\n",
    "    patient_df = df.loc[patient_id].iloc[0]\n",
    "    image_size = [int(patient_df.width), int(patient_df.height)]\n",
    "    os.mkdir(file_dir)\n",
    "    for i in range(imgs.shape[2]):\n",
    "        filepath = os.path.join(file_dir, f'{i}.png')\n",
    "        img = Image.fromarray(np.uint8(imgs[:, :, i] * 32), 'L')\n",
    "        img = img.resize(image_size, resample=Image.NEAREST)\n",
    "        img.save(filepath)"
   ],
   "metadata": {
    "collapsed": false
   }
  },
  {
   "cell_type": "code",
   "execution_count": 7,
   "outputs": [],
   "source": [
    "def save_axial_labels(patient_id, imgs):\n",
    "    file_dir = os.path.join(SEG_AXIAL_LABELS_DIR, patient_id)\n",
    "    # patient_df = df.loc[patient_id].iloc[0]\n",
    "    # image_size = [int(patient_df.width), int(patient_df.height)]\n",
    "    os.mkdir(file_dir)\n",
    "    for i in range(imgs.shape[0]):\n",
    "        filepath = os.path.join(file_dir, f'{i}.png')\n",
    "        img = Image.fromarray(np.uint8(imgs[i, :, :] * 32), 'L')\n",
    "        # img = img.resize(image_size, resample=Image.NEAREST)\n",
    "        img.save(filepath)"
   ],
   "metadata": {
    "collapsed": false
   }
  },
  {
   "cell_type": "code",
   "execution_count": 8,
   "outputs": [],
   "source": [
    "def save_coronal_labels(patient_id, imgs):\n",
    "    file_dir = os.path.join(SEG_CORONAL_LABELS_DIR, patient_id)\n",
    "    patient_df = df.loc[patient_id].iloc[0]\n",
    "    image_size = [int(patient_df.width), int(patient_df.height)]\n",
    "    os.mkdir(file_dir)\n",
    "    for i in range(imgs.shape[1]):\n",
    "        filepath = os.path.join(file_dir, f'{i}.png')\n",
    "        img = Image.fromarray(np.uint8(imgs[:, i, :] * 32), 'L')\n",
    "        img = img.resize(image_size, resample=Image.NEAREST)\n",
    "        img.save(filepath)"
   ],
   "metadata": {
    "collapsed": false
   }
  },
  {
   "cell_type": "markdown",
   "source": [
    "Save segmentation sagittal labels"
   ],
   "metadata": {
    "collapsed": false
   }
  },
  {
   "cell_type": "code",
   "execution_count": 9,
   "outputs": [],
   "source": [
    "def generate_sagittal_labels():\n",
    "    for nii_path in tqdm(nii_files):\n",
    "        seg_mask = nib.load(nii_path).get_fdata()\n",
    "        seg_mask = np.rot90(seg_mask, axes=(0, 1))\n",
    "        seg_mask = seg_mask.transpose((2, 0, 1))\n",
    "        seg_mask = np.flip(seg_mask, axis=0)\n",
    "\n",
    "        seg_mask[seg_mask > 7] = 0\n",
    "        UID = get_uid_from_niipath(nii_path)\n",
    "        save_sagittal_labels(UID, seg_mask)"
   ],
   "metadata": {
    "collapsed": false
   }
  },
  {
   "cell_type": "markdown",
   "source": [
    "Save segmentation axial labels"
   ],
   "metadata": {
    "collapsed": false
   }
  },
  {
   "cell_type": "code",
   "execution_count": 10,
   "outputs": [],
   "source": [
    "def generate_axial_labels():\n",
    "    for nii_path in tqdm(nii_files):\n",
    "        seg_mask = nib.load(nii_path).get_fdata()\n",
    "        seg_mask = np.rot90(seg_mask, axes=(0, 1))\n",
    "        seg_mask = seg_mask.transpose((2, 0, 1))\n",
    "        seg_mask = np.flip(seg_mask, axis=0)\n",
    "\n",
    "        seg_mask[seg_mask > 7] = 0\n",
    "        UID = get_uid_from_niipath(nii_path)\n",
    "        save_axial_labels(UID, seg_mask)"
   ],
   "metadata": {
    "collapsed": false
   }
  },
  {
   "cell_type": "code",
   "execution_count": 11,
   "outputs": [],
   "source": [
    "def generate_coronal_labels():\n",
    "    for nii_path in tqdm(nii_files):\n",
    "        seg_mask = nib.load(nii_path).get_fdata()\n",
    "        seg_mask = np.rot90(seg_mask, axes=(0, 1))\n",
    "        seg_mask = seg_mask.transpose((2, 0, 1))\n",
    "        seg_mask = np.flip(seg_mask, axis=0)\n",
    "\n",
    "        seg_mask[seg_mask > 7] = 0\n",
    "        UID = get_uid_from_niipath(nii_path)\n",
    "        save_coronal_labels(UID, seg_mask)"
   ],
   "metadata": {
    "collapsed": false
   }
  },
  {
   "cell_type": "code",
   "execution_count": 12,
   "outputs": [
    {
     "name": "stderr",
     "output_type": "stream",
     "text": [
      "100%|██████████| 87/87 [04:50<00:00,  3.34s/it]\n"
     ]
    }
   ],
   "source": [
    "generate_coronal_labels()"
   ],
   "metadata": {
    "collapsed": false
   }
  }
 ],
 "metadata": {
  "kernelspec": {
   "display_name": "Python 3",
   "language": "python",
   "name": "python3"
  },
  "language_info": {
   "codemirror_mode": {
    "name": "ipython",
    "version": 2
   },
   "file_extension": ".py",
   "mimetype": "text/x-python",
   "name": "python",
   "nbconvert_exporter": "python",
   "pygments_lexer": "ipython2",
   "version": "2.7.6"
  }
 },
 "nbformat": 4,
 "nbformat_minor": 0
}
