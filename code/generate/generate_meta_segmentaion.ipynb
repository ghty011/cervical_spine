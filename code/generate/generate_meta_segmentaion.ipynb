{
 "cells": [
  {
   "cell_type": "code",
   "execution_count": 1,
   "metadata": {
    "collapsed": true,
    "jupyter": {
     "outputs_hidden": true
    }
   },
   "outputs": [],
   "source": [
    "import os\n",
    "import glob\n",
    "import pydicom\n",
    "import nibabel as nib\n",
    "import pandas as pd\n",
    "import matplotlib.pyplot as plt\n",
    "import matplotlib.patches as patches\n",
    "import seaborn as sns\n",
    "import numpy as np\n",
    "\n",
    "import csv\n",
    "from tqdm import tqdm"
   ]
  },
  {
   "cell_type": "code",
   "execution_count": 2,
   "metadata": {
    "collapsed": false,
    "jupyter": {
     "outputs_hidden": false
    }
   },
   "outputs": [],
   "source": [
    "DATA_DIR = \"/Volumes/SSD970/\"\n",
    "\n",
    "TRAIN_SEG_DIR = os.path.join(DATA_DIR, \"segmentations\")\n",
    "TRAIN_IMAGE_DIR = os.path.join(DATA_DIR, \"train_images\")"
   ]
  },
  {
   "cell_type": "code",
   "execution_count": 3,
   "metadata": {
    "collapsed": false,
    "jupyter": {
     "outputs_hidden": false
    }
   },
   "outputs": [],
   "source": [
    "nii_files = glob.glob(TRAIN_SEG_DIR + \"/*.nii\")"
   ]
  },
  {
   "cell_type": "code",
   "execution_count": 27,
   "metadata": {
    "collapsed": false,
    "jupyter": {
     "outputs_hidden": false
    }
   },
   "outputs": [],
   "source": [
    "header = [\n",
    "    'id',\n",
    "    'PatientID','slice_number',\n",
    "    'C1','C2','C3','C4','C5','C6','C7',\n",
    "    'min_row', 'max_row', 'min_column', 'max_column'\n",
    "]"
   ]
  },
  {
   "cell_type": "code",
   "execution_count": 28,
   "metadata": {
    "collapsed": false,
    "jupyter": {
     "outputs_hidden": false
    }
   },
   "outputs": [
    {
     "data": {
      "text/plain": [
       "86"
      ]
     },
     "execution_count": 28,
     "metadata": {},
     "output_type": "execute_result"
    }
   ],
   "source": [
    "f = open('meta_segmentation.csv','w',newline='')\n",
    "writer = csv.writer(f)\n",
    "writer.writerow(header)"
   ]
  },
  {
   "cell_type": "code",
   "execution_count": 29,
   "metadata": {
    "collapsed": false,
    "jupyter": {
     "outputs_hidden": false
    }
   },
   "outputs": [
    {
     "name": "stderr",
     "output_type": "stream",
     "text": [
      "100%|██████████| 87/87 [02:36<00:00,  1.80s/it]\n"
     ]
    }
   ],
   "source": [
    "for path in tqdm(nii_files):\n",
    "    seg_mask = nib.load(path).get_fdata()\n",
    "    seg_mask = np.rot90(np.flip(seg_mask, axis=-1), axes=(0, 1))\n",
    "    seg_mask[seg_mask > 7] = 0\n",
    "\n",
    "    patient_id = path.split(\"/\")[-1].split(\".\")[6]\n",
    "\n",
    "    for slice in range(seg_mask.shape[2]):\n",
    "\n",
    "        rows, columns = seg_mask[:, :, slice].nonzero()\n",
    "\n",
    "        if len(rows) > 0:\n",
    "            min_row, max_row, min_column, max_column = rows[0], rows[-1], np.min(columns), np.max(columns)\n",
    "        else:\n",
    "            min_row, max_row, min_column, max_column = 0,0,0,0\n",
    "\n",
    "        row = [\n",
    "            f\"{patient_id}{slice+1:04d}\",\n",
    "            patient_id,(slice + 1),\n",
    "            0,0,0,0,0,0,0,\n",
    "            min_row, max_row, min_column, max_column\n",
    "        ]\n",
    "\n",
    "        segm_labels = np.unique(seg_mask[:, :, slice][rows, columns]).astype(int)\n",
    "\n",
    "        for index in segm_labels:\n",
    "            row[index + 2] = 1\n",
    "\n",
    "        writer.writerow(row)"
   ]
  },
  {
   "cell_type": "code",
   "execution_count": 30,
   "metadata": {
    "collapsed": false,
    "jupyter": {
     "outputs_hidden": false
    }
   },
   "outputs": [],
   "source": [
    "f.close()"
   ]
  }
 ],
 "metadata": {
  "kernelspec": {
   "display_name": "Python 3 (ipykernel)",
   "language": "python",
   "name": "python3"
  },
  "language_info": {
   "codemirror_mode": {
    "name": "ipython",
    "version": 3
   },
   "file_extension": ".py",
   "mimetype": "text/x-python",
   "name": "python",
   "nbconvert_exporter": "python",
   "pygments_lexer": "ipython3",
   "version": "3.8.10"
  }
 },
 "nbformat": 4,
 "nbformat_minor": 4
}
