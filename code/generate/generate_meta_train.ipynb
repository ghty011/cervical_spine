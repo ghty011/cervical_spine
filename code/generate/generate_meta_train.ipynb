{
 "cells": [
  {
   "cell_type": "code",
   "execution_count": 31,
   "metadata": {
    "collapsed": true
   },
   "outputs": [],
   "source": [
    "import os\n",
    "import glob\n",
    "import pydicom\n",
    "import nibabel as nib\n",
    "import pandas as pd\n",
    "import numpy as np\n",
    "from pydicom.pixel_data_handlers.util import apply_voi_lut\n",
    "import matplotlib.pyplot as plt\n",
    "import matplotlib.patches as patches\n",
    "import seaborn as sns\n",
    "import cv2\n",
    "import csv\n",
    "from tqdm import tqdm"
   ]
  },
  {
   "cell_type": "code",
   "execution_count": 32,
   "metadata": {
    "collapsed": false
   },
   "outputs": [],
   "source": [
    "DATA_DIR = \"/Volumes/SSD970/\"\n",
    "\n",
    "TRAIN_IMAGES_DIR = os.path.join(DATA_DIR, \"train_images\")"
   ]
  },
  {
   "cell_type": "code",
   "execution_count": 33,
   "metadata": {
    "collapsed": false
   },
   "outputs": [
    {
     "data": {
      "text/plain": [
       "Dataset.file_meta -------------------------------\n",
       "(0002, 0001) File Meta Information Version       OB: b'\\x00\\x01'\n",
       "(0002, 0002) Media Storage SOP Class UID         UI: CT Image Storage\n",
       "(0002, 0003) Media Storage SOP Instance UID      UI: 1.2.826.0.1.3680043.20756.1.20\n",
       "(0002, 0010) Transfer Syntax UID                 UI: Explicit VR Little Endian\n",
       "(0002, 0012) Implementation Class UID            UI: 1.2.40.0.13.1.1.1\n",
       "(0002, 0013) Implementation Version Name         SH: 'PYDICOM 2.3.0'\n",
       "-------------------------------------------------\n",
       "(0008, 0018) SOP Instance UID                    UI: 1.2.826.0.1.3680043.20756.1.20\n",
       "(0008, 0023) Content Date                        DA: '20220727'\n",
       "(0008, 0033) Content Time                        TM: '182639.457634'\n",
       "(0010, 0010) Patient's Name                      PN: '20756'\n",
       "(0010, 0020) Patient ID                          LO: '20756'\n",
       "(0018, 0050) Slice Thickness                     DS: '0.5'\n",
       "(0020, 000d) Study Instance UID                  UI: 1.2.826.0.1.3680043.20756\n",
       "(0020, 000e) Series Instance UID                 UI: 1.2.826.0.1.3680043.20756.1\n",
       "(0020, 0013) Instance Number                     IS: '20'\n",
       "(0020, 0032) Image Position (Patient)            DS: [-116.0316, -75.01602, 1980.40]\n",
       "(0020, 0037) Image Orientation (Patient)         DS: [1.00000, 0.00000, 0.00000, 0.00000, 1.00000, 0.00000]\n",
       "(0028, 0002) Samples per Pixel                   US: 1\n",
       "(0028, 0004) Photometric Interpretation          CS: 'MONOCHROME2'\n",
       "(0028, 0010) Rows                                US: 512\n",
       "(0028, 0011) Columns                             US: 512\n",
       "(0028, 0030) Pixel Spacing                       DS: [0.358, 0.358]\n",
       "(0028, 0100) Bits Allocated                      US: 16\n",
       "(0028, 0101) Bits Stored                         US: 16\n",
       "(0028, 0102) High Bit                            US: 15\n",
       "(0028, 0103) Pixel Representation                US: 1\n",
       "(0028, 1050) Window Center                       DS: '500.0'\n",
       "(0028, 1051) Window Width                        DS: '2500.0'\n",
       "(0028, 1052) Rescale Intercept                   DS: '0.0'\n",
       "(0028, 1053) Rescale Slope                       DS: '1.0'\n",
       "(7fe0, 0010) Pixel Data                          OW: Array of 524288 elements"
      ]
     },
     "execution_count": 33,
     "metadata": {},
     "output_type": "execute_result"
    }
   ],
   "source": [
    "dcm = pydicom.dcmread(os.path.join(TRAIN_IMAGES_DIR, f\"1.2.826.0.1.3680043.20756/20.dcm\"))\n",
    "dcm"
   ]
  },
  {
   "cell_type": "code",
   "execution_count": 34,
   "metadata": {
    "collapsed": false
   },
   "outputs": [
    {
     "data": {
      "text/plain": [
       "'207560020'"
      ]
     },
     "execution_count": 34,
     "metadata": {},
     "output_type": "execute_result"
    }
   ],
   "source": [
    "f\"{dcm.PatientID}{dcm.InstanceNumber:04d}\""
   ]
  },
  {
   "cell_type": "code",
   "execution_count": 35,
   "metadata": {
    "collapsed": false
   },
   "outputs": [],
   "source": [
    "header = [\n",
    "    'id',\n",
    "    'PatientID',\n",
    "    'StudyInstanceUID',\n",
    "    'InstanceNumber',\n",
    "    'Rows',\n",
    "    'Columns',\n",
    "    'SliceThickness',\n",
    "    'ImagePositionPatientX',\n",
    "    'ImagePositionPatientY',\n",
    "    'ImagePositionPatientZ',\n",
    "    'ImageOrientationPatientRowX',\n",
    "    'ImageOrientationPatientRowY',\n",
    "    'ImageOrientationPatientRowZ',\n",
    "    'ImageOrientationPatientColX',\n",
    "    'ImageOrientationPatientColY',\n",
    "    'ImageOrientationPatientColZ',\n",
    "    'BitsAllocated',\n",
    "    'BitsStored',\n",
    "    'HighBit',\n",
    "    'PixelRepresentation',\n",
    "    'WindowCenter',\n",
    "    'WindowWidth',\n",
    "    'RescaleIntercept',\n",
    "    'RescaleSlope',\n",
    "    'SamplesPerPixel',\n",
    "    'PixelSpacingX',\n",
    "    'PixelSpacingY',\n",
    "]\n"
   ]
  },
  {
   "cell_type": "code",
   "execution_count": 36,
   "metadata": {
    "collapsed": false
   },
   "outputs": [
    {
     "data": {
      "text/plain": [
       "['207560020',\n",
       " '20756',\n",
       " '1.2.826.0.1.3680043.20756',\n",
       " '20',\n",
       " 512,\n",
       " 512,\n",
       " '0.5',\n",
       " '-116.0316',\n",
       " '-75.01602',\n",
       " '1980.4',\n",
       " '1.0',\n",
       " '0.0',\n",
       " '0.0',\n",
       " '0.0',\n",
       " '1.0',\n",
       " '0.0',\n",
       " 16,\n",
       " 16,\n",
       " 15,\n",
       " 1,\n",
       " '500.0',\n",
       " '2500.0',\n",
       " '0.0',\n",
       " '1.0',\n",
       " 1,\n",
       " '0.358',\n",
       " '0.358']"
      ]
     },
     "execution_count": 36,
     "metadata": {},
     "output_type": "execute_result"
    }
   ],
   "source": [
    "def dcm_row(dcm):\n",
    "    row = [\n",
    "        f\"{dcm.PatientID}{dcm.InstanceNumber:04d}\",\n",
    "        dcm.PatientID,\n",
    "        dcm.StudyInstanceUID,\n",
    "        dcm.InstanceNumber,\n",
    "        dcm.Rows,\n",
    "        dcm.Columns,\n",
    "        dcm.SliceThickness,\n",
    "        *dcm.ImagePositionPatient,\n",
    "        *dcm.ImageOrientationPatient,\n",
    "        dcm.BitsAllocated,\n",
    "        dcm.BitsStored,\n",
    "        dcm.HighBit,\n",
    "        dcm.PixelRepresentation,\n",
    "        dcm.WindowCenter,\n",
    "        dcm.WindowWidth,\n",
    "        dcm.RescaleIntercept,\n",
    "        dcm.RescaleSlope,\n",
    "        dcm.SamplesPerPixel,\n",
    "        *dcm.PixelSpacing\n",
    "    ]\n",
    "    return row\n",
    "dcm_row(dcm)"
   ]
  },
  {
   "cell_type": "code",
   "execution_count": 45,
   "metadata": {
    "collapsed": false
   },
   "outputs": [],
   "source": [
    "dcm_file_paths = glob.glob(TRAIN_IMAGES_DIR + f\"/**/*.dcm\")"
   ]
  },
  {
   "cell_type": "code",
   "execution_count": 47,
   "metadata": {
    "collapsed": false
   },
   "outputs": [],
   "source": [
    "with open('meda_dcm_dataset.csv', 'a', newline='') as f:\n",
    "    writer = csv.writer(f)\n",
    "    writer.writerow(header)\n",
    "\n",
    "    for i, path in enumerate(dcm_file_paths):\n",
    "        dcm = pydicom.dcmread(path)\n",
    "        writer.writerow(dcm_row(dcm))\n",
    "\n",
    "        if i == 5:\n",
    "            break"
   ]
  }
 ],
 "metadata": {
  "kernelspec": {
   "display_name": "Python 3",
   "language": "python",
   "name": "python3"
  },
  "language_info": {
   "codemirror_mode": {
    "name": "ipython",
    "version": 2
   },
   "file_extension": ".py",
   "mimetype": "text/x-python",
   "name": "python",
   "nbconvert_exporter": "python",
   "pygments_lexer": "ipython2",
   "version": "2.7.6"
  }
 },
 "nbformat": 4,
 "nbformat_minor": 0
}
