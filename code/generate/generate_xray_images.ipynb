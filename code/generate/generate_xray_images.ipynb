{
 "cells": [
  {
   "cell_type": "code",
   "execution_count": 1,
   "metadata": {
    "collapsed": true
   },
   "outputs": [
    {
     "ename": "ValueError",
     "evalue": "numpy.ndarray size changed, may indicate binary incompatibility. Expected 96 from C header, got 88 from PyObject",
     "output_type": "error",
     "traceback": [
      "\u001B[0;31m---------------------------------------------------------------------------\u001B[0m",
      "\u001B[0;31mValueError\u001B[0m                                Traceback (most recent call last)",
      "\u001B[0;32m/var/folders/3l/2d1zfhx90z18_kvtkwwz9xtw0000gn/T/ipykernel_46263/2526866830.py\u001B[0m in \u001B[0;36m<module>\u001B[0;34m\u001B[0m\n\u001B[1;32m      1\u001B[0m \u001B[0;32mimport\u001B[0m \u001B[0mos\u001B[0m\u001B[0;34m\u001B[0m\u001B[0;34m\u001B[0m\u001B[0m\n\u001B[1;32m      2\u001B[0m \u001B[0;32mimport\u001B[0m \u001B[0mglob\u001B[0m\u001B[0;34m\u001B[0m\u001B[0;34m\u001B[0m\u001B[0m\n\u001B[0;32m----> 3\u001B[0;31m \u001B[0;32mimport\u001B[0m \u001B[0mpydicom\u001B[0m\u001B[0;34m\u001B[0m\u001B[0;34m\u001B[0m\u001B[0m\n\u001B[0m\u001B[1;32m      4\u001B[0m \u001B[0;32mimport\u001B[0m \u001B[0mnibabel\u001B[0m \u001B[0;32mas\u001B[0m \u001B[0mnib\u001B[0m\u001B[0;34m\u001B[0m\u001B[0;34m\u001B[0m\u001B[0m\n\u001B[1;32m      5\u001B[0m \u001B[0;32mimport\u001B[0m \u001B[0mpandas\u001B[0m \u001B[0;32mas\u001B[0m \u001B[0mpd\u001B[0m\u001B[0;34m\u001B[0m\u001B[0;34m\u001B[0m\u001B[0m\n",
      "\u001B[0;32m~/anaconda3/envs/pytorch/lib/python3.9/site-packages/pydicom/__init__.py\u001B[0m in \u001B[0;36m<module>\u001B[0;34m\u001B[0m\n\u001B[1;32m     30\u001B[0m \u001B[0;32mimport\u001B[0m \u001B[0mwarnings\u001B[0m\u001B[0;34m\u001B[0m\u001B[0;34m\u001B[0m\u001B[0m\n\u001B[1;32m     31\u001B[0m \u001B[0;34m\u001B[0m\u001B[0m\n\u001B[0;32m---> 32\u001B[0;31m \u001B[0;32mfrom\u001B[0m \u001B[0mpydicom\u001B[0m\u001B[0;34m.\u001B[0m\u001B[0mdataelem\u001B[0m \u001B[0;32mimport\u001B[0m \u001B[0mDataElement\u001B[0m\u001B[0;34m\u001B[0m\u001B[0;34m\u001B[0m\u001B[0m\n\u001B[0m\u001B[1;32m     33\u001B[0m \u001B[0;32mfrom\u001B[0m \u001B[0mpydicom\u001B[0m\u001B[0;34m.\u001B[0m\u001B[0mdataset\u001B[0m \u001B[0;32mimport\u001B[0m \u001B[0mDataset\u001B[0m\u001B[0;34m,\u001B[0m \u001B[0mFileDataset\u001B[0m\u001B[0;34m\u001B[0m\u001B[0;34m\u001B[0m\u001B[0m\n\u001B[1;32m     34\u001B[0m \u001B[0;32mwith\u001B[0m \u001B[0mwarnings\u001B[0m\u001B[0;34m.\u001B[0m\u001B[0mcatch_warnings\u001B[0m\u001B[0;34m(\u001B[0m\u001B[0;34m)\u001B[0m\u001B[0;34m:\u001B[0m\u001B[0;34m\u001B[0m\u001B[0;34m\u001B[0m\u001B[0m\n",
      "\u001B[0;32m~/anaconda3/envs/pytorch/lib/python3.9/site-packages/pydicom/dataelem.py\u001B[0m in \u001B[0;36m<module>\u001B[0;34m\u001B[0m\n\u001B[1;32m     16\u001B[0m \u001B[0;32mimport\u001B[0m \u001B[0mwarnings\u001B[0m\u001B[0;34m\u001B[0m\u001B[0;34m\u001B[0m\u001B[0m\n\u001B[1;32m     17\u001B[0m \u001B[0;34m\u001B[0m\u001B[0m\n\u001B[0;32m---> 18\u001B[0;31m \u001B[0;32mfrom\u001B[0m \u001B[0mpydicom\u001B[0m \u001B[0;32mimport\u001B[0m \u001B[0mconfig\u001B[0m  \u001B[0;31m# don't import datetime_conversion directly\u001B[0m\u001B[0;34m\u001B[0m\u001B[0;34m\u001B[0m\u001B[0m\n\u001B[0m\u001B[1;32m     19\u001B[0m \u001B[0;32mfrom\u001B[0m \u001B[0mpydicom\u001B[0m\u001B[0;34m.\u001B[0m\u001B[0mconfig\u001B[0m \u001B[0;32mimport\u001B[0m \u001B[0mlogger\u001B[0m\u001B[0;34m\u001B[0m\u001B[0;34m\u001B[0m\u001B[0m\n\u001B[1;32m     20\u001B[0m from pydicom.datadict import (dictionary_has_tag, dictionary_description,\n",
      "\u001B[0;32m~/anaconda3/envs/pytorch/lib/python3.9/site-packages/pydicom/config.py\u001B[0m in \u001B[0;36m<module>\u001B[0;34m\u001B[0m\n\u001B[1;32m    367\u001B[0m \u001B[0;32mimport\u001B[0m \u001B[0mpydicom\u001B[0m\u001B[0;34m.\u001B[0m\u001B[0mpixel_data_handlers\u001B[0m\u001B[0;34m.\u001B[0m\u001B[0mjpeg_ls_handler\u001B[0m \u001B[0;32mas\u001B[0m \u001B[0mjpegls_handler\u001B[0m  \u001B[0;31m# noqa\u001B[0m\u001B[0;34m\u001B[0m\u001B[0;34m\u001B[0m\u001B[0m\n\u001B[1;32m    368\u001B[0m \u001B[0;32mimport\u001B[0m \u001B[0mpydicom\u001B[0m\u001B[0;34m.\u001B[0m\u001B[0mpixel_data_handlers\u001B[0m\u001B[0;34m.\u001B[0m\u001B[0mgdcm_handler\u001B[0m \u001B[0;32mas\u001B[0m \u001B[0mgdcm_handler\u001B[0m  \u001B[0;31m# noqa\u001B[0m\u001B[0;34m\u001B[0m\u001B[0;34m\u001B[0m\u001B[0m\n\u001B[0;32m--> 369\u001B[0;31m \u001B[0;32mimport\u001B[0m \u001B[0mpydicom\u001B[0m\u001B[0;34m.\u001B[0m\u001B[0mpixel_data_handlers\u001B[0m\u001B[0;34m.\u001B[0m\u001B[0mpylibjpeg_handler\u001B[0m \u001B[0;32mas\u001B[0m \u001B[0mpylibjpeg_handler\u001B[0m  \u001B[0;31m# noqa\u001B[0m\u001B[0;34m\u001B[0m\u001B[0;34m\u001B[0m\u001B[0m\n\u001B[0m\u001B[1;32m    370\u001B[0m \u001B[0;34m\u001B[0m\u001B[0m\n\u001B[1;32m    371\u001B[0m pixel_data_handlers = [\n",
      "\u001B[0;32m~/anaconda3/envs/pytorch/lib/python3.9/site-packages/pydicom/pixel_data_handlers/pylibjpeg_handler.py\u001B[0m in \u001B[0;36m<module>\u001B[0;34m\u001B[0m\n\u001B[1;32m     74\u001B[0m \u001B[0;34m\u001B[0m\u001B[0m\n\u001B[1;32m     75\u001B[0m \u001B[0;32mtry\u001B[0m\u001B[0;34m:\u001B[0m\u001B[0;34m\u001B[0m\u001B[0;34m\u001B[0m\u001B[0m\n\u001B[0;32m---> 76\u001B[0;31m     \u001B[0;32mimport\u001B[0m \u001B[0mopenjpeg\u001B[0m\u001B[0;34m\u001B[0m\u001B[0;34m\u001B[0m\u001B[0m\n\u001B[0m\u001B[1;32m     77\u001B[0m     \u001B[0mHAVE_OPENJPEG\u001B[0m \u001B[0;34m=\u001B[0m \u001B[0;32mTrue\u001B[0m\u001B[0;34m\u001B[0m\u001B[0;34m\u001B[0m\u001B[0m\n\u001B[1;32m     78\u001B[0m \u001B[0;32mexcept\u001B[0m \u001B[0mImportError\u001B[0m\u001B[0;34m:\u001B[0m\u001B[0;34m\u001B[0m\u001B[0;34m\u001B[0m\u001B[0m\n",
      "\u001B[0;32m~/anaconda3/envs/pytorch/lib/python3.9/site-packages/openjpeg/__init__.py\u001B[0m in \u001B[0;36m<module>\u001B[0;34m\u001B[0m\n\u001B[1;32m      2\u001B[0m \u001B[0;34m\u001B[0m\u001B[0m\n\u001B[1;32m      3\u001B[0m \u001B[0;32mfrom\u001B[0m \u001B[0;34m.\u001B[0m\u001B[0m_version\u001B[0m \u001B[0;32mimport\u001B[0m \u001B[0m__version__\u001B[0m\u001B[0;34m\u001B[0m\u001B[0;34m\u001B[0m\u001B[0m\n\u001B[0;32m----> 4\u001B[0;31m \u001B[0;32mfrom\u001B[0m \u001B[0;34m.\u001B[0m\u001B[0mutils\u001B[0m \u001B[0;32mimport\u001B[0m \u001B[0mdecode\u001B[0m\u001B[0;34m,\u001B[0m \u001B[0mdecode_pixel_data\u001B[0m\u001B[0;34m,\u001B[0m \u001B[0mget_parameters\u001B[0m\u001B[0;34m\u001B[0m\u001B[0;34m\u001B[0m\u001B[0m\n\u001B[0m",
      "\u001B[0;32m~/anaconda3/envs/pytorch/lib/python3.9/site-packages/openjpeg/utils.py\u001B[0m in \u001B[0;36m<module>\u001B[0;34m\u001B[0m\n\u001B[1;32m      5\u001B[0m \u001B[0;32mimport\u001B[0m \u001B[0mwarnings\u001B[0m\u001B[0;34m\u001B[0m\u001B[0;34m\u001B[0m\u001B[0m\n\u001B[1;32m      6\u001B[0m \u001B[0;34m\u001B[0m\u001B[0m\n\u001B[0;32m----> 7\u001B[0;31m \u001B[0;32mimport\u001B[0m \u001B[0m_openjpeg\u001B[0m\u001B[0;34m\u001B[0m\u001B[0;34m\u001B[0m\u001B[0m\n\u001B[0m\u001B[1;32m      8\u001B[0m \u001B[0;34m\u001B[0m\u001B[0m\n\u001B[1;32m      9\u001B[0m \u001B[0;34m\u001B[0m\u001B[0m\n",
      "\u001B[0;32m~/anaconda3/envs/pytorch/lib/python3.9/site-packages/openjpeg/_openjpeg.pyx\u001B[0m in \u001B[0;36minit _openjpeg\u001B[0;34m()\u001B[0m\n",
      "\u001B[0;31mValueError\u001B[0m: numpy.ndarray size changed, may indicate binary incompatibility. Expected 96 from C header, got 88 from PyObject"
     ]
    }
   ],
   "source": [
    "import os\n",
    "import glob\n",
    "import pydicom\n",
    "import nibabel as nib\n",
    "import pandas as pd\n",
    "import numpy as np\n",
    "from pydicom.pixel_data_handlers.util import apply_voi_lut\n",
    "import matplotlib.pyplot as plt\n",
    "import matplotlib.patches as patches\n",
    "import seaborn as sns\n",
    "import cv2\n",
    "\n",
    "%load_ext autoreload\n",
    "%autoreload 2\n",
    "\n",
    "import sys\n",
    "sys.path.append(\"..\")\n",
    "\n",
    "from utils.dcm_utils import *\n",
    "from utils.nii_utils import *\n",
    "\n",
    "from PIL import Image\n",
    "\n",
    "import csv\n",
    "from tqdm import tqdm"
   ]
  },
  {
   "cell_type": "code",
   "execution_count": 2,
   "outputs": [],
   "source": [
    "DATA_DIR = \"/Volumes/SSD970/\"\n",
    "TRAIN_IMAGE_DIR = os.path.join(DATA_DIR, \"train_images\")\n",
    "XRAY_IMAGE_DIR = os.path.join(DATA_DIR, \"xray_images\")\n",
    "\n",
    "train_df = pd.read_csv(os.path.join(DATA_DIR, \"train_df_with_slices.csv\"))"
   ],
   "metadata": {
    "collapsed": false
   }
  },
  {
   "cell_type": "code",
   "execution_count": 3,
   "outputs": [
    {
     "data": {
      "text/plain": "2012"
     },
     "execution_count": 3,
     "metadata": {},
     "output_type": "execute_result"
    }
   ],
   "source": [
    "patient_dirs = glob.glob(TRAIN_IMAGE_DIR + \"/**\")\n",
    "len(patient_dirs)"
   ],
   "metadata": {
    "collapsed": false
   }
  },
  {
   "cell_type": "code",
   "execution_count": 4,
   "outputs": [],
   "source": [
    "len(patient_dirs)\n",
    "header = [\n",
    "    'UID', 'direction',\n",
    "    'z_spacing', 'pixel_spacing', 'aspect',\n",
    "    'width', 'height'\n",
    "]"
   ],
   "metadata": {
    "collapsed": false
   }
  },
  {
   "cell_type": "code",
   "execution_count": 5,
   "outputs": [
    {
     "data": {
      "text/plain": "59"
     },
     "execution_count": 5,
     "metadata": {},
     "output_type": "execute_result"
    }
   ],
   "source": [
    "f = open('meta_xray.csv','w',newline='')\n",
    "writer = csv.writer(f)\n",
    "writer.writerow(header)"
   ],
   "metadata": {
    "collapsed": false
   }
  },
  {
   "cell_type": "code",
   "execution_count": 8,
   "outputs": [],
   "source": [
    "def save_xray_image(UID, patient_train_dir):\n",
    "    patient_xray_dir = os.path.join(XRAY_IMAGE_DIR, UID)\n",
    "\n",
    "    if os.path.exists(os.path.join(patient_xray_dir, \"axial.jpeg\")):\n",
    "        return False\n",
    "\n",
    "    if os.path.exists(patient_xray_dir) == False:\n",
    "        os.mkdir(patient_xray_dir)\n",
    "\n",
    "    imgs, image_positions, image_orientations, pixel_spacings, slice_thicknesses, is_flip = read_patient_dcm(patient_train_dir)\n",
    "\n",
    "    z_spacing = image_positions[0, 2] - image_positions[1, 2]\n",
    "    pixel_spacing = pixel_spacings[0, 0]\n",
    "    aspect = z_spacing / pixel_spacing\n",
    "\n",
    "    # print(imgs.shape)\n",
    "    imgs = np.clip(imgs, a_min=0, a_max=2242)\n",
    "    # imgs = normalize_hu(imgs)\n",
    "\n",
    "    axial = np.mean(imgs, axis=0)\n",
    "    axial = Image.fromarray(np.uint8(axial / axial.max() * 255), 'L')\n",
    "\n",
    "    sagittal = np.mean(imgs, axis=2)\n",
    "    sagittal = Image.fromarray(np.uint8(sagittal / sagittal.max() * 255), 'L')\n",
    "\n",
    "    coronal = np.mean(imgs, axis=1)\n",
    "    coronal = Image.fromarray(np.uint8(coronal / coronal.max() * 255), 'L')\n",
    "\n",
    "    axial.save(os.path.join(patient_xray_dir, \"axial.jpeg\"))\n",
    "\n",
    "    z_height = int(imgs.shape[0] * aspect)\n",
    "\n",
    "    sagittal_size = [imgs.shape[1], z_height]\n",
    "    sagittal = sagittal.resize(sagittal_size)\n",
    "    sagittal.save(os.path.join(patient_xray_dir, \"sagittal.jpeg\"))\n",
    "\n",
    "    coronal_size = [imgs.shape[2], z_height]\n",
    "    coronal = coronal.resize(coronal_size)\n",
    "    coronal.save(os.path.join(patient_xray_dir, \"coronal.jpeg\"))\n",
    "\n",
    "    writer.writerows([\n",
    "        [\n",
    "            UID, 0,\n",
    "            z_spacing, pixel_spacing, aspect,\n",
    "            axial.width, axial.height\n",
    "        ],\n",
    "        [\n",
    "            UID, 1,\n",
    "            z_spacing, pixel_spacing, aspect,\n",
    "            sagittal.width, sagittal.height\n",
    "        ],\n",
    "        [\n",
    "            UID, 2,\n",
    "            z_spacing, pixel_spacing, aspect,\n",
    "            coronal.width, coronal.height\n",
    "        ]\n",
    "    ])\n",
    "\n",
    "# patient_train_dir = patient_dirs[0]\n",
    "# UID = patient_train_dir.split(\"/\")[-1]\n",
    "# save_xray_image(UID, patient_train_dir)"
   ],
   "metadata": {
    "collapsed": false
   }
  },
  {
   "cell_type": "code",
   "execution_count": 9,
   "outputs": [
    {
     "name": "stderr",
     "output_type": "stream",
     "text": [
      " 69%|██████▉   | 1389/2012 [1:07:14<16:16,  1.57s/it]  /Users/longyikim/anaconda3/envs/pytorch/lib/python3.9/site-packages/openjpeg/utils.py:209: UserWarning: The (0028,0101) Bits Stored value '12' in the dataset does not match the component precision value '16' found in the JPEG 2000 data. It's recommended that you change the Bits Stored value to produce the correct output\n",
      "  warnings.warn(\n",
      "100%|██████████| 2012/2012 [1:35:18<00:00,  2.84s/it]\n"
     ]
    }
   ],
   "source": [
    "for patient_dir in tqdm(patient_dirs):\n",
    "    UID = patient_dir.split(\"/\")[-1]\n",
    "    save_xray_image(UID, patient_dir)"
   ],
   "metadata": {
    "collapsed": false
   }
  },
  {
   "cell_type": "code",
   "execution_count": null,
   "outputs": [],
   "source": [
    "f.close()"
   ],
   "metadata": {
    "collapsed": false
   }
  }
 ],
 "metadata": {
  "kernelspec": {
   "display_name": "Python 3",
   "language": "python",
   "name": "python3"
  },
  "language_info": {
   "codemirror_mode": {
    "name": "ipython",
    "version": 2
   },
   "file_extension": ".py",
   "mimetype": "text/x-python",
   "name": "python",
   "nbconvert_exporter": "python",
   "pygments_lexer": "ipython2",
   "version": "2.7.6"
  }
 },
 "nbformat": 4,
 "nbformat_minor": 0
}
