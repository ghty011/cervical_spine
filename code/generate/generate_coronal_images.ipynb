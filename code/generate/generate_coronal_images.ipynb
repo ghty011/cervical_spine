{
 "cells": [
  {
   "cell_type": "markdown",
   "source": [
    "segmentation 에 있는 patient 들의 segmentation image 를 만든다."
   ],
   "metadata": {
    "collapsed": false
   }
  },
  {
   "cell_type": "code",
   "execution_count": 1,
   "metadata": {
    "collapsed": true
   },
   "outputs": [],
   "source": [
    "import os\n",
    "import glob\n",
    "import pydicom\n",
    "import nibabel as nib\n",
    "import pandas as pd\n",
    "import numpy as np\n",
    "from pydicom.pixel_data_handlers.util import apply_voi_lut\n",
    "import matplotlib.pyplot as plt\n",
    "import matplotlib.patches as patches\n",
    "import seaborn as sns\n",
    "\n",
    "from tqdm import tqdm\n",
    "\n",
    "%load_ext autoreload\n",
    "%autoreload 2\n",
    "\n",
    "import sys\n",
    "sys.path.append(\"..\")\n",
    "\n",
    "from utils.dcm_utils import *\n",
    "from utils.nii_utils import *\n",
    "\n",
    "from PIL import Image\n",
    "\n",
    "import csv"
   ]
  },
  {
   "cell_type": "code",
   "execution_count": 2,
   "outputs": [],
   "source": [
    "DATA_DIR = \"/Volumes/SSD970/\"\n",
    "TRAIN_CORONAL_DIR = os.path.join(DATA_DIR, \"segmentation_coronal_images\")\n",
    "TRAIN_IMAGE_DIR = os.path.join(DATA_DIR, \"train_images\")\n",
    "TRAIN_SEG_DIR = os.path.join(DATA_DIR, \"segmentations\")"
   ],
   "metadata": {
    "collapsed": false
   }
  },
  {
   "cell_type": "code",
   "execution_count": 3,
   "outputs": [
    {
     "data": {
      "text/plain": "87"
     },
     "execution_count": 3,
     "metadata": {},
     "output_type": "execute_result"
    }
   ],
   "source": [
    "patient_nii_files = glob.glob(TRAIN_SEG_DIR + \"/**\")\n",
    "len(patient_nii_files)"
   ],
   "metadata": {
    "collapsed": false
   }
  },
  {
   "cell_type": "code",
   "execution_count": 4,
   "outputs": [
    {
     "data": {
      "text/plain": "['/Volumes/SSD970/segmentations/1.2.826.0.1.3680043.10633.nii',\n '/Volumes/SSD970/segmentations/1.2.826.0.1.3680043.10921.nii',\n '/Volumes/SSD970/segmentations/1.2.826.0.1.3680043.11827.nii',\n '/Volumes/SSD970/segmentations/1.2.826.0.1.3680043.11988.nii',\n '/Volumes/SSD970/segmentations/1.2.826.0.1.3680043.12281.nii',\n '/Volumes/SSD970/segmentations/1.2.826.0.1.3680043.12292.nii',\n '/Volumes/SSD970/segmentations/1.2.826.0.1.3680043.12833.nii',\n '/Volumes/SSD970/segmentations/1.2.826.0.1.3680043.1363.nii',\n '/Volumes/SSD970/segmentations/1.2.826.0.1.3680043.14267.nii',\n '/Volumes/SSD970/segmentations/1.2.826.0.1.3680043.1480.nii',\n '/Volumes/SSD970/segmentations/1.2.826.0.1.3680043.15206.nii',\n '/Volumes/SSD970/segmentations/1.2.826.0.1.3680043.1542.nii',\n '/Volumes/SSD970/segmentations/1.2.826.0.1.3680043.1573.nii',\n '/Volumes/SSD970/segmentations/1.2.826.0.1.3680043.16092.nii',\n '/Volumes/SSD970/segmentations/1.2.826.0.1.3680043.16919.nii',\n '/Volumes/SSD970/segmentations/1.2.826.0.1.3680043.17481.nii',\n '/Volumes/SSD970/segmentations/1.2.826.0.1.3680043.17960.nii',\n '/Volumes/SSD970/segmentations/1.2.826.0.1.3680043.18480.nii',\n '/Volumes/SSD970/segmentations/1.2.826.0.1.3680043.1868.nii',\n '/Volumes/SSD970/segmentations/1.2.826.0.1.3680043.18906.nii',\n '/Volumes/SSD970/segmentations/1.2.826.0.1.3680043.18935.nii',\n '/Volumes/SSD970/segmentations/1.2.826.0.1.3680043.18968.nii',\n '/Volumes/SSD970/segmentations/1.2.826.0.1.3680043.19021.nii',\n '/Volumes/SSD970/segmentations/1.2.826.0.1.3680043.19333.nii',\n '/Volumes/SSD970/segmentations/1.2.826.0.1.3680043.19388.nii',\n '/Volumes/SSD970/segmentations/1.2.826.0.1.3680043.20120.nii',\n '/Volumes/SSD970/segmentations/1.2.826.0.1.3680043.20647.nii',\n '/Volumes/SSD970/segmentations/1.2.826.0.1.3680043.20928.nii',\n '/Volumes/SSD970/segmentations/1.2.826.0.1.3680043.21321.nii',\n '/Volumes/SSD970/segmentations/1.2.826.0.1.3680043.21651.nii',\n '/Volumes/SSD970/segmentations/1.2.826.0.1.3680043.2243.nii',\n '/Volumes/SSD970/segmentations/1.2.826.0.1.3680043.23904.nii',\n '/Volumes/SSD970/segmentations/1.2.826.0.1.3680043.24140.nii',\n '/Volumes/SSD970/segmentations/1.2.826.0.1.3680043.24606.nii',\n '/Volumes/SSD970/segmentations/1.2.826.0.1.3680043.24617.nii',\n '/Volumes/SSD970/segmentations/1.2.826.0.1.3680043.24891.nii',\n '/Volumes/SSD970/segmentations/1.2.826.0.1.3680043.25704.nii',\n '/Volumes/SSD970/segmentations/1.2.826.0.1.3680043.25833.nii',\n '/Volumes/SSD970/segmentations/1.2.826.0.1.3680043.26068.nii',\n '/Volumes/SSD970/segmentations/1.2.826.0.1.3680043.26110.nii',\n '/Volumes/SSD970/segmentations/1.2.826.0.1.3680043.26442.nii',\n '/Volumes/SSD970/segmentations/1.2.826.0.1.3680043.26492.nii',\n '/Volumes/SSD970/segmentations/1.2.826.0.1.3680043.26498.nii',\n '/Volumes/SSD970/segmentations/1.2.826.0.1.3680043.26740.nii',\n '/Volumes/SSD970/segmentations/1.2.826.0.1.3680043.26898.nii',\n '/Volumes/SSD970/segmentations/1.2.826.0.1.3680043.26979.nii',\n '/Volumes/SSD970/segmentations/1.2.826.0.1.3680043.26990.nii',\n '/Volumes/SSD970/segmentations/1.2.826.0.1.3680043.27016.nii',\n '/Volumes/SSD970/segmentations/1.2.826.0.1.3680043.27292.nii',\n '/Volumes/SSD970/segmentations/1.2.826.0.1.3680043.27752.nii',\n '/Volumes/SSD970/segmentations/1.2.826.0.1.3680043.28025.nii',\n '/Volumes/SSD970/segmentations/1.2.826.0.1.3680043.28327.nii',\n '/Volumes/SSD970/segmentations/1.2.826.0.1.3680043.28665.nii',\n '/Volumes/SSD970/segmentations/1.2.826.0.1.3680043.29425.nii',\n '/Volumes/SSD970/segmentations/1.2.826.0.1.3680043.30067.nii',\n '/Volumes/SSD970/segmentations/1.2.826.0.1.3680043.30487.nii',\n '/Volumes/SSD970/segmentations/1.2.826.0.1.3680043.30524.nii',\n '/Volumes/SSD970/segmentations/1.2.826.0.1.3680043.30565.nii',\n '/Volumes/SSD970/segmentations/1.2.826.0.1.3680043.30640.nii',\n '/Volumes/SSD970/segmentations/1.2.826.0.1.3680043.31077.nii',\n '/Volumes/SSD970/segmentations/1.2.826.0.1.3680043.3168.nii',\n '/Volumes/SSD970/segmentations/1.2.826.0.1.3680043.32071.nii',\n '/Volumes/SSD970/segmentations/1.2.826.0.1.3680043.32280.nii',\n '/Volumes/SSD970/segmentations/1.2.826.0.1.3680043.32370.nii',\n '/Volumes/SSD970/segmentations/1.2.826.0.1.3680043.32434.nii',\n '/Volumes/SSD970/segmentations/1.2.826.0.1.3680043.32436.nii',\n '/Volumes/SSD970/segmentations/1.2.826.0.1.3680043.32590.nii',\n '/Volumes/SSD970/segmentations/1.2.826.0.1.3680043.32658.nii',\n '/Volumes/SSD970/segmentations/1.2.826.0.1.3680043.3376.nii',\n '/Volumes/SSD970/segmentations/1.2.826.0.1.3680043.3882.nii',\n '/Volumes/SSD970/segmentations/1.2.826.0.1.3680043.3992.nii',\n '/Volumes/SSD970/segmentations/1.2.826.0.1.3680043.4202.nii',\n '/Volumes/SSD970/segmentations/1.2.826.0.1.3680043.4769.nii',\n '/Volumes/SSD970/segmentations/1.2.826.0.1.3680043.5002.nii',\n '/Volumes/SSD970/segmentations/1.2.826.0.1.3680043.5671.nii',\n '/Volumes/SSD970/segmentations/1.2.826.0.1.3680043.5782.nii',\n '/Volumes/SSD970/segmentations/1.2.826.0.1.3680043.5783.nii',\n '/Volumes/SSD970/segmentations/1.2.826.0.1.3680043.6078.nii',\n '/Volumes/SSD970/segmentations/1.2.826.0.1.3680043.6125.nii',\n '/Volumes/SSD970/segmentations/1.2.826.0.1.3680043.6376.nii',\n '/Volumes/SSD970/segmentations/1.2.826.0.1.3680043.780.nii',\n '/Volumes/SSD970/segmentations/1.2.826.0.1.3680043.8024.nii',\n '/Volumes/SSD970/segmentations/1.2.826.0.1.3680043.8330.nii',\n '/Volumes/SSD970/segmentations/1.2.826.0.1.3680043.8574.nii',\n '/Volumes/SSD970/segmentations/1.2.826.0.1.3680043.8744.nii',\n '/Volumes/SSD970/segmentations/1.2.826.0.1.3680043.8884.nii',\n '/Volumes/SSD970/segmentations/1.2.826.0.1.3680043.9926.nii']"
     },
     "execution_count": 4,
     "metadata": {},
     "output_type": "execute_result"
    }
   ],
   "source": [
    "patient_nii_files"
   ],
   "metadata": {
    "collapsed": false
   }
  },
  {
   "cell_type": "code",
   "execution_count": 5,
   "outputs": [],
   "source": [
    "header = [\n",
    "    'UID', 'coronal_index',\n",
    "    'z_spacing','pixel_spacing','aspect',\n",
    "    'width','height', 'is_flip'\n",
    "]"
   ],
   "metadata": {
    "collapsed": false
   }
  },
  {
   "cell_type": "code",
   "execution_count": 6,
   "outputs": [
    {
     "data": {
      "text/plain": "71"
     },
     "execution_count": 6,
     "metadata": {},
     "output_type": "execute_result"
    }
   ],
   "source": [
    "f = open('meta_segmentation_coronal.csv','w',newline='')\n",
    "writer = csv.writer(f)\n",
    "writer.writerow(header)"
   ],
   "metadata": {
    "collapsed": false
   }
  },
  {
   "cell_type": "code",
   "execution_count": 7,
   "outputs": [],
   "source": [
    "def save_coronal_image(UID):\n",
    "\n",
    "    patient_coronal_dir = os.path.join(TRAIN_CORONAL_DIR, UID)\n",
    "\n",
    "    if os.path.exists(patient_coronal_dir) == False:\n",
    "        os.mkdir(patient_coronal_dir)\n",
    "\n",
    "    imgs, image_positions, image_orientations, pixel_spacings, slice_thicknesses, is_flip = read_patient_dcm(os.path.join(TRAIN_IMAGE_DIR, UID))\n",
    "\n",
    "    z_spacing = image_positions[0, 2] - image_positions[1, 2]\n",
    "    pixel_spacing = pixel_spacings[0, 0]\n",
    "    aspect = z_spacing / pixel_spacing # ㅇㅕ기를 원래 round 했다. repeat 하길래서 round 시킨걸 계속 갖고 있었네 ㅜㅜ\n",
    "    imgs = normalize_hu(imgs)\n",
    "\n",
    "    img_width = imgs.shape[2]\n",
    "    # 그냥 int 를 취했다 round 하지 않았다.\n",
    "    img_height = int(imgs.shape[0] * aspect)\n",
    "\n",
    "    for coronal_index in range(imgs.shape[1]):\n",
    "        coronal = imgs[:, coronal_index, :]\n",
    "        coronal = Image.fromarray(np.uint8(coronal * 255) , 'L')\n",
    "\n",
    "        coronal = coronal.resize([img_width, img_height])\n",
    "        coronal.save(os.path.join(patient_coronal_dir, f\"{coronal_index}.jpeg\"))\n",
    "\n",
    "        writer.writerow([\n",
    "            UID, coronal_index,\n",
    "            z_spacing, pixel_spacing, aspect,\n",
    "            img_width, img_height, int(is_flip)\n",
    "        ])\n",
    "\n",
    "    return True"
   ],
   "metadata": {
    "collapsed": false
   }
  },
  {
   "cell_type": "code",
   "execution_count": 8,
   "outputs": [
    {
     "name": "stderr",
     "output_type": "stream",
     "text": [
      "  0%|          | 0/87 [00:00<?, ?it/s]"
     ]
    },
    {
     "name": "stdout",
     "output_type": "stream",
     "text": [
      "total slices 429\n"
     ]
    },
    {
     "name": "stderr",
     "output_type": "stream",
     "text": [
      "1.2.826.0.1.3680043.10633:   1%|          | 1/87 [00:11<16:42, 11.66s/it]"
     ]
    },
    {
     "name": "stdout",
     "output_type": "stream",
     "text": [
      "total slices 339\n"
     ]
    },
    {
     "name": "stderr",
     "output_type": "stream",
     "text": [
      "1.2.826.0.1.3680043.10921:   2%|▏         | 2/87 [00:17<11:59,  8.46s/it]"
     ]
    },
    {
     "name": "stdout",
     "output_type": "stream",
     "text": [
      "total slices 208\n"
     ]
    },
    {
     "name": "stderr",
     "output_type": "stream",
     "text": [
      "1.2.826.0.1.3680043.11827:   3%|▎         | 3/87 [00:22<09:08,  6.53s/it]"
     ]
    },
    {
     "name": "stdout",
     "output_type": "stream",
     "text": [
      "total slices 217\n"
     ]
    },
    {
     "name": "stderr",
     "output_type": "stream",
     "text": [
      "1.2.826.0.1.3680043.11988:   5%|▍         | 4/87 [00:27<08:29,  6.14s/it]"
     ]
    },
    {
     "name": "stdout",
     "output_type": "stream",
     "text": [
      "total slices 331\n"
     ]
    },
    {
     "name": "stderr",
     "output_type": "stream",
     "text": [
      "1.2.826.0.1.3680043.12281:   6%|▌         | 5/87 [00:33<08:25,  6.16s/it]"
     ]
    },
    {
     "name": "stdout",
     "output_type": "stream",
     "text": [
      "total slices 341\n"
     ]
    },
    {
     "name": "stderr",
     "output_type": "stream",
     "text": [
      "1.2.826.0.1.3680043.12292:   7%|▋         | 6/87 [00:42<09:25,  6.98s/it]"
     ]
    },
    {
     "name": "stdout",
     "output_type": "stream",
     "text": [
      "total slices 261\n"
     ]
    },
    {
     "name": "stderr",
     "output_type": "stream",
     "text": [
      "1.2.826.0.1.3680043.12833:   8%|▊         | 7/87 [00:48<08:50,  6.63s/it]"
     ]
    },
    {
     "name": "stdout",
     "output_type": "stream",
     "text": [
      "total slices 199\n"
     ]
    },
    {
     "name": "stderr",
     "output_type": "stream",
     "text": [
      "1.2.826.0.1.3680043.1363:   9%|▉         | 8/87 [00:51<07:25,  5.64s/it] "
     ]
    },
    {
     "name": "stdout",
     "output_type": "stream",
     "text": [
      "total slices 473\n"
     ]
    },
    {
     "name": "stderr",
     "output_type": "stream",
     "text": [
      "1.2.826.0.1.3680043.14267:  10%|█         | 9/87 [01:03<09:49,  7.56s/it]"
     ]
    },
    {
     "name": "stdout",
     "output_type": "stream",
     "text": [
      "total slices 451\n"
     ]
    },
    {
     "name": "stderr",
     "output_type": "stream",
     "text": [
      "1.2.826.0.1.3680043.1480:  11%|█▏        | 10/87 [01:14<11:02,  8.61s/it]"
     ]
    },
    {
     "name": "stdout",
     "output_type": "stream",
     "text": [
      "total slices 334\n"
     ]
    },
    {
     "name": "stderr",
     "output_type": "stream",
     "text": [
      "1.2.826.0.1.3680043.15206:  13%|█▎        | 11/87 [01:20<09:59,  7.89s/it]"
     ]
    },
    {
     "name": "stdout",
     "output_type": "stream",
     "text": [
      "total slices 428\n"
     ]
    },
    {
     "name": "stderr",
     "output_type": "stream",
     "text": [
      "1.2.826.0.1.3680043.1542:  14%|█▍        | 12/87 [01:31<10:56,  8.75s/it] "
     ]
    },
    {
     "name": "stdout",
     "output_type": "stream",
     "text": [
      "total slices 286\n"
     ]
    },
    {
     "name": "stderr",
     "output_type": "stream",
     "text": [
      "1.2.826.0.1.3680043.1573:  15%|█▍        | 13/87 [01:40<10:50,  8.79s/it]"
     ]
    },
    {
     "name": "stdout",
     "output_type": "stream",
     "text": [
      "total slices 329\n"
     ]
    },
    {
     "name": "stderr",
     "output_type": "stream",
     "text": [
      "1.2.826.0.1.3680043.16092:  16%|█▌        | 14/87 [01:45<09:28,  7.79s/it]"
     ]
    },
    {
     "name": "stdout",
     "output_type": "stream",
     "text": [
      "total slices 409\n"
     ]
    },
    {
     "name": "stderr",
     "output_type": "stream",
     "text": [
      "1.2.826.0.1.3680043.16919:  17%|█▋        | 15/87 [01:57<10:35,  8.83s/it]"
     ]
    },
    {
     "name": "stdout",
     "output_type": "stream",
     "text": [
      "total slices 407\n"
     ]
    },
    {
     "name": "stderr",
     "output_type": "stream",
     "text": [
      "1.2.826.0.1.3680043.17481:  18%|█▊        | 16/87 [02:07<11:04,  9.37s/it]"
     ]
    },
    {
     "name": "stdout",
     "output_type": "stream",
     "text": [
      "total slices 271\n"
     ]
    },
    {
     "name": "stderr",
     "output_type": "stream",
     "text": [
      "1.2.826.0.1.3680043.17960:  20%|█▉        | 17/87 [02:12<09:16,  7.95s/it]"
     ]
    },
    {
     "name": "stdout",
     "output_type": "stream",
     "text": [
      "total slices 462\n"
     ]
    },
    {
     "name": "stderr",
     "output_type": "stream",
     "text": [
      "1.2.826.0.1.3680043.18480:  21%|██        | 18/87 [02:23<10:18,  8.97s/it]"
     ]
    },
    {
     "name": "stdout",
     "output_type": "stream",
     "text": [
      "total slices 653\n"
     ]
    },
    {
     "name": "stderr",
     "output_type": "stream",
     "text": [
      "1.2.826.0.1.3680043.1868:  22%|██▏       | 19/87 [02:32<10:14,  9.04s/it] "
     ]
    },
    {
     "name": "stdout",
     "output_type": "stream",
     "text": [
      "total slices 351\n"
     ]
    },
    {
     "name": "stderr",
     "output_type": "stream",
     "text": [
      "1.2.826.0.1.3680043.18906:  23%|██▎       | 20/87 [02:39<09:17,  8.32s/it]"
     ]
    },
    {
     "name": "stdout",
     "output_type": "stream",
     "text": [
      "total slices 325\n"
     ]
    },
    {
     "name": "stderr",
     "output_type": "stream",
     "text": [
      "1.2.826.0.1.3680043.18935:  24%|██▍       | 21/87 [02:45<08:19,  7.57s/it]"
     ]
    },
    {
     "name": "stdout",
     "output_type": "stream",
     "text": [
      "total slices 411\n"
     ]
    },
    {
     "name": "stderr",
     "output_type": "stream",
     "text": [
      "1.2.826.0.1.3680043.18968:  25%|██▌       | 22/87 [02:52<07:58,  7.36s/it]"
     ]
    },
    {
     "name": "stdout",
     "output_type": "stream",
     "text": [
      "total slices 395\n"
     ]
    },
    {
     "name": "stderr",
     "output_type": "stream",
     "text": [
      "1.2.826.0.1.3680043.19021:  26%|██▋       | 23/87 [03:01<08:26,  7.91s/it]"
     ]
    },
    {
     "name": "stdout",
     "output_type": "stream",
     "text": [
      "total slices 205\n"
     ]
    },
    {
     "name": "stderr",
     "output_type": "stream",
     "text": [
      "1.2.826.0.1.3680043.19333:  28%|██▊       | 24/87 [03:05<07:06,  6.77s/it]"
     ]
    },
    {
     "name": "stdout",
     "output_type": "stream",
     "text": [
      "total slices 492\n"
     ]
    },
    {
     "name": "stderr",
     "output_type": "stream",
     "text": [
      "1.2.826.0.1.3680043.19388:  29%|██▊       | 25/87 [03:17<08:33,  8.28s/it]"
     ]
    },
    {
     "name": "stdout",
     "output_type": "stream",
     "text": [
      "total slices 335\n"
     ]
    },
    {
     "name": "stderr",
     "output_type": "stream",
     "text": [
      "1.2.826.0.1.3680043.20120:  30%|██▉       | 26/87 [03:22<07:22,  7.25s/it]"
     ]
    },
    {
     "name": "stdout",
     "output_type": "stream",
     "text": [
      "total slices 263\n"
     ]
    },
    {
     "name": "stderr",
     "output_type": "stream",
     "text": [
      "1.2.826.0.1.3680043.20647:  31%|███       | 27/87 [03:27<06:40,  6.67s/it]"
     ]
    },
    {
     "name": "stdout",
     "output_type": "stream",
     "text": [
      "total slices 248\n"
     ]
    },
    {
     "name": "stderr",
     "output_type": "stream",
     "text": [
      "1.2.826.0.1.3680043.20928:  32%|███▏      | 28/87 [03:35<06:52,  6.99s/it]"
     ]
    },
    {
     "name": "stdout",
     "output_type": "stream",
     "text": [
      "total slices 673\n"
     ]
    },
    {
     "name": "stderr",
     "output_type": "stream",
     "text": [
      "1.2.826.0.1.3680043.21321:  33%|███▎      | 29/87 [03:43<07:10,  7.42s/it]"
     ]
    },
    {
     "name": "stdout",
     "output_type": "stream",
     "text": [
      "total slices 510\n"
     ]
    },
    {
     "name": "stderr",
     "output_type": "stream",
     "text": [
      "1.2.826.0.1.3680043.21651:  34%|███▍      | 30/87 [03:50<06:55,  7.29s/it]"
     ]
    },
    {
     "name": "stdout",
     "output_type": "stream",
     "text": [
      "total slices 445\n"
     ]
    },
    {
     "name": "stderr",
     "output_type": "stream",
     "text": [
      "1.2.826.0.1.3680043.2243:  36%|███▌      | 31/87 [04:01<07:47,  8.35s/it] "
     ]
    },
    {
     "name": "stdout",
     "output_type": "stream",
     "text": [
      "total slices 420\n"
     ]
    },
    {
     "name": "stderr",
     "output_type": "stream",
     "text": [
      "1.2.826.0.1.3680043.23904:  37%|███▋      | 32/87 [04:12<08:21,  9.11s/it]"
     ]
    },
    {
     "name": "stdout",
     "output_type": "stream",
     "text": [
      "total slices 239\n"
     ]
    },
    {
     "name": "stderr",
     "output_type": "stream",
     "text": [
      "1.2.826.0.1.3680043.24140:  38%|███▊      | 33/87 [04:19<07:45,  8.61s/it]"
     ]
    },
    {
     "name": "stdout",
     "output_type": "stream",
     "text": [
      "total slices 225\n"
     ]
    },
    {
     "name": "stderr",
     "output_type": "stream",
     "text": [
      "1.2.826.0.1.3680043.24606:  39%|███▉      | 34/87 [04:23<06:22,  7.22s/it]"
     ]
    },
    {
     "name": "stdout",
     "output_type": "stream",
     "text": [
      "total slices 586\n"
     ]
    },
    {
     "name": "stderr",
     "output_type": "stream",
     "text": [
      "1.2.826.0.1.3680043.24617:  40%|████      | 35/87 [04:31<06:26,  7.43s/it]"
     ]
    },
    {
     "name": "stdout",
     "output_type": "stream",
     "text": [
      "total slices 180\n"
     ]
    },
    {
     "name": "stderr",
     "output_type": "stream",
     "text": [
      "1.2.826.0.1.3680043.24891:  41%|████▏     | 36/87 [04:35<05:28,  6.44s/it]"
     ]
    },
    {
     "name": "stdout",
     "output_type": "stream",
     "text": [
      "total slices 257\n"
     ]
    },
    {
     "name": "stderr",
     "output_type": "stream",
     "text": [
      "1.2.826.0.1.3680043.25704:  43%|████▎     | 37/87 [04:39<04:39,  5.59s/it]"
     ]
    },
    {
     "name": "stdout",
     "output_type": "stream",
     "text": [
      "total slices 337\n"
     ]
    },
    {
     "name": "stderr",
     "output_type": "stream",
     "text": [
      "1.2.826.0.1.3680043.25833:  44%|████▎     | 38/87 [04:44<04:28,  5.47s/it]"
     ]
    },
    {
     "name": "stdout",
     "output_type": "stream",
     "text": [
      "total slices 623\n"
     ]
    },
    {
     "name": "stderr",
     "output_type": "stream",
     "text": [
      "1.2.826.0.1.3680043.26068:  45%|████▍     | 39/87 [04:52<05:02,  6.31s/it]"
     ]
    },
    {
     "name": "stdout",
     "output_type": "stream",
     "text": [
      "total slices 430\n"
     ]
    },
    {
     "name": "stderr",
     "output_type": "stream",
     "text": [
      "1.2.826.0.1.3680043.26110:  46%|████▌     | 40/87 [04:58<04:48,  6.14s/it]"
     ]
    },
    {
     "name": "stdout",
     "output_type": "stream",
     "text": [
      "total slices 369\n"
     ]
    },
    {
     "name": "stderr",
     "output_type": "stream",
     "text": [
      "1.2.826.0.1.3680043.26442:  47%|████▋     | 41/87 [05:05<04:45,  6.20s/it]"
     ]
    },
    {
     "name": "stdout",
     "output_type": "stream",
     "text": [
      "total slices 286\n"
     ]
    },
    {
     "name": "stderr",
     "output_type": "stream",
     "text": [
      "1.2.826.0.1.3680043.26492:  48%|████▊     | 42/87 [05:10<04:24,  5.88s/it]"
     ]
    },
    {
     "name": "stdout",
     "output_type": "stream",
     "text": [
      "total slices 363\n"
     ]
    },
    {
     "name": "stderr",
     "output_type": "stream",
     "text": [
      "1.2.826.0.1.3680043.26498:  49%|████▉     | 43/87 [05:15<04:16,  5.82s/it]"
     ]
    },
    {
     "name": "stdout",
     "output_type": "stream",
     "text": [
      "total slices 286\n"
     ]
    },
    {
     "name": "stderr",
     "output_type": "stream",
     "text": [
      "1.2.826.0.1.3680043.26740:  51%|█████     | 44/87 [05:21<04:09,  5.79s/it]"
     ]
    },
    {
     "name": "stdout",
     "output_type": "stream",
     "text": [
      "total slices 593\n"
     ]
    },
    {
     "name": "stderr",
     "output_type": "stream",
     "text": [
      "1.2.826.0.1.3680043.26898:  52%|█████▏    | 45/87 [05:35<05:43,  8.17s/it]"
     ]
    },
    {
     "name": "stdout",
     "output_type": "stream",
     "text": [
      "total slices 298\n"
     ]
    },
    {
     "name": "stderr",
     "output_type": "stream",
     "text": [
      "1.2.826.0.1.3680043.26979:  53%|█████▎    | 46/87 [05:40<04:59,  7.30s/it]"
     ]
    },
    {
     "name": "stdout",
     "output_type": "stream",
     "text": [
      "total slices 242\n"
     ]
    },
    {
     "name": "stderr",
     "output_type": "stream",
     "text": [
      "1.2.826.0.1.3680043.26990:  54%|█████▍    | 47/87 [05:44<04:15,  6.38s/it]"
     ]
    },
    {
     "name": "stdout",
     "output_type": "stream",
     "text": [
      "total slices 285\n"
     ]
    },
    {
     "name": "stderr",
     "output_type": "stream",
     "text": [
      "1.2.826.0.1.3680043.27016:  55%|█████▌    | 48/87 [05:49<03:53,  5.98s/it]"
     ]
    },
    {
     "name": "stdout",
     "output_type": "stream",
     "text": [
      "total slices 280\n"
     ]
    },
    {
     "name": "stderr",
     "output_type": "stream",
     "text": [
      "1.2.826.0.1.3680043.27292:  56%|█████▋    | 49/87 [05:55<03:40,  5.81s/it]"
     ]
    },
    {
     "name": "stdout",
     "output_type": "stream",
     "text": [
      "total slices 541\n"
     ]
    },
    {
     "name": "stderr",
     "output_type": "stream",
     "text": [
      "1.2.826.0.1.3680043.27752:  57%|█████▋    | 50/87 [06:02<03:55,  6.37s/it]"
     ]
    },
    {
     "name": "stdout",
     "output_type": "stream",
     "text": [
      "total slices 481\n"
     ]
    },
    {
     "name": "stderr",
     "output_type": "stream",
     "text": [
      "1.2.826.0.1.3680043.28025:  59%|█████▊    | 51/87 [06:15<04:52,  8.13s/it]"
     ]
    },
    {
     "name": "stdout",
     "output_type": "stream",
     "text": [
      "total slices 287\n"
     ]
    },
    {
     "name": "stderr",
     "output_type": "stream",
     "text": [
      "1.2.826.0.1.3680043.28327:  60%|█████▉    | 52/87 [06:20<04:16,  7.34s/it]"
     ]
    },
    {
     "name": "stdout",
     "output_type": "stream",
     "text": [
      "total slices 218\n"
     ]
    },
    {
     "name": "stderr",
     "output_type": "stream",
     "text": [
      "1.2.826.0.1.3680043.28665:  61%|██████    | 53/87 [06:25<03:42,  6.56s/it]"
     ]
    },
    {
     "name": "stdout",
     "output_type": "stream",
     "text": [
      "total slices 296\n"
     ]
    },
    {
     "name": "stderr",
     "output_type": "stream",
     "text": [
      "1.2.826.0.1.3680043.29425:  62%|██████▏   | 54/87 [06:30<03:16,  5.96s/it]"
     ]
    },
    {
     "name": "stdout",
     "output_type": "stream",
     "text": [
      "total slices 229\n"
     ]
    },
    {
     "name": "stderr",
     "output_type": "stream",
     "text": [
      "1.2.826.0.1.3680043.30067:  63%|██████▎   | 55/87 [06:34<03:00,  5.65s/it]"
     ]
    },
    {
     "name": "stdout",
     "output_type": "stream",
     "text": [
      "total slices 348\n"
     ]
    },
    {
     "name": "stderr",
     "output_type": "stream",
     "text": [
      "1.2.826.0.1.3680043.30487:  64%|██████▍   | 56/87 [06:41<03:00,  5.82s/it]"
     ]
    },
    {
     "name": "stdout",
     "output_type": "stream",
     "text": [
      "total slices 240\n"
     ]
    },
    {
     "name": "stderr",
     "output_type": "stream",
     "text": [
      "1.2.826.0.1.3680043.30524:  66%|██████▌   | 57/87 [06:46<02:49,  5.65s/it]"
     ]
    },
    {
     "name": "stdout",
     "output_type": "stream",
     "text": [
      "total slices 227\n"
     ]
    },
    {
     "name": "stderr",
     "output_type": "stream",
     "text": [
      "1.2.826.0.1.3680043.30565:  67%|██████▋   | 58/87 [06:52<02:45,  5.70s/it]"
     ]
    },
    {
     "name": "stdout",
     "output_type": "stream",
     "text": [
      "total slices 238\n"
     ]
    },
    {
     "name": "stderr",
     "output_type": "stream",
     "text": [
      "1.2.826.0.1.3680043.30640:  68%|██████▊   | 59/87 [06:56<02:27,  5.26s/it]"
     ]
    },
    {
     "name": "stdout",
     "output_type": "stream",
     "text": [
      "total slices 672\n"
     ]
    },
    {
     "name": "stderr",
     "output_type": "stream",
     "text": [
      "1.2.826.0.1.3680043.31077:  69%|██████▉   | 60/87 [07:11<03:44,  8.30s/it]"
     ]
    },
    {
     "name": "stdout",
     "output_type": "stream",
     "text": [
      "total slices 152\n"
     ]
    },
    {
     "name": "stderr",
     "output_type": "stream",
     "text": [
      "1.2.826.0.1.3680043.3168:  70%|███████   | 61/87 [07:15<03:00,  6.92s/it] "
     ]
    },
    {
     "name": "stdout",
     "output_type": "stream",
     "text": [
      "total slices 263\n"
     ]
    },
    {
     "name": "stderr",
     "output_type": "stream",
     "text": [
      "1.2.826.0.1.3680043.32071:  71%|███████▏  | 62/87 [07:20<02:39,  6.39s/it]"
     ]
    },
    {
     "name": "stdout",
     "output_type": "stream",
     "text": [
      "total slices 279\n"
     ]
    },
    {
     "name": "stderr",
     "output_type": "stream",
     "text": [
      "1.2.826.0.1.3680043.32280:  72%|███████▏  | 63/87 [07:25<02:25,  6.04s/it]"
     ]
    },
    {
     "name": "stdout",
     "output_type": "stream",
     "text": [
      "total slices 262\n"
     ]
    },
    {
     "name": "stderr",
     "output_type": "stream",
     "text": [
      "1.2.826.0.1.3680043.32370:  74%|███████▎  | 64/87 [07:33<02:31,  6.60s/it]"
     ]
    },
    {
     "name": "stdout",
     "output_type": "stream",
     "text": [
      "total slices 348\n"
     ]
    },
    {
     "name": "stderr",
     "output_type": "stream",
     "text": [
      "1.2.826.0.1.3680043.32434:  75%|███████▍  | 65/87 [07:43<02:42,  7.38s/it]"
     ]
    },
    {
     "name": "stdout",
     "output_type": "stream",
     "text": [
      "total slices 271\n"
     ]
    },
    {
     "name": "stderr",
     "output_type": "stream",
     "text": [
      "1.2.826.0.1.3680043.32436:  76%|███████▌  | 66/87 [07:47<02:19,  6.64s/it]"
     ]
    },
    {
     "name": "stdout",
     "output_type": "stream",
     "text": [
      "total slices 269\n"
     ]
    },
    {
     "name": "stderr",
     "output_type": "stream",
     "text": [
      "1.2.826.0.1.3680043.32590:  77%|███████▋  | 67/87 [07:52<02:01,  6.07s/it]"
     ]
    },
    {
     "name": "stdout",
     "output_type": "stream",
     "text": [
      "total slices 334\n"
     ]
    },
    {
     "name": "stderr",
     "output_type": "stream",
     "text": [
      "1.2.826.0.1.3680043.32658:  78%|███████▊  | 68/87 [08:01<02:11,  6.91s/it]"
     ]
    },
    {
     "name": "stdout",
     "output_type": "stream",
     "text": [
      "total slices 653\n"
     ]
    },
    {
     "name": "stderr",
     "output_type": "stream",
     "text": [
      "1.2.826.0.1.3680043.3376:  79%|███████▉  | 69/87 [08:09<02:10,  7.23s/it] "
     ]
    },
    {
     "name": "stdout",
     "output_type": "stream",
     "text": [
      "total slices 241\n"
     ]
    },
    {
     "name": "stderr",
     "output_type": "stream",
     "text": [
      "1.2.826.0.1.3680043.3882:  80%|████████  | 70/87 [08:13<01:47,  6.30s/it]"
     ]
    },
    {
     "name": "stdout",
     "output_type": "stream",
     "text": [
      "total slices 252\n"
     ]
    },
    {
     "name": "stderr",
     "output_type": "stream",
     "text": [
      "1.2.826.0.1.3680043.3992:  82%|████████▏ | 71/87 [08:18<01:33,  5.84s/it]"
     ]
    },
    {
     "name": "stdout",
     "output_type": "stream",
     "text": [
      "total slices 273\n"
     ]
    },
    {
     "name": "stderr",
     "output_type": "stream",
     "text": [
      "1.2.826.0.1.3680043.4202:  83%|████████▎ | 72/87 [08:27<01:40,  6.68s/it]"
     ]
    },
    {
     "name": "stdout",
     "output_type": "stream",
     "text": [
      "total slices 263\n"
     ]
    },
    {
     "name": "stderr",
     "output_type": "stream",
     "text": [
      "1.2.826.0.1.3680043.4769:  84%|████████▍ | 73/87 [08:35<01:39,  7.10s/it]"
     ]
    },
    {
     "name": "stdout",
     "output_type": "stream",
     "text": [
      "total slices 399\n"
     ]
    },
    {
     "name": "stderr",
     "output_type": "stream",
     "text": [
      "1.2.826.0.1.3680043.5002:  85%|████████▌ | 74/87 [08:45<01:45,  8.08s/it]"
     ]
    },
    {
     "name": "stdout",
     "output_type": "stream",
     "text": [
      "total slices 433\n"
     ]
    },
    {
     "name": "stderr",
     "output_type": "stream",
     "text": [
      "1.2.826.0.1.3680043.5671:  86%|████████▌ | 75/87 [08:57<01:49,  9.14s/it]"
     ]
    },
    {
     "name": "stdout",
     "output_type": "stream",
     "text": [
      "total slices 569\n"
     ]
    },
    {
     "name": "stderr",
     "output_type": "stream",
     "text": [
      "1.2.826.0.1.3680043.5782:  87%|████████▋ | 76/87 [09:10<01:55, 10.52s/it]"
     ]
    },
    {
     "name": "stdout",
     "output_type": "stream",
     "text": [
      "total slices 601\n"
     ]
    },
    {
     "name": "stderr",
     "output_type": "stream",
     "text": [
      "1.2.826.0.1.3680043.5783:  89%|████████▊ | 77/87 [09:18<01:35,  9.52s/it]"
     ]
    },
    {
     "name": "stdout",
     "output_type": "stream",
     "text": [
      "total slices 252\n"
     ]
    },
    {
     "name": "stderr",
     "output_type": "stream",
     "text": [
      "1.2.826.0.1.3680043.6078:  90%|████████▉ | 78/87 [09:22<01:13,  8.13s/it]"
     ]
    },
    {
     "name": "stdout",
     "output_type": "stream",
     "text": [
      "total slices 177\n"
     ]
    },
    {
     "name": "stderr",
     "output_type": "stream",
     "text": [
      "1.2.826.0.1.3680043.6125:  91%|█████████ | 79/87 [09:27<00:55,  7.00s/it]"
     ]
    },
    {
     "name": "stdout",
     "output_type": "stream",
     "text": [
      "total slices 281\n"
     ]
    },
    {
     "name": "stderr",
     "output_type": "stream",
     "text": [
      "1.2.826.0.1.3680043.6376:  92%|█████████▏| 80/87 [09:32<00:44,  6.38s/it]"
     ]
    },
    {
     "name": "stdout",
     "output_type": "stream",
     "text": [
      "total slices 195\n"
     ]
    },
    {
     "name": "stderr",
     "output_type": "stream",
     "text": [
      "1.2.826.0.1.3680043.780:  93%|█████████▎| 81/87 [09:37<00:35,  5.89s/it] "
     ]
    },
    {
     "name": "stdout",
     "output_type": "stream",
     "text": [
      "total slices 273\n"
     ]
    },
    {
     "name": "stderr",
     "output_type": "stream",
     "text": [
      "1.2.826.0.1.3680043.8024:  94%|█████████▍| 82/87 [09:41<00:26,  5.37s/it]"
     ]
    },
    {
     "name": "stdout",
     "output_type": "stream",
     "text": [
      "total slices 357\n"
     ]
    },
    {
     "name": "stderr",
     "output_type": "stream",
     "text": [
      "1.2.826.0.1.3680043.8330:  95%|█████████▌| 83/87 [09:47<00:23,  5.78s/it]"
     ]
    },
    {
     "name": "stdout",
     "output_type": "stream",
     "text": [
      "total slices 241\n"
     ]
    },
    {
     "name": "stderr",
     "output_type": "stream",
     "text": [
      "1.2.826.0.1.3680043.8574:  97%|█████████▋| 84/87 [09:52<00:16,  5.46s/it]"
     ]
    },
    {
     "name": "stdout",
     "output_type": "stream",
     "text": [
      "total slices 164\n"
     ]
    },
    {
     "name": "stderr",
     "output_type": "stream",
     "text": [
      "1.2.826.0.1.3680043.8744:  98%|█████████▊| 85/87 [09:57<00:10,  5.19s/it]"
     ]
    },
    {
     "name": "stdout",
     "output_type": "stream",
     "text": [
      "total slices 303\n"
     ]
    },
    {
     "name": "stderr",
     "output_type": "stream",
     "text": [
      "1.2.826.0.1.3680043.8884:  99%|█████████▉| 86/87 [10:02<00:05,  5.35s/it]"
     ]
    },
    {
     "name": "stdout",
     "output_type": "stream",
     "text": [
      "total slices 170\n"
     ]
    },
    {
     "name": "stderr",
     "output_type": "stream",
     "text": [
      "1.2.826.0.1.3680043.9926: 100%|██████████| 87/87 [10:06<00:00,  6.98s/it]\n"
     ]
    }
   ],
   "source": [
    "# patient_train_dir = patient_dirs[0]\n",
    "patient_nii_files_iter = tqdm(patient_nii_files)\n",
    "for nii_path in patient_nii_files_iter:\n",
    "    UID = get_uid_from_niipath(nii_path)\n",
    "    save_coronal_image(UID)\n",
    "\n",
    "    patient_nii_files_iter.set_description(UID)"
   ],
   "metadata": {
    "collapsed": false
   }
  },
  {
   "cell_type": "code",
   "execution_count": 9,
   "outputs": [
    {
     "data": {
      "text/plain": "<function TextIOWrapper.close()>"
     },
     "execution_count": 9,
     "metadata": {},
     "output_type": "execute_result"
    }
   ],
   "source": [
    "f.close"
   ],
   "metadata": {
    "collapsed": false
   }
  },
  {
   "cell_type": "markdown",
   "source": [],
   "metadata": {
    "collapsed": false
   }
  }
 ],
 "metadata": {
  "kernelspec": {
   "display_name": "Python 3",
   "language": "python",
   "name": "python3"
  },
  "language_info": {
   "codemirror_mode": {
    "name": "ipython",
    "version": 2
   },
   "file_extension": ".py",
   "mimetype": "text/x-python",
   "name": "python",
   "nbconvert_exporter": "python",
   "pygments_lexer": "ipython2",
   "version": "2.7.6"
  }
 },
 "nbformat": 4,
 "nbformat_minor": 0
}
