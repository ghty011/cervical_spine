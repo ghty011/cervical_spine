{
 "cells": [
  {
   "cell_type": "code",
   "execution_count": 1,
   "metadata": {
    "collapsed": true,
    "pycharm": {
     "name": "#%%\n"
    }
   },
   "outputs": [],
   "source": [
    "import os\n",
    "import glob\n",
    "import pydicom\n",
    "import nibabel as nib\n",
    "import pandas as pd\n",
    "import numpy as np\n",
    "from pydicom.pixel_data_handlers.util import apply_voi_lut\n",
    "import matplotlib.pyplot as plt\n",
    "import matplotlib.patches as patches\n",
    "import seaborn as sns\n",
    "\n",
    "import torch\n",
    "import torch.nn as nn\n",
    "\n",
    "%load_ext autoreload\n",
    "%autoreload 2\n",
    "\n",
    "import sys\n",
    "sys.path.append(\"..\")\n",
    "\n",
    "from utils.dcm_utils import *"
   ]
  },
  {
   "cell_type": "code",
   "execution_count": 2,
   "outputs": [],
   "source": [
    "DATA_DIR = \"/Volumes/SSD970/\"\n",
    "TRAIN_IMAGE_DIR = os.path.join(DATA_DIR, \"train_images\")\n",
    "train_df = pd.read_csv(os.path.join(DATA_DIR, \"train_df_with_slices.csv\"))"
   ],
   "metadata": {
    "collapsed": false,
    "pycharm": {
     "name": "#%%\n"
    }
   }
  },
  {
   "cell_type": "code",
   "execution_count": 3,
   "outputs": [],
   "source": [
    "patient_id = \"1.2.826.0.1.3680043.780\""
   ],
   "metadata": {
    "collapsed": false,
    "pycharm": {
     "name": "#%%\n"
    }
   }
  },
  {
   "cell_type": "code",
   "execution_count": 4,
   "outputs": [
    {
     "data": {
      "text/plain": "(195, 512, 512)"
     },
     "execution_count": 4,
     "metadata": {},
     "output_type": "execute_result"
    }
   ],
   "source": [
    "imgs, image_positions, image_orientations, pixel_spacings, slice_thicknesses = read_patient_dcm(train_df, TRAIN_IMAGE_DIR,patient_id)\n",
    "imgs.shape"
   ],
   "metadata": {
    "collapsed": false,
    "pycharm": {
     "name": "#%%\n"
    }
   }
  },
  {
   "cell_type": "code",
   "execution_count": 5,
   "outputs": [
    {
     "data": {
      "text/plain": "3.0"
     },
     "execution_count": 5,
     "metadata": {},
     "output_type": "execute_result"
    }
   ],
   "source": [
    "height = image_positions[0, 2] - image_positions[1, 2]\n",
    "pixel_spacing = pixel_spacings[0, 0]\n",
    "aspect = np.round(height / pixel_spacing)\n",
    "aspect"
   ],
   "metadata": {
    "collapsed": false,
    "pycharm": {
     "name": "#%%\n"
    }
   }
  },
  {
   "cell_type": "code",
   "execution_count": 6,
   "outputs": [
    {
     "data": {
      "text/plain": "(585, 512, 512)"
     },
     "execution_count": 6,
     "metadata": {},
     "output_type": "execute_result"
    }
   ],
   "source": [
    "img3d = np.repeat(imgs, aspect, axis=0)\n",
    "img3d.shape"
   ],
   "metadata": {
    "collapsed": false,
    "pycharm": {
     "name": "#%%\n"
    }
   }
  },
  {
   "cell_type": "code",
   "execution_count": 7,
   "outputs": [
    {
     "data": {
      "text/plain": "array([-3.100e+01, -3.100e+01, -3.100e+01, -5.000e+01, -5.000e+01,\n       -5.000e+01,  9.000e+00,  9.000e+00,  9.000e+00, -2.100e+01,\n       -2.100e+01, -2.100e+01, -2.300e+01, -2.300e+01, -2.300e+01,\n       -9.500e+01, -9.500e+01, -9.500e+01, -1.100e+01, -1.100e+01,\n       -1.100e+01,  4.000e+01,  4.000e+01,  4.000e+01, -2.800e+01,\n       -2.800e+01, -2.800e+01,  2.200e+01,  2.200e+01,  2.200e+01,\n        1.100e+01,  1.100e+01,  1.100e+01,  5.000e+00,  5.000e+00,\n        5.000e+00,  3.600e+01,  3.600e+01,  3.600e+01,  6.400e+01,\n        6.400e+01,  6.400e+01,  3.100e+01,  3.100e+01,  3.100e+01,\n        4.000e+01,  4.000e+01,  4.000e+01,  5.100e+01,  5.100e+01,\n        5.100e+01,  4.400e+01,  4.400e+01,  4.400e+01,  2.800e+01,\n        2.800e+01,  2.800e+01, -1.500e+01, -1.500e+01, -1.500e+01,\n       -1.600e+01, -1.600e+01, -1.600e+01,  5.000e+00,  5.000e+00,\n        5.000e+00, -1.000e+01, -1.000e+01, -1.000e+01, -9.200e+01,\n       -9.200e+01, -9.200e+01, -1.090e+02, -1.090e+02, -1.090e+02,\n       -2.400e+01, -2.400e+01, -2.400e+01,  8.100e+01,  8.100e+01,\n        8.100e+01,  1.020e+02,  1.020e+02,  1.020e+02, -3.300e+01,\n       -3.300e+01, -3.300e+01, -1.240e+02, -1.240e+02, -1.240e+02,\n        2.300e+01,  2.300e+01,  2.300e+01, -1.000e+01, -1.000e+01,\n       -1.000e+01, -4.600e+01, -4.600e+01, -4.600e+01,  1.800e+01,\n        1.800e+01,  1.800e+01,  2.100e+01,  2.100e+01,  2.100e+01,\n        1.150e+02,  1.150e+02,  1.150e+02,  8.200e+01,  8.200e+01,\n        8.200e+01,  6.000e+01,  6.000e+01,  6.000e+01,  8.000e+01,\n        8.000e+01,  8.000e+01, -1.100e+02, -1.100e+02, -1.100e+02,\n        4.400e+01,  4.400e+01,  4.400e+01,  9.300e+01,  9.300e+01,\n        9.300e+01,  5.400e+01,  5.400e+01,  5.400e+01, -1.900e+01,\n       -1.900e+01, -1.900e+01,  3.700e+01,  3.700e+01,  3.700e+01,\n       -3.000e+00, -3.000e+00, -3.000e+00,  5.900e+01,  5.900e+01,\n        5.900e+01,  1.150e+02,  1.150e+02,  1.150e+02,  1.040e+02,\n        1.040e+02,  1.040e+02,  1.040e+02,  1.040e+02,  1.040e+02,\n        1.600e+02,  1.600e+02,  1.600e+02,  1.680e+02,  1.680e+02,\n        1.680e+02,  1.300e+01,  1.300e+01,  1.300e+01, -3.700e+01,\n       -3.700e+01, -3.700e+01,  4.000e+00,  4.000e+00,  4.000e+00,\n        8.200e+01,  8.200e+01,  8.200e+01,  7.300e+01,  7.300e+01,\n        7.300e+01, -1.800e+01, -1.800e+01, -1.800e+01,  3.800e+01,\n        3.800e+01,  3.800e+01,  6.600e+01,  6.600e+01,  6.600e+01,\n        6.000e+00,  6.000e+00,  6.000e+00, -2.300e+01, -2.300e+01,\n       -2.300e+01,  5.300e+01,  5.300e+01,  5.300e+01,  4.600e+01,\n        4.600e+01,  4.600e+01,  9.300e+01,  9.300e+01,  9.300e+01,\n        7.500e+01,  7.500e+01,  7.500e+01,  1.400e+01,  1.400e+01,\n        1.400e+01,  1.090e+02,  1.090e+02,  1.090e+02,  9.700e+01,\n        9.700e+01,  9.700e+01,  7.500e+01,  7.500e+01,  7.500e+01,\n        7.500e+01,  7.500e+01,  7.500e+01,  1.190e+02,  1.190e+02,\n        1.190e+02,  8.300e+01,  8.300e+01,  8.300e+01,  4.100e+01,\n        4.100e+01,  4.100e+01,  1.500e+01,  1.500e+01,  1.500e+01,\n        2.500e+01,  2.500e+01,  2.500e+01,  2.000e+00,  2.000e+00,\n        2.000e+00,  4.100e+01,  4.100e+01,  4.100e+01,  2.700e+01,\n        2.700e+01,  2.700e+01,  4.000e+00,  4.000e+00,  4.000e+00,\n        4.700e+01,  4.700e+01,  4.700e+01,  2.700e+01,  2.700e+01,\n        2.700e+01,  2.800e+01,  2.800e+01,  2.800e+01,  1.300e+01,\n        1.300e+01,  1.300e+01,  5.300e+01,  5.300e+01,  5.300e+01,\n       -1.000e+00, -1.000e+00, -1.000e+00,  4.000e+00,  4.000e+00,\n        4.000e+00,  1.500e+01,  1.500e+01,  1.500e+01,  1.800e+01,\n        1.800e+01,  1.800e+01,  7.900e+01,  7.900e+01,  7.900e+01,\n        1.200e+01,  1.200e+01,  1.200e+01, -3.800e+01, -3.800e+01,\n       -3.800e+01,  1.500e+01,  1.500e+01,  1.500e+01,  8.000e+01,\n        8.000e+01,  8.000e+01,  4.100e+01,  4.100e+01,  4.100e+01,\n       -3.100e+01, -3.100e+01, -3.100e+01, -3.000e+01, -3.000e+01,\n       -3.000e+01,  1.600e+01,  1.600e+01,  1.600e+01,  6.900e+01,\n        6.900e+01,  6.900e+01,  8.800e+01,  8.800e+01,  8.800e+01,\n        1.300e+01,  1.300e+01,  1.300e+01,  1.000e+01,  1.000e+01,\n        1.000e+01,  7.500e+01,  7.500e+01,  7.500e+01,  7.800e+01,\n        7.800e+01,  7.800e+01,  6.700e+01,  6.700e+01,  6.700e+01,\n       -1.100e+01, -1.100e+01, -1.100e+01, -3.000e+00, -3.000e+00,\n       -3.000e+00,  9.100e+01,  9.100e+01,  9.100e+01,  5.300e+01,\n        5.300e+01,  5.300e+01,  2.000e+01,  2.000e+01,  2.000e+01,\n        3.500e+01,  3.500e+01,  3.500e+01,  4.100e+01,  4.100e+01,\n        4.100e+01,  0.000e+00,  0.000e+00,  0.000e+00,  1.000e+00,\n        1.000e+00,  1.000e+00, -7.000e+00, -7.000e+00, -7.000e+00,\n        8.000e+00,  8.000e+00,  8.000e+00,  8.300e+01,  8.300e+01,\n        8.300e+01,  4.300e+01,  4.300e+01,  4.300e+01,  8.000e+01,\n        8.000e+01,  8.000e+01,  6.900e+01,  6.900e+01,  6.900e+01,\n        1.200e+01,  1.200e+01,  1.200e+01,  1.100e+01,  1.100e+01,\n        1.100e+01,  6.700e+01,  6.700e+01,  6.700e+01,  6.000e+00,\n        6.000e+00,  6.000e+00,  1.500e+01,  1.500e+01,  1.500e+01,\n        6.700e+01,  6.700e+01,  6.700e+01,  7.400e+01,  7.400e+01,\n        7.400e+01,  2.600e+01,  2.600e+01,  2.600e+01,  1.300e+01,\n        1.300e+01,  1.300e+01,  1.200e+01,  1.200e+01,  1.200e+01,\n       -2.500e+01, -2.500e+01, -2.500e+01, -1.000e+00, -1.000e+00,\n       -1.000e+00,  6.000e+00,  6.000e+00,  6.000e+00,  8.000e+00,\n        8.000e+00,  8.000e+00,  1.500e+01,  1.500e+01,  1.500e+01,\n        1.700e+01,  1.700e+01,  1.700e+01,  5.400e+01,  5.400e+01,\n        5.400e+01,  7.100e+01,  7.100e+01,  7.100e+01,  5.400e+01,\n        5.400e+01,  5.400e+01,  7.900e+01,  7.900e+01,  7.900e+01,\n        1.080e+02,  1.080e+02,  1.080e+02,  7.900e+01,  7.900e+01,\n        7.900e+01,  4.000e+01,  4.000e+01,  4.000e+01,  8.000e+01,\n        8.000e+01,  8.000e+01,  2.820e+02,  2.820e+02,  2.820e+02,\n        7.980e+02,  7.980e+02,  7.980e+02,  1.006e+03,  1.006e+03,\n        1.006e+03,  2.510e+02,  2.510e+02,  2.510e+02,  1.820e+02,\n        1.820e+02,  1.820e+02,  7.380e+02,  7.380e+02,  7.380e+02,\n        6.010e+02,  6.010e+02,  6.010e+02,  3.530e+02,  3.530e+02,\n        3.530e+02,  4.130e+02,  4.130e+02,  4.130e+02,  3.900e+02,\n        3.900e+02,  3.900e+02,  3.450e+02,  3.450e+02,  3.450e+02,\n        2.400e+02,  2.400e+02,  2.400e+02,  7.000e+01,  7.000e+01,\n        7.000e+01,  1.910e+02,  1.910e+02,  1.910e+02,  3.050e+02,\n        3.050e+02,  3.050e+02,  3.730e+02,  3.730e+02,  3.730e+02,\n        3.420e+02,  3.420e+02,  3.420e+02,  3.350e+02,  3.350e+02,\n        3.350e+02,  2.860e+02,  2.860e+02,  2.860e+02,  2.040e+02,\n        2.040e+02,  2.040e+02,  1.000e+02,  1.000e+02,  1.000e+02,\n        1.520e+02,  1.520e+02,  1.520e+02,  2.720e+02,  2.720e+02,\n        2.720e+02,  3.620e+02,  3.620e+02,  3.620e+02,  2.050e+02,\n        2.050e+02,  2.050e+02,  3.320e+02,  3.320e+02,  3.320e+02,\n        2.540e+02,  2.540e+02,  2.540e+02,  1.220e+02,  1.220e+02,\n        1.220e+02,  7.400e+01,  7.400e+01,  7.400e+01,  2.920e+02,\n        2.920e+02,  2.920e+02,  2.780e+02,  2.780e+02,  2.780e+02,\n        1.890e+02,  1.890e+02,  1.890e+02,  2.520e+02,  2.520e+02,\n        2.520e+02,  2.190e+02,  2.190e+02,  2.190e+02, -1.700e+01,\n       -1.700e+01, -1.700e+01,  1.010e+02,  1.010e+02,  1.010e+02,\n        3.300e+02,  3.300e+02,  3.300e+02,  3.090e+02,  3.090e+02,\n        3.090e+02,  1.160e+02,  1.160e+02,  1.160e+02,  8.400e+01,\n        8.400e+01,  8.400e+01,  2.500e+01,  2.500e+01,  2.500e+01,\n       -1.360e+02, -1.360e+02, -1.360e+02, -2.100e+01, -2.100e+01,\n       -2.100e+01,  1.720e+02,  1.720e+02,  1.720e+02,  4.860e+02,\n        4.860e+02,  4.860e+02,  1.740e+02,  1.740e+02,  1.740e+02,\n        2.140e+02,  2.140e+02,  2.140e+02,  2.190e+02,  2.190e+02,\n        2.190e+02,  1.520e+02,  1.520e+02,  1.520e+02,  3.680e+02,\n        3.680e+02,  3.680e+02,  4.310e+02,  4.310e+02,  4.310e+02])"
     },
     "execution_count": 7,
     "metadata": {},
     "output_type": "execute_result"
    }
   ],
   "source": [
    "img3d[:, 250, 250]"
   ],
   "metadata": {
    "collapsed": false,
    "pycharm": {
     "name": "#%%\n"
    }
   }
  },
  {
   "cell_type": "code",
   "execution_count": 8,
   "outputs": [
    {
     "data": {
      "text/plain": "2125.0"
     },
     "execution_count": 8,
     "metadata": {},
     "output_type": "execute_result"
    }
   ],
   "source": [
    "img3d[150, :, :].max()"
   ],
   "metadata": {
    "collapsed": false,
    "pycharm": {
     "name": "#%%\n"
    }
   }
  },
  {
   "cell_type": "code",
   "execution_count": 9,
   "outputs": [
    {
     "data": {
      "text/plain": "-1024.0"
     },
     "execution_count": 9,
     "metadata": {},
     "output_type": "execute_result"
    }
   ],
   "source": [
    "img3d[150, :, :].min()"
   ],
   "metadata": {
    "collapsed": false,
    "pycharm": {
     "name": "#%%\n"
    }
   }
  },
  {
   "cell_type": "markdown",
   "source": [
    "Normalization"
   ],
   "metadata": {
    "collapsed": false,
    "pycharm": {
     "name": "#%% md\n"
    }
   }
  },
  {
   "cell_type": "code",
   "execution_count": 10,
   "outputs": [],
   "source": [
    "img3d = img3d / 2048"
   ],
   "metadata": {
    "collapsed": false,
    "pycharm": {
     "name": "#%%\n"
    }
   }
  },
  {
   "cell_type": "code",
   "execution_count": 11,
   "outputs": [
    {
     "data": {
      "text/plain": "torch.Size([1, 585, 512, 512])"
     },
     "execution_count": 11,
     "metadata": {},
     "output_type": "execute_result"
    }
   ],
   "source": [
    "input = torch.tensor(img3d, dtype=torch.float).unsqueeze(0)\n",
    "input.shape # C, D, H, W"
   ],
   "metadata": {
    "collapsed": false,
    "pycharm": {
     "name": "#%%\n"
    }
   }
  }
 ],
 "metadata": {
  "kernelspec": {
   "display_name": "Python 3",
   "language": "python",
   "name": "python3"
  },
  "language_info": {
   "codemirror_mode": {
    "name": "ipython",
    "version": 2
   },
   "file_extension": ".py",
   "mimetype": "text/x-python",
   "name": "python",
   "nbconvert_exporter": "python",
   "pygments_lexer": "ipython2",
   "version": "2.7.6"
  }
 },
 "nbformat": 4,
 "nbformat_minor": 0
}